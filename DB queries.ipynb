{
 "cells": [
  {
   "cell_type": "code",
   "execution_count": null,
   "id": "be70c5b5",
   "metadata": {},
   "outputs": [],
   "source": [
    "import sqlite3 as sql\n",
    "import regex as re\n",
    "import matplotlib.pyplot as plt\n",
    "import pandas as pd\n",
    "import datetime as dt\n",
    "import json"
   ]
  },
  {
   "cell_type": "code",
   "execution_count": null,
   "id": "e67d17d7",
   "metadata": {
    "scrolled": true
   },
   "outputs": [],
   "source": [
    "conn = sql.connect(r'C:\\Users\\ajk51\\Desktop\\Lichess Analysis\\Lichess-Data-Analysis\\lichess game data.db')\n",
    "cur = conn.cursor()"
   ]
  },
  {
   "cell_type": "markdown",
   "id": "a7379224",
   "metadata": {},
   "source": [
    "# Exploratory Analysis"
   ]
  },
  {
   "cell_type": "code",
   "execution_count": null,
   "id": "3b4df4c3",
   "metadata": {},
   "outputs": [],
   "source": [
    "match_types = dict(cur.execute('''SELECT COUNT (game_id), game_type \n",
    "                    FROM games_metadata\n",
    "                    GROUP BY game_type''').fetchall())\n"
   ]
  },
  {
   "cell_type": "code",
   "execution_count": null,
   "id": "1f10b814",
   "metadata": {},
   "outputs": [],
   "source": [
    "labels = []\n",
    "for num in sorted(match_types.keys(), reverse=True):\n",
    "    labels.append(match_types[num])\n",
    "\n",
    "values = list(map(lambda x : x/1000, sorted(match_types.keys(), reverse=True)))\n",
    "\n",
    "plt.figure(figsize=(20,10))\n",
    "plt.bar(x=labels, height= values)\n",
    "\n",
    "plt.xlabel('Game Type', fontsize=25, labelpad=30)\n",
    "plt.xticks(fontsize=10)\n",
    "\n",
    "plt.ylabel('Games, in thousands', fontsize=25, labelpad=30)\n",
    "plt.yticks(fontsize=13)\n",
    "plt.ticklabel_format(style='plain', axis='y')\n",
    "plt.title('Distribution of Game Types', fontsize=30, pad=20)\n",
    "\n"
   ]
  },
  {
   "cell_type": "code",
   "execution_count": null,
   "id": "e27fbb77",
   "metadata": {},
   "outputs": [],
   "source": [
    "win_breakdown = dict(cur.execute('''SELECT COUNT (game_id), winner \n",
    "                    FROM games_metadata\n",
    "                    GROUP BY winner''').fetchall())\n"
   ]
  },
  {
   "cell_type": "code",
   "execution_count": null,
   "id": "004e6126",
   "metadata": {
    "scrolled": false
   },
   "outputs": [],
   "source": [
    "win_values = list(map(lambda x: x/1000, win_breakdown.keys()))\n",
    "\n",
    "win_labels = win_breakdown.values()\n",
    "\n",
    "plt.figure(figsize=(10,10))\n",
    "plt.bar(x=win_labels, height= win_values)\n",
    "\n",
    "plt.xticks(fontsize=20)\n",
    "\n",
    "plt.yticks(fontsize=13)\n",
    "plt.ylabel('Games, in Thousands', fontsize=25, labelpad=30)\n",
    "\n",
    "plt.ticklabel_format(style='plain', axis='y')\n",
    "plt.title('Who Wins', fontsize=30, pad=20)\n"
   ]
  },
  {
   "cell_type": "code",
   "execution_count": null,
   "id": "bcbb1fb4",
   "metadata": {},
   "outputs": [],
   "source": [
    "win_type = dict(cur.execute('''SELECT COUNT (game_id), game_end \n",
    "                    FROM games_metadata\n",
    "                    GROUP BY game_end''').fetchall())"
   ]
  },
  {
   "cell_type": "code",
   "execution_count": null,
   "id": "1a226011",
   "metadata": {
    "scrolled": false
   },
   "outputs": [],
   "source": [
    "win_types_values = list(map(lambda x: x/1000, sorted(win_type.keys(), reverse=True)))\n",
    "\n",
    "win_types_labels = []\n",
    "for num in sorted(win_type.keys(), reverse=True):\n",
    "    win_types_labels.append(win_type[num])\n",
    "\n",
    "plt.figure(figsize=(20,10))\n",
    "plt.bar(x=win_types_labels, height= win_types_values)\n",
    "\n",
    "plt.xticks(fontsize=20)\n",
    "\n",
    "plt.yticks(fontsize=13)\n",
    "plt.ylabel('Games, in Thousands', fontsize=25, labelpad=30)\n",
    "\n",
    "plt.ticklabel_format(style='plain', axis='y')\n",
    "plt.title('How Games End', fontsize=30, pad=20)\n",
    "\n"
   ]
  },
  {
   "cell_type": "code",
   "execution_count": null,
   "id": "34efa623",
   "metadata": {},
   "outputs": [],
   "source": [
    "black_elos = dict((cur.execute('''SELECT ROUND(black_elo/10, 1)*10    AS bucket,\n",
    "       COUNT(game_id)                    AS COUNT\n",
    "FROM   games_metadata\n",
    "GROUP  BY bucket''')).fetchall())"
   ]
  },
  {
   "cell_type": "code",
   "execution_count": null,
   "id": "c22a4b71",
   "metadata": {
    "scrolled": false
   },
   "outputs": [],
   "source": [
    "black_elos_values = list(black_elos.values())\n",
    "\n",
    "black_elos_labels = list(black_elos.keys())\n",
    "\n",
    "plt.figure(figsize=(20,10))\n",
    "plt.bar(x=black_elos_labels, height= black_elos_values, width=15)\n",
    "\n",
    "plt.xticks(fontsize=20)\n",
    "\n",
    "plt.yticks(fontsize=13)\n",
    "plt.ylabel('Player Count', fontsize=25, labelpad=30)\n",
    "\n",
    "plt.ticklabel_format(style='plain', axis='y')\n",
    "plt.title('Black Player Ratings', fontsize=30, pad=20)\n"
   ]
  },
  {
   "cell_type": "code",
   "execution_count": null,
   "id": "7b47fbec",
   "metadata": {},
   "outputs": [],
   "source": [
    "white_elos = dict((cur.execute('''SELECT ROUND(white_elo/10, 1)*10    AS bucket,\n",
    "       COUNT(game_id)                    AS COUNT\n",
    "FROM   games_metadata\n",
    "GROUP  BY bucket''')).fetchall())"
   ]
  },
  {
   "cell_type": "code",
   "execution_count": null,
   "id": "779039cf",
   "metadata": {},
   "outputs": [],
   "source": [
    "white_elos_values = list(white_elos.values())\n",
    "\n",
    "white_elos_labels = list(white_elos.keys())\n",
    "\n",
    "plt.figure(figsize=(20,10))\n",
    "plt.bar(x=white_elos_labels, height= white_elos_values, width=15)\n",
    "\n",
    "plt.xticks(fontsize=20)\n",
    "\n",
    "plt.yticks(fontsize=13)\n",
    "plt.ylabel('Player Count', fontsize=25, labelpad=30)\n",
    "\n",
    "plt.ticklabel_format(style='plain', axis='y')\n",
    "plt.title('White Player Ratings', fontsize=30, pad=20)\n"
   ]
  },
  {
   "cell_type": "code",
   "execution_count": null,
   "id": "4cec2df3",
   "metadata": {},
   "outputs": [],
   "source": [
    "moves = dict((cur.execute('''SELECT number_of_moves, count(game_id)\n",
    "FROM games_metadata\n",
    "GROUP BY number_of_moves''')).fetchall())"
   ]
  },
  {
   "cell_type": "code",
   "execution_count": null,
   "id": "b18f7f13",
   "metadata": {
    "scrolled": false
   },
   "outputs": [],
   "source": [
    "moves_values = list(moves.values())\n",
    "\n",
    "moves_labels = list(moves.keys())\n",
    "\n",
    "plt.figure(figsize=(20,10))\n",
    "plt.bar(x=moves_labels, height= moves_values, width=.5)\n",
    "\n",
    "plt.xticks(fontsize=20)\n",
    "plt.xlim(left=0, right=300)\n",
    "\n",
    "plt.yticks(fontsize=13)\n",
    "plt.ylabel('# Of Games', fontsize=25, labelpad=30)\n",
    "\n",
    "plt.ticklabel_format(style='plain', axis='y')\n",
    "plt.title('Move Count', fontsize=30, pad=20)\n"
   ]
  },
  {
   "cell_type": "code",
   "execution_count": null,
   "id": "8f5e4fd0",
   "metadata": {},
   "outputs": [],
   "source": [
    "rating_diff = dict(cur.execute('''SELECT ROUND((white_elo - black_elo)/2)*2    AS bucket,\n",
    "       COUNT(game_id)                    AS COUNT\n",
    "FROM   games_metadata\n",
    "GROUP  BY bucket;''').fetchall())"
   ]
  },
  {
   "cell_type": "code",
   "execution_count": null,
   "id": "970c94c7",
   "metadata": {},
   "outputs": [],
   "source": [
    "diff_values = list(rating_diff.values())\n",
    "\n",
    "diff_labels = list(rating_diff.keys())\n",
    "\n",
    "plt.figure(figsize=(20,10))\n",
    "plt.bar(x=diff_labels, height= diff_values, width=2)\n",
    "\n",
    "plt.xticks(fontsize=20)\n",
    "plt.xlim(left=-1000, right=1000)\n",
    "\n",
    "plt.yticks(fontsize=13)\n",
    "plt.ylabel('# Of Games', fontsize=25, labelpad=30)\n",
    "\n",
    "plt.ticklabel_format(style='plain', axis='y')\n",
    "plt.title('ELO Difference', fontsize=30, pad=20)"
   ]
  },
  {
   "cell_type": "code",
   "execution_count": null,
   "id": "3a28acb9",
   "metadata": {},
   "outputs": [],
   "source": [
    "diff_dive = dict(cur.execute('''SELECT ROUND((white_elo/10)*10) AS bucket,\n",
    "       COUNT(game_id)                    AS COUNT\n",
    "FROM   games_metadata\n",
    "WHERE white_elo = black_elo\n",
    "GROUP  BY bucket;''').fetchall())"
   ]
  },
  {
   "cell_type": "code",
   "execution_count": null,
   "id": "50c39456",
   "metadata": {},
   "outputs": [],
   "source": [
    "dd_values = list(diff_dive.values())\n",
    "\n",
    "dd_labels = list(diff_dive.keys())\n",
    "\n",
    "plt.figure(figsize=(20,10))\n",
    "plt.bar(x=dd_labels, height= dd_values, width=10)\n",
    "\n",
    "plt.xticks(fontsize=20)\n",
    "#plt.xlim(left=0, right=300)\n",
    "\n",
    "plt.yticks(fontsize=13)\n",
    "plt.ylabel('# Of Games', fontsize=25, labelpad=30)\n",
    "\n",
    "plt.ticklabel_format(style='plain', axis='y')\n",
    "plt.title('Same ELO Matches', fontsize=30, pad=20)"
   ]
  },
  {
   "cell_type": "code",
   "execution_count": null,
   "id": "b4df3f09",
   "metadata": {},
   "outputs": [],
   "source": [
    "moves_vs_end = cur.execute('''SELECT \n",
    "        number_of_moves, \n",
    "        count(CASE WHEN game_end='Normal' THEN 1 END) as Normal_end,\n",
    "        count(CASE WHEN game_end='Time forfeit' THEN 1 END) as Time_end\n",
    "    FROM games_metadata\n",
    "    GROUP BY number_of_moves\n",
    "    ;''').fetchall()"
   ]
  },
  {
   "cell_type": "code",
   "execution_count": null,
   "id": "a5759942",
   "metadata": {
    "scrolled": true
   },
   "outputs": [],
   "source": [
    "mve_df = pd.DataFrame(moves_vs_end, columns=['Moves', 'Normal End', 'Time Forfeit'])\n",
    "\n",
    "mve_df.plot(x='Moves', figsize=(10,10), title='Length of Game, by End Type', xlim=(0,200))"
   ]
  },
  {
   "cell_type": "markdown",
   "id": "662e62d2",
   "metadata": {},
   "source": [
    "# Piece by Piece Analysis"
   ]
  },
  {
   "cell_type": "code",
   "execution_count": null,
   "id": "6ffabe2a",
   "metadata": {},
   "outputs": [],
   "source": [
    "def generate_pieces():\n",
    "    '''Defines pieces with unique letter/number ID. To be chained with populate_board and make_move_dict'''\n",
    "    \n",
    "    nums = []\n",
    "    for x in range(1,17):\n",
    "        nums.append(str(x))\n",
    "\n",
    "    pawns = []\n",
    "    rooks  = []\n",
    "    knights = []\n",
    "    bishops = []\n",
    "    kings = []\n",
    "    queens = []\n",
    "\n",
    "    for x in range(16):\n",
    "        pawns.append('p'+nums[x])\n",
    "\n",
    "    for x in range(4):\n",
    "        rooks.append('r'+nums[x])\n",
    "        knights.append('n'+nums[x])\n",
    "        bishops.append('s'+nums[x])\n",
    "\n",
    "    for x in range(2):\n",
    "        kings.append('k'+nums[x])\n",
    "        queens.append('q'+nums[x])\n",
    "    \n",
    "    return pawns, rooks, knights, bishops, kings, queens"
   ]
  },
  {
   "cell_type": "code",
   "execution_count": null,
   "id": "6b18323a",
   "metadata": {},
   "outputs": [],
   "source": [
    "pawns, rooks, knights, bishops, kings, queens = generate_pieces()"
   ]
  },
  {
   "cell_type": "code",
   "execution_count": null,
   "id": "61b6b3aa",
   "metadata": {},
   "outputs": [],
   "source": [
    "query_list = pawns + rooks + knights + bishops + kings + queens\n",
    "backrow_query = rooks + knights + bishops + kings + queens\n",
    "\n",
    "w_backrow = rooks[0:2] + knights[0:2] + bishops[0:2] + [queens[0]] + [kings[0]]\n",
    "b_backrow = rooks[2:] + knights[2:] + bishops[2:] + [kings[1]] + [queens[1]]"
   ]
  },
  {
   "cell_type": "code",
   "execution_count": null,
   "id": "c09385c0",
   "metadata": {},
   "outputs": [],
   "source": [
    "#Dict of dicts to track piece captures\n",
    "#Top level keys are used to accumulate captures of each piece\n",
    "#Second level keys will hold counts of how many times the level 2 piece capped the level 1 piece\n",
    "\n",
    "cap_dict = dict.fromkeys(query_list)\n",
    "for x in pawns[:8] + w_backrow:\n",
    "    cap_dict[x] = dict.fromkeys(pawns[8:] + b_backrow)\n",
    "for x in (pawns[8:] + b_backrow):\n",
    "    cap_dict[x] = dict.fromkeys(pawns[:8] + w_backrow)"
   ]
  },
  {
   "cell_type": "code",
   "execution_count": null,
   "id": "db8105c4",
   "metadata": {},
   "outputs": [],
   "source": [
    "#Piece capping query loop\n",
    "\n",
    "for capped_piece in cap_dict.keys():\n",
    "    print(F'{capped_piece} Batch @ ', dt.datetime.now())\n",
    "    for capping_piece in cap_dict[capped_piece].keys():\n",
    "        cap_dict[capped_piece][capping_piece] = (len(cur.execute(F'''SELECT {capped_piece}\n",
    "        FROM(\t\n",
    "            SELECT moves_by_piece.{capped_piece}\n",
    "            FROM moves_by_piece\n",
    "            JOIN games_metadata\n",
    "            ON moves_by_piece.game_id = games_metadata.game_id\n",
    "            WHERE games_metadata.number_of_moves >2\n",
    "            )\n",
    "        WHERE {capped_piece} LIKE '%{capping_piece}';''')\n",
    "                                                     .fetchall()\n",
    "                                                    )\n",
    "                                                    )"
   ]
  },
  {
   "cell_type": "code",
   "execution_count": null,
   "id": "3a1f8e42",
   "metadata": {
    "scrolled": false
   },
   "outputs": [],
   "source": [
    "save = json.dumps(cap_dict)\n",
    "\n",
    "with open('query results\\cap_dict.txt', 'w') as new_file:\n",
    "    new_file.write(save)"
   ]
  },
  {
   "cell_type": "code",
   "execution_count": null,
   "id": "35e38dcc",
   "metadata": {},
   "outputs": [],
   "source": [
    "cap_dict"
   ]
  }
 ],
 "metadata": {
  "kernelspec": {
   "display_name": "Python 3",
   "language": "python",
   "name": "python3"
  },
  "language_info": {
   "codemirror_mode": {
    "name": "ipython",
    "version": 3
   },
   "file_extension": ".py",
   "mimetype": "text/x-python",
   "name": "python",
   "nbconvert_exporter": "python",
   "pygments_lexer": "ipython3",
   "version": "3.8.8"
  }
 },
 "nbformat": 4,
 "nbformat_minor": 5
}
