{
 "cells": [
  {
   "cell_type": "code",
   "execution_count": 1,
   "id": "3c9c2e26",
   "metadata": {},
   "outputs": [],
   "source": [
    "import json\n",
    "import pandas as pd\n",
    "import plotly.graph_objects as go\n",
    "from plotly.subplots import make_subplots\n",
    "import plotly\n",
    "import numpy as np"
   ]
  },
  {
   "cell_type": "code",
   "execution_count": 2,
   "id": "995007ac",
   "metadata": {},
   "outputs": [],
   "source": [
    "def generate_pieces():\n",
    "    '''Defines pieces with unique letter/number ID. To be chained with populate_board and make_move_dict'''\n",
    "    \n",
    "    nums = []\n",
    "    for x in range(1,17):\n",
    "        nums.append(str(x))\n",
    "\n",
    "    pawns = []\n",
    "    rooks  = []\n",
    "    knights = []\n",
    "    bishops = []\n",
    "    kings = []\n",
    "    queens = []\n",
    "\n",
    "    for x in range(16):\n",
    "        pawns.append('p'+nums[x])\n",
    "\n",
    "    for x in range(4):\n",
    "        rooks.append('r'+nums[x])\n",
    "        knights.append('n'+nums[x])\n",
    "        bishops.append('s'+nums[x])\n",
    "\n",
    "    for x in range(2):\n",
    "        kings.append('k'+nums[x])\n",
    "        queens.append('q'+nums[x])\n",
    "    \n",
    "    return pawns, rooks, knights, bishops, kings, queens\n",
    "    "
   ]
  },
  {
   "cell_type": "code",
   "execution_count": 3,
   "id": "70d40f40",
   "metadata": {},
   "outputs": [],
   "source": [
    "def generate_piece_key():\n",
    "    '''For df replacement'''\n",
    "    \n",
    "    pawns, rooks, knights, bishops, kings, queens = generate_pieces()\n",
    "    piece_list = pawns + rooks + knights + bishops + kings + queens + ['Pawns'] + ['Rooks'] + ['Knights'] + ['Bishops'] + ['All Captures']\n",
    "    piece_key = dict(zip(piece_list, range(37)))\n",
    "    \n",
    "    return piece_key"
   ]
  },
  {
   "cell_type": "code",
   "execution_count": 4,
   "id": "ce735388",
   "metadata": {},
   "outputs": [],
   "source": [
    "def piece_labels():\n",
    "    '''For use with Sankey plot'''\n",
    "    \n",
    "    labels = [0] * 36\n",
    "    x = ['H', 'G', 'F', 'E', 'D', 'C', 'B', 'A']\n",
    "    \n",
    "    for i in range(8,16):\n",
    "        labels[i] = x[i-8] + ' Pawn'\n",
    "\n",
    "    x.reverse()\n",
    "\n",
    "    for i in range(8):\n",
    "        labels[i] = x[i] + ' Pawn'\n",
    "\n",
    "    labels[16:20] = ['A Rook', 'H Rook', 'H Rook', 'A Rook']\n",
    "    labels[20:24] = ['B Knight', 'G Knight', 'G Knight', 'B Knight']\n",
    "    labels[24:28] = ['Dark Bishop', 'Light Bishop', 'Light Bishop', 'Dark Bishop']\n",
    "    labels[28:30] = ['King', 'King']\n",
    "    labels[30:32] = ['Queen', 'Queen']\n",
    "    labels[32:37] = ['Pawns','Rooks','Knights','Bishops','All Captures']\n",
    "    \n",
    "    return tuple(labels)\n"
   ]
  },
  {
   "cell_type": "code",
   "execution_count": 5,
   "id": "7a427046",
   "metadata": {},
   "outputs": [],
   "source": [
    "def df_prep(df, filter_list):\n",
    "    '''Basic filtering and cleaning function to prep for Sankey and Heatmap figure generation. Returns df'''\n",
    "    \n",
    "    stack_df = df.filter(items=filter_list, axis=0)\n",
    "    stack_df = pd.DataFrame(stack_df.dropna(axis=1).stack())\n",
    "    \n",
    "    stack_df.reset_index(inplace=True)\n",
    "    \n",
    "    cols = dict(zip(['level_0', 'level_1', 0],['Source', 'Target', 'Value']))\n",
    "    stack_df.rename(columns = cols, inplace=True)\n",
    "    \n",
    "    return stack_df\n"
   ]
  },
  {
   "cell_type": "code",
   "execution_count": 6,
   "id": "c6ee3016",
   "metadata": {},
   "outputs": [],
   "source": [
    "def generate_sankey_plot(df, filter_list):\n",
    "    '''Takes in DataFrame generated from capture queries, filters by color then cleans & preps for Sankey visuals.\n",
    "    Returns Plotly object.'''\n",
    "    \n",
    "    \n",
    "    labels = piece_labels()\n",
    "    piece_key = generate_piece_key()\n",
    "    \n",
    "    sankey_df = df_prep(df, filter_list)\n",
    "    \n",
    "    sankey_df.replace(to_replace=piece_key, inplace=True)\n",
    "    \n",
    "    sankey_df = pd.DataFrame(sankey_df.groupby('Source').sum())\n",
    "    sankey_df.reset_index(inplace = True)\n",
    "    \n",
    "    new_cols = dict(zip(sankey_df.columns, ['Target', 'Source', 'Value']))\n",
    "    sankey_df.rename(columns = new_cols, inplace=True)\n",
    "    \n",
    "    sankey_df.loc[sankey_df['Target'] < 16, 'Source'] = piece_key['Pawns']\n",
    "    sankey_df.loc[(sankey_df['Target'] < 20) & (sankey_df['Target'] > 15), 'Source'] = piece_key['Rooks']\n",
    "    sankey_df.loc[(sankey_df['Target'] < 24) & (sankey_df['Target'] > 19), 'Source'] = piece_key['Knights']\n",
    "    sankey_df.loc[(sankey_df['Target'] < 28) & (sankey_df['Target'] > 23), 'Source'] = piece_key['Bishops']\n",
    "    sankey_df.loc[(sankey_df['Target'] < 32) & (sankey_df['Target'] > 27), 'Source'] = piece_key['All Captures']\n",
    "    \n",
    "    for source in range(32, 36):\n",
    "        total = sankey_df[sankey_df['Source'] == source]['Value'].sum()\n",
    "        record = {'Target':source, 'Source':36, 'Value':total}\n",
    "        sankey_df = sankey_df.append(record, ignore_index=True)\n",
    "        \n",
    "    source = list(sankey_df['Source'])\n",
    "    target = list(sankey_df['Target'])\n",
    "    value = list(sankey_df['Value'])\n",
    "    \n",
    "    link = (dict(source=source, \n",
    "             target=target, \n",
    "             value=value))\n",
    "    \n",
    "    node = dict(label = labels)\n",
    "    data = go.Sankey(link=link, node=node)\n",
    "    #fig = go.Figure(data)\n",
    "    \n",
    "    return data"
   ]
  },
  {
   "cell_type": "code",
   "execution_count": 7,
   "id": "36c26e31",
   "metadata": {},
   "outputs": [],
   "source": [
    "def generate_captures_heatmap(df, filter_list):\n",
    "    '''Takes in DataFrame generated from capture queries, filters by color then cleans & preps for Sankey visuals.\n",
    "    Returns Plotly object.'''\n",
    "    \n",
    "    pawns, rooks, knights, bishops, kings, queens = generate_pieces()\n",
    "    \n",
    "    x= ['A', 'B', 'C', 'D', 'E', 'F', 'G', 'H']\n",
    "    y = ['1', '2', '3', '4', '5', '6', '7', '8']\n",
    "    \n",
    "    if 'k1' in filter_list:\n",
    "        pieces = ([rooks[0]] + [knights[0]] + [bishops[0]] + [queens[0]] +\n",
    "                  [kings[0]] + [bishops[1]] + [knights[1]] + [rooks[1]] + pawns[:8]\n",
    "                 )\n",
    "    if 'k2' in filter_list:\n",
    "        pieces = ([rooks[2]] + [knights[2]] + [bishops[2]] + [kings[1]] + \n",
    "                  [queens[1]] + [bishops[3]] + [knights[3]] + [rooks[3]] + pawns[8:]\n",
    "                 )\n",
    "        x.reverse()\n",
    "        y.reverse()\n",
    "    \n",
    "    \n",
    "    heatmap = df_prep(df, filter_list)\n",
    "    heatmap = pd.DataFrame(heatmap.groupby('Source').sum())\n",
    "    \n",
    "    \n",
    "    hm_data = []\n",
    "    for p in pieces:\n",
    "        hm_data.append(heatmap['Value'][p])\n",
    "    hm_data = [hm_data[:8]]+[hm_data[8:]]\n",
    "    hm_data += [[1]*8]*6\n",
    "\n",
    "    fig = go.Heatmap(z=hm_data, x=x, y=y, xgap=1, ygap=1)\n",
    "\n",
    "    return fig"
   ]
  },
  {
   "cell_type": "code",
   "execution_count": 8,
   "id": "f8582103",
   "metadata": {},
   "outputs": [],
   "source": [
    "def generate_death_heatmap(df, filter_list):\n",
    "    '''Generates piece by piece heatmaps of where pieces go to die.'''\n",
    "    \n",
    "    pawns, rooks, knights, bishops, kings, queens = generate_pieces()\n",
    "    \n",
    "    x= ['A', 'B', 'C', 'D', 'E', 'F', 'G', 'H']\n",
    "    y = ['1', '2', '3', '4', '5', '6', '7', '8']\n",
    "    \n",
    "    if 'k1' in filter_list:\n",
    "        pieces = (pawns[:8] + [rooks[0]] + [knights[0]] + [bishops[0]] + [queens[0]] +\n",
    "                  [kings[0]] + [bishops[1]] + [knights[1]] + [rooks[1]]\n",
    "                 )\n",
    "    if 'k2' in filter_list:\n",
    "        pieces = (pawns[8:] + [rooks[2]] + [knights[2]] + [bishops[2]] + [kings[1]] + \n",
    "                  [queens[1]] + [bishops[3]] + [knights[3]] + [rooks[3]]\n",
    "                 )\n",
    "        x.reverse()\n",
    "        y.reverse()\n",
    "        df = df.reindex(index=df.index[::-1])\n",
    "    \n",
    "    figures = {}\n",
    "    for piece in pieces:\n",
    "        caps = df[piece].sum()\n",
    "        array = np.array(df[piece]).reshape((8,8))\n",
    "        data = np.divide(array, caps, where=array!=0)\n",
    "        if 'k' in piece:\n",
    "            data = np.zeros((8,8))\n",
    "            figures[piece] = go.Heatmap(z=data, x=x, y=y, xgap=1, ygap=1, colorscale='Blues', showscale=False, zmin=0, zmax=1)\n",
    "        else:    \n",
    "            figures[piece] = go.Heatmap(z=data, x=x, y=y, xgap=1, ygap=1, colorscale='Blues', showscale=False)\n",
    "    \n",
    "    row1 = []\n",
    "    for pawn in pieces[:8]:\n",
    "        row1.append(figures[pawn])\n",
    "        \n",
    "    row2 = []\n",
    "    for br_piece in pieces[8:]:\n",
    "        row2.append(figures[br_piece])\n",
    "    \n",
    "    fig = make_subplots(rows=2, cols = 8)\n",
    "    \n",
    "    fig.add_traces(row1, rows=1, cols=list(range(1,9)))\n",
    "    fig.add_traces(row2, rows=2, cols=list(range(1,9)))\n",
    "    fig.update_layout(height=800, width = 2400, \n",
    "                      paper_bgcolor='#494952',\n",
    "                      margin=dict(t=150),\n",
    "                      title=dict(\n",
    "                        text='Death of a Chess Piece', \n",
    "                        font=dict(\n",
    "                            family='Droid Sans', \n",
    "                            size=36, \n",
    "                            color='white'), \n",
    "                        x=0.5, y=0.95),\n",
    "                      font = dict(\n",
    "                          family = 'Droid Sans',\n",
    "                          color='white'\n",
    "                      )\n",
    "                     )\n",
    "    \n",
    "    return fig"
   ]
  },
  {
   "cell_type": "code",
   "execution_count": 9,
   "id": "6c7e7e7a",
   "metadata": {},
   "outputs": [],
   "source": [
    "def add_piece_img(sub_plot, piece_color='white'):\n",
    "    '''Adds chess piece images to subplot layout. Specifically formatted to 2400 x 800 size plot'''\n",
    "    \n",
    "    w_pawn_img = 'https://upload.wikimedia.org/wikipedia/commons/0/04/Chess_plt60.png'\n",
    "    w_rook_img = 'https://upload.wikimedia.org/wikipedia/commons/5/5c/Chess_rlt60.png'\n",
    "    w_queen_img = 'https://upload.wikimedia.org/wikipedia/commons/4/49/Chess_qlt60.png'\n",
    "    w_knight_img = 'https://upload.wikimedia.org/wikipedia/commons/2/28/Chess_nlt60.png'\n",
    "    w_bishop_img = 'https://upload.wikimedia.org/wikipedia/commons/9/9b/Chess_blt60.png'\n",
    "    w_king_img = 'https://upload.wikimedia.org/wikipedia/commons/3/3b/Chess_klt60.png'\n",
    "\n",
    "    b_pawn_img = 'https://upload.wikimedia.org/wikipedia/commons/c/cd/Chess_pdt60.png'\n",
    "    b_rook_img = 'https://upload.wikimedia.org/wikipedia/commons/a/a0/Chess_rdt60.png'\n",
    "    b_queen_img = 'https://upload.wikimedia.org/wikipedia/commons/a/af/Chess_qdt60.png'\n",
    "    b_knight_img = 'https://upload.wikimedia.org/wikipedia/commons/f/f1/Chess_ndt60.png'\n",
    "    b_bishop_img = 'https://upload.wikimedia.org/wikipedia/commons/8/81/Chess_bdt60.png'\n",
    "    b_king_img = 'https://upload.wikimedia.org/wikipedia/commons/e/e3/Chess_kdt60.png'\n",
    "    \n",
    "    piece_list=[]\n",
    "    \n",
    "    if piece_color=='white':\n",
    "        piece_list = [w_rook_img, w_knight_img, w_bishop_img, w_queen_img, w_king_img, w_bishop_img, w_knight_img, w_rook_img, w_pawn_img]\n",
    "        \n",
    "    if piece_color=='black':\n",
    "        piece_list = [b_rook_img, b_knight_img, b_bishop_img, b_king_img, b_queen_img, b_bishop_img, b_knight_img, b_rook_img, b_pawn_img]\n",
    "    \n",
    "    for num in range(0,8):\n",
    "        sub_plot.add_layout_image(\n",
    "                source=piece_list[-1],\n",
    "                xref=\"paper\", yref=\"paper\",\n",
    "                x=0.0516+(num*0.128), y=1.03,\n",
    "                sizex=0.06, sizey=0.06,\n",
    "                xanchor='center', yanchor='middle'\n",
    "            )\n",
    "\n",
    "    for num in range(0,8):\n",
    "        sub_plot.add_layout_image(\n",
    "            source = piece_list[num],\n",
    "            xref='paper', yref='paper',\n",
    "            x=0.0516+(num*0.128), y=0.457,\n",
    "            sizex=0.06, sizey=0.06,\n",
    "            xanchor='center', yanchor='middle'\n",
    "            )\n",
    "        \n",
    "    return None"
   ]
  },
  {
   "cell_type": "code",
   "execution_count": 10,
   "id": "36f1b5de",
   "metadata": {},
   "outputs": [],
   "source": [
    "pawns, rooks, knights, bishops, kings, queens = generate_pieces()\n",
    "\n",
    "w_filter = rooks[0:2] + knights[0:2] + bishops[0:2] + [queens[0]] + [kings[0]] + pawns[:8]\n",
    "b_filter = rooks[2:] + knights[2:] + bishops[2:] + [kings[1]] + [queens[1]] + pawns[8:]"
   ]
  },
  {
   "cell_type": "code",
   "execution_count": 20,
   "id": "e0b82c1f",
   "metadata": {
    "scrolled": false
   },
   "outputs": [
    {
     "data": {
      "application/vnd.plotly.v1+json": {
       "config": {
        "plotlyServerURL": "https://plot.ly"
       },
       "data": [
        {
         "colorscale": [
          [
           0,
           "rgb(103,0,31)"
          ],
          [
           0.1,
           "rgb(178,24,43)"
          ],
          [
           0.2,
           "rgb(214,96,77)"
          ],
          [
           0.3,
           "rgb(244,165,130)"
          ],
          [
           0.4,
           "rgb(253,219,199)"
          ],
          [
           0.5,
           "rgb(247,247,247)"
          ],
          [
           0.6,
           "rgb(209,229,240)"
          ],
          [
           0.7,
           "rgb(146,197,222)"
          ],
          [
           0.8,
           "rgb(67,147,195)"
          ],
          [
           0.9,
           "rgb(33,102,172)"
          ],
          [
           1,
           "rgb(5,48,97)"
          ]
         ],
         "reversescale": true,
         "type": "heatmap",
         "x": [
          "A",
          "B",
          "C",
          "D",
          "E",
          "F",
          "G",
          "H"
         ],
         "xaxis": "x",
         "xgap": 1,
         "y": [
          "1",
          "2",
          "3",
          "4",
          "5",
          "6",
          "7",
          "8"
         ],
         "yaxis": "y",
         "ygap": 1,
         "z": [
          [
           1,
           1,
           1,
           1,
           1,
           1,
           1,
           1
          ],
          [
           1,
           1,
           1,
           1,
           1,
           1,
           1,
           1
          ],
          [
           1,
           1,
           1,
           1,
           1,
           1,
           1,
           1
          ],
          [
           1,
           1,
           1,
           1,
           1,
           1,
           1,
           1
          ],
          [
           1,
           1,
           1,
           1,
           1,
           1,
           1,
           1
          ],
          [
           1,
           1,
           1,
           1,
           1,
           1,
           1,
           1
          ],
          [
           1,
           1,
           1,
           1,
           1,
           1,
           1,
           1
          ],
          [
           1,
           1,
           1,
           1,
           1,
           1,
           1,
           1
          ]
         ],
         "zmax": 1.5,
         "zmin": 0.5
        },
        {
         "colorscale": [
          [
           0,
           "rgb(103,0,31)"
          ],
          [
           0.1,
           "rgb(178,24,43)"
          ],
          [
           0.2,
           "rgb(214,96,77)"
          ],
          [
           0.3,
           "rgb(244,165,130)"
          ],
          [
           0.4,
           "rgb(253,219,199)"
          ],
          [
           0.5,
           "rgb(247,247,247)"
          ],
          [
           0.6,
           "rgb(209,229,240)"
          ],
          [
           0.7,
           "rgb(146,197,222)"
          ],
          [
           0.8,
           "rgb(67,147,195)"
          ],
          [
           0.9,
           "rgb(33,102,172)"
          ],
          [
           1,
           "rgb(5,48,97)"
          ]
         ],
         "reversescale": true,
         "type": "heatmap",
         "x": [
          "A",
          "B",
          "C",
          "D",
          "E",
          "F",
          "G",
          "H"
         ],
         "xaxis": "x2",
         "xgap": 1,
         "y": [
          "1",
          "2",
          "3",
          "4",
          "5",
          "6",
          "7",
          "8"
         ],
         "yaxis": "y2",
         "ygap": 1,
         "z": [
          [
           0.6958842820983183,
           0.9171439316014044,
           0.8542138967203761,
           1.0610059870417212,
           0.8824541515550209,
           0.8894026730719816,
           0.9474751975048457,
           0.7077548958212114
          ],
          [
           0.6318914283827296,
           0.8017636008829375,
           0.636530706097057,
           0.9815535079492566,
           0.8363070015750057,
           0.7022714144599176,
           0.8596832831101741,
           0.6037337837877493
          ],
          [
           1,
           1,
           1,
           1,
           1,
           1,
           1,
           1
          ],
          [
           1,
           1,
           1,
           1,
           1,
           1,
           1,
           1
          ],
          [
           1,
           1,
           1,
           1,
           1,
           1,
           1,
           1
          ],
          [
           1,
           1,
           1,
           1,
           1,
           1,
           1,
           1
          ],
          [
           1,
           1,
           1,
           1,
           1,
           1,
           1,
           1
          ],
          [
           1,
           1,
           1,
           1,
           1,
           1,
           1,
           1
          ]
         ],
         "zmax": 1.5,
         "zmin": 0.5
        },
        {
         "colorscale": [
          [
           0,
           "rgb(103,0,31)"
          ],
          [
           0.1,
           "rgb(178,24,43)"
          ],
          [
           0.2,
           "rgb(214,96,77)"
          ],
          [
           0.3,
           "rgb(244,165,130)"
          ],
          [
           0.4,
           "rgb(253,219,199)"
          ],
          [
           0.5,
           "rgb(247,247,247)"
          ],
          [
           0.6,
           "rgb(209,229,240)"
          ],
          [
           0.7,
           "rgb(146,197,222)"
          ],
          [
           0.8,
           "rgb(67,147,195)"
          ],
          [
           0.9,
           "rgb(33,102,172)"
          ],
          [
           1,
           "rgb(5,48,97)"
          ]
         ],
         "reversescale": true,
         "type": "heatmap",
         "x": [
          "A",
          "B",
          "C",
          "D",
          "E",
          "F",
          "G",
          "H"
         ],
         "xaxis": "x3",
         "xgap": 1,
         "y": [
          "1",
          "2",
          "3",
          "4",
          "5",
          "6",
          "7",
          "8"
         ],
         "yaxis": "y3",
         "ygap": 1,
         "z": [
          [
           0.8472311279801784,
           0.9459774168019729,
           0.9611164799455783,
           1.0394641879970965,
           0.8766023494483863,
           0.9849079729816511,
           0.9815110074535286,
           0.8570930839410075
          ],
          [
           0.7893068638676572,
           0.8787738252514193,
           0.7588028999403826,
           0.996075789710611,
           0.9147198420303179,
           0.7743832324719235,
           0.8763074477913682,
           0.719956438634353
          ],
          [
           1,
           1,
           1,
           1,
           1,
           1,
           1,
           1
          ],
          [
           1,
           1,
           1,
           1,
           1,
           1,
           1,
           1
          ],
          [
           1,
           1,
           1,
           1,
           1,
           1,
           1,
           1
          ],
          [
           1,
           1,
           1,
           1,
           1,
           1,
           1,
           1
          ],
          [
           1,
           1,
           1,
           1,
           1,
           1,
           1,
           1
          ],
          [
           1,
           1,
           1,
           1,
           1,
           1,
           1,
           1
          ]
         ],
         "zmax": 1.5,
         "zmin": 0.5
        },
        {
         "colorscale": [
          [
           0,
           "rgb(103,0,31)"
          ],
          [
           0.1,
           "rgb(178,24,43)"
          ],
          [
           0.2,
           "rgb(214,96,77)"
          ],
          [
           0.3,
           "rgb(244,165,130)"
          ],
          [
           0.4,
           "rgb(253,219,199)"
          ],
          [
           0.5,
           "rgb(247,247,247)"
          ],
          [
           0.6,
           "rgb(209,229,240)"
          ],
          [
           0.7,
           "rgb(146,197,222)"
          ],
          [
           0.8,
           "rgb(67,147,195)"
          ],
          [
           0.9,
           "rgb(33,102,172)"
          ],
          [
           1,
           "rgb(5,48,97)"
          ]
         ],
         "reversescale": true,
         "type": "heatmap",
         "x": [
          "A",
          "B",
          "C",
          "D",
          "E",
          "F",
          "G",
          "H"
         ],
         "xaxis": "x4",
         "xgap": 1,
         "y": [
          "1",
          "2",
          "3",
          "4",
          "5",
          "6",
          "7",
          "8"
         ],
         "yaxis": "y4",
         "ygap": 1,
         "z": [
          [
           0.9654585498895017,
           0.9821357258391105,
           1.00186953765906,
           0.9999944409881262,
           0.9320704256828511,
           0.9993432658935253,
           0.9972665659730473,
           0.9712018158838285
          ],
          [
           0.9536701785512706,
           0.9592396183111359,
           0.94075144081359,
           0.9853952114158538,
           0.9874916182458157,
           0.9520405346009635,
           0.9453180750563682,
           0.9233535398434439
          ],
          [
           1,
           1,
           1,
           1,
           1,
           1,
           1,
           1
          ],
          [
           1,
           1,
           1,
           1,
           1,
           1,
           1,
           1
          ],
          [
           1,
           1,
           1,
           1,
           1,
           1,
           1,
           1
          ],
          [
           1,
           1,
           1,
           1,
           1,
           1,
           1,
           1
          ],
          [
           1,
           1,
           1,
           1,
           1,
           1,
           1,
           1
          ],
          [
           1,
           1,
           1,
           1,
           1,
           1,
           1,
           1
          ]
         ],
         "zmax": 1.5,
         "zmin": 0.5
        },
        {
         "colorscale": [
          [
           0,
           "rgb(103,0,31)"
          ],
          [
           0.1,
           "rgb(178,24,43)"
          ],
          [
           0.2,
           "rgb(214,96,77)"
          ],
          [
           0.3,
           "rgb(244,165,130)"
          ],
          [
           0.4,
           "rgb(253,219,199)"
          ],
          [
           0.5,
           "rgb(247,247,247)"
          ],
          [
           0.6,
           "rgb(209,229,240)"
          ],
          [
           0.7,
           "rgb(146,197,222)"
          ],
          [
           0.8,
           "rgb(67,147,195)"
          ],
          [
           0.9,
           "rgb(33,102,172)"
          ],
          [
           1,
           "rgb(5,48,97)"
          ]
         ],
         "reversescale": true,
         "type": "heatmap",
         "x": [
          "A",
          "B",
          "C",
          "D",
          "E",
          "F",
          "G",
          "H"
         ],
         "xaxis": "x5",
         "xgap": 1,
         "y": [
          "1",
          "2",
          "3",
          "4",
          "5",
          "6",
          "7",
          "8"
         ],
         "yaxis": "y5",
         "ygap": 1,
         "z": [
          [
           1.0697719151739353,
           1.0285989125849884,
           1.0154547160520704,
           0.9804300966568451,
           1.0632236771114767,
           1.007004932246948,
           1.0067370754701808,
           1.0647966455908302
          ],
          [
           1.1044792500153515,
           1.0614847081900332,
           1.1258358774942914,
           0.9996296343054882,
           1.0510741321605486,
           1.1228004125652904,
           1.0614388159167492,
           1.1420694866669285
          ],
          [
           1,
           1,
           1,
           1,
           1,
           1,
           1,
           1
          ],
          [
           1,
           1,
           1,
           1,
           1,
           1,
           1,
           1
          ],
          [
           1,
           1,
           1,
           1,
           1,
           1,
           1,
           1
          ],
          [
           1,
           1,
           1,
           1,
           1,
           1,
           1,
           1
          ],
          [
           1,
           1,
           1,
           1,
           1,
           1,
           1,
           1
          ],
          [
           1,
           1,
           1,
           1,
           1,
           1,
           1,
           1
          ]
         ],
         "zmax": 1.5,
         "zmin": 0.5
        },
        {
         "colorscale": [
          [
           0,
           "rgb(103,0,31)"
          ],
          [
           0.1,
           "rgb(178,24,43)"
          ],
          [
           0.2,
           "rgb(214,96,77)"
          ],
          [
           0.3,
           "rgb(244,165,130)"
          ],
          [
           0.4,
           "rgb(253,219,199)"
          ],
          [
           0.5,
           "rgb(247,247,247)"
          ],
          [
           0.6,
           "rgb(209,229,240)"
          ],
          [
           0.7,
           "rgb(146,197,222)"
          ],
          [
           0.8,
           "rgb(67,147,195)"
          ],
          [
           0.9,
           "rgb(33,102,172)"
          ],
          [
           1,
           "rgb(5,48,97)"
          ]
         ],
         "reversescale": true,
         "type": "heatmap",
         "x": [
          "A",
          "B",
          "C",
          "D",
          "E",
          "F",
          "G",
          "H"
         ],
         "xaxis": "x6",
         "xgap": 1,
         "y": [
          "1",
          "2",
          "3",
          "4",
          "5",
          "6",
          "7",
          "8"
         ],
         "yaxis": "y6",
         "ygap": 1,
         "z": [
          [
           1.1893352755100015,
           1.0677752974530161,
           1.0399830689395853,
           0.98166346971352,
           1.2152078983459491,
           1.0284563681424348,
           1.0262680456165414,
           1.1706109111921423
          ],
          [
           1.2284312407753686,
           1.1624474650402137,
           1.2515808335121588,
           1.0478723775214571,
           1.059766520621123,
           1.1954537941381012,
           1.1896862503837722,
           1.3161195597199136
          ],
          [
           1,
           1,
           1,
           1,
           1,
           1,
           1,
           1
          ],
          [
           1,
           1,
           1,
           1,
           1,
           1,
           1,
           1
          ],
          [
           1,
           1,
           1,
           1,
           1,
           1,
           1,
           1
          ],
          [
           1,
           1,
           1,
           1,
           1,
           1,
           1,
           1
          ],
          [
           1,
           1,
           1,
           1,
           1,
           1,
           1,
           1
          ],
          [
           1,
           1,
           1,
           1,
           1,
           1,
           1,
           1
          ]
         ],
         "zmax": 1.5,
         "zmin": 0.5
        }
       ],
       "layout": {
        "annotations": [
         {
          "font": {
           "size": 16
          },
          "showarrow": false,
          "text": "All Games",
          "x": 0.14444444444444446,
          "xanchor": "center",
          "xref": "paper",
          "y": 1,
          "yanchor": "bottom",
          "yref": "paper"
         },
         {
          "font": {
           "size": 16
          },
          "showarrow": false,
          "text": "Elo 0-1250",
          "x": 0.5,
          "xanchor": "center",
          "xref": "paper",
          "y": 1,
          "yanchor": "bottom",
          "yref": "paper"
         },
         {
          "font": {
           "size": 16
          },
          "showarrow": false,
          "text": "Elo 1250-1500",
          "x": 0.8555555555555556,
          "xanchor": "center",
          "xref": "paper",
          "y": 1,
          "yanchor": "bottom",
          "yref": "paper"
         },
         {
          "font": {
           "size": 16
          },
          "showarrow": false,
          "text": "Elo 1500-1750",
          "x": 0.14444444444444446,
          "xanchor": "center",
          "xref": "paper",
          "y": 0.375,
          "yanchor": "bottom",
          "yref": "paper"
         },
         {
          "font": {
           "size": 16
          },
          "showarrow": false,
          "text": "Elo 1750-2000",
          "x": 0.5,
          "xanchor": "center",
          "xref": "paper",
          "y": 0.375,
          "yanchor": "bottom",
          "yref": "paper"
         },
         {
          "font": {
           "size": 16
          },
          "showarrow": false,
          "text": "Elo 2000+",
          "x": 0.8555555555555556,
          "xanchor": "center",
          "xref": "paper",
          "y": 0.375,
          "yanchor": "bottom",
          "yref": "paper"
         }
        ],
        "height": 750,
        "template": {
         "data": {
          "bar": [
           {
            "error_x": {
             "color": "#2a3f5f"
            },
            "error_y": {
             "color": "#2a3f5f"
            },
            "marker": {
             "line": {
              "color": "#E5ECF6",
              "width": 0.5
             }
            },
            "type": "bar"
           }
          ],
          "barpolar": [
           {
            "marker": {
             "line": {
              "color": "#E5ECF6",
              "width": 0.5
             }
            },
            "type": "barpolar"
           }
          ],
          "carpet": [
           {
            "aaxis": {
             "endlinecolor": "#2a3f5f",
             "gridcolor": "white",
             "linecolor": "white",
             "minorgridcolor": "white",
             "startlinecolor": "#2a3f5f"
            },
            "baxis": {
             "endlinecolor": "#2a3f5f",
             "gridcolor": "white",
             "linecolor": "white",
             "minorgridcolor": "white",
             "startlinecolor": "#2a3f5f"
            },
            "type": "carpet"
           }
          ],
          "choropleth": [
           {
            "colorbar": {
             "outlinewidth": 0,
             "ticks": ""
            },
            "type": "choropleth"
           }
          ],
          "contour": [
           {
            "colorbar": {
             "outlinewidth": 0,
             "ticks": ""
            },
            "colorscale": [
             [
              0,
              "#0d0887"
             ],
             [
              0.1111111111111111,
              "#46039f"
             ],
             [
              0.2222222222222222,
              "#7201a8"
             ],
             [
              0.3333333333333333,
              "#9c179e"
             ],
             [
              0.4444444444444444,
              "#bd3786"
             ],
             [
              0.5555555555555556,
              "#d8576b"
             ],
             [
              0.6666666666666666,
              "#ed7953"
             ],
             [
              0.7777777777777778,
              "#fb9f3a"
             ],
             [
              0.8888888888888888,
              "#fdca26"
             ],
             [
              1,
              "#f0f921"
             ]
            ],
            "type": "contour"
           }
          ],
          "contourcarpet": [
           {
            "colorbar": {
             "outlinewidth": 0,
             "ticks": ""
            },
            "type": "contourcarpet"
           }
          ],
          "heatmap": [
           {
            "colorbar": {
             "outlinewidth": 0,
             "ticks": ""
            },
            "colorscale": [
             [
              0,
              "#0d0887"
             ],
             [
              0.1111111111111111,
              "#46039f"
             ],
             [
              0.2222222222222222,
              "#7201a8"
             ],
             [
              0.3333333333333333,
              "#9c179e"
             ],
             [
              0.4444444444444444,
              "#bd3786"
             ],
             [
              0.5555555555555556,
              "#d8576b"
             ],
             [
              0.6666666666666666,
              "#ed7953"
             ],
             [
              0.7777777777777778,
              "#fb9f3a"
             ],
             [
              0.8888888888888888,
              "#fdca26"
             ],
             [
              1,
              "#f0f921"
             ]
            ],
            "type": "heatmap"
           }
          ],
          "heatmapgl": [
           {
            "colorbar": {
             "outlinewidth": 0,
             "ticks": ""
            },
            "colorscale": [
             [
              0,
              "#0d0887"
             ],
             [
              0.1111111111111111,
              "#46039f"
             ],
             [
              0.2222222222222222,
              "#7201a8"
             ],
             [
              0.3333333333333333,
              "#9c179e"
             ],
             [
              0.4444444444444444,
              "#bd3786"
             ],
             [
              0.5555555555555556,
              "#d8576b"
             ],
             [
              0.6666666666666666,
              "#ed7953"
             ],
             [
              0.7777777777777778,
              "#fb9f3a"
             ],
             [
              0.8888888888888888,
              "#fdca26"
             ],
             [
              1,
              "#f0f921"
             ]
            ],
            "type": "heatmapgl"
           }
          ],
          "histogram": [
           {
            "marker": {
             "colorbar": {
              "outlinewidth": 0,
              "ticks": ""
             }
            },
            "type": "histogram"
           }
          ],
          "histogram2d": [
           {
            "colorbar": {
             "outlinewidth": 0,
             "ticks": ""
            },
            "colorscale": [
             [
              0,
              "#0d0887"
             ],
             [
              0.1111111111111111,
              "#46039f"
             ],
             [
              0.2222222222222222,
              "#7201a8"
             ],
             [
              0.3333333333333333,
              "#9c179e"
             ],
             [
              0.4444444444444444,
              "#bd3786"
             ],
             [
              0.5555555555555556,
              "#d8576b"
             ],
             [
              0.6666666666666666,
              "#ed7953"
             ],
             [
              0.7777777777777778,
              "#fb9f3a"
             ],
             [
              0.8888888888888888,
              "#fdca26"
             ],
             [
              1,
              "#f0f921"
             ]
            ],
            "type": "histogram2d"
           }
          ],
          "histogram2dcontour": [
           {
            "colorbar": {
             "outlinewidth": 0,
             "ticks": ""
            },
            "colorscale": [
             [
              0,
              "#0d0887"
             ],
             [
              0.1111111111111111,
              "#46039f"
             ],
             [
              0.2222222222222222,
              "#7201a8"
             ],
             [
              0.3333333333333333,
              "#9c179e"
             ],
             [
              0.4444444444444444,
              "#bd3786"
             ],
             [
              0.5555555555555556,
              "#d8576b"
             ],
             [
              0.6666666666666666,
              "#ed7953"
             ],
             [
              0.7777777777777778,
              "#fb9f3a"
             ],
             [
              0.8888888888888888,
              "#fdca26"
             ],
             [
              1,
              "#f0f921"
             ]
            ],
            "type": "histogram2dcontour"
           }
          ],
          "mesh3d": [
           {
            "colorbar": {
             "outlinewidth": 0,
             "ticks": ""
            },
            "type": "mesh3d"
           }
          ],
          "parcoords": [
           {
            "line": {
             "colorbar": {
              "outlinewidth": 0,
              "ticks": ""
             }
            },
            "type": "parcoords"
           }
          ],
          "pie": [
           {
            "automargin": true,
            "type": "pie"
           }
          ],
          "scatter": [
           {
            "marker": {
             "colorbar": {
              "outlinewidth": 0,
              "ticks": ""
             }
            },
            "type": "scatter"
           }
          ],
          "scatter3d": [
           {
            "line": {
             "colorbar": {
              "outlinewidth": 0,
              "ticks": ""
             }
            },
            "marker": {
             "colorbar": {
              "outlinewidth": 0,
              "ticks": ""
             }
            },
            "type": "scatter3d"
           }
          ],
          "scattercarpet": [
           {
            "marker": {
             "colorbar": {
              "outlinewidth": 0,
              "ticks": ""
             }
            },
            "type": "scattercarpet"
           }
          ],
          "scattergeo": [
           {
            "marker": {
             "colorbar": {
              "outlinewidth": 0,
              "ticks": ""
             }
            },
            "type": "scattergeo"
           }
          ],
          "scattergl": [
           {
            "marker": {
             "colorbar": {
              "outlinewidth": 0,
              "ticks": ""
             }
            },
            "type": "scattergl"
           }
          ],
          "scattermapbox": [
           {
            "marker": {
             "colorbar": {
              "outlinewidth": 0,
              "ticks": ""
             }
            },
            "type": "scattermapbox"
           }
          ],
          "scatterpolar": [
           {
            "marker": {
             "colorbar": {
              "outlinewidth": 0,
              "ticks": ""
             }
            },
            "type": "scatterpolar"
           }
          ],
          "scatterpolargl": [
           {
            "marker": {
             "colorbar": {
              "outlinewidth": 0,
              "ticks": ""
             }
            },
            "type": "scatterpolargl"
           }
          ],
          "scatterternary": [
           {
            "marker": {
             "colorbar": {
              "outlinewidth": 0,
              "ticks": ""
             }
            },
            "type": "scatterternary"
           }
          ],
          "surface": [
           {
            "colorbar": {
             "outlinewidth": 0,
             "ticks": ""
            },
            "colorscale": [
             [
              0,
              "#0d0887"
             ],
             [
              0.1111111111111111,
              "#46039f"
             ],
             [
              0.2222222222222222,
              "#7201a8"
             ],
             [
              0.3333333333333333,
              "#9c179e"
             ],
             [
              0.4444444444444444,
              "#bd3786"
             ],
             [
              0.5555555555555556,
              "#d8576b"
             ],
             [
              0.6666666666666666,
              "#ed7953"
             ],
             [
              0.7777777777777778,
              "#fb9f3a"
             ],
             [
              0.8888888888888888,
              "#fdca26"
             ],
             [
              1,
              "#f0f921"
             ]
            ],
            "type": "surface"
           }
          ],
          "table": [
           {
            "cells": {
             "fill": {
              "color": "#EBF0F8"
             },
             "line": {
              "color": "white"
             }
            },
            "header": {
             "fill": {
              "color": "#C8D4E3"
             },
             "line": {
              "color": "white"
             }
            },
            "type": "table"
           }
          ]
         },
         "layout": {
          "annotationdefaults": {
           "arrowcolor": "#2a3f5f",
           "arrowhead": 0,
           "arrowwidth": 1
          },
          "autotypenumbers": "strict",
          "coloraxis": {
           "colorbar": {
            "outlinewidth": 0,
            "ticks": ""
           }
          },
          "colorscale": {
           "diverging": [
            [
             0,
             "#8e0152"
            ],
            [
             0.1,
             "#c51b7d"
            ],
            [
             0.2,
             "#de77ae"
            ],
            [
             0.3,
             "#f1b6da"
            ],
            [
             0.4,
             "#fde0ef"
            ],
            [
             0.5,
             "#f7f7f7"
            ],
            [
             0.6,
             "#e6f5d0"
            ],
            [
             0.7,
             "#b8e186"
            ],
            [
             0.8,
             "#7fbc41"
            ],
            [
             0.9,
             "#4d9221"
            ],
            [
             1,
             "#276419"
            ]
           ],
           "sequential": [
            [
             0,
             "#0d0887"
            ],
            [
             0.1111111111111111,
             "#46039f"
            ],
            [
             0.2222222222222222,
             "#7201a8"
            ],
            [
             0.3333333333333333,
             "#9c179e"
            ],
            [
             0.4444444444444444,
             "#bd3786"
            ],
            [
             0.5555555555555556,
             "#d8576b"
            ],
            [
             0.6666666666666666,
             "#ed7953"
            ],
            [
             0.7777777777777778,
             "#fb9f3a"
            ],
            [
             0.8888888888888888,
             "#fdca26"
            ],
            [
             1,
             "#f0f921"
            ]
           ],
           "sequentialminus": [
            [
             0,
             "#0d0887"
            ],
            [
             0.1111111111111111,
             "#46039f"
            ],
            [
             0.2222222222222222,
             "#7201a8"
            ],
            [
             0.3333333333333333,
             "#9c179e"
            ],
            [
             0.4444444444444444,
             "#bd3786"
            ],
            [
             0.5555555555555556,
             "#d8576b"
            ],
            [
             0.6666666666666666,
             "#ed7953"
            ],
            [
             0.7777777777777778,
             "#fb9f3a"
            ],
            [
             0.8888888888888888,
             "#fdca26"
            ],
            [
             1,
             "#f0f921"
            ]
           ]
          },
          "colorway": [
           "#636efa",
           "#EF553B",
           "#00cc96",
           "#ab63fa",
           "#FFA15A",
           "#19d3f3",
           "#FF6692",
           "#B6E880",
           "#FF97FF",
           "#FECB52"
          ],
          "font": {
           "color": "#2a3f5f"
          },
          "geo": {
           "bgcolor": "white",
           "lakecolor": "white",
           "landcolor": "#E5ECF6",
           "showlakes": true,
           "showland": true,
           "subunitcolor": "white"
          },
          "hoverlabel": {
           "align": "left"
          },
          "hovermode": "closest",
          "mapbox": {
           "style": "light"
          },
          "paper_bgcolor": "white",
          "plot_bgcolor": "#E5ECF6",
          "polar": {
           "angularaxis": {
            "gridcolor": "white",
            "linecolor": "white",
            "ticks": ""
           },
           "bgcolor": "#E5ECF6",
           "radialaxis": {
            "gridcolor": "white",
            "linecolor": "white",
            "ticks": ""
           }
          },
          "scene": {
           "xaxis": {
            "backgroundcolor": "#E5ECF6",
            "gridcolor": "white",
            "gridwidth": 2,
            "linecolor": "white",
            "showbackground": true,
            "ticks": "",
            "zerolinecolor": "white"
           },
           "yaxis": {
            "backgroundcolor": "#E5ECF6",
            "gridcolor": "white",
            "gridwidth": 2,
            "linecolor": "white",
            "showbackground": true,
            "ticks": "",
            "zerolinecolor": "white"
           },
           "zaxis": {
            "backgroundcolor": "#E5ECF6",
            "gridcolor": "white",
            "gridwidth": 2,
            "linecolor": "white",
            "showbackground": true,
            "ticks": "",
            "zerolinecolor": "white"
           }
          },
          "shapedefaults": {
           "line": {
            "color": "#2a3f5f"
           }
          },
          "ternary": {
           "aaxis": {
            "gridcolor": "white",
            "linecolor": "white",
            "ticks": ""
           },
           "baxis": {
            "gridcolor": "white",
            "linecolor": "white",
            "ticks": ""
           },
           "bgcolor": "#E5ECF6",
           "caxis": {
            "gridcolor": "white",
            "linecolor": "white",
            "ticks": ""
           }
          },
          "title": {
           "x": 0.05
          },
          "xaxis": {
           "automargin": true,
           "gridcolor": "white",
           "linecolor": "white",
           "ticks": "",
           "title": {
            "standoff": 15
           },
           "zerolinecolor": "white",
           "zerolinewidth": 2
          },
          "yaxis": {
           "automargin": true,
           "gridcolor": "white",
           "linecolor": "white",
           "ticks": "",
           "title": {
            "standoff": 15
           },
           "zerolinecolor": "white",
           "zerolinewidth": 2
          }
         }
        },
        "title": {
         "text": "Opponent Piece Captures Per Game Breakdown"
        },
        "width": 1000,
        "xaxis": {
         "anchor": "y",
         "domain": [
          0,
          0.2888888888888889
         ]
        },
        "xaxis2": {
         "anchor": "y2",
         "domain": [
          0.35555555555555557,
          0.6444444444444445
         ]
        },
        "xaxis3": {
         "anchor": "y3",
         "domain": [
          0.7111111111111111,
          1
         ]
        },
        "xaxis4": {
         "anchor": "y4",
         "domain": [
          0,
          0.2888888888888889
         ]
        },
        "xaxis5": {
         "anchor": "y5",
         "domain": [
          0.35555555555555557,
          0.6444444444444445
         ]
        },
        "xaxis6": {
         "anchor": "y6",
         "domain": [
          0.7111111111111111,
          1
         ]
        },
        "yaxis": {
         "anchor": "x",
         "domain": [
          0.625,
          1
         ]
        },
        "yaxis2": {
         "anchor": "x2",
         "domain": [
          0.625,
          1
         ]
        },
        "yaxis3": {
         "anchor": "x3",
         "domain": [
          0.625,
          1
         ]
        },
        "yaxis4": {
         "anchor": "x4",
         "domain": [
          0,
          0.375
         ]
        },
        "yaxis5": {
         "anchor": "x5",
         "domain": [
          0,
          0.375
         ]
        },
        "yaxis6": {
         "anchor": "x6",
         "domain": [
          0,
          0.375
         ]
        }
       }
      },
      "text/html": [
       "<div>                            <div id=\"5d834a2f-9f10-4d1e-8666-db3eecefdb3d\" class=\"plotly-graph-div\" style=\"height:750px; width:1000px;\"></div>            <script type=\"text/javascript\">                require([\"plotly\"], function(Plotly) {                    window.PLOTLYENV=window.PLOTLYENV || {};                                    if (document.getElementById(\"5d834a2f-9f10-4d1e-8666-db3eecefdb3d\")) {                    Plotly.newPlot(                        \"5d834a2f-9f10-4d1e-8666-db3eecefdb3d\",                        [{\"colorscale\": [[0.0, \"rgb(103,0,31)\"], [0.1, \"rgb(178,24,43)\"], [0.2, \"rgb(214,96,77)\"], [0.3, \"rgb(244,165,130)\"], [0.4, \"rgb(253,219,199)\"], [0.5, \"rgb(247,247,247)\"], [0.6, \"rgb(209,229,240)\"], [0.7, \"rgb(146,197,222)\"], [0.8, \"rgb(67,147,195)\"], [0.9, \"rgb(33,102,172)\"], [1.0, \"rgb(5,48,97)\"]], \"reversescale\": true, \"type\": \"heatmap\", \"x\": [\"A\", \"B\", \"C\", \"D\", \"E\", \"F\", \"G\", \"H\"], \"xaxis\": \"x\", \"xgap\": 1, \"y\": [\"1\", \"2\", \"3\", \"4\", \"5\", \"6\", \"7\", \"8\"], \"yaxis\": \"y\", \"ygap\": 1, \"z\": [[1.0, 1.0, 1.0, 1.0, 1.0, 1.0, 1.0, 1.0], [1.0, 1.0, 1.0, 1.0, 1.0, 1.0, 1.0, 1.0], [1.0, 1.0, 1.0, 1.0, 1.0, 1.0, 1.0, 1.0], [1.0, 1.0, 1.0, 1.0, 1.0, 1.0, 1.0, 1.0], [1.0, 1.0, 1.0, 1.0, 1.0, 1.0, 1.0, 1.0], [1.0, 1.0, 1.0, 1.0, 1.0, 1.0, 1.0, 1.0], [1.0, 1.0, 1.0, 1.0, 1.0, 1.0, 1.0, 1.0], [1.0, 1.0, 1.0, 1.0, 1.0, 1.0, 1.0, 1.0]], \"zmax\": 1.5, \"zmin\": 0.5}, {\"colorscale\": [[0.0, \"rgb(103,0,31)\"], [0.1, \"rgb(178,24,43)\"], [0.2, \"rgb(214,96,77)\"], [0.3, \"rgb(244,165,130)\"], [0.4, \"rgb(253,219,199)\"], [0.5, \"rgb(247,247,247)\"], [0.6, \"rgb(209,229,240)\"], [0.7, \"rgb(146,197,222)\"], [0.8, \"rgb(67,147,195)\"], [0.9, \"rgb(33,102,172)\"], [1.0, \"rgb(5,48,97)\"]], \"reversescale\": true, \"type\": \"heatmap\", \"x\": [\"A\", \"B\", \"C\", \"D\", \"E\", \"F\", \"G\", \"H\"], \"xaxis\": \"x2\", \"xgap\": 1, \"y\": [\"1\", \"2\", \"3\", \"4\", \"5\", \"6\", \"7\", \"8\"], \"yaxis\": \"y2\", \"ygap\": 1, \"z\": [[0.6958842820983183, 0.9171439316014044, 0.8542138967203761, 1.0610059870417212, 0.8824541515550209, 0.8894026730719816, 0.9474751975048457, 0.7077548958212114], [0.6318914283827296, 0.8017636008829375, 0.636530706097057, 0.9815535079492566, 0.8363070015750057, 0.7022714144599176, 0.8596832831101741, 0.6037337837877493], [1.0, 1.0, 1.0, 1.0, 1.0, 1.0, 1.0, 1.0], [1.0, 1.0, 1.0, 1.0, 1.0, 1.0, 1.0, 1.0], [1.0, 1.0, 1.0, 1.0, 1.0, 1.0, 1.0, 1.0], [1.0, 1.0, 1.0, 1.0, 1.0, 1.0, 1.0, 1.0], [1.0, 1.0, 1.0, 1.0, 1.0, 1.0, 1.0, 1.0], [1.0, 1.0, 1.0, 1.0, 1.0, 1.0, 1.0, 1.0]], \"zmax\": 1.5, \"zmin\": 0.5}, {\"colorscale\": [[0.0, \"rgb(103,0,31)\"], [0.1, \"rgb(178,24,43)\"], [0.2, \"rgb(214,96,77)\"], [0.3, \"rgb(244,165,130)\"], [0.4, \"rgb(253,219,199)\"], [0.5, \"rgb(247,247,247)\"], [0.6, \"rgb(209,229,240)\"], [0.7, \"rgb(146,197,222)\"], [0.8, \"rgb(67,147,195)\"], [0.9, \"rgb(33,102,172)\"], [1.0, \"rgb(5,48,97)\"]], \"reversescale\": true, \"type\": \"heatmap\", \"x\": [\"A\", \"B\", \"C\", \"D\", \"E\", \"F\", \"G\", \"H\"], \"xaxis\": \"x3\", \"xgap\": 1, \"y\": [\"1\", \"2\", \"3\", \"4\", \"5\", \"6\", \"7\", \"8\"], \"yaxis\": \"y3\", \"ygap\": 1, \"z\": [[0.8472311279801784, 0.9459774168019729, 0.9611164799455783, 1.0394641879970965, 0.8766023494483863, 0.9849079729816511, 0.9815110074535286, 0.8570930839410075], [0.7893068638676572, 0.8787738252514193, 0.7588028999403826, 0.996075789710611, 0.9147198420303179, 0.7743832324719235, 0.8763074477913682, 0.719956438634353], [1.0, 1.0, 1.0, 1.0, 1.0, 1.0, 1.0, 1.0], [1.0, 1.0, 1.0, 1.0, 1.0, 1.0, 1.0, 1.0], [1.0, 1.0, 1.0, 1.0, 1.0, 1.0, 1.0, 1.0], [1.0, 1.0, 1.0, 1.0, 1.0, 1.0, 1.0, 1.0], [1.0, 1.0, 1.0, 1.0, 1.0, 1.0, 1.0, 1.0], [1.0, 1.0, 1.0, 1.0, 1.0, 1.0, 1.0, 1.0]], \"zmax\": 1.5, \"zmin\": 0.5}, {\"colorscale\": [[0.0, \"rgb(103,0,31)\"], [0.1, \"rgb(178,24,43)\"], [0.2, \"rgb(214,96,77)\"], [0.3, \"rgb(244,165,130)\"], [0.4, \"rgb(253,219,199)\"], [0.5, \"rgb(247,247,247)\"], [0.6, \"rgb(209,229,240)\"], [0.7, \"rgb(146,197,222)\"], [0.8, \"rgb(67,147,195)\"], [0.9, \"rgb(33,102,172)\"], [1.0, \"rgb(5,48,97)\"]], \"reversescale\": true, \"type\": \"heatmap\", \"x\": [\"A\", \"B\", \"C\", \"D\", \"E\", \"F\", \"G\", \"H\"], \"xaxis\": \"x4\", \"xgap\": 1, \"y\": [\"1\", \"2\", \"3\", \"4\", \"5\", \"6\", \"7\", \"8\"], \"yaxis\": \"y4\", \"ygap\": 1, \"z\": [[0.9654585498895017, 0.9821357258391105, 1.00186953765906, 0.9999944409881262, 0.9320704256828511, 0.9993432658935253, 0.9972665659730473, 0.9712018158838285], [0.9536701785512706, 0.9592396183111359, 0.94075144081359, 0.9853952114158538, 0.9874916182458157, 0.9520405346009635, 0.9453180750563682, 0.9233535398434439], [1.0, 1.0, 1.0, 1.0, 1.0, 1.0, 1.0, 1.0], [1.0, 1.0, 1.0, 1.0, 1.0, 1.0, 1.0, 1.0], [1.0, 1.0, 1.0, 1.0, 1.0, 1.0, 1.0, 1.0], [1.0, 1.0, 1.0, 1.0, 1.0, 1.0, 1.0, 1.0], [1.0, 1.0, 1.0, 1.0, 1.0, 1.0, 1.0, 1.0], [1.0, 1.0, 1.0, 1.0, 1.0, 1.0, 1.0, 1.0]], \"zmax\": 1.5, \"zmin\": 0.5}, {\"colorscale\": [[0.0, \"rgb(103,0,31)\"], [0.1, \"rgb(178,24,43)\"], [0.2, \"rgb(214,96,77)\"], [0.3, \"rgb(244,165,130)\"], [0.4, \"rgb(253,219,199)\"], [0.5, \"rgb(247,247,247)\"], [0.6, \"rgb(209,229,240)\"], [0.7, \"rgb(146,197,222)\"], [0.8, \"rgb(67,147,195)\"], [0.9, \"rgb(33,102,172)\"], [1.0, \"rgb(5,48,97)\"]], \"reversescale\": true, \"type\": \"heatmap\", \"x\": [\"A\", \"B\", \"C\", \"D\", \"E\", \"F\", \"G\", \"H\"], \"xaxis\": \"x5\", \"xgap\": 1, \"y\": [\"1\", \"2\", \"3\", \"4\", \"5\", \"6\", \"7\", \"8\"], \"yaxis\": \"y5\", \"ygap\": 1, \"z\": [[1.0697719151739353, 1.0285989125849884, 1.0154547160520704, 0.9804300966568451, 1.0632236771114767, 1.007004932246948, 1.0067370754701808, 1.0647966455908302], [1.1044792500153515, 1.0614847081900332, 1.1258358774942914, 0.9996296343054882, 1.0510741321605486, 1.1228004125652904, 1.0614388159167492, 1.1420694866669285], [1.0, 1.0, 1.0, 1.0, 1.0, 1.0, 1.0, 1.0], [1.0, 1.0, 1.0, 1.0, 1.0, 1.0, 1.0, 1.0], [1.0, 1.0, 1.0, 1.0, 1.0, 1.0, 1.0, 1.0], [1.0, 1.0, 1.0, 1.0, 1.0, 1.0, 1.0, 1.0], [1.0, 1.0, 1.0, 1.0, 1.0, 1.0, 1.0, 1.0], [1.0, 1.0, 1.0, 1.0, 1.0, 1.0, 1.0, 1.0]], \"zmax\": 1.5, \"zmin\": 0.5}, {\"colorscale\": [[0.0, \"rgb(103,0,31)\"], [0.1, \"rgb(178,24,43)\"], [0.2, \"rgb(214,96,77)\"], [0.3, \"rgb(244,165,130)\"], [0.4, \"rgb(253,219,199)\"], [0.5, \"rgb(247,247,247)\"], [0.6, \"rgb(209,229,240)\"], [0.7, \"rgb(146,197,222)\"], [0.8, \"rgb(67,147,195)\"], [0.9, \"rgb(33,102,172)\"], [1.0, \"rgb(5,48,97)\"]], \"reversescale\": true, \"type\": \"heatmap\", \"x\": [\"A\", \"B\", \"C\", \"D\", \"E\", \"F\", \"G\", \"H\"], \"xaxis\": \"x6\", \"xgap\": 1, \"y\": [\"1\", \"2\", \"3\", \"4\", \"5\", \"6\", \"7\", \"8\"], \"yaxis\": \"y6\", \"ygap\": 1, \"z\": [[1.1893352755100015, 1.0677752974530161, 1.0399830689395853, 0.98166346971352, 1.2152078983459491, 1.0284563681424348, 1.0262680456165414, 1.1706109111921423], [1.2284312407753686, 1.1624474650402137, 1.2515808335121588, 1.0478723775214571, 1.059766520621123, 1.1954537941381012, 1.1896862503837722, 1.3161195597199136], [1.0, 1.0, 1.0, 1.0, 1.0, 1.0, 1.0, 1.0], [1.0, 1.0, 1.0, 1.0, 1.0, 1.0, 1.0, 1.0], [1.0, 1.0, 1.0, 1.0, 1.0, 1.0, 1.0, 1.0], [1.0, 1.0, 1.0, 1.0, 1.0, 1.0, 1.0, 1.0], [1.0, 1.0, 1.0, 1.0, 1.0, 1.0, 1.0, 1.0], [1.0, 1.0, 1.0, 1.0, 1.0, 1.0, 1.0, 1.0]], \"zmax\": 1.5, \"zmin\": 0.5}],                        {\"annotations\": [{\"font\": {\"size\": 16}, \"showarrow\": false, \"text\": \"All Games\", \"x\": 0.14444444444444446, \"xanchor\": \"center\", \"xref\": \"paper\", \"y\": 1.0, \"yanchor\": \"bottom\", \"yref\": \"paper\"}, {\"font\": {\"size\": 16}, \"showarrow\": false, \"text\": \"Elo 0-1250\", \"x\": 0.5, \"xanchor\": \"center\", \"xref\": \"paper\", \"y\": 1.0, \"yanchor\": \"bottom\", \"yref\": \"paper\"}, {\"font\": {\"size\": 16}, \"showarrow\": false, \"text\": \"Elo 1250-1500\", \"x\": 0.8555555555555556, \"xanchor\": \"center\", \"xref\": \"paper\", \"y\": 1.0, \"yanchor\": \"bottom\", \"yref\": \"paper\"}, {\"font\": {\"size\": 16}, \"showarrow\": false, \"text\": \"Elo 1500-1750\", \"x\": 0.14444444444444446, \"xanchor\": \"center\", \"xref\": \"paper\", \"y\": 0.375, \"yanchor\": \"bottom\", \"yref\": \"paper\"}, {\"font\": {\"size\": 16}, \"showarrow\": false, \"text\": \"Elo 1750-2000\", \"x\": 0.5, \"xanchor\": \"center\", \"xref\": \"paper\", \"y\": 0.375, \"yanchor\": \"bottom\", \"yref\": \"paper\"}, {\"font\": {\"size\": 16}, \"showarrow\": false, \"text\": \"Elo 2000+\", \"x\": 0.8555555555555556, \"xanchor\": \"center\", \"xref\": \"paper\", \"y\": 0.375, \"yanchor\": \"bottom\", \"yref\": \"paper\"}], \"height\": 750, \"template\": {\"data\": {\"bar\": [{\"error_x\": {\"color\": \"#2a3f5f\"}, \"error_y\": {\"color\": \"#2a3f5f\"}, \"marker\": {\"line\": {\"color\": \"#E5ECF6\", \"width\": 0.5}}, \"type\": \"bar\"}], \"barpolar\": [{\"marker\": {\"line\": {\"color\": \"#E5ECF6\", \"width\": 0.5}}, \"type\": \"barpolar\"}], \"carpet\": [{\"aaxis\": {\"endlinecolor\": \"#2a3f5f\", \"gridcolor\": \"white\", \"linecolor\": \"white\", \"minorgridcolor\": \"white\", \"startlinecolor\": \"#2a3f5f\"}, \"baxis\": {\"endlinecolor\": \"#2a3f5f\", \"gridcolor\": \"white\", \"linecolor\": \"white\", \"minorgridcolor\": \"white\", \"startlinecolor\": \"#2a3f5f\"}, \"type\": \"carpet\"}], \"choropleth\": [{\"colorbar\": {\"outlinewidth\": 0, \"ticks\": \"\"}, \"type\": \"choropleth\"}], \"contour\": [{\"colorbar\": {\"outlinewidth\": 0, \"ticks\": \"\"}, \"colorscale\": [[0.0, \"#0d0887\"], [0.1111111111111111, \"#46039f\"], [0.2222222222222222, \"#7201a8\"], [0.3333333333333333, \"#9c179e\"], [0.4444444444444444, \"#bd3786\"], [0.5555555555555556, \"#d8576b\"], [0.6666666666666666, \"#ed7953\"], [0.7777777777777778, \"#fb9f3a\"], [0.8888888888888888, \"#fdca26\"], [1.0, \"#f0f921\"]], \"type\": \"contour\"}], \"contourcarpet\": [{\"colorbar\": {\"outlinewidth\": 0, \"ticks\": \"\"}, \"type\": \"contourcarpet\"}], \"heatmap\": [{\"colorbar\": {\"outlinewidth\": 0, \"ticks\": \"\"}, \"colorscale\": [[0.0, \"#0d0887\"], [0.1111111111111111, \"#46039f\"], [0.2222222222222222, \"#7201a8\"], [0.3333333333333333, \"#9c179e\"], [0.4444444444444444, \"#bd3786\"], [0.5555555555555556, \"#d8576b\"], [0.6666666666666666, \"#ed7953\"], [0.7777777777777778, \"#fb9f3a\"], [0.8888888888888888, \"#fdca26\"], [1.0, \"#f0f921\"]], \"type\": \"heatmap\"}], \"heatmapgl\": [{\"colorbar\": {\"outlinewidth\": 0, \"ticks\": \"\"}, \"colorscale\": [[0.0, \"#0d0887\"], [0.1111111111111111, \"#46039f\"], [0.2222222222222222, \"#7201a8\"], [0.3333333333333333, \"#9c179e\"], [0.4444444444444444, \"#bd3786\"], [0.5555555555555556, \"#d8576b\"], [0.6666666666666666, \"#ed7953\"], [0.7777777777777778, \"#fb9f3a\"], [0.8888888888888888, \"#fdca26\"], [1.0, \"#f0f921\"]], \"type\": \"heatmapgl\"}], \"histogram\": [{\"marker\": {\"colorbar\": {\"outlinewidth\": 0, \"ticks\": \"\"}}, \"type\": \"histogram\"}], \"histogram2d\": [{\"colorbar\": {\"outlinewidth\": 0, \"ticks\": \"\"}, \"colorscale\": [[0.0, \"#0d0887\"], [0.1111111111111111, \"#46039f\"], [0.2222222222222222, \"#7201a8\"], [0.3333333333333333, \"#9c179e\"], [0.4444444444444444, \"#bd3786\"], [0.5555555555555556, \"#d8576b\"], [0.6666666666666666, \"#ed7953\"], [0.7777777777777778, \"#fb9f3a\"], [0.8888888888888888, \"#fdca26\"], [1.0, \"#f0f921\"]], \"type\": \"histogram2d\"}], \"histogram2dcontour\": [{\"colorbar\": {\"outlinewidth\": 0, \"ticks\": \"\"}, \"colorscale\": [[0.0, \"#0d0887\"], [0.1111111111111111, \"#46039f\"], [0.2222222222222222, \"#7201a8\"], [0.3333333333333333, \"#9c179e\"], [0.4444444444444444, \"#bd3786\"], [0.5555555555555556, \"#d8576b\"], [0.6666666666666666, \"#ed7953\"], [0.7777777777777778, \"#fb9f3a\"], [0.8888888888888888, \"#fdca26\"], [1.0, \"#f0f921\"]], \"type\": \"histogram2dcontour\"}], \"mesh3d\": [{\"colorbar\": {\"outlinewidth\": 0, \"ticks\": \"\"}, \"type\": \"mesh3d\"}], \"parcoords\": [{\"line\": {\"colorbar\": {\"outlinewidth\": 0, \"ticks\": \"\"}}, \"type\": \"parcoords\"}], \"pie\": [{\"automargin\": true, \"type\": \"pie\"}], \"scatter\": [{\"marker\": {\"colorbar\": {\"outlinewidth\": 0, \"ticks\": \"\"}}, \"type\": \"scatter\"}], \"scatter3d\": [{\"line\": {\"colorbar\": {\"outlinewidth\": 0, \"ticks\": \"\"}}, \"marker\": {\"colorbar\": {\"outlinewidth\": 0, \"ticks\": \"\"}}, \"type\": \"scatter3d\"}], \"scattercarpet\": [{\"marker\": {\"colorbar\": {\"outlinewidth\": 0, \"ticks\": \"\"}}, \"type\": \"scattercarpet\"}], \"scattergeo\": [{\"marker\": {\"colorbar\": {\"outlinewidth\": 0, \"ticks\": \"\"}}, \"type\": \"scattergeo\"}], \"scattergl\": [{\"marker\": {\"colorbar\": {\"outlinewidth\": 0, \"ticks\": \"\"}}, \"type\": \"scattergl\"}], \"scattermapbox\": [{\"marker\": {\"colorbar\": {\"outlinewidth\": 0, \"ticks\": \"\"}}, \"type\": \"scattermapbox\"}], \"scatterpolar\": [{\"marker\": {\"colorbar\": {\"outlinewidth\": 0, \"ticks\": \"\"}}, \"type\": \"scatterpolar\"}], \"scatterpolargl\": [{\"marker\": {\"colorbar\": {\"outlinewidth\": 0, \"ticks\": \"\"}}, \"type\": \"scatterpolargl\"}], \"scatterternary\": [{\"marker\": {\"colorbar\": {\"outlinewidth\": 0, \"ticks\": \"\"}}, \"type\": \"scatterternary\"}], \"surface\": [{\"colorbar\": {\"outlinewidth\": 0, \"ticks\": \"\"}, \"colorscale\": [[0.0, \"#0d0887\"], [0.1111111111111111, \"#46039f\"], [0.2222222222222222, \"#7201a8\"], [0.3333333333333333, \"#9c179e\"], [0.4444444444444444, \"#bd3786\"], [0.5555555555555556, \"#d8576b\"], [0.6666666666666666, \"#ed7953\"], [0.7777777777777778, \"#fb9f3a\"], [0.8888888888888888, \"#fdca26\"], [1.0, \"#f0f921\"]], \"type\": \"surface\"}], \"table\": [{\"cells\": {\"fill\": {\"color\": \"#EBF0F8\"}, \"line\": {\"color\": \"white\"}}, \"header\": {\"fill\": {\"color\": \"#C8D4E3\"}, \"line\": {\"color\": \"white\"}}, \"type\": \"table\"}]}, \"layout\": {\"annotationdefaults\": {\"arrowcolor\": \"#2a3f5f\", \"arrowhead\": 0, \"arrowwidth\": 1}, \"autotypenumbers\": \"strict\", \"coloraxis\": {\"colorbar\": {\"outlinewidth\": 0, \"ticks\": \"\"}}, \"colorscale\": {\"diverging\": [[0, \"#8e0152\"], [0.1, \"#c51b7d\"], [0.2, \"#de77ae\"], [0.3, \"#f1b6da\"], [0.4, \"#fde0ef\"], [0.5, \"#f7f7f7\"], [0.6, \"#e6f5d0\"], [0.7, \"#b8e186\"], [0.8, \"#7fbc41\"], [0.9, \"#4d9221\"], [1, \"#276419\"]], \"sequential\": [[0.0, \"#0d0887\"], [0.1111111111111111, \"#46039f\"], [0.2222222222222222, \"#7201a8\"], [0.3333333333333333, \"#9c179e\"], [0.4444444444444444, \"#bd3786\"], [0.5555555555555556, \"#d8576b\"], [0.6666666666666666, \"#ed7953\"], [0.7777777777777778, \"#fb9f3a\"], [0.8888888888888888, \"#fdca26\"], [1.0, \"#f0f921\"]], \"sequentialminus\": [[0.0, \"#0d0887\"], [0.1111111111111111, \"#46039f\"], [0.2222222222222222, \"#7201a8\"], [0.3333333333333333, \"#9c179e\"], [0.4444444444444444, \"#bd3786\"], [0.5555555555555556, \"#d8576b\"], [0.6666666666666666, \"#ed7953\"], [0.7777777777777778, \"#fb9f3a\"], [0.8888888888888888, \"#fdca26\"], [1.0, \"#f0f921\"]]}, \"colorway\": [\"#636efa\", \"#EF553B\", \"#00cc96\", \"#ab63fa\", \"#FFA15A\", \"#19d3f3\", \"#FF6692\", \"#B6E880\", \"#FF97FF\", \"#FECB52\"], \"font\": {\"color\": \"#2a3f5f\"}, \"geo\": {\"bgcolor\": \"white\", \"lakecolor\": \"white\", \"landcolor\": \"#E5ECF6\", \"showlakes\": true, \"showland\": true, \"subunitcolor\": \"white\"}, \"hoverlabel\": {\"align\": \"left\"}, \"hovermode\": \"closest\", \"mapbox\": {\"style\": \"light\"}, \"paper_bgcolor\": \"white\", \"plot_bgcolor\": \"#E5ECF6\", \"polar\": {\"angularaxis\": {\"gridcolor\": \"white\", \"linecolor\": \"white\", \"ticks\": \"\"}, \"bgcolor\": \"#E5ECF6\", \"radialaxis\": {\"gridcolor\": \"white\", \"linecolor\": \"white\", \"ticks\": \"\"}}, \"scene\": {\"xaxis\": {\"backgroundcolor\": \"#E5ECF6\", \"gridcolor\": \"white\", \"gridwidth\": 2, \"linecolor\": \"white\", \"showbackground\": true, \"ticks\": \"\", \"zerolinecolor\": \"white\"}, \"yaxis\": {\"backgroundcolor\": \"#E5ECF6\", \"gridcolor\": \"white\", \"gridwidth\": 2, \"linecolor\": \"white\", \"showbackground\": true, \"ticks\": \"\", \"zerolinecolor\": \"white\"}, \"zaxis\": {\"backgroundcolor\": \"#E5ECF6\", \"gridcolor\": \"white\", \"gridwidth\": 2, \"linecolor\": \"white\", \"showbackground\": true, \"ticks\": \"\", \"zerolinecolor\": \"white\"}}, \"shapedefaults\": {\"line\": {\"color\": \"#2a3f5f\"}}, \"ternary\": {\"aaxis\": {\"gridcolor\": \"white\", \"linecolor\": \"white\", \"ticks\": \"\"}, \"baxis\": {\"gridcolor\": \"white\", \"linecolor\": \"white\", \"ticks\": \"\"}, \"bgcolor\": \"#E5ECF6\", \"caxis\": {\"gridcolor\": \"white\", \"linecolor\": \"white\", \"ticks\": \"\"}}, \"title\": {\"x\": 0.05}, \"xaxis\": {\"automargin\": true, \"gridcolor\": \"white\", \"linecolor\": \"white\", \"ticks\": \"\", \"title\": {\"standoff\": 15}, \"zerolinecolor\": \"white\", \"zerolinewidth\": 2}, \"yaxis\": {\"automargin\": true, \"gridcolor\": \"white\", \"linecolor\": \"white\", \"ticks\": \"\", \"title\": {\"standoff\": 15}, \"zerolinecolor\": \"white\", \"zerolinewidth\": 2}}}, \"title\": {\"text\": \"Opponent Piece Captures Per Game Breakdown\"}, \"width\": 1000, \"xaxis\": {\"anchor\": \"y\", \"domain\": [0.0, 0.2888888888888889]}, \"xaxis2\": {\"anchor\": \"y2\", \"domain\": [0.35555555555555557, 0.6444444444444445]}, \"xaxis3\": {\"anchor\": \"y3\", \"domain\": [0.7111111111111111, 1.0]}, \"xaxis4\": {\"anchor\": \"y4\", \"domain\": [0.0, 0.2888888888888889]}, \"xaxis5\": {\"anchor\": \"y5\", \"domain\": [0.35555555555555557, 0.6444444444444445]}, \"xaxis6\": {\"anchor\": \"y6\", \"domain\": [0.7111111111111111, 1.0]}, \"yaxis\": {\"anchor\": \"x\", \"domain\": [0.625, 1.0]}, \"yaxis2\": {\"anchor\": \"x2\", \"domain\": [0.625, 1.0]}, \"yaxis3\": {\"anchor\": \"x3\", \"domain\": [0.625, 1.0]}, \"yaxis4\": {\"anchor\": \"x4\", \"domain\": [0.0, 0.375]}, \"yaxis5\": {\"anchor\": \"x5\", \"domain\": [0.0, 0.375]}, \"yaxis6\": {\"anchor\": \"x6\", \"domain\": [0.0, 0.375]}},                        {\"responsive\": true}                    ).then(function(){\n",
       "                            \n",
       "var gd = document.getElementById('5d834a2f-9f10-4d1e-8666-db3eecefdb3d');\n",
       "var x = new MutationObserver(function (mutations, observer) {{\n",
       "        var display = window.getComputedStyle(gd).display;\n",
       "        if (!display || display === 'none') {{\n",
       "            console.log([gd, 'removed!']);\n",
       "            Plotly.purge(gd);\n",
       "            observer.disconnect();\n",
       "        }}\n",
       "}});\n",
       "\n",
       "// Listen for the removal of the full notebook cells\n",
       "var notebookContainer = gd.closest('#notebook-container');\n",
       "if (notebookContainer) {{\n",
       "    x.observe(notebookContainer, {childList: true});\n",
       "}}\n",
       "\n",
       "// Listen for the clearing of the current output cell\n",
       "var outputEl = gd.closest('.output');\n",
       "if (outputEl) {{\n",
       "    x.observe(outputEl, {childList: true});\n",
       "}}\n",
       "\n",
       "                        })                };                });            </script>        </div>"
      ]
     },
     "metadata": {},
     "output_type": "display_data"
    }
   ],
   "source": [
    "overall = pd.read_json('query results\\cap_dict.txt')\n",
    "twentyfive = pd.read_json('query results\\cap_dict_elosum_0-2500.txt')\n",
    "three = pd.read_json('query results\\cap_dict_elosum_2500-3000.txt')\n",
    "thirtyfive = pd.read_json('query results\\cap_dict_elosum_3000-3500.txt')\n",
    "four = pd.read_json('query results\\cap_dict_elosum_3500-4000.txt')\n",
    "ten = pd.read_json('query results\\cap_dict_elosum_4000-10000.txt')\n",
    "\n",
    "overall = generate_captures_heatmap(overall, w_filter)\n",
    "twentyfive = generate_captures_heatmap(twentyfive, w_filter)\n",
    "three = generate_captures_heatmap(three, w_filter)\n",
    "thirtyfive = generate_captures_heatmap(thirtyfive, w_filter)\n",
    "four = generate_captures_heatmap(four, w_filter)\n",
    "ten = generate_captures_heatmap(ten, w_filter)\n",
    "\n",
    "\n",
    "row1 = [overall, twentyfive, three]\n",
    "row2 = [thirtyfive, four, ten]\n",
    "\n",
    "fig = make_subplots(rows=2, cols=3, \n",
    "                   subplot_titles=('All Games', 'Elo 0-1250', 'Elo 1250-1500', 'Elo 1500-1750', 'Elo 1750-2000', 'Elo 2000+'))\n",
    "\n",
    "\n",
    "avg = list(overall['z'])\n",
    "for trace in row1 + row2:\n",
    "    trace['z']= tuple(np.divide(np.array(list(trace['z'])),np.array(avg), where=np.array(avg)!=0).tolist())\n",
    "\n",
    "fig.add_traces(row1, rows=1, cols=[1,2,3])\n",
    "fig.add_traces(row2, rows=2, cols=[1,2,3])\n",
    "\n",
    "fig.update_traces(zmin=0.5, zmax=1.5, colorscale='RdBu', reversescale=True)\n",
    "fig.update_layout(height=750, width = 1000, title_text='Opponent Piece Captures Per Game Breakdown')"
   ]
  },
  {
   "cell_type": "code",
   "execution_count": 12,
   "id": "485ce350",
   "metadata": {
    "scrolled": false
   },
   "outputs": [
    {
     "data": {
      "application/vnd.plotly.v1+json": {
       "config": {
        "plotlyServerURL": "https://plot.ly"
       },
       "data": [
        {
         "colorbar": {
          "tickfont": {
           "size": 16
          },
          "ticklabelposition": "outside bottom",
          "ticks": "outside",
          "ticktext": [
           "<i>None<i>",
           "<i>Occaisonal<i>",
           "<i>Most<i>"
          ],
          "tickvals": [
           0,
           0.1401434339032768,
           0.2802868678065536
          ],
          "title": {
           "font": {
            "size": 18
           },
           "side": "top",
           "text": "Relative Frequency of<br>  Capture on Square"
          }
         },
         "colorscale": [
          [
           0,
           "rgb(247,251,255)"
          ],
          [
           0.125,
           "rgb(222,235,247)"
          ],
          [
           0.25,
           "rgb(198,219,239)"
          ],
          [
           0.375,
           "rgb(158,202,225)"
          ],
          [
           0.5,
           "rgb(107,174,214)"
          ],
          [
           0.625,
           "rgb(66,146,198)"
          ],
          [
           0.75,
           "rgb(33,113,181)"
          ],
          [
           0.875,
           "rgb(8,81,156)"
          ],
          [
           1,
           "rgb(8,48,107)"
          ]
         ],
         "showscale": true,
         "type": "heatmap",
         "x": [
          "A",
          "B",
          "C",
          "D",
          "E",
          "F",
          "G",
          "H"
         ],
         "xaxis": "x",
         "xgap": 1,
         "y": [
          "1",
          "2",
          "3",
          "4",
          "5",
          "6",
          "7",
          "8"
         ],
         "yaxis": "y",
         "ygap": 1,
         "z": [
          [
           0,
           0,
           0,
           0,
           0,
           0,
           0,
           0
          ],
          [
           0.2802868678065536,
           0,
           0,
           0,
           1.09895e-319,
           0,
           0,
           0
          ],
          [
           0.15886229672641983,
           0.030297469252152095,
           0,
           1.3933e-320,
           7.7842e-319,
           1.7554e-320,
           0,
           0
          ],
          [
           0.14348800720605848,
           0.09397998739524675,
           0.002775385344269151,
           5.1245e-319,
           4.795777e-318,
           1.7591e-319,
           2.337e-321,
           0
          ],
          [
           0.06122225163006365,
           0.1032259102254964,
           0.006771764767813718,
           0.0002208025221204646,
           2.64287e-318,
           8.0654e-319,
           1.363e-320,
           7.4e-323
          ],
          [
           0.029295815426638727,
           0.03917709385861912,
           0.007904291611405108,
           0.0003955435909508985,
           1.0967012688102546e-05,
           7.1114e-319,
           4.6314e-320,
           3.85e-322
          ],
          [
           0.01681754839011565,
           0.007638889904353027,
           0.001653825513365864,
           0.00019448169166901848,
           5.849073433654691e-06,
           1.4622683584136728e-06,
           4.2287e-320,
           2.925e-321
          ],
          [
           0.011713500685072726,
           0.003347863406588104,
           0.0006258508574010519,
           8.188702807116568e-05,
           4.386805075241018e-06,
           1.542e-320,
           2.554e-321,
           1.566e-321
          ]
         ]
        },
        {
         "colorscale": [
          [
           0,
           "rgb(247,251,255)"
          ],
          [
           0.125,
           "rgb(222,235,247)"
          ],
          [
           0.25,
           "rgb(198,219,239)"
          ],
          [
           0.375,
           "rgb(158,202,225)"
          ],
          [
           0.5,
           "rgb(107,174,214)"
          ],
          [
           0.625,
           "rgb(66,146,198)"
          ],
          [
           0.75,
           "rgb(33,113,181)"
          ],
          [
           0.875,
           "rgb(8,81,156)"
          ],
          [
           1,
           "rgb(8,48,107)"
          ]
         ],
         "showscale": false,
         "type": "heatmap",
         "x": [
          "A",
          "B",
          "C",
          "D",
          "E",
          "F",
          "G",
          "H"
         ],
         "xaxis": "x2",
         "xgap": 1,
         "y": [
          "1",
          "2",
          "3",
          "4",
          "5",
          "6",
          "7",
          "8"
         ],
         "yaxis": "y2",
         "ygap": 1,
         "z": [
          [
           0,
           0,
           0,
           0,
           0,
           0,
           0,
           0
          ],
          [
           1.894045e-318,
           0.28395012753951443,
           0,
           0,
           0,
           0,
           0,
           0
          ],
          [
           0.01021728994562589,
           0.10856346055404426,
           0.0784262047783573,
           0,
           0,
           0,
           0,
           0
          ],
          [
           0.01354407693887776,
           0.1823874831948893,
           0.06067718211034152,
           0.009230448197872639,
           0,
           0,
           0,
           0
          ],
          [
           0.022064825069258248,
           0.07430494496835695,
           0.05752809184149235,
           0.013401158778272528,
           0.0008515313979787133,
           0,
           0,
           0
          ],
          [
           0.010637349786492223,
           0.01960913241612117,
           0.025407914514290187,
           0.0039011767109694852,
           0.0007091566524328149,
           6.901371253560727e-05,
           0,
           0
          ],
          [
           0.002411676033330906,
           0.007388271146725326,
           0.00453316842497666,
           0.001486240187282566,
           0.00023203823033625436,
           8.4229334197001e-05,
           2.1736602373419613e-06,
           0
          ],
          [
           0.001318868349007235,
           0.004408726376388833,
           0.0020622601501781856,
           0.0004988550244699802,
           7.662152336630414e-05,
           1.521562166139373e-05,
           1.0868301186709806e-06,
           0
          ]
         ]
        },
        {
         "colorscale": [
          [
           0,
           "rgb(247,251,255)"
          ],
          [
           0.125,
           "rgb(222,235,247)"
          ],
          [
           0.25,
           "rgb(198,219,239)"
          ],
          [
           0.375,
           "rgb(158,202,225)"
          ],
          [
           0.5,
           "rgb(107,174,214)"
          ],
          [
           0.625,
           "rgb(66,146,198)"
          ],
          [
           0.75,
           "rgb(33,113,181)"
          ],
          [
           0.875,
           "rgb(8,81,156)"
          ],
          [
           1,
           "rgb(8,48,107)"
          ]
         ],
         "showscale": false,
         "type": "heatmap",
         "x": [
          "A",
          "B",
          "C",
          "D",
          "E",
          "F",
          "G",
          "H"
         ],
         "xaxis": "x3",
         "xgap": 1,
         "y": [
          "1",
          "2",
          "3",
          "4",
          "5",
          "6",
          "7",
          "8"
         ],
         "yaxis": "y3",
         "ygap": 1,
         "z": [
          [
           0,
           0,
           0,
           0,
           0,
           0,
           0,
           0
          ],
          [
           0,
           2.581636e-318,
           0.12783954278670656,
           0,
           0,
           0,
           0,
           0
          ],
          [
           9.2894e-320,
           0.00628107250634307,
           0.12922056565428244,
           0.01634339131569565,
           0,
           0,
           0,
           0
          ],
          [
           0.0003427148299577481,
           0.02226670694141853,
           0.2340624391457579,
           0.08147506414214982,
           0.0013143499943693946,
           0,
           0,
           0
          ],
          [
           0.0006642894806061215,
           0.030040194798621498,
           0.06100689860966732,
           0.19348671075478163,
           0.011788495758344984,
           9.594389071177764e-05,
           0,
           0
          ],
          [
           0.0023506253224385523,
           0.013630943693538951,
           0.01946725935056556,
           0.017217049879846538,
           0.008448753969373573,
           0.0011159575423891086,
           1.01635477448917e-05,
           0
          ],
          [
           0.00042930825674422537,
           0.0024006299773434193,
           0.005729801676660144,
           0.004300806863728372,
           0.0014855041383933707,
           0.0007598268294081034,
           6.585978938689821e-05,
           0
          ],
          [
           0.00022481767611700438,
           0.0008342239989007107,
           0.003244610982079226,
           0.0015412003800353772,
           0.00036995313791405785,
           0.00013009341113461376,
           1.2196257293870039e-05,
           2.03270954897834e-06
          ]
         ]
        },
        {
         "colorscale": [
          [
           0,
           "rgb(247,251,255)"
          ],
          [
           0.125,
           "rgb(222,235,247)"
          ],
          [
           0.25,
           "rgb(198,219,239)"
          ],
          [
           0.375,
           "rgb(158,202,225)"
          ],
          [
           0.5,
           "rgb(107,174,214)"
          ],
          [
           0.625,
           "rgb(66,146,198)"
          ],
          [
           0.75,
           "rgb(33,113,181)"
          ],
          [
           0.875,
           "rgb(8,81,156)"
          ],
          [
           1,
           "rgb(8,48,107)"
          ]
         ],
         "showscale": false,
         "type": "heatmap",
         "x": [
          "A",
          "B",
          "C",
          "D",
          "E",
          "F",
          "G",
          "H"
         ],
         "xaxis": "x4",
         "xgap": 1,
         "y": [
          "1",
          "2",
          "3",
          "4",
          "5",
          "6",
          "7",
          "8"
         ],
         "yaxis": "y4",
         "ygap": 1,
         "z": [
          [
           0,
           0,
           0,
           0,
           0,
           0,
           0,
           0
          ],
          [
           0,
           0,
           1.55362e-318,
           0.006481926152625915,
           0,
           0,
           0,
           0
          ],
          [
           0,
           7.6333e-320,
           0.0015265472419021128,
           0.059945098238724286,
           0.0008618050279519657,
           0,
           0,
           0
          ],
          [
           4.165e-321,
           0.0001682542533234812,
           0.012857812284031569,
           0.4729869175422375,
           0.03436432225255975,
           5.5471803008287975e-05,
           0,
           0
          ],
          [
           4.5971107465432025e-06,
           0.0011143396449620722,
           0.07760443946049535,
           0.09450740272743516,
           0.12971973867570724,
           0.0025710108035167283,
           4.2906366967736555e-06,
           0
          ],
          [
           4.8116425813818855e-05,
           0.0024140960900347203,
           0.02112035266581855,
           0.021899409700332738,
           0.026542185080291603,
           0.01264082865679473,
           0.00015844708373085573,
           0
          ],
          [
           7.20214016958435e-05,
           0.0012059753858431669,
           0.002368431456619058,
           0.005484046646576271,
           0.0035115796622594677,
           0.0024845851214817163,
           0.0005801553762137522,
           6.74242909493003e-06
          ],
          [
           0.00011033065791703686,
           0.00016365714257693802,
           0.0008740639899427476,
           0.0021260104832513463,
           0.0009286163708017269,
           0.0004076104861934973,
           6.374660235206574e-05,
           1.5017228438707795e-05
          ]
         ]
        },
        {
         "colorscale": [
          [
           0,
           "rgb(247,251,255)"
          ],
          [
           0.125,
           "rgb(222,235,247)"
          ],
          [
           0.25,
           "rgb(198,219,239)"
          ],
          [
           0.375,
           "rgb(158,202,225)"
          ],
          [
           0.5,
           "rgb(107,174,214)"
          ],
          [
           0.625,
           "rgb(66,146,198)"
          ],
          [
           0.75,
           "rgb(33,113,181)"
          ],
          [
           0.875,
           "rgb(8,81,156)"
          ],
          [
           1,
           "rgb(8,48,107)"
          ]
         ],
         "showscale": false,
         "type": "heatmap",
         "x": [
          "A",
          "B",
          "C",
          "D",
          "E",
          "F",
          "G",
          "H"
         ],
         "xaxis": "x5",
         "xgap": 1,
         "y": [
          "1",
          "2",
          "3",
          "4",
          "5",
          "6",
          "7",
          "8"
         ],
         "yaxis": "y5",
         "ygap": 1,
         "z": [
          [
           0,
           0,
           0,
           0,
           0,
           0,
           0,
           0
          ],
          [
           0,
           0,
           0,
           1.04495e-319,
           0.006881579777814353,
           0,
           0,
           0
          ],
          [
           0,
           0,
           2.461e-320,
           0.000872456726765116,
           0.048744342953457837,
           0.0010992335993604458,
           0,
           0
          ],
          [
           0,
           2.71e-321,
           3.8363345432224964e-05,
           0.03208939154496617,
           0.300309505570729,
           0.011015539629954595,
           0.00014633759991485812,
           0
          ],
          [
           7.4e-323,
           9.281454540054426e-07,
           0.001830302835298733,
           0.23184733121056156,
           0.16549545023098447,
           0.050505344261524164,
           0.0008535844358670055,
           4.640727270027213e-06
          ],
          [
           7.76e-322,
           7.17765817764209e-05,
           0.012606999701755927,
           0.03836272666858896,
           0.024598638967506248,
           0.04453118135590913,
           0.0029001451619490065,
           2.413178180414151e-05
          ],
          [
           1.8562909080108852e-06,
           0.0010447823993921265,
           0.0015397933081950294,
           0.004544509524628649,
           0.006028923487401354,
           0.0041877922884725576,
           0.002647998980277528,
           0.00018315403625707402
          ],
          [
           6.249512723636647e-05,
           6.775461814239731e-05,
           0.00035609847252008817,
           0.0014030465446382276,
           0.0018782570170890142,
           0.0009655806539836622,
           0.00015995039990693795,
           9.80740363065751e-05
          ]
         ]
        },
        {
         "colorscale": [
          [
           0,
           "rgb(247,251,255)"
          ],
          [
           0.125,
           "rgb(222,235,247)"
          ],
          [
           0.25,
           "rgb(198,219,239)"
          ],
          [
           0.375,
           "rgb(158,202,225)"
          ],
          [
           0.5,
           "rgb(107,174,214)"
          ],
          [
           0.625,
           "rgb(66,146,198)"
          ],
          [
           0.75,
           "rgb(33,113,181)"
          ],
          [
           0.875,
           "rgb(8,81,156)"
          ],
          [
           1,
           "rgb(8,48,107)"
          ]
         ],
         "showscale": false,
         "type": "heatmap",
         "x": [
          "A",
          "B",
          "C",
          "D",
          "E",
          "F",
          "G",
          "H"
         ],
         "xaxis": "x6",
         "xgap": 1,
         "y": [
          "1",
          "2",
          "3",
          "4",
          "5",
          "6",
          "7",
          "8"
         ],
         "yaxis": "y6",
         "ygap": 1,
         "z": [
          [
           0,
           0,
           0,
           0,
           0,
           0,
           0,
           0
          ],
          [
           0,
           0,
           0,
           0,
           1.09895e-319,
           0.19704203948696233,
           0,
           0
          ],
          [
           0,
           0,
           0,
           1.3933e-320,
           0.03940385688449529,
           0.10333470523287334,
           0.018470186908120984,
           0
          ],
          [
           0,
           0,
           6.13e-322,
           0.0030402744854387373,
           0.05435541827765927,
           0.22006274461694322,
           0.023213133827480994,
           0.000934441669865567
          ],
          [
           0,
           1.5e-323,
           0.00014642389321345043,
           0.004539140689616963,
           0.10830866552429648,
           0.08392463522642278,
           0.029725039672960255,
           0.0010398075119414621
          ],
          [
           0,
           5.44142846401336e-06,
           0.0003442940191775726,
           0.005466162229758875,
           0.025266531059673674,
           0.030490302385126497,
           0.02544263547178174,
           0.0013841015311190348
          ],
          [
           3e-323,
           1.879766196659161e-05,
           0.00018698726903609546,
           0.0012757676371536778,
           0.004070188491081993,
           0.007177738819348532,
           0.004250250305709345,
           0.0009839092013565977
          ],
          [
           2.9680518894618327e-06,
           5.44142846401336e-06,
           4.847818086120994e-05,
           0.0003734798627572806,
           0.0015394295800008706,
           0.0031184331851945657,
           0.0008033527114143361,
           0.00020479558037286646
          ]
         ]
        },
        {
         "colorscale": [
          [
           0,
           "rgb(247,251,255)"
          ],
          [
           0.125,
           "rgb(222,235,247)"
          ],
          [
           0.25,
           "rgb(198,219,239)"
          ],
          [
           0.375,
           "rgb(158,202,225)"
          ],
          [
           0.5,
           "rgb(107,174,214)"
          ],
          [
           0.625,
           "rgb(66,146,198)"
          ],
          [
           0.75,
           "rgb(33,113,181)"
          ],
          [
           0.875,
           "rgb(8,81,156)"
          ],
          [
           1,
           "rgb(8,48,107)"
          ]
         ],
         "showscale": false,
         "type": "heatmap",
         "x": [
          "A",
          "B",
          "C",
          "D",
          "E",
          "F",
          "G",
          "H"
         ],
         "xaxis": "x7",
         "xgap": 1,
         "y": [
          "1",
          "2",
          "3",
          "4",
          "5",
          "6",
          "7",
          "8"
         ],
         "yaxis": "y7",
         "ygap": 1,
         "z": [
          [
           0,
           0,
           0,
           0,
           0,
           0,
           0,
           0
          ],
          [
           0,
           0,
           0,
           0,
           0,
           1.96799e-318,
           0.19819979779180474,
           0
          ],
          [
           0,
           0,
           0,
           0,
           3.93553e-319,
           0.05531856732364105,
           0.15599410619953977,
           0.023497920755591862
          ],
          [
           0,
           0,
           0,
           3.0365e-320,
           0.004485496384075498,
           0.05751692679309682,
           0.1972475159879237,
           0.019805673198089305
          ],
          [
           0,
           0,
           1.46e-321,
           0.00019735417665945164,
           0.008165608895116793,
           0.05920369825121207,
           0.09943840282350597,
           0.024572830397397223
          ],
          [
           0,
           5.4e-323,
           1.0857673149549119e-05,
           0.0002771900086414305,
           0.003689692810879133,
           0.0272974676712782,
           0.02765577088521332,
           0.014079208641685928
          ],
          [
           0,
           1.277373311711661e-06,
           1.2773733117116611e-05,
           0.00013476288438558025,
           0.001081935195019777,
           0.004799091532100711,
           0.007040881694154676,
           0.0036922475575025563
          ],
          [
           3e-323,
           6.386866558558305e-07,
           5.7481799027024745e-06,
           5.748179902702475e-05,
           0.0003474455407855718,
           0.0014747274883711128,
           0.003561316793052111,
           0.0011355848741116668
          ]
         ]
        },
        {
         "colorscale": [
          [
           0,
           "rgb(247,251,255)"
          ],
          [
           0.125,
           "rgb(222,235,247)"
          ],
          [
           0.25,
           "rgb(198,219,239)"
          ],
          [
           0.375,
           "rgb(158,202,225)"
          ],
          [
           0.5,
           "rgb(107,174,214)"
          ],
          [
           0.625,
           "rgb(66,146,198)"
          ],
          [
           0.75,
           "rgb(33,113,181)"
          ],
          [
           0.875,
           "rgb(8,81,156)"
          ],
          [
           1,
           "rgb(8,48,107)"
          ]
         ],
         "showscale": false,
         "type": "heatmap",
         "x": [
          "A",
          "B",
          "C",
          "D",
          "E",
          "F",
          "G",
          "H"
         ],
         "xaxis": "x8",
         "xgap": 1,
         "y": [
          "1",
          "2",
          "3",
          "4",
          "5",
          "6",
          "7",
          "8"
         ],
         "yaxis": "y8",
         "ygap": 1,
         "z": [
          [
           0,
           0,
           0,
           0,
           0,
           0,
           0,
           0
          ],
          [
           0,
           0,
           0,
           0,
           0,
           0,
           1.533204e-318,
           0.1853282259908766
          ],
          [
           0,
           0,
           0,
           0,
           0,
           4.27925e-319,
           0.02873331487789319,
           0.19246717138283403
          ],
          [
           0,
           0,
           0,
           0,
           3.47e-320,
           0.002730703031907851,
           0.09953450164293538,
           0.15072878928300615
          ],
          [
           0,
           0,
           0,
           1.527e-321,
           0.00014593839895044714,
           0.007217932669739899,
           0.08681378862101753,
           0.07976962796239905
          ],
          [
           0,
           0,
           8.4e-323,
           7.522597884043667e-06,
           0.0003340033460515388,
           0.007378164004670029,
           0.08484211571560969,
           0.034031480567625144
          ],
          [
           0,
           1e-323,
           1e-322,
           1.3540676191278601e-05,
           0.00015195647725768207,
           0.0035363732652889278,
           0.009975717054030307,
           0.014599857973351948
          ],
          [
           0,
           5e-324,
           4.4e-323,
           3.009039153617467e-06,
           8.35008365128847e-05,
           0.000652209236546586,
           0.0023763886715693944,
           0.008544166676696796
          ]
         ]
        },
        {
         "colorscale": [
          [
           0,
           "rgb(247,251,255)"
          ],
          [
           0.125,
           "rgb(222,235,247)"
          ],
          [
           0.25,
           "rgb(198,219,239)"
          ],
          [
           0.375,
           "rgb(158,202,225)"
          ],
          [
           0.5,
           "rgb(107,174,214)"
          ],
          [
           0.625,
           "rgb(66,146,198)"
          ],
          [
           0.75,
           "rgb(33,113,181)"
          ],
          [
           0.875,
           "rgb(8,81,156)"
          ],
          [
           1,
           "rgb(8,48,107)"
          ]
         ],
         "showscale": false,
         "type": "heatmap",
         "x": [
          "A",
          "B",
          "C",
          "D",
          "E",
          "F",
          "G",
          "H"
         ],
         "xaxis": "x9",
         "xgap": 1,
         "y": [
          "1",
          "2",
          "3",
          "4",
          "5",
          "6",
          "7",
          "8"
         ],
         "yaxis": "y9",
         "ygap": 1,
         "z": [
          [
           0.11258923060375943,
           0.02801213545900891,
           0.04817701646387608,
           0.08240949519242416,
           0.04669545172221,
           0.02622243625831745,
           0.009208666136313645,
           0.005061932119335244
          ],
          [
           0.00784337854899677,
           0.009625810427541407,
           0.014140270945149159,
           0.022425502680672896,
           0.014364588955414493,
           0.010864162121360404,
           0.005334698943912745,
           0.0021709913693282183
          ],
          [
           0.006771690776411629,
           0.0066074492958933815,
           0.012110265625469348,
           0.01641930317039351,
           0.012035169963285488,
           0.007780879578534075,
           0.004804184427194514,
           0.002122542555016051
          ],
          [
           0.005901065583221982,
           0.006412685062358469,
           0.009712049317017064,
           0.01741783323336728,
           0.011327332786184724,
           0.006401057346923549,
           0.004309522033067285,
           0.002031943272252298
          ],
          [
           0.006055132812734674,
           0.005572098134042366,
           0.01035060468965143,
           0.016775886443731063,
           0.011714923300682063,
           0.00682110856701004,
           0.004366691633955642,
           0.0022984117509692184
          ],
          [
           0.006805120458287024,
           0.0069795361898108265,
           0.013114125058017454,
           0.016747301643286885,
           0.012890776024038363,
           0.00951098673762157,
           0.006294954443579902,
           0.0029006305128694587
          ],
          [
           0.008114691909144907,
           0.010725598512427605,
           0.01493628496429807,
           0.023155141824214135,
           0.01707336216360777,
           0.0152812405222007,
           0.00920139881416682,
           0.003711179176312018
          ],
          [
           0.01883689900457066,
           0.012978952866086508,
           0.030882727707004825,
           0.058175882761621174,
           0.030502404514654313,
           0.02034268815339282,
           0.0054698711358436925,
           0.00410264559595433
          ]
         ]
        },
        {
         "colorscale": [
          [
           0,
           "rgb(247,251,255)"
          ],
          [
           0.125,
           "rgb(222,235,247)"
          ],
          [
           0.25,
           "rgb(198,219,239)"
          ],
          [
           0.375,
           "rgb(158,202,225)"
          ],
          [
           0.5,
           "rgb(107,174,214)"
          ],
          [
           0.625,
           "rgb(66,146,198)"
          ],
          [
           0.75,
           "rgb(33,113,181)"
          ],
          [
           0.875,
           "rgb(8,81,156)"
          ],
          [
           1,
           "rgb(8,48,107)"
          ]
         ],
         "showscale": false,
         "type": "heatmap",
         "x": [
          "A",
          "B",
          "C",
          "D",
          "E",
          "F",
          "G",
          "H"
         ],
         "xaxis": "x10",
         "xgap": 1,
         "y": [
          "1",
          "2",
          "3",
          "4",
          "5",
          "6",
          "7",
          "8"
         ],
         "yaxis": "y10",
         "ygap": 1,
         "z": [
          [
           0.0002467784840120883,
           0.0063802210468408786,
           0.000795704327821848,
           0.0016342748820583409,
           0.0007221768422356166,
           0.0017447149515016278,
           0.0005513073008327955,
           0.00016432053458947254
          ],
          [
           0.001352965271212233,
           0.001272888778812653,
           0.002451114640959632,
           0.028347971355834927,
           0.011833162265337179,
           0.002223983177387589,
           0.0007570056511975157,
           0.0008611943959553334
          ],
          [
           0.009247792984703901,
           0.005460978635949046,
           0.18755789917387256,
           0.0041490934983841815,
           0.009051620462431324,
           0.016987230627442482,
           0.010949344027663005,
           0.0011695930804384738
          ],
          [
           0.008771203897968856,
           0.00541930313804592,
           0.01859620252863107,
           0.024530198065780606,
           0.12645566560533064,
           0.012516342748820583,
           0.0054919375772485126,
           0.0025198792124997917
          ],
          [
           0.002716349416900248,
           0.022850675500284585,
           0.029288646879934082,
           0.1346440078969115,
           0.02524136066928468,
           0.0173090250076802,
           0.011236904963194582,
           0.004348838206191312
          ],
          [
           0.0020513275432174913,
           0.014036010011645325,
           0.010039627444863317,
           0.036525001726556344,
           0.016677045850192064,
           0.06675491949484534,
           0.005958107789507777,
           0.0023153715906465895
          ],
          [
           0.0021096732402818693,
           0.004432784566253325,
           0.009079304900324115,
           0.009394550273748485,
           0.020113190652304894,
           0.005960786928658692,
           0.003613861032456878,
           0.0011502437421263077
          ],
          [
           0.006981538945157426,
           0.0011234523506171545,
           0.007349474055216462,
           0.0034331679808340338,
           0.005143351805501642,
           0.005422279959324714,
           0.0013857103052789758,
           0.0010993400982589167
          ]
         ]
        },
        {
         "colorscale": [
          [
           0,
           "rgb(247,251,255)"
          ],
          [
           0.125,
           "rgb(222,235,247)"
          ],
          [
           0.25,
           "rgb(198,219,239)"
          ],
          [
           0.375,
           "rgb(158,202,225)"
          ],
          [
           0.5,
           "rgb(107,174,214)"
          ],
          [
           0.625,
           "rgb(66,146,198)"
          ],
          [
           0.75,
           "rgb(33,113,181)"
          ],
          [
           0.875,
           "rgb(8,81,156)"
          ],
          [
           1,
           "rgb(8,48,107)"
          ]
         ],
         "showscale": false,
         "type": "heatmap",
         "x": [
          "A",
          "B",
          "C",
          "D",
          "E",
          "F",
          "G",
          "H"
         ],
         "xaxis": "x11",
         "xgap": 1,
         "y": [
          "1",
          "2",
          "3",
          "4",
          "5",
          "6",
          "7",
          "8"
         ],
         "yaxis": "y11",
         "ygap": 1,
         "z": [
          [
           0.0015269624571281244,
           1.05893e-319,
           0.018212922300074395,
           2.7124e-320,
           0.0030517738300944665,
           2.8957e-320,
           0.0009372580990623424,
           2.727e-321
          ],
          [
           2.2455e-320,
           0.02479984930118958,
           4.068e-320,
           0.047307872076868686,
           1.96396e-319,
           0.007752507319063861,
           1.2564e-320,
           0.002242044292052082
          ],
          [
           0.010551375111280193,
           9.0636e-320,
           0.026082202759349304,
           6.8863e-320,
           0.0938650157812753,
           2.8194e-319,
           0.028594361762573777,
           1.941e-320
          ],
          [
           1.45576e-319,
           0.020300088532478146,
           3.08643e-319,
           0.054121584808183215,
           2.098796e-318,
           0.06663382678179679,
           9.115e-320,
           0.00858221121003708
          ],
          [
           0.004649722064561411,
           3.79255e-319,
           0.03492346596201247,
           2.2347e-318,
           0.059111792765781046,
           2.8728e-319,
           0.05301223997617828,
           7.218e-320
          ],
          [
           3.4046e-320,
           0.01439136763779922,
           1.6663e-319,
           0.04204232534656271,
           2.7679e-319,
           0.17356176208210197,
           9.8887e-320,
           0.03776289705556527
          ],
          [
           0.003544986698617437,
           7.357e-320,
           0.007643416622287752,
           1.5592e-319,
           0.06052228938043552,
           9.893e-320,
           0.045387875813609174,
           1.909e-320
          ],
          [
           1.15873e-319,
           0.006648079250857284,
           1.2198e-319,
           0.014971853063743077,
           8.5365e-320,
           0.02402545900294791,
           2.3e-320,
           0.00323861085443214
          ]
         ]
        },
        {
         "colorscale": [
          [
           0,
           "rgb(247,251,255)"
          ],
          [
           0.125,
           "rgb(222,235,247)"
          ],
          [
           0.25,
           "rgb(198,219,239)"
          ],
          [
           0.375,
           "rgb(158,202,225)"
          ],
          [
           0.5,
           "rgb(107,174,214)"
          ],
          [
           0.625,
           "rgb(66,146,198)"
          ],
          [
           0.75,
           "rgb(33,113,181)"
          ],
          [
           0.875,
           "rgb(8,81,156)"
          ],
          [
           1,
           "rgb(8,48,107)"
          ]
         ],
         "showscale": false,
         "type": "heatmap",
         "x": [
          "A",
          "B",
          "C",
          "D",
          "E",
          "F",
          "G",
          "H"
         ],
         "xaxis": "x12",
         "xgap": 1,
         "y": [
          "1",
          "2",
          "3",
          "4",
          "5",
          "6",
          "7",
          "8"
         ],
         "yaxis": "y12",
         "ygap": 1,
         "z": [
          [
           0.002179096746537112,
           0.002810460130334215,
           0.005951745354761377,
           0.07377749061400284,
           0.008441087700101615,
           0.007160499483765302,
           0.0022781112993466206,
           0.0009012265767485096
          ],
          [
           0.0016549020551926532,
           0.006014260425358753,
           0.017292212136543788,
           0.03262704246637097,
           0.036382994502945,
           0.017251441438328106,
           0.01082675598426484,
           0.0029351019791650085
          ],
          [
           0.0032267095444981106,
           0.015490535567774685,
           0.018612017881639947,
           0.025953461607010075,
           0.025851729007652854,
           0.041500299567558796,
           0.01969069406871765,
           0.00710652684517502
          ],
          [
           0.006754345671064336,
           0.010776666269314148,
           0.013300566635046725,
           0.0381582671909649,
           0.026025683986706422,
           0.0203065257579564,
           0.02550343075718176,
           0.00885811369899343
          ],
          [
           0.004954610564115029,
           0.009809429990692632,
           0.013508303049764714,
           0.03356903974133516,
           0.026044710312540405,
           0.019275221239281673,
           0.020998851042895044,
           0.010378666596256319
          ],
          [
           0.0038817587624967046,
           0.01349626598648199,
           0.01475433324570869,
           0.021173582606676532,
           0.020982931055972733,
           0.03246007674986866,
           0.015516551156159929,
           0.006697266693562384
          ],
          [
           0.0026889246204150922,
           0.006691054015739043,
           0.01017403652045,
           0.022294194369061795,
           0.023935117899151932,
           0.015290176707971915,
           0.010757251651116205,
           0.004190839484207955
          ],
          [
           0.0034379405904917297,
           0.0037423618038354744,
           0.006546220963982389,
           0.06160530158862055,
           0.010626785416826028,
           0.008361876057854009,
           0.0037823559173232367,
           0.0027739606481220823
          ]
         ]
        },
        {
         "colorscale": [
          [
           0,
           "rgb(247,251,255)"
          ],
          [
           0.125,
           "rgb(222,235,247)"
          ],
          [
           0.25,
           "rgb(198,219,239)"
          ],
          [
           0.375,
           "rgb(158,202,225)"
          ],
          [
           0.5,
           "rgb(107,174,214)"
          ],
          [
           0.625,
           "rgb(66,146,198)"
          ],
          [
           0.75,
           "rgb(33,113,181)"
          ],
          [
           0.875,
           "rgb(8,81,156)"
          ],
          [
           1,
           "rgb(8,48,107)"
          ]
         ],
         "showscale": false,
         "type": "heatmap",
         "x": [
          "A",
          "B",
          "C",
          "D",
          "E",
          "F",
          "G",
          "H"
         ],
         "xaxis": "x13",
         "xgap": 1,
         "y": [
          "1",
          "2",
          "3",
          "4",
          "5",
          "6",
          "7",
          "8"
         ],
         "yaxis": "y13",
         "ygap": 1,
         "z": [
          [
           0,
           0,
           0,
           0,
           0,
           0,
           0,
           0
          ],
          [
           0,
           0,
           0,
           0,
           0,
           0,
           0,
           0
          ],
          [
           0,
           0,
           0,
           0,
           0,
           0,
           0,
           0
          ],
          [
           0,
           0,
           0,
           0,
           0,
           0,
           0,
           0
          ],
          [
           0,
           0,
           0,
           0,
           0,
           0,
           0,
           0
          ],
          [
           0,
           0,
           0,
           0,
           0,
           0,
           0,
           0
          ],
          [
           0,
           0,
           0,
           0,
           0,
           0,
           0,
           0
          ],
          [
           0,
           0,
           0,
           0,
           0,
           0,
           0,
           0
          ]
         ],
         "zmax": 1,
         "zmin": 0
        },
        {
         "colorscale": [
          [
           0,
           "rgb(247,251,255)"
          ],
          [
           0.125,
           "rgb(222,235,247)"
          ],
          [
           0.25,
           "rgb(198,219,239)"
          ],
          [
           0.375,
           "rgb(158,202,225)"
          ],
          [
           0.5,
           "rgb(107,174,214)"
          ],
          [
           0.625,
           "rgb(66,146,198)"
          ],
          [
           0.75,
           "rgb(33,113,181)"
          ],
          [
           0.875,
           "rgb(8,81,156)"
          ],
          [
           1,
           "rgb(8,48,107)"
          ]
         ],
         "showscale": false,
         "type": "heatmap",
         "x": [
          "A",
          "B",
          "C",
          "D",
          "E",
          "F",
          "G",
          "H"
         ],
         "xaxis": "x14",
         "xgap": 1,
         "y": [
          "1",
          "2",
          "3",
          "4",
          "5",
          "6",
          "7",
          "8"
         ],
         "yaxis": "y14",
         "ygap": 1,
         "z": [
          [
           0,
           0.002500806241521423,
           0,
           0.0037972364710217926,
           0,
           0.013497296214208936,
           0,
           0.0008202030777407072
          ],
          [
           0.003952808098561837,
           0,
           0.010245941252839489,
           0,
           0.05569372211716109,
           0,
           0.03358536755254531,
           0
          ],
          [
           0,
           0.027640813035122672,
           0,
           0.09647742262919733,
           0,
           0.037701725310828736,
           0,
           0.009724607534514962
          ],
          [
           0.00558400883229532,
           0,
           0.07419692667789524,
           0,
           0.06860892882950914,
           0,
           0.02669909839030927,
           0
          ],
          [
           0,
           0.03184124697870387,
           0,
           0.06803389681765502,
           0,
           0.04142317047612589,
           0,
           0.010063673902230444
          ],
          [
           0.019848730372890155,
           0,
           0.12881821716142228,
           0,
           0.053397583085835344,
           0,
           0.031135191130637514,
           0
          ],
          [
           0,
           0.016403447860030947,
           0,
           0.05078140222507318,
           0,
           0.03561731097970542,
           0,
           0.011795827427799575
          ],
          [
           0.009803160466763978,
           0,
           0.008534346502507404,
           0,
           0.006125287631073699,
           0,
           0.005650594716272025,
           0
          ]
         ]
        },
        {
         "colorscale": [
          [
           0,
           "rgb(247,251,255)"
          ],
          [
           0.125,
           "rgb(222,235,247)"
          ],
          [
           0.25,
           "rgb(198,219,239)"
          ],
          [
           0.375,
           "rgb(158,202,225)"
          ],
          [
           0.5,
           "rgb(107,174,214)"
          ],
          [
           0.625,
           "rgb(66,146,198)"
          ],
          [
           0.75,
           "rgb(33,113,181)"
          ],
          [
           0.875,
           "rgb(8,81,156)"
          ],
          [
           1,
           "rgb(8,48,107)"
          ]
         ],
         "showscale": false,
         "type": "heatmap",
         "x": [
          "A",
          "B",
          "C",
          "D",
          "E",
          "F",
          "G",
          "H"
         ],
         "xaxis": "x15",
         "xgap": 1,
         "y": [
          "1",
          "2",
          "3",
          "4",
          "5",
          "6",
          "7",
          "8"
         ],
         "yaxis": "y15",
         "ygap": 1,
         "z": [
          [
           0.0001957778801922213,
           0.0004260723118992912,
           0.0007077273722604559,
           0.000360905062639257,
           0.0017658667754996548,
           0.000980822327845938,
           0.003789917356330377,
           0.00011293815655658464
          ],
          [
           0.0003352247483122097,
           0.0004937247528683944,
           0.0015703650277195521,
           0.009622938429927673,
           0.01593919122473285,
           0.0022695322952043257,
           0.001305001779673396,
           0.003247317166516957
          ],
          [
           0.0007234669197512268,
           0.004417566329076384,
           0.005126398230985315,
           0.006093137805813195,
           0.004187548029781433,
           0.1963994542519007,
           0.006446035028501007,
           0.009545069089710175
          ],
          [
           0.0005953414805281087,
           0.0024004190585486316,
           0.009178917511240661,
           0.11308699192671667,
           0.024452905755179347,
           0.013730131927782538,
           0.013917349703199076,
           0.016847390728191546
          ],
          [
           0.0015289451659017338,
           0.004702534978382974,
           0.008711149205111433,
           0.011482137960723478,
           0.16447164410066573,
           0.02926506530117348,
           0.042672674571601274,
           0.0040652213712128096
          ],
          [
           0.000704966048139268,
           0.0023410505899430917,
           0.06571371530361725,
           0.012641894091622391,
           0.032441968702600146,
           0.016776424698277018,
           0.02408205992570381,
           0.003856741400063124
          ],
          [
           0.0007325792893511468,
           0.001863617649389706,
           0.0020317822883700485,
           0.026377824800059423,
           0.010946164948800909,
           0.023175793349129947,
           0.004419775388373334,
           0.0031680671642388644
          ],
          [
           0.0014535610173933046,
           0.0015165192073563884,
           0.003110907754930275,
           0.006954947064035935,
           0.0023976577344274434,
           0.010986480280970252,
           0.0008521446237985824,
           0.004282537579550296
          ]
         ]
        },
        {
         "colorscale": [
          [
           0,
           "rgb(247,251,255)"
          ],
          [
           0.125,
           "rgb(222,235,247)"
          ],
          [
           0.25,
           "rgb(198,219,239)"
          ],
          [
           0.375,
           "rgb(158,202,225)"
          ],
          [
           0.5,
           "rgb(107,174,214)"
          ],
          [
           0.625,
           "rgb(66,146,198)"
          ],
          [
           0.75,
           "rgb(33,113,181)"
          ],
          [
           0.875,
           "rgb(8,81,156)"
          ],
          [
           1,
           "rgb(8,48,107)"
          ]
         ],
         "showscale": false,
         "type": "heatmap",
         "x": [
          "A",
          "B",
          "C",
          "D",
          "E",
          "F",
          "G",
          "H"
         ],
         "xaxis": "x16",
         "xgap": 1,
         "y": [
          "1",
          "2",
          "3",
          "4",
          "5",
          "6",
          "7",
          "8"
         ],
         "yaxis": "y16",
         "ygap": 1,
         "z": [
          [
           0.007204923379786007,
           0.010339376127365291,
           0.022978867631935112,
           0.04812227662207117,
           0.07459403242169091,
           0.08871555224358751,
           0.01671831943931786,
           0.05621075259830857
          ],
          [
           0.002898126803494281,
           0.004903415118824592,
           0.008530484421755916,
           0.015227005230278506,
           0.020688502441028784,
           0.03526317377849898,
           0.010309196979299426,
           0.006057651458697515
          ],
          [
           0.0019472514921267245,
           0.003375421637520574,
           0.007243459830393188,
           0.011780546521156744,
           0.018438995173657782,
           0.02011974157363364,
           0.010274374885377274,
           0.007124600416472243
          ],
          [
           0.0017587478903614766,
           0.0033285278843720764,
           0.005579892330085593,
           0.01166865152602023,
           0.01927890407906008,
           0.014666601665424678,
           0.008177156242092483,
           0.006074830358365776
          ],
          [
           0.0018813216609674507,
           0.0031832036790702964,
           0.005748895559254436,
           0.011355252680720863,
           0.01945301454867084,
           0.014814711638240231,
           0.007089778322550091,
           0.008014188842536813
          ],
          [
           0.0022467214998572295,
           0.0038949672788390777,
           0.006949097063104598,
           0.011053925494647844,
           0.01900357738978227,
           0.020227922212085123,
           0.009867188533780913,
           0.00680702291990222
          ],
          [
           0.0035156386023804382,
           0.005852433251849634,
           0.008947420959650478,
           0.016379848686394544,
           0.02332244562530034,
           0.0214169806458802,
           0.012751850794291962,
           0.0077407193316015145
          ],
          [
           0.004085792353532469,
           0.005567820670859247,
           0.014579314283326485,
           0.037245711659133485,
           0.05033974756303379,
           0.037894331195256765,
           0.008818347064845704,
           0.010351447786591637
          ]
         ]
        }
       ],
       "layout": {
        "annotations": [
         {
          "font": {
           "size": 24
          },
          "showarrow": false,
          "text": "<i>All Games<i>",
          "x": 0.535,
          "xanchor": "center",
          "xref": "paper",
          "y": 1.15,
          "yanchor": "top",
          "yref": "paper"
         },
         {
          "font": {
           "color": "white",
           "family": "Droid Sans",
           "size": 14
          },
          "showarrow": false,
          "text": "<i>~4.7 million games analyzed<br>Source: https://database.lichess.org/standard/lichess_db_standard_rated_2016-01.pgn.bz2<i>",
          "x": -0.03,
          "xanchor": "left",
          "xref": "paper",
          "y": -0.14,
          "yanchor": "bottom",
          "yref": "paper"
         }
        ],
        "font": {
         "color": "white",
         "family": "Droid Sans"
        },
        "height": 800,
        "images": [
         {
          "sizex": 0.06,
          "sizey": 0.06,
          "source": "https://upload.wikimedia.org/wikipedia/commons/0/04/Chess_plt60.png",
          "x": 0.0516,
          "xanchor": "center",
          "xref": "paper",
          "y": 1.03,
          "yanchor": "middle",
          "yref": "paper"
         },
         {
          "sizex": 0.06,
          "sizey": 0.06,
          "source": "https://upload.wikimedia.org/wikipedia/commons/0/04/Chess_plt60.png",
          "x": 0.1796,
          "xanchor": "center",
          "xref": "paper",
          "y": 1.03,
          "yanchor": "middle",
          "yref": "paper"
         },
         {
          "sizex": 0.06,
          "sizey": 0.06,
          "source": "https://upload.wikimedia.org/wikipedia/commons/0/04/Chess_plt60.png",
          "x": 0.3076,
          "xanchor": "center",
          "xref": "paper",
          "y": 1.03,
          "yanchor": "middle",
          "yref": "paper"
         },
         {
          "sizex": 0.06,
          "sizey": 0.06,
          "source": "https://upload.wikimedia.org/wikipedia/commons/0/04/Chess_plt60.png",
          "x": 0.4356,
          "xanchor": "center",
          "xref": "paper",
          "y": 1.03,
          "yanchor": "middle",
          "yref": "paper"
         },
         {
          "sizex": 0.06,
          "sizey": 0.06,
          "source": "https://upload.wikimedia.org/wikipedia/commons/0/04/Chess_plt60.png",
          "x": 0.5636,
          "xanchor": "center",
          "xref": "paper",
          "y": 1.03,
          "yanchor": "middle",
          "yref": "paper"
         },
         {
          "sizex": 0.06,
          "sizey": 0.06,
          "source": "https://upload.wikimedia.org/wikipedia/commons/0/04/Chess_plt60.png",
          "x": 0.6916,
          "xanchor": "center",
          "xref": "paper",
          "y": 1.03,
          "yanchor": "middle",
          "yref": "paper"
         },
         {
          "sizex": 0.06,
          "sizey": 0.06,
          "source": "https://upload.wikimedia.org/wikipedia/commons/0/04/Chess_plt60.png",
          "x": 0.8196,
          "xanchor": "center",
          "xref": "paper",
          "y": 1.03,
          "yanchor": "middle",
          "yref": "paper"
         },
         {
          "sizex": 0.06,
          "sizey": 0.06,
          "source": "https://upload.wikimedia.org/wikipedia/commons/0/04/Chess_plt60.png",
          "x": 0.9476,
          "xanchor": "center",
          "xref": "paper",
          "y": 1.03,
          "yanchor": "middle",
          "yref": "paper"
         },
         {
          "sizex": 0.06,
          "sizey": 0.06,
          "source": "https://upload.wikimedia.org/wikipedia/commons/5/5c/Chess_rlt60.png",
          "x": 0.0516,
          "xanchor": "center",
          "xref": "paper",
          "y": 0.457,
          "yanchor": "middle",
          "yref": "paper"
         },
         {
          "sizex": 0.06,
          "sizey": 0.06,
          "source": "https://upload.wikimedia.org/wikipedia/commons/2/28/Chess_nlt60.png",
          "x": 0.1796,
          "xanchor": "center",
          "xref": "paper",
          "y": 0.457,
          "yanchor": "middle",
          "yref": "paper"
         },
         {
          "sizex": 0.06,
          "sizey": 0.06,
          "source": "https://upload.wikimedia.org/wikipedia/commons/9/9b/Chess_blt60.png",
          "x": 0.3076,
          "xanchor": "center",
          "xref": "paper",
          "y": 0.457,
          "yanchor": "middle",
          "yref": "paper"
         },
         {
          "sizex": 0.06,
          "sizey": 0.06,
          "source": "https://upload.wikimedia.org/wikipedia/commons/4/49/Chess_qlt60.png",
          "x": 0.4356,
          "xanchor": "center",
          "xref": "paper",
          "y": 0.457,
          "yanchor": "middle",
          "yref": "paper"
         },
         {
          "sizex": 0.06,
          "sizey": 0.06,
          "source": "https://upload.wikimedia.org/wikipedia/commons/3/3b/Chess_klt60.png",
          "x": 0.5636,
          "xanchor": "center",
          "xref": "paper",
          "y": 0.457,
          "yanchor": "middle",
          "yref": "paper"
         },
         {
          "sizex": 0.06,
          "sizey": 0.06,
          "source": "https://upload.wikimedia.org/wikipedia/commons/9/9b/Chess_blt60.png",
          "x": 0.6916,
          "xanchor": "center",
          "xref": "paper",
          "y": 0.457,
          "yanchor": "middle",
          "yref": "paper"
         },
         {
          "sizex": 0.06,
          "sizey": 0.06,
          "source": "https://upload.wikimedia.org/wikipedia/commons/2/28/Chess_nlt60.png",
          "x": 0.8196,
          "xanchor": "center",
          "xref": "paper",
          "y": 0.457,
          "yanchor": "middle",
          "yref": "paper"
         },
         {
          "sizex": 0.06,
          "sizey": 0.06,
          "source": "https://upload.wikimedia.org/wikipedia/commons/5/5c/Chess_rlt60.png",
          "x": 0.9476,
          "xanchor": "center",
          "xref": "paper",
          "y": 0.457,
          "yanchor": "middle",
          "yref": "paper"
         }
        ],
        "margin": {
         "t": 150
        },
        "paper_bgcolor": "#494952",
        "template": {
         "data": {
          "bar": [
           {
            "error_x": {
             "color": "#2a3f5f"
            },
            "error_y": {
             "color": "#2a3f5f"
            },
            "marker": {
             "line": {
              "color": "#E5ECF6",
              "width": 0.5
             }
            },
            "type": "bar"
           }
          ],
          "barpolar": [
           {
            "marker": {
             "line": {
              "color": "#E5ECF6",
              "width": 0.5
             }
            },
            "type": "barpolar"
           }
          ],
          "carpet": [
           {
            "aaxis": {
             "endlinecolor": "#2a3f5f",
             "gridcolor": "white",
             "linecolor": "white",
             "minorgridcolor": "white",
             "startlinecolor": "#2a3f5f"
            },
            "baxis": {
             "endlinecolor": "#2a3f5f",
             "gridcolor": "white",
             "linecolor": "white",
             "minorgridcolor": "white",
             "startlinecolor": "#2a3f5f"
            },
            "type": "carpet"
           }
          ],
          "choropleth": [
           {
            "colorbar": {
             "outlinewidth": 0,
             "ticks": ""
            },
            "type": "choropleth"
           }
          ],
          "contour": [
           {
            "colorbar": {
             "outlinewidth": 0,
             "ticks": ""
            },
            "colorscale": [
             [
              0,
              "#0d0887"
             ],
             [
              0.1111111111111111,
              "#46039f"
             ],
             [
              0.2222222222222222,
              "#7201a8"
             ],
             [
              0.3333333333333333,
              "#9c179e"
             ],
             [
              0.4444444444444444,
              "#bd3786"
             ],
             [
              0.5555555555555556,
              "#d8576b"
             ],
             [
              0.6666666666666666,
              "#ed7953"
             ],
             [
              0.7777777777777778,
              "#fb9f3a"
             ],
             [
              0.8888888888888888,
              "#fdca26"
             ],
             [
              1,
              "#f0f921"
             ]
            ],
            "type": "contour"
           }
          ],
          "contourcarpet": [
           {
            "colorbar": {
             "outlinewidth": 0,
             "ticks": ""
            },
            "type": "contourcarpet"
           }
          ],
          "heatmap": [
           {
            "colorbar": {
             "outlinewidth": 0,
             "ticks": ""
            },
            "colorscale": [
             [
              0,
              "#0d0887"
             ],
             [
              0.1111111111111111,
              "#46039f"
             ],
             [
              0.2222222222222222,
              "#7201a8"
             ],
             [
              0.3333333333333333,
              "#9c179e"
             ],
             [
              0.4444444444444444,
              "#bd3786"
             ],
             [
              0.5555555555555556,
              "#d8576b"
             ],
             [
              0.6666666666666666,
              "#ed7953"
             ],
             [
              0.7777777777777778,
              "#fb9f3a"
             ],
             [
              0.8888888888888888,
              "#fdca26"
             ],
             [
              1,
              "#f0f921"
             ]
            ],
            "type": "heatmap"
           }
          ],
          "heatmapgl": [
           {
            "colorbar": {
             "outlinewidth": 0,
             "ticks": ""
            },
            "colorscale": [
             [
              0,
              "#0d0887"
             ],
             [
              0.1111111111111111,
              "#46039f"
             ],
             [
              0.2222222222222222,
              "#7201a8"
             ],
             [
              0.3333333333333333,
              "#9c179e"
             ],
             [
              0.4444444444444444,
              "#bd3786"
             ],
             [
              0.5555555555555556,
              "#d8576b"
             ],
             [
              0.6666666666666666,
              "#ed7953"
             ],
             [
              0.7777777777777778,
              "#fb9f3a"
             ],
             [
              0.8888888888888888,
              "#fdca26"
             ],
             [
              1,
              "#f0f921"
             ]
            ],
            "type": "heatmapgl"
           }
          ],
          "histogram": [
           {
            "marker": {
             "colorbar": {
              "outlinewidth": 0,
              "ticks": ""
             }
            },
            "type": "histogram"
           }
          ],
          "histogram2d": [
           {
            "colorbar": {
             "outlinewidth": 0,
             "ticks": ""
            },
            "colorscale": [
             [
              0,
              "#0d0887"
             ],
             [
              0.1111111111111111,
              "#46039f"
             ],
             [
              0.2222222222222222,
              "#7201a8"
             ],
             [
              0.3333333333333333,
              "#9c179e"
             ],
             [
              0.4444444444444444,
              "#bd3786"
             ],
             [
              0.5555555555555556,
              "#d8576b"
             ],
             [
              0.6666666666666666,
              "#ed7953"
             ],
             [
              0.7777777777777778,
              "#fb9f3a"
             ],
             [
              0.8888888888888888,
              "#fdca26"
             ],
             [
              1,
              "#f0f921"
             ]
            ],
            "type": "histogram2d"
           }
          ],
          "histogram2dcontour": [
           {
            "colorbar": {
             "outlinewidth": 0,
             "ticks": ""
            },
            "colorscale": [
             [
              0,
              "#0d0887"
             ],
             [
              0.1111111111111111,
              "#46039f"
             ],
             [
              0.2222222222222222,
              "#7201a8"
             ],
             [
              0.3333333333333333,
              "#9c179e"
             ],
             [
              0.4444444444444444,
              "#bd3786"
             ],
             [
              0.5555555555555556,
              "#d8576b"
             ],
             [
              0.6666666666666666,
              "#ed7953"
             ],
             [
              0.7777777777777778,
              "#fb9f3a"
             ],
             [
              0.8888888888888888,
              "#fdca26"
             ],
             [
              1,
              "#f0f921"
             ]
            ],
            "type": "histogram2dcontour"
           }
          ],
          "mesh3d": [
           {
            "colorbar": {
             "outlinewidth": 0,
             "ticks": ""
            },
            "type": "mesh3d"
           }
          ],
          "parcoords": [
           {
            "line": {
             "colorbar": {
              "outlinewidth": 0,
              "ticks": ""
             }
            },
            "type": "parcoords"
           }
          ],
          "pie": [
           {
            "automargin": true,
            "type": "pie"
           }
          ],
          "scatter": [
           {
            "marker": {
             "colorbar": {
              "outlinewidth": 0,
              "ticks": ""
             }
            },
            "type": "scatter"
           }
          ],
          "scatter3d": [
           {
            "line": {
             "colorbar": {
              "outlinewidth": 0,
              "ticks": ""
             }
            },
            "marker": {
             "colorbar": {
              "outlinewidth": 0,
              "ticks": ""
             }
            },
            "type": "scatter3d"
           }
          ],
          "scattercarpet": [
           {
            "marker": {
             "colorbar": {
              "outlinewidth": 0,
              "ticks": ""
             }
            },
            "type": "scattercarpet"
           }
          ],
          "scattergeo": [
           {
            "marker": {
             "colorbar": {
              "outlinewidth": 0,
              "ticks": ""
             }
            },
            "type": "scattergeo"
           }
          ],
          "scattergl": [
           {
            "marker": {
             "colorbar": {
              "outlinewidth": 0,
              "ticks": ""
             }
            },
            "type": "scattergl"
           }
          ],
          "scattermapbox": [
           {
            "marker": {
             "colorbar": {
              "outlinewidth": 0,
              "ticks": ""
             }
            },
            "type": "scattermapbox"
           }
          ],
          "scatterpolar": [
           {
            "marker": {
             "colorbar": {
              "outlinewidth": 0,
              "ticks": ""
             }
            },
            "type": "scatterpolar"
           }
          ],
          "scatterpolargl": [
           {
            "marker": {
             "colorbar": {
              "outlinewidth": 0,
              "ticks": ""
             }
            },
            "type": "scatterpolargl"
           }
          ],
          "scatterternary": [
           {
            "marker": {
             "colorbar": {
              "outlinewidth": 0,
              "ticks": ""
             }
            },
            "type": "scatterternary"
           }
          ],
          "surface": [
           {
            "colorbar": {
             "outlinewidth": 0,
             "ticks": ""
            },
            "colorscale": [
             [
              0,
              "#0d0887"
             ],
             [
              0.1111111111111111,
              "#46039f"
             ],
             [
              0.2222222222222222,
              "#7201a8"
             ],
             [
              0.3333333333333333,
              "#9c179e"
             ],
             [
              0.4444444444444444,
              "#bd3786"
             ],
             [
              0.5555555555555556,
              "#d8576b"
             ],
             [
              0.6666666666666666,
              "#ed7953"
             ],
             [
              0.7777777777777778,
              "#fb9f3a"
             ],
             [
              0.8888888888888888,
              "#fdca26"
             ],
             [
              1,
              "#f0f921"
             ]
            ],
            "type": "surface"
           }
          ],
          "table": [
           {
            "cells": {
             "fill": {
              "color": "#EBF0F8"
             },
             "line": {
              "color": "white"
             }
            },
            "header": {
             "fill": {
              "color": "#C8D4E3"
             },
             "line": {
              "color": "white"
             }
            },
            "type": "table"
           }
          ]
         },
         "layout": {
          "annotationdefaults": {
           "arrowcolor": "#2a3f5f",
           "arrowhead": 0,
           "arrowwidth": 1
          },
          "autotypenumbers": "strict",
          "coloraxis": {
           "colorbar": {
            "outlinewidth": 0,
            "ticks": ""
           }
          },
          "colorscale": {
           "diverging": [
            [
             0,
             "#8e0152"
            ],
            [
             0.1,
             "#c51b7d"
            ],
            [
             0.2,
             "#de77ae"
            ],
            [
             0.3,
             "#f1b6da"
            ],
            [
             0.4,
             "#fde0ef"
            ],
            [
             0.5,
             "#f7f7f7"
            ],
            [
             0.6,
             "#e6f5d0"
            ],
            [
             0.7,
             "#b8e186"
            ],
            [
             0.8,
             "#7fbc41"
            ],
            [
             0.9,
             "#4d9221"
            ],
            [
             1,
             "#276419"
            ]
           ],
           "sequential": [
            [
             0,
             "#0d0887"
            ],
            [
             0.1111111111111111,
             "#46039f"
            ],
            [
             0.2222222222222222,
             "#7201a8"
            ],
            [
             0.3333333333333333,
             "#9c179e"
            ],
            [
             0.4444444444444444,
             "#bd3786"
            ],
            [
             0.5555555555555556,
             "#d8576b"
            ],
            [
             0.6666666666666666,
             "#ed7953"
            ],
            [
             0.7777777777777778,
             "#fb9f3a"
            ],
            [
             0.8888888888888888,
             "#fdca26"
            ],
            [
             1,
             "#f0f921"
            ]
           ],
           "sequentialminus": [
            [
             0,
             "#0d0887"
            ],
            [
             0.1111111111111111,
             "#46039f"
            ],
            [
             0.2222222222222222,
             "#7201a8"
            ],
            [
             0.3333333333333333,
             "#9c179e"
            ],
            [
             0.4444444444444444,
             "#bd3786"
            ],
            [
             0.5555555555555556,
             "#d8576b"
            ],
            [
             0.6666666666666666,
             "#ed7953"
            ],
            [
             0.7777777777777778,
             "#fb9f3a"
            ],
            [
             0.8888888888888888,
             "#fdca26"
            ],
            [
             1,
             "#f0f921"
            ]
           ]
          },
          "colorway": [
           "#636efa",
           "#EF553B",
           "#00cc96",
           "#ab63fa",
           "#FFA15A",
           "#19d3f3",
           "#FF6692",
           "#B6E880",
           "#FF97FF",
           "#FECB52"
          ],
          "font": {
           "color": "#2a3f5f"
          },
          "geo": {
           "bgcolor": "white",
           "lakecolor": "white",
           "landcolor": "#E5ECF6",
           "showlakes": true,
           "showland": true,
           "subunitcolor": "white"
          },
          "hoverlabel": {
           "align": "left"
          },
          "hovermode": "closest",
          "mapbox": {
           "style": "light"
          },
          "paper_bgcolor": "white",
          "plot_bgcolor": "#E5ECF6",
          "polar": {
           "angularaxis": {
            "gridcolor": "white",
            "linecolor": "white",
            "ticks": ""
           },
           "bgcolor": "#E5ECF6",
           "radialaxis": {
            "gridcolor": "white",
            "linecolor": "white",
            "ticks": ""
           }
          },
          "scene": {
           "xaxis": {
            "backgroundcolor": "#E5ECF6",
            "gridcolor": "white",
            "gridwidth": 2,
            "linecolor": "white",
            "showbackground": true,
            "ticks": "",
            "zerolinecolor": "white"
           },
           "yaxis": {
            "backgroundcolor": "#E5ECF6",
            "gridcolor": "white",
            "gridwidth": 2,
            "linecolor": "white",
            "showbackground": true,
            "ticks": "",
            "zerolinecolor": "white"
           },
           "zaxis": {
            "backgroundcolor": "#E5ECF6",
            "gridcolor": "white",
            "gridwidth": 2,
            "linecolor": "white",
            "showbackground": true,
            "ticks": "",
            "zerolinecolor": "white"
           }
          },
          "shapedefaults": {
           "line": {
            "color": "#2a3f5f"
           }
          },
          "ternary": {
           "aaxis": {
            "gridcolor": "white",
            "linecolor": "white",
            "ticks": ""
           },
           "baxis": {
            "gridcolor": "white",
            "linecolor": "white",
            "ticks": ""
           },
           "bgcolor": "#E5ECF6",
           "caxis": {
            "gridcolor": "white",
            "linecolor": "white",
            "ticks": ""
           }
          },
          "title": {
           "x": 0.05
          },
          "xaxis": {
           "automargin": true,
           "gridcolor": "white",
           "linecolor": "white",
           "ticks": "",
           "title": {
            "standoff": 15
           },
           "zerolinecolor": "white",
           "zerolinewidth": 2
          },
          "yaxis": {
           "automargin": true,
           "gridcolor": "white",
           "linecolor": "white",
           "ticks": "",
           "title": {
            "standoff": 15
           },
           "zerolinecolor": "white",
           "zerolinewidth": 2
          }
         }
        },
        "title": {
         "font": {
          "color": "white",
          "family": "Droid Sans",
          "size": 36
         },
         "text": "Death of a Chess Piece",
         "x": 0.5,
         "y": 0.95
        },
        "width": 2400,
        "xaxis": {
         "anchor": "y",
         "domain": [
          0,
          0.103125
         ]
        },
        "xaxis10": {
         "anchor": "y10",
         "domain": [
          0.128125,
          0.23124999999999998
         ]
        },
        "xaxis11": {
         "anchor": "y11",
         "domain": [
          0.25625,
          0.359375
         ]
        },
        "xaxis12": {
         "anchor": "y12",
         "domain": [
          0.38437499999999997,
          0.48749999999999993
         ]
        },
        "xaxis13": {
         "anchor": "y13",
         "domain": [
          0.5125,
          0.615625
         ]
        },
        "xaxis14": {
         "anchor": "y14",
         "domain": [
          0.640625,
          0.74375
         ]
        },
        "xaxis15": {
         "anchor": "y15",
         "domain": [
          0.76875,
          0.8718750000000001
         ]
        },
        "xaxis16": {
         "anchor": "y16",
         "domain": [
          0.8968750000000001,
          1
         ]
        },
        "xaxis2": {
         "anchor": "y2",
         "domain": [
          0.128125,
          0.23124999999999998
         ]
        },
        "xaxis3": {
         "anchor": "y3",
         "domain": [
          0.25625,
          0.359375
         ]
        },
        "xaxis4": {
         "anchor": "y4",
         "domain": [
          0.38437499999999997,
          0.48749999999999993
         ]
        },
        "xaxis5": {
         "anchor": "y5",
         "domain": [
          0.5125,
          0.615625
         ]
        },
        "xaxis6": {
         "anchor": "y6",
         "domain": [
          0.640625,
          0.74375
         ]
        },
        "xaxis7": {
         "anchor": "y7",
         "domain": [
          0.76875,
          0.8718750000000001
         ]
        },
        "xaxis8": {
         "anchor": "y8",
         "domain": [
          0.8968750000000001,
          1
         ]
        },
        "xaxis9": {
         "anchor": "y9",
         "domain": [
          0,
          0.103125
         ]
        },
        "yaxis": {
         "anchor": "x",
         "domain": [
          0.575,
          1
         ]
        },
        "yaxis10": {
         "anchor": "x10",
         "domain": [
          0,
          0.425
         ]
        },
        "yaxis11": {
         "anchor": "x11",
         "domain": [
          0,
          0.425
         ]
        },
        "yaxis12": {
         "anchor": "x12",
         "domain": [
          0,
          0.425
         ]
        },
        "yaxis13": {
         "anchor": "x13",
         "domain": [
          0,
          0.425
         ]
        },
        "yaxis14": {
         "anchor": "x14",
         "domain": [
          0,
          0.425
         ]
        },
        "yaxis15": {
         "anchor": "x15",
         "domain": [
          0,
          0.425
         ]
        },
        "yaxis16": {
         "anchor": "x16",
         "domain": [
          0,
          0.425
         ]
        },
        "yaxis2": {
         "anchor": "x2",
         "domain": [
          0.575,
          1
         ]
        },
        "yaxis3": {
         "anchor": "x3",
         "domain": [
          0.575,
          1
         ]
        },
        "yaxis4": {
         "anchor": "x4",
         "domain": [
          0.575,
          1
         ]
        },
        "yaxis5": {
         "anchor": "x5",
         "domain": [
          0.575,
          1
         ]
        },
        "yaxis6": {
         "anchor": "x6",
         "domain": [
          0.575,
          1
         ]
        },
        "yaxis7": {
         "anchor": "x7",
         "domain": [
          0.575,
          1
         ]
        },
        "yaxis8": {
         "anchor": "x8",
         "domain": [
          0.575,
          1
         ]
        },
        "yaxis9": {
         "anchor": "x9",
         "domain": [
          0,
          0.425
         ]
        }
       }
      },
      "text/html": [
       "<div>                            <div id=\"a7f38342-392f-45e1-a8d7-8df225df072c\" class=\"plotly-graph-div\" style=\"height:800px; width:2400px;\"></div>            <script type=\"text/javascript\">                require([\"plotly\"], function(Plotly) {                    window.PLOTLYENV=window.PLOTLYENV || {};                                    if (document.getElementById(\"a7f38342-392f-45e1-a8d7-8df225df072c\")) {                    Plotly.newPlot(                        \"a7f38342-392f-45e1-a8d7-8df225df072c\",                        [{\"colorbar\": {\"tickfont\": {\"size\": 16}, \"ticklabelposition\": \"outside bottom\", \"ticks\": \"outside\", \"ticktext\": [\"<i>None<i>\", \"<i>Occaisonal<i>\", \"<i>Most<i>\"], \"tickvals\": [0, 0.1401434339032768, 0.2802868678065536], \"title\": {\"font\": {\"size\": 18}, \"side\": \"top\", \"text\": \"Relative Frequency of<br>  Capture on Square\"}}, \"colorscale\": [[0.0, \"rgb(247,251,255)\"], [0.125, \"rgb(222,235,247)\"], [0.25, \"rgb(198,219,239)\"], [0.375, \"rgb(158,202,225)\"], [0.5, \"rgb(107,174,214)\"], [0.625, \"rgb(66,146,198)\"], [0.75, \"rgb(33,113,181)\"], [0.875, \"rgb(8,81,156)\"], [1.0, \"rgb(8,48,107)\"]], \"showscale\": true, \"type\": \"heatmap\", \"x\": [\"A\", \"B\", \"C\", \"D\", \"E\", \"F\", \"G\", \"H\"], \"xaxis\": \"x\", \"xgap\": 1, \"y\": [\"1\", \"2\", \"3\", \"4\", \"5\", \"6\", \"7\", \"8\"], \"yaxis\": \"y\", \"ygap\": 1, \"z\": [[0.0, 0.0, 0.0, 0.0, 0.0, 0.0, 0.0, 0.0], [0.2802868678065536, 0.0, 0.0, 0.0, 1.09895e-319, 0.0, 0.0, 0.0], [0.15886229672641983, 0.030297469252152095, 0.0, 1.3933e-320, 7.7842e-319, 1.7554e-320, 0.0, 0.0], [0.14348800720605848, 0.09397998739524675, 0.002775385344269151, 5.1245e-319, 4.795777e-318, 1.7591e-319, 2.337e-321, 0.0], [0.06122225163006365, 0.1032259102254964, 0.006771764767813718, 0.0002208025221204646, 2.64287e-318, 8.0654e-319, 1.363e-320, 7.4e-323], [0.029295815426638727, 0.03917709385861912, 0.007904291611405108, 0.0003955435909508985, 1.0967012688102546e-05, 7.1114e-319, 4.6314e-320, 3.85e-322], [0.01681754839011565, 0.007638889904353027, 0.001653825513365864, 0.00019448169166901848, 5.849073433654691e-06, 1.4622683584136728e-06, 4.2287e-320, 2.925e-321], [0.011713500685072726, 0.003347863406588104, 0.0006258508574010519, 8.188702807116568e-05, 4.386805075241018e-06, 1.542e-320, 2.554e-321, 1.566e-321]]}, {\"colorscale\": [[0.0, \"rgb(247,251,255)\"], [0.125, \"rgb(222,235,247)\"], [0.25, \"rgb(198,219,239)\"], [0.375, \"rgb(158,202,225)\"], [0.5, \"rgb(107,174,214)\"], [0.625, \"rgb(66,146,198)\"], [0.75, \"rgb(33,113,181)\"], [0.875, \"rgb(8,81,156)\"], [1.0, \"rgb(8,48,107)\"]], \"showscale\": false, \"type\": \"heatmap\", \"x\": [\"A\", \"B\", \"C\", \"D\", \"E\", \"F\", \"G\", \"H\"], \"xaxis\": \"x2\", \"xgap\": 1, \"y\": [\"1\", \"2\", \"3\", \"4\", \"5\", \"6\", \"7\", \"8\"], \"yaxis\": \"y2\", \"ygap\": 1, \"z\": [[0.0, 0.0, 0.0, 0.0, 0.0, 0.0, 0.0, 0.0], [1.894045e-318, 0.28395012753951443, 0.0, 0.0, 0.0, 0.0, 0.0, 0.0], [0.01021728994562589, 0.10856346055404426, 0.0784262047783573, 0.0, 0.0, 0.0, 0.0, 0.0], [0.01354407693887776, 0.1823874831948893, 0.06067718211034152, 0.009230448197872639, 0.0, 0.0, 0.0, 0.0], [0.022064825069258248, 0.07430494496835695, 0.05752809184149235, 0.013401158778272528, 0.0008515313979787133, 0.0, 0.0, 0.0], [0.010637349786492223, 0.01960913241612117, 0.025407914514290187, 0.0039011767109694852, 0.0007091566524328149, 6.901371253560727e-05, 0.0, 0.0], [0.002411676033330906, 0.007388271146725326, 0.00453316842497666, 0.001486240187282566, 0.00023203823033625436, 8.4229334197001e-05, 2.1736602373419613e-06, 0.0], [0.001318868349007235, 0.004408726376388833, 0.0020622601501781856, 0.0004988550244699802, 7.662152336630414e-05, 1.521562166139373e-05, 1.0868301186709806e-06, 0.0]]}, {\"colorscale\": [[0.0, \"rgb(247,251,255)\"], [0.125, \"rgb(222,235,247)\"], [0.25, \"rgb(198,219,239)\"], [0.375, \"rgb(158,202,225)\"], [0.5, \"rgb(107,174,214)\"], [0.625, \"rgb(66,146,198)\"], [0.75, \"rgb(33,113,181)\"], [0.875, \"rgb(8,81,156)\"], [1.0, \"rgb(8,48,107)\"]], \"showscale\": false, \"type\": \"heatmap\", \"x\": [\"A\", \"B\", \"C\", \"D\", \"E\", \"F\", \"G\", \"H\"], \"xaxis\": \"x3\", \"xgap\": 1, \"y\": [\"1\", \"2\", \"3\", \"4\", \"5\", \"6\", \"7\", \"8\"], \"yaxis\": \"y3\", \"ygap\": 1, \"z\": [[0.0, 0.0, 0.0, 0.0, 0.0, 0.0, 0.0, 0.0], [0.0, 2.581636e-318, 0.12783954278670656, 0.0, 0.0, 0.0, 0.0, 0.0], [9.2894e-320, 0.00628107250634307, 0.12922056565428244, 0.01634339131569565, 0.0, 0.0, 0.0, 0.0], [0.0003427148299577481, 0.02226670694141853, 0.2340624391457579, 0.08147506414214982, 0.0013143499943693946, 0.0, 0.0, 0.0], [0.0006642894806061215, 0.030040194798621498, 0.06100689860966732, 0.19348671075478163, 0.011788495758344984, 9.594389071177764e-05, 0.0, 0.0], [0.0023506253224385523, 0.013630943693538951, 0.01946725935056556, 0.017217049879846538, 0.008448753969373573, 0.0011159575423891086, 1.01635477448917e-05, 0.0], [0.00042930825674422537, 0.0024006299773434193, 0.005729801676660144, 0.004300806863728372, 0.0014855041383933707, 0.0007598268294081034, 6.585978938689821e-05, 0.0], [0.00022481767611700438, 0.0008342239989007107, 0.003244610982079226, 0.0015412003800353772, 0.00036995313791405785, 0.00013009341113461376, 1.2196257293870039e-05, 2.03270954897834e-06]]}, {\"colorscale\": [[0.0, \"rgb(247,251,255)\"], [0.125, \"rgb(222,235,247)\"], [0.25, \"rgb(198,219,239)\"], [0.375, \"rgb(158,202,225)\"], [0.5, \"rgb(107,174,214)\"], [0.625, \"rgb(66,146,198)\"], [0.75, \"rgb(33,113,181)\"], [0.875, \"rgb(8,81,156)\"], [1.0, \"rgb(8,48,107)\"]], \"showscale\": false, \"type\": \"heatmap\", \"x\": [\"A\", \"B\", \"C\", \"D\", \"E\", \"F\", \"G\", \"H\"], \"xaxis\": \"x4\", \"xgap\": 1, \"y\": [\"1\", \"2\", \"3\", \"4\", \"5\", \"6\", \"7\", \"8\"], \"yaxis\": \"y4\", \"ygap\": 1, \"z\": [[0.0, 0.0, 0.0, 0.0, 0.0, 0.0, 0.0, 0.0], [0.0, 0.0, 1.55362e-318, 0.006481926152625915, 0.0, 0.0, 0.0, 0.0], [0.0, 7.6333e-320, 0.0015265472419021128, 0.059945098238724286, 0.0008618050279519657, 0.0, 0.0, 0.0], [4.165e-321, 0.0001682542533234812, 0.012857812284031569, 0.4729869175422375, 0.03436432225255975, 5.5471803008287975e-05, 0.0, 0.0], [4.5971107465432025e-06, 0.0011143396449620722, 0.07760443946049535, 0.09450740272743516, 0.12971973867570724, 0.0025710108035167283, 4.2906366967736555e-06, 0.0], [4.8116425813818855e-05, 0.0024140960900347203, 0.02112035266581855, 0.021899409700332738, 0.026542185080291603, 0.01264082865679473, 0.00015844708373085573, 0.0], [7.20214016958435e-05, 0.0012059753858431669, 0.002368431456619058, 0.005484046646576271, 0.0035115796622594677, 0.0024845851214817163, 0.0005801553762137522, 6.74242909493003e-06], [0.00011033065791703686, 0.00016365714257693802, 0.0008740639899427476, 0.0021260104832513463, 0.0009286163708017269, 0.0004076104861934973, 6.374660235206574e-05, 1.5017228438707795e-05]]}, {\"colorscale\": [[0.0, \"rgb(247,251,255)\"], [0.125, \"rgb(222,235,247)\"], [0.25, \"rgb(198,219,239)\"], [0.375, \"rgb(158,202,225)\"], [0.5, \"rgb(107,174,214)\"], [0.625, \"rgb(66,146,198)\"], [0.75, \"rgb(33,113,181)\"], [0.875, \"rgb(8,81,156)\"], [1.0, \"rgb(8,48,107)\"]], \"showscale\": false, \"type\": \"heatmap\", \"x\": [\"A\", \"B\", \"C\", \"D\", \"E\", \"F\", \"G\", \"H\"], \"xaxis\": \"x5\", \"xgap\": 1, \"y\": [\"1\", \"2\", \"3\", \"4\", \"5\", \"6\", \"7\", \"8\"], \"yaxis\": \"y5\", \"ygap\": 1, \"z\": [[0.0, 0.0, 0.0, 0.0, 0.0, 0.0, 0.0, 0.0], [0.0, 0.0, 0.0, 1.04495e-319, 0.006881579777814353, 0.0, 0.0, 0.0], [0.0, 0.0, 2.461e-320, 0.000872456726765116, 0.048744342953457837, 0.0010992335993604458, 0.0, 0.0], [0.0, 2.71e-321, 3.8363345432224964e-05, 0.03208939154496617, 0.300309505570729, 0.011015539629954595, 0.00014633759991485812, 0.0], [7.4e-323, 9.281454540054426e-07, 0.001830302835298733, 0.23184733121056156, 0.16549545023098447, 0.050505344261524164, 0.0008535844358670055, 4.640727270027213e-06], [7.76e-322, 7.17765817764209e-05, 0.012606999701755927, 0.03836272666858896, 0.024598638967506248, 0.04453118135590913, 0.0029001451619490065, 2.413178180414151e-05], [1.8562909080108852e-06, 0.0010447823993921265, 0.0015397933081950294, 0.004544509524628649, 0.006028923487401354, 0.0041877922884725576, 0.002647998980277528, 0.00018315403625707402], [6.249512723636647e-05, 6.775461814239731e-05, 0.00035609847252008817, 0.0014030465446382276, 0.0018782570170890142, 0.0009655806539836622, 0.00015995039990693795, 9.80740363065751e-05]]}, {\"colorscale\": [[0.0, \"rgb(247,251,255)\"], [0.125, \"rgb(222,235,247)\"], [0.25, \"rgb(198,219,239)\"], [0.375, \"rgb(158,202,225)\"], [0.5, \"rgb(107,174,214)\"], [0.625, \"rgb(66,146,198)\"], [0.75, \"rgb(33,113,181)\"], [0.875, \"rgb(8,81,156)\"], [1.0, \"rgb(8,48,107)\"]], \"showscale\": false, \"type\": \"heatmap\", \"x\": [\"A\", \"B\", \"C\", \"D\", \"E\", \"F\", \"G\", \"H\"], \"xaxis\": \"x6\", \"xgap\": 1, \"y\": [\"1\", \"2\", \"3\", \"4\", \"5\", \"6\", \"7\", \"8\"], \"yaxis\": \"y6\", \"ygap\": 1, \"z\": [[0.0, 0.0, 0.0, 0.0, 0.0, 0.0, 0.0, 0.0], [0.0, 0.0, 0.0, 0.0, 1.09895e-319, 0.19704203948696233, 0.0, 0.0], [0.0, 0.0, 0.0, 1.3933e-320, 0.03940385688449529, 0.10333470523287334, 0.018470186908120984, 0.0], [0.0, 0.0, 6.13e-322, 0.0030402744854387373, 0.05435541827765927, 0.22006274461694322, 0.023213133827480994, 0.000934441669865567], [0.0, 1.5e-323, 0.00014642389321345043, 0.004539140689616963, 0.10830866552429648, 0.08392463522642278, 0.029725039672960255, 0.0010398075119414621], [0.0, 5.44142846401336e-06, 0.0003442940191775726, 0.005466162229758875, 0.025266531059673674, 0.030490302385126497, 0.02544263547178174, 0.0013841015311190348], [3e-323, 1.879766196659161e-05, 0.00018698726903609546, 0.0012757676371536778, 0.004070188491081993, 0.007177738819348532, 0.004250250305709345, 0.0009839092013565977], [2.9680518894618327e-06, 5.44142846401336e-06, 4.847818086120994e-05, 0.0003734798627572806, 0.0015394295800008706, 0.0031184331851945657, 0.0008033527114143361, 0.00020479558037286646]]}, {\"colorscale\": [[0.0, \"rgb(247,251,255)\"], [0.125, \"rgb(222,235,247)\"], [0.25, \"rgb(198,219,239)\"], [0.375, \"rgb(158,202,225)\"], [0.5, \"rgb(107,174,214)\"], [0.625, \"rgb(66,146,198)\"], [0.75, \"rgb(33,113,181)\"], [0.875, \"rgb(8,81,156)\"], [1.0, \"rgb(8,48,107)\"]], \"showscale\": false, \"type\": \"heatmap\", \"x\": [\"A\", \"B\", \"C\", \"D\", \"E\", \"F\", \"G\", \"H\"], \"xaxis\": \"x7\", \"xgap\": 1, \"y\": [\"1\", \"2\", \"3\", \"4\", \"5\", \"6\", \"7\", \"8\"], \"yaxis\": \"y7\", \"ygap\": 1, \"z\": [[0.0, 0.0, 0.0, 0.0, 0.0, 0.0, 0.0, 0.0], [0.0, 0.0, 0.0, 0.0, 0.0, 1.96799e-318, 0.19819979779180474, 0.0], [0.0, 0.0, 0.0, 0.0, 3.93553e-319, 0.05531856732364105, 0.15599410619953977, 0.023497920755591862], [0.0, 0.0, 0.0, 3.0365e-320, 0.004485496384075498, 0.05751692679309682, 0.1972475159879237, 0.019805673198089305], [0.0, 0.0, 1.46e-321, 0.00019735417665945164, 0.008165608895116793, 0.05920369825121207, 0.09943840282350597, 0.024572830397397223], [0.0, 5.4e-323, 1.0857673149549119e-05, 0.0002771900086414305, 0.003689692810879133, 0.0272974676712782, 0.02765577088521332, 0.014079208641685928], [0.0, 1.277373311711661e-06, 1.2773733117116611e-05, 0.00013476288438558025, 0.001081935195019777, 0.004799091532100711, 0.007040881694154676, 0.0036922475575025563], [3e-323, 6.386866558558305e-07, 5.7481799027024745e-06, 5.748179902702475e-05, 0.0003474455407855718, 0.0014747274883711128, 0.003561316793052111, 0.0011355848741116668]]}, {\"colorscale\": [[0.0, \"rgb(247,251,255)\"], [0.125, \"rgb(222,235,247)\"], [0.25, \"rgb(198,219,239)\"], [0.375, \"rgb(158,202,225)\"], [0.5, \"rgb(107,174,214)\"], [0.625, \"rgb(66,146,198)\"], [0.75, \"rgb(33,113,181)\"], [0.875, \"rgb(8,81,156)\"], [1.0, \"rgb(8,48,107)\"]], \"showscale\": false, \"type\": \"heatmap\", \"x\": [\"A\", \"B\", \"C\", \"D\", \"E\", \"F\", \"G\", \"H\"], \"xaxis\": \"x8\", \"xgap\": 1, \"y\": [\"1\", \"2\", \"3\", \"4\", \"5\", \"6\", \"7\", \"8\"], \"yaxis\": \"y8\", \"ygap\": 1, \"z\": [[0.0, 0.0, 0.0, 0.0, 0.0, 0.0, 0.0, 0.0], [0.0, 0.0, 0.0, 0.0, 0.0, 0.0, 1.533204e-318, 0.1853282259908766], [0.0, 0.0, 0.0, 0.0, 0.0, 4.27925e-319, 0.02873331487789319, 0.19246717138283403], [0.0, 0.0, 0.0, 0.0, 3.47e-320, 0.002730703031907851, 0.09953450164293538, 0.15072878928300615], [0.0, 0.0, 0.0, 1.527e-321, 0.00014593839895044714, 0.007217932669739899, 0.08681378862101753, 0.07976962796239905], [0.0, 0.0, 8.4e-323, 7.522597884043667e-06, 0.0003340033460515388, 0.007378164004670029, 0.08484211571560969, 0.034031480567625144], [0.0, 1e-323, 1e-322, 1.3540676191278601e-05, 0.00015195647725768207, 0.0035363732652889278, 0.009975717054030307, 0.014599857973351948], [0.0, 5e-324, 4.4e-323, 3.009039153617467e-06, 8.35008365128847e-05, 0.000652209236546586, 0.0023763886715693944, 0.008544166676696796]]}, {\"colorscale\": [[0.0, \"rgb(247,251,255)\"], [0.125, \"rgb(222,235,247)\"], [0.25, \"rgb(198,219,239)\"], [0.375, \"rgb(158,202,225)\"], [0.5, \"rgb(107,174,214)\"], [0.625, \"rgb(66,146,198)\"], [0.75, \"rgb(33,113,181)\"], [0.875, \"rgb(8,81,156)\"], [1.0, \"rgb(8,48,107)\"]], \"showscale\": false, \"type\": \"heatmap\", \"x\": [\"A\", \"B\", \"C\", \"D\", \"E\", \"F\", \"G\", \"H\"], \"xaxis\": \"x9\", \"xgap\": 1, \"y\": [\"1\", \"2\", \"3\", \"4\", \"5\", \"6\", \"7\", \"8\"], \"yaxis\": \"y9\", \"ygap\": 1, \"z\": [[0.11258923060375943, 0.02801213545900891, 0.04817701646387608, 0.08240949519242416, 0.04669545172221, 0.02622243625831745, 0.009208666136313645, 0.005061932119335244], [0.00784337854899677, 0.009625810427541407, 0.014140270945149159, 0.022425502680672896, 0.014364588955414493, 0.010864162121360404, 0.005334698943912745, 0.0021709913693282183], [0.006771690776411629, 0.0066074492958933815, 0.012110265625469348, 0.01641930317039351, 0.012035169963285488, 0.007780879578534075, 0.004804184427194514, 0.002122542555016051], [0.005901065583221982, 0.006412685062358469, 0.009712049317017064, 0.01741783323336728, 0.011327332786184724, 0.006401057346923549, 0.004309522033067285, 0.002031943272252298], [0.006055132812734674, 0.005572098134042366, 0.01035060468965143, 0.016775886443731063, 0.011714923300682063, 0.00682110856701004, 0.004366691633955642, 0.0022984117509692184], [0.006805120458287024, 0.0069795361898108265, 0.013114125058017454, 0.016747301643286885, 0.012890776024038363, 0.00951098673762157, 0.006294954443579902, 0.0029006305128694587], [0.008114691909144907, 0.010725598512427605, 0.01493628496429807, 0.023155141824214135, 0.01707336216360777, 0.0152812405222007, 0.00920139881416682, 0.003711179176312018], [0.01883689900457066, 0.012978952866086508, 0.030882727707004825, 0.058175882761621174, 0.030502404514654313, 0.02034268815339282, 0.0054698711358436925, 0.00410264559595433]]}, {\"colorscale\": [[0.0, \"rgb(247,251,255)\"], [0.125, \"rgb(222,235,247)\"], [0.25, \"rgb(198,219,239)\"], [0.375, \"rgb(158,202,225)\"], [0.5, \"rgb(107,174,214)\"], [0.625, \"rgb(66,146,198)\"], [0.75, \"rgb(33,113,181)\"], [0.875, \"rgb(8,81,156)\"], [1.0, \"rgb(8,48,107)\"]], \"showscale\": false, \"type\": \"heatmap\", \"x\": [\"A\", \"B\", \"C\", \"D\", \"E\", \"F\", \"G\", \"H\"], \"xaxis\": \"x10\", \"xgap\": 1, \"y\": [\"1\", \"2\", \"3\", \"4\", \"5\", \"6\", \"7\", \"8\"], \"yaxis\": \"y10\", \"ygap\": 1, \"z\": [[0.0002467784840120883, 0.0063802210468408786, 0.000795704327821848, 0.0016342748820583409, 0.0007221768422356166, 0.0017447149515016278, 0.0005513073008327955, 0.00016432053458947254], [0.001352965271212233, 0.001272888778812653, 0.002451114640959632, 0.028347971355834927, 0.011833162265337179, 0.002223983177387589, 0.0007570056511975157, 0.0008611943959553334], [0.009247792984703901, 0.005460978635949046, 0.18755789917387256, 0.0041490934983841815, 0.009051620462431324, 0.016987230627442482, 0.010949344027663005, 0.0011695930804384738], [0.008771203897968856, 0.00541930313804592, 0.01859620252863107, 0.024530198065780606, 0.12645566560533064, 0.012516342748820583, 0.0054919375772485126, 0.0025198792124997917], [0.002716349416900248, 0.022850675500284585, 0.029288646879934082, 0.1346440078969115, 0.02524136066928468, 0.0173090250076802, 0.011236904963194582, 0.004348838206191312], [0.0020513275432174913, 0.014036010011645325, 0.010039627444863317, 0.036525001726556344, 0.016677045850192064, 0.06675491949484534, 0.005958107789507777, 0.0023153715906465895], [0.0021096732402818693, 0.004432784566253325, 0.009079304900324115, 0.009394550273748485, 0.020113190652304894, 0.005960786928658692, 0.003613861032456878, 0.0011502437421263077], [0.006981538945157426, 0.0011234523506171545, 0.007349474055216462, 0.0034331679808340338, 0.005143351805501642, 0.005422279959324714, 0.0013857103052789758, 0.0010993400982589167]]}, {\"colorscale\": [[0.0, \"rgb(247,251,255)\"], [0.125, \"rgb(222,235,247)\"], [0.25, \"rgb(198,219,239)\"], [0.375, \"rgb(158,202,225)\"], [0.5, \"rgb(107,174,214)\"], [0.625, \"rgb(66,146,198)\"], [0.75, \"rgb(33,113,181)\"], [0.875, \"rgb(8,81,156)\"], [1.0, \"rgb(8,48,107)\"]], \"showscale\": false, \"type\": \"heatmap\", \"x\": [\"A\", \"B\", \"C\", \"D\", \"E\", \"F\", \"G\", \"H\"], \"xaxis\": \"x11\", \"xgap\": 1, \"y\": [\"1\", \"2\", \"3\", \"4\", \"5\", \"6\", \"7\", \"8\"], \"yaxis\": \"y11\", \"ygap\": 1, \"z\": [[0.0015269624571281244, 1.05893e-319, 0.018212922300074395, 2.7124e-320, 0.0030517738300944665, 2.8957e-320, 0.0009372580990623424, 2.727e-321], [2.2455e-320, 0.02479984930118958, 4.068e-320, 0.047307872076868686, 1.96396e-319, 0.007752507319063861, 1.2564e-320, 0.002242044292052082], [0.010551375111280193, 9.0636e-320, 0.026082202759349304, 6.8863e-320, 0.0938650157812753, 2.8194e-319, 0.028594361762573777, 1.941e-320], [1.45576e-319, 0.020300088532478146, 3.08643e-319, 0.054121584808183215, 2.098796e-318, 0.06663382678179679, 9.115e-320, 0.00858221121003708], [0.004649722064561411, 3.79255e-319, 0.03492346596201247, 2.2347e-318, 0.059111792765781046, 2.8728e-319, 0.05301223997617828, 7.218e-320], [3.4046e-320, 0.01439136763779922, 1.6663e-319, 0.04204232534656271, 2.7679e-319, 0.17356176208210197, 9.8887e-320, 0.03776289705556527], [0.003544986698617437, 7.357e-320, 0.007643416622287752, 1.5592e-319, 0.06052228938043552, 9.893e-320, 0.045387875813609174, 1.909e-320], [1.15873e-319, 0.006648079250857284, 1.2198e-319, 0.014971853063743077, 8.5365e-320, 0.02402545900294791, 2.3e-320, 0.00323861085443214]]}, {\"colorscale\": [[0.0, \"rgb(247,251,255)\"], [0.125, \"rgb(222,235,247)\"], [0.25, \"rgb(198,219,239)\"], [0.375, \"rgb(158,202,225)\"], [0.5, \"rgb(107,174,214)\"], [0.625, \"rgb(66,146,198)\"], [0.75, \"rgb(33,113,181)\"], [0.875, \"rgb(8,81,156)\"], [1.0, \"rgb(8,48,107)\"]], \"showscale\": false, \"type\": \"heatmap\", \"x\": [\"A\", \"B\", \"C\", \"D\", \"E\", \"F\", \"G\", \"H\"], \"xaxis\": \"x12\", \"xgap\": 1, \"y\": [\"1\", \"2\", \"3\", \"4\", \"5\", \"6\", \"7\", \"8\"], \"yaxis\": \"y12\", \"ygap\": 1, \"z\": [[0.002179096746537112, 0.002810460130334215, 0.005951745354761377, 0.07377749061400284, 0.008441087700101615, 0.007160499483765302, 0.0022781112993466206, 0.0009012265767485096], [0.0016549020551926532, 0.006014260425358753, 0.017292212136543788, 0.03262704246637097, 0.036382994502945, 0.017251441438328106, 0.01082675598426484, 0.0029351019791650085], [0.0032267095444981106, 0.015490535567774685, 0.018612017881639947, 0.025953461607010075, 0.025851729007652854, 0.041500299567558796, 0.01969069406871765, 0.00710652684517502], [0.006754345671064336, 0.010776666269314148, 0.013300566635046725, 0.0381582671909649, 0.026025683986706422, 0.0203065257579564, 0.02550343075718176, 0.00885811369899343], [0.004954610564115029, 0.009809429990692632, 0.013508303049764714, 0.03356903974133516, 0.026044710312540405, 0.019275221239281673, 0.020998851042895044, 0.010378666596256319], [0.0038817587624967046, 0.01349626598648199, 0.01475433324570869, 0.021173582606676532, 0.020982931055972733, 0.03246007674986866, 0.015516551156159929, 0.006697266693562384], [0.0026889246204150922, 0.006691054015739043, 0.01017403652045, 0.022294194369061795, 0.023935117899151932, 0.015290176707971915, 0.010757251651116205, 0.004190839484207955], [0.0034379405904917297, 0.0037423618038354744, 0.006546220963982389, 0.06160530158862055, 0.010626785416826028, 0.008361876057854009, 0.0037823559173232367, 0.0027739606481220823]]}, {\"colorscale\": [[0.0, \"rgb(247,251,255)\"], [0.125, \"rgb(222,235,247)\"], [0.25, \"rgb(198,219,239)\"], [0.375, \"rgb(158,202,225)\"], [0.5, \"rgb(107,174,214)\"], [0.625, \"rgb(66,146,198)\"], [0.75, \"rgb(33,113,181)\"], [0.875, \"rgb(8,81,156)\"], [1.0, \"rgb(8,48,107)\"]], \"showscale\": false, \"type\": \"heatmap\", \"x\": [\"A\", \"B\", \"C\", \"D\", \"E\", \"F\", \"G\", \"H\"], \"xaxis\": \"x13\", \"xgap\": 1, \"y\": [\"1\", \"2\", \"3\", \"4\", \"5\", \"6\", \"7\", \"8\"], \"yaxis\": \"y13\", \"ygap\": 1, \"z\": [[0.0, 0.0, 0.0, 0.0, 0.0, 0.0, 0.0, 0.0], [0.0, 0.0, 0.0, 0.0, 0.0, 0.0, 0.0, 0.0], [0.0, 0.0, 0.0, 0.0, 0.0, 0.0, 0.0, 0.0], [0.0, 0.0, 0.0, 0.0, 0.0, 0.0, 0.0, 0.0], [0.0, 0.0, 0.0, 0.0, 0.0, 0.0, 0.0, 0.0], [0.0, 0.0, 0.0, 0.0, 0.0, 0.0, 0.0, 0.0], [0.0, 0.0, 0.0, 0.0, 0.0, 0.0, 0.0, 0.0], [0.0, 0.0, 0.0, 0.0, 0.0, 0.0, 0.0, 0.0]], \"zmax\": 1, \"zmin\": 0}, {\"colorscale\": [[0.0, \"rgb(247,251,255)\"], [0.125, \"rgb(222,235,247)\"], [0.25, \"rgb(198,219,239)\"], [0.375, \"rgb(158,202,225)\"], [0.5, \"rgb(107,174,214)\"], [0.625, \"rgb(66,146,198)\"], [0.75, \"rgb(33,113,181)\"], [0.875, \"rgb(8,81,156)\"], [1.0, \"rgb(8,48,107)\"]], \"showscale\": false, \"type\": \"heatmap\", \"x\": [\"A\", \"B\", \"C\", \"D\", \"E\", \"F\", \"G\", \"H\"], \"xaxis\": \"x14\", \"xgap\": 1, \"y\": [\"1\", \"2\", \"3\", \"4\", \"5\", \"6\", \"7\", \"8\"], \"yaxis\": \"y14\", \"ygap\": 1, \"z\": [[0.0, 0.002500806241521423, 0.0, 0.0037972364710217926, 0.0, 0.013497296214208936, 0.0, 0.0008202030777407072], [0.003952808098561837, 0.0, 0.010245941252839489, 0.0, 0.05569372211716109, 0.0, 0.03358536755254531, 0.0], [0.0, 0.027640813035122672, 0.0, 0.09647742262919733, 0.0, 0.037701725310828736, 0.0, 0.009724607534514962], [0.00558400883229532, 0.0, 0.07419692667789524, 0.0, 0.06860892882950914, 0.0, 0.02669909839030927, 0.0], [0.0, 0.03184124697870387, 0.0, 0.06803389681765502, 0.0, 0.04142317047612589, 0.0, 0.010063673902230444], [0.019848730372890155, 0.0, 0.12881821716142228, 0.0, 0.053397583085835344, 0.0, 0.031135191130637514, 0.0], [0.0, 0.016403447860030947, 0.0, 0.05078140222507318, 0.0, 0.03561731097970542, 0.0, 0.011795827427799575], [0.009803160466763978, 0.0, 0.008534346502507404, 0.0, 0.006125287631073699, 0.0, 0.005650594716272025, 0.0]]}, {\"colorscale\": [[0.0, \"rgb(247,251,255)\"], [0.125, \"rgb(222,235,247)\"], [0.25, \"rgb(198,219,239)\"], [0.375, \"rgb(158,202,225)\"], [0.5, \"rgb(107,174,214)\"], [0.625, \"rgb(66,146,198)\"], [0.75, \"rgb(33,113,181)\"], [0.875, \"rgb(8,81,156)\"], [1.0, \"rgb(8,48,107)\"]], \"showscale\": false, \"type\": \"heatmap\", \"x\": [\"A\", \"B\", \"C\", \"D\", \"E\", \"F\", \"G\", \"H\"], \"xaxis\": \"x15\", \"xgap\": 1, \"y\": [\"1\", \"2\", \"3\", \"4\", \"5\", \"6\", \"7\", \"8\"], \"yaxis\": \"y15\", \"ygap\": 1, \"z\": [[0.0001957778801922213, 0.0004260723118992912, 0.0007077273722604559, 0.000360905062639257, 0.0017658667754996548, 0.000980822327845938, 0.003789917356330377, 0.00011293815655658464], [0.0003352247483122097, 0.0004937247528683944, 0.0015703650277195521, 0.009622938429927673, 0.01593919122473285, 0.0022695322952043257, 0.001305001779673396, 0.003247317166516957], [0.0007234669197512268, 0.004417566329076384, 0.005126398230985315, 0.006093137805813195, 0.004187548029781433, 0.1963994542519007, 0.006446035028501007, 0.009545069089710175], [0.0005953414805281087, 0.0024004190585486316, 0.009178917511240661, 0.11308699192671667, 0.024452905755179347, 0.013730131927782538, 0.013917349703199076, 0.016847390728191546], [0.0015289451659017338, 0.004702534978382974, 0.008711149205111433, 0.011482137960723478, 0.16447164410066573, 0.02926506530117348, 0.042672674571601274, 0.0040652213712128096], [0.000704966048139268, 0.0023410505899430917, 0.06571371530361725, 0.012641894091622391, 0.032441968702600146, 0.016776424698277018, 0.02408205992570381, 0.003856741400063124], [0.0007325792893511468, 0.001863617649389706, 0.0020317822883700485, 0.026377824800059423, 0.010946164948800909, 0.023175793349129947, 0.004419775388373334, 0.0031680671642388644], [0.0014535610173933046, 0.0015165192073563884, 0.003110907754930275, 0.006954947064035935, 0.0023976577344274434, 0.010986480280970252, 0.0008521446237985824, 0.004282537579550296]]}, {\"colorscale\": [[0.0, \"rgb(247,251,255)\"], [0.125, \"rgb(222,235,247)\"], [0.25, \"rgb(198,219,239)\"], [0.375, \"rgb(158,202,225)\"], [0.5, \"rgb(107,174,214)\"], [0.625, \"rgb(66,146,198)\"], [0.75, \"rgb(33,113,181)\"], [0.875, \"rgb(8,81,156)\"], [1.0, \"rgb(8,48,107)\"]], \"showscale\": false, \"type\": \"heatmap\", \"x\": [\"A\", \"B\", \"C\", \"D\", \"E\", \"F\", \"G\", \"H\"], \"xaxis\": \"x16\", \"xgap\": 1, \"y\": [\"1\", \"2\", \"3\", \"4\", \"5\", \"6\", \"7\", \"8\"], \"yaxis\": \"y16\", \"ygap\": 1, \"z\": [[0.007204923379786007, 0.010339376127365291, 0.022978867631935112, 0.04812227662207117, 0.07459403242169091, 0.08871555224358751, 0.01671831943931786, 0.05621075259830857], [0.002898126803494281, 0.004903415118824592, 0.008530484421755916, 0.015227005230278506, 0.020688502441028784, 0.03526317377849898, 0.010309196979299426, 0.006057651458697515], [0.0019472514921267245, 0.003375421637520574, 0.007243459830393188, 0.011780546521156744, 0.018438995173657782, 0.02011974157363364, 0.010274374885377274, 0.007124600416472243], [0.0017587478903614766, 0.0033285278843720764, 0.005579892330085593, 0.01166865152602023, 0.01927890407906008, 0.014666601665424678, 0.008177156242092483, 0.006074830358365776], [0.0018813216609674507, 0.0031832036790702964, 0.005748895559254436, 0.011355252680720863, 0.01945301454867084, 0.014814711638240231, 0.007089778322550091, 0.008014188842536813], [0.0022467214998572295, 0.0038949672788390777, 0.006949097063104598, 0.011053925494647844, 0.01900357738978227, 0.020227922212085123, 0.009867188533780913, 0.00680702291990222], [0.0035156386023804382, 0.005852433251849634, 0.008947420959650478, 0.016379848686394544, 0.02332244562530034, 0.0214169806458802, 0.012751850794291962, 0.0077407193316015145], [0.004085792353532469, 0.005567820670859247, 0.014579314283326485, 0.037245711659133485, 0.05033974756303379, 0.037894331195256765, 0.008818347064845704, 0.010351447786591637]]}],                        {\"annotations\": [{\"font\": {\"size\": 24}, \"showarrow\": false, \"text\": \"<i>All Games<i>\", \"x\": 0.535, \"xanchor\": \"center\", \"xref\": \"paper\", \"y\": 1.15, \"yanchor\": \"top\", \"yref\": \"paper\"}, {\"font\": {\"color\": \"white\", \"family\": \"Droid Sans\", \"size\": 14}, \"showarrow\": false, \"text\": \"<i>~4.7 million games analyzed<br>Source: https://database.lichess.org/standard/lichess_db_standard_rated_2016-01.pgn.bz2<i>\", \"x\": -0.03, \"xanchor\": \"left\", \"xref\": \"paper\", \"y\": -0.14, \"yanchor\": \"bottom\", \"yref\": \"paper\"}], \"font\": {\"color\": \"white\", \"family\": \"Droid Sans\"}, \"height\": 800, \"images\": [{\"sizex\": 0.06, \"sizey\": 0.06, \"source\": \"https://upload.wikimedia.org/wikipedia/commons/0/04/Chess_plt60.png\", \"x\": 0.0516, \"xanchor\": \"center\", \"xref\": \"paper\", \"y\": 1.03, \"yanchor\": \"middle\", \"yref\": \"paper\"}, {\"sizex\": 0.06, \"sizey\": 0.06, \"source\": \"https://upload.wikimedia.org/wikipedia/commons/0/04/Chess_plt60.png\", \"x\": 0.1796, \"xanchor\": \"center\", \"xref\": \"paper\", \"y\": 1.03, \"yanchor\": \"middle\", \"yref\": \"paper\"}, {\"sizex\": 0.06, \"sizey\": 0.06, \"source\": \"https://upload.wikimedia.org/wikipedia/commons/0/04/Chess_plt60.png\", \"x\": 0.3076, \"xanchor\": \"center\", \"xref\": \"paper\", \"y\": 1.03, \"yanchor\": \"middle\", \"yref\": \"paper\"}, {\"sizex\": 0.06, \"sizey\": 0.06, \"source\": \"https://upload.wikimedia.org/wikipedia/commons/0/04/Chess_plt60.png\", \"x\": 0.4356, \"xanchor\": \"center\", \"xref\": \"paper\", \"y\": 1.03, \"yanchor\": \"middle\", \"yref\": \"paper\"}, {\"sizex\": 0.06, \"sizey\": 0.06, \"source\": \"https://upload.wikimedia.org/wikipedia/commons/0/04/Chess_plt60.png\", \"x\": 0.5636, \"xanchor\": \"center\", \"xref\": \"paper\", \"y\": 1.03, \"yanchor\": \"middle\", \"yref\": \"paper\"}, {\"sizex\": 0.06, \"sizey\": 0.06, \"source\": \"https://upload.wikimedia.org/wikipedia/commons/0/04/Chess_plt60.png\", \"x\": 0.6916, \"xanchor\": \"center\", \"xref\": \"paper\", \"y\": 1.03, \"yanchor\": \"middle\", \"yref\": \"paper\"}, {\"sizex\": 0.06, \"sizey\": 0.06, \"source\": \"https://upload.wikimedia.org/wikipedia/commons/0/04/Chess_plt60.png\", \"x\": 0.8196, \"xanchor\": \"center\", \"xref\": \"paper\", \"y\": 1.03, \"yanchor\": \"middle\", \"yref\": \"paper\"}, {\"sizex\": 0.06, \"sizey\": 0.06, \"source\": \"https://upload.wikimedia.org/wikipedia/commons/0/04/Chess_plt60.png\", \"x\": 0.9476, \"xanchor\": \"center\", \"xref\": \"paper\", \"y\": 1.03, \"yanchor\": \"middle\", \"yref\": \"paper\"}, {\"sizex\": 0.06, \"sizey\": 0.06, \"source\": \"https://upload.wikimedia.org/wikipedia/commons/5/5c/Chess_rlt60.png\", \"x\": 0.0516, \"xanchor\": \"center\", \"xref\": \"paper\", \"y\": 0.457, \"yanchor\": \"middle\", \"yref\": \"paper\"}, {\"sizex\": 0.06, \"sizey\": 0.06, \"source\": \"https://upload.wikimedia.org/wikipedia/commons/2/28/Chess_nlt60.png\", \"x\": 0.1796, \"xanchor\": \"center\", \"xref\": \"paper\", \"y\": 0.457, \"yanchor\": \"middle\", \"yref\": \"paper\"}, {\"sizex\": 0.06, \"sizey\": 0.06, \"source\": \"https://upload.wikimedia.org/wikipedia/commons/9/9b/Chess_blt60.png\", \"x\": 0.3076, \"xanchor\": \"center\", \"xref\": \"paper\", \"y\": 0.457, \"yanchor\": \"middle\", \"yref\": \"paper\"}, {\"sizex\": 0.06, \"sizey\": 0.06, \"source\": \"https://upload.wikimedia.org/wikipedia/commons/4/49/Chess_qlt60.png\", \"x\": 0.4356, \"xanchor\": \"center\", \"xref\": \"paper\", \"y\": 0.457, \"yanchor\": \"middle\", \"yref\": \"paper\"}, {\"sizex\": 0.06, \"sizey\": 0.06, \"source\": \"https://upload.wikimedia.org/wikipedia/commons/3/3b/Chess_klt60.png\", \"x\": 0.5636, \"xanchor\": \"center\", \"xref\": \"paper\", \"y\": 0.457, \"yanchor\": \"middle\", \"yref\": \"paper\"}, {\"sizex\": 0.06, \"sizey\": 0.06, \"source\": \"https://upload.wikimedia.org/wikipedia/commons/9/9b/Chess_blt60.png\", \"x\": 0.6916, \"xanchor\": \"center\", \"xref\": \"paper\", \"y\": 0.457, \"yanchor\": \"middle\", \"yref\": \"paper\"}, {\"sizex\": 0.06, \"sizey\": 0.06, \"source\": \"https://upload.wikimedia.org/wikipedia/commons/2/28/Chess_nlt60.png\", \"x\": 0.8196, \"xanchor\": \"center\", \"xref\": \"paper\", \"y\": 0.457, \"yanchor\": \"middle\", \"yref\": \"paper\"}, {\"sizex\": 0.06, \"sizey\": 0.06, \"source\": \"https://upload.wikimedia.org/wikipedia/commons/5/5c/Chess_rlt60.png\", \"x\": 0.9476, \"xanchor\": \"center\", \"xref\": \"paper\", \"y\": 0.457, \"yanchor\": \"middle\", \"yref\": \"paper\"}], \"margin\": {\"t\": 150}, \"paper_bgcolor\": \"#494952\", \"template\": {\"data\": {\"bar\": [{\"error_x\": {\"color\": \"#2a3f5f\"}, \"error_y\": {\"color\": \"#2a3f5f\"}, \"marker\": {\"line\": {\"color\": \"#E5ECF6\", \"width\": 0.5}}, \"type\": \"bar\"}], \"barpolar\": [{\"marker\": {\"line\": {\"color\": \"#E5ECF6\", \"width\": 0.5}}, \"type\": \"barpolar\"}], \"carpet\": [{\"aaxis\": {\"endlinecolor\": \"#2a3f5f\", \"gridcolor\": \"white\", \"linecolor\": \"white\", \"minorgridcolor\": \"white\", \"startlinecolor\": \"#2a3f5f\"}, \"baxis\": {\"endlinecolor\": \"#2a3f5f\", \"gridcolor\": \"white\", \"linecolor\": \"white\", \"minorgridcolor\": \"white\", \"startlinecolor\": \"#2a3f5f\"}, \"type\": \"carpet\"}], \"choropleth\": [{\"colorbar\": {\"outlinewidth\": 0, \"ticks\": \"\"}, \"type\": \"choropleth\"}], \"contour\": [{\"colorbar\": {\"outlinewidth\": 0, \"ticks\": \"\"}, \"colorscale\": [[0.0, \"#0d0887\"], [0.1111111111111111, \"#46039f\"], [0.2222222222222222, \"#7201a8\"], [0.3333333333333333, \"#9c179e\"], [0.4444444444444444, \"#bd3786\"], [0.5555555555555556, \"#d8576b\"], [0.6666666666666666, \"#ed7953\"], [0.7777777777777778, \"#fb9f3a\"], [0.8888888888888888, \"#fdca26\"], [1.0, \"#f0f921\"]], \"type\": \"contour\"}], \"contourcarpet\": [{\"colorbar\": {\"outlinewidth\": 0, \"ticks\": \"\"}, \"type\": \"contourcarpet\"}], \"heatmap\": [{\"colorbar\": {\"outlinewidth\": 0, \"ticks\": \"\"}, \"colorscale\": [[0.0, \"#0d0887\"], [0.1111111111111111, \"#46039f\"], [0.2222222222222222, \"#7201a8\"], [0.3333333333333333, \"#9c179e\"], [0.4444444444444444, \"#bd3786\"], [0.5555555555555556, \"#d8576b\"], [0.6666666666666666, \"#ed7953\"], [0.7777777777777778, \"#fb9f3a\"], [0.8888888888888888, \"#fdca26\"], [1.0, \"#f0f921\"]], \"type\": \"heatmap\"}], \"heatmapgl\": [{\"colorbar\": {\"outlinewidth\": 0, \"ticks\": \"\"}, \"colorscale\": [[0.0, \"#0d0887\"], [0.1111111111111111, \"#46039f\"], [0.2222222222222222, \"#7201a8\"], [0.3333333333333333, \"#9c179e\"], [0.4444444444444444, \"#bd3786\"], [0.5555555555555556, \"#d8576b\"], [0.6666666666666666, \"#ed7953\"], [0.7777777777777778, \"#fb9f3a\"], [0.8888888888888888, \"#fdca26\"], [1.0, \"#f0f921\"]], \"type\": \"heatmapgl\"}], \"histogram\": [{\"marker\": {\"colorbar\": {\"outlinewidth\": 0, \"ticks\": \"\"}}, \"type\": \"histogram\"}], \"histogram2d\": [{\"colorbar\": {\"outlinewidth\": 0, \"ticks\": \"\"}, \"colorscale\": [[0.0, \"#0d0887\"], [0.1111111111111111, \"#46039f\"], [0.2222222222222222, \"#7201a8\"], [0.3333333333333333, \"#9c179e\"], [0.4444444444444444, \"#bd3786\"], [0.5555555555555556, \"#d8576b\"], [0.6666666666666666, \"#ed7953\"], [0.7777777777777778, \"#fb9f3a\"], [0.8888888888888888, \"#fdca26\"], [1.0, \"#f0f921\"]], \"type\": \"histogram2d\"}], \"histogram2dcontour\": [{\"colorbar\": {\"outlinewidth\": 0, \"ticks\": \"\"}, \"colorscale\": [[0.0, \"#0d0887\"], [0.1111111111111111, \"#46039f\"], [0.2222222222222222, \"#7201a8\"], [0.3333333333333333, \"#9c179e\"], [0.4444444444444444, \"#bd3786\"], [0.5555555555555556, \"#d8576b\"], [0.6666666666666666, \"#ed7953\"], [0.7777777777777778, \"#fb9f3a\"], [0.8888888888888888, \"#fdca26\"], [1.0, \"#f0f921\"]], \"type\": \"histogram2dcontour\"}], \"mesh3d\": [{\"colorbar\": {\"outlinewidth\": 0, \"ticks\": \"\"}, \"type\": \"mesh3d\"}], \"parcoords\": [{\"line\": {\"colorbar\": {\"outlinewidth\": 0, \"ticks\": \"\"}}, \"type\": \"parcoords\"}], \"pie\": [{\"automargin\": true, \"type\": \"pie\"}], \"scatter\": [{\"marker\": {\"colorbar\": {\"outlinewidth\": 0, \"ticks\": \"\"}}, \"type\": \"scatter\"}], \"scatter3d\": [{\"line\": {\"colorbar\": {\"outlinewidth\": 0, \"ticks\": \"\"}}, \"marker\": {\"colorbar\": {\"outlinewidth\": 0, \"ticks\": \"\"}}, \"type\": \"scatter3d\"}], \"scattercarpet\": [{\"marker\": {\"colorbar\": {\"outlinewidth\": 0, \"ticks\": \"\"}}, \"type\": \"scattercarpet\"}], \"scattergeo\": [{\"marker\": {\"colorbar\": {\"outlinewidth\": 0, \"ticks\": \"\"}}, \"type\": \"scattergeo\"}], \"scattergl\": [{\"marker\": {\"colorbar\": {\"outlinewidth\": 0, \"ticks\": \"\"}}, \"type\": \"scattergl\"}], \"scattermapbox\": [{\"marker\": {\"colorbar\": {\"outlinewidth\": 0, \"ticks\": \"\"}}, \"type\": \"scattermapbox\"}], \"scatterpolar\": [{\"marker\": {\"colorbar\": {\"outlinewidth\": 0, \"ticks\": \"\"}}, \"type\": \"scatterpolar\"}], \"scatterpolargl\": [{\"marker\": {\"colorbar\": {\"outlinewidth\": 0, \"ticks\": \"\"}}, \"type\": \"scatterpolargl\"}], \"scatterternary\": [{\"marker\": {\"colorbar\": {\"outlinewidth\": 0, \"ticks\": \"\"}}, \"type\": \"scatterternary\"}], \"surface\": [{\"colorbar\": {\"outlinewidth\": 0, \"ticks\": \"\"}, \"colorscale\": [[0.0, \"#0d0887\"], [0.1111111111111111, \"#46039f\"], [0.2222222222222222, \"#7201a8\"], [0.3333333333333333, \"#9c179e\"], [0.4444444444444444, \"#bd3786\"], [0.5555555555555556, \"#d8576b\"], [0.6666666666666666, \"#ed7953\"], [0.7777777777777778, \"#fb9f3a\"], [0.8888888888888888, \"#fdca26\"], [1.0, \"#f0f921\"]], \"type\": \"surface\"}], \"table\": [{\"cells\": {\"fill\": {\"color\": \"#EBF0F8\"}, \"line\": {\"color\": \"white\"}}, \"header\": {\"fill\": {\"color\": \"#C8D4E3\"}, \"line\": {\"color\": \"white\"}}, \"type\": \"table\"}]}, \"layout\": {\"annotationdefaults\": {\"arrowcolor\": \"#2a3f5f\", \"arrowhead\": 0, \"arrowwidth\": 1}, \"autotypenumbers\": \"strict\", \"coloraxis\": {\"colorbar\": {\"outlinewidth\": 0, \"ticks\": \"\"}}, \"colorscale\": {\"diverging\": [[0, \"#8e0152\"], [0.1, \"#c51b7d\"], [0.2, \"#de77ae\"], [0.3, \"#f1b6da\"], [0.4, \"#fde0ef\"], [0.5, \"#f7f7f7\"], [0.6, \"#e6f5d0\"], [0.7, \"#b8e186\"], [0.8, \"#7fbc41\"], [0.9, \"#4d9221\"], [1, \"#276419\"]], \"sequential\": [[0.0, \"#0d0887\"], [0.1111111111111111, \"#46039f\"], [0.2222222222222222, \"#7201a8\"], [0.3333333333333333, \"#9c179e\"], [0.4444444444444444, \"#bd3786\"], [0.5555555555555556, \"#d8576b\"], [0.6666666666666666, \"#ed7953\"], [0.7777777777777778, \"#fb9f3a\"], [0.8888888888888888, \"#fdca26\"], [1.0, \"#f0f921\"]], \"sequentialminus\": [[0.0, \"#0d0887\"], [0.1111111111111111, \"#46039f\"], [0.2222222222222222, \"#7201a8\"], [0.3333333333333333, \"#9c179e\"], [0.4444444444444444, \"#bd3786\"], [0.5555555555555556, \"#d8576b\"], [0.6666666666666666, \"#ed7953\"], [0.7777777777777778, \"#fb9f3a\"], [0.8888888888888888, \"#fdca26\"], [1.0, \"#f0f921\"]]}, \"colorway\": [\"#636efa\", \"#EF553B\", \"#00cc96\", \"#ab63fa\", \"#FFA15A\", \"#19d3f3\", \"#FF6692\", \"#B6E880\", \"#FF97FF\", \"#FECB52\"], \"font\": {\"color\": \"#2a3f5f\"}, \"geo\": {\"bgcolor\": \"white\", \"lakecolor\": \"white\", \"landcolor\": \"#E5ECF6\", \"showlakes\": true, \"showland\": true, \"subunitcolor\": \"white\"}, \"hoverlabel\": {\"align\": \"left\"}, \"hovermode\": \"closest\", \"mapbox\": {\"style\": \"light\"}, \"paper_bgcolor\": \"white\", \"plot_bgcolor\": \"#E5ECF6\", \"polar\": {\"angularaxis\": {\"gridcolor\": \"white\", \"linecolor\": \"white\", \"ticks\": \"\"}, \"bgcolor\": \"#E5ECF6\", \"radialaxis\": {\"gridcolor\": \"white\", \"linecolor\": \"white\", \"ticks\": \"\"}}, \"scene\": {\"xaxis\": {\"backgroundcolor\": \"#E5ECF6\", \"gridcolor\": \"white\", \"gridwidth\": 2, \"linecolor\": \"white\", \"showbackground\": true, \"ticks\": \"\", \"zerolinecolor\": \"white\"}, \"yaxis\": {\"backgroundcolor\": \"#E5ECF6\", \"gridcolor\": \"white\", \"gridwidth\": 2, \"linecolor\": \"white\", \"showbackground\": true, \"ticks\": \"\", \"zerolinecolor\": \"white\"}, \"zaxis\": {\"backgroundcolor\": \"#E5ECF6\", \"gridcolor\": \"white\", \"gridwidth\": 2, \"linecolor\": \"white\", \"showbackground\": true, \"ticks\": \"\", \"zerolinecolor\": \"white\"}}, \"shapedefaults\": {\"line\": {\"color\": \"#2a3f5f\"}}, \"ternary\": {\"aaxis\": {\"gridcolor\": \"white\", \"linecolor\": \"white\", \"ticks\": \"\"}, \"baxis\": {\"gridcolor\": \"white\", \"linecolor\": \"white\", \"ticks\": \"\"}, \"bgcolor\": \"#E5ECF6\", \"caxis\": {\"gridcolor\": \"white\", \"linecolor\": \"white\", \"ticks\": \"\"}}, \"title\": {\"x\": 0.05}, \"xaxis\": {\"automargin\": true, \"gridcolor\": \"white\", \"linecolor\": \"white\", \"ticks\": \"\", \"title\": {\"standoff\": 15}, \"zerolinecolor\": \"white\", \"zerolinewidth\": 2}, \"yaxis\": {\"automargin\": true, \"gridcolor\": \"white\", \"linecolor\": \"white\", \"ticks\": \"\", \"title\": {\"standoff\": 15}, \"zerolinecolor\": \"white\", \"zerolinewidth\": 2}}}, \"title\": {\"font\": {\"color\": \"white\", \"family\": \"Droid Sans\", \"size\": 36}, \"text\": \"Death of a Chess Piece\", \"x\": 0.5, \"y\": 0.95}, \"width\": 2400, \"xaxis\": {\"anchor\": \"y\", \"domain\": [0.0, 0.103125]}, \"xaxis10\": {\"anchor\": \"y10\", \"domain\": [0.128125, 0.23124999999999998]}, \"xaxis11\": {\"anchor\": \"y11\", \"domain\": [0.25625, 0.359375]}, \"xaxis12\": {\"anchor\": \"y12\", \"domain\": [0.38437499999999997, 0.48749999999999993]}, \"xaxis13\": {\"anchor\": \"y13\", \"domain\": [0.5125, 0.615625]}, \"xaxis14\": {\"anchor\": \"y14\", \"domain\": [0.640625, 0.74375]}, \"xaxis15\": {\"anchor\": \"y15\", \"domain\": [0.76875, 0.8718750000000001]}, \"xaxis16\": {\"anchor\": \"y16\", \"domain\": [0.8968750000000001, 1.0]}, \"xaxis2\": {\"anchor\": \"y2\", \"domain\": [0.128125, 0.23124999999999998]}, \"xaxis3\": {\"anchor\": \"y3\", \"domain\": [0.25625, 0.359375]}, \"xaxis4\": {\"anchor\": \"y4\", \"domain\": [0.38437499999999997, 0.48749999999999993]}, \"xaxis5\": {\"anchor\": \"y5\", \"domain\": [0.5125, 0.615625]}, \"xaxis6\": {\"anchor\": \"y6\", \"domain\": [0.640625, 0.74375]}, \"xaxis7\": {\"anchor\": \"y7\", \"domain\": [0.76875, 0.8718750000000001]}, \"xaxis8\": {\"anchor\": \"y8\", \"domain\": [0.8968750000000001, 1.0]}, \"xaxis9\": {\"anchor\": \"y9\", \"domain\": [0.0, 0.103125]}, \"yaxis\": {\"anchor\": \"x\", \"domain\": [0.575, 1.0]}, \"yaxis10\": {\"anchor\": \"x10\", \"domain\": [0.0, 0.425]}, \"yaxis11\": {\"anchor\": \"x11\", \"domain\": [0.0, 0.425]}, \"yaxis12\": {\"anchor\": \"x12\", \"domain\": [0.0, 0.425]}, \"yaxis13\": {\"anchor\": \"x13\", \"domain\": [0.0, 0.425]}, \"yaxis14\": {\"anchor\": \"x14\", \"domain\": [0.0, 0.425]}, \"yaxis15\": {\"anchor\": \"x15\", \"domain\": [0.0, 0.425]}, \"yaxis16\": {\"anchor\": \"x16\", \"domain\": [0.0, 0.425]}, \"yaxis2\": {\"anchor\": \"x2\", \"domain\": [0.575, 1.0]}, \"yaxis3\": {\"anchor\": \"x3\", \"domain\": [0.575, 1.0]}, \"yaxis4\": {\"anchor\": \"x4\", \"domain\": [0.575, 1.0]}, \"yaxis5\": {\"anchor\": \"x5\", \"domain\": [0.575, 1.0]}, \"yaxis6\": {\"anchor\": \"x6\", \"domain\": [0.575, 1.0]}, \"yaxis7\": {\"anchor\": \"x7\", \"domain\": [0.575, 1.0]}, \"yaxis8\": {\"anchor\": \"x8\", \"domain\": [0.575, 1.0]}, \"yaxis9\": {\"anchor\": \"x9\", \"domain\": [0.0, 0.425]}},                        {\"responsive\": true}                    ).then(function(){\n",
       "                            \n",
       "var gd = document.getElementById('a7f38342-392f-45e1-a8d7-8df225df072c');\n",
       "var x = new MutationObserver(function (mutations, observer) {{\n",
       "        var display = window.getComputedStyle(gd).display;\n",
       "        if (!display || display === 'none') {{\n",
       "            console.log([gd, 'removed!']);\n",
       "            Plotly.purge(gd);\n",
       "            observer.disconnect();\n",
       "        }}\n",
       "}});\n",
       "\n",
       "// Listen for the removal of the full notebook cells\n",
       "var notebookContainer = gd.closest('#notebook-container');\n",
       "if (notebookContainer) {{\n",
       "    x.observe(notebookContainer, {childList: true});\n",
       "}}\n",
       "\n",
       "// Listen for the clearing of the current output cell\n",
       "var outputEl = gd.closest('.output');\n",
       "if (outputEl) {{\n",
       "    x.observe(outputEl, {childList: true});\n",
       "}}\n",
       "\n",
       "                        })                };                });            </script>        </div>"
      ]
     },
     "metadata": {},
     "output_type": "display_data"
    }
   ],
   "source": [
    "death_oa = generate_death_heatmap(pd.read_json('query results\\death_dict.txt'), w_filter)\n",
    "death_twentyfive = generate_death_heatmap(pd.read_json('query results\\death_dict_elosum_0-2500.txt'), w_filter)\n",
    "death_three = generate_death_heatmap(pd.read_json('query results\\death_dict_elosum_2500-3000.txt'), w_filter)\n",
    "death_thirtyfive = generate_death_heatmap(pd.read_json('query results\\death_dict_elosum_3000-3500.txt'), w_filter)\n",
    "death_four = generate_death_heatmap(pd.read_json('query results\\death_dict_elosum_3500-4000.txt'), w_filter)\n",
    "death_max = generate_death_heatmap(pd.read_json('query results\\death_dict_elosum_4000-10000.txt'), w_filter)\n",
    "\n",
    "death_list = [death_oa, death_twentyfive, death_three, death_thirtyfive, death_four, death_max]\n",
    "subplot_titles=('All Games', 'Elo 0-1250', 'Elo 1250-1500', 'Elo 1500-1750', 'Elo 1750-2000', 'Elo 2000+')\n",
    "\n",
    "index = 0\n",
    "for figure in death_list:\n",
    "    add_piece_img(figure, 'white')\n",
    "    figure.update_layout(annotations = [dict(xref='paper',yref='paper',\n",
    "                                        xanchor='center', yanchor='top',\n",
    "                                        x=0.535, y=1.15,\n",
    "                                        showarrow=False,\n",
    "                                        text =F'<i>Averaged {subplot_titles[index]}<i>',\n",
    "                                        font=dict(size=24)\n",
    "                                           ), \n",
    "                                        dict(xref='paper', yref='paper',\n",
    "                                        x=-0.03, y=-0.14,\n",
    "                                        xanchor='left',  yanchor='bottom',\n",
    "                                        text = '<i>~4.7 million games analyzed<br>Source: https://database.lichess.org/standard/lichess_db_standard_rated_2016-01.pgn.bz2<i>',\n",
    "                                        showarrow=False,\n",
    "                                        font=dict(\n",
    "                                        family='Droid Sans', \n",
    "                                        size=14, \n",
    "                                        color='white')\n",
    "                                         )])\n",
    "    \n",
    "    max_val = figure.data[0]['z'].max()\n",
    "    figure.update_traces(showscale=True,\n",
    "                         row=1, col=1, \n",
    "                         colorbar=dict(\n",
    "                         title='Relative Frequency of<br>  Capture on Square',\n",
    "                         titlefont = dict(size=18),\n",
    "                         titleside='top',\n",
    "                         tickvals=[0, max_val/2, max_val],\n",
    "                         ticktext=['<i>None<i>', '<i>Occaisonal<i>', '<i>Most<i>'],\n",
    "                         ticks='outside',\n",
    "                         ticklabelposition='outside bottom',\n",
    "                         tickfont= dict(size=16)))\n",
    "    index+=1\n",
    "    \n",
    "death_oa.update_layout(annotations = [dict(xref='paper',yref='paper',\n",
    "                                        x=0.535, y=1.15,\n",
    "                                        showarrow=False,\n",
    "                                        text =F'<i>All Games<i>',\n",
    "                                        font=dict(size=24)\n",
    "                                           ), \n",
    "                                        dict(xref='paper', yref='paper',\n",
    "                                        x=-0.03, y=-0.14,\n",
    "                                        xanchor='left',  yanchor='bottom',\n",
    "                                        text = '<i>~4.7 million games analyzed<br>Source: https://database.lichess.org/standard/lichess_db_standard_rated_2016-01.pgn.bz2<i>',\n",
    "                                        showarrow=False,\n",
    "                                        font=dict(\n",
    "                                        family='Droid Sans', \n",
    "                                        size=14, \n",
    "                                        color='white')\n",
    "                                         )])"
   ]
  },
  {
   "cell_type": "code",
   "execution_count": 13,
   "id": "13016bf7",
   "metadata": {
    "scrolled": false
   },
   "outputs": [
    {
     "data": {
      "application/vnd.plotly.v1+json": {
       "config": {
        "plotlyServerURL": "https://plot.ly"
       },
       "data": [
        {
         "colorbar": {
          "tickfont": {
           "size": 16
          },
          "ticklabelposition": "outside bottom",
          "ticks": "outside",
          "ticktext": [
           "<i>None<i>",
           "<i>Occaisonal<i>",
           "<i>Most<i>"
          ],
          "tickvals": [
           0,
           0.11700503161273694,
           0.23401006322547388
          ],
          "title": {
           "font": {
            "size": 18
           },
           "side": "top",
           "text": "Relative Frequency of<br>  Capture on Square"
          }
         },
         "colorscale": [
          [
           0,
           "rgb(247,251,255)"
          ],
          [
           0.125,
           "rgb(222,235,247)"
          ],
          [
           0.25,
           "rgb(198,219,239)"
          ],
          [
           0.375,
           "rgb(158,202,225)"
          ],
          [
           0.5,
           "rgb(107,174,214)"
          ],
          [
           0.625,
           "rgb(66,146,198)"
          ],
          [
           0.75,
           "rgb(33,113,181)"
          ],
          [
           0.875,
           "rgb(8,81,156)"
          ],
          [
           1,
           "rgb(8,48,107)"
          ]
         ],
         "showscale": true,
         "type": "heatmap",
         "x": [
          "H",
          "G",
          "F",
          "E",
          "D",
          "C",
          "B",
          "A"
         ],
         "xaxis": "x",
         "xgap": 1,
         "y": [
          "8",
          "7",
          "6",
          "5",
          "4",
          "3",
          "2",
          "1"
         ],
         "yaxis": "y",
         "ygap": 1,
         "z": [
          [
           0,
           0,
           0,
           0,
           0,
           0,
           0,
           0
          ],
          [
           0.23401006322547388,
           0,
           0,
           0,
           1.09895e-319,
           0,
           0,
           0
          ],
          [
           0.19953243328907477,
           0.039598048580441185,
           0,
           1.3933e-320,
           7.7842e-319,
           1.7554e-320,
           0,
           0
          ],
          [
           0.14111114239774505,
           0.10695841212150092,
           0.0037016901280321262,
           5.1245e-319,
           4.795777e-318,
           1.7591e-319,
           2.337e-321,
           0
          ],
          [
           0.06278577632607796,
           0.08508183500440059,
           0.007081368592888452,
           0.00016317182932226653,
           2.64287e-318,
           8.0654e-319,
           1.363e-320,
           7.4e-323
          ],
          [
           0.0278814448360087,
           0.052832294737419704,
           0.00682000486627491,
           0.00020360378703043877,
           4.33199546873274e-06,
           7.1114e-319,
           4.6314e-320,
           3.85e-322
          ],
          [
           0.01177797368023953,
           0.008016357614889934,
           0.0024764574096255497,
           0.0001436778497129692,
           7.94199169267669e-06,
           7.219992447887899e-07,
           4.2287e-320,
           2.925e-321
          ],
          [
           0.0072510384154138175,
           0.0019782779307212844,
           0.0005176734585135624,
           5.9925937317469564e-05,
           3.6099962239439497e-06,
           7.219992447887899e-07,
           2.554e-321,
           1.566e-321
          ]
         ]
        },
        {
         "colorscale": [
          [
           0,
           "rgb(247,251,255)"
          ],
          [
           0.125,
           "rgb(222,235,247)"
          ],
          [
           0.25,
           "rgb(198,219,239)"
          ],
          [
           0.375,
           "rgb(158,202,225)"
          ],
          [
           0.5,
           "rgb(107,174,214)"
          ],
          [
           0.625,
           "rgb(66,146,198)"
          ],
          [
           0.75,
           "rgb(33,113,181)"
          ],
          [
           0.875,
           "rgb(8,81,156)"
          ],
          [
           1,
           "rgb(8,48,107)"
          ]
         ],
         "showscale": false,
         "type": "heatmap",
         "x": [
          "H",
          "G",
          "F",
          "E",
          "D",
          "C",
          "B",
          "A"
         ],
         "xaxis": "x2",
         "xgap": 1,
         "y": [
          "8",
          "7",
          "6",
          "5",
          "4",
          "3",
          "2",
          "1"
         ],
         "yaxis": "y2",
         "ygap": 1,
         "z": [
          [
           0,
           0,
           0,
           0,
           0,
           0,
           0,
           0
          ],
          [
           1.601336e-318,
           0.19428247791945383,
           0,
           0,
           0,
           0,
           0,
           0
          ],
          [
           0.02690872353778567,
           0.21258552863200111,
           0.054874251863644016,
           0,
           0,
           0,
           0,
           0
          ],
          [
           0.026966890661115277,
           0.17832754213289656,
           0.06262088812013042,
           0.005599350977360743,
           0,
           0,
           0,
           0
          ],
          [
           0.02090526412466133,
           0.08347533254756694,
           0.04771540969554103,
           0.007307015261216306,
           0.00022593335272237444,
           0,
           0,
           0
          ],
          [
           0.012024062820493196,
           0.022265150239556705,
           0.02138223453596412,
           0.0025740482787123637,
           0.00025409848612407965,
           1.775627975324894e-05,
           0,
           0
          ],
          [
           0.003130615806150408,
           0.00621714705567206,
           0.0035861562246475532,
           0.0008682208513829999,
           9.123054080117559e-05,
           1.224571017465444e-05,
           2.449142034930888e-06,
           0
          ],
          [
           0.0010084342328827932,
           0.0031048998147836337,
           0.0013225366988626798,
           0.0002938970441917066,
           4.5921413154954154e-05,
           4.285998561129054e-06,
           0,
           0
          ]
         ]
        },
        {
         "colorscale": [
          [
           0,
           "rgb(247,251,255)"
          ],
          [
           0.125,
           "rgb(222,235,247)"
          ],
          [
           0.25,
           "rgb(198,219,239)"
          ],
          [
           0.375,
           "rgb(158,202,225)"
          ],
          [
           0.5,
           "rgb(107,174,214)"
          ],
          [
           0.625,
           "rgb(66,146,198)"
          ],
          [
           0.75,
           "rgb(33,113,181)"
          ],
          [
           0.875,
           "rgb(8,81,156)"
          ],
          [
           1,
           "rgb(8,48,107)"
          ]
         ],
         "showscale": false,
         "type": "heatmap",
         "x": [
          "H",
          "G",
          "F",
          "E",
          "D",
          "C",
          "B",
          "A"
         ],
         "xaxis": "x3",
         "xgap": 1,
         "y": [
          "8",
          "7",
          "6",
          "5",
          "4",
          "3",
          "2",
          "1"
         ],
         "yaxis": "y3",
         "ygap": 1,
         "z": [
          [
           0,
           0,
           0,
           0,
           0,
           0,
           0,
           0
          ],
          [
           0,
           1.567705e-318,
           0.2669105703847681,
           0,
           0,
           0,
           0,
           0
          ],
          [
           2.1713e-319,
           0.02600129961207104,
           0.12469410726519381,
           0.05751760745517745,
           0,
           0,
           0,
           0
          ],
          [
           0.0012986585772251328,
           0.024676419954909278,
           0.18495443968174283,
           0.0760444690445849,
           0.004291198918356615,
           0,
           0,
           0
          ],
          [
           0.0010869829501003313,
           0.026351231842498078,
           0.05362020148277823,
           0.07506952161785017,
           0.004818480998536863,
           0.0001868847879119868,
           0,
           0
          ],
          [
           0.001226193047218444,
           0.016155045722412206,
           0.020724664835005048,
           0.012814480138485441,
           0.002962505285931342,
           0.0004343164331321938,
           9.534938158774837e-06,
           0
          ],
          [
           0.0006846085598000333,
           0.0031055293583129645,
           0.005124075766525597,
           0.003161308746541797,
           0.0008629119033691227,
           0.00013682636257841892,
           3.241878973983445e-05,
           9.534938158774836e-07
          ],
          [
           0.00016447768323886593,
           0.0006626782020348512,
           0.002636887147809181,
           0.0012528908740630136,
           0.00028557139785530635,
           3.432577737158941e-05,
           5.24421598732616e-06,
           4.767469079387418e-07
          ]
         ]
        },
        {
         "colorscale": [
          [
           0,
           "rgb(247,251,255)"
          ],
          [
           0.125,
           "rgb(222,235,247)"
          ],
          [
           0.25,
           "rgb(198,219,239)"
          ],
          [
           0.375,
           "rgb(158,202,225)"
          ],
          [
           0.5,
           "rgb(107,174,214)"
          ],
          [
           0.625,
           "rgb(66,146,198)"
          ],
          [
           0.75,
           "rgb(33,113,181)"
          ],
          [
           0.875,
           "rgb(8,81,156)"
          ],
          [
           1,
           "rgb(8,48,107)"
          ]
         ],
         "showscale": false,
         "type": "heatmap",
         "x": [
          "H",
          "G",
          "F",
          "E",
          "D",
          "C",
          "B",
          "A"
         ],
         "xaxis": "x4",
         "xgap": 1,
         "y": [
          "8",
          "7",
          "6",
          "5",
          "4",
          "3",
          "2",
          "1"
         ],
         "yaxis": "y4",
         "ygap": 1,
         "z": [
          [
           0,
           0,
           0,
           0,
           0,
           0,
           0,
           0
          ],
          [
           0,
           0,
           2.766066e-318,
           0.018129084711842148,
           0,
           0,
           0,
           0
          ],
          [
           0,
           2.6946e-319,
           0.003023043655007294,
           0.12050027395695817,
           0.0029591430245663936,
           0,
           0,
           0
          ],
          [
           1.346e-320,
           0.0004510432797610388,
           0.028830740825840872,
           0.3108609318343424,
           0.0954325324907514,
           0.0001964604489087268,
           0,
           0
          ],
          [
           1.3255981846782603e-05,
           0.0018684136464554863,
           0.06484758340051963,
           0.08135128079976398,
           0.17084071476254117,
           0.007041305639434574,
           7.817630319897432e-06,
           0
          ],
          [
           7.273795167208916e-05,
           0.0033670193890827814,
           0.020935953893655754,
           0.016541425962962108,
           0.01672429053305362,
           0.013923539496707759,
           0.00026409994602436107,
           1.0196909112909695e-06
          ],
          [
           0.00032018294614536444,
           0.0014690347061998568,
           0.0028371200121819072,
           0.004750060161763766,
           0.0036226219108463843,
           0.0012749535360841422,
           0.002825223618216846,
           5.778248497315494e-06
          ],
          [
           7.715661228768336e-05,
           0.00013255981846782604,
           0.0008086148926537388,
           0.0019061422101732523,
           0.001331376433175576,
           0.0003188233582636431,
           6.492032135219172e-05,
           7.171826076079819e-05
          ]
         ]
        },
        {
         "colorscale": [
          [
           0,
           "rgb(247,251,255)"
          ],
          [
           0.125,
           "rgb(222,235,247)"
          ],
          [
           0.25,
           "rgb(198,219,239)"
          ],
          [
           0.375,
           "rgb(158,202,225)"
          ],
          [
           0.5,
           "rgb(107,174,214)"
          ],
          [
           0.625,
           "rgb(66,146,198)"
          ],
          [
           0.75,
           "rgb(33,113,181)"
          ],
          [
           0.875,
           "rgb(8,81,156)"
          ],
          [
           1,
           "rgb(8,48,107)"
          ]
         ],
         "showscale": false,
         "type": "heatmap",
         "x": [
          "H",
          "G",
          "F",
          "E",
          "D",
          "C",
          "B",
          "A"
         ],
         "xaxis": "x5",
         "xgap": 1,
         "y": [
          "8",
          "7",
          "6",
          "5",
          "4",
          "3",
          "2",
          "1"
         ],
         "yaxis": "y5",
         "ygap": 1,
         "z": [
          [
           0,
           0,
           0,
           0,
           0,
           0,
           0,
           0
          ],
          [
           0,
           0,
           0,
           2.6352e-319,
           0.011278276822278877,
           0,
           0,
           0
          ],
          [
           0,
           0,
           4.394e-320,
           0.002183226063762241,
           0.10525984090010494,
           0.00320005819427796,
           0,
           0
          ],
          [
           0,
           6.556e-321,
           0.000148934709218306,
           0.0940380024939509,
           0.42293224536789537,
           0.014694995825124941,
           0.00038942507126133905,
           0
          ],
          [
           1.93e-322,
           8.779309174973827e-06,
           0.005224002505865676,
           0.12056280388559683,
           0.05213969009665706,
           0.08870770763771679,
           0.001230043924765083,
           1.5677337812453262e-05
          ],
          [
           1.057e-321,
           0.0002599302609304751,
           0.011832941034083473,
           0.014364831090794675,
           0.017023394037030497,
           0.014547942396444129,
           0.003119163131165701,
           4.2328812093623805e-05
          ],
          [
           1.379605727495887e-05,
           0.000490073580017289,
           0.001474923941395603,
           0.002654800385160835,
           0.004869067577791734,
           0.002081323367981295,
           0.0009064636723160476,
           7.39970344747794e-05
          ],
          [
           2.0066992399940176e-05,
           6.929383313104342e-05,
           0.00029347976384912504,
           0.0008537878172662046,
           0.0019098132923130564,
           0.0008500252561912158,
           0.0001652391405432574,
           6.960737988729248e-05
          ]
         ]
        },
        {
         "colorscale": [
          [
           0,
           "rgb(247,251,255)"
          ],
          [
           0.125,
           "rgb(222,235,247)"
          ],
          [
           0.25,
           "rgb(198,219,239)"
          ],
          [
           0.375,
           "rgb(158,202,225)"
          ],
          [
           0.5,
           "rgb(107,174,214)"
          ],
          [
           0.625,
           "rgb(66,146,198)"
          ],
          [
           0.75,
           "rgb(33,113,181)"
          ],
          [
           0.875,
           "rgb(8,81,156)"
          ],
          [
           1,
           "rgb(8,48,107)"
          ]
         ],
         "showscale": false,
         "type": "heatmap",
         "x": [
          "H",
          "G",
          "F",
          "E",
          "D",
          "C",
          "B",
          "A"
         ],
         "xaxis": "x6",
         "xgap": 1,
         "y": [
          "8",
          "7",
          "6",
          "5",
          "4",
          "3",
          "2",
          "1"
         ],
         "yaxis": "y6",
         "ygap": 1,
         "z": [
          [
           0,
           0,
           0,
           0,
           0,
           0,
           0,
           0
          ],
          [
           0,
           0,
           0,
           0,
           1.77715e-319,
           0.11402187797606525,
           0,
           0
          ],
          [
           0,
           0,
           0,
           3.44e-320,
           0.01799951282764946,
           0.11195583485397761,
           0.004922679725870975,
           0
          ],
          [
           0,
           0,
           2.347e-321,
           0.0018591299843000795,
           0.08054865952327367,
           0.18814349117279988,
           0.02147148439716668,
           0.00026520396578367
          ],
          [
           0,
           1.4e-322,
           0.00010152640902635402,
           0.010576890041494577,
           0.2877748692413198,
           0.056662931163936586,
           0.022389082398138707,
           0.0005971914629801128
          ],
          [
           0,
           5.790479602263537e-06,
           0.0008635535246842355,
           0.004968617530715599,
           0.016676195222545504,
           0.025605500801209363,
           0.011795206949810825,
           0.0015931539545694412
          ],
          [
           2.17e-322,
           5.0184156552950656e-05,
           0.0004219329470182697,
           0.001093242548907356,
           0.003681972963092641,
           0.005318362498692317,
           0.0026281056754806774,
           0.0003493589360032334
          ],
          [
           3.16e-322,
           5.0184156552950654e-06,
           8.72432260074373e-05,
           0.00028103127669652366,
           0.0013920312963841544,
           0.002953144597154404,
           0.0007373210693548904,
           0.0002026667860792238
          ]
         ]
        },
        {
         "colorscale": [
          [
           0,
           "rgb(247,251,255)"
          ],
          [
           0.125,
           "rgb(222,235,247)"
          ],
          [
           0.25,
           "rgb(198,219,239)"
          ],
          [
           0.375,
           "rgb(158,202,225)"
          ],
          [
           0.5,
           "rgb(107,174,214)"
          ],
          [
           0.625,
           "rgb(66,146,198)"
          ],
          [
           0.75,
           "rgb(33,113,181)"
          ],
          [
           0.875,
           "rgb(8,81,156)"
          ],
          [
           1,
           "rgb(8,48,107)"
          ]
         ],
         "showscale": false,
         "type": "heatmap",
         "x": [
          "H",
          "G",
          "F",
          "E",
          "D",
          "C",
          "B",
          "A"
         ],
         "xaxis": "x7",
         "xgap": 1,
         "y": [
          "8",
          "7",
          "6",
          "5",
          "4",
          "3",
          "2",
          "1"
         ],
         "yaxis": "y7",
         "ygap": 1,
         "z": [
          [
           0,
           0,
           0,
           0,
           0,
           0,
           0,
           0
          ],
          [
           0,
           0,
           0,
           0,
           0,
           1.459317e-318,
           0.23363228195424923,
           0
          ],
          [
           0,
           0,
           0,
           0,
           2.3037e-319,
           0.06929423107498912,
           0.10536399800641438,
           0.0085921184845109
          ],
          [
           0,
           0,
           0,
           2.3794e-320,
           0.011962584402173244,
           0.06568982398737468,
           0.20686823437586155,
           0.011582496917811703
          ],
          [
           0,
           0,
           1.3e-321,
           0.0009250579901080893,
           0.014047176886826543,
           0.06815503929087453,
           0.08365993198040034,
           0.02221209845229447
          ],
          [
           0,
           7.4e-323,
           8.351217966253585e-05,
           0.0006129579853436125,
           0.004320684628566197,
           0.03264630289974631,
           0.023245294008375845,
           0.011343737737494452
          ],
          [
           0,
           5.353344850162554e-06,
           6.584614165699942e-05,
           0.0002355471734071524,
           0.0015926200929233599,
           0.004953985324340428,
           0.007640293770151997,
           0.0025348087865519693
          ],
          [
           0,
           5.353344850162554e-07,
           1.9272041460585197e-05,
           8.886552451269841e-05,
           0.0006038572990983361,
           0.0021509739607953144,
           0.00448770898789127,
           0.0013827689747969879
          ]
         ]
        },
        {
         "colorscale": [
          [
           0,
           "rgb(247,251,255)"
          ],
          [
           0.125,
           "rgb(222,235,247)"
          ],
          [
           0.25,
           "rgb(198,219,239)"
          ],
          [
           0.375,
           "rgb(158,202,225)"
          ],
          [
           0.5,
           "rgb(107,174,214)"
          ],
          [
           0.625,
           "rgb(66,146,198)"
          ],
          [
           0.75,
           "rgb(33,113,181)"
          ],
          [
           0.875,
           "rgb(8,81,156)"
          ],
          [
           1,
           "rgb(8,48,107)"
          ]
         ],
         "showscale": false,
         "type": "heatmap",
         "x": [
          "H",
          "G",
          "F",
          "E",
          "D",
          "C",
          "B",
          "A"
         ],
         "xaxis": "x8",
         "xgap": 1,
         "y": [
          "8",
          "7",
          "6",
          "5",
          "4",
          "3",
          "2",
          "1"
         ],
         "yaxis": "y8",
         "ygap": 1,
         "z": [
          [
           0,
           0,
           0,
           0,
           0,
           0,
           0,
           0
          ],
          [
           0,
           0,
           0,
           0,
           0,
           0,
           2.156216e-318,
           0.26606344980295504
          ],
          [
           0,
           0,
           0,
           0,
           0,
           6.39524e-319,
           0.025478187391171272,
           0.17622162764575544
          ],
          [
           0,
           0,
           0,
           0,
           1.10404e-319,
           0.002400272977964059,
           0.09945096867636441,
           0.13846748647924328
          ],
          [
           0,
           0,
           0,
           8.537e-321,
           0.00016695004239652392,
           0.006791498435209471,
           0.09344442833522983,
           0.06600531018292745
          ],
          [
           0,
           0,
           7.7e-322,
           7.322370280549295e-06,
           0.00031925534423194927,
           0.008284529735413472,
           0.04374091110788927,
           0.03079422821485006
          ],
          [
           0,
           5e-323,
           6.1e-322,
           1.0251318392769012e-05,
           0.00017207570159290844,
           0.0017412596527146224,
           0.008182748788513838,
           0.01630252519261495
          ],
          [
           0,
           5e-324,
           1.8e-322,
           2.928948112219718e-06,
           7.322370280549295e-05,
           0.0006355817403516788,
           0.0034444429799703885,
           0.011798535233049079
          ]
         ]
        },
        {
         "colorscale": [
          [
           0,
           "rgb(247,251,255)"
          ],
          [
           0.125,
           "rgb(222,235,247)"
          ],
          [
           0.25,
           "rgb(198,219,239)"
          ],
          [
           0.375,
           "rgb(158,202,225)"
          ],
          [
           0.5,
           "rgb(107,174,214)"
          ],
          [
           0.625,
           "rgb(66,146,198)"
          ],
          [
           0.75,
           "rgb(33,113,181)"
          ],
          [
           0.875,
           "rgb(8,81,156)"
          ],
          [
           1,
           "rgb(8,48,107)"
          ]
         ],
         "showscale": false,
         "type": "heatmap",
         "x": [
          "H",
          "G",
          "F",
          "E",
          "D",
          "C",
          "B",
          "A"
         ],
         "xaxis": "x9",
         "xgap": 1,
         "y": [
          "8",
          "7",
          "6",
          "5",
          "4",
          "3",
          "2",
          "1"
         ],
         "yaxis": "y9",
         "ygap": 1,
         "z": [
          [
           0.0773366704024915,
           0.021031041322176206,
           0.09694534931506532,
           0.07502289910817414,
           0.051306974996536754,
           0.023169218038891187,
           0.010322088639586802,
           0.007118298391247884
          ],
          [
           0.007462074582754389,
           0.01137287624381423,
           0.04056327404661179,
           0.02113250626279605,
           0.015192869099570466,
           0.008450315305777802,
           0.004638198723950961,
           0.002999933746636947
          ],
          [
           0.007005250694849519,
           0.009782332220307721,
           0.01984913692253592,
           0.017501543981345277,
           0.011657348725734706,
           0.006099942503200315,
           0.003095838964483101,
           0.0018198825879212244
          ],
          [
           0.005950756608772965,
           0.008143140622531426,
           0.014394585571314795,
           0.0174598460605426,
           0.010941071108390965,
           0.005323897866039406,
           0.003154216053606847,
           0.001671623313956155
          ],
          [
           0.006580395212893368,
           0.006660084572649593,
           0.013495763722901564,
           0.016232537258250513,
           0.010898446567126008,
           0.005810836918968431,
           0.003165798809385368,
           0.0019542425549520684
          ],
          [
           0.006222719714452638,
           0.009291223375298429,
           0.01865935624896624,
           0.015875325070040924,
           0.010307726022421436,
           0.007322154892949855,
           0.004093809202360473,
           0.0021669019510457146
          ],
          [
           0.006621166513233761,
           0.011762983458434817,
           0.018739972229184745,
           0.019530842793742162,
           0.014983452875094805,
           0.00863054298569159,
           0.00550227230502863,
           0.003328884010746944
          ],
          [
           0.009293076616222994,
           0.007947623704989991,
           0.035241692731728086,
           0.045325176602277355,
           0.03443275306815618,
           0.013328972039690861,
           0.005254864641599421,
           0.0034233992978996756
          ]
         ]
        },
        {
         "colorscale": [
          [
           0,
           "rgb(247,251,255)"
          ],
          [
           0.125,
           "rgb(222,235,247)"
          ],
          [
           0.25,
           "rgb(198,219,239)"
          ],
          [
           0.375,
           "rgb(158,202,225)"
          ],
          [
           0.5,
           "rgb(107,174,214)"
          ],
          [
           0.625,
           "rgb(66,146,198)"
          ],
          [
           0.75,
           "rgb(33,113,181)"
          ],
          [
           0.875,
           "rgb(8,81,156)"
          ],
          [
           1,
           "rgb(8,48,107)"
          ]
         ],
         "showscale": false,
         "type": "heatmap",
         "x": [
          "H",
          "G",
          "F",
          "E",
          "D",
          "C",
          "B",
          "A"
         ],
         "xaxis": "x10",
         "xgap": 1,
         "y": [
          "8",
          "7",
          "6",
          "5",
          "4",
          "3",
          "2",
          "1"
         ],
         "yaxis": "y10",
         "ygap": 1,
         "z": [
          [
           0.00016488354367377275,
           0.007638767217915224,
           0.0012303492852814514,
           0.002088524886534455,
           0.00046089274813717864,
           0.0009591702591377847,
           0.00046563559118701644,
           0.00021817078029253857
          ],
          [
           0.0035130517460916183,
           0.0018245996203493633,
           0.0035018921153861177,
           0.02179643271244868,
           0.011839531206233324,
           0.0019135976752257314,
           0.0005836486858976863,
           0.00044471128361420263
          ],
          [
           0.016326260731379875,
           0.01058016688111757,
           0.20398354177663552,
           0.0048151016586559115,
           0.00809435914146729,
           0.007057071467391001,
           0.0048254243170585,
           0.0007250970050899075
          ],
          [
           0.017347366940933192,
           0.01316362138944098,
           0.023627170129686067,
           0.03259058551234423,
           0.12003521979450656,
           0.009878226109741576,
           0.0027355044766858576,
           0.0007432314049863462
          ],
          [
           0.005483842528683041,
           0.03395987219990916,
           0.030830153768551492,
           0.13902974822757166,
           0.014854026450556699,
           0.010555615693565468,
           0.004342770289045595,
           0.0016563681874639405
          ],
          [
           0.0033400774701563577,
           0.021726685020539302,
           0.01604726996374236,
           0.03693419277369273,
           0.01362200322066942,
           0.047021103977627175,
           0.0030627606471246654,
           0.0007195171897371572
          ],
          [
           0.0025879183606056107,
           0.00353871889671427,
           0.015300969660312,
           0.009334194112848417,
           0.019335734141885778,
           0.002246991642552565,
           0.0016499513998082776,
           0.0007387675527041459
          ],
          [
           0.002797719417869024,
           0.0007820111216879611,
           0.00941035859241346,
           0.002640368624921464,
           0.005840950711259063,
           0.002750290987370646,
           0.0013916059489759364,
           0.0012956331249086306
          ]
         ]
        },
        {
         "colorscale": [
          [
           0,
           "rgb(247,251,255)"
          ],
          [
           0.125,
           "rgb(222,235,247)"
          ],
          [
           0.25,
           "rgb(198,219,239)"
          ],
          [
           0.375,
           "rgb(158,202,225)"
          ],
          [
           0.5,
           "rgb(107,174,214)"
          ],
          [
           0.625,
           "rgb(66,146,198)"
          ],
          [
           0.75,
           "rgb(33,113,181)"
          ],
          [
           0.875,
           "rgb(8,81,156)"
          ],
          [
           1,
           "rgb(8,48,107)"
          ]
         ],
         "showscale": false,
         "type": "heatmap",
         "x": [
          "H",
          "G",
          "F",
          "E",
          "D",
          "C",
          "B",
          "A"
         ],
         "xaxis": "x11",
         "xgap": 1,
         "y": [
          "8",
          "7",
          "6",
          "5",
          "4",
          "3",
          "2",
          "1"
         ],
         "yaxis": "y11",
         "ygap": 1,
         "z": [
          [
           0.0012400590884723184,
           1.35275e-319,
           0.019202193288203585,
           3.6986e-320,
           0.004610748135698786,
           1.6986e-320,
           0.0017330871105624701,
           3.864e-321
          ],
          [
           6.2213e-320,
           0.057827818388447416,
           6.2015e-320,
           0.08622467224558038,
           2.09667e-319,
           0.0071432895453719955,
           1.0336e-320,
           0.0030230730873477153
          ],
          [
           0.015804668538508922,
           1.87365e-319,
           0.05209309117960387,
           8.527e-320,
           0.0843052954330003,
           1.24974e-319,
           0.017282504432571552,
           1.284e-320
          ],
          [
           3.07205e-319,
           0.0429499177142472,
           4.18414e-319,
           0.0754248622173904,
           2.12571e-318,
           0.057991328947672255,
           4.8443e-320,
           0.004344887455432451
          ],
          [
           0.011566811849897307,
           6.01396e-319,
           0.03513667173632612,
           2.46208e-318,
           0.058687496996585625,
           1.8693e-319,
           0.027769647322701818,
           2.9333e-320
          ],
          [
           5.915e-320,
           0.025015867389191954,
           2.8418e-319,
           0.044584087177339686,
           2.41232e-319,
           0.13373260281974583,
           5.424e-320,
           0.015024560908619441
          ],
          [
           0.008478209721638876,
           6.2667e-320,
           0.024382419993721694,
           1.653e-319,
           0.041433700524794004,
           3.979e-320,
           0.013254028631822276,
           1.3083e-320
          ],
          [
           4.9545e-320,
           0.003270835270600614,
           1.6665e-319,
           0.006553840220227505,
           1.0344e-319,
           0.009328839081270364,
           2.4644e-320,
           0.010578883547405268
          ]
         ]
        },
        {
         "colorscale": [
          [
           0,
           "rgb(247,251,255)"
          ],
          [
           0.125,
           "rgb(222,235,247)"
          ],
          [
           0.25,
           "rgb(198,219,239)"
          ],
          [
           0.375,
           "rgb(158,202,225)"
          ],
          [
           0.5,
           "rgb(107,174,214)"
          ],
          [
           0.625,
           "rgb(66,146,198)"
          ],
          [
           0.75,
           "rgb(33,113,181)"
          ],
          [
           0.875,
           "rgb(8,81,156)"
          ],
          [
           1,
           "rgb(8,48,107)"
          ]
         ],
         "showscale": false,
         "type": "heatmap",
         "x": [
          "H",
          "G",
          "F",
          "E",
          "D",
          "C",
          "B",
          "A"
         ],
         "xaxis": "x12",
         "xgap": 1,
         "y": [
          "8",
          "7",
          "6",
          "5",
          "4",
          "3",
          "2",
          "1"
         ],
         "yaxis": "y12",
         "ygap": 1,
         "z": [
          [
           0,
           0,
           0,
           0,
           0,
           0,
           0,
           0
          ],
          [
           0,
           0,
           0,
           0,
           0,
           0,
           0,
           0
          ],
          [
           0,
           0,
           0,
           0,
           0,
           0,
           0,
           0
          ],
          [
           0,
           0,
           0,
           0,
           0,
           0,
           0,
           0
          ],
          [
           0,
           0,
           0,
           0,
           0,
           0,
           0,
           0
          ],
          [
           0,
           0,
           0,
           0,
           0,
           0,
           0,
           0
          ],
          [
           0,
           0,
           0,
           0,
           0,
           0,
           0,
           0
          ],
          [
           0,
           0,
           0,
           0,
           0,
           0,
           0,
           0
          ]
         ],
         "zmax": 1,
         "zmin": 0
        },
        {
         "colorscale": [
          [
           0,
           "rgb(247,251,255)"
          ],
          [
           0.125,
           "rgb(222,235,247)"
          ],
          [
           0.25,
           "rgb(198,219,239)"
          ],
          [
           0.375,
           "rgb(158,202,225)"
          ],
          [
           0.5,
           "rgb(107,174,214)"
          ],
          [
           0.625,
           "rgb(66,146,198)"
          ],
          [
           0.75,
           "rgb(33,113,181)"
          ],
          [
           0.875,
           "rgb(8,81,156)"
          ],
          [
           1,
           "rgb(8,48,107)"
          ]
         ],
         "showscale": false,
         "type": "heatmap",
         "x": [
          "H",
          "G",
          "F",
          "E",
          "D",
          "C",
          "B",
          "A"
         ],
         "xaxis": "x13",
         "xgap": 1,
         "y": [
          "8",
          "7",
          "6",
          "5",
          "4",
          "3",
          "2",
          "1"
         ],
         "yaxis": "y13",
         "ygap": 1,
         "z": [
          [
           0.0011333972215139816,
           0.0024453092836509076,
           0.007887144981955476,
           0.009630244924654887,
           0.08706516632652007,
           0.0066123120194768485,
           0.003383754537889297,
           0.0023348365021947388
          ],
          [
           0.003139108931896397,
           0.011176099347522523,
           0.01811524260625551,
           0.03627024012348487,
           0.03199391138248085,
           0.020363688628834007,
           0.006631807216204408,
           0.0020122101092916018
          ],
          [
           0.006126461136325324,
           0.018315163937402835,
           0.04087378236250439,
           0.02515033281358884,
           0.02796184598871037,
           0.017395449362373278,
           0.018237947668011324,
           0.003612727534748277
          ],
          [
           0.008056103353594322,
           0.026986703893573046,
           0.01925322693288186,
           0.028076523616519543,
           0.03598354605396194,
           0.013875228447391065,
           0.011546125826586784,
           0.008045017849572768
          ],
          [
           0.00953659152861073,
           0.018468831958667126,
           0.019358348091706935,
           0.02393780802888653,
           0.0359564056820471,
           0.012801845851097216,
           0.009326349210960582,
           0.0050611059739781175
          ],
          [
           0.00610849497463522,
           0.01561374128497811,
           0.030904856177053082,
           0.019998249254882115,
           0.018144676530726534,
           0.01584653686943073,
           0.012119896224392008,
           0.0035286306076882175
          ],
          [
           0.003490022472992463,
           0.009941021296017743,
           0.014058330393126376,
           0.024351412006518275,
           0.022250900123813613,
           0.009656620779050997,
           0.006504897308095591,
           0.0025515772187540736
          ],
          [
           0.002204104006492283,
           0.003403249734616856,
           0.00762147514419756,
           0.010228097624300037,
           0.053935946428728426,
           0.006467435949677928,
           0.003444915939387522,
           0.0034869644029175517
          ]
         ]
        },
        {
         "colorscale": [
          [
           0,
           "rgb(247,251,255)"
          ],
          [
           0.125,
           "rgb(222,235,247)"
          ],
          [
           0.25,
           "rgb(198,219,239)"
          ],
          [
           0.375,
           "rgb(158,202,225)"
          ],
          [
           0.5,
           "rgb(107,174,214)"
          ],
          [
           0.625,
           "rgb(66,146,198)"
          ],
          [
           0.75,
           "rgb(33,113,181)"
          ],
          [
           0.875,
           "rgb(8,81,156)"
          ],
          [
           1,
           "rgb(8,48,107)"
          ]
         ],
         "showscale": false,
         "type": "heatmap",
         "x": [
          "H",
          "G",
          "F",
          "E",
          "D",
          "C",
          "B",
          "A"
         ],
         "xaxis": "x14",
         "xgap": 1,
         "y": [
          "8",
          "7",
          "6",
          "5",
          "4",
          "3",
          "2",
          "1"
         ],
         "yaxis": "y14",
         "ygap": 1,
         "z": [
          [
           1.465e-320,
           0.0008707850671621133,
           1.0194e-319,
           0.003774965867665067,
           1.12531e-318,
           0.020784988966615216,
           4.3735e-320,
           0.001959266401114755
          ],
          [
           0.0021356754448932868,
           1.4445e-319,
           0.006911230906614245,
           4.6879e-319,
           0.06266806167435328,
           2.632e-319,
           0.03594615770780844,
           2.601e-320
          ],
          [
           7.9184e-320,
           0.030197850249365443,
           5.2829e-319,
           0.09202202610791292,
           3.61404e-319,
           0.03279237687727842,
           2.35724e-319,
           0.017315611105637427
          ],
          [
           0.0072380880887925525,
           3.488e-319,
           0.06287700004535339,
           3.62886e-319,
           0.05934444022188755,
           1.79336e-319,
           0.0276640033280004,
           1.0398e-319
          ],
          [
           1.2326e-319,
           0.04250331939889557,
           2.50205e-319,
           0.0579685122368135,
           4.64733e-319,
           0.031054560126864375,
           1.2054e-319,
           0.00588968491905984
          ],
          [
           0.026928340081604822,
           2.01806e-319,
           0.17961756145775176,
           2.58475e-319,
           0.04820564790443885,
           2.04815e-319,
           0.013976037771553417,
           4.5607e-320
          ],
          [
           4.511e-320,
           0.02994793743734586,
           1.81703e-319,
           0.04348701876535564,
           2.8759e-319,
           0.008013787430230066,
           8.4075e-320,
           0.0035791643403505972
          ],
          [
           0.0031800545179012955,
           4.3987e-320,
           0.021636068768248876,
           1.32197e-319,
           0.013178756472632358,
           8.359e-320,
           0.006331020310498684,
           4.507e-320
          ]
         ]
        },
        {
         "colorscale": [
          [
           0,
           "rgb(247,251,255)"
          ],
          [
           0.125,
           "rgb(222,235,247)"
          ],
          [
           0.25,
           "rgb(198,219,239)"
          ],
          [
           0.375,
           "rgb(158,202,225)"
          ],
          [
           0.5,
           "rgb(107,174,214)"
          ],
          [
           0.625,
           "rgb(66,146,198)"
          ],
          [
           0.75,
           "rgb(33,113,181)"
          ],
          [
           0.875,
           "rgb(8,81,156)"
          ],
          [
           1,
           "rgb(8,48,107)"
          ]
         ],
         "showscale": false,
         "type": "heatmap",
         "x": [
          "H",
          "G",
          "F",
          "E",
          "D",
          "C",
          "B",
          "A"
         ],
         "xaxis": "x15",
         "xgap": 1,
         "y": [
          "8",
          "7",
          "6",
          "5",
          "4",
          "3",
          "2",
          "1"
         ],
         "yaxis": "y15",
         "ygap": 1,
         "z": [
          [
           0.00016600874274216995,
           0.0005237214944944284,
           0.0019153078249592268,
           0.0007708579880375543,
           0.0016228437268760649,
           0.0007702805663236685,
           0.007177063192743657,
           0.0002378977461209531
          ],
          [
           0.0009310925136408662,
           0.0007454514326265788,
           0.00244249384973697,
           0.010127976861557081,
           0.036349851732539414,
           0.0027932775409225986,
           0.0013589620036302504,
           0.0014149719098771737
          ],
          [
           0.0011343449569286709,
           0.009797691641214398,
           0.019311003088340037,
           0.009213340866761961,
           0.004367906554689199,
           0.19012620417689546,
           0.007046854596262407,
           0.00976102536238265
          ],
          [
           0.002435853500027283,
           0.004852652083496335,
           0.011626097498233812,
           0.14478300925058457,
           0.027565823910051555,
           0.021471137719986846,
           0.006022508475828982,
           0.008253088556569862
          ],
          [
           0.0032791779131575065,
           0.009438246624320483,
           0.014680369653832796,
           0.02603248054882779,
           0.12633005482907883,
           0.03632155806855901,
           0.017570942753545152,
           0.003129914400118025
          ],
          [
           0.001845151086722101,
           0.005333066949449327,
           0.053224423899138285,
           0.016252111559029968,
           0.03658341881580623,
           0.009473180638010574,
           0.018752925001869404,
           0.0018044428558931516
          ],
          [
           0.0009553442256240702,
           0.002587137989065365,
           0.004921653978305689,
           0.015491358450985414,
           0.008069468451554174,
           0.008645446611155268,
           0.0034483624753260484,
           0.001993548467190754
          ],
          [
           0.0007953984108777012,
           0.0011100932449454668,
           0.00473283707786503,
           0.004690396581894423,
           0.0031475257623915422,
           0.005396294627119823,
           0.001100565786666351,
           0.0057465008965915665
          ]
         ]
        },
        {
         "colorscale": [
          [
           0,
           "rgb(247,251,255)"
          ],
          [
           0.125,
           "rgb(222,235,247)"
          ],
          [
           0.25,
           "rgb(198,219,239)"
          ],
          [
           0.375,
           "rgb(158,202,225)"
          ],
          [
           0.5,
           "rgb(107,174,214)"
          ],
          [
           0.625,
           "rgb(66,146,198)"
          ],
          [
           0.75,
           "rgb(33,113,181)"
          ],
          [
           0.875,
           "rgb(8,81,156)"
          ],
          [
           1,
           "rgb(8,48,107)"
          ]
         ],
         "showscale": false,
         "type": "heatmap",
         "x": [
          "H",
          "G",
          "F",
          "E",
          "D",
          "C",
          "B",
          "A"
         ],
         "xaxis": "x16",
         "xgap": 1,
         "y": [
          "8",
          "7",
          "6",
          "5",
          "4",
          "3",
          "2",
          "1"
         ],
         "yaxis": "y16",
         "ygap": 1,
         "z": [
          [
           0.005219461834662403,
           0.009565179048150374,
           0.026132297301312966,
           0.04808471153007397,
           0.08227434334952373,
           0.04770367643746088,
           0.02861549581053114,
           0.11959373511207225
          ],
          [
           0.0022042520640599074,
           0.005172970760469358,
           0.011204348880523692,
           0.014875226584075514,
           0.023017874619803664,
           0.01482969408873181,
           0.009686918562016696,
           0.00926178884233391
          ],
          [
           0.0019018204370927837,
           0.004422882810859932,
           0.007254045442388932,
           0.012441874175023078,
           0.017056952045175905,
           0.01163139575790516,
           0.00664534787305732,
           0.007555518490506714
          ],
          [
           0.0019468736430118163,
           0.00416502510038717,
           0.00626910567469093,
           0.011295893160635768,
           0.016361982379403592,
           0.009679729220646638,
           0.006523129069766327,
           0.00579844345966444
          ],
          [
           0.0022914827393499494,
           0.004343320766364619,
           0.0067805074908144185,
           0.011142999834165859,
           0.01610508324778017,
           0.011162171411152682,
           0.005859792506022272,
           0.006253768413101472
          ],
          [
           0.002955777881943346,
           0.00612388097901575,
           0.009465966137243568,
           0.011952519672434436,
           0.015102889060794029,
           0.014947599287200767,
           0.0074304239506676984,
           0.006143531845427244
          ],
          [
           0.003300386978281479,
           0.008784895864786701,
           0.014657629185275078,
           0.016007308205147376,
           0.02122005998786439,
           0.015373687585732897,
           0.010942656854653565,
           0.007438571870887097
          ],
          [
           0.0034547181730253994,
           0.005106349530440151,
           0.01881498565486752,
           0.029934979596649192,
           0.05503776321376979,
           0.031108759397667395,
           0.013268169143155125,
           0.0190953699682998
          ]
         ]
        }
       ],
       "layout": {
        "annotations": [
         {
          "font": {
           "size": 24
          },
          "showarrow": false,
          "text": "<i>All Games<i>",
          "x": 0.535,
          "xanchor": "center",
          "xref": "paper",
          "y": 1.15,
          "yanchor": "top",
          "yref": "paper"
         },
         {
          "font": {
           "color": "white",
           "family": "Droid Sans",
           "size": 14
          },
          "showarrow": false,
          "text": "<i>~4.7 million games analyzed<br>Source: https://database.lichess.org/standard/lichess_db_standard_rated_2016-01.pgn.bz2<i>",
          "x": -0.03,
          "xanchor": "left",
          "xref": "paper",
          "y": -0.14,
          "yanchor": "bottom",
          "yref": "paper"
         }
        ],
        "font": {
         "color": "white",
         "family": "Droid Sans"
        },
        "height": 800,
        "images": [
         {
          "sizex": 0.06,
          "sizey": 0.06,
          "source": "https://upload.wikimedia.org/wikipedia/commons/c/cd/Chess_pdt60.png",
          "x": 0.0516,
          "xanchor": "center",
          "xref": "paper",
          "y": 1.03,
          "yanchor": "middle",
          "yref": "paper"
         },
         {
          "sizex": 0.06,
          "sizey": 0.06,
          "source": "https://upload.wikimedia.org/wikipedia/commons/c/cd/Chess_pdt60.png",
          "x": 0.1796,
          "xanchor": "center",
          "xref": "paper",
          "y": 1.03,
          "yanchor": "middle",
          "yref": "paper"
         },
         {
          "sizex": 0.06,
          "sizey": 0.06,
          "source": "https://upload.wikimedia.org/wikipedia/commons/c/cd/Chess_pdt60.png",
          "x": 0.3076,
          "xanchor": "center",
          "xref": "paper",
          "y": 1.03,
          "yanchor": "middle",
          "yref": "paper"
         },
         {
          "sizex": 0.06,
          "sizey": 0.06,
          "source": "https://upload.wikimedia.org/wikipedia/commons/c/cd/Chess_pdt60.png",
          "x": 0.4356,
          "xanchor": "center",
          "xref": "paper",
          "y": 1.03,
          "yanchor": "middle",
          "yref": "paper"
         },
         {
          "sizex": 0.06,
          "sizey": 0.06,
          "source": "https://upload.wikimedia.org/wikipedia/commons/c/cd/Chess_pdt60.png",
          "x": 0.5636,
          "xanchor": "center",
          "xref": "paper",
          "y": 1.03,
          "yanchor": "middle",
          "yref": "paper"
         },
         {
          "sizex": 0.06,
          "sizey": 0.06,
          "source": "https://upload.wikimedia.org/wikipedia/commons/c/cd/Chess_pdt60.png",
          "x": 0.6916,
          "xanchor": "center",
          "xref": "paper",
          "y": 1.03,
          "yanchor": "middle",
          "yref": "paper"
         },
         {
          "sizex": 0.06,
          "sizey": 0.06,
          "source": "https://upload.wikimedia.org/wikipedia/commons/c/cd/Chess_pdt60.png",
          "x": 0.8196,
          "xanchor": "center",
          "xref": "paper",
          "y": 1.03,
          "yanchor": "middle",
          "yref": "paper"
         },
         {
          "sizex": 0.06,
          "sizey": 0.06,
          "source": "https://upload.wikimedia.org/wikipedia/commons/c/cd/Chess_pdt60.png",
          "x": 0.9476,
          "xanchor": "center",
          "xref": "paper",
          "y": 1.03,
          "yanchor": "middle",
          "yref": "paper"
         },
         {
          "sizex": 0.06,
          "sizey": 0.06,
          "source": "https://upload.wikimedia.org/wikipedia/commons/a/a0/Chess_rdt60.png",
          "x": 0.0516,
          "xanchor": "center",
          "xref": "paper",
          "y": 0.457,
          "yanchor": "middle",
          "yref": "paper"
         },
         {
          "sizex": 0.06,
          "sizey": 0.06,
          "source": "https://upload.wikimedia.org/wikipedia/commons/f/f1/Chess_ndt60.png",
          "x": 0.1796,
          "xanchor": "center",
          "xref": "paper",
          "y": 0.457,
          "yanchor": "middle",
          "yref": "paper"
         },
         {
          "sizex": 0.06,
          "sizey": 0.06,
          "source": "https://upload.wikimedia.org/wikipedia/commons/8/81/Chess_bdt60.png",
          "x": 0.3076,
          "xanchor": "center",
          "xref": "paper",
          "y": 0.457,
          "yanchor": "middle",
          "yref": "paper"
         },
         {
          "sizex": 0.06,
          "sizey": 0.06,
          "source": "https://upload.wikimedia.org/wikipedia/commons/e/e3/Chess_kdt60.png",
          "x": 0.4356,
          "xanchor": "center",
          "xref": "paper",
          "y": 0.457,
          "yanchor": "middle",
          "yref": "paper"
         },
         {
          "sizex": 0.06,
          "sizey": 0.06,
          "source": "https://upload.wikimedia.org/wikipedia/commons/a/af/Chess_qdt60.png",
          "x": 0.5636,
          "xanchor": "center",
          "xref": "paper",
          "y": 0.457,
          "yanchor": "middle",
          "yref": "paper"
         },
         {
          "sizex": 0.06,
          "sizey": 0.06,
          "source": "https://upload.wikimedia.org/wikipedia/commons/8/81/Chess_bdt60.png",
          "x": 0.6916,
          "xanchor": "center",
          "xref": "paper",
          "y": 0.457,
          "yanchor": "middle",
          "yref": "paper"
         },
         {
          "sizex": 0.06,
          "sizey": 0.06,
          "source": "https://upload.wikimedia.org/wikipedia/commons/f/f1/Chess_ndt60.png",
          "x": 0.8196,
          "xanchor": "center",
          "xref": "paper",
          "y": 0.457,
          "yanchor": "middle",
          "yref": "paper"
         },
         {
          "sizex": 0.06,
          "sizey": 0.06,
          "source": "https://upload.wikimedia.org/wikipedia/commons/a/a0/Chess_rdt60.png",
          "x": 0.9476,
          "xanchor": "center",
          "xref": "paper",
          "y": 0.457,
          "yanchor": "middle",
          "yref": "paper"
         }
        ],
        "margin": {
         "t": 150
        },
        "paper_bgcolor": "#494952",
        "template": {
         "data": {
          "bar": [
           {
            "error_x": {
             "color": "#2a3f5f"
            },
            "error_y": {
             "color": "#2a3f5f"
            },
            "marker": {
             "line": {
              "color": "#E5ECF6",
              "width": 0.5
             }
            },
            "type": "bar"
           }
          ],
          "barpolar": [
           {
            "marker": {
             "line": {
              "color": "#E5ECF6",
              "width": 0.5
             }
            },
            "type": "barpolar"
           }
          ],
          "carpet": [
           {
            "aaxis": {
             "endlinecolor": "#2a3f5f",
             "gridcolor": "white",
             "linecolor": "white",
             "minorgridcolor": "white",
             "startlinecolor": "#2a3f5f"
            },
            "baxis": {
             "endlinecolor": "#2a3f5f",
             "gridcolor": "white",
             "linecolor": "white",
             "minorgridcolor": "white",
             "startlinecolor": "#2a3f5f"
            },
            "type": "carpet"
           }
          ],
          "choropleth": [
           {
            "colorbar": {
             "outlinewidth": 0,
             "ticks": ""
            },
            "type": "choropleth"
           }
          ],
          "contour": [
           {
            "colorbar": {
             "outlinewidth": 0,
             "ticks": ""
            },
            "colorscale": [
             [
              0,
              "#0d0887"
             ],
             [
              0.1111111111111111,
              "#46039f"
             ],
             [
              0.2222222222222222,
              "#7201a8"
             ],
             [
              0.3333333333333333,
              "#9c179e"
             ],
             [
              0.4444444444444444,
              "#bd3786"
             ],
             [
              0.5555555555555556,
              "#d8576b"
             ],
             [
              0.6666666666666666,
              "#ed7953"
             ],
             [
              0.7777777777777778,
              "#fb9f3a"
             ],
             [
              0.8888888888888888,
              "#fdca26"
             ],
             [
              1,
              "#f0f921"
             ]
            ],
            "type": "contour"
           }
          ],
          "contourcarpet": [
           {
            "colorbar": {
             "outlinewidth": 0,
             "ticks": ""
            },
            "type": "contourcarpet"
           }
          ],
          "heatmap": [
           {
            "colorbar": {
             "outlinewidth": 0,
             "ticks": ""
            },
            "colorscale": [
             [
              0,
              "#0d0887"
             ],
             [
              0.1111111111111111,
              "#46039f"
             ],
             [
              0.2222222222222222,
              "#7201a8"
             ],
             [
              0.3333333333333333,
              "#9c179e"
             ],
             [
              0.4444444444444444,
              "#bd3786"
             ],
             [
              0.5555555555555556,
              "#d8576b"
             ],
             [
              0.6666666666666666,
              "#ed7953"
             ],
             [
              0.7777777777777778,
              "#fb9f3a"
             ],
             [
              0.8888888888888888,
              "#fdca26"
             ],
             [
              1,
              "#f0f921"
             ]
            ],
            "type": "heatmap"
           }
          ],
          "heatmapgl": [
           {
            "colorbar": {
             "outlinewidth": 0,
             "ticks": ""
            },
            "colorscale": [
             [
              0,
              "#0d0887"
             ],
             [
              0.1111111111111111,
              "#46039f"
             ],
             [
              0.2222222222222222,
              "#7201a8"
             ],
             [
              0.3333333333333333,
              "#9c179e"
             ],
             [
              0.4444444444444444,
              "#bd3786"
             ],
             [
              0.5555555555555556,
              "#d8576b"
             ],
             [
              0.6666666666666666,
              "#ed7953"
             ],
             [
              0.7777777777777778,
              "#fb9f3a"
             ],
             [
              0.8888888888888888,
              "#fdca26"
             ],
             [
              1,
              "#f0f921"
             ]
            ],
            "type": "heatmapgl"
           }
          ],
          "histogram": [
           {
            "marker": {
             "colorbar": {
              "outlinewidth": 0,
              "ticks": ""
             }
            },
            "type": "histogram"
           }
          ],
          "histogram2d": [
           {
            "colorbar": {
             "outlinewidth": 0,
             "ticks": ""
            },
            "colorscale": [
             [
              0,
              "#0d0887"
             ],
             [
              0.1111111111111111,
              "#46039f"
             ],
             [
              0.2222222222222222,
              "#7201a8"
             ],
             [
              0.3333333333333333,
              "#9c179e"
             ],
             [
              0.4444444444444444,
              "#bd3786"
             ],
             [
              0.5555555555555556,
              "#d8576b"
             ],
             [
              0.6666666666666666,
              "#ed7953"
             ],
             [
              0.7777777777777778,
              "#fb9f3a"
             ],
             [
              0.8888888888888888,
              "#fdca26"
             ],
             [
              1,
              "#f0f921"
             ]
            ],
            "type": "histogram2d"
           }
          ],
          "histogram2dcontour": [
           {
            "colorbar": {
             "outlinewidth": 0,
             "ticks": ""
            },
            "colorscale": [
             [
              0,
              "#0d0887"
             ],
             [
              0.1111111111111111,
              "#46039f"
             ],
             [
              0.2222222222222222,
              "#7201a8"
             ],
             [
              0.3333333333333333,
              "#9c179e"
             ],
             [
              0.4444444444444444,
              "#bd3786"
             ],
             [
              0.5555555555555556,
              "#d8576b"
             ],
             [
              0.6666666666666666,
              "#ed7953"
             ],
             [
              0.7777777777777778,
              "#fb9f3a"
             ],
             [
              0.8888888888888888,
              "#fdca26"
             ],
             [
              1,
              "#f0f921"
             ]
            ],
            "type": "histogram2dcontour"
           }
          ],
          "mesh3d": [
           {
            "colorbar": {
             "outlinewidth": 0,
             "ticks": ""
            },
            "type": "mesh3d"
           }
          ],
          "parcoords": [
           {
            "line": {
             "colorbar": {
              "outlinewidth": 0,
              "ticks": ""
             }
            },
            "type": "parcoords"
           }
          ],
          "pie": [
           {
            "automargin": true,
            "type": "pie"
           }
          ],
          "scatter": [
           {
            "marker": {
             "colorbar": {
              "outlinewidth": 0,
              "ticks": ""
             }
            },
            "type": "scatter"
           }
          ],
          "scatter3d": [
           {
            "line": {
             "colorbar": {
              "outlinewidth": 0,
              "ticks": ""
             }
            },
            "marker": {
             "colorbar": {
              "outlinewidth": 0,
              "ticks": ""
             }
            },
            "type": "scatter3d"
           }
          ],
          "scattercarpet": [
           {
            "marker": {
             "colorbar": {
              "outlinewidth": 0,
              "ticks": ""
             }
            },
            "type": "scattercarpet"
           }
          ],
          "scattergeo": [
           {
            "marker": {
             "colorbar": {
              "outlinewidth": 0,
              "ticks": ""
             }
            },
            "type": "scattergeo"
           }
          ],
          "scattergl": [
           {
            "marker": {
             "colorbar": {
              "outlinewidth": 0,
              "ticks": ""
             }
            },
            "type": "scattergl"
           }
          ],
          "scattermapbox": [
           {
            "marker": {
             "colorbar": {
              "outlinewidth": 0,
              "ticks": ""
             }
            },
            "type": "scattermapbox"
           }
          ],
          "scatterpolar": [
           {
            "marker": {
             "colorbar": {
              "outlinewidth": 0,
              "ticks": ""
             }
            },
            "type": "scatterpolar"
           }
          ],
          "scatterpolargl": [
           {
            "marker": {
             "colorbar": {
              "outlinewidth": 0,
              "ticks": ""
             }
            },
            "type": "scatterpolargl"
           }
          ],
          "scatterternary": [
           {
            "marker": {
             "colorbar": {
              "outlinewidth": 0,
              "ticks": ""
             }
            },
            "type": "scatterternary"
           }
          ],
          "surface": [
           {
            "colorbar": {
             "outlinewidth": 0,
             "ticks": ""
            },
            "colorscale": [
             [
              0,
              "#0d0887"
             ],
             [
              0.1111111111111111,
              "#46039f"
             ],
             [
              0.2222222222222222,
              "#7201a8"
             ],
             [
              0.3333333333333333,
              "#9c179e"
             ],
             [
              0.4444444444444444,
              "#bd3786"
             ],
             [
              0.5555555555555556,
              "#d8576b"
             ],
             [
              0.6666666666666666,
              "#ed7953"
             ],
             [
              0.7777777777777778,
              "#fb9f3a"
             ],
             [
              0.8888888888888888,
              "#fdca26"
             ],
             [
              1,
              "#f0f921"
             ]
            ],
            "type": "surface"
           }
          ],
          "table": [
           {
            "cells": {
             "fill": {
              "color": "#EBF0F8"
             },
             "line": {
              "color": "white"
             }
            },
            "header": {
             "fill": {
              "color": "#C8D4E3"
             },
             "line": {
              "color": "white"
             }
            },
            "type": "table"
           }
          ]
         },
         "layout": {
          "annotationdefaults": {
           "arrowcolor": "#2a3f5f",
           "arrowhead": 0,
           "arrowwidth": 1
          },
          "autotypenumbers": "strict",
          "coloraxis": {
           "colorbar": {
            "outlinewidth": 0,
            "ticks": ""
           }
          },
          "colorscale": {
           "diverging": [
            [
             0,
             "#8e0152"
            ],
            [
             0.1,
             "#c51b7d"
            ],
            [
             0.2,
             "#de77ae"
            ],
            [
             0.3,
             "#f1b6da"
            ],
            [
             0.4,
             "#fde0ef"
            ],
            [
             0.5,
             "#f7f7f7"
            ],
            [
             0.6,
             "#e6f5d0"
            ],
            [
             0.7,
             "#b8e186"
            ],
            [
             0.8,
             "#7fbc41"
            ],
            [
             0.9,
             "#4d9221"
            ],
            [
             1,
             "#276419"
            ]
           ],
           "sequential": [
            [
             0,
             "#0d0887"
            ],
            [
             0.1111111111111111,
             "#46039f"
            ],
            [
             0.2222222222222222,
             "#7201a8"
            ],
            [
             0.3333333333333333,
             "#9c179e"
            ],
            [
             0.4444444444444444,
             "#bd3786"
            ],
            [
             0.5555555555555556,
             "#d8576b"
            ],
            [
             0.6666666666666666,
             "#ed7953"
            ],
            [
             0.7777777777777778,
             "#fb9f3a"
            ],
            [
             0.8888888888888888,
             "#fdca26"
            ],
            [
             1,
             "#f0f921"
            ]
           ],
           "sequentialminus": [
            [
             0,
             "#0d0887"
            ],
            [
             0.1111111111111111,
             "#46039f"
            ],
            [
             0.2222222222222222,
             "#7201a8"
            ],
            [
             0.3333333333333333,
             "#9c179e"
            ],
            [
             0.4444444444444444,
             "#bd3786"
            ],
            [
             0.5555555555555556,
             "#d8576b"
            ],
            [
             0.6666666666666666,
             "#ed7953"
            ],
            [
             0.7777777777777778,
             "#fb9f3a"
            ],
            [
             0.8888888888888888,
             "#fdca26"
            ],
            [
             1,
             "#f0f921"
            ]
           ]
          },
          "colorway": [
           "#636efa",
           "#EF553B",
           "#00cc96",
           "#ab63fa",
           "#FFA15A",
           "#19d3f3",
           "#FF6692",
           "#B6E880",
           "#FF97FF",
           "#FECB52"
          ],
          "font": {
           "color": "#2a3f5f"
          },
          "geo": {
           "bgcolor": "white",
           "lakecolor": "white",
           "landcolor": "#E5ECF6",
           "showlakes": true,
           "showland": true,
           "subunitcolor": "white"
          },
          "hoverlabel": {
           "align": "left"
          },
          "hovermode": "closest",
          "mapbox": {
           "style": "light"
          },
          "paper_bgcolor": "white",
          "plot_bgcolor": "#E5ECF6",
          "polar": {
           "angularaxis": {
            "gridcolor": "white",
            "linecolor": "white",
            "ticks": ""
           },
           "bgcolor": "#E5ECF6",
           "radialaxis": {
            "gridcolor": "white",
            "linecolor": "white",
            "ticks": ""
           }
          },
          "scene": {
           "xaxis": {
            "backgroundcolor": "#E5ECF6",
            "gridcolor": "white",
            "gridwidth": 2,
            "linecolor": "white",
            "showbackground": true,
            "ticks": "",
            "zerolinecolor": "white"
           },
           "yaxis": {
            "backgroundcolor": "#E5ECF6",
            "gridcolor": "white",
            "gridwidth": 2,
            "linecolor": "white",
            "showbackground": true,
            "ticks": "",
            "zerolinecolor": "white"
           },
           "zaxis": {
            "backgroundcolor": "#E5ECF6",
            "gridcolor": "white",
            "gridwidth": 2,
            "linecolor": "white",
            "showbackground": true,
            "ticks": "",
            "zerolinecolor": "white"
           }
          },
          "shapedefaults": {
           "line": {
            "color": "#2a3f5f"
           }
          },
          "ternary": {
           "aaxis": {
            "gridcolor": "white",
            "linecolor": "white",
            "ticks": ""
           },
           "baxis": {
            "gridcolor": "white",
            "linecolor": "white",
            "ticks": ""
           },
           "bgcolor": "#E5ECF6",
           "caxis": {
            "gridcolor": "white",
            "linecolor": "white",
            "ticks": ""
           }
          },
          "title": {
           "x": 0.05
          },
          "xaxis": {
           "automargin": true,
           "gridcolor": "white",
           "linecolor": "white",
           "ticks": "",
           "title": {
            "standoff": 15
           },
           "zerolinecolor": "white",
           "zerolinewidth": 2
          },
          "yaxis": {
           "automargin": true,
           "gridcolor": "white",
           "linecolor": "white",
           "ticks": "",
           "title": {
            "standoff": 15
           },
           "zerolinecolor": "white",
           "zerolinewidth": 2
          }
         }
        },
        "title": {
         "font": {
          "color": "white",
          "family": "Droid Sans",
          "size": 36
         },
         "text": "Death of a Chess Piece",
         "x": 0.5,
         "y": 0.95
        },
        "width": 2400,
        "xaxis": {
         "anchor": "y",
         "domain": [
          0,
          0.103125
         ]
        },
        "xaxis10": {
         "anchor": "y10",
         "domain": [
          0.128125,
          0.23124999999999998
         ]
        },
        "xaxis11": {
         "anchor": "y11",
         "domain": [
          0.25625,
          0.359375
         ]
        },
        "xaxis12": {
         "anchor": "y12",
         "domain": [
          0.38437499999999997,
          0.48749999999999993
         ]
        },
        "xaxis13": {
         "anchor": "y13",
         "domain": [
          0.5125,
          0.615625
         ]
        },
        "xaxis14": {
         "anchor": "y14",
         "domain": [
          0.640625,
          0.74375
         ]
        },
        "xaxis15": {
         "anchor": "y15",
         "domain": [
          0.76875,
          0.8718750000000001
         ]
        },
        "xaxis16": {
         "anchor": "y16",
         "domain": [
          0.8968750000000001,
          1
         ]
        },
        "xaxis2": {
         "anchor": "y2",
         "domain": [
          0.128125,
          0.23124999999999998
         ]
        },
        "xaxis3": {
         "anchor": "y3",
         "domain": [
          0.25625,
          0.359375
         ]
        },
        "xaxis4": {
         "anchor": "y4",
         "domain": [
          0.38437499999999997,
          0.48749999999999993
         ]
        },
        "xaxis5": {
         "anchor": "y5",
         "domain": [
          0.5125,
          0.615625
         ]
        },
        "xaxis6": {
         "anchor": "y6",
         "domain": [
          0.640625,
          0.74375
         ]
        },
        "xaxis7": {
         "anchor": "y7",
         "domain": [
          0.76875,
          0.8718750000000001
         ]
        },
        "xaxis8": {
         "anchor": "y8",
         "domain": [
          0.8968750000000001,
          1
         ]
        },
        "xaxis9": {
         "anchor": "y9",
         "domain": [
          0,
          0.103125
         ]
        },
        "yaxis": {
         "anchor": "x",
         "domain": [
          0.575,
          1
         ]
        },
        "yaxis10": {
         "anchor": "x10",
         "domain": [
          0,
          0.425
         ]
        },
        "yaxis11": {
         "anchor": "x11",
         "domain": [
          0,
          0.425
         ]
        },
        "yaxis12": {
         "anchor": "x12",
         "domain": [
          0,
          0.425
         ]
        },
        "yaxis13": {
         "anchor": "x13",
         "domain": [
          0,
          0.425
         ]
        },
        "yaxis14": {
         "anchor": "x14",
         "domain": [
          0,
          0.425
         ]
        },
        "yaxis15": {
         "anchor": "x15",
         "domain": [
          0,
          0.425
         ]
        },
        "yaxis16": {
         "anchor": "x16",
         "domain": [
          0,
          0.425
         ]
        },
        "yaxis2": {
         "anchor": "x2",
         "domain": [
          0.575,
          1
         ]
        },
        "yaxis3": {
         "anchor": "x3",
         "domain": [
          0.575,
          1
         ]
        },
        "yaxis4": {
         "anchor": "x4",
         "domain": [
          0.575,
          1
         ]
        },
        "yaxis5": {
         "anchor": "x5",
         "domain": [
          0.575,
          1
         ]
        },
        "yaxis6": {
         "anchor": "x6",
         "domain": [
          0.575,
          1
         ]
        },
        "yaxis7": {
         "anchor": "x7",
         "domain": [
          0.575,
          1
         ]
        },
        "yaxis8": {
         "anchor": "x8",
         "domain": [
          0.575,
          1
         ]
        },
        "yaxis9": {
         "anchor": "x9",
         "domain": [
          0,
          0.425
         ]
        }
       }
      },
      "text/html": [
       "<div>                            <div id=\"d2e0f1e2-c855-411c-a005-3b3e7d2cdb8a\" class=\"plotly-graph-div\" style=\"height:800px; width:2400px;\"></div>            <script type=\"text/javascript\">                require([\"plotly\"], function(Plotly) {                    window.PLOTLYENV=window.PLOTLYENV || {};                                    if (document.getElementById(\"d2e0f1e2-c855-411c-a005-3b3e7d2cdb8a\")) {                    Plotly.newPlot(                        \"d2e0f1e2-c855-411c-a005-3b3e7d2cdb8a\",                        [{\"colorbar\": {\"tickfont\": {\"size\": 16}, \"ticklabelposition\": \"outside bottom\", \"ticks\": \"outside\", \"ticktext\": [\"<i>None<i>\", \"<i>Occaisonal<i>\", \"<i>Most<i>\"], \"tickvals\": [0, 0.11700503161273694, 0.23401006322547388], \"title\": {\"font\": {\"size\": 18}, \"side\": \"top\", \"text\": \"Relative Frequency of<br>  Capture on Square\"}}, \"colorscale\": [[0.0, \"rgb(247,251,255)\"], [0.125, \"rgb(222,235,247)\"], [0.25, \"rgb(198,219,239)\"], [0.375, \"rgb(158,202,225)\"], [0.5, \"rgb(107,174,214)\"], [0.625, \"rgb(66,146,198)\"], [0.75, \"rgb(33,113,181)\"], [0.875, \"rgb(8,81,156)\"], [1.0, \"rgb(8,48,107)\"]], \"showscale\": true, \"type\": \"heatmap\", \"x\": [\"H\", \"G\", \"F\", \"E\", \"D\", \"C\", \"B\", \"A\"], \"xaxis\": \"x\", \"xgap\": 1, \"y\": [\"8\", \"7\", \"6\", \"5\", \"4\", \"3\", \"2\", \"1\"], \"yaxis\": \"y\", \"ygap\": 1, \"z\": [[0.0, 0.0, 0.0, 0.0, 0.0, 0.0, 0.0, 0.0], [0.23401006322547388, 0.0, 0.0, 0.0, 1.09895e-319, 0.0, 0.0, 0.0], [0.19953243328907477, 0.039598048580441185, 0.0, 1.3933e-320, 7.7842e-319, 1.7554e-320, 0.0, 0.0], [0.14111114239774505, 0.10695841212150092, 0.0037016901280321262, 5.1245e-319, 4.795777e-318, 1.7591e-319, 2.337e-321, 0.0], [0.06278577632607796, 0.08508183500440059, 0.007081368592888452, 0.00016317182932226653, 2.64287e-318, 8.0654e-319, 1.363e-320, 7.4e-323], [0.0278814448360087, 0.052832294737419704, 0.00682000486627491, 0.00020360378703043877, 4.33199546873274e-06, 7.1114e-319, 4.6314e-320, 3.85e-322], [0.01177797368023953, 0.008016357614889934, 0.0024764574096255497, 0.0001436778497129692, 7.94199169267669e-06, 7.219992447887899e-07, 4.2287e-320, 2.925e-321], [0.0072510384154138175, 0.0019782779307212844, 0.0005176734585135624, 5.9925937317469564e-05, 3.6099962239439497e-06, 7.219992447887899e-07, 2.554e-321, 1.566e-321]]}, {\"colorscale\": [[0.0, \"rgb(247,251,255)\"], [0.125, \"rgb(222,235,247)\"], [0.25, \"rgb(198,219,239)\"], [0.375, \"rgb(158,202,225)\"], [0.5, \"rgb(107,174,214)\"], [0.625, \"rgb(66,146,198)\"], [0.75, \"rgb(33,113,181)\"], [0.875, \"rgb(8,81,156)\"], [1.0, \"rgb(8,48,107)\"]], \"showscale\": false, \"type\": \"heatmap\", \"x\": [\"H\", \"G\", \"F\", \"E\", \"D\", \"C\", \"B\", \"A\"], \"xaxis\": \"x2\", \"xgap\": 1, \"y\": [\"8\", \"7\", \"6\", \"5\", \"4\", \"3\", \"2\", \"1\"], \"yaxis\": \"y2\", \"ygap\": 1, \"z\": [[0.0, 0.0, 0.0, 0.0, 0.0, 0.0, 0.0, 0.0], [1.601336e-318, 0.19428247791945383, 0.0, 0.0, 0.0, 0.0, 0.0, 0.0], [0.02690872353778567, 0.21258552863200111, 0.054874251863644016, 0.0, 0.0, 0.0, 0.0, 0.0], [0.026966890661115277, 0.17832754213289656, 0.06262088812013042, 0.005599350977360743, 0.0, 0.0, 0.0, 0.0], [0.02090526412466133, 0.08347533254756694, 0.04771540969554103, 0.007307015261216306, 0.00022593335272237444, 0.0, 0.0, 0.0], [0.012024062820493196, 0.022265150239556705, 0.02138223453596412, 0.0025740482787123637, 0.00025409848612407965, 1.775627975324894e-05, 0.0, 0.0], [0.003130615806150408, 0.00621714705567206, 0.0035861562246475532, 0.0008682208513829999, 9.123054080117559e-05, 1.224571017465444e-05, 2.449142034930888e-06, 0.0], [0.0010084342328827932, 0.0031048998147836337, 0.0013225366988626798, 0.0002938970441917066, 4.5921413154954154e-05, 4.285998561129054e-06, 0.0, 0.0]]}, {\"colorscale\": [[0.0, \"rgb(247,251,255)\"], [0.125, \"rgb(222,235,247)\"], [0.25, \"rgb(198,219,239)\"], [0.375, \"rgb(158,202,225)\"], [0.5, \"rgb(107,174,214)\"], [0.625, \"rgb(66,146,198)\"], [0.75, \"rgb(33,113,181)\"], [0.875, \"rgb(8,81,156)\"], [1.0, \"rgb(8,48,107)\"]], \"showscale\": false, \"type\": \"heatmap\", \"x\": [\"H\", \"G\", \"F\", \"E\", \"D\", \"C\", \"B\", \"A\"], \"xaxis\": \"x3\", \"xgap\": 1, \"y\": [\"8\", \"7\", \"6\", \"5\", \"4\", \"3\", \"2\", \"1\"], \"yaxis\": \"y3\", \"ygap\": 1, \"z\": [[0.0, 0.0, 0.0, 0.0, 0.0, 0.0, 0.0, 0.0], [0.0, 1.567705e-318, 0.2669105703847681, 0.0, 0.0, 0.0, 0.0, 0.0], [2.1713e-319, 0.02600129961207104, 0.12469410726519381, 0.05751760745517745, 0.0, 0.0, 0.0, 0.0], [0.0012986585772251328, 0.024676419954909278, 0.18495443968174283, 0.0760444690445849, 0.004291198918356615, 0.0, 0.0, 0.0], [0.0010869829501003313, 0.026351231842498078, 0.05362020148277823, 0.07506952161785017, 0.004818480998536863, 0.0001868847879119868, 0.0, 0.0], [0.001226193047218444, 0.016155045722412206, 0.020724664835005048, 0.012814480138485441, 0.002962505285931342, 0.0004343164331321938, 9.534938158774837e-06, 0.0], [0.0006846085598000333, 0.0031055293583129645, 0.005124075766525597, 0.003161308746541797, 0.0008629119033691227, 0.00013682636257841892, 3.241878973983445e-05, 9.534938158774836e-07], [0.00016447768323886593, 0.0006626782020348512, 0.002636887147809181, 0.0012528908740630136, 0.00028557139785530635, 3.432577737158941e-05, 5.24421598732616e-06, 4.767469079387418e-07]]}, {\"colorscale\": [[0.0, \"rgb(247,251,255)\"], [0.125, \"rgb(222,235,247)\"], [0.25, \"rgb(198,219,239)\"], [0.375, \"rgb(158,202,225)\"], [0.5, \"rgb(107,174,214)\"], [0.625, \"rgb(66,146,198)\"], [0.75, \"rgb(33,113,181)\"], [0.875, \"rgb(8,81,156)\"], [1.0, \"rgb(8,48,107)\"]], \"showscale\": false, \"type\": \"heatmap\", \"x\": [\"H\", \"G\", \"F\", \"E\", \"D\", \"C\", \"B\", \"A\"], \"xaxis\": \"x4\", \"xgap\": 1, \"y\": [\"8\", \"7\", \"6\", \"5\", \"4\", \"3\", \"2\", \"1\"], \"yaxis\": \"y4\", \"ygap\": 1, \"z\": [[0.0, 0.0, 0.0, 0.0, 0.0, 0.0, 0.0, 0.0], [0.0, 0.0, 2.766066e-318, 0.018129084711842148, 0.0, 0.0, 0.0, 0.0], [0.0, 2.6946e-319, 0.003023043655007294, 0.12050027395695817, 0.0029591430245663936, 0.0, 0.0, 0.0], [1.346e-320, 0.0004510432797610388, 0.028830740825840872, 0.3108609318343424, 0.0954325324907514, 0.0001964604489087268, 0.0, 0.0], [1.3255981846782603e-05, 0.0018684136464554863, 0.06484758340051963, 0.08135128079976398, 0.17084071476254117, 0.007041305639434574, 7.817630319897432e-06, 0.0], [7.273795167208916e-05, 0.0033670193890827814, 0.020935953893655754, 0.016541425962962108, 0.01672429053305362, 0.013923539496707759, 0.00026409994602436107, 1.0196909112909695e-06], [0.00032018294614536444, 0.0014690347061998568, 0.0028371200121819072, 0.004750060161763766, 0.0036226219108463843, 0.0012749535360841422, 0.002825223618216846, 5.778248497315494e-06], [7.715661228768336e-05, 0.00013255981846782604, 0.0008086148926537388, 0.0019061422101732523, 0.001331376433175576, 0.0003188233582636431, 6.492032135219172e-05, 7.171826076079819e-05]]}, {\"colorscale\": [[0.0, \"rgb(247,251,255)\"], [0.125, \"rgb(222,235,247)\"], [0.25, \"rgb(198,219,239)\"], [0.375, \"rgb(158,202,225)\"], [0.5, \"rgb(107,174,214)\"], [0.625, \"rgb(66,146,198)\"], [0.75, \"rgb(33,113,181)\"], [0.875, \"rgb(8,81,156)\"], [1.0, \"rgb(8,48,107)\"]], \"showscale\": false, \"type\": \"heatmap\", \"x\": [\"H\", \"G\", \"F\", \"E\", \"D\", \"C\", \"B\", \"A\"], \"xaxis\": \"x5\", \"xgap\": 1, \"y\": [\"8\", \"7\", \"6\", \"5\", \"4\", \"3\", \"2\", \"1\"], \"yaxis\": \"y5\", \"ygap\": 1, \"z\": [[0.0, 0.0, 0.0, 0.0, 0.0, 0.0, 0.0, 0.0], [0.0, 0.0, 0.0, 2.6352e-319, 0.011278276822278877, 0.0, 0.0, 0.0], [0.0, 0.0, 4.394e-320, 0.002183226063762241, 0.10525984090010494, 0.00320005819427796, 0.0, 0.0], [0.0, 6.556e-321, 0.000148934709218306, 0.0940380024939509, 0.42293224536789537, 0.014694995825124941, 0.00038942507126133905, 0.0], [1.93e-322, 8.779309174973827e-06, 0.005224002505865676, 0.12056280388559683, 0.05213969009665706, 0.08870770763771679, 0.001230043924765083, 1.5677337812453262e-05], [1.057e-321, 0.0002599302609304751, 0.011832941034083473, 0.014364831090794675, 0.017023394037030497, 0.014547942396444129, 0.003119163131165701, 4.2328812093623805e-05], [1.379605727495887e-05, 0.000490073580017289, 0.001474923941395603, 0.002654800385160835, 0.004869067577791734, 0.002081323367981295, 0.0009064636723160476, 7.39970344747794e-05], [2.0066992399940176e-05, 6.929383313104342e-05, 0.00029347976384912504, 0.0008537878172662046, 0.0019098132923130564, 0.0008500252561912158, 0.0001652391405432574, 6.960737988729248e-05]]}, {\"colorscale\": [[0.0, \"rgb(247,251,255)\"], [0.125, \"rgb(222,235,247)\"], [0.25, \"rgb(198,219,239)\"], [0.375, \"rgb(158,202,225)\"], [0.5, \"rgb(107,174,214)\"], [0.625, \"rgb(66,146,198)\"], [0.75, \"rgb(33,113,181)\"], [0.875, \"rgb(8,81,156)\"], [1.0, \"rgb(8,48,107)\"]], \"showscale\": false, \"type\": \"heatmap\", \"x\": [\"H\", \"G\", \"F\", \"E\", \"D\", \"C\", \"B\", \"A\"], \"xaxis\": \"x6\", \"xgap\": 1, \"y\": [\"8\", \"7\", \"6\", \"5\", \"4\", \"3\", \"2\", \"1\"], \"yaxis\": \"y6\", \"ygap\": 1, \"z\": [[0.0, 0.0, 0.0, 0.0, 0.0, 0.0, 0.0, 0.0], [0.0, 0.0, 0.0, 0.0, 1.77715e-319, 0.11402187797606525, 0.0, 0.0], [0.0, 0.0, 0.0, 3.44e-320, 0.01799951282764946, 0.11195583485397761, 0.004922679725870975, 0.0], [0.0, 0.0, 2.347e-321, 0.0018591299843000795, 0.08054865952327367, 0.18814349117279988, 0.02147148439716668, 0.00026520396578367], [0.0, 1.4e-322, 0.00010152640902635402, 0.010576890041494577, 0.2877748692413198, 0.056662931163936586, 0.022389082398138707, 0.0005971914629801128], [0.0, 5.790479602263537e-06, 0.0008635535246842355, 0.004968617530715599, 0.016676195222545504, 0.025605500801209363, 0.011795206949810825, 0.0015931539545694412], [2.17e-322, 5.0184156552950656e-05, 0.0004219329470182697, 0.001093242548907356, 0.003681972963092641, 0.005318362498692317, 0.0026281056754806774, 0.0003493589360032334], [3.16e-322, 5.0184156552950654e-06, 8.72432260074373e-05, 0.00028103127669652366, 0.0013920312963841544, 0.002953144597154404, 0.0007373210693548904, 0.0002026667860792238]]}, {\"colorscale\": [[0.0, \"rgb(247,251,255)\"], [0.125, \"rgb(222,235,247)\"], [0.25, \"rgb(198,219,239)\"], [0.375, \"rgb(158,202,225)\"], [0.5, \"rgb(107,174,214)\"], [0.625, \"rgb(66,146,198)\"], [0.75, \"rgb(33,113,181)\"], [0.875, \"rgb(8,81,156)\"], [1.0, \"rgb(8,48,107)\"]], \"showscale\": false, \"type\": \"heatmap\", \"x\": [\"H\", \"G\", \"F\", \"E\", \"D\", \"C\", \"B\", \"A\"], \"xaxis\": \"x7\", \"xgap\": 1, \"y\": [\"8\", \"7\", \"6\", \"5\", \"4\", \"3\", \"2\", \"1\"], \"yaxis\": \"y7\", \"ygap\": 1, \"z\": [[0.0, 0.0, 0.0, 0.0, 0.0, 0.0, 0.0, 0.0], [0.0, 0.0, 0.0, 0.0, 0.0, 1.459317e-318, 0.23363228195424923, 0.0], [0.0, 0.0, 0.0, 0.0, 2.3037e-319, 0.06929423107498912, 0.10536399800641438, 0.0085921184845109], [0.0, 0.0, 0.0, 2.3794e-320, 0.011962584402173244, 0.06568982398737468, 0.20686823437586155, 0.011582496917811703], [0.0, 0.0, 1.3e-321, 0.0009250579901080893, 0.014047176886826543, 0.06815503929087453, 0.08365993198040034, 0.02221209845229447], [0.0, 7.4e-323, 8.351217966253585e-05, 0.0006129579853436125, 0.004320684628566197, 0.03264630289974631, 0.023245294008375845, 0.011343737737494452], [0.0, 5.353344850162554e-06, 6.584614165699942e-05, 0.0002355471734071524, 0.0015926200929233599, 0.004953985324340428, 0.007640293770151997, 0.0025348087865519693], [0.0, 5.353344850162554e-07, 1.9272041460585197e-05, 8.886552451269841e-05, 0.0006038572990983361, 0.0021509739607953144, 0.00448770898789127, 0.0013827689747969879]]}, {\"colorscale\": [[0.0, \"rgb(247,251,255)\"], [0.125, \"rgb(222,235,247)\"], [0.25, \"rgb(198,219,239)\"], [0.375, \"rgb(158,202,225)\"], [0.5, \"rgb(107,174,214)\"], [0.625, \"rgb(66,146,198)\"], [0.75, \"rgb(33,113,181)\"], [0.875, \"rgb(8,81,156)\"], [1.0, \"rgb(8,48,107)\"]], \"showscale\": false, \"type\": \"heatmap\", \"x\": [\"H\", \"G\", \"F\", \"E\", \"D\", \"C\", \"B\", \"A\"], \"xaxis\": \"x8\", \"xgap\": 1, \"y\": [\"8\", \"7\", \"6\", \"5\", \"4\", \"3\", \"2\", \"1\"], \"yaxis\": \"y8\", \"ygap\": 1, \"z\": [[0.0, 0.0, 0.0, 0.0, 0.0, 0.0, 0.0, 0.0], [0.0, 0.0, 0.0, 0.0, 0.0, 0.0, 2.156216e-318, 0.26606344980295504], [0.0, 0.0, 0.0, 0.0, 0.0, 6.39524e-319, 0.025478187391171272, 0.17622162764575544], [0.0, 0.0, 0.0, 0.0, 1.10404e-319, 0.002400272977964059, 0.09945096867636441, 0.13846748647924328], [0.0, 0.0, 0.0, 8.537e-321, 0.00016695004239652392, 0.006791498435209471, 0.09344442833522983, 0.06600531018292745], [0.0, 0.0, 7.7e-322, 7.322370280549295e-06, 0.00031925534423194927, 0.008284529735413472, 0.04374091110788927, 0.03079422821485006], [0.0, 5e-323, 6.1e-322, 1.0251318392769012e-05, 0.00017207570159290844, 0.0017412596527146224, 0.008182748788513838, 0.01630252519261495], [0.0, 5e-324, 1.8e-322, 2.928948112219718e-06, 7.322370280549295e-05, 0.0006355817403516788, 0.0034444429799703885, 0.011798535233049079]]}, {\"colorscale\": [[0.0, \"rgb(247,251,255)\"], [0.125, \"rgb(222,235,247)\"], [0.25, \"rgb(198,219,239)\"], [0.375, \"rgb(158,202,225)\"], [0.5, \"rgb(107,174,214)\"], [0.625, \"rgb(66,146,198)\"], [0.75, \"rgb(33,113,181)\"], [0.875, \"rgb(8,81,156)\"], [1.0, \"rgb(8,48,107)\"]], \"showscale\": false, \"type\": \"heatmap\", \"x\": [\"H\", \"G\", \"F\", \"E\", \"D\", \"C\", \"B\", \"A\"], \"xaxis\": \"x9\", \"xgap\": 1, \"y\": [\"8\", \"7\", \"6\", \"5\", \"4\", \"3\", \"2\", \"1\"], \"yaxis\": \"y9\", \"ygap\": 1, \"z\": [[0.0773366704024915, 0.021031041322176206, 0.09694534931506532, 0.07502289910817414, 0.051306974996536754, 0.023169218038891187, 0.010322088639586802, 0.007118298391247884], [0.007462074582754389, 0.01137287624381423, 0.04056327404661179, 0.02113250626279605, 0.015192869099570466, 0.008450315305777802, 0.004638198723950961, 0.002999933746636947], [0.007005250694849519, 0.009782332220307721, 0.01984913692253592, 0.017501543981345277, 0.011657348725734706, 0.006099942503200315, 0.003095838964483101, 0.0018198825879212244], [0.005950756608772965, 0.008143140622531426, 0.014394585571314795, 0.0174598460605426, 0.010941071108390965, 0.005323897866039406, 0.003154216053606847, 0.001671623313956155], [0.006580395212893368, 0.006660084572649593, 0.013495763722901564, 0.016232537258250513, 0.010898446567126008, 0.005810836918968431, 0.003165798809385368, 0.0019542425549520684], [0.006222719714452638, 0.009291223375298429, 0.01865935624896624, 0.015875325070040924, 0.010307726022421436, 0.007322154892949855, 0.004093809202360473, 0.0021669019510457146], [0.006621166513233761, 0.011762983458434817, 0.018739972229184745, 0.019530842793742162, 0.014983452875094805, 0.00863054298569159, 0.00550227230502863, 0.003328884010746944], [0.009293076616222994, 0.007947623704989991, 0.035241692731728086, 0.045325176602277355, 0.03443275306815618, 0.013328972039690861, 0.005254864641599421, 0.0034233992978996756]]}, {\"colorscale\": [[0.0, \"rgb(247,251,255)\"], [0.125, \"rgb(222,235,247)\"], [0.25, \"rgb(198,219,239)\"], [0.375, \"rgb(158,202,225)\"], [0.5, \"rgb(107,174,214)\"], [0.625, \"rgb(66,146,198)\"], [0.75, \"rgb(33,113,181)\"], [0.875, \"rgb(8,81,156)\"], [1.0, \"rgb(8,48,107)\"]], \"showscale\": false, \"type\": \"heatmap\", \"x\": [\"H\", \"G\", \"F\", \"E\", \"D\", \"C\", \"B\", \"A\"], \"xaxis\": \"x10\", \"xgap\": 1, \"y\": [\"8\", \"7\", \"6\", \"5\", \"4\", \"3\", \"2\", \"1\"], \"yaxis\": \"y10\", \"ygap\": 1, \"z\": [[0.00016488354367377275, 0.007638767217915224, 0.0012303492852814514, 0.002088524886534455, 0.00046089274813717864, 0.0009591702591377847, 0.00046563559118701644, 0.00021817078029253857], [0.0035130517460916183, 0.0018245996203493633, 0.0035018921153861177, 0.02179643271244868, 0.011839531206233324, 0.0019135976752257314, 0.0005836486858976863, 0.00044471128361420263], [0.016326260731379875, 0.01058016688111757, 0.20398354177663552, 0.0048151016586559115, 0.00809435914146729, 0.007057071467391001, 0.0048254243170585, 0.0007250970050899075], [0.017347366940933192, 0.01316362138944098, 0.023627170129686067, 0.03259058551234423, 0.12003521979450656, 0.009878226109741576, 0.0027355044766858576, 0.0007432314049863462], [0.005483842528683041, 0.03395987219990916, 0.030830153768551492, 0.13902974822757166, 0.014854026450556699, 0.010555615693565468, 0.004342770289045595, 0.0016563681874639405], [0.0033400774701563577, 0.021726685020539302, 0.01604726996374236, 0.03693419277369273, 0.01362200322066942, 0.047021103977627175, 0.0030627606471246654, 0.0007195171897371572], [0.0025879183606056107, 0.00353871889671427, 0.015300969660312, 0.009334194112848417, 0.019335734141885778, 0.002246991642552565, 0.0016499513998082776, 0.0007387675527041459], [0.002797719417869024, 0.0007820111216879611, 0.00941035859241346, 0.002640368624921464, 0.005840950711259063, 0.002750290987370646, 0.0013916059489759364, 0.0012956331249086306]]}, {\"colorscale\": [[0.0, \"rgb(247,251,255)\"], [0.125, \"rgb(222,235,247)\"], [0.25, \"rgb(198,219,239)\"], [0.375, \"rgb(158,202,225)\"], [0.5, \"rgb(107,174,214)\"], [0.625, \"rgb(66,146,198)\"], [0.75, \"rgb(33,113,181)\"], [0.875, \"rgb(8,81,156)\"], [1.0, \"rgb(8,48,107)\"]], \"showscale\": false, \"type\": \"heatmap\", \"x\": [\"H\", \"G\", \"F\", \"E\", \"D\", \"C\", \"B\", \"A\"], \"xaxis\": \"x11\", \"xgap\": 1, \"y\": [\"8\", \"7\", \"6\", \"5\", \"4\", \"3\", \"2\", \"1\"], \"yaxis\": \"y11\", \"ygap\": 1, \"z\": [[0.0012400590884723184, 1.35275e-319, 0.019202193288203585, 3.6986e-320, 0.004610748135698786, 1.6986e-320, 0.0017330871105624701, 3.864e-321], [6.2213e-320, 0.057827818388447416, 6.2015e-320, 0.08622467224558038, 2.09667e-319, 0.0071432895453719955, 1.0336e-320, 0.0030230730873477153], [0.015804668538508922, 1.87365e-319, 0.05209309117960387, 8.527e-320, 0.0843052954330003, 1.24974e-319, 0.017282504432571552, 1.284e-320], [3.07205e-319, 0.0429499177142472, 4.18414e-319, 0.0754248622173904, 2.12571e-318, 0.057991328947672255, 4.8443e-320, 0.004344887455432451], [0.011566811849897307, 6.01396e-319, 0.03513667173632612, 2.46208e-318, 0.058687496996585625, 1.8693e-319, 0.027769647322701818, 2.9333e-320], [5.915e-320, 0.025015867389191954, 2.8418e-319, 0.044584087177339686, 2.41232e-319, 0.13373260281974583, 5.424e-320, 0.015024560908619441], [0.008478209721638876, 6.2667e-320, 0.024382419993721694, 1.653e-319, 0.041433700524794004, 3.979e-320, 0.013254028631822276, 1.3083e-320], [4.9545e-320, 0.003270835270600614, 1.6665e-319, 0.006553840220227505, 1.0344e-319, 0.009328839081270364, 2.4644e-320, 0.010578883547405268]]}, {\"colorscale\": [[0.0, \"rgb(247,251,255)\"], [0.125, \"rgb(222,235,247)\"], [0.25, \"rgb(198,219,239)\"], [0.375, \"rgb(158,202,225)\"], [0.5, \"rgb(107,174,214)\"], [0.625, \"rgb(66,146,198)\"], [0.75, \"rgb(33,113,181)\"], [0.875, \"rgb(8,81,156)\"], [1.0, \"rgb(8,48,107)\"]], \"showscale\": false, \"type\": \"heatmap\", \"x\": [\"H\", \"G\", \"F\", \"E\", \"D\", \"C\", \"B\", \"A\"], \"xaxis\": \"x12\", \"xgap\": 1, \"y\": [\"8\", \"7\", \"6\", \"5\", \"4\", \"3\", \"2\", \"1\"], \"yaxis\": \"y12\", \"ygap\": 1, \"z\": [[0.0, 0.0, 0.0, 0.0, 0.0, 0.0, 0.0, 0.0], [0.0, 0.0, 0.0, 0.0, 0.0, 0.0, 0.0, 0.0], [0.0, 0.0, 0.0, 0.0, 0.0, 0.0, 0.0, 0.0], [0.0, 0.0, 0.0, 0.0, 0.0, 0.0, 0.0, 0.0], [0.0, 0.0, 0.0, 0.0, 0.0, 0.0, 0.0, 0.0], [0.0, 0.0, 0.0, 0.0, 0.0, 0.0, 0.0, 0.0], [0.0, 0.0, 0.0, 0.0, 0.0, 0.0, 0.0, 0.0], [0.0, 0.0, 0.0, 0.0, 0.0, 0.0, 0.0, 0.0]], \"zmax\": 1, \"zmin\": 0}, {\"colorscale\": [[0.0, \"rgb(247,251,255)\"], [0.125, \"rgb(222,235,247)\"], [0.25, \"rgb(198,219,239)\"], [0.375, \"rgb(158,202,225)\"], [0.5, \"rgb(107,174,214)\"], [0.625, \"rgb(66,146,198)\"], [0.75, \"rgb(33,113,181)\"], [0.875, \"rgb(8,81,156)\"], [1.0, \"rgb(8,48,107)\"]], \"showscale\": false, \"type\": \"heatmap\", \"x\": [\"H\", \"G\", \"F\", \"E\", \"D\", \"C\", \"B\", \"A\"], \"xaxis\": \"x13\", \"xgap\": 1, \"y\": [\"8\", \"7\", \"6\", \"5\", \"4\", \"3\", \"2\", \"1\"], \"yaxis\": \"y13\", \"ygap\": 1, \"z\": [[0.0011333972215139816, 0.0024453092836509076, 0.007887144981955476, 0.009630244924654887, 0.08706516632652007, 0.0066123120194768485, 0.003383754537889297, 0.0023348365021947388], [0.003139108931896397, 0.011176099347522523, 0.01811524260625551, 0.03627024012348487, 0.03199391138248085, 0.020363688628834007, 0.006631807216204408, 0.0020122101092916018], [0.006126461136325324, 0.018315163937402835, 0.04087378236250439, 0.02515033281358884, 0.02796184598871037, 0.017395449362373278, 0.018237947668011324, 0.003612727534748277], [0.008056103353594322, 0.026986703893573046, 0.01925322693288186, 0.028076523616519543, 0.03598354605396194, 0.013875228447391065, 0.011546125826586784, 0.008045017849572768], [0.00953659152861073, 0.018468831958667126, 0.019358348091706935, 0.02393780802888653, 0.0359564056820471, 0.012801845851097216, 0.009326349210960582, 0.0050611059739781175], [0.00610849497463522, 0.01561374128497811, 0.030904856177053082, 0.019998249254882115, 0.018144676530726534, 0.01584653686943073, 0.012119896224392008, 0.0035286306076882175], [0.003490022472992463, 0.009941021296017743, 0.014058330393126376, 0.024351412006518275, 0.022250900123813613, 0.009656620779050997, 0.006504897308095591, 0.0025515772187540736], [0.002204104006492283, 0.003403249734616856, 0.00762147514419756, 0.010228097624300037, 0.053935946428728426, 0.006467435949677928, 0.003444915939387522, 0.0034869644029175517]]}, {\"colorscale\": [[0.0, \"rgb(247,251,255)\"], [0.125, \"rgb(222,235,247)\"], [0.25, \"rgb(198,219,239)\"], [0.375, \"rgb(158,202,225)\"], [0.5, \"rgb(107,174,214)\"], [0.625, \"rgb(66,146,198)\"], [0.75, \"rgb(33,113,181)\"], [0.875, \"rgb(8,81,156)\"], [1.0, \"rgb(8,48,107)\"]], \"showscale\": false, \"type\": \"heatmap\", \"x\": [\"H\", \"G\", \"F\", \"E\", \"D\", \"C\", \"B\", \"A\"], \"xaxis\": \"x14\", \"xgap\": 1, \"y\": [\"8\", \"7\", \"6\", \"5\", \"4\", \"3\", \"2\", \"1\"], \"yaxis\": \"y14\", \"ygap\": 1, \"z\": [[1.465e-320, 0.0008707850671621133, 1.0194e-319, 0.003774965867665067, 1.12531e-318, 0.020784988966615216, 4.3735e-320, 0.001959266401114755], [0.0021356754448932868, 1.4445e-319, 0.006911230906614245, 4.6879e-319, 0.06266806167435328, 2.632e-319, 0.03594615770780844, 2.601e-320], [7.9184e-320, 0.030197850249365443, 5.2829e-319, 0.09202202610791292, 3.61404e-319, 0.03279237687727842, 2.35724e-319, 0.017315611105637427], [0.0072380880887925525, 3.488e-319, 0.06287700004535339, 3.62886e-319, 0.05934444022188755, 1.79336e-319, 0.0276640033280004, 1.0398e-319], [1.2326e-319, 0.04250331939889557, 2.50205e-319, 0.0579685122368135, 4.64733e-319, 0.031054560126864375, 1.2054e-319, 0.00588968491905984], [0.026928340081604822, 2.01806e-319, 0.17961756145775176, 2.58475e-319, 0.04820564790443885, 2.04815e-319, 0.013976037771553417, 4.5607e-320], [4.511e-320, 0.02994793743734586, 1.81703e-319, 0.04348701876535564, 2.8759e-319, 0.008013787430230066, 8.4075e-320, 0.0035791643403505972], [0.0031800545179012955, 4.3987e-320, 0.021636068768248876, 1.32197e-319, 0.013178756472632358, 8.359e-320, 0.006331020310498684, 4.507e-320]]}, {\"colorscale\": [[0.0, \"rgb(247,251,255)\"], [0.125, \"rgb(222,235,247)\"], [0.25, \"rgb(198,219,239)\"], [0.375, \"rgb(158,202,225)\"], [0.5, \"rgb(107,174,214)\"], [0.625, \"rgb(66,146,198)\"], [0.75, \"rgb(33,113,181)\"], [0.875, \"rgb(8,81,156)\"], [1.0, \"rgb(8,48,107)\"]], \"showscale\": false, \"type\": \"heatmap\", \"x\": [\"H\", \"G\", \"F\", \"E\", \"D\", \"C\", \"B\", \"A\"], \"xaxis\": \"x15\", \"xgap\": 1, \"y\": [\"8\", \"7\", \"6\", \"5\", \"4\", \"3\", \"2\", \"1\"], \"yaxis\": \"y15\", \"ygap\": 1, \"z\": [[0.00016600874274216995, 0.0005237214944944284, 0.0019153078249592268, 0.0007708579880375543, 0.0016228437268760649, 0.0007702805663236685, 0.007177063192743657, 0.0002378977461209531], [0.0009310925136408662, 0.0007454514326265788, 0.00244249384973697, 0.010127976861557081, 0.036349851732539414, 0.0027932775409225986, 0.0013589620036302504, 0.0014149719098771737], [0.0011343449569286709, 0.009797691641214398, 0.019311003088340037, 0.009213340866761961, 0.004367906554689199, 0.19012620417689546, 0.007046854596262407, 0.00976102536238265], [0.002435853500027283, 0.004852652083496335, 0.011626097498233812, 0.14478300925058457, 0.027565823910051555, 0.021471137719986846, 0.006022508475828982, 0.008253088556569862], [0.0032791779131575065, 0.009438246624320483, 0.014680369653832796, 0.02603248054882779, 0.12633005482907883, 0.03632155806855901, 0.017570942753545152, 0.003129914400118025], [0.001845151086722101, 0.005333066949449327, 0.053224423899138285, 0.016252111559029968, 0.03658341881580623, 0.009473180638010574, 0.018752925001869404, 0.0018044428558931516], [0.0009553442256240702, 0.002587137989065365, 0.004921653978305689, 0.015491358450985414, 0.008069468451554174, 0.008645446611155268, 0.0034483624753260484, 0.001993548467190754], [0.0007953984108777012, 0.0011100932449454668, 0.00473283707786503, 0.004690396581894423, 0.0031475257623915422, 0.005396294627119823, 0.001100565786666351, 0.0057465008965915665]]}, {\"colorscale\": [[0.0, \"rgb(247,251,255)\"], [0.125, \"rgb(222,235,247)\"], [0.25, \"rgb(198,219,239)\"], [0.375, \"rgb(158,202,225)\"], [0.5, \"rgb(107,174,214)\"], [0.625, \"rgb(66,146,198)\"], [0.75, \"rgb(33,113,181)\"], [0.875, \"rgb(8,81,156)\"], [1.0, \"rgb(8,48,107)\"]], \"showscale\": false, \"type\": \"heatmap\", \"x\": [\"H\", \"G\", \"F\", \"E\", \"D\", \"C\", \"B\", \"A\"], \"xaxis\": \"x16\", \"xgap\": 1, \"y\": [\"8\", \"7\", \"6\", \"5\", \"4\", \"3\", \"2\", \"1\"], \"yaxis\": \"y16\", \"ygap\": 1, \"z\": [[0.005219461834662403, 0.009565179048150374, 0.026132297301312966, 0.04808471153007397, 0.08227434334952373, 0.04770367643746088, 0.02861549581053114, 0.11959373511207225], [0.0022042520640599074, 0.005172970760469358, 0.011204348880523692, 0.014875226584075514, 0.023017874619803664, 0.01482969408873181, 0.009686918562016696, 0.00926178884233391], [0.0019018204370927837, 0.004422882810859932, 0.007254045442388932, 0.012441874175023078, 0.017056952045175905, 0.01163139575790516, 0.00664534787305732, 0.007555518490506714], [0.0019468736430118163, 0.00416502510038717, 0.00626910567469093, 0.011295893160635768, 0.016361982379403592, 0.009679729220646638, 0.006523129069766327, 0.00579844345966444], [0.0022914827393499494, 0.004343320766364619, 0.0067805074908144185, 0.011142999834165859, 0.01610508324778017, 0.011162171411152682, 0.005859792506022272, 0.006253768413101472], [0.002955777881943346, 0.00612388097901575, 0.009465966137243568, 0.011952519672434436, 0.015102889060794029, 0.014947599287200767, 0.0074304239506676984, 0.006143531845427244], [0.003300386978281479, 0.008784895864786701, 0.014657629185275078, 0.016007308205147376, 0.02122005998786439, 0.015373687585732897, 0.010942656854653565, 0.007438571870887097], [0.0034547181730253994, 0.005106349530440151, 0.01881498565486752, 0.029934979596649192, 0.05503776321376979, 0.031108759397667395, 0.013268169143155125, 0.0190953699682998]]}],                        {\"annotations\": [{\"font\": {\"size\": 24}, \"showarrow\": false, \"text\": \"<i>All Games<i>\", \"x\": 0.535, \"xanchor\": \"center\", \"xref\": \"paper\", \"y\": 1.15, \"yanchor\": \"top\", \"yref\": \"paper\"}, {\"font\": {\"color\": \"white\", \"family\": \"Droid Sans\", \"size\": 14}, \"showarrow\": false, \"text\": \"<i>~4.7 million games analyzed<br>Source: https://database.lichess.org/standard/lichess_db_standard_rated_2016-01.pgn.bz2<i>\", \"x\": -0.03, \"xanchor\": \"left\", \"xref\": \"paper\", \"y\": -0.14, \"yanchor\": \"bottom\", \"yref\": \"paper\"}], \"font\": {\"color\": \"white\", \"family\": \"Droid Sans\"}, \"height\": 800, \"images\": [{\"sizex\": 0.06, \"sizey\": 0.06, \"source\": \"https://upload.wikimedia.org/wikipedia/commons/c/cd/Chess_pdt60.png\", \"x\": 0.0516, \"xanchor\": \"center\", \"xref\": \"paper\", \"y\": 1.03, \"yanchor\": \"middle\", \"yref\": \"paper\"}, {\"sizex\": 0.06, \"sizey\": 0.06, \"source\": \"https://upload.wikimedia.org/wikipedia/commons/c/cd/Chess_pdt60.png\", \"x\": 0.1796, \"xanchor\": \"center\", \"xref\": \"paper\", \"y\": 1.03, \"yanchor\": \"middle\", \"yref\": \"paper\"}, {\"sizex\": 0.06, \"sizey\": 0.06, \"source\": \"https://upload.wikimedia.org/wikipedia/commons/c/cd/Chess_pdt60.png\", \"x\": 0.3076, \"xanchor\": \"center\", \"xref\": \"paper\", \"y\": 1.03, \"yanchor\": \"middle\", \"yref\": \"paper\"}, {\"sizex\": 0.06, \"sizey\": 0.06, \"source\": \"https://upload.wikimedia.org/wikipedia/commons/c/cd/Chess_pdt60.png\", \"x\": 0.4356, \"xanchor\": \"center\", \"xref\": \"paper\", \"y\": 1.03, \"yanchor\": \"middle\", \"yref\": \"paper\"}, {\"sizex\": 0.06, \"sizey\": 0.06, \"source\": \"https://upload.wikimedia.org/wikipedia/commons/c/cd/Chess_pdt60.png\", \"x\": 0.5636, \"xanchor\": \"center\", \"xref\": \"paper\", \"y\": 1.03, \"yanchor\": \"middle\", \"yref\": \"paper\"}, {\"sizex\": 0.06, \"sizey\": 0.06, \"source\": \"https://upload.wikimedia.org/wikipedia/commons/c/cd/Chess_pdt60.png\", \"x\": 0.6916, \"xanchor\": \"center\", \"xref\": \"paper\", \"y\": 1.03, \"yanchor\": \"middle\", \"yref\": \"paper\"}, {\"sizex\": 0.06, \"sizey\": 0.06, \"source\": \"https://upload.wikimedia.org/wikipedia/commons/c/cd/Chess_pdt60.png\", \"x\": 0.8196, \"xanchor\": \"center\", \"xref\": \"paper\", \"y\": 1.03, \"yanchor\": \"middle\", \"yref\": \"paper\"}, {\"sizex\": 0.06, \"sizey\": 0.06, \"source\": \"https://upload.wikimedia.org/wikipedia/commons/c/cd/Chess_pdt60.png\", \"x\": 0.9476, \"xanchor\": \"center\", \"xref\": \"paper\", \"y\": 1.03, \"yanchor\": \"middle\", \"yref\": \"paper\"}, {\"sizex\": 0.06, \"sizey\": 0.06, \"source\": \"https://upload.wikimedia.org/wikipedia/commons/a/a0/Chess_rdt60.png\", \"x\": 0.0516, \"xanchor\": \"center\", \"xref\": \"paper\", \"y\": 0.457, \"yanchor\": \"middle\", \"yref\": \"paper\"}, {\"sizex\": 0.06, \"sizey\": 0.06, \"source\": \"https://upload.wikimedia.org/wikipedia/commons/f/f1/Chess_ndt60.png\", \"x\": 0.1796, \"xanchor\": \"center\", \"xref\": \"paper\", \"y\": 0.457, \"yanchor\": \"middle\", \"yref\": \"paper\"}, {\"sizex\": 0.06, \"sizey\": 0.06, \"source\": \"https://upload.wikimedia.org/wikipedia/commons/8/81/Chess_bdt60.png\", \"x\": 0.3076, \"xanchor\": \"center\", \"xref\": \"paper\", \"y\": 0.457, \"yanchor\": \"middle\", \"yref\": \"paper\"}, {\"sizex\": 0.06, \"sizey\": 0.06, \"source\": \"https://upload.wikimedia.org/wikipedia/commons/e/e3/Chess_kdt60.png\", \"x\": 0.4356, \"xanchor\": \"center\", \"xref\": \"paper\", \"y\": 0.457, \"yanchor\": \"middle\", \"yref\": \"paper\"}, {\"sizex\": 0.06, \"sizey\": 0.06, \"source\": \"https://upload.wikimedia.org/wikipedia/commons/a/af/Chess_qdt60.png\", \"x\": 0.5636, \"xanchor\": \"center\", \"xref\": \"paper\", \"y\": 0.457, \"yanchor\": \"middle\", \"yref\": \"paper\"}, {\"sizex\": 0.06, \"sizey\": 0.06, \"source\": \"https://upload.wikimedia.org/wikipedia/commons/8/81/Chess_bdt60.png\", \"x\": 0.6916, \"xanchor\": \"center\", \"xref\": \"paper\", \"y\": 0.457, \"yanchor\": \"middle\", \"yref\": \"paper\"}, {\"sizex\": 0.06, \"sizey\": 0.06, \"source\": \"https://upload.wikimedia.org/wikipedia/commons/f/f1/Chess_ndt60.png\", \"x\": 0.8196, \"xanchor\": \"center\", \"xref\": \"paper\", \"y\": 0.457, \"yanchor\": \"middle\", \"yref\": \"paper\"}, {\"sizex\": 0.06, \"sizey\": 0.06, \"source\": \"https://upload.wikimedia.org/wikipedia/commons/a/a0/Chess_rdt60.png\", \"x\": 0.9476, \"xanchor\": \"center\", \"xref\": \"paper\", \"y\": 0.457, \"yanchor\": \"middle\", \"yref\": \"paper\"}], \"margin\": {\"t\": 150}, \"paper_bgcolor\": \"#494952\", \"template\": {\"data\": {\"bar\": [{\"error_x\": {\"color\": \"#2a3f5f\"}, \"error_y\": {\"color\": \"#2a3f5f\"}, \"marker\": {\"line\": {\"color\": \"#E5ECF6\", \"width\": 0.5}}, \"type\": \"bar\"}], \"barpolar\": [{\"marker\": {\"line\": {\"color\": \"#E5ECF6\", \"width\": 0.5}}, \"type\": \"barpolar\"}], \"carpet\": [{\"aaxis\": {\"endlinecolor\": \"#2a3f5f\", \"gridcolor\": \"white\", \"linecolor\": \"white\", \"minorgridcolor\": \"white\", \"startlinecolor\": \"#2a3f5f\"}, \"baxis\": {\"endlinecolor\": \"#2a3f5f\", \"gridcolor\": \"white\", \"linecolor\": \"white\", \"minorgridcolor\": \"white\", \"startlinecolor\": \"#2a3f5f\"}, \"type\": \"carpet\"}], \"choropleth\": [{\"colorbar\": {\"outlinewidth\": 0, \"ticks\": \"\"}, \"type\": \"choropleth\"}], \"contour\": [{\"colorbar\": {\"outlinewidth\": 0, \"ticks\": \"\"}, \"colorscale\": [[0.0, \"#0d0887\"], [0.1111111111111111, \"#46039f\"], [0.2222222222222222, \"#7201a8\"], [0.3333333333333333, \"#9c179e\"], [0.4444444444444444, \"#bd3786\"], [0.5555555555555556, \"#d8576b\"], [0.6666666666666666, \"#ed7953\"], [0.7777777777777778, \"#fb9f3a\"], [0.8888888888888888, \"#fdca26\"], [1.0, \"#f0f921\"]], \"type\": \"contour\"}], \"contourcarpet\": [{\"colorbar\": {\"outlinewidth\": 0, \"ticks\": \"\"}, \"type\": \"contourcarpet\"}], \"heatmap\": [{\"colorbar\": {\"outlinewidth\": 0, \"ticks\": \"\"}, \"colorscale\": [[0.0, \"#0d0887\"], [0.1111111111111111, \"#46039f\"], [0.2222222222222222, \"#7201a8\"], [0.3333333333333333, \"#9c179e\"], [0.4444444444444444, \"#bd3786\"], [0.5555555555555556, \"#d8576b\"], [0.6666666666666666, \"#ed7953\"], [0.7777777777777778, \"#fb9f3a\"], [0.8888888888888888, \"#fdca26\"], [1.0, \"#f0f921\"]], \"type\": \"heatmap\"}], \"heatmapgl\": [{\"colorbar\": {\"outlinewidth\": 0, \"ticks\": \"\"}, \"colorscale\": [[0.0, \"#0d0887\"], [0.1111111111111111, \"#46039f\"], [0.2222222222222222, \"#7201a8\"], [0.3333333333333333, \"#9c179e\"], [0.4444444444444444, \"#bd3786\"], [0.5555555555555556, \"#d8576b\"], [0.6666666666666666, \"#ed7953\"], [0.7777777777777778, \"#fb9f3a\"], [0.8888888888888888, \"#fdca26\"], [1.0, \"#f0f921\"]], \"type\": \"heatmapgl\"}], \"histogram\": [{\"marker\": {\"colorbar\": {\"outlinewidth\": 0, \"ticks\": \"\"}}, \"type\": \"histogram\"}], \"histogram2d\": [{\"colorbar\": {\"outlinewidth\": 0, \"ticks\": \"\"}, \"colorscale\": [[0.0, \"#0d0887\"], [0.1111111111111111, \"#46039f\"], [0.2222222222222222, \"#7201a8\"], [0.3333333333333333, \"#9c179e\"], [0.4444444444444444, \"#bd3786\"], [0.5555555555555556, \"#d8576b\"], [0.6666666666666666, \"#ed7953\"], [0.7777777777777778, \"#fb9f3a\"], [0.8888888888888888, \"#fdca26\"], [1.0, \"#f0f921\"]], \"type\": \"histogram2d\"}], \"histogram2dcontour\": [{\"colorbar\": {\"outlinewidth\": 0, \"ticks\": \"\"}, \"colorscale\": [[0.0, \"#0d0887\"], [0.1111111111111111, \"#46039f\"], [0.2222222222222222, \"#7201a8\"], [0.3333333333333333, \"#9c179e\"], [0.4444444444444444, \"#bd3786\"], [0.5555555555555556, \"#d8576b\"], [0.6666666666666666, \"#ed7953\"], [0.7777777777777778, \"#fb9f3a\"], [0.8888888888888888, \"#fdca26\"], [1.0, \"#f0f921\"]], \"type\": \"histogram2dcontour\"}], \"mesh3d\": [{\"colorbar\": {\"outlinewidth\": 0, \"ticks\": \"\"}, \"type\": \"mesh3d\"}], \"parcoords\": [{\"line\": {\"colorbar\": {\"outlinewidth\": 0, \"ticks\": \"\"}}, \"type\": \"parcoords\"}], \"pie\": [{\"automargin\": true, \"type\": \"pie\"}], \"scatter\": [{\"marker\": {\"colorbar\": {\"outlinewidth\": 0, \"ticks\": \"\"}}, \"type\": \"scatter\"}], \"scatter3d\": [{\"line\": {\"colorbar\": {\"outlinewidth\": 0, \"ticks\": \"\"}}, \"marker\": {\"colorbar\": {\"outlinewidth\": 0, \"ticks\": \"\"}}, \"type\": \"scatter3d\"}], \"scattercarpet\": [{\"marker\": {\"colorbar\": {\"outlinewidth\": 0, \"ticks\": \"\"}}, \"type\": \"scattercarpet\"}], \"scattergeo\": [{\"marker\": {\"colorbar\": {\"outlinewidth\": 0, \"ticks\": \"\"}}, \"type\": \"scattergeo\"}], \"scattergl\": [{\"marker\": {\"colorbar\": {\"outlinewidth\": 0, \"ticks\": \"\"}}, \"type\": \"scattergl\"}], \"scattermapbox\": [{\"marker\": {\"colorbar\": {\"outlinewidth\": 0, \"ticks\": \"\"}}, \"type\": \"scattermapbox\"}], \"scatterpolar\": [{\"marker\": {\"colorbar\": {\"outlinewidth\": 0, \"ticks\": \"\"}}, \"type\": \"scatterpolar\"}], \"scatterpolargl\": [{\"marker\": {\"colorbar\": {\"outlinewidth\": 0, \"ticks\": \"\"}}, \"type\": \"scatterpolargl\"}], \"scatterternary\": [{\"marker\": {\"colorbar\": {\"outlinewidth\": 0, \"ticks\": \"\"}}, \"type\": \"scatterternary\"}], \"surface\": [{\"colorbar\": {\"outlinewidth\": 0, \"ticks\": \"\"}, \"colorscale\": [[0.0, \"#0d0887\"], [0.1111111111111111, \"#46039f\"], [0.2222222222222222, \"#7201a8\"], [0.3333333333333333, \"#9c179e\"], [0.4444444444444444, \"#bd3786\"], [0.5555555555555556, \"#d8576b\"], [0.6666666666666666, \"#ed7953\"], [0.7777777777777778, \"#fb9f3a\"], [0.8888888888888888, \"#fdca26\"], [1.0, \"#f0f921\"]], \"type\": \"surface\"}], \"table\": [{\"cells\": {\"fill\": {\"color\": \"#EBF0F8\"}, \"line\": {\"color\": \"white\"}}, \"header\": {\"fill\": {\"color\": \"#C8D4E3\"}, \"line\": {\"color\": \"white\"}}, \"type\": \"table\"}]}, \"layout\": {\"annotationdefaults\": {\"arrowcolor\": \"#2a3f5f\", \"arrowhead\": 0, \"arrowwidth\": 1}, \"autotypenumbers\": \"strict\", \"coloraxis\": {\"colorbar\": {\"outlinewidth\": 0, \"ticks\": \"\"}}, \"colorscale\": {\"diverging\": [[0, \"#8e0152\"], [0.1, \"#c51b7d\"], [0.2, \"#de77ae\"], [0.3, \"#f1b6da\"], [0.4, \"#fde0ef\"], [0.5, \"#f7f7f7\"], [0.6, \"#e6f5d0\"], [0.7, \"#b8e186\"], [0.8, \"#7fbc41\"], [0.9, \"#4d9221\"], [1, \"#276419\"]], \"sequential\": [[0.0, \"#0d0887\"], [0.1111111111111111, \"#46039f\"], [0.2222222222222222, \"#7201a8\"], [0.3333333333333333, \"#9c179e\"], [0.4444444444444444, \"#bd3786\"], [0.5555555555555556, \"#d8576b\"], [0.6666666666666666, \"#ed7953\"], [0.7777777777777778, \"#fb9f3a\"], [0.8888888888888888, \"#fdca26\"], [1.0, \"#f0f921\"]], \"sequentialminus\": [[0.0, \"#0d0887\"], [0.1111111111111111, \"#46039f\"], [0.2222222222222222, \"#7201a8\"], [0.3333333333333333, \"#9c179e\"], [0.4444444444444444, \"#bd3786\"], [0.5555555555555556, \"#d8576b\"], [0.6666666666666666, \"#ed7953\"], [0.7777777777777778, \"#fb9f3a\"], [0.8888888888888888, \"#fdca26\"], [1.0, \"#f0f921\"]]}, \"colorway\": [\"#636efa\", \"#EF553B\", \"#00cc96\", \"#ab63fa\", \"#FFA15A\", \"#19d3f3\", \"#FF6692\", \"#B6E880\", \"#FF97FF\", \"#FECB52\"], \"font\": {\"color\": \"#2a3f5f\"}, \"geo\": {\"bgcolor\": \"white\", \"lakecolor\": \"white\", \"landcolor\": \"#E5ECF6\", \"showlakes\": true, \"showland\": true, \"subunitcolor\": \"white\"}, \"hoverlabel\": {\"align\": \"left\"}, \"hovermode\": \"closest\", \"mapbox\": {\"style\": \"light\"}, \"paper_bgcolor\": \"white\", \"plot_bgcolor\": \"#E5ECF6\", \"polar\": {\"angularaxis\": {\"gridcolor\": \"white\", \"linecolor\": \"white\", \"ticks\": \"\"}, \"bgcolor\": \"#E5ECF6\", \"radialaxis\": {\"gridcolor\": \"white\", \"linecolor\": \"white\", \"ticks\": \"\"}}, \"scene\": {\"xaxis\": {\"backgroundcolor\": \"#E5ECF6\", \"gridcolor\": \"white\", \"gridwidth\": 2, \"linecolor\": \"white\", \"showbackground\": true, \"ticks\": \"\", \"zerolinecolor\": \"white\"}, \"yaxis\": {\"backgroundcolor\": \"#E5ECF6\", \"gridcolor\": \"white\", \"gridwidth\": 2, \"linecolor\": \"white\", \"showbackground\": true, \"ticks\": \"\", \"zerolinecolor\": \"white\"}, \"zaxis\": {\"backgroundcolor\": \"#E5ECF6\", \"gridcolor\": \"white\", \"gridwidth\": 2, \"linecolor\": \"white\", \"showbackground\": true, \"ticks\": \"\", \"zerolinecolor\": \"white\"}}, \"shapedefaults\": {\"line\": {\"color\": \"#2a3f5f\"}}, \"ternary\": {\"aaxis\": {\"gridcolor\": \"white\", \"linecolor\": \"white\", \"ticks\": \"\"}, \"baxis\": {\"gridcolor\": \"white\", \"linecolor\": \"white\", \"ticks\": \"\"}, \"bgcolor\": \"#E5ECF6\", \"caxis\": {\"gridcolor\": \"white\", \"linecolor\": \"white\", \"ticks\": \"\"}}, \"title\": {\"x\": 0.05}, \"xaxis\": {\"automargin\": true, \"gridcolor\": \"white\", \"linecolor\": \"white\", \"ticks\": \"\", \"title\": {\"standoff\": 15}, \"zerolinecolor\": \"white\", \"zerolinewidth\": 2}, \"yaxis\": {\"automargin\": true, \"gridcolor\": \"white\", \"linecolor\": \"white\", \"ticks\": \"\", \"title\": {\"standoff\": 15}, \"zerolinecolor\": \"white\", \"zerolinewidth\": 2}}}, \"title\": {\"font\": {\"color\": \"white\", \"family\": \"Droid Sans\", \"size\": 36}, \"text\": \"Death of a Chess Piece\", \"x\": 0.5, \"y\": 0.95}, \"width\": 2400, \"xaxis\": {\"anchor\": \"y\", \"domain\": [0.0, 0.103125]}, \"xaxis10\": {\"anchor\": \"y10\", \"domain\": [0.128125, 0.23124999999999998]}, \"xaxis11\": {\"anchor\": \"y11\", \"domain\": [0.25625, 0.359375]}, \"xaxis12\": {\"anchor\": \"y12\", \"domain\": [0.38437499999999997, 0.48749999999999993]}, \"xaxis13\": {\"anchor\": \"y13\", \"domain\": [0.5125, 0.615625]}, \"xaxis14\": {\"anchor\": \"y14\", \"domain\": [0.640625, 0.74375]}, \"xaxis15\": {\"anchor\": \"y15\", \"domain\": [0.76875, 0.8718750000000001]}, \"xaxis16\": {\"anchor\": \"y16\", \"domain\": [0.8968750000000001, 1.0]}, \"xaxis2\": {\"anchor\": \"y2\", \"domain\": [0.128125, 0.23124999999999998]}, \"xaxis3\": {\"anchor\": \"y3\", \"domain\": [0.25625, 0.359375]}, \"xaxis4\": {\"anchor\": \"y4\", \"domain\": [0.38437499999999997, 0.48749999999999993]}, \"xaxis5\": {\"anchor\": \"y5\", \"domain\": [0.5125, 0.615625]}, \"xaxis6\": {\"anchor\": \"y6\", \"domain\": [0.640625, 0.74375]}, \"xaxis7\": {\"anchor\": \"y7\", \"domain\": [0.76875, 0.8718750000000001]}, \"xaxis8\": {\"anchor\": \"y8\", \"domain\": [0.8968750000000001, 1.0]}, \"xaxis9\": {\"anchor\": \"y9\", \"domain\": [0.0, 0.103125]}, \"yaxis\": {\"anchor\": \"x\", \"domain\": [0.575, 1.0]}, \"yaxis10\": {\"anchor\": \"x10\", \"domain\": [0.0, 0.425]}, \"yaxis11\": {\"anchor\": \"x11\", \"domain\": [0.0, 0.425]}, \"yaxis12\": {\"anchor\": \"x12\", \"domain\": [0.0, 0.425]}, \"yaxis13\": {\"anchor\": \"x13\", \"domain\": [0.0, 0.425]}, \"yaxis14\": {\"anchor\": \"x14\", \"domain\": [0.0, 0.425]}, \"yaxis15\": {\"anchor\": \"x15\", \"domain\": [0.0, 0.425]}, \"yaxis16\": {\"anchor\": \"x16\", \"domain\": [0.0, 0.425]}, \"yaxis2\": {\"anchor\": \"x2\", \"domain\": [0.575, 1.0]}, \"yaxis3\": {\"anchor\": \"x3\", \"domain\": [0.575, 1.0]}, \"yaxis4\": {\"anchor\": \"x4\", \"domain\": [0.575, 1.0]}, \"yaxis5\": {\"anchor\": \"x5\", \"domain\": [0.575, 1.0]}, \"yaxis6\": {\"anchor\": \"x6\", \"domain\": [0.575, 1.0]}, \"yaxis7\": {\"anchor\": \"x7\", \"domain\": [0.575, 1.0]}, \"yaxis8\": {\"anchor\": \"x8\", \"domain\": [0.575, 1.0]}, \"yaxis9\": {\"anchor\": \"x9\", \"domain\": [0.0, 0.425]}},                        {\"responsive\": true}                    ).then(function(){\n",
       "                            \n",
       "var gd = document.getElementById('d2e0f1e2-c855-411c-a005-3b3e7d2cdb8a');\n",
       "var x = new MutationObserver(function (mutations, observer) {{\n",
       "        var display = window.getComputedStyle(gd).display;\n",
       "        if (!display || display === 'none') {{\n",
       "            console.log([gd, 'removed!']);\n",
       "            Plotly.purge(gd);\n",
       "            observer.disconnect();\n",
       "        }}\n",
       "}});\n",
       "\n",
       "// Listen for the removal of the full notebook cells\n",
       "var notebookContainer = gd.closest('#notebook-container');\n",
       "if (notebookContainer) {{\n",
       "    x.observe(notebookContainer, {childList: true});\n",
       "}}\n",
       "\n",
       "// Listen for the clearing of the current output cell\n",
       "var outputEl = gd.closest('.output');\n",
       "if (outputEl) {{\n",
       "    x.observe(outputEl, {childList: true});\n",
       "}}\n",
       "\n",
       "                        })                };                });            </script>        </div>"
      ]
     },
     "metadata": {},
     "output_type": "display_data"
    }
   ],
   "source": [
    "b_death_oa = generate_death_heatmap(pd.read_json('query results\\death_dict.txt'), b_filter)\n",
    "b_death_twentyfive = generate_death_heatmap(pd.read_json('query results\\death_dict_elosum_0-2500.txt'), b_filter)\n",
    "b_death_three = generate_death_heatmap(pd.read_json('query results\\death_dict_elosum_2500-3000.txt'), b_filter)\n",
    "b_death_thirtyfive = generate_death_heatmap(pd.read_json('query results\\death_dict_elosum_3000-3500.txt'), b_filter)\n",
    "b_death_four = generate_death_heatmap(pd.read_json('query results\\death_dict_elosum_3500-4000.txt'), b_filter)\n",
    "b_death_max = generate_death_heatmap(pd.read_json('query results\\death_dict_elosum_4000-10000.txt'), b_filter)\n",
    "\n",
    "b_death_list = [b_death_oa, b_death_twentyfive, b_death_three, b_death_thirtyfive, b_death_four, b_death_max]\n",
    "subplot_titles=('All Games', 'Elo 0-1250', 'Elo 1250-1500', 'Elo 1500-1750', 'Elo 1750-2000', 'Elo 2000+')\n",
    "\n",
    "index = 0\n",
    "for figure in b_death_list:\n",
    "    add_piece_img(figure, 'black')\n",
    "    figure.update_layout(annotations = [dict(xref='paper',yref='paper',\n",
    "                                        xanchor='center', yanchor='top',\n",
    "                                        x=0.535, y=1.15,\n",
    "                                        showarrow=False,\n",
    "                                        text =F'<i>Averaged {subplot_titles[index]}<i>',\n",
    "                                        font=dict(size=24)\n",
    "                                           ), \n",
    "                                        dict(xref='paper', yref='paper',\n",
    "                                        x=-0.03, y=-0.14,\n",
    "                                        xanchor='left',  yanchor='bottom',\n",
    "                                        text = '<i>~4.7 million games analyzed<br>Source: https://database.lichess.org/standard/lichess_db_standard_rated_2016-01.pgn.bz2<i>',\n",
    "                                        showarrow=False,\n",
    "                                        font=dict(\n",
    "                                        family='Droid Sans', \n",
    "                                        size=14, \n",
    "                                        color='white')\n",
    "                                         )])\n",
    "    \n",
    "    max_val = figure.data[0]['z'].max()\n",
    "    figure.update_traces(showscale=True,\n",
    "                         row=1, col=1, \n",
    "                         colorbar=dict(\n",
    "                         title='Relative Frequency of<br>  Capture on Square',\n",
    "                         titlefont = dict(size=18),\n",
    "                         titleside='top',\n",
    "                         tickvals=[0, max_val/2, max_val],\n",
    "                         ticktext=['<i>None<i>', '<i>Occaisonal<i>', '<i>Most<i>'],\n",
    "                         ticks='outside',\n",
    "                         ticklabelposition='outside bottom',\n",
    "                         tickfont= dict(size=16)))\n",
    "    index+=1\n",
    "    \n",
    "    \n",
    "b_death_oa.update_layout(annotations = [dict(xref='paper',yref='paper',\n",
    "                                        x=0.535, y=1.15,\n",
    "                                        showarrow=False,\n",
    "                                        text =F'<i>All Games<i>',\n",
    "                                        font=dict(size=24)\n",
    "                                           ), \n",
    "                                        dict(xref='paper', yref='paper',\n",
    "                                        x=-0.03, y=-0.14,\n",
    "                                        xanchor='left',  yanchor='bottom',\n",
    "                                        text = '<i>~4.7 million games analyzed<br>Source: https://database.lichess.org/standard/lichess_db_standard_rated_2016-01.pgn.bz2<i>',\n",
    "                                        showarrow=False,\n",
    "                                        font=dict(\n",
    "                                        family='Droid Sans', \n",
    "                                        size=14, \n",
    "                                        color='white')\n",
    "                                         )])\n"
   ]
  },
  {
   "cell_type": "code",
   "execution_count": 14,
   "id": "8701699b",
   "metadata": {
    "scrolled": false
   },
   "outputs": [
    {
     "data": {
      "application/vnd.plotly.v1+json": {
       "config": {
        "plotlyServerURL": "https://plot.ly"
       },
       "data": [
        {
         "name": "r3",
         "type": "scatter",
         "x": [
          1,
          2,
          3,
          4,
          5,
          6,
          7,
          8,
          9,
          10,
          11,
          12,
          13,
          14,
          15,
          16,
          17,
          18,
          19,
          20,
          21,
          22,
          23,
          24,
          25,
          26,
          27,
          28,
          29,
          30,
          31,
          32,
          33,
          34,
          35,
          36,
          37,
          38,
          39,
          40,
          41,
          42,
          43,
          44,
          45,
          46,
          47,
          48,
          49,
          50,
          51,
          52,
          53,
          54,
          55,
          56,
          57,
          58,
          59,
          60,
          61,
          62,
          63,
          64
         ],
         "y": [
          0.09694534931506532,
          0.1742820197175568,
          0.24930491882573094,
          0.3006118938222677,
          0.3459370704245451,
          0.3865003444711569,
          0.42174203720288495,
          0.45617479027104113,
          0.4793440083099323,
          0.5004765145727283,
          0.5215075558949046,
          0.5413566928174405,
          0.5608875356111827,
          0.5796275078403674,
          0.5982868640893336,
          0.6157884080706789,
          0.6332482541312215,
          0.649480791389472,
          0.665356116459513,
          0.6805489855590835,
          0.6955324384341783,
          0.7099270240054931,
          0.7234227877283946,
          0.7367517597680855,
          0.7485147432265203,
          0.760172091952255,
          0.7715449681960692,
          0.7824860393044601,
          0.7933844858715862,
          0.803706574511173,
          0.8140143005335945,
          0.8237966327539021,
          0.8330897093701252,
          0.8423809327454236,
          0.8510114757311151,
          0.8594617910368929,
          0.8676049316594243,
          0.8755525553644143,
          0.8830146299471687,
          0.8903367848401186,
          0.8974550832313665,
          0.9044603339262159,
          0.9111204184988655,
          0.9177415850120992,
          0.9243219802249926,
          0.9305446999394452,
          0.9366446424426456,
          0.9425953990514185,
          0.948406235970387,
          0.9539085082754156,
          0.959232406141455,
          0.9644872707830544,
          0.9691254695070054,
          0.9732192787093659,
          0.9766426780072656,
          0.9799715620180125,
          0.9831373608273979,
          0.9862915768810048,
          0.9893874158454878,
          0.9923873495921248,
          0.9945542515431706,
          0.9965084940981226,
          0.9983283766860438,
          1
         ]
        },
        {
         "name": "n3",
         "type": "scatter",
         "x": [
          1,
          2,
          3,
          4,
          5,
          6,
          7,
          8,
          9,
          10,
          11,
          12,
          13,
          14,
          15,
          16,
          17,
          18,
          19,
          20,
          21,
          22,
          23,
          24,
          25,
          26,
          27,
          28,
          29,
          30,
          31,
          32,
          33,
          34,
          35,
          36,
          37,
          38,
          39,
          40,
          41,
          42,
          43,
          44,
          45,
          46,
          47,
          48,
          49,
          50,
          51,
          52,
          53,
          54,
          55,
          56,
          57,
          58,
          59,
          60,
          61,
          62,
          63,
          64
         ],
         "y": [
          0.20398354177663552,
          0.3430132900042072,
          0.46304850979871376,
          0.510069613776341,
          0.5470038065500337,
          0.5809636787499428,
          0.6135542642622871,
          0.6443844180308386,
          0.6680115881605246,
          0.6898080208729733,
          0.7115347058935126,
          0.7308704400353985,
          0.7482178069763317,
          0.7645440677077115,
          0.7805913376714539,
          0.795892307331766,
          0.8107463337823226,
          0.8243683370029921,
          0.837531958392433,
          0.8493714895986664,
          0.859951656479784,
          0.8705072721733494,
          0.880385498283091,
          0.8897958568755044,
          0.8991300509883529,
          0.9072244101298201,
          0.9148631773477354,
          0.9219202488151264,
          0.9277611995263855,
          0.9332450420550685,
          0.938070466372127,
          0.9428855680307829,
          0.9472283383198286,
          0.9507670572165429,
          0.9542801089626345,
          0.9577820010780206,
          0.961122078548177,
          0.9641848391953016,
          0.9669825586131706,
          0.9697328496005413,
          0.9724683540772272,
          0.9751087227021487,
          0.9776966410627542,
          0.9799436327053068,
          0.9820321575918413,
          0.983945755267067,
          0.9857703548874163,
          0.9874267230748802,
          0.9890766744746885,
          0.9904682804236644,
          0.9917639135485731,
          0.9929942628338545,
          0.9939534330929923,
          0.9947354442146803,
          0.9954786756196666,
          0.9962174431723708,
          0.9969425401774608,
          0.9976620573671979,
          0.9982457060530956,
          0.9987113416442827,
          0.9991722343924199,
          0.9996169456760341,
          0.9998351164563266,
          1.0000000000000004
         ]
        },
        {
         "name": "s3",
         "type": "scatter",
         "x": [
          1,
          2,
          3,
          4,
          5,
          6,
          7,
          8,
          9,
          10,
          11,
          12,
          13,
          14,
          15,
          16,
          17,
          18,
          19,
          20,
          21,
          22,
          23,
          24,
          25,
          26,
          27,
          28,
          29,
          30,
          31,
          32,
          33,
          34,
          35,
          36,
          37,
          38,
          39,
          40,
          41,
          42,
          43,
          44,
          45,
          46,
          47,
          48,
          49,
          50,
          51,
          52,
          53,
          54,
          55,
          56,
          57,
          58,
          59,
          60,
          61,
          62,
          63,
          64
         ],
         "y": [
          0.13373260281974583,
          0.2199572750653262,
          0.3042625704983265,
          0.3796874327157169,
          0.4383749297123025,
          0.49636625865997475,
          0.5541940770484222,
          0.606287168228026,
          0.6508712554053656,
          0.6938211731196128,
          0.7352548736444068,
          0.7703915453807328,
          0.7981611927034347,
          0.8231770600926266,
          0.8475594800863483,
          0.8667616733745519,
          0.8840441778071234,
          0.8998488463456323,
          0.9148734072542518,
          0.928127435886074,
          0.9396942477359713,
          0.9502731312833765,
          0.9596019703646469,
          0.9680801800862858,
          0.9752234696316578,
          0.9817773098518854,
          0.9863880579875842,
          0.9907329454430167,
          0.9940037807136173,
          0.997026853800965,
          0.9987599409115275,
          0.9999999999999999,
          0.9999999999999999,
          0.9999999999999999,
          0.9999999999999999,
          0.9999999999999999,
          0.9999999999999999,
          0.9999999999999999,
          0.9999999999999999,
          0.9999999999999999,
          0.9999999999999999,
          0.9999999999999999,
          0.9999999999999999,
          0.9999999999999999,
          0.9999999999999999,
          0.9999999999999999,
          0.9999999999999999,
          0.9999999999999999,
          0.9999999999999999,
          0.9999999999999999,
          0.9999999999999999,
          0.9999999999999999,
          0.9999999999999999,
          0.9999999999999999,
          0.9999999999999999,
          0.9999999999999999,
          0.9999999999999999,
          0.9999999999999999,
          0.9999999999999999,
          0.9999999999999999,
          0.9999999999999999,
          0.9999999999999999,
          0.9999999999999999,
          0.9999999999999999
         ]
        },
        {
         "name": "k2",
         "type": "scatter",
         "x": [
          1,
          2,
          3,
          4,
          5,
          6,
          7,
          8,
          9,
          10,
          11,
          12,
          13,
          14,
          15,
          16,
          17,
          18,
          19,
          20,
          21,
          22,
          23,
          24,
          25,
          26,
          27,
          28,
          29,
          30,
          31,
          32,
          33,
          34,
          35,
          36,
          37,
          38,
          39,
          40,
          41,
          42,
          43,
          44,
          45,
          46,
          47,
          48,
          49,
          50,
          51,
          52,
          53,
          54,
          55,
          56,
          57,
          58,
          59,
          60,
          61,
          62,
          63,
          64
         ],
         "y": [
          0,
          0,
          0,
          0,
          0,
          0,
          0,
          0,
          0,
          0,
          0,
          0,
          0,
          0,
          0,
          0,
          0,
          0,
          0,
          0,
          0,
          0,
          0,
          0,
          0,
          0,
          0,
          0,
          0,
          0,
          0,
          0,
          0,
          0,
          0,
          0,
          0,
          0,
          0,
          0,
          0,
          0,
          0,
          0,
          0,
          0,
          0,
          0,
          0,
          0,
          0,
          0,
          0,
          0,
          0,
          0,
          0,
          0,
          0,
          0,
          0,
          0,
          0,
          0
         ]
        },
        {
         "name": "q2",
         "type": "scatter",
         "x": [
          1,
          2,
          3,
          4,
          5,
          6,
          7,
          8,
          9,
          10,
          11,
          12,
          13,
          14,
          15,
          16,
          17,
          18,
          19,
          20,
          21,
          22,
          23,
          24,
          25,
          26,
          27,
          28,
          29,
          30,
          31,
          32,
          33,
          34,
          35,
          36,
          37,
          38,
          39,
          40,
          41,
          42,
          43,
          44,
          45,
          46,
          47,
          48,
          49,
          50,
          51,
          52,
          53,
          54,
          55,
          56,
          57,
          58,
          59,
          60,
          61,
          62,
          63,
          64
         ],
         "y": [
          0.08706516632652007,
          0.14100111275524851,
          0.1818748951177529,
          0.21814513524123777,
          0.2541286812951997,
          0.29008508697724683,
          0.3220789983597277,
          0.3529838545367808,
          0.3810603781533003,
          0.40902222414201067,
          0.4360089280355837,
          0.4611592608491726,
          0.48551067285569083,
          0.5094484808845774,
          0.531699381008391,
          0.552063069637225,
          0.5720613188921071,
          0.591419666983814,
          0.6106728939166959,
          0.629141725875363,
          0.6474568898127658,
          0.6656948374807772,
          0.6838395140115037,
          0.7019547566177592,
          0.7193502059801324,
          0.7351967428495632,
          0.7508104841345412,
          0.7648688145276676,
          0.7787440429750587,
          0.791545888826156,
          0.803665785050548,
          0.8152119108771347,
          0.8263880102246572,
          0.8366161078489572,
          0.8465571291449749,
          0.856213749924026,
          0.8658439948486809,
          0.8753805863772917,
          0.8847069355882522,
          0.8927630389418465,
          0.9008080567914193,
          0.9086952017733748,
          0.9163166769175723,
          0.9229484841337767,
          0.9295607961532536,
          0.9360656934613492,
          0.9425331294110271,
          0.9486595905473524,
          0.9547680855219876,
          0.9598291914959657,
          0.963441919030714,
          0.9669705496384022,
          0.9704605721113947,
          0.9739475365143122,
          0.9773924524536998,
          0.9807957021883166,
          0.9841794567262059,
          0.9873185656581023,
          0.9898701428768564,
          0.9923154521605073,
          0.9946502886627021,
          0.9968543926691944,
          0.998866602778486,
          1
         ]
        },
        {
         "name": "s4",
         "type": "scatter",
         "x": [
          1,
          2,
          3,
          4,
          5,
          6,
          7,
          8,
          9,
          10,
          11,
          12,
          13,
          14,
          15,
          16,
          17,
          18,
          19,
          20,
          21,
          22,
          23,
          24,
          25,
          26,
          27,
          28,
          29,
          30,
          31,
          32,
          33,
          34,
          35,
          36,
          37,
          38,
          39,
          40,
          41,
          42,
          43,
          44,
          45,
          46,
          47,
          48,
          49,
          50,
          51,
          52,
          53,
          54,
          55,
          56,
          57,
          58,
          59,
          60,
          61,
          62,
          63,
          64
         ],
         "y": [
          0.17961756145775176,
          0.2716395875656647,
          0.3345165876110181,
          0.3971846492853714,
          0.45652908950725896,
          0.5144976017440724,
          0.5627032496485113,
          0.6061902684138669,
          0.6486935878127624,
          0.6846397455205708,
          0.7174321223978493,
          0.7484866825247136,
          0.778684532774079,
          0.8086324702114248,
          0.8362964735394253,
          0.8632248136210301,
          0.884860882389279,
          0.9056458713558941,
          0.9229614824615315,
          0.936937520233085,
          0.9501162767057173,
          0.9581300641359474,
          0.9653681522247399,
          0.9722793831313542,
          0.9786104034418529,
          0.9845000883609127,
          0.9882750542285778,
          0.9918542185689283,
          0.9950342730868296,
          0.9971699485317228,
          0.9991292149328376,
          0.9999999999999997,
          0.9999999999999997,
          0.9999999999999997,
          0.9999999999999997,
          0.9999999999999997,
          0.9999999999999997,
          0.9999999999999997,
          0.9999999999999997,
          0.9999999999999997,
          0.9999999999999997,
          0.9999999999999997,
          0.9999999999999997,
          0.9999999999999997,
          0.9999999999999997,
          0.9999999999999997,
          0.9999999999999997,
          0.9999999999999997,
          0.9999999999999997,
          0.9999999999999997,
          0.9999999999999997,
          0.9999999999999997,
          0.9999999999999997,
          0.9999999999999997,
          0.9999999999999997,
          0.9999999999999997,
          0.9999999999999997,
          0.9999999999999997,
          0.9999999999999997,
          0.9999999999999997,
          0.9999999999999997,
          0.9999999999999997,
          0.9999999999999997,
          0.9999999999999997
         ]
        },
        {
         "name": "n4",
         "type": "scatter",
         "x": [
          1,
          2,
          3,
          4,
          5,
          6,
          7,
          8,
          9,
          10,
          11,
          12,
          13,
          14,
          15,
          16,
          17,
          18,
          19,
          20,
          21,
          22,
          23,
          24,
          25,
          26,
          27,
          28,
          29,
          30,
          31,
          32,
          33,
          34,
          35,
          36,
          37,
          38,
          39,
          40,
          41,
          42,
          43,
          44,
          45,
          46,
          47,
          48,
          49,
          50,
          51,
          52,
          53,
          54,
          55,
          56,
          57,
          58,
          59,
          60,
          61,
          62,
          63,
          64
         ],
         "y": [
          0.19012620417689546,
          0.33490921342748003,
          0.46123926825655887,
          0.5144636921556971,
          0.5510471109715033,
          0.5873969627040427,
          0.6237185207726017,
          0.6512843446826533,
          0.6773168252314811,
          0.698787962951468,
          0.7180989660398079,
          0.7368518910416774,
          0.7544228337952226,
          0.7706749453542525,
          0.7861663038052379,
          0.8008466734590707,
          0.8124727709573045,
          0.8226007478188616,
          0.832398439460076,
          0.8421594648224586,
          0.8516326454604692,
          0.8610708920847897,
          0.8702842329515517,
          0.878929679562707,
          0.8871827681192768,
          0.895252236570831,
          0.9024292997635747,
          0.9094761543598371,
          0.915498662835666,
          0.9212451637322576,
          0.9266414583593774,
          0.9319745253088267,
          0.9368961792871324,
          0.9417488313706288,
          0.9464816684484938,
          0.9511720650303882,
          0.9555399715850774,
          0.9589883340604035,
          0.962267511973561,
          0.9654150377359525,
          0.9685449521360705,
          0.9713382296769931,
          0.9739253676660585,
          0.9763678615157955,
          0.9788037150158228,
          0.9807972634830135,
          0.9827125713079727,
          0.9845577223946949,
          0.9863621652505881,
          0.9879850089774641,
          0.9893999808873413,
          0.9907589428909716,
          0.9918932878479002,
          0.9930033810928457,
          0.9941039468795121,
          0.9950592911051361,
          0.995990383618777,
          0.9967857820296547,
          0.9975566400176923,
          0.998326920584016,
          0.9990723720166426,
          0.999596093511137,
          0.9998339912572579,
          1
         ]
        },
        {
         "name": "r4",
         "type": "scatter",
         "x": [
          1,
          2,
          3,
          4,
          5,
          6,
          7,
          8,
          9,
          10,
          11,
          12,
          13,
          14,
          15,
          16,
          17,
          18,
          19,
          20,
          21,
          22,
          23,
          24,
          25,
          26,
          27,
          28,
          29,
          30,
          31,
          32,
          33,
          34,
          35,
          36,
          37,
          38,
          39,
          40,
          41,
          42,
          43,
          44,
          45,
          46,
          47,
          48,
          49,
          50,
          51,
          52,
          53,
          54,
          55,
          56,
          57,
          58,
          59,
          60,
          61,
          62,
          63,
          64
         ],
         "y": [
          0.11959373511207225,
          0.201868078461596,
          0.2569058416753658,
          0.3049905532054398,
          0.35269422964290065,
          0.38380298904056803,
          0.41373796863721723,
          0.44235346444774837,
          0.4684857617490613,
          0.49150363636886496,
          0.5127236963567293,
          0.5318190663250291,
          0.5506340519798966,
          0.5676910040250724,
          0.584052986404476,
          0.6001580696522562,
          0.6161653778574036,
          0.6315390654431364,
          0.6466419545039305,
          0.6615895537911313,
          0.6764647803752067,
          0.6912944744639385,
          0.7059521036492136,
          0.7192202727923687,
          0.7316621469673917,
          0.7436146666398262,
          0.7552460623977314,
          0.7665419555583671,
          0.7777463044388908,
          0.7889084758500435,
          0.8000514756842094,
          0.810994132538863,
          0.8206810511008796,
          0.8303607803215263,
          0.8399259593696766,
          0.8493919255069202,
          0.8586537143492541,
          0.8674386102140408,
          0.8749941287045475,
          0.8824327005754347,
          0.8898631245261024,
          0.8971171699684913,
          0.9038976774593057,
          0.9105430253323631,
          0.9170661544021295,
          0.9233352600768204,
          0.9295890284899219,
          0.9357325603353491,
          0.9418564413143649,
          0.9477162338203872,
          0.9535146772800516,
          0.958734139114714,
          0.9639071098751834,
          0.9690134594056236,
          0.9734363422164835,
          0.977779662982848,
          0.9819446880832352,
          0.9853994062562607,
          0.9886997932345422,
          0.9916555711164855,
          0.9939470538558355,
          0.9961513059198954,
          0.9980981795629073,
          1
         ]
        }
       ],
       "layout": {
        "template": {
         "data": {
          "bar": [
           {
            "error_x": {
             "color": "#2a3f5f"
            },
            "error_y": {
             "color": "#2a3f5f"
            },
            "marker": {
             "line": {
              "color": "#E5ECF6",
              "width": 0.5
             }
            },
            "type": "bar"
           }
          ],
          "barpolar": [
           {
            "marker": {
             "line": {
              "color": "#E5ECF6",
              "width": 0.5
             }
            },
            "type": "barpolar"
           }
          ],
          "carpet": [
           {
            "aaxis": {
             "endlinecolor": "#2a3f5f",
             "gridcolor": "white",
             "linecolor": "white",
             "minorgridcolor": "white",
             "startlinecolor": "#2a3f5f"
            },
            "baxis": {
             "endlinecolor": "#2a3f5f",
             "gridcolor": "white",
             "linecolor": "white",
             "minorgridcolor": "white",
             "startlinecolor": "#2a3f5f"
            },
            "type": "carpet"
           }
          ],
          "choropleth": [
           {
            "colorbar": {
             "outlinewidth": 0,
             "ticks": ""
            },
            "type": "choropleth"
           }
          ],
          "contour": [
           {
            "colorbar": {
             "outlinewidth": 0,
             "ticks": ""
            },
            "colorscale": [
             [
              0,
              "#0d0887"
             ],
             [
              0.1111111111111111,
              "#46039f"
             ],
             [
              0.2222222222222222,
              "#7201a8"
             ],
             [
              0.3333333333333333,
              "#9c179e"
             ],
             [
              0.4444444444444444,
              "#bd3786"
             ],
             [
              0.5555555555555556,
              "#d8576b"
             ],
             [
              0.6666666666666666,
              "#ed7953"
             ],
             [
              0.7777777777777778,
              "#fb9f3a"
             ],
             [
              0.8888888888888888,
              "#fdca26"
             ],
             [
              1,
              "#f0f921"
             ]
            ],
            "type": "contour"
           }
          ],
          "contourcarpet": [
           {
            "colorbar": {
             "outlinewidth": 0,
             "ticks": ""
            },
            "type": "contourcarpet"
           }
          ],
          "heatmap": [
           {
            "colorbar": {
             "outlinewidth": 0,
             "ticks": ""
            },
            "colorscale": [
             [
              0,
              "#0d0887"
             ],
             [
              0.1111111111111111,
              "#46039f"
             ],
             [
              0.2222222222222222,
              "#7201a8"
             ],
             [
              0.3333333333333333,
              "#9c179e"
             ],
             [
              0.4444444444444444,
              "#bd3786"
             ],
             [
              0.5555555555555556,
              "#d8576b"
             ],
             [
              0.6666666666666666,
              "#ed7953"
             ],
             [
              0.7777777777777778,
              "#fb9f3a"
             ],
             [
              0.8888888888888888,
              "#fdca26"
             ],
             [
              1,
              "#f0f921"
             ]
            ],
            "type": "heatmap"
           }
          ],
          "heatmapgl": [
           {
            "colorbar": {
             "outlinewidth": 0,
             "ticks": ""
            },
            "colorscale": [
             [
              0,
              "#0d0887"
             ],
             [
              0.1111111111111111,
              "#46039f"
             ],
             [
              0.2222222222222222,
              "#7201a8"
             ],
             [
              0.3333333333333333,
              "#9c179e"
             ],
             [
              0.4444444444444444,
              "#bd3786"
             ],
             [
              0.5555555555555556,
              "#d8576b"
             ],
             [
              0.6666666666666666,
              "#ed7953"
             ],
             [
              0.7777777777777778,
              "#fb9f3a"
             ],
             [
              0.8888888888888888,
              "#fdca26"
             ],
             [
              1,
              "#f0f921"
             ]
            ],
            "type": "heatmapgl"
           }
          ],
          "histogram": [
           {
            "marker": {
             "colorbar": {
              "outlinewidth": 0,
              "ticks": ""
             }
            },
            "type": "histogram"
           }
          ],
          "histogram2d": [
           {
            "colorbar": {
             "outlinewidth": 0,
             "ticks": ""
            },
            "colorscale": [
             [
              0,
              "#0d0887"
             ],
             [
              0.1111111111111111,
              "#46039f"
             ],
             [
              0.2222222222222222,
              "#7201a8"
             ],
             [
              0.3333333333333333,
              "#9c179e"
             ],
             [
              0.4444444444444444,
              "#bd3786"
             ],
             [
              0.5555555555555556,
              "#d8576b"
             ],
             [
              0.6666666666666666,
              "#ed7953"
             ],
             [
              0.7777777777777778,
              "#fb9f3a"
             ],
             [
              0.8888888888888888,
              "#fdca26"
             ],
             [
              1,
              "#f0f921"
             ]
            ],
            "type": "histogram2d"
           }
          ],
          "histogram2dcontour": [
           {
            "colorbar": {
             "outlinewidth": 0,
             "ticks": ""
            },
            "colorscale": [
             [
              0,
              "#0d0887"
             ],
             [
              0.1111111111111111,
              "#46039f"
             ],
             [
              0.2222222222222222,
              "#7201a8"
             ],
             [
              0.3333333333333333,
              "#9c179e"
             ],
             [
              0.4444444444444444,
              "#bd3786"
             ],
             [
              0.5555555555555556,
              "#d8576b"
             ],
             [
              0.6666666666666666,
              "#ed7953"
             ],
             [
              0.7777777777777778,
              "#fb9f3a"
             ],
             [
              0.8888888888888888,
              "#fdca26"
             ],
             [
              1,
              "#f0f921"
             ]
            ],
            "type": "histogram2dcontour"
           }
          ],
          "mesh3d": [
           {
            "colorbar": {
             "outlinewidth": 0,
             "ticks": ""
            },
            "type": "mesh3d"
           }
          ],
          "parcoords": [
           {
            "line": {
             "colorbar": {
              "outlinewidth": 0,
              "ticks": ""
             }
            },
            "type": "parcoords"
           }
          ],
          "pie": [
           {
            "automargin": true,
            "type": "pie"
           }
          ],
          "scatter": [
           {
            "marker": {
             "colorbar": {
              "outlinewidth": 0,
              "ticks": ""
             }
            },
            "type": "scatter"
           }
          ],
          "scatter3d": [
           {
            "line": {
             "colorbar": {
              "outlinewidth": 0,
              "ticks": ""
             }
            },
            "marker": {
             "colorbar": {
              "outlinewidth": 0,
              "ticks": ""
             }
            },
            "type": "scatter3d"
           }
          ],
          "scattercarpet": [
           {
            "marker": {
             "colorbar": {
              "outlinewidth": 0,
              "ticks": ""
             }
            },
            "type": "scattercarpet"
           }
          ],
          "scattergeo": [
           {
            "marker": {
             "colorbar": {
              "outlinewidth": 0,
              "ticks": ""
             }
            },
            "type": "scattergeo"
           }
          ],
          "scattergl": [
           {
            "marker": {
             "colorbar": {
              "outlinewidth": 0,
              "ticks": ""
             }
            },
            "type": "scattergl"
           }
          ],
          "scattermapbox": [
           {
            "marker": {
             "colorbar": {
              "outlinewidth": 0,
              "ticks": ""
             }
            },
            "type": "scattermapbox"
           }
          ],
          "scatterpolar": [
           {
            "marker": {
             "colorbar": {
              "outlinewidth": 0,
              "ticks": ""
             }
            },
            "type": "scatterpolar"
           }
          ],
          "scatterpolargl": [
           {
            "marker": {
             "colorbar": {
              "outlinewidth": 0,
              "ticks": ""
             }
            },
            "type": "scatterpolargl"
           }
          ],
          "scatterternary": [
           {
            "marker": {
             "colorbar": {
              "outlinewidth": 0,
              "ticks": ""
             }
            },
            "type": "scatterternary"
           }
          ],
          "surface": [
           {
            "colorbar": {
             "outlinewidth": 0,
             "ticks": ""
            },
            "colorscale": [
             [
              0,
              "#0d0887"
             ],
             [
              0.1111111111111111,
              "#46039f"
             ],
             [
              0.2222222222222222,
              "#7201a8"
             ],
             [
              0.3333333333333333,
              "#9c179e"
             ],
             [
              0.4444444444444444,
              "#bd3786"
             ],
             [
              0.5555555555555556,
              "#d8576b"
             ],
             [
              0.6666666666666666,
              "#ed7953"
             ],
             [
              0.7777777777777778,
              "#fb9f3a"
             ],
             [
              0.8888888888888888,
              "#fdca26"
             ],
             [
              1,
              "#f0f921"
             ]
            ],
            "type": "surface"
           }
          ],
          "table": [
           {
            "cells": {
             "fill": {
              "color": "#EBF0F8"
             },
             "line": {
              "color": "white"
             }
            },
            "header": {
             "fill": {
              "color": "#C8D4E3"
             },
             "line": {
              "color": "white"
             }
            },
            "type": "table"
           }
          ]
         },
         "layout": {
          "annotationdefaults": {
           "arrowcolor": "#2a3f5f",
           "arrowhead": 0,
           "arrowwidth": 1
          },
          "autotypenumbers": "strict",
          "coloraxis": {
           "colorbar": {
            "outlinewidth": 0,
            "ticks": ""
           }
          },
          "colorscale": {
           "diverging": [
            [
             0,
             "#8e0152"
            ],
            [
             0.1,
             "#c51b7d"
            ],
            [
             0.2,
             "#de77ae"
            ],
            [
             0.3,
             "#f1b6da"
            ],
            [
             0.4,
             "#fde0ef"
            ],
            [
             0.5,
             "#f7f7f7"
            ],
            [
             0.6,
             "#e6f5d0"
            ],
            [
             0.7,
             "#b8e186"
            ],
            [
             0.8,
             "#7fbc41"
            ],
            [
             0.9,
             "#4d9221"
            ],
            [
             1,
             "#276419"
            ]
           ],
           "sequential": [
            [
             0,
             "#0d0887"
            ],
            [
             0.1111111111111111,
             "#46039f"
            ],
            [
             0.2222222222222222,
             "#7201a8"
            ],
            [
             0.3333333333333333,
             "#9c179e"
            ],
            [
             0.4444444444444444,
             "#bd3786"
            ],
            [
             0.5555555555555556,
             "#d8576b"
            ],
            [
             0.6666666666666666,
             "#ed7953"
            ],
            [
             0.7777777777777778,
             "#fb9f3a"
            ],
            [
             0.8888888888888888,
             "#fdca26"
            ],
            [
             1,
             "#f0f921"
            ]
           ],
           "sequentialminus": [
            [
             0,
             "#0d0887"
            ],
            [
             0.1111111111111111,
             "#46039f"
            ],
            [
             0.2222222222222222,
             "#7201a8"
            ],
            [
             0.3333333333333333,
             "#9c179e"
            ],
            [
             0.4444444444444444,
             "#bd3786"
            ],
            [
             0.5555555555555556,
             "#d8576b"
            ],
            [
             0.6666666666666666,
             "#ed7953"
            ],
            [
             0.7777777777777778,
             "#fb9f3a"
            ],
            [
             0.8888888888888888,
             "#fdca26"
            ],
            [
             1,
             "#f0f921"
            ]
           ]
          },
          "colorway": [
           "#636efa",
           "#EF553B",
           "#00cc96",
           "#ab63fa",
           "#FFA15A",
           "#19d3f3",
           "#FF6692",
           "#B6E880",
           "#FF97FF",
           "#FECB52"
          ],
          "font": {
           "color": "#2a3f5f"
          },
          "geo": {
           "bgcolor": "white",
           "lakecolor": "white",
           "landcolor": "#E5ECF6",
           "showlakes": true,
           "showland": true,
           "subunitcolor": "white"
          },
          "hoverlabel": {
           "align": "left"
          },
          "hovermode": "closest",
          "mapbox": {
           "style": "light"
          },
          "paper_bgcolor": "white",
          "plot_bgcolor": "#E5ECF6",
          "polar": {
           "angularaxis": {
            "gridcolor": "white",
            "linecolor": "white",
            "ticks": ""
           },
           "bgcolor": "#E5ECF6",
           "radialaxis": {
            "gridcolor": "white",
            "linecolor": "white",
            "ticks": ""
           }
          },
          "scene": {
           "xaxis": {
            "backgroundcolor": "#E5ECF6",
            "gridcolor": "white",
            "gridwidth": 2,
            "linecolor": "white",
            "showbackground": true,
            "ticks": "",
            "zerolinecolor": "white"
           },
           "yaxis": {
            "backgroundcolor": "#E5ECF6",
            "gridcolor": "white",
            "gridwidth": 2,
            "linecolor": "white",
            "showbackground": true,
            "ticks": "",
            "zerolinecolor": "white"
           },
           "zaxis": {
            "backgroundcolor": "#E5ECF6",
            "gridcolor": "white",
            "gridwidth": 2,
            "linecolor": "white",
            "showbackground": true,
            "ticks": "",
            "zerolinecolor": "white"
           }
          },
          "shapedefaults": {
           "line": {
            "color": "#2a3f5f"
           }
          },
          "ternary": {
           "aaxis": {
            "gridcolor": "white",
            "linecolor": "white",
            "ticks": ""
           },
           "baxis": {
            "gridcolor": "white",
            "linecolor": "white",
            "ticks": ""
           },
           "bgcolor": "#E5ECF6",
           "caxis": {
            "gridcolor": "white",
            "linecolor": "white",
            "ticks": ""
           }
          },
          "title": {
           "x": 0.05
          },
          "xaxis": {
           "automargin": true,
           "gridcolor": "white",
           "linecolor": "white",
           "ticks": "",
           "title": {
            "standoff": 15
           },
           "zerolinecolor": "white",
           "zerolinewidth": 2
          },
          "yaxis": {
           "automargin": true,
           "gridcolor": "white",
           "linecolor": "white",
           "ticks": "",
           "title": {
            "standoff": 15
           },
           "zerolinecolor": "white",
           "zerolinewidth": 2
          }
         }
        },
        "title": {
         "text": "Cumulative Sum of Capture Frequencies, All Games"
        }
       }
      },
      "text/html": [
       "<div>                            <div id=\"ac6bc9e6-1e88-42b9-b3eb-ec2f374e653f\" class=\"plotly-graph-div\" style=\"height:525px; width:100%;\"></div>            <script type=\"text/javascript\">                require([\"plotly\"], function(Plotly) {                    window.PLOTLYENV=window.PLOTLYENV || {};                                    if (document.getElementById(\"ac6bc9e6-1e88-42b9-b3eb-ec2f374e653f\")) {                    Plotly.newPlot(                        \"ac6bc9e6-1e88-42b9-b3eb-ec2f374e653f\",                        [{\"name\": \"r3\", \"type\": \"scatter\", \"x\": [1, 2, 3, 4, 5, 6, 7, 8, 9, 10, 11, 12, 13, 14, 15, 16, 17, 18, 19, 20, 21, 22, 23, 24, 25, 26, 27, 28, 29, 30, 31, 32, 33, 34, 35, 36, 37, 38, 39, 40, 41, 42, 43, 44, 45, 46, 47, 48, 49, 50, 51, 52, 53, 54, 55, 56, 57, 58, 59, 60, 61, 62, 63, 64], \"y\": [0.09694534931506532, 0.1742820197175568, 0.24930491882573094, 0.3006118938222677, 0.3459370704245451, 0.3865003444711569, 0.42174203720288495, 0.45617479027104113, 0.4793440083099323, 0.5004765145727283, 0.5215075558949046, 0.5413566928174405, 0.5608875356111827, 0.5796275078403674, 0.5982868640893336, 0.6157884080706789, 0.6332482541312215, 0.649480791389472, 0.665356116459513, 0.6805489855590835, 0.6955324384341783, 0.7099270240054931, 0.7234227877283946, 0.7367517597680855, 0.7485147432265203, 0.760172091952255, 0.7715449681960692, 0.7824860393044601, 0.7933844858715862, 0.803706574511173, 0.8140143005335945, 0.8237966327539021, 0.8330897093701252, 0.8423809327454236, 0.8510114757311151, 0.8594617910368929, 0.8676049316594243, 0.8755525553644143, 0.8830146299471687, 0.8903367848401186, 0.8974550832313665, 0.9044603339262159, 0.9111204184988655, 0.9177415850120992, 0.9243219802249926, 0.9305446999394452, 0.9366446424426456, 0.9425953990514185, 0.948406235970387, 0.9539085082754156, 0.959232406141455, 0.9644872707830544, 0.9691254695070054, 0.9732192787093659, 0.9766426780072656, 0.9799715620180125, 0.9831373608273979, 0.9862915768810048, 0.9893874158454878, 0.9923873495921248, 0.9945542515431706, 0.9965084940981226, 0.9983283766860438, 1.0]}, {\"name\": \"n3\", \"type\": \"scatter\", \"x\": [1, 2, 3, 4, 5, 6, 7, 8, 9, 10, 11, 12, 13, 14, 15, 16, 17, 18, 19, 20, 21, 22, 23, 24, 25, 26, 27, 28, 29, 30, 31, 32, 33, 34, 35, 36, 37, 38, 39, 40, 41, 42, 43, 44, 45, 46, 47, 48, 49, 50, 51, 52, 53, 54, 55, 56, 57, 58, 59, 60, 61, 62, 63, 64], \"y\": [0.20398354177663552, 0.3430132900042072, 0.46304850979871376, 0.510069613776341, 0.5470038065500337, 0.5809636787499428, 0.6135542642622871, 0.6443844180308386, 0.6680115881605246, 0.6898080208729733, 0.7115347058935126, 0.7308704400353985, 0.7482178069763317, 0.7645440677077115, 0.7805913376714539, 0.795892307331766, 0.8107463337823226, 0.8243683370029921, 0.837531958392433, 0.8493714895986664, 0.859951656479784, 0.8705072721733494, 0.880385498283091, 0.8897958568755044, 0.8991300509883529, 0.9072244101298201, 0.9148631773477354, 0.9219202488151264, 0.9277611995263855, 0.9332450420550685, 0.938070466372127, 0.9428855680307829, 0.9472283383198286, 0.9507670572165429, 0.9542801089626345, 0.9577820010780206, 0.961122078548177, 0.9641848391953016, 0.9669825586131706, 0.9697328496005413, 0.9724683540772272, 0.9751087227021487, 0.9776966410627542, 0.9799436327053068, 0.9820321575918413, 0.983945755267067, 0.9857703548874163, 0.9874267230748802, 0.9890766744746885, 0.9904682804236644, 0.9917639135485731, 0.9929942628338545, 0.9939534330929923, 0.9947354442146803, 0.9954786756196666, 0.9962174431723708, 0.9969425401774608, 0.9976620573671979, 0.9982457060530956, 0.9987113416442827, 0.9991722343924199, 0.9996169456760341, 0.9998351164563266, 1.0000000000000004]}, {\"name\": \"s3\", \"type\": \"scatter\", \"x\": [1, 2, 3, 4, 5, 6, 7, 8, 9, 10, 11, 12, 13, 14, 15, 16, 17, 18, 19, 20, 21, 22, 23, 24, 25, 26, 27, 28, 29, 30, 31, 32, 33, 34, 35, 36, 37, 38, 39, 40, 41, 42, 43, 44, 45, 46, 47, 48, 49, 50, 51, 52, 53, 54, 55, 56, 57, 58, 59, 60, 61, 62, 63, 64], \"y\": [0.13373260281974583, 0.2199572750653262, 0.3042625704983265, 0.3796874327157169, 0.4383749297123025, 0.49636625865997475, 0.5541940770484222, 0.606287168228026, 0.6508712554053656, 0.6938211731196128, 0.7352548736444068, 0.7703915453807328, 0.7981611927034347, 0.8231770600926266, 0.8475594800863483, 0.8667616733745519, 0.8840441778071234, 0.8998488463456323, 0.9148734072542518, 0.928127435886074, 0.9396942477359713, 0.9502731312833765, 0.9596019703646469, 0.9680801800862858, 0.9752234696316578, 0.9817773098518854, 0.9863880579875842, 0.9907329454430167, 0.9940037807136173, 0.997026853800965, 0.9987599409115275, 0.9999999999999999, 0.9999999999999999, 0.9999999999999999, 0.9999999999999999, 0.9999999999999999, 0.9999999999999999, 0.9999999999999999, 0.9999999999999999, 0.9999999999999999, 0.9999999999999999, 0.9999999999999999, 0.9999999999999999, 0.9999999999999999, 0.9999999999999999, 0.9999999999999999, 0.9999999999999999, 0.9999999999999999, 0.9999999999999999, 0.9999999999999999, 0.9999999999999999, 0.9999999999999999, 0.9999999999999999, 0.9999999999999999, 0.9999999999999999, 0.9999999999999999, 0.9999999999999999, 0.9999999999999999, 0.9999999999999999, 0.9999999999999999, 0.9999999999999999, 0.9999999999999999, 0.9999999999999999, 0.9999999999999999]}, {\"name\": \"k2\", \"type\": \"scatter\", \"x\": [1, 2, 3, 4, 5, 6, 7, 8, 9, 10, 11, 12, 13, 14, 15, 16, 17, 18, 19, 20, 21, 22, 23, 24, 25, 26, 27, 28, 29, 30, 31, 32, 33, 34, 35, 36, 37, 38, 39, 40, 41, 42, 43, 44, 45, 46, 47, 48, 49, 50, 51, 52, 53, 54, 55, 56, 57, 58, 59, 60, 61, 62, 63, 64], \"y\": [0.0, 0.0, 0.0, 0.0, 0.0, 0.0, 0.0, 0.0, 0.0, 0.0, 0.0, 0.0, 0.0, 0.0, 0.0, 0.0, 0.0, 0.0, 0.0, 0.0, 0.0, 0.0, 0.0, 0.0, 0.0, 0.0, 0.0, 0.0, 0.0, 0.0, 0.0, 0.0, 0.0, 0.0, 0.0, 0.0, 0.0, 0.0, 0.0, 0.0, 0.0, 0.0, 0.0, 0.0, 0.0, 0.0, 0.0, 0.0, 0.0, 0.0, 0.0, 0.0, 0.0, 0.0, 0.0, 0.0, 0.0, 0.0, 0.0, 0.0, 0.0, 0.0, 0.0, 0.0]}, {\"name\": \"q2\", \"type\": \"scatter\", \"x\": [1, 2, 3, 4, 5, 6, 7, 8, 9, 10, 11, 12, 13, 14, 15, 16, 17, 18, 19, 20, 21, 22, 23, 24, 25, 26, 27, 28, 29, 30, 31, 32, 33, 34, 35, 36, 37, 38, 39, 40, 41, 42, 43, 44, 45, 46, 47, 48, 49, 50, 51, 52, 53, 54, 55, 56, 57, 58, 59, 60, 61, 62, 63, 64], \"y\": [0.08706516632652007, 0.14100111275524851, 0.1818748951177529, 0.21814513524123777, 0.2541286812951997, 0.29008508697724683, 0.3220789983597277, 0.3529838545367808, 0.3810603781533003, 0.40902222414201067, 0.4360089280355837, 0.4611592608491726, 0.48551067285569083, 0.5094484808845774, 0.531699381008391, 0.552063069637225, 0.5720613188921071, 0.591419666983814, 0.6106728939166959, 0.629141725875363, 0.6474568898127658, 0.6656948374807772, 0.6838395140115037, 0.7019547566177592, 0.7193502059801324, 0.7351967428495632, 0.7508104841345412, 0.7648688145276676, 0.7787440429750587, 0.791545888826156, 0.803665785050548, 0.8152119108771347, 0.8263880102246572, 0.8366161078489572, 0.8465571291449749, 0.856213749924026, 0.8658439948486809, 0.8753805863772917, 0.8847069355882522, 0.8927630389418465, 0.9008080567914193, 0.9086952017733748, 0.9163166769175723, 0.9229484841337767, 0.9295607961532536, 0.9360656934613492, 0.9425331294110271, 0.9486595905473524, 0.9547680855219876, 0.9598291914959657, 0.963441919030714, 0.9669705496384022, 0.9704605721113947, 0.9739475365143122, 0.9773924524536998, 0.9807957021883166, 0.9841794567262059, 0.9873185656581023, 0.9898701428768564, 0.9923154521605073, 0.9946502886627021, 0.9968543926691944, 0.998866602778486, 1.0]}, {\"name\": \"s4\", \"type\": \"scatter\", \"x\": [1, 2, 3, 4, 5, 6, 7, 8, 9, 10, 11, 12, 13, 14, 15, 16, 17, 18, 19, 20, 21, 22, 23, 24, 25, 26, 27, 28, 29, 30, 31, 32, 33, 34, 35, 36, 37, 38, 39, 40, 41, 42, 43, 44, 45, 46, 47, 48, 49, 50, 51, 52, 53, 54, 55, 56, 57, 58, 59, 60, 61, 62, 63, 64], \"y\": [0.17961756145775176, 0.2716395875656647, 0.3345165876110181, 0.3971846492853714, 0.45652908950725896, 0.5144976017440724, 0.5627032496485113, 0.6061902684138669, 0.6486935878127624, 0.6846397455205708, 0.7174321223978493, 0.7484866825247136, 0.778684532774079, 0.8086324702114248, 0.8362964735394253, 0.8632248136210301, 0.884860882389279, 0.9056458713558941, 0.9229614824615315, 0.936937520233085, 0.9501162767057173, 0.9581300641359474, 0.9653681522247399, 0.9722793831313542, 0.9786104034418529, 0.9845000883609127, 0.9882750542285778, 0.9918542185689283, 0.9950342730868296, 0.9971699485317228, 0.9991292149328376, 0.9999999999999997, 0.9999999999999997, 0.9999999999999997, 0.9999999999999997, 0.9999999999999997, 0.9999999999999997, 0.9999999999999997, 0.9999999999999997, 0.9999999999999997, 0.9999999999999997, 0.9999999999999997, 0.9999999999999997, 0.9999999999999997, 0.9999999999999997, 0.9999999999999997, 0.9999999999999997, 0.9999999999999997, 0.9999999999999997, 0.9999999999999997, 0.9999999999999997, 0.9999999999999997, 0.9999999999999997, 0.9999999999999997, 0.9999999999999997, 0.9999999999999997, 0.9999999999999997, 0.9999999999999997, 0.9999999999999997, 0.9999999999999997, 0.9999999999999997, 0.9999999999999997, 0.9999999999999997, 0.9999999999999997]}, {\"name\": \"n4\", \"type\": \"scatter\", \"x\": [1, 2, 3, 4, 5, 6, 7, 8, 9, 10, 11, 12, 13, 14, 15, 16, 17, 18, 19, 20, 21, 22, 23, 24, 25, 26, 27, 28, 29, 30, 31, 32, 33, 34, 35, 36, 37, 38, 39, 40, 41, 42, 43, 44, 45, 46, 47, 48, 49, 50, 51, 52, 53, 54, 55, 56, 57, 58, 59, 60, 61, 62, 63, 64], \"y\": [0.19012620417689546, 0.33490921342748003, 0.46123926825655887, 0.5144636921556971, 0.5510471109715033, 0.5873969627040427, 0.6237185207726017, 0.6512843446826533, 0.6773168252314811, 0.698787962951468, 0.7180989660398079, 0.7368518910416774, 0.7544228337952226, 0.7706749453542525, 0.7861663038052379, 0.8008466734590707, 0.8124727709573045, 0.8226007478188616, 0.832398439460076, 0.8421594648224586, 0.8516326454604692, 0.8610708920847897, 0.8702842329515517, 0.878929679562707, 0.8871827681192768, 0.895252236570831, 0.9024292997635747, 0.9094761543598371, 0.915498662835666, 0.9212451637322576, 0.9266414583593774, 0.9319745253088267, 0.9368961792871324, 0.9417488313706288, 0.9464816684484938, 0.9511720650303882, 0.9555399715850774, 0.9589883340604035, 0.962267511973561, 0.9654150377359525, 0.9685449521360705, 0.9713382296769931, 0.9739253676660585, 0.9763678615157955, 0.9788037150158228, 0.9807972634830135, 0.9827125713079727, 0.9845577223946949, 0.9863621652505881, 0.9879850089774641, 0.9893999808873413, 0.9907589428909716, 0.9918932878479002, 0.9930033810928457, 0.9941039468795121, 0.9950592911051361, 0.995990383618777, 0.9967857820296547, 0.9975566400176923, 0.998326920584016, 0.9990723720166426, 0.999596093511137, 0.9998339912572579, 1.0]}, {\"name\": \"r4\", \"type\": \"scatter\", \"x\": [1, 2, 3, 4, 5, 6, 7, 8, 9, 10, 11, 12, 13, 14, 15, 16, 17, 18, 19, 20, 21, 22, 23, 24, 25, 26, 27, 28, 29, 30, 31, 32, 33, 34, 35, 36, 37, 38, 39, 40, 41, 42, 43, 44, 45, 46, 47, 48, 49, 50, 51, 52, 53, 54, 55, 56, 57, 58, 59, 60, 61, 62, 63, 64], \"y\": [0.11959373511207225, 0.201868078461596, 0.2569058416753658, 0.3049905532054398, 0.35269422964290065, 0.38380298904056803, 0.41373796863721723, 0.44235346444774837, 0.4684857617490613, 0.49150363636886496, 0.5127236963567293, 0.5318190663250291, 0.5506340519798966, 0.5676910040250724, 0.584052986404476, 0.6001580696522562, 0.6161653778574036, 0.6315390654431364, 0.6466419545039305, 0.6615895537911313, 0.6764647803752067, 0.6912944744639385, 0.7059521036492136, 0.7192202727923687, 0.7316621469673917, 0.7436146666398262, 0.7552460623977314, 0.7665419555583671, 0.7777463044388908, 0.7889084758500435, 0.8000514756842094, 0.810994132538863, 0.8206810511008796, 0.8303607803215263, 0.8399259593696766, 0.8493919255069202, 0.8586537143492541, 0.8674386102140408, 0.8749941287045475, 0.8824327005754347, 0.8898631245261024, 0.8971171699684913, 0.9038976774593057, 0.9105430253323631, 0.9170661544021295, 0.9233352600768204, 0.9295890284899219, 0.9357325603353491, 0.9418564413143649, 0.9477162338203872, 0.9535146772800516, 0.958734139114714, 0.9639071098751834, 0.9690134594056236, 0.9734363422164835, 0.977779662982848, 0.9819446880832352, 0.9853994062562607, 0.9886997932345422, 0.9916555711164855, 0.9939470538558355, 0.9961513059198954, 0.9980981795629073, 1.0]}],                        {\"template\": {\"data\": {\"bar\": [{\"error_x\": {\"color\": \"#2a3f5f\"}, \"error_y\": {\"color\": \"#2a3f5f\"}, \"marker\": {\"line\": {\"color\": \"#E5ECF6\", \"width\": 0.5}}, \"type\": \"bar\"}], \"barpolar\": [{\"marker\": {\"line\": {\"color\": \"#E5ECF6\", \"width\": 0.5}}, \"type\": \"barpolar\"}], \"carpet\": [{\"aaxis\": {\"endlinecolor\": \"#2a3f5f\", \"gridcolor\": \"white\", \"linecolor\": \"white\", \"minorgridcolor\": \"white\", \"startlinecolor\": \"#2a3f5f\"}, \"baxis\": {\"endlinecolor\": \"#2a3f5f\", \"gridcolor\": \"white\", \"linecolor\": \"white\", \"minorgridcolor\": \"white\", \"startlinecolor\": \"#2a3f5f\"}, \"type\": \"carpet\"}], \"choropleth\": [{\"colorbar\": {\"outlinewidth\": 0, \"ticks\": \"\"}, \"type\": \"choropleth\"}], \"contour\": [{\"colorbar\": {\"outlinewidth\": 0, \"ticks\": \"\"}, \"colorscale\": [[0.0, \"#0d0887\"], [0.1111111111111111, \"#46039f\"], [0.2222222222222222, \"#7201a8\"], [0.3333333333333333, \"#9c179e\"], [0.4444444444444444, \"#bd3786\"], [0.5555555555555556, \"#d8576b\"], [0.6666666666666666, \"#ed7953\"], [0.7777777777777778, \"#fb9f3a\"], [0.8888888888888888, \"#fdca26\"], [1.0, \"#f0f921\"]], \"type\": \"contour\"}], \"contourcarpet\": [{\"colorbar\": {\"outlinewidth\": 0, \"ticks\": \"\"}, \"type\": \"contourcarpet\"}], \"heatmap\": [{\"colorbar\": {\"outlinewidth\": 0, \"ticks\": \"\"}, \"colorscale\": [[0.0, \"#0d0887\"], [0.1111111111111111, \"#46039f\"], [0.2222222222222222, \"#7201a8\"], [0.3333333333333333, \"#9c179e\"], [0.4444444444444444, \"#bd3786\"], [0.5555555555555556, \"#d8576b\"], [0.6666666666666666, \"#ed7953\"], [0.7777777777777778, \"#fb9f3a\"], [0.8888888888888888, \"#fdca26\"], [1.0, \"#f0f921\"]], \"type\": \"heatmap\"}], \"heatmapgl\": [{\"colorbar\": {\"outlinewidth\": 0, \"ticks\": \"\"}, \"colorscale\": [[0.0, \"#0d0887\"], [0.1111111111111111, \"#46039f\"], [0.2222222222222222, \"#7201a8\"], [0.3333333333333333, \"#9c179e\"], [0.4444444444444444, \"#bd3786\"], [0.5555555555555556, \"#d8576b\"], [0.6666666666666666, \"#ed7953\"], [0.7777777777777778, \"#fb9f3a\"], [0.8888888888888888, \"#fdca26\"], [1.0, \"#f0f921\"]], \"type\": \"heatmapgl\"}], \"histogram\": [{\"marker\": {\"colorbar\": {\"outlinewidth\": 0, \"ticks\": \"\"}}, \"type\": \"histogram\"}], \"histogram2d\": [{\"colorbar\": {\"outlinewidth\": 0, \"ticks\": \"\"}, \"colorscale\": [[0.0, \"#0d0887\"], [0.1111111111111111, \"#46039f\"], [0.2222222222222222, \"#7201a8\"], [0.3333333333333333, \"#9c179e\"], [0.4444444444444444, \"#bd3786\"], [0.5555555555555556, \"#d8576b\"], [0.6666666666666666, \"#ed7953\"], [0.7777777777777778, \"#fb9f3a\"], [0.8888888888888888, \"#fdca26\"], [1.0, \"#f0f921\"]], \"type\": \"histogram2d\"}], \"histogram2dcontour\": [{\"colorbar\": {\"outlinewidth\": 0, \"ticks\": \"\"}, \"colorscale\": [[0.0, \"#0d0887\"], [0.1111111111111111, \"#46039f\"], [0.2222222222222222, \"#7201a8\"], [0.3333333333333333, \"#9c179e\"], [0.4444444444444444, \"#bd3786\"], [0.5555555555555556, \"#d8576b\"], [0.6666666666666666, \"#ed7953\"], [0.7777777777777778, \"#fb9f3a\"], [0.8888888888888888, \"#fdca26\"], [1.0, \"#f0f921\"]], \"type\": \"histogram2dcontour\"}], \"mesh3d\": [{\"colorbar\": {\"outlinewidth\": 0, \"ticks\": \"\"}, \"type\": \"mesh3d\"}], \"parcoords\": [{\"line\": {\"colorbar\": {\"outlinewidth\": 0, \"ticks\": \"\"}}, \"type\": \"parcoords\"}], \"pie\": [{\"automargin\": true, \"type\": \"pie\"}], \"scatter\": [{\"marker\": {\"colorbar\": {\"outlinewidth\": 0, \"ticks\": \"\"}}, \"type\": \"scatter\"}], \"scatter3d\": [{\"line\": {\"colorbar\": {\"outlinewidth\": 0, \"ticks\": \"\"}}, \"marker\": {\"colorbar\": {\"outlinewidth\": 0, \"ticks\": \"\"}}, \"type\": \"scatter3d\"}], \"scattercarpet\": [{\"marker\": {\"colorbar\": {\"outlinewidth\": 0, \"ticks\": \"\"}}, \"type\": \"scattercarpet\"}], \"scattergeo\": [{\"marker\": {\"colorbar\": {\"outlinewidth\": 0, \"ticks\": \"\"}}, \"type\": \"scattergeo\"}], \"scattergl\": [{\"marker\": {\"colorbar\": {\"outlinewidth\": 0, \"ticks\": \"\"}}, \"type\": \"scattergl\"}], \"scattermapbox\": [{\"marker\": {\"colorbar\": {\"outlinewidth\": 0, \"ticks\": \"\"}}, \"type\": \"scattermapbox\"}], \"scatterpolar\": [{\"marker\": {\"colorbar\": {\"outlinewidth\": 0, \"ticks\": \"\"}}, \"type\": \"scatterpolar\"}], \"scatterpolargl\": [{\"marker\": {\"colorbar\": {\"outlinewidth\": 0, \"ticks\": \"\"}}, \"type\": \"scatterpolargl\"}], \"scatterternary\": [{\"marker\": {\"colorbar\": {\"outlinewidth\": 0, \"ticks\": \"\"}}, \"type\": \"scatterternary\"}], \"surface\": [{\"colorbar\": {\"outlinewidth\": 0, \"ticks\": \"\"}, \"colorscale\": [[0.0, \"#0d0887\"], [0.1111111111111111, \"#46039f\"], [0.2222222222222222, \"#7201a8\"], [0.3333333333333333, \"#9c179e\"], [0.4444444444444444, \"#bd3786\"], [0.5555555555555556, \"#d8576b\"], [0.6666666666666666, \"#ed7953\"], [0.7777777777777778, \"#fb9f3a\"], [0.8888888888888888, \"#fdca26\"], [1.0, \"#f0f921\"]], \"type\": \"surface\"}], \"table\": [{\"cells\": {\"fill\": {\"color\": \"#EBF0F8\"}, \"line\": {\"color\": \"white\"}}, \"header\": {\"fill\": {\"color\": \"#C8D4E3\"}, \"line\": {\"color\": \"white\"}}, \"type\": \"table\"}]}, \"layout\": {\"annotationdefaults\": {\"arrowcolor\": \"#2a3f5f\", \"arrowhead\": 0, \"arrowwidth\": 1}, \"autotypenumbers\": \"strict\", \"coloraxis\": {\"colorbar\": {\"outlinewidth\": 0, \"ticks\": \"\"}}, \"colorscale\": {\"diverging\": [[0, \"#8e0152\"], [0.1, \"#c51b7d\"], [0.2, \"#de77ae\"], [0.3, \"#f1b6da\"], [0.4, \"#fde0ef\"], [0.5, \"#f7f7f7\"], [0.6, \"#e6f5d0\"], [0.7, \"#b8e186\"], [0.8, \"#7fbc41\"], [0.9, \"#4d9221\"], [1, \"#276419\"]], \"sequential\": [[0.0, \"#0d0887\"], [0.1111111111111111, \"#46039f\"], [0.2222222222222222, \"#7201a8\"], [0.3333333333333333, \"#9c179e\"], [0.4444444444444444, \"#bd3786\"], [0.5555555555555556, \"#d8576b\"], [0.6666666666666666, \"#ed7953\"], [0.7777777777777778, \"#fb9f3a\"], [0.8888888888888888, \"#fdca26\"], [1.0, \"#f0f921\"]], \"sequentialminus\": [[0.0, \"#0d0887\"], [0.1111111111111111, \"#46039f\"], [0.2222222222222222, \"#7201a8\"], [0.3333333333333333, \"#9c179e\"], [0.4444444444444444, \"#bd3786\"], [0.5555555555555556, \"#d8576b\"], [0.6666666666666666, \"#ed7953\"], [0.7777777777777778, \"#fb9f3a\"], [0.8888888888888888, \"#fdca26\"], [1.0, \"#f0f921\"]]}, \"colorway\": [\"#636efa\", \"#EF553B\", \"#00cc96\", \"#ab63fa\", \"#FFA15A\", \"#19d3f3\", \"#FF6692\", \"#B6E880\", \"#FF97FF\", \"#FECB52\"], \"font\": {\"color\": \"#2a3f5f\"}, \"geo\": {\"bgcolor\": \"white\", \"lakecolor\": \"white\", \"landcolor\": \"#E5ECF6\", \"showlakes\": true, \"showland\": true, \"subunitcolor\": \"white\"}, \"hoverlabel\": {\"align\": \"left\"}, \"hovermode\": \"closest\", \"mapbox\": {\"style\": \"light\"}, \"paper_bgcolor\": \"white\", \"plot_bgcolor\": \"#E5ECF6\", \"polar\": {\"angularaxis\": {\"gridcolor\": \"white\", \"linecolor\": \"white\", \"ticks\": \"\"}, \"bgcolor\": \"#E5ECF6\", \"radialaxis\": {\"gridcolor\": \"white\", \"linecolor\": \"white\", \"ticks\": \"\"}}, \"scene\": {\"xaxis\": {\"backgroundcolor\": \"#E5ECF6\", \"gridcolor\": \"white\", \"gridwidth\": 2, \"linecolor\": \"white\", \"showbackground\": true, \"ticks\": \"\", \"zerolinecolor\": \"white\"}, \"yaxis\": {\"backgroundcolor\": \"#E5ECF6\", \"gridcolor\": \"white\", \"gridwidth\": 2, \"linecolor\": \"white\", \"showbackground\": true, \"ticks\": \"\", \"zerolinecolor\": \"white\"}, \"zaxis\": {\"backgroundcolor\": \"#E5ECF6\", \"gridcolor\": \"white\", \"gridwidth\": 2, \"linecolor\": \"white\", \"showbackground\": true, \"ticks\": \"\", \"zerolinecolor\": \"white\"}}, \"shapedefaults\": {\"line\": {\"color\": \"#2a3f5f\"}}, \"ternary\": {\"aaxis\": {\"gridcolor\": \"white\", \"linecolor\": \"white\", \"ticks\": \"\"}, \"baxis\": {\"gridcolor\": \"white\", \"linecolor\": \"white\", \"ticks\": \"\"}, \"bgcolor\": \"#E5ECF6\", \"caxis\": {\"gridcolor\": \"white\", \"linecolor\": \"white\", \"ticks\": \"\"}}, \"title\": {\"x\": 0.05}, \"xaxis\": {\"automargin\": true, \"gridcolor\": \"white\", \"linecolor\": \"white\", \"ticks\": \"\", \"title\": {\"standoff\": 15}, \"zerolinecolor\": \"white\", \"zerolinewidth\": 2}, \"yaxis\": {\"automargin\": true, \"gridcolor\": \"white\", \"linecolor\": \"white\", \"ticks\": \"\", \"title\": {\"standoff\": 15}, \"zerolinecolor\": \"white\", \"zerolinewidth\": 2}}}, \"title\": {\"text\": \"Cumulative Sum of Capture Frequencies, All Games\"}},                        {\"responsive\": true}                    ).then(function(){\n",
       "                            \n",
       "var gd = document.getElementById('ac6bc9e6-1e88-42b9-b3eb-ec2f374e653f');\n",
       "var x = new MutationObserver(function (mutations, observer) {{\n",
       "        var display = window.getComputedStyle(gd).display;\n",
       "        if (!display || display === 'none') {{\n",
       "            console.log([gd, 'removed!']);\n",
       "            Plotly.purge(gd);\n",
       "            observer.disconnect();\n",
       "        }}\n",
       "}});\n",
       "\n",
       "// Listen for the removal of the full notebook cells\n",
       "var notebookContainer = gd.closest('#notebook-container');\n",
       "if (notebookContainer) {{\n",
       "    x.observe(notebookContainer, {childList: true});\n",
       "}}\n",
       "\n",
       "// Listen for the clearing of the current output cell\n",
       "var outputEl = gd.closest('.output');\n",
       "if (outputEl) {{\n",
       "    x.observe(outputEl, {childList: true});\n",
       "}}\n",
       "\n",
       "                        })                };                });            </script>        </div>"
      ]
     },
     "metadata": {},
     "output_type": "display_data"
    }
   ],
   "source": [
    "pieces = ([rooks[2]] + [knights[2]] + [bishops[2]] + [kings[1]] + \n",
    "                  [queens[1]] + [bishops[3]] + [knights[3]] + [rooks[3]]\n",
    "                 )\n",
    "\n",
    "new_fig = go.Figure()\n",
    "data = []\n",
    "for entry in b_death_oa.data[8:]:\n",
    "    data.append(entry['z'].reshape(64))\n",
    "\n",
    "index = 0\n",
    "for entry in data:\n",
    "    entry.sort()\n",
    "    new_fig.add_scatter(y=entry[::-1].cumsum(), x=list(range(1,65)), name=pieces[index])\n",
    "    index+=1\n",
    "\n",
    "new_fig.update_layout(title_text='Cumulative Sum of Capture Frequencies, All Games')"
   ]
  },
  {
   "cell_type": "code",
   "execution_count": 15,
   "id": "703bf895",
   "metadata": {
    "scrolled": false
   },
   "outputs": [
    {
     "data": {
      "application/vnd.plotly.v1+json": {
       "config": {
        "plotlyServerURL": "https://plot.ly"
       },
       "data": [
        {
         "name": "r3",
         "type": "scatter",
         "x": [
          1,
          2,
          3,
          4,
          5,
          6,
          7,
          8,
          9,
          10,
          11,
          12,
          13,
          14,
          15,
          16,
          17,
          18,
          19,
          20,
          21,
          22,
          23,
          24,
          25,
          26,
          27,
          28,
          29,
          30,
          31,
          32,
          33,
          34,
          35,
          36,
          37,
          38,
          39,
          40,
          41,
          42,
          43,
          44,
          45,
          46,
          47,
          48,
          49,
          50,
          51,
          52,
          53,
          54,
          55,
          56,
          57,
          58,
          59,
          60,
          61,
          62,
          63,
          64
         ],
         "y": [
          0.09694534931506532,
          0.1742820197175568,
          0.24930491882573094,
          0.3006118938222677,
          0.3459370704245451,
          0.3865003444711569,
          0.42174203720288495,
          0.45617479027104113,
          0.4793440083099323,
          0.5004765145727283,
          0.5215075558949046,
          0.5413566928174405,
          0.5608875356111827,
          0.5796275078403674,
          0.5982868640893336,
          0.6157884080706789,
          0.6332482541312215,
          0.649480791389472,
          0.665356116459513,
          0.6805489855590835,
          0.6955324384341783,
          0.7099270240054931,
          0.7234227877283946,
          0.7367517597680855,
          0.7485147432265203,
          0.760172091952255,
          0.7715449681960692,
          0.7824860393044601,
          0.7933844858715862,
          0.803706574511173,
          0.8140143005335945,
          0.8237966327539021,
          0.8330897093701252,
          0.8423809327454236,
          0.8510114757311151,
          0.8594617910368929,
          0.8676049316594243,
          0.8755525553644143,
          0.8830146299471687,
          0.8903367848401186,
          0.8974550832313665,
          0.9044603339262159,
          0.9111204184988655,
          0.9177415850120992,
          0.9243219802249926,
          0.9305446999394452,
          0.9366446424426456,
          0.9425953990514185,
          0.948406235970387,
          0.9539085082754156,
          0.959232406141455,
          0.9644872707830544,
          0.9691254695070054,
          0.9732192787093659,
          0.9766426780072656,
          0.9799715620180125,
          0.9831373608273979,
          0.9862915768810048,
          0.9893874158454878,
          0.9923873495921248,
          0.9945542515431706,
          0.9965084940981226,
          0.9983283766860438,
          1
         ]
        },
        {
         "name": "n3",
         "type": "scatter",
         "x": [
          1,
          2,
          3,
          4,
          5,
          6,
          7,
          8,
          9,
          10,
          11,
          12,
          13,
          14,
          15,
          16,
          17,
          18,
          19,
          20,
          21,
          22,
          23,
          24,
          25,
          26,
          27,
          28,
          29,
          30,
          31,
          32,
          33,
          34,
          35,
          36,
          37,
          38,
          39,
          40,
          41,
          42,
          43,
          44,
          45,
          46,
          47,
          48,
          49,
          50,
          51,
          52,
          53,
          54,
          55,
          56,
          57,
          58,
          59,
          60,
          61,
          62,
          63,
          64
         ],
         "y": [
          0.20398354177663552,
          0.3430132900042072,
          0.46304850979871376,
          0.510069613776341,
          0.5470038065500337,
          0.5809636787499428,
          0.6135542642622871,
          0.6443844180308386,
          0.6680115881605246,
          0.6898080208729733,
          0.7115347058935126,
          0.7308704400353985,
          0.7482178069763317,
          0.7645440677077115,
          0.7805913376714539,
          0.795892307331766,
          0.8107463337823226,
          0.8243683370029921,
          0.837531958392433,
          0.8493714895986664,
          0.859951656479784,
          0.8705072721733494,
          0.880385498283091,
          0.8897958568755044,
          0.8991300509883529,
          0.9072244101298201,
          0.9148631773477354,
          0.9219202488151264,
          0.9277611995263855,
          0.9332450420550685,
          0.938070466372127,
          0.9428855680307829,
          0.9472283383198286,
          0.9507670572165429,
          0.9542801089626345,
          0.9577820010780206,
          0.961122078548177,
          0.9641848391953016,
          0.9669825586131706,
          0.9697328496005413,
          0.9724683540772272,
          0.9751087227021487,
          0.9776966410627542,
          0.9799436327053068,
          0.9820321575918413,
          0.983945755267067,
          0.9857703548874163,
          0.9874267230748802,
          0.9890766744746885,
          0.9904682804236644,
          0.9917639135485731,
          0.9929942628338545,
          0.9939534330929923,
          0.9947354442146803,
          0.9954786756196666,
          0.9962174431723708,
          0.9969425401774608,
          0.9976620573671979,
          0.9982457060530956,
          0.9987113416442827,
          0.9991722343924199,
          0.9996169456760341,
          0.9998351164563266,
          1.0000000000000004
         ]
        },
        {
         "name": "s3",
         "type": "scatter",
         "x": [
          1,
          2,
          3,
          4,
          5,
          6,
          7,
          8,
          9,
          10,
          11,
          12,
          13,
          14,
          15,
          16,
          17,
          18,
          19,
          20,
          21,
          22,
          23,
          24,
          25,
          26,
          27,
          28,
          29,
          30,
          31,
          32,
          33,
          34,
          35,
          36,
          37,
          38,
          39,
          40,
          41,
          42,
          43,
          44,
          45,
          46,
          47,
          48,
          49,
          50,
          51,
          52,
          53,
          54,
          55,
          56,
          57,
          58,
          59,
          60,
          61,
          62,
          63,
          64
         ],
         "y": [
          0.13373260281974583,
          0.2199572750653262,
          0.3042625704983265,
          0.3796874327157169,
          0.4383749297123025,
          0.49636625865997475,
          0.5541940770484222,
          0.606287168228026,
          0.6508712554053656,
          0.6938211731196128,
          0.7352548736444068,
          0.7703915453807328,
          0.7981611927034347,
          0.8231770600926266,
          0.8475594800863483,
          0.8667616733745519,
          0.8840441778071234,
          0.8998488463456323,
          0.9148734072542518,
          0.928127435886074,
          0.9396942477359713,
          0.9502731312833765,
          0.9596019703646469,
          0.9680801800862858,
          0.9752234696316578,
          0.9817773098518854,
          0.9863880579875842,
          0.9907329454430167,
          0.9940037807136173,
          0.997026853800965,
          0.9987599409115275,
          0.9999999999999999,
          0.9999999999999999,
          0.9999999999999999,
          0.9999999999999999,
          0.9999999999999999,
          0.9999999999999999,
          0.9999999999999999,
          0.9999999999999999,
          0.9999999999999999,
          0.9999999999999999,
          0.9999999999999999,
          0.9999999999999999,
          0.9999999999999999,
          0.9999999999999999,
          0.9999999999999999,
          0.9999999999999999,
          0.9999999999999999,
          0.9999999999999999,
          0.9999999999999999,
          0.9999999999999999,
          0.9999999999999999,
          0.9999999999999999,
          0.9999999999999999,
          0.9999999999999999,
          0.9999999999999999,
          0.9999999999999999,
          0.9999999999999999,
          0.9999999999999999,
          0.9999999999999999,
          0.9999999999999999,
          0.9999999999999999,
          0.9999999999999999,
          0.9999999999999999
         ]
        },
        {
         "name": "k2",
         "type": "scatter",
         "x": [
          1,
          2,
          3,
          4,
          5,
          6,
          7,
          8,
          9,
          10,
          11,
          12,
          13,
          14,
          15,
          16,
          17,
          18,
          19,
          20,
          21,
          22,
          23,
          24,
          25,
          26,
          27,
          28,
          29,
          30,
          31,
          32,
          33,
          34,
          35,
          36,
          37,
          38,
          39,
          40,
          41,
          42,
          43,
          44,
          45,
          46,
          47,
          48,
          49,
          50,
          51,
          52,
          53,
          54,
          55,
          56,
          57,
          58,
          59,
          60,
          61,
          62,
          63,
          64
         ],
         "y": [
          0,
          0,
          0,
          0,
          0,
          0,
          0,
          0,
          0,
          0,
          0,
          0,
          0,
          0,
          0,
          0,
          0,
          0,
          0,
          0,
          0,
          0,
          0,
          0,
          0,
          0,
          0,
          0,
          0,
          0,
          0,
          0,
          0,
          0,
          0,
          0,
          0,
          0,
          0,
          0,
          0,
          0,
          0,
          0,
          0,
          0,
          0,
          0,
          0,
          0,
          0,
          0,
          0,
          0,
          0,
          0,
          0,
          0,
          0,
          0,
          0,
          0,
          0,
          0
         ]
        },
        {
         "name": "q2",
         "type": "scatter",
         "x": [
          1,
          2,
          3,
          4,
          5,
          6,
          7,
          8,
          9,
          10,
          11,
          12,
          13,
          14,
          15,
          16,
          17,
          18,
          19,
          20,
          21,
          22,
          23,
          24,
          25,
          26,
          27,
          28,
          29,
          30,
          31,
          32,
          33,
          34,
          35,
          36,
          37,
          38,
          39,
          40,
          41,
          42,
          43,
          44,
          45,
          46,
          47,
          48,
          49,
          50,
          51,
          52,
          53,
          54,
          55,
          56,
          57,
          58,
          59,
          60,
          61,
          62,
          63,
          64
         ],
         "y": [
          0.08706516632652007,
          0.14100111275524851,
          0.1818748951177529,
          0.21814513524123777,
          0.2541286812951997,
          0.29008508697724683,
          0.3220789983597277,
          0.3529838545367808,
          0.3810603781533003,
          0.40902222414201067,
          0.4360089280355837,
          0.4611592608491726,
          0.48551067285569083,
          0.5094484808845774,
          0.531699381008391,
          0.552063069637225,
          0.5720613188921071,
          0.591419666983814,
          0.6106728939166959,
          0.629141725875363,
          0.6474568898127658,
          0.6656948374807772,
          0.6838395140115037,
          0.7019547566177592,
          0.7193502059801324,
          0.7351967428495632,
          0.7508104841345412,
          0.7648688145276676,
          0.7787440429750587,
          0.791545888826156,
          0.803665785050548,
          0.8152119108771347,
          0.8263880102246572,
          0.8366161078489572,
          0.8465571291449749,
          0.856213749924026,
          0.8658439948486809,
          0.8753805863772917,
          0.8847069355882522,
          0.8927630389418465,
          0.9008080567914193,
          0.9086952017733748,
          0.9163166769175723,
          0.9229484841337767,
          0.9295607961532536,
          0.9360656934613492,
          0.9425331294110271,
          0.9486595905473524,
          0.9547680855219876,
          0.9598291914959657,
          0.963441919030714,
          0.9669705496384022,
          0.9704605721113947,
          0.9739475365143122,
          0.9773924524536998,
          0.9807957021883166,
          0.9841794567262059,
          0.9873185656581023,
          0.9898701428768564,
          0.9923154521605073,
          0.9946502886627021,
          0.9968543926691944,
          0.998866602778486,
          1
         ]
        },
        {
         "name": "s4",
         "type": "scatter",
         "x": [
          1,
          2,
          3,
          4,
          5,
          6,
          7,
          8,
          9,
          10,
          11,
          12,
          13,
          14,
          15,
          16,
          17,
          18,
          19,
          20,
          21,
          22,
          23,
          24,
          25,
          26,
          27,
          28,
          29,
          30,
          31,
          32,
          33,
          34,
          35,
          36,
          37,
          38,
          39,
          40,
          41,
          42,
          43,
          44,
          45,
          46,
          47,
          48,
          49,
          50,
          51,
          52,
          53,
          54,
          55,
          56,
          57,
          58,
          59,
          60,
          61,
          62,
          63,
          64
         ],
         "y": [
          0.17961756145775176,
          0.2716395875656647,
          0.3345165876110181,
          0.3971846492853714,
          0.45652908950725896,
          0.5144976017440724,
          0.5627032496485113,
          0.6061902684138669,
          0.6486935878127624,
          0.6846397455205708,
          0.7174321223978493,
          0.7484866825247136,
          0.778684532774079,
          0.8086324702114248,
          0.8362964735394253,
          0.8632248136210301,
          0.884860882389279,
          0.9056458713558941,
          0.9229614824615315,
          0.936937520233085,
          0.9501162767057173,
          0.9581300641359474,
          0.9653681522247399,
          0.9722793831313542,
          0.9786104034418529,
          0.9845000883609127,
          0.9882750542285778,
          0.9918542185689283,
          0.9950342730868296,
          0.9971699485317228,
          0.9991292149328376,
          0.9999999999999997,
          0.9999999999999997,
          0.9999999999999997,
          0.9999999999999997,
          0.9999999999999997,
          0.9999999999999997,
          0.9999999999999997,
          0.9999999999999997,
          0.9999999999999997,
          0.9999999999999997,
          0.9999999999999997,
          0.9999999999999997,
          0.9999999999999997,
          0.9999999999999997,
          0.9999999999999997,
          0.9999999999999997,
          0.9999999999999997,
          0.9999999999999997,
          0.9999999999999997,
          0.9999999999999997,
          0.9999999999999997,
          0.9999999999999997,
          0.9999999999999997,
          0.9999999999999997,
          0.9999999999999997,
          0.9999999999999997,
          0.9999999999999997,
          0.9999999999999997,
          0.9999999999999997,
          0.9999999999999997,
          0.9999999999999997,
          0.9999999999999997,
          0.9999999999999997
         ]
        },
        {
         "name": "n4",
         "type": "scatter",
         "x": [
          1,
          2,
          3,
          4,
          5,
          6,
          7,
          8,
          9,
          10,
          11,
          12,
          13,
          14,
          15,
          16,
          17,
          18,
          19,
          20,
          21,
          22,
          23,
          24,
          25,
          26,
          27,
          28,
          29,
          30,
          31,
          32,
          33,
          34,
          35,
          36,
          37,
          38,
          39,
          40,
          41,
          42,
          43,
          44,
          45,
          46,
          47,
          48,
          49,
          50,
          51,
          52,
          53,
          54,
          55,
          56,
          57,
          58,
          59,
          60,
          61,
          62,
          63,
          64
         ],
         "y": [
          0.19012620417689546,
          0.33490921342748003,
          0.46123926825655887,
          0.5144636921556971,
          0.5510471109715033,
          0.5873969627040427,
          0.6237185207726017,
          0.6512843446826533,
          0.6773168252314811,
          0.698787962951468,
          0.7180989660398079,
          0.7368518910416774,
          0.7544228337952226,
          0.7706749453542525,
          0.7861663038052379,
          0.8008466734590707,
          0.8124727709573045,
          0.8226007478188616,
          0.832398439460076,
          0.8421594648224586,
          0.8516326454604692,
          0.8610708920847897,
          0.8702842329515517,
          0.878929679562707,
          0.8871827681192768,
          0.895252236570831,
          0.9024292997635747,
          0.9094761543598371,
          0.915498662835666,
          0.9212451637322576,
          0.9266414583593774,
          0.9319745253088267,
          0.9368961792871324,
          0.9417488313706288,
          0.9464816684484938,
          0.9511720650303882,
          0.9555399715850774,
          0.9589883340604035,
          0.962267511973561,
          0.9654150377359525,
          0.9685449521360705,
          0.9713382296769931,
          0.9739253676660585,
          0.9763678615157955,
          0.9788037150158228,
          0.9807972634830135,
          0.9827125713079727,
          0.9845577223946949,
          0.9863621652505881,
          0.9879850089774641,
          0.9893999808873413,
          0.9907589428909716,
          0.9918932878479002,
          0.9930033810928457,
          0.9941039468795121,
          0.9950592911051361,
          0.995990383618777,
          0.9967857820296547,
          0.9975566400176923,
          0.998326920584016,
          0.9990723720166426,
          0.999596093511137,
          0.9998339912572579,
          1
         ]
        },
        {
         "name": "r4",
         "type": "scatter",
         "x": [
          1,
          2,
          3,
          4,
          5,
          6,
          7,
          8,
          9,
          10,
          11,
          12,
          13,
          14,
          15,
          16,
          17,
          18,
          19,
          20,
          21,
          22,
          23,
          24,
          25,
          26,
          27,
          28,
          29,
          30,
          31,
          32,
          33,
          34,
          35,
          36,
          37,
          38,
          39,
          40,
          41,
          42,
          43,
          44,
          45,
          46,
          47,
          48,
          49,
          50,
          51,
          52,
          53,
          54,
          55,
          56,
          57,
          58,
          59,
          60,
          61,
          62,
          63,
          64
         ],
         "y": [
          0.11959373511207225,
          0.201868078461596,
          0.2569058416753658,
          0.3049905532054398,
          0.35269422964290065,
          0.38380298904056803,
          0.41373796863721723,
          0.44235346444774837,
          0.4684857617490613,
          0.49150363636886496,
          0.5127236963567293,
          0.5318190663250291,
          0.5506340519798966,
          0.5676910040250724,
          0.584052986404476,
          0.6001580696522562,
          0.6161653778574036,
          0.6315390654431364,
          0.6466419545039305,
          0.6615895537911313,
          0.6764647803752067,
          0.6912944744639385,
          0.7059521036492136,
          0.7192202727923687,
          0.7316621469673917,
          0.7436146666398262,
          0.7552460623977314,
          0.7665419555583671,
          0.7777463044388908,
          0.7889084758500435,
          0.8000514756842094,
          0.810994132538863,
          0.8206810511008796,
          0.8303607803215263,
          0.8399259593696766,
          0.8493919255069202,
          0.8586537143492541,
          0.8674386102140408,
          0.8749941287045475,
          0.8824327005754347,
          0.8898631245261024,
          0.8971171699684913,
          0.9038976774593057,
          0.9105430253323631,
          0.9170661544021295,
          0.9233352600768204,
          0.9295890284899219,
          0.9357325603353491,
          0.9418564413143649,
          0.9477162338203872,
          0.9535146772800516,
          0.958734139114714,
          0.9639071098751834,
          0.9690134594056236,
          0.9734363422164835,
          0.977779662982848,
          0.9819446880832352,
          0.9853994062562607,
          0.9886997932345422,
          0.9916555711164855,
          0.9939470538558355,
          0.9961513059198954,
          0.9980981795629073,
          1
         ]
        }
       ],
       "layout": {
        "template": {
         "data": {
          "bar": [
           {
            "error_x": {
             "color": "#2a3f5f"
            },
            "error_y": {
             "color": "#2a3f5f"
            },
            "marker": {
             "line": {
              "color": "#E5ECF6",
              "width": 0.5
             }
            },
            "type": "bar"
           }
          ],
          "barpolar": [
           {
            "marker": {
             "line": {
              "color": "#E5ECF6",
              "width": 0.5
             }
            },
            "type": "barpolar"
           }
          ],
          "carpet": [
           {
            "aaxis": {
             "endlinecolor": "#2a3f5f",
             "gridcolor": "white",
             "linecolor": "white",
             "minorgridcolor": "white",
             "startlinecolor": "#2a3f5f"
            },
            "baxis": {
             "endlinecolor": "#2a3f5f",
             "gridcolor": "white",
             "linecolor": "white",
             "minorgridcolor": "white",
             "startlinecolor": "#2a3f5f"
            },
            "type": "carpet"
           }
          ],
          "choropleth": [
           {
            "colorbar": {
             "outlinewidth": 0,
             "ticks": ""
            },
            "type": "choropleth"
           }
          ],
          "contour": [
           {
            "colorbar": {
             "outlinewidth": 0,
             "ticks": ""
            },
            "colorscale": [
             [
              0,
              "#0d0887"
             ],
             [
              0.1111111111111111,
              "#46039f"
             ],
             [
              0.2222222222222222,
              "#7201a8"
             ],
             [
              0.3333333333333333,
              "#9c179e"
             ],
             [
              0.4444444444444444,
              "#bd3786"
             ],
             [
              0.5555555555555556,
              "#d8576b"
             ],
             [
              0.6666666666666666,
              "#ed7953"
             ],
             [
              0.7777777777777778,
              "#fb9f3a"
             ],
             [
              0.8888888888888888,
              "#fdca26"
             ],
             [
              1,
              "#f0f921"
             ]
            ],
            "type": "contour"
           }
          ],
          "contourcarpet": [
           {
            "colorbar": {
             "outlinewidth": 0,
             "ticks": ""
            },
            "type": "contourcarpet"
           }
          ],
          "heatmap": [
           {
            "colorbar": {
             "outlinewidth": 0,
             "ticks": ""
            },
            "colorscale": [
             [
              0,
              "#0d0887"
             ],
             [
              0.1111111111111111,
              "#46039f"
             ],
             [
              0.2222222222222222,
              "#7201a8"
             ],
             [
              0.3333333333333333,
              "#9c179e"
             ],
             [
              0.4444444444444444,
              "#bd3786"
             ],
             [
              0.5555555555555556,
              "#d8576b"
             ],
             [
              0.6666666666666666,
              "#ed7953"
             ],
             [
              0.7777777777777778,
              "#fb9f3a"
             ],
             [
              0.8888888888888888,
              "#fdca26"
             ],
             [
              1,
              "#f0f921"
             ]
            ],
            "type": "heatmap"
           }
          ],
          "heatmapgl": [
           {
            "colorbar": {
             "outlinewidth": 0,
             "ticks": ""
            },
            "colorscale": [
             [
              0,
              "#0d0887"
             ],
             [
              0.1111111111111111,
              "#46039f"
             ],
             [
              0.2222222222222222,
              "#7201a8"
             ],
             [
              0.3333333333333333,
              "#9c179e"
             ],
             [
              0.4444444444444444,
              "#bd3786"
             ],
             [
              0.5555555555555556,
              "#d8576b"
             ],
             [
              0.6666666666666666,
              "#ed7953"
             ],
             [
              0.7777777777777778,
              "#fb9f3a"
             ],
             [
              0.8888888888888888,
              "#fdca26"
             ],
             [
              1,
              "#f0f921"
             ]
            ],
            "type": "heatmapgl"
           }
          ],
          "histogram": [
           {
            "marker": {
             "colorbar": {
              "outlinewidth": 0,
              "ticks": ""
             }
            },
            "type": "histogram"
           }
          ],
          "histogram2d": [
           {
            "colorbar": {
             "outlinewidth": 0,
             "ticks": ""
            },
            "colorscale": [
             [
              0,
              "#0d0887"
             ],
             [
              0.1111111111111111,
              "#46039f"
             ],
             [
              0.2222222222222222,
              "#7201a8"
             ],
             [
              0.3333333333333333,
              "#9c179e"
             ],
             [
              0.4444444444444444,
              "#bd3786"
             ],
             [
              0.5555555555555556,
              "#d8576b"
             ],
             [
              0.6666666666666666,
              "#ed7953"
             ],
             [
              0.7777777777777778,
              "#fb9f3a"
             ],
             [
              0.8888888888888888,
              "#fdca26"
             ],
             [
              1,
              "#f0f921"
             ]
            ],
            "type": "histogram2d"
           }
          ],
          "histogram2dcontour": [
           {
            "colorbar": {
             "outlinewidth": 0,
             "ticks": ""
            },
            "colorscale": [
             [
              0,
              "#0d0887"
             ],
             [
              0.1111111111111111,
              "#46039f"
             ],
             [
              0.2222222222222222,
              "#7201a8"
             ],
             [
              0.3333333333333333,
              "#9c179e"
             ],
             [
              0.4444444444444444,
              "#bd3786"
             ],
             [
              0.5555555555555556,
              "#d8576b"
             ],
             [
              0.6666666666666666,
              "#ed7953"
             ],
             [
              0.7777777777777778,
              "#fb9f3a"
             ],
             [
              0.8888888888888888,
              "#fdca26"
             ],
             [
              1,
              "#f0f921"
             ]
            ],
            "type": "histogram2dcontour"
           }
          ],
          "mesh3d": [
           {
            "colorbar": {
             "outlinewidth": 0,
             "ticks": ""
            },
            "type": "mesh3d"
           }
          ],
          "parcoords": [
           {
            "line": {
             "colorbar": {
              "outlinewidth": 0,
              "ticks": ""
             }
            },
            "type": "parcoords"
           }
          ],
          "pie": [
           {
            "automargin": true,
            "type": "pie"
           }
          ],
          "scatter": [
           {
            "marker": {
             "colorbar": {
              "outlinewidth": 0,
              "ticks": ""
             }
            },
            "type": "scatter"
           }
          ],
          "scatter3d": [
           {
            "line": {
             "colorbar": {
              "outlinewidth": 0,
              "ticks": ""
             }
            },
            "marker": {
             "colorbar": {
              "outlinewidth": 0,
              "ticks": ""
             }
            },
            "type": "scatter3d"
           }
          ],
          "scattercarpet": [
           {
            "marker": {
             "colorbar": {
              "outlinewidth": 0,
              "ticks": ""
             }
            },
            "type": "scattercarpet"
           }
          ],
          "scattergeo": [
           {
            "marker": {
             "colorbar": {
              "outlinewidth": 0,
              "ticks": ""
             }
            },
            "type": "scattergeo"
           }
          ],
          "scattergl": [
           {
            "marker": {
             "colorbar": {
              "outlinewidth": 0,
              "ticks": ""
             }
            },
            "type": "scattergl"
           }
          ],
          "scattermapbox": [
           {
            "marker": {
             "colorbar": {
              "outlinewidth": 0,
              "ticks": ""
             }
            },
            "type": "scattermapbox"
           }
          ],
          "scatterpolar": [
           {
            "marker": {
             "colorbar": {
              "outlinewidth": 0,
              "ticks": ""
             }
            },
            "type": "scatterpolar"
           }
          ],
          "scatterpolargl": [
           {
            "marker": {
             "colorbar": {
              "outlinewidth": 0,
              "ticks": ""
             }
            },
            "type": "scatterpolargl"
           }
          ],
          "scatterternary": [
           {
            "marker": {
             "colorbar": {
              "outlinewidth": 0,
              "ticks": ""
             }
            },
            "type": "scatterternary"
           }
          ],
          "surface": [
           {
            "colorbar": {
             "outlinewidth": 0,
             "ticks": ""
            },
            "colorscale": [
             [
              0,
              "#0d0887"
             ],
             [
              0.1111111111111111,
              "#46039f"
             ],
             [
              0.2222222222222222,
              "#7201a8"
             ],
             [
              0.3333333333333333,
              "#9c179e"
             ],
             [
              0.4444444444444444,
              "#bd3786"
             ],
             [
              0.5555555555555556,
              "#d8576b"
             ],
             [
              0.6666666666666666,
              "#ed7953"
             ],
             [
              0.7777777777777778,
              "#fb9f3a"
             ],
             [
              0.8888888888888888,
              "#fdca26"
             ],
             [
              1,
              "#f0f921"
             ]
            ],
            "type": "surface"
           }
          ],
          "table": [
           {
            "cells": {
             "fill": {
              "color": "#EBF0F8"
             },
             "line": {
              "color": "white"
             }
            },
            "header": {
             "fill": {
              "color": "#C8D4E3"
             },
             "line": {
              "color": "white"
             }
            },
            "type": "table"
           }
          ]
         },
         "layout": {
          "annotationdefaults": {
           "arrowcolor": "#2a3f5f",
           "arrowhead": 0,
           "arrowwidth": 1
          },
          "autotypenumbers": "strict",
          "coloraxis": {
           "colorbar": {
            "outlinewidth": 0,
            "ticks": ""
           }
          },
          "colorscale": {
           "diverging": [
            [
             0,
             "#8e0152"
            ],
            [
             0.1,
             "#c51b7d"
            ],
            [
             0.2,
             "#de77ae"
            ],
            [
             0.3,
             "#f1b6da"
            ],
            [
             0.4,
             "#fde0ef"
            ],
            [
             0.5,
             "#f7f7f7"
            ],
            [
             0.6,
             "#e6f5d0"
            ],
            [
             0.7,
             "#b8e186"
            ],
            [
             0.8,
             "#7fbc41"
            ],
            [
             0.9,
             "#4d9221"
            ],
            [
             1,
             "#276419"
            ]
           ],
           "sequential": [
            [
             0,
             "#0d0887"
            ],
            [
             0.1111111111111111,
             "#46039f"
            ],
            [
             0.2222222222222222,
             "#7201a8"
            ],
            [
             0.3333333333333333,
             "#9c179e"
            ],
            [
             0.4444444444444444,
             "#bd3786"
            ],
            [
             0.5555555555555556,
             "#d8576b"
            ],
            [
             0.6666666666666666,
             "#ed7953"
            ],
            [
             0.7777777777777778,
             "#fb9f3a"
            ],
            [
             0.8888888888888888,
             "#fdca26"
            ],
            [
             1,
             "#f0f921"
            ]
           ],
           "sequentialminus": [
            [
             0,
             "#0d0887"
            ],
            [
             0.1111111111111111,
             "#46039f"
            ],
            [
             0.2222222222222222,
             "#7201a8"
            ],
            [
             0.3333333333333333,
             "#9c179e"
            ],
            [
             0.4444444444444444,
             "#bd3786"
            ],
            [
             0.5555555555555556,
             "#d8576b"
            ],
            [
             0.6666666666666666,
             "#ed7953"
            ],
            [
             0.7777777777777778,
             "#fb9f3a"
            ],
            [
             0.8888888888888888,
             "#fdca26"
            ],
            [
             1,
             "#f0f921"
            ]
           ]
          },
          "colorway": [
           "#636efa",
           "#EF553B",
           "#00cc96",
           "#ab63fa",
           "#FFA15A",
           "#19d3f3",
           "#FF6692",
           "#B6E880",
           "#FF97FF",
           "#FECB52"
          ],
          "font": {
           "color": "#2a3f5f"
          },
          "geo": {
           "bgcolor": "white",
           "lakecolor": "white",
           "landcolor": "#E5ECF6",
           "showlakes": true,
           "showland": true,
           "subunitcolor": "white"
          },
          "hoverlabel": {
           "align": "left"
          },
          "hovermode": "closest",
          "mapbox": {
           "style": "light"
          },
          "paper_bgcolor": "white",
          "plot_bgcolor": "#E5ECF6",
          "polar": {
           "angularaxis": {
            "gridcolor": "white",
            "linecolor": "white",
            "ticks": ""
           },
           "bgcolor": "#E5ECF6",
           "radialaxis": {
            "gridcolor": "white",
            "linecolor": "white",
            "ticks": ""
           }
          },
          "scene": {
           "xaxis": {
            "backgroundcolor": "#E5ECF6",
            "gridcolor": "white",
            "gridwidth": 2,
            "linecolor": "white",
            "showbackground": true,
            "ticks": "",
            "zerolinecolor": "white"
           },
           "yaxis": {
            "backgroundcolor": "#E5ECF6",
            "gridcolor": "white",
            "gridwidth": 2,
            "linecolor": "white",
            "showbackground": true,
            "ticks": "",
            "zerolinecolor": "white"
           },
           "zaxis": {
            "backgroundcolor": "#E5ECF6",
            "gridcolor": "white",
            "gridwidth": 2,
            "linecolor": "white",
            "showbackground": true,
            "ticks": "",
            "zerolinecolor": "white"
           }
          },
          "shapedefaults": {
           "line": {
            "color": "#2a3f5f"
           }
          },
          "ternary": {
           "aaxis": {
            "gridcolor": "white",
            "linecolor": "white",
            "ticks": ""
           },
           "baxis": {
            "gridcolor": "white",
            "linecolor": "white",
            "ticks": ""
           },
           "bgcolor": "#E5ECF6",
           "caxis": {
            "gridcolor": "white",
            "linecolor": "white",
            "ticks": ""
           }
          },
          "title": {
           "x": 0.05
          },
          "xaxis": {
           "automargin": true,
           "gridcolor": "white",
           "linecolor": "white",
           "ticks": "",
           "title": {
            "standoff": 15
           },
           "zerolinecolor": "white",
           "zerolinewidth": 2
          },
          "yaxis": {
           "automargin": true,
           "gridcolor": "white",
           "linecolor": "white",
           "ticks": "",
           "title": {
            "standoff": 15
           },
           "zerolinecolor": "white",
           "zerolinewidth": 2
          }
         }
        },
        "title": {
         "text": "Cumulative Sum of Capture Frequencies, All Games"
        }
       }
      },
      "text/html": [
       "<div>                            <div id=\"5f547d92-e302-4629-be7b-8b60e49ba554\" class=\"plotly-graph-div\" style=\"height:525px; width:100%;\"></div>            <script type=\"text/javascript\">                require([\"plotly\"], function(Plotly) {                    window.PLOTLYENV=window.PLOTLYENV || {};                                    if (document.getElementById(\"5f547d92-e302-4629-be7b-8b60e49ba554\")) {                    Plotly.newPlot(                        \"5f547d92-e302-4629-be7b-8b60e49ba554\",                        [{\"name\": \"r3\", \"type\": \"scatter\", \"x\": [1, 2, 3, 4, 5, 6, 7, 8, 9, 10, 11, 12, 13, 14, 15, 16, 17, 18, 19, 20, 21, 22, 23, 24, 25, 26, 27, 28, 29, 30, 31, 32, 33, 34, 35, 36, 37, 38, 39, 40, 41, 42, 43, 44, 45, 46, 47, 48, 49, 50, 51, 52, 53, 54, 55, 56, 57, 58, 59, 60, 61, 62, 63, 64], \"y\": [0.09694534931506532, 0.1742820197175568, 0.24930491882573094, 0.3006118938222677, 0.3459370704245451, 0.3865003444711569, 0.42174203720288495, 0.45617479027104113, 0.4793440083099323, 0.5004765145727283, 0.5215075558949046, 0.5413566928174405, 0.5608875356111827, 0.5796275078403674, 0.5982868640893336, 0.6157884080706789, 0.6332482541312215, 0.649480791389472, 0.665356116459513, 0.6805489855590835, 0.6955324384341783, 0.7099270240054931, 0.7234227877283946, 0.7367517597680855, 0.7485147432265203, 0.760172091952255, 0.7715449681960692, 0.7824860393044601, 0.7933844858715862, 0.803706574511173, 0.8140143005335945, 0.8237966327539021, 0.8330897093701252, 0.8423809327454236, 0.8510114757311151, 0.8594617910368929, 0.8676049316594243, 0.8755525553644143, 0.8830146299471687, 0.8903367848401186, 0.8974550832313665, 0.9044603339262159, 0.9111204184988655, 0.9177415850120992, 0.9243219802249926, 0.9305446999394452, 0.9366446424426456, 0.9425953990514185, 0.948406235970387, 0.9539085082754156, 0.959232406141455, 0.9644872707830544, 0.9691254695070054, 0.9732192787093659, 0.9766426780072656, 0.9799715620180125, 0.9831373608273979, 0.9862915768810048, 0.9893874158454878, 0.9923873495921248, 0.9945542515431706, 0.9965084940981226, 0.9983283766860438, 1.0]}, {\"name\": \"n3\", \"type\": \"scatter\", \"x\": [1, 2, 3, 4, 5, 6, 7, 8, 9, 10, 11, 12, 13, 14, 15, 16, 17, 18, 19, 20, 21, 22, 23, 24, 25, 26, 27, 28, 29, 30, 31, 32, 33, 34, 35, 36, 37, 38, 39, 40, 41, 42, 43, 44, 45, 46, 47, 48, 49, 50, 51, 52, 53, 54, 55, 56, 57, 58, 59, 60, 61, 62, 63, 64], \"y\": [0.20398354177663552, 0.3430132900042072, 0.46304850979871376, 0.510069613776341, 0.5470038065500337, 0.5809636787499428, 0.6135542642622871, 0.6443844180308386, 0.6680115881605246, 0.6898080208729733, 0.7115347058935126, 0.7308704400353985, 0.7482178069763317, 0.7645440677077115, 0.7805913376714539, 0.795892307331766, 0.8107463337823226, 0.8243683370029921, 0.837531958392433, 0.8493714895986664, 0.859951656479784, 0.8705072721733494, 0.880385498283091, 0.8897958568755044, 0.8991300509883529, 0.9072244101298201, 0.9148631773477354, 0.9219202488151264, 0.9277611995263855, 0.9332450420550685, 0.938070466372127, 0.9428855680307829, 0.9472283383198286, 0.9507670572165429, 0.9542801089626345, 0.9577820010780206, 0.961122078548177, 0.9641848391953016, 0.9669825586131706, 0.9697328496005413, 0.9724683540772272, 0.9751087227021487, 0.9776966410627542, 0.9799436327053068, 0.9820321575918413, 0.983945755267067, 0.9857703548874163, 0.9874267230748802, 0.9890766744746885, 0.9904682804236644, 0.9917639135485731, 0.9929942628338545, 0.9939534330929923, 0.9947354442146803, 0.9954786756196666, 0.9962174431723708, 0.9969425401774608, 0.9976620573671979, 0.9982457060530956, 0.9987113416442827, 0.9991722343924199, 0.9996169456760341, 0.9998351164563266, 1.0000000000000004]}, {\"name\": \"s3\", \"type\": \"scatter\", \"x\": [1, 2, 3, 4, 5, 6, 7, 8, 9, 10, 11, 12, 13, 14, 15, 16, 17, 18, 19, 20, 21, 22, 23, 24, 25, 26, 27, 28, 29, 30, 31, 32, 33, 34, 35, 36, 37, 38, 39, 40, 41, 42, 43, 44, 45, 46, 47, 48, 49, 50, 51, 52, 53, 54, 55, 56, 57, 58, 59, 60, 61, 62, 63, 64], \"y\": [0.13373260281974583, 0.2199572750653262, 0.3042625704983265, 0.3796874327157169, 0.4383749297123025, 0.49636625865997475, 0.5541940770484222, 0.606287168228026, 0.6508712554053656, 0.6938211731196128, 0.7352548736444068, 0.7703915453807328, 0.7981611927034347, 0.8231770600926266, 0.8475594800863483, 0.8667616733745519, 0.8840441778071234, 0.8998488463456323, 0.9148734072542518, 0.928127435886074, 0.9396942477359713, 0.9502731312833765, 0.9596019703646469, 0.9680801800862858, 0.9752234696316578, 0.9817773098518854, 0.9863880579875842, 0.9907329454430167, 0.9940037807136173, 0.997026853800965, 0.9987599409115275, 0.9999999999999999, 0.9999999999999999, 0.9999999999999999, 0.9999999999999999, 0.9999999999999999, 0.9999999999999999, 0.9999999999999999, 0.9999999999999999, 0.9999999999999999, 0.9999999999999999, 0.9999999999999999, 0.9999999999999999, 0.9999999999999999, 0.9999999999999999, 0.9999999999999999, 0.9999999999999999, 0.9999999999999999, 0.9999999999999999, 0.9999999999999999, 0.9999999999999999, 0.9999999999999999, 0.9999999999999999, 0.9999999999999999, 0.9999999999999999, 0.9999999999999999, 0.9999999999999999, 0.9999999999999999, 0.9999999999999999, 0.9999999999999999, 0.9999999999999999, 0.9999999999999999, 0.9999999999999999, 0.9999999999999999]}, {\"name\": \"k2\", \"type\": \"scatter\", \"x\": [1, 2, 3, 4, 5, 6, 7, 8, 9, 10, 11, 12, 13, 14, 15, 16, 17, 18, 19, 20, 21, 22, 23, 24, 25, 26, 27, 28, 29, 30, 31, 32, 33, 34, 35, 36, 37, 38, 39, 40, 41, 42, 43, 44, 45, 46, 47, 48, 49, 50, 51, 52, 53, 54, 55, 56, 57, 58, 59, 60, 61, 62, 63, 64], \"y\": [0.0, 0.0, 0.0, 0.0, 0.0, 0.0, 0.0, 0.0, 0.0, 0.0, 0.0, 0.0, 0.0, 0.0, 0.0, 0.0, 0.0, 0.0, 0.0, 0.0, 0.0, 0.0, 0.0, 0.0, 0.0, 0.0, 0.0, 0.0, 0.0, 0.0, 0.0, 0.0, 0.0, 0.0, 0.0, 0.0, 0.0, 0.0, 0.0, 0.0, 0.0, 0.0, 0.0, 0.0, 0.0, 0.0, 0.0, 0.0, 0.0, 0.0, 0.0, 0.0, 0.0, 0.0, 0.0, 0.0, 0.0, 0.0, 0.0, 0.0, 0.0, 0.0, 0.0, 0.0]}, {\"name\": \"q2\", \"type\": \"scatter\", \"x\": [1, 2, 3, 4, 5, 6, 7, 8, 9, 10, 11, 12, 13, 14, 15, 16, 17, 18, 19, 20, 21, 22, 23, 24, 25, 26, 27, 28, 29, 30, 31, 32, 33, 34, 35, 36, 37, 38, 39, 40, 41, 42, 43, 44, 45, 46, 47, 48, 49, 50, 51, 52, 53, 54, 55, 56, 57, 58, 59, 60, 61, 62, 63, 64], \"y\": [0.08706516632652007, 0.14100111275524851, 0.1818748951177529, 0.21814513524123777, 0.2541286812951997, 0.29008508697724683, 0.3220789983597277, 0.3529838545367808, 0.3810603781533003, 0.40902222414201067, 0.4360089280355837, 0.4611592608491726, 0.48551067285569083, 0.5094484808845774, 0.531699381008391, 0.552063069637225, 0.5720613188921071, 0.591419666983814, 0.6106728939166959, 0.629141725875363, 0.6474568898127658, 0.6656948374807772, 0.6838395140115037, 0.7019547566177592, 0.7193502059801324, 0.7351967428495632, 0.7508104841345412, 0.7648688145276676, 0.7787440429750587, 0.791545888826156, 0.803665785050548, 0.8152119108771347, 0.8263880102246572, 0.8366161078489572, 0.8465571291449749, 0.856213749924026, 0.8658439948486809, 0.8753805863772917, 0.8847069355882522, 0.8927630389418465, 0.9008080567914193, 0.9086952017733748, 0.9163166769175723, 0.9229484841337767, 0.9295607961532536, 0.9360656934613492, 0.9425331294110271, 0.9486595905473524, 0.9547680855219876, 0.9598291914959657, 0.963441919030714, 0.9669705496384022, 0.9704605721113947, 0.9739475365143122, 0.9773924524536998, 0.9807957021883166, 0.9841794567262059, 0.9873185656581023, 0.9898701428768564, 0.9923154521605073, 0.9946502886627021, 0.9968543926691944, 0.998866602778486, 1.0]}, {\"name\": \"s4\", \"type\": \"scatter\", \"x\": [1, 2, 3, 4, 5, 6, 7, 8, 9, 10, 11, 12, 13, 14, 15, 16, 17, 18, 19, 20, 21, 22, 23, 24, 25, 26, 27, 28, 29, 30, 31, 32, 33, 34, 35, 36, 37, 38, 39, 40, 41, 42, 43, 44, 45, 46, 47, 48, 49, 50, 51, 52, 53, 54, 55, 56, 57, 58, 59, 60, 61, 62, 63, 64], \"y\": [0.17961756145775176, 0.2716395875656647, 0.3345165876110181, 0.3971846492853714, 0.45652908950725896, 0.5144976017440724, 0.5627032496485113, 0.6061902684138669, 0.6486935878127624, 0.6846397455205708, 0.7174321223978493, 0.7484866825247136, 0.778684532774079, 0.8086324702114248, 0.8362964735394253, 0.8632248136210301, 0.884860882389279, 0.9056458713558941, 0.9229614824615315, 0.936937520233085, 0.9501162767057173, 0.9581300641359474, 0.9653681522247399, 0.9722793831313542, 0.9786104034418529, 0.9845000883609127, 0.9882750542285778, 0.9918542185689283, 0.9950342730868296, 0.9971699485317228, 0.9991292149328376, 0.9999999999999997, 0.9999999999999997, 0.9999999999999997, 0.9999999999999997, 0.9999999999999997, 0.9999999999999997, 0.9999999999999997, 0.9999999999999997, 0.9999999999999997, 0.9999999999999997, 0.9999999999999997, 0.9999999999999997, 0.9999999999999997, 0.9999999999999997, 0.9999999999999997, 0.9999999999999997, 0.9999999999999997, 0.9999999999999997, 0.9999999999999997, 0.9999999999999997, 0.9999999999999997, 0.9999999999999997, 0.9999999999999997, 0.9999999999999997, 0.9999999999999997, 0.9999999999999997, 0.9999999999999997, 0.9999999999999997, 0.9999999999999997, 0.9999999999999997, 0.9999999999999997, 0.9999999999999997, 0.9999999999999997]}, {\"name\": \"n4\", \"type\": \"scatter\", \"x\": [1, 2, 3, 4, 5, 6, 7, 8, 9, 10, 11, 12, 13, 14, 15, 16, 17, 18, 19, 20, 21, 22, 23, 24, 25, 26, 27, 28, 29, 30, 31, 32, 33, 34, 35, 36, 37, 38, 39, 40, 41, 42, 43, 44, 45, 46, 47, 48, 49, 50, 51, 52, 53, 54, 55, 56, 57, 58, 59, 60, 61, 62, 63, 64], \"y\": [0.19012620417689546, 0.33490921342748003, 0.46123926825655887, 0.5144636921556971, 0.5510471109715033, 0.5873969627040427, 0.6237185207726017, 0.6512843446826533, 0.6773168252314811, 0.698787962951468, 0.7180989660398079, 0.7368518910416774, 0.7544228337952226, 0.7706749453542525, 0.7861663038052379, 0.8008466734590707, 0.8124727709573045, 0.8226007478188616, 0.832398439460076, 0.8421594648224586, 0.8516326454604692, 0.8610708920847897, 0.8702842329515517, 0.878929679562707, 0.8871827681192768, 0.895252236570831, 0.9024292997635747, 0.9094761543598371, 0.915498662835666, 0.9212451637322576, 0.9266414583593774, 0.9319745253088267, 0.9368961792871324, 0.9417488313706288, 0.9464816684484938, 0.9511720650303882, 0.9555399715850774, 0.9589883340604035, 0.962267511973561, 0.9654150377359525, 0.9685449521360705, 0.9713382296769931, 0.9739253676660585, 0.9763678615157955, 0.9788037150158228, 0.9807972634830135, 0.9827125713079727, 0.9845577223946949, 0.9863621652505881, 0.9879850089774641, 0.9893999808873413, 0.9907589428909716, 0.9918932878479002, 0.9930033810928457, 0.9941039468795121, 0.9950592911051361, 0.995990383618777, 0.9967857820296547, 0.9975566400176923, 0.998326920584016, 0.9990723720166426, 0.999596093511137, 0.9998339912572579, 1.0]}, {\"name\": \"r4\", \"type\": \"scatter\", \"x\": [1, 2, 3, 4, 5, 6, 7, 8, 9, 10, 11, 12, 13, 14, 15, 16, 17, 18, 19, 20, 21, 22, 23, 24, 25, 26, 27, 28, 29, 30, 31, 32, 33, 34, 35, 36, 37, 38, 39, 40, 41, 42, 43, 44, 45, 46, 47, 48, 49, 50, 51, 52, 53, 54, 55, 56, 57, 58, 59, 60, 61, 62, 63, 64], \"y\": [0.11959373511207225, 0.201868078461596, 0.2569058416753658, 0.3049905532054398, 0.35269422964290065, 0.38380298904056803, 0.41373796863721723, 0.44235346444774837, 0.4684857617490613, 0.49150363636886496, 0.5127236963567293, 0.5318190663250291, 0.5506340519798966, 0.5676910040250724, 0.584052986404476, 0.6001580696522562, 0.6161653778574036, 0.6315390654431364, 0.6466419545039305, 0.6615895537911313, 0.6764647803752067, 0.6912944744639385, 0.7059521036492136, 0.7192202727923687, 0.7316621469673917, 0.7436146666398262, 0.7552460623977314, 0.7665419555583671, 0.7777463044388908, 0.7889084758500435, 0.8000514756842094, 0.810994132538863, 0.8206810511008796, 0.8303607803215263, 0.8399259593696766, 0.8493919255069202, 0.8586537143492541, 0.8674386102140408, 0.8749941287045475, 0.8824327005754347, 0.8898631245261024, 0.8971171699684913, 0.9038976774593057, 0.9105430253323631, 0.9170661544021295, 0.9233352600768204, 0.9295890284899219, 0.9357325603353491, 0.9418564413143649, 0.9477162338203872, 0.9535146772800516, 0.958734139114714, 0.9639071098751834, 0.9690134594056236, 0.9734363422164835, 0.977779662982848, 0.9819446880832352, 0.9853994062562607, 0.9886997932345422, 0.9916555711164855, 0.9939470538558355, 0.9961513059198954, 0.9980981795629073, 1.0]}],                        {\"template\": {\"data\": {\"bar\": [{\"error_x\": {\"color\": \"#2a3f5f\"}, \"error_y\": {\"color\": \"#2a3f5f\"}, \"marker\": {\"line\": {\"color\": \"#E5ECF6\", \"width\": 0.5}}, \"type\": \"bar\"}], \"barpolar\": [{\"marker\": {\"line\": {\"color\": \"#E5ECF6\", \"width\": 0.5}}, \"type\": \"barpolar\"}], \"carpet\": [{\"aaxis\": {\"endlinecolor\": \"#2a3f5f\", \"gridcolor\": \"white\", \"linecolor\": \"white\", \"minorgridcolor\": \"white\", \"startlinecolor\": \"#2a3f5f\"}, \"baxis\": {\"endlinecolor\": \"#2a3f5f\", \"gridcolor\": \"white\", \"linecolor\": \"white\", \"minorgridcolor\": \"white\", \"startlinecolor\": \"#2a3f5f\"}, \"type\": \"carpet\"}], \"choropleth\": [{\"colorbar\": {\"outlinewidth\": 0, \"ticks\": \"\"}, \"type\": \"choropleth\"}], \"contour\": [{\"colorbar\": {\"outlinewidth\": 0, \"ticks\": \"\"}, \"colorscale\": [[0.0, \"#0d0887\"], [0.1111111111111111, \"#46039f\"], [0.2222222222222222, \"#7201a8\"], [0.3333333333333333, \"#9c179e\"], [0.4444444444444444, \"#bd3786\"], [0.5555555555555556, \"#d8576b\"], [0.6666666666666666, \"#ed7953\"], [0.7777777777777778, \"#fb9f3a\"], [0.8888888888888888, \"#fdca26\"], [1.0, \"#f0f921\"]], \"type\": \"contour\"}], \"contourcarpet\": [{\"colorbar\": {\"outlinewidth\": 0, \"ticks\": \"\"}, \"type\": \"contourcarpet\"}], \"heatmap\": [{\"colorbar\": {\"outlinewidth\": 0, \"ticks\": \"\"}, \"colorscale\": [[0.0, \"#0d0887\"], [0.1111111111111111, \"#46039f\"], [0.2222222222222222, \"#7201a8\"], [0.3333333333333333, \"#9c179e\"], [0.4444444444444444, \"#bd3786\"], [0.5555555555555556, \"#d8576b\"], [0.6666666666666666, \"#ed7953\"], [0.7777777777777778, \"#fb9f3a\"], [0.8888888888888888, \"#fdca26\"], [1.0, \"#f0f921\"]], \"type\": \"heatmap\"}], \"heatmapgl\": [{\"colorbar\": {\"outlinewidth\": 0, \"ticks\": \"\"}, \"colorscale\": [[0.0, \"#0d0887\"], [0.1111111111111111, \"#46039f\"], [0.2222222222222222, \"#7201a8\"], [0.3333333333333333, \"#9c179e\"], [0.4444444444444444, \"#bd3786\"], [0.5555555555555556, \"#d8576b\"], [0.6666666666666666, \"#ed7953\"], [0.7777777777777778, \"#fb9f3a\"], [0.8888888888888888, \"#fdca26\"], [1.0, \"#f0f921\"]], \"type\": \"heatmapgl\"}], \"histogram\": [{\"marker\": {\"colorbar\": {\"outlinewidth\": 0, \"ticks\": \"\"}}, \"type\": \"histogram\"}], \"histogram2d\": [{\"colorbar\": {\"outlinewidth\": 0, \"ticks\": \"\"}, \"colorscale\": [[0.0, \"#0d0887\"], [0.1111111111111111, \"#46039f\"], [0.2222222222222222, \"#7201a8\"], [0.3333333333333333, \"#9c179e\"], [0.4444444444444444, \"#bd3786\"], [0.5555555555555556, \"#d8576b\"], [0.6666666666666666, \"#ed7953\"], [0.7777777777777778, \"#fb9f3a\"], [0.8888888888888888, \"#fdca26\"], [1.0, \"#f0f921\"]], \"type\": \"histogram2d\"}], \"histogram2dcontour\": [{\"colorbar\": {\"outlinewidth\": 0, \"ticks\": \"\"}, \"colorscale\": [[0.0, \"#0d0887\"], [0.1111111111111111, \"#46039f\"], [0.2222222222222222, \"#7201a8\"], [0.3333333333333333, \"#9c179e\"], [0.4444444444444444, \"#bd3786\"], [0.5555555555555556, \"#d8576b\"], [0.6666666666666666, \"#ed7953\"], [0.7777777777777778, \"#fb9f3a\"], [0.8888888888888888, \"#fdca26\"], [1.0, \"#f0f921\"]], \"type\": \"histogram2dcontour\"}], \"mesh3d\": [{\"colorbar\": {\"outlinewidth\": 0, \"ticks\": \"\"}, \"type\": \"mesh3d\"}], \"parcoords\": [{\"line\": {\"colorbar\": {\"outlinewidth\": 0, \"ticks\": \"\"}}, \"type\": \"parcoords\"}], \"pie\": [{\"automargin\": true, \"type\": \"pie\"}], \"scatter\": [{\"marker\": {\"colorbar\": {\"outlinewidth\": 0, \"ticks\": \"\"}}, \"type\": \"scatter\"}], \"scatter3d\": [{\"line\": {\"colorbar\": {\"outlinewidth\": 0, \"ticks\": \"\"}}, \"marker\": {\"colorbar\": {\"outlinewidth\": 0, \"ticks\": \"\"}}, \"type\": \"scatter3d\"}], \"scattercarpet\": [{\"marker\": {\"colorbar\": {\"outlinewidth\": 0, \"ticks\": \"\"}}, \"type\": \"scattercarpet\"}], \"scattergeo\": [{\"marker\": {\"colorbar\": {\"outlinewidth\": 0, \"ticks\": \"\"}}, \"type\": \"scattergeo\"}], \"scattergl\": [{\"marker\": {\"colorbar\": {\"outlinewidth\": 0, \"ticks\": \"\"}}, \"type\": \"scattergl\"}], \"scattermapbox\": [{\"marker\": {\"colorbar\": {\"outlinewidth\": 0, \"ticks\": \"\"}}, \"type\": \"scattermapbox\"}], \"scatterpolar\": [{\"marker\": {\"colorbar\": {\"outlinewidth\": 0, \"ticks\": \"\"}}, \"type\": \"scatterpolar\"}], \"scatterpolargl\": [{\"marker\": {\"colorbar\": {\"outlinewidth\": 0, \"ticks\": \"\"}}, \"type\": \"scatterpolargl\"}], \"scatterternary\": [{\"marker\": {\"colorbar\": {\"outlinewidth\": 0, \"ticks\": \"\"}}, \"type\": \"scatterternary\"}], \"surface\": [{\"colorbar\": {\"outlinewidth\": 0, \"ticks\": \"\"}, \"colorscale\": [[0.0, \"#0d0887\"], [0.1111111111111111, \"#46039f\"], [0.2222222222222222, \"#7201a8\"], [0.3333333333333333, \"#9c179e\"], [0.4444444444444444, \"#bd3786\"], [0.5555555555555556, \"#d8576b\"], [0.6666666666666666, \"#ed7953\"], [0.7777777777777778, \"#fb9f3a\"], [0.8888888888888888, \"#fdca26\"], [1.0, \"#f0f921\"]], \"type\": \"surface\"}], \"table\": [{\"cells\": {\"fill\": {\"color\": \"#EBF0F8\"}, \"line\": {\"color\": \"white\"}}, \"header\": {\"fill\": {\"color\": \"#C8D4E3\"}, \"line\": {\"color\": \"white\"}}, \"type\": \"table\"}]}, \"layout\": {\"annotationdefaults\": {\"arrowcolor\": \"#2a3f5f\", \"arrowhead\": 0, \"arrowwidth\": 1}, \"autotypenumbers\": \"strict\", \"coloraxis\": {\"colorbar\": {\"outlinewidth\": 0, \"ticks\": \"\"}}, \"colorscale\": {\"diverging\": [[0, \"#8e0152\"], [0.1, \"#c51b7d\"], [0.2, \"#de77ae\"], [0.3, \"#f1b6da\"], [0.4, \"#fde0ef\"], [0.5, \"#f7f7f7\"], [0.6, \"#e6f5d0\"], [0.7, \"#b8e186\"], [0.8, \"#7fbc41\"], [0.9, \"#4d9221\"], [1, \"#276419\"]], \"sequential\": [[0.0, \"#0d0887\"], [0.1111111111111111, \"#46039f\"], [0.2222222222222222, \"#7201a8\"], [0.3333333333333333, \"#9c179e\"], [0.4444444444444444, \"#bd3786\"], [0.5555555555555556, \"#d8576b\"], [0.6666666666666666, \"#ed7953\"], [0.7777777777777778, \"#fb9f3a\"], [0.8888888888888888, \"#fdca26\"], [1.0, \"#f0f921\"]], \"sequentialminus\": [[0.0, \"#0d0887\"], [0.1111111111111111, \"#46039f\"], [0.2222222222222222, \"#7201a8\"], [0.3333333333333333, \"#9c179e\"], [0.4444444444444444, \"#bd3786\"], [0.5555555555555556, \"#d8576b\"], [0.6666666666666666, \"#ed7953\"], [0.7777777777777778, \"#fb9f3a\"], [0.8888888888888888, \"#fdca26\"], [1.0, \"#f0f921\"]]}, \"colorway\": [\"#636efa\", \"#EF553B\", \"#00cc96\", \"#ab63fa\", \"#FFA15A\", \"#19d3f3\", \"#FF6692\", \"#B6E880\", \"#FF97FF\", \"#FECB52\"], \"font\": {\"color\": \"#2a3f5f\"}, \"geo\": {\"bgcolor\": \"white\", \"lakecolor\": \"white\", \"landcolor\": \"#E5ECF6\", \"showlakes\": true, \"showland\": true, \"subunitcolor\": \"white\"}, \"hoverlabel\": {\"align\": \"left\"}, \"hovermode\": \"closest\", \"mapbox\": {\"style\": \"light\"}, \"paper_bgcolor\": \"white\", \"plot_bgcolor\": \"#E5ECF6\", \"polar\": {\"angularaxis\": {\"gridcolor\": \"white\", \"linecolor\": \"white\", \"ticks\": \"\"}, \"bgcolor\": \"#E5ECF6\", \"radialaxis\": {\"gridcolor\": \"white\", \"linecolor\": \"white\", \"ticks\": \"\"}}, \"scene\": {\"xaxis\": {\"backgroundcolor\": \"#E5ECF6\", \"gridcolor\": \"white\", \"gridwidth\": 2, \"linecolor\": \"white\", \"showbackground\": true, \"ticks\": \"\", \"zerolinecolor\": \"white\"}, \"yaxis\": {\"backgroundcolor\": \"#E5ECF6\", \"gridcolor\": \"white\", \"gridwidth\": 2, \"linecolor\": \"white\", \"showbackground\": true, \"ticks\": \"\", \"zerolinecolor\": \"white\"}, \"zaxis\": {\"backgroundcolor\": \"#E5ECF6\", \"gridcolor\": \"white\", \"gridwidth\": 2, \"linecolor\": \"white\", \"showbackground\": true, \"ticks\": \"\", \"zerolinecolor\": \"white\"}}, \"shapedefaults\": {\"line\": {\"color\": \"#2a3f5f\"}}, \"ternary\": {\"aaxis\": {\"gridcolor\": \"white\", \"linecolor\": \"white\", \"ticks\": \"\"}, \"baxis\": {\"gridcolor\": \"white\", \"linecolor\": \"white\", \"ticks\": \"\"}, \"bgcolor\": \"#E5ECF6\", \"caxis\": {\"gridcolor\": \"white\", \"linecolor\": \"white\", \"ticks\": \"\"}}, \"title\": {\"x\": 0.05}, \"xaxis\": {\"automargin\": true, \"gridcolor\": \"white\", \"linecolor\": \"white\", \"ticks\": \"\", \"title\": {\"standoff\": 15}, \"zerolinecolor\": \"white\", \"zerolinewidth\": 2}, \"yaxis\": {\"automargin\": true, \"gridcolor\": \"white\", \"linecolor\": \"white\", \"ticks\": \"\", \"title\": {\"standoff\": 15}, \"zerolinecolor\": \"white\", \"zerolinewidth\": 2}}}, \"title\": {\"text\": \"Cumulative Sum of Capture Frequencies, All Games\"}},                        {\"responsive\": true}                    ).then(function(){\n",
       "                            \n",
       "var gd = document.getElementById('5f547d92-e302-4629-be7b-8b60e49ba554');\n",
       "var x = new MutationObserver(function (mutations, observer) {{\n",
       "        var display = window.getComputedStyle(gd).display;\n",
       "        if (!display || display === 'none') {{\n",
       "            console.log([gd, 'removed!']);\n",
       "            Plotly.purge(gd);\n",
       "            observer.disconnect();\n",
       "        }}\n",
       "}});\n",
       "\n",
       "// Listen for the removal of the full notebook cells\n",
       "var notebookContainer = gd.closest('#notebook-container');\n",
       "if (notebookContainer) {{\n",
       "    x.observe(notebookContainer, {childList: true});\n",
       "}}\n",
       "\n",
       "// Listen for the clearing of the current output cell\n",
       "var outputEl = gd.closest('.output');\n",
       "if (outputEl) {{\n",
       "    x.observe(outputEl, {childList: true});\n",
       "}}\n",
       "\n",
       "                        })                };                });            </script>        </div>"
      ]
     },
     "metadata": {},
     "output_type": "display_data"
    }
   ],
   "source": [
    "new_fig"
   ]
  },
  {
   "cell_type": "code",
   "execution_count": 16,
   "id": "95f9feeb",
   "metadata": {
    "scrolled": false
   },
   "outputs": [
    {
     "data": {
      "application/vnd.plotly.v1+json": {
       "config": {
        "plotlyServerURL": "https://plot.ly"
       },
       "data": [
        {
         "line": {
          "color": "black"
         },
         "name": "r3",
         "type": "scatter",
         "x": [
          1,
          2,
          3,
          4,
          5,
          6,
          7,
          8,
          9,
          10,
          11,
          12,
          13,
          14,
          15,
          16,
          17,
          18,
          19,
          20,
          21,
          22,
          23,
          24,
          25,
          26,
          27,
          28,
          29,
          30,
          31,
          32,
          33,
          34,
          35,
          36,
          37,
          38,
          39,
          40,
          41,
          42,
          43,
          44,
          45,
          46,
          47,
          48,
          49,
          50,
          51,
          52,
          53,
          54,
          55,
          56,
          57,
          58,
          59,
          60,
          61,
          62,
          63,
          64
         ],
         "xaxis": "x",
         "y": [
          0.09694534931506532,
          0.1742820197175568,
          0.24930491882573094,
          0.3006118938222677,
          0.3459370704245451,
          0.3865003444711569,
          0.42174203720288495,
          0.45617479027104113,
          0.4793440083099323,
          0.5004765145727283,
          0.5215075558949046,
          0.5413566928174405,
          0.5608875356111827,
          0.5796275078403674,
          0.5982868640893336,
          0.6157884080706789,
          0.6332482541312215,
          0.649480791389472,
          0.665356116459513,
          0.6805489855590835,
          0.6955324384341783,
          0.7099270240054931,
          0.7234227877283946,
          0.7367517597680855,
          0.7485147432265203,
          0.760172091952255,
          0.7715449681960692,
          0.7824860393044601,
          0.7933844858715862,
          0.803706574511173,
          0.8140143005335945,
          0.8237966327539021,
          0.8330897093701252,
          0.8423809327454236,
          0.8510114757311151,
          0.8594617910368929,
          0.8676049316594243,
          0.8755525553644143,
          0.8830146299471687,
          0.8903367848401186,
          0.8974550832313665,
          0.9044603339262159,
          0.9111204184988655,
          0.9177415850120992,
          0.9243219802249926,
          0.9305446999394452,
          0.9366446424426456,
          0.9425953990514185,
          0.948406235970387,
          0.9539085082754156,
          0.959232406141455,
          0.9644872707830544,
          0.9691254695070054,
          0.9732192787093659,
          0.9766426780072656,
          0.9799715620180125,
          0.9831373608273979,
          0.9862915768810048,
          0.9893874158454878,
          0.9923873495921248,
          0.9945542515431706,
          0.9965084940981226,
          0.9983283766860438,
          1
         ],
         "yaxis": "y"
        },
        {
         "line": {
          "color": "blue"
         },
         "name": "n3",
         "type": "scatter",
         "x": [
          1,
          2,
          3,
          4,
          5,
          6,
          7,
          8,
          9,
          10,
          11,
          12,
          13,
          14,
          15,
          16,
          17,
          18,
          19,
          20,
          21,
          22,
          23,
          24,
          25,
          26,
          27,
          28,
          29,
          30,
          31,
          32,
          33,
          34,
          35,
          36,
          37,
          38,
          39,
          40,
          41,
          42,
          43,
          44,
          45,
          46,
          47,
          48,
          49,
          50,
          51,
          52,
          53,
          54,
          55,
          56,
          57,
          58,
          59,
          60,
          61,
          62,
          63,
          64
         ],
         "xaxis": "x",
         "y": [
          0.20398354177663552,
          0.3430132900042072,
          0.46304850979871376,
          0.510069613776341,
          0.5470038065500337,
          0.5809636787499428,
          0.6135542642622871,
          0.6443844180308386,
          0.6680115881605246,
          0.6898080208729733,
          0.7115347058935126,
          0.7308704400353985,
          0.7482178069763317,
          0.7645440677077115,
          0.7805913376714539,
          0.795892307331766,
          0.8107463337823226,
          0.8243683370029921,
          0.837531958392433,
          0.8493714895986664,
          0.859951656479784,
          0.8705072721733494,
          0.880385498283091,
          0.8897958568755044,
          0.8991300509883529,
          0.9072244101298201,
          0.9148631773477354,
          0.9219202488151264,
          0.9277611995263855,
          0.9332450420550685,
          0.938070466372127,
          0.9428855680307829,
          0.9472283383198286,
          0.9507670572165429,
          0.9542801089626345,
          0.9577820010780206,
          0.961122078548177,
          0.9641848391953016,
          0.9669825586131706,
          0.9697328496005413,
          0.9724683540772272,
          0.9751087227021487,
          0.9776966410627542,
          0.9799436327053068,
          0.9820321575918413,
          0.983945755267067,
          0.9857703548874163,
          0.9874267230748802,
          0.9890766744746885,
          0.9904682804236644,
          0.9917639135485731,
          0.9929942628338545,
          0.9939534330929923,
          0.9947354442146803,
          0.9954786756196666,
          0.9962174431723708,
          0.9969425401774608,
          0.9976620573671979,
          0.9982457060530956,
          0.9987113416442827,
          0.9991722343924199,
          0.9996169456760341,
          0.9998351164563266,
          1.0000000000000004
         ],
         "yaxis": "y"
        },
        {
         "line": {
          "color": "maroon"
         },
         "name": "s3",
         "type": "scatter",
         "x": [
          1,
          2,
          3,
          4,
          5,
          6,
          7,
          8,
          9,
          10,
          11,
          12,
          13,
          14,
          15,
          16,
          17,
          18,
          19,
          20,
          21,
          22,
          23,
          24,
          25,
          26,
          27,
          28,
          29,
          30,
          31,
          32,
          33,
          34,
          35,
          36,
          37,
          38,
          39,
          40,
          41,
          42,
          43,
          44,
          45,
          46,
          47,
          48,
          49,
          50,
          51,
          52,
          53,
          54,
          55,
          56,
          57,
          58,
          59,
          60,
          61,
          62,
          63,
          64
         ],
         "xaxis": "x",
         "y": [
          0.13373260281974583,
          0.2199572750653262,
          0.3042625704983265,
          0.3796874327157169,
          0.4383749297123025,
          0.49636625865997475,
          0.5541940770484222,
          0.606287168228026,
          0.6508712554053656,
          0.6938211731196128,
          0.7352548736444068,
          0.7703915453807328,
          0.7981611927034347,
          0.8231770600926266,
          0.8475594800863483,
          0.8667616733745519,
          0.8840441778071234,
          0.8998488463456323,
          0.9148734072542518,
          0.928127435886074,
          0.9396942477359713,
          0.9502731312833765,
          0.9596019703646469,
          0.9680801800862858,
          0.9752234696316578,
          0.9817773098518854,
          0.9863880579875842,
          0.9907329454430167,
          0.9940037807136173,
          0.997026853800965,
          0.9987599409115275,
          0.9999999999999999,
          0.9999999999999999,
          0.9999999999999999,
          0.9999999999999999,
          0.9999999999999999,
          0.9999999999999999,
          0.9999999999999999,
          0.9999999999999999,
          0.9999999999999999,
          0.9999999999999999,
          0.9999999999999999,
          0.9999999999999999,
          0.9999999999999999,
          0.9999999999999999,
          0.9999999999999999,
          0.9999999999999999,
          0.9999999999999999,
          0.9999999999999999,
          0.9999999999999999,
          0.9999999999999999,
          0.9999999999999999,
          0.9999999999999999,
          0.9999999999999999,
          0.9999999999999999,
          0.9999999999999999,
          0.9999999999999999,
          0.9999999999999999,
          0.9999999999999999,
          0.9999999999999999,
          0.9999999999999999,
          0.9999999999999999,
          0.9999999999999999,
          0.9999999999999999
         ],
         "yaxis": "y"
        },
        {
         "line": {
          "color": "brown"
         },
         "name": "k2",
         "type": "scatter",
         "x": [
          1,
          2,
          3,
          4,
          5,
          6,
          7,
          8,
          9,
          10,
          11,
          12,
          13,
          14,
          15,
          16,
          17,
          18,
          19,
          20,
          21,
          22,
          23,
          24,
          25,
          26,
          27,
          28,
          29,
          30,
          31,
          32,
          33,
          34,
          35,
          36,
          37,
          38,
          39,
          40,
          41,
          42,
          43,
          44,
          45,
          46,
          47,
          48,
          49,
          50,
          51,
          52,
          53,
          54,
          55,
          56,
          57,
          58,
          59,
          60,
          61,
          62,
          63,
          64
         ],
         "xaxis": "x",
         "y": [
          0,
          0,
          0,
          0,
          0,
          0,
          0,
          0,
          0,
          0,
          0,
          0,
          0,
          0,
          0,
          0,
          0,
          0,
          0,
          0,
          0,
          0,
          0,
          0,
          0,
          0,
          0,
          0,
          0,
          0,
          0,
          0,
          0,
          0,
          0,
          0,
          0,
          0,
          0,
          0,
          0,
          0,
          0,
          0,
          0,
          0,
          0,
          0,
          0,
          0,
          0,
          0,
          0,
          0,
          0,
          0,
          0,
          0,
          0,
          0,
          0,
          0,
          0,
          0
         ],
         "yaxis": "y"
        },
        {
         "line": {
          "color": "blueviolet"
         },
         "name": "q2",
         "type": "scatter",
         "x": [
          1,
          2,
          3,
          4,
          5,
          6,
          7,
          8,
          9,
          10,
          11,
          12,
          13,
          14,
          15,
          16,
          17,
          18,
          19,
          20,
          21,
          22,
          23,
          24,
          25,
          26,
          27,
          28,
          29,
          30,
          31,
          32,
          33,
          34,
          35,
          36,
          37,
          38,
          39,
          40,
          41,
          42,
          43,
          44,
          45,
          46,
          47,
          48,
          49,
          50,
          51,
          52,
          53,
          54,
          55,
          56,
          57,
          58,
          59,
          60,
          61,
          62,
          63,
          64
         ],
         "xaxis": "x",
         "y": [
          0.08706516632652007,
          0.14100111275524851,
          0.1818748951177529,
          0.21814513524123777,
          0.2541286812951997,
          0.29008508697724683,
          0.3220789983597277,
          0.3529838545367808,
          0.3810603781533003,
          0.40902222414201067,
          0.4360089280355837,
          0.4611592608491726,
          0.48551067285569083,
          0.5094484808845774,
          0.531699381008391,
          0.552063069637225,
          0.5720613188921071,
          0.591419666983814,
          0.6106728939166959,
          0.629141725875363,
          0.6474568898127658,
          0.6656948374807772,
          0.6838395140115037,
          0.7019547566177592,
          0.7193502059801324,
          0.7351967428495632,
          0.7508104841345412,
          0.7648688145276676,
          0.7787440429750587,
          0.791545888826156,
          0.803665785050548,
          0.8152119108771347,
          0.8263880102246572,
          0.8366161078489572,
          0.8465571291449749,
          0.856213749924026,
          0.8658439948486809,
          0.8753805863772917,
          0.8847069355882522,
          0.8927630389418465,
          0.9008080567914193,
          0.9086952017733748,
          0.9163166769175723,
          0.9229484841337767,
          0.9295607961532536,
          0.9360656934613492,
          0.9425331294110271,
          0.9486595905473524,
          0.9547680855219876,
          0.9598291914959657,
          0.963441919030714,
          0.9669705496384022,
          0.9704605721113947,
          0.9739475365143122,
          0.9773924524536998,
          0.9807957021883166,
          0.9841794567262059,
          0.9873185656581023,
          0.9898701428768564,
          0.9923154521605073,
          0.9946502886627021,
          0.9968543926691944,
          0.998866602778486,
          1
         ],
         "yaxis": "y"
        },
        {
         "line": {
          "color": "red"
         },
         "name": "s4",
         "type": "scatter",
         "x": [
          1,
          2,
          3,
          4,
          5,
          6,
          7,
          8,
          9,
          10,
          11,
          12,
          13,
          14,
          15,
          16,
          17,
          18,
          19,
          20,
          21,
          22,
          23,
          24,
          25,
          26,
          27,
          28,
          29,
          30,
          31,
          32,
          33,
          34,
          35,
          36,
          37,
          38,
          39,
          40,
          41,
          42,
          43,
          44,
          45,
          46,
          47,
          48,
          49,
          50,
          51,
          52,
          53,
          54,
          55,
          56,
          57,
          58,
          59,
          60,
          61,
          62,
          63,
          64
         ],
         "xaxis": "x",
         "y": [
          0.17961756145775176,
          0.2716395875656647,
          0.3345165876110181,
          0.3971846492853714,
          0.45652908950725896,
          0.5144976017440724,
          0.5627032496485113,
          0.6061902684138669,
          0.6486935878127624,
          0.6846397455205708,
          0.7174321223978493,
          0.7484866825247136,
          0.778684532774079,
          0.8086324702114248,
          0.8362964735394253,
          0.8632248136210301,
          0.884860882389279,
          0.9056458713558941,
          0.9229614824615315,
          0.936937520233085,
          0.9501162767057173,
          0.9581300641359474,
          0.9653681522247399,
          0.9722793831313542,
          0.9786104034418529,
          0.9845000883609127,
          0.9882750542285778,
          0.9918542185689283,
          0.9950342730868296,
          0.9971699485317228,
          0.9991292149328376,
          0.9999999999999997,
          0.9999999999999997,
          0.9999999999999997,
          0.9999999999999997,
          0.9999999999999997,
          0.9999999999999997,
          0.9999999999999997,
          0.9999999999999997,
          0.9999999999999997,
          0.9999999999999997,
          0.9999999999999997,
          0.9999999999999997,
          0.9999999999999997,
          0.9999999999999997,
          0.9999999999999997,
          0.9999999999999997,
          0.9999999999999997,
          0.9999999999999997,
          0.9999999999999997,
          0.9999999999999997,
          0.9999999999999997,
          0.9999999999999997,
          0.9999999999999997,
          0.9999999999999997,
          0.9999999999999997,
          0.9999999999999997,
          0.9999999999999997,
          0.9999999999999997,
          0.9999999999999997,
          0.9999999999999997,
          0.9999999999999997,
          0.9999999999999997,
          0.9999999999999997
         ],
         "yaxis": "y"
        },
        {
         "line": {
          "color": "navy"
         },
         "name": "n4",
         "type": "scatter",
         "x": [
          1,
          2,
          3,
          4,
          5,
          6,
          7,
          8,
          9,
          10,
          11,
          12,
          13,
          14,
          15,
          16,
          17,
          18,
          19,
          20,
          21,
          22,
          23,
          24,
          25,
          26,
          27,
          28,
          29,
          30,
          31,
          32,
          33,
          34,
          35,
          36,
          37,
          38,
          39,
          40,
          41,
          42,
          43,
          44,
          45,
          46,
          47,
          48,
          49,
          50,
          51,
          52,
          53,
          54,
          55,
          56,
          57,
          58,
          59,
          60,
          61,
          62,
          63,
          64
         ],
         "xaxis": "x",
         "y": [
          0.19012620417689546,
          0.33490921342748003,
          0.46123926825655887,
          0.5144636921556971,
          0.5510471109715033,
          0.5873969627040427,
          0.6237185207726017,
          0.6512843446826533,
          0.6773168252314811,
          0.698787962951468,
          0.7180989660398079,
          0.7368518910416774,
          0.7544228337952226,
          0.7706749453542525,
          0.7861663038052379,
          0.8008466734590707,
          0.8124727709573045,
          0.8226007478188616,
          0.832398439460076,
          0.8421594648224586,
          0.8516326454604692,
          0.8610708920847897,
          0.8702842329515517,
          0.878929679562707,
          0.8871827681192768,
          0.895252236570831,
          0.9024292997635747,
          0.9094761543598371,
          0.915498662835666,
          0.9212451637322576,
          0.9266414583593774,
          0.9319745253088267,
          0.9368961792871324,
          0.9417488313706288,
          0.9464816684484938,
          0.9511720650303882,
          0.9555399715850774,
          0.9589883340604035,
          0.962267511973561,
          0.9654150377359525,
          0.9685449521360705,
          0.9713382296769931,
          0.9739253676660585,
          0.9763678615157955,
          0.9788037150158228,
          0.9807972634830135,
          0.9827125713079727,
          0.9845577223946949,
          0.9863621652505881,
          0.9879850089774641,
          0.9893999808873413,
          0.9907589428909716,
          0.9918932878479002,
          0.9930033810928457,
          0.9941039468795121,
          0.9950592911051361,
          0.995990383618777,
          0.9967857820296547,
          0.9975566400176923,
          0.998326920584016,
          0.9990723720166426,
          0.999596093511137,
          0.9998339912572579,
          1
         ],
         "yaxis": "y"
        },
        {
         "line": {
          "color": "silver"
         },
         "name": "r4",
         "type": "scatter",
         "x": [
          1,
          2,
          3,
          4,
          5,
          6,
          7,
          8,
          9,
          10,
          11,
          12,
          13,
          14,
          15,
          16,
          17,
          18,
          19,
          20,
          21,
          22,
          23,
          24,
          25,
          26,
          27,
          28,
          29,
          30,
          31,
          32,
          33,
          34,
          35,
          36,
          37,
          38,
          39,
          40,
          41,
          42,
          43,
          44,
          45,
          46,
          47,
          48,
          49,
          50,
          51,
          52,
          53,
          54,
          55,
          56,
          57,
          58,
          59,
          60,
          61,
          62,
          63,
          64
         ],
         "xaxis": "x",
         "y": [
          0.11959373511207225,
          0.201868078461596,
          0.2569058416753658,
          0.3049905532054398,
          0.35269422964290065,
          0.38380298904056803,
          0.41373796863721723,
          0.44235346444774837,
          0.4684857617490613,
          0.49150363636886496,
          0.5127236963567293,
          0.5318190663250291,
          0.5506340519798966,
          0.5676910040250724,
          0.584052986404476,
          0.6001580696522562,
          0.6161653778574036,
          0.6315390654431364,
          0.6466419545039305,
          0.6615895537911313,
          0.6764647803752067,
          0.6912944744639385,
          0.7059521036492136,
          0.7192202727923687,
          0.7316621469673917,
          0.7436146666398262,
          0.7552460623977314,
          0.7665419555583671,
          0.7777463044388908,
          0.7889084758500435,
          0.8000514756842094,
          0.810994132538863,
          0.8206810511008796,
          0.8303607803215263,
          0.8399259593696766,
          0.8493919255069202,
          0.8586537143492541,
          0.8674386102140408,
          0.8749941287045475,
          0.8824327005754347,
          0.8898631245261024,
          0.8971171699684913,
          0.9038976774593057,
          0.9105430253323631,
          0.9170661544021295,
          0.9233352600768204,
          0.9295890284899219,
          0.9357325603353491,
          0.9418564413143649,
          0.9477162338203872,
          0.9535146772800516,
          0.958734139114714,
          0.9639071098751834,
          0.9690134594056236,
          0.9734363422164835,
          0.977779662982848,
          0.9819446880832352,
          0.9853994062562607,
          0.9886997932345422,
          0.9916555711164855,
          0.9939470538558355,
          0.9961513059198954,
          0.9980981795629073,
          1
         ],
         "yaxis": "y"
        },
        {
         "line": {
          "color": "black"
         },
         "name": "r3",
         "type": "scatter",
         "x": [
          1,
          2,
          3,
          4,
          5,
          6,
          7,
          8,
          9,
          10,
          11,
          12,
          13,
          14,
          15,
          16,
          17,
          18,
          19,
          20,
          21,
          22,
          23,
          24,
          25,
          26,
          27,
          28,
          29,
          30,
          31,
          32,
          33,
          34,
          35,
          36,
          37,
          38,
          39,
          40,
          41,
          42,
          43,
          44,
          45,
          46,
          47,
          48,
          49,
          50,
          51,
          52,
          53,
          54,
          55,
          56,
          57,
          58,
          59,
          60,
          61,
          62,
          63,
          64
         ],
         "xaxis": "x2",
         "y": [
          0.23252893328438665,
          0.3125181134918948,
          0.3876577081360975,
          0.4286569932569507,
          0.46954035202967714,
          0.505979867457542,
          0.5417624669126881,
          0.5665320632957861,
          0.5878045481770582,
          0.6065846165736036,
          0.6224278841509362,
          0.6376335568135711,
          0.6520857082133817,
          0.6664412543230868,
          0.6802558108081999,
          0.694070367293313,
          0.7069768340514326,
          0.71984465869351,
          0.7323840253492281,
          0.7440732654520161,
          0.7553567633363603,
          0.7660026663060069,
          0.7762621481152308,
          0.7860386034739262,
          0.7956991324844948,
          0.8052630562049576,
          0.8148076588673995,
          0.8237919508472283,
          0.8325637111888247,
          0.8411809030662518,
          0.8497208107115944,
          0.858106149892768,
          0.8657766099271595,
          0.8734470699615511,
          0.8809629615317734,
          0.8884788531019958,
          0.895956102556176,
          0.9033947098943138,
          0.9106787487682826,
          0.9178275402361034,
          0.9248024421817339,
          0.9310817860386035,
          0.9369940297930714,
          0.9427710261413915,
          0.9477558591108449,
          0.9522963077458122,
          0.9564889773363989,
          0.9604111521146897,
          0.9640821531387058,
          0.9676565488726162,
          0.9710570550843364,
          0.9741097822516761,
          0.9771238673029735,
          0.9799254207160384,
          0.9824564793168074,
          0.9849682168595552,
          0.9873640280541762,
          0.989721197132755,
          0.9918658345731012,
          0.9939331877813629,
          0.9956334408872229,
          0.9973143729350619,
          0.9988020944026894,
          0.9999999999999999
         ],
         "yaxis": "y2"
        },
        {
         "line": {
          "color": "blue"
         },
         "name": "n3",
         "type": "scatter",
         "x": [
          1,
          2,
          3,
          4,
          5,
          6,
          7,
          8,
          9,
          10,
          11,
          12,
          13,
          14,
          15,
          16,
          17,
          18,
          19,
          20,
          21,
          22,
          23,
          24,
          25,
          26,
          27,
          28,
          29,
          30,
          31,
          32,
          33,
          34,
          35,
          36,
          37,
          38,
          39,
          40,
          41,
          42,
          43,
          44,
          45,
          46,
          47,
          48,
          49,
          50,
          51,
          52,
          53,
          54,
          55,
          56,
          57,
          58,
          59,
          60,
          61,
          62,
          63,
          64
         ],
         "xaxis": "x2",
         "y": [
          0.19366634390841259,
          0.320419206014695,
          0.43337700062653073,
          0.4873269920829299,
          0.5276527880617418,
          0.5679330181693911,
          0.5994873839494219,
          0.6294241613031839,
          0.6591672837045053,
          0.6855157487042205,
          0.7093125249188358,
          0.7291678532778949,
          0.7463347952383665,
          0.7634675627954662,
          0.7804978071424503,
          0.7956484593039813,
          0.8106510223842343,
          0.8228398929202028,
          0.8342655351141994,
          0.845543088226918,
          0.8551347041066242,
          0.8646237967762147,
          0.8738053198154583,
          0.882679273224355,
          0.8908583470980237,
          0.8980121888705361,
          0.9051660306430486,
          0.9121148259953297,
          0.9188357919917983,
          0.9253061456968732,
          0.9308879649142794,
          0.9364014353249418,
          0.9407871504243324,
          0.9445349433274479,
          0.9482599532949822,
          0.951882440052401,
          0.9554593609386571,
          0.9590362818249133,
          0.9625334624366351,
          0.9656205502078944,
          0.9686051147690381,
          0.9714074158455318,
          0.9741299766474911,
          0.9768183630460786,
          0.9791422224753661,
          0.9813521672267473,
          0.9832887167511536,
          0.9851455260010255,
          0.9867745058950848,
          0.9882895711112378,
          0.9897704619240191,
          0.9912057868656378,
          0.9924816312581878,
          0.9934954718915534,
          0.994509312524919,
          0.9954889787549127,
          0.9964116876459533,
          0.9971635245201346,
          0.9978925784587346,
          0.9985532835905908,
          0.9991342484479127,
          0.9996240815629095,
          0.9998177365153501,
          1
         ],
         "yaxis": "y2"
        },
        {
         "line": {
          "color": "maroon"
         },
         "name": "s3",
         "type": "scatter",
         "x": [
          1,
          2,
          3,
          4,
          5,
          6,
          7,
          8,
          9,
          10,
          11,
          12,
          13,
          14,
          15,
          16,
          17,
          18,
          19,
          20,
          21,
          22,
          23,
          24,
          25,
          26,
          27,
          28,
          29,
          30,
          31,
          32,
          33,
          34,
          35,
          36,
          37,
          38,
          39,
          40,
          41,
          42,
          43,
          44,
          45,
          46,
          47,
          48,
          49,
          50,
          51,
          52,
          53,
          54,
          55,
          56,
          57,
          58,
          59,
          60,
          61,
          62,
          63,
          64
         ],
         "xaxis": "x2",
         "y": [
          0.13140410828389587,
          0.20631613714605113,
          0.28117735235457764,
          0.3513128977756323,
          0.4146648204372515,
          0.47405327811582976,
          0.5253623648674399,
          0.574651608887308,
          0.6194565479744407,
          0.663397654949885,
          0.7008219108474447,
          0.7363152479071127,
          0.7660539386933269,
          0.793899820881871,
          0.8214789313888643,
          0.847838514208768,
          0.872889645447732,
          0.8873334264916984,
          0.9015231392675213,
          0.915700148629937,
          0.9277556879533532,
          0.939506345354997,
          0.9502026194438447,
          0.9608226730522492,
          0.9705026740685223,
          0.9787980030234125,
          0.9859373213582491,
          0.9913743822965232,
          0.9957951701622227,
          0.9974212070783421,
          0.9987550654860963,
          1.0000000000000002,
          1.0000000000000002,
          1.0000000000000002,
          1.0000000000000002,
          1.0000000000000002,
          1.0000000000000002,
          1.0000000000000002,
          1.0000000000000002,
          1.0000000000000002,
          1.0000000000000002,
          1.0000000000000002,
          1.0000000000000002,
          1.0000000000000002,
          1.0000000000000002,
          1.0000000000000002,
          1.0000000000000002,
          1.0000000000000002,
          1.0000000000000002,
          1.0000000000000002,
          1.0000000000000002,
          1.0000000000000002,
          1.0000000000000002,
          1.0000000000000002,
          1.0000000000000002,
          1.0000000000000002,
          1.0000000000000002,
          1.0000000000000002,
          1.0000000000000002,
          1.0000000000000002,
          1.0000000000000002,
          1.0000000000000002,
          1.0000000000000002,
          1.0000000000000002
         ],
         "yaxis": "y2"
        },
        {
         "line": {
          "color": "brown"
         },
         "name": "k2",
         "type": "scatter",
         "x": [
          1,
          2,
          3,
          4,
          5,
          6,
          7,
          8,
          9,
          10,
          11,
          12,
          13,
          14,
          15,
          16,
          17,
          18,
          19,
          20,
          21,
          22,
          23,
          24,
          25,
          26,
          27,
          28,
          29,
          30,
          31,
          32,
          33,
          34,
          35,
          36,
          37,
          38,
          39,
          40,
          41,
          42,
          43,
          44,
          45,
          46,
          47,
          48,
          49,
          50,
          51,
          52,
          53,
          54,
          55,
          56,
          57,
          58,
          59,
          60,
          61,
          62,
          63,
          64
         ],
         "xaxis": "x2",
         "y": [
          0,
          0,
          0,
          0,
          0,
          0,
          0,
          0,
          0,
          0,
          0,
          0,
          0,
          0,
          0,
          0,
          0,
          0,
          0,
          0,
          0,
          0,
          0,
          0,
          0,
          0,
          0,
          0,
          0,
          0,
          0,
          0,
          0,
          0,
          0,
          0,
          0,
          0,
          0,
          0,
          0,
          0,
          0,
          0,
          0,
          0,
          0,
          0,
          0,
          0,
          0,
          0,
          0,
          0,
          0,
          0,
          0,
          0,
          0,
          0,
          0,
          0,
          0,
          0
         ],
         "yaxis": "y2"
        },
        {
         "line": {
          "color": "blueviolet"
         },
         "name": "q2",
         "type": "scatter",
         "x": [
          1,
          2,
          3,
          4,
          5,
          6,
          7,
          8,
          9,
          10,
          11,
          12,
          13,
          14,
          15,
          16,
          17,
          18,
          19,
          20,
          21,
          22,
          23,
          24,
          25,
          26,
          27,
          28,
          29,
          30,
          31,
          32,
          33,
          34,
          35,
          36,
          37,
          38,
          39,
          40,
          41,
          42,
          43,
          44,
          45,
          46,
          47,
          48,
          49,
          50,
          51,
          52,
          53,
          54,
          55,
          56,
          57,
          58,
          59,
          60,
          61,
          62,
          63,
          64
         ],
         "xaxis": "x2",
         "y": [
          0.11657813810455689,
          0.17536012241955182,
          0.22772685137501286,
          0.26736606683048125,
          0.30360637405647184,
          0.33834586466165406,
          0.3723496608448714,
          0.40499977929167336,
          0.4325883201153568,
          0.4601180053852831,
          0.48725041566734834,
          0.5140444065153097,
          0.5403528390447743,
          0.5642187660933153,
          0.584111943263246,
          0.6007239233112133,
          0.6169533422597588,
          0.6327119167782469,
          0.648279210747024,
          0.6637435074967261,
          0.67895766814296,
          0.6939952621279224,
          0.7082088783602841,
          0.721686800170681,
          0.734679163662581,
          0.7473919632741344,
          0.7598840545590982,
          0.7719053014140046,
          0.7838235510498358,
          0.795388667363124,
          0.8066742197960655,
          0.817665494460221,
          0.8276709385989435,
          0.8375439577417123,
          0.8471079852272559,
          0.8560540293983491,
          0.8645439430278239,
          0.8727101511116342,
          0.880655650868855,
          0.888409870076365,
          0.8957079587422567,
          0.902932477965952,
          0.9098627194208613,
          0.9162044053381987,
          0.9225019495902181,
          0.9286229271809661,
          0.9347144769948353,
          0.9407618851433868,
          0.946603298853788,
          0.9516943042537851,
          0.9567117402115857,
          0.9613024734046466,
          0.9658343510439503,
          0.9702190897988611,
          0.9744419757809395,
          0.978664861763018,
          0.9826817533069463,
          0.9864485087474065,
          0.9897885614231271,
          0.9926136280034723,
          0.9952327001456673,
          0.9970277945352617,
          0.9986021805982666,
          0.9999999999999999
         ],
         "yaxis": "y2"
        },
        {
         "line": {
          "color": "red"
         },
         "name": "s4",
         "type": "scatter",
         "x": [
          1,
          2,
          3,
          4,
          5,
          6,
          7,
          8,
          9,
          10,
          11,
          12,
          13,
          14,
          15,
          16,
          17,
          18,
          19,
          20,
          21,
          22,
          23,
          24,
          25,
          26,
          27,
          28,
          29,
          30,
          31,
          32,
          33,
          34,
          35,
          36,
          37,
          38,
          39,
          40,
          41,
          42,
          43,
          44,
          45,
          46,
          47,
          48,
          49,
          50,
          51,
          52,
          53,
          54,
          55,
          56,
          57,
          58,
          59,
          60,
          61,
          62,
          63,
          64
         ],
         "xaxis": "x2",
         "y": [
          0.15252272902876865,
          0.250225358642182,
          0.3333505035155948,
          0.4050403070028588,
          0.4633760012362531,
          0.5072758647333041,
          0.5508666649496484,
          0.5942771782522471,
          0.6373142400906585,
          0.6802869137455894,
          0.7152239421021453,
          0.748306590774461,
          0.7813248512632961,
          0.8084193988719189,
          0.8331702166018491,
          0.8571612537667086,
          0.881139413294872,
          0.902580678393901,
          0.9169134880366754,
          0.9279367450485486,
          0.9389084915136373,
          0.949197723233832,
          0.9586885414788677,
          0.9678445411698045,
          0.976755865763515,
          0.982872743194169,
          0.9882040847863599,
          0.992518093079558,
          0.996265485358127,
          0.9979009452185333,
          0.9991500759780564,
          0.9999999999999999,
          0.9999999999999999,
          0.9999999999999999,
          0.9999999999999999,
          0.9999999999999999,
          0.9999999999999999,
          0.9999999999999999,
          0.9999999999999999,
          0.9999999999999999,
          0.9999999999999999,
          0.9999999999999999,
          0.9999999999999999,
          0.9999999999999999,
          0.9999999999999999,
          0.9999999999999999,
          0.9999999999999999,
          0.9999999999999999,
          0.9999999999999999,
          0.9999999999999999,
          0.9999999999999999,
          0.9999999999999999,
          0.9999999999999999,
          0.9999999999999999,
          0.9999999999999999,
          0.9999999999999999,
          0.9999999999999999,
          0.9999999999999999,
          0.9999999999999999,
          0.9999999999999999,
          0.9999999999999999,
          0.9999999999999999,
          0.9999999999999999,
          0.9999999999999999
         ],
         "yaxis": "y2"
        },
        {
         "line": {
          "color": "navy"
         },
         "name": "n4",
         "type": "scatter",
         "x": [
          1,
          2,
          3,
          4,
          5,
          6,
          7,
          8,
          9,
          10,
          11,
          12,
          13,
          14,
          15,
          16,
          17,
          18,
          19,
          20,
          21,
          22,
          23,
          24,
          25,
          26,
          27,
          28,
          29,
          30,
          31,
          32,
          33,
          34,
          35,
          36,
          37,
          38,
          39,
          40,
          41,
          42,
          43,
          44,
          45,
          46,
          47,
          48,
          49,
          50,
          51,
          52,
          53,
          54,
          55,
          56,
          57,
          58,
          59,
          60,
          61,
          62,
          63,
          64
         ],
         "xaxis": "x2",
         "y": [
          0.2080054861762795,
          0.3489857792535913,
          0.4530907865925552,
          0.504656031184581,
          0.5400394619697299,
          0.5751221155465724,
          0.6066796602420657,
          0.6350008421761835,
          0.6590750499290168,
          0.6819220866719605,
          0.7016169782718547,
          0.7209268750451168,
          0.7395750619601051,
          0.7559373420919658,
          0.7721913424288364,
          0.7884212805890424,
          0.8030510840010591,
          0.8154791982482739,
          0.8274982554921921,
          0.8391804422628074,
          0.8487571885752788,
          0.8579609711494505,
          0.8671527226352899,
          0.8758872927645037,
          0.8843932722154049,
          0.8924420703096805,
          0.9004788373156238,
          0.9079742053466159,
          0.9148078635193342,
          0.9209076253037852,
          0.9263577083182947,
          0.9306889001179048,
          0.9349599364758537,
          0.9391948795688059,
          0.9433335739551001,
          0.9473399263697395,
          0.9513342476960467,
          0.9551721648740346,
          0.958937895522029,
          0.9622584759017302,
          0.9655549941047669,
          0.9687191703361487,
          0.9718472533025339,
          0.9748670564739287,
          0.9777785798503333,
          0.9801487042517867,
          0.9822541447099306,
          0.9840708390481003,
          0.9857311292379509,
          0.987367357251137,
          0.9889674919993263,
          0.9903510671575352,
          0.991734642315744,
          0.9930580620322916,
          0.9942611708655167,
          0.9952838133737579,
          0.9962342693520058,
          0.996968165740273,
          0.9976539377752113,
          0.9982915854568205,
          0.9989172020500975,
          0.9994586010250488,
          0.9997954714983518,
          1
         ],
         "yaxis": "y2"
        },
        {
         "line": {
          "color": "silver"
         },
         "name": "r4",
         "type": "scatter",
         "x": [
          1,
          2,
          3,
          4,
          5,
          6,
          7,
          8,
          9,
          10,
          11,
          12,
          13,
          14,
          15,
          16,
          17,
          18,
          19,
          20,
          21,
          22,
          23,
          24,
          25,
          26,
          27,
          28,
          29,
          30,
          31,
          32,
          33,
          34,
          35,
          36,
          37,
          38,
          39,
          40,
          41,
          42,
          43,
          44,
          45,
          46,
          47,
          48,
          49,
          50,
          51,
          52,
          53,
          54,
          55,
          56,
          57,
          58,
          59,
          60,
          61,
          62,
          63,
          64
         ],
         "xaxis": "x2",
         "y": [
          0.2653143525426463,
          0.3515546235431706,
          0.39978626446747595,
          0.44600153244344076,
          0.480743638343348,
          0.5134290438359479,
          0.5368996249546316,
          0.5564987700125015,
          0.5755938218332862,
          0.5938016695568011,
          0.6098519982255917,
          0.6239262814050085,
          0.6373553252409564,
          0.6503407670282694,
          0.6632858813566156,
          0.6758680485542604,
          0.688389724563455,
          0.7007702544662658,
          0.7127475097794086,
          0.7239182159132151,
          0.7347461386458037,
          0.7451304593297574,
          0.7553736339073273,
          0.7651933701657456,
          0.7748517965882967,
          0.7844295680929142,
          0.7939670121385649,
          0.8033633100778318,
          0.8123966608863974,
          0.8213695205065127,
          0.830140742831794,
          0.8387909827801748,
          0.8474008952695888,
          0.8554260596039841,
          0.8633504052909624,
          0.8711940960600071,
          0.8789168044521513,
          0.8864782030084283,
          0.8934346896802031,
          0.900391176351978,
          0.9072468443763357,
          0.9140016937532764,
          0.9207162156712504,
          0.9269266443521392,
          0.9328144533612935,
          0.9386820986409644,
          0.9445094164616685,
          0.9494495301851028,
          0.953986369318869,
          0.9583014074283178,
          0.9624349719724159,
          0.9663064080332298,
          0.9701576803645602,
          0.9739887889664072,
          0.9776585877323869,
          0.981146912933016,
          0.9842117998144936,
          0.9871355405895873,
          0.9898979715288139,
          0.9924789289026897,
          0.9945356293099971,
          0.9964310198814371,
          0.9982860829939104,
          0.9999999999999999
         ],
         "yaxis": "y2"
        },
        {
         "line": {
          "color": "black"
         },
         "name": "r3",
         "type": "scatter",
         "x": [
          1,
          2,
          3,
          4,
          5,
          6,
          7,
          8,
          9,
          10,
          11,
          12,
          13,
          14,
          15,
          16,
          17,
          18,
          19,
          20,
          21,
          22,
          23,
          24,
          25,
          26,
          27,
          28,
          29,
          30,
          31,
          32,
          33,
          34,
          35,
          36,
          37,
          38,
          39,
          40,
          41,
          42,
          43,
          44,
          45,
          46,
          47,
          48,
          49,
          50,
          51,
          52,
          53,
          54,
          55,
          56,
          57,
          58,
          59,
          60,
          61,
          62,
          63,
          64
         ],
         "xaxis": "x3",
         "y": [
          0.13881145128283398,
          0.23100978984385465,
          0.3164739119194386,
          0.3645291810856354,
          0.4118742738602136,
          0.4502082249639461,
          0.4815151675611359,
          0.5126289920167452,
          0.5406778446769476,
          0.5596594891090713,
          0.5780991568212754,
          0.596105866119291,
          0.6124773008313424,
          0.6281447887692456,
          0.6438029322809433,
          0.659423698087819,
          0.6747174089775018,
          0.6899176756051295,
          0.7043579289013758,
          0.7161973169037555,
          0.7279868679663726,
          0.7395116602865002,
          0.7509274343008968,
          0.7615894246013825,
          0.7721112485087854,
          0.7821783103408536,
          0.7916224104258879,
          0.8008048665771679,
          0.809859615570306,
          0.8187991166402427,
          0.8275641884210101,
          0.8363105713493664,
          0.8449697396331379,
          0.8535510376985302,
          0.862010858223251,
          0.8704675639392365,
          0.8788027921145504,
          0.8867642432416439,
          0.8946384797241528,
          0.9016779474656361,
          0.9083280641152233,
          0.9149034253551663,
          0.9210271393285098,
          0.927001342482565,
          0.9328976754182411,
          0.9385728569337202,
          0.9441421349522034,
          0.9494373098019918,
          0.9541811635056552,
          0.9586882917454456,
          0.9630334499310071,
          0.9672135232536048,
          0.9711070341725668,
          0.9744243054755225,
          0.9776263288552769,
          0.9807660560603279,
          0.9837656168722962,
          0.986718455553237,
          0.9895685055459172,
          0.9921506819873729,
          0.9944213775553116,
          0.9964522328506421,
          0.9983024292393329,
          1.0000000000000002
         ],
         "yaxis": "y3"
        },
        {
         "line": {
          "color": "blue"
         },
         "name": "n3",
         "type": "scatter",
         "x": [
          1,
          2,
          3,
          4,
          5,
          6,
          7,
          8,
          9,
          10,
          11,
          12,
          13,
          14,
          15,
          16,
          17,
          18,
          19,
          20,
          21,
          22,
          23,
          24,
          25,
          26,
          27,
          28,
          29,
          30,
          31,
          32,
          33,
          34,
          35,
          36,
          37,
          38,
          39,
          40,
          41,
          42,
          43,
          44,
          45,
          46,
          47,
          48,
          49,
          50,
          51,
          52,
          53,
          54,
          55,
          56,
          57,
          58,
          59,
          60,
          61,
          62,
          63,
          64
         ],
         "xaxis": "x3",
         "y": [
          0.21518355412127588,
          0.34443988803109454,
          0.4708381621409596,
          0.5121739440512062,
          0.5533653074687539,
          0.5845632677804126,
          0.6151799882325673,
          0.6443650043682136,
          0.6718847504769376,
          0.6967746536630592,
          0.7165082817765258,
          0.7352951664378555,
          0.7536452297323801,
          0.7712732005634105,
          0.787221637812684,
          0.8023338741597875,
          0.8161552587943731,
          0.8292081944122525,
          0.8419009752705618,
          0.8533385633034394,
          0.8643143687485514,
          0.873072191416906,
          0.8817159056465849,
          0.8902419455488795,
          0.8982063579795675,
          0.9061475921336496,
          0.9133275090484427,
          0.9202203719221924,
          0.9270811417975646,
          0.9319450139961133,
          0.9367357854761355,
          0.9410772549788723,
          0.9451352363292743,
          0.9490666286305206,
          0.9526200367286538,
          0.955975538003459,
          0.9592632873928005,
          0.9625118120063474,
          0.9657425071763511,
          0.9687913420222156,
          0.971670797154421,
          0.9743362989641094,
          0.9769126535560826,
          0.9794693957601583,
          0.9816945103143331,
          0.9834186175049476,
          0.9850999340310589,
          0.9867580722805641,
          0.9883181485905824,
          0.9898586125127035,
          0.9912867509405031,
          0.9923743469966302,
          0.9933817105568135,
          0.9943587640629735,
          0.9953215540142991,
          0.9961185301406742,
          0.9969012427122148,
          0.9976340328418348,
          0.9981439549271666,
          0.9986485281794354,
          0.9991477525986413,
          0.999616666963824,
          0.9998324032306951,
          0.9999999999999999
         ],
         "yaxis": "y3"
        },
        {
         "line": {
          "color": "maroon"
         },
         "name": "s3",
         "type": "scatter",
         "x": [
          1,
          2,
          3,
          4,
          5,
          6,
          7,
          8,
          9,
          10,
          11,
          12,
          13,
          14,
          15,
          16,
          17,
          18,
          19,
          20,
          21,
          22,
          23,
          24,
          25,
          26,
          27,
          28,
          29,
          30,
          31,
          32,
          33,
          34,
          35,
          36,
          37,
          38,
          39,
          40,
          41,
          42,
          43,
          44,
          45,
          46,
          47,
          48,
          49,
          50,
          51,
          52,
          53,
          54,
          55,
          56,
          57,
          58,
          59,
          60,
          61,
          62,
          63,
          64
         ],
         "xaxis": "x3",
         "y": [
          0.14853811980200163,
          0.2315153326817296,
          0.3078375343419425,
          0.37227157322970605,
          0.4348569978898265,
          0.4904491542589908,
          0.5442890603336552,
          0.5928623824704172,
          0.6357148335558881,
          0.6755839359356839,
          0.7149338530430353,
          0.7474930627801191,
          0.7787326766164065,
          0.8096733655988624,
          0.8360043186774934,
          0.8573951452243803,
          0.8765047031499205,
          0.8951698070164741,
          0.9108043635162214,
          0.9234732708082178,
          0.9352709694801655,
          0.9468897065619903,
          0.957039385316103,
          0.9658517686714951,
          0.9732816245779159,
          0.9796593436632846,
          0.9857263382295387,
          0.9905111025017255,
          0.9951110053511479,
          0.9976204008346294,
          0.998886898241653,
          0.9999999999999998,
          0.9999999999999998,
          0.9999999999999998,
          0.9999999999999998,
          0.9999999999999998,
          0.9999999999999998,
          0.9999999999999998,
          0.9999999999999998,
          0.9999999999999998,
          0.9999999999999998,
          0.9999999999999998,
          0.9999999999999998,
          0.9999999999999998,
          0.9999999999999998,
          0.9999999999999998,
          0.9999999999999998,
          0.9999999999999998,
          0.9999999999999998,
          0.9999999999999998,
          0.9999999999999998,
          0.9999999999999998,
          0.9999999999999998,
          0.9999999999999998,
          0.9999999999999998,
          0.9999999999999998,
          0.9999999999999998,
          0.9999999999999998,
          0.9999999999999998,
          0.9999999999999998,
          0.9999999999999998,
          0.9999999999999998,
          0.9999999999999998,
          0.9999999999999998
         ],
         "yaxis": "y3"
        },
        {
         "line": {
          "color": "brown"
         },
         "name": "k2",
         "type": "scatter",
         "x": [
          1,
          2,
          3,
          4,
          5,
          6,
          7,
          8,
          9,
          10,
          11,
          12,
          13,
          14,
          15,
          16,
          17,
          18,
          19,
          20,
          21,
          22,
          23,
          24,
          25,
          26,
          27,
          28,
          29,
          30,
          31,
          32,
          33,
          34,
          35,
          36,
          37,
          38,
          39,
          40,
          41,
          42,
          43,
          44,
          45,
          46,
          47,
          48,
          49,
          50,
          51,
          52,
          53,
          54,
          55,
          56,
          57,
          58,
          59,
          60,
          61,
          62,
          63,
          64
         ],
         "xaxis": "x3",
         "y": [
          0,
          0,
          0,
          0,
          0,
          0,
          0,
          0,
          0,
          0,
          0,
          0,
          0,
          0,
          0,
          0,
          0,
          0,
          0,
          0,
          0,
          0,
          0,
          0,
          0,
          0,
          0,
          0,
          0,
          0,
          0,
          0,
          0,
          0,
          0,
          0,
          0,
          0,
          0,
          0,
          0,
          0,
          0,
          0,
          0,
          0,
          0,
          0,
          0,
          0,
          0,
          0,
          0,
          0,
          0,
          0,
          0,
          0,
          0,
          0,
          0,
          0,
          0,
          0
         ],
         "yaxis": "y3"
        },
        {
         "line": {
          "color": "blueviolet"
         },
         "name": "q2",
         "type": "scatter",
         "x": [
          1,
          2,
          3,
          4,
          5,
          6,
          7,
          8,
          9,
          10,
          11,
          12,
          13,
          14,
          15,
          16,
          17,
          18,
          19,
          20,
          21,
          22,
          23,
          24,
          25,
          26,
          27,
          28,
          29,
          30,
          31,
          32,
          33,
          34,
          35,
          36,
          37,
          38,
          39,
          40,
          41,
          42,
          43,
          44,
          45,
          46,
          47,
          48,
          49,
          50,
          51,
          52,
          53,
          54,
          55,
          56,
          57,
          58,
          59,
          60,
          61,
          62,
          63,
          64
         ],
         "xaxis": "x3",
         "y": [
          0.10531219305510083,
          0.16615469059954163,
          0.21199901777632263,
          0.25725834408643566,
          0.292803767116692,
          0.3274993740731467,
          0.36043997842959763,
          0.39238872946478437,
          0.42409433199160296,
          0.45495493326656783,
          0.48251497409625793,
          0.5090253837413092,
          0.5351361631646862,
          0.5575804556747491,
          0.5778941894728733,
          0.596229031450417,
          0.6128257227047743,
          0.6292683396567994,
          0.6456555861564238,
          0.6617900545037844,
          0.677587485314793,
          0.6932476937002868,
          0.7087971611809794,
          0.7243369990177762,
          0.7381218342545691,
          0.7514011131868342,
          0.764610577200855,
          0.7766307801937483,
          0.7884487606648305,
          0.8000572963811797,
          0.8112421277661152,
          0.8224125146852069,
          0.83286308572309,
          0.8432173603220153,
          0.852389596132735,
          0.8615305356007935,
          0.8701081409009496,
          0.8782235232941087,
          0.8863124241665544,
          0.8943194730658861,
          0.9021074475665891,
          0.9096161623943148,
          0.9167854322747145,
          0.923010997053329,
          0.9290824875296112,
          0.9350697186218054,
          0.9409775051518595,
          0.9467552914893208,
          0.952410299867111,
          0.9576343816805656,
          0.9618449434739904,
          0.9657136529091155,
          0.9695775475222926,
          0.9732897752441115,
          0.9769273732257382,
          0.9804686747684072,
          0.9838294204880305,
          0.986761647054292,
          0.9895060955645861,
          0.9921590624578704,
          0.9946988810353794,
          0.9971640698726962,
          0.9987746278142635,
          1
         ],
         "yaxis": "y3"
        },
        {
         "line": {
          "color": "red"
         },
         "name": "s4",
         "type": "scatter",
         "x": [
          1,
          2,
          3,
          4,
          5,
          6,
          7,
          8,
          9,
          10,
          11,
          12,
          13,
          14,
          15,
          16,
          17,
          18,
          19,
          20,
          21,
          22,
          23,
          24,
          25,
          26,
          27,
          28,
          29,
          30,
          31,
          32,
          33,
          34,
          35,
          36,
          37,
          38,
          39,
          40,
          41,
          42,
          43,
          44,
          45,
          46,
          47,
          48,
          49,
          50,
          51,
          52,
          53,
          54,
          55,
          56,
          57,
          58,
          59,
          60,
          61,
          62,
          63,
          64
         ],
         "xaxis": "x3",
         "y": [
          0.18343285958835942,
          0.2846052788725666,
          0.3622895019706199,
          0.41933596082646607,
          0.4718062024762133,
          0.5234165372825352,
          0.5729646880847169,
          0.6160356702098015,
          0.6533958358214899,
          0.6902165691309369,
          0.7230562522393409,
          0.7548230423185638,
          0.7861777937019787,
          0.8163442016003823,
          0.8434471913690833,
          0.8664317847048053,
          0.8859488833154188,
          0.9051713842111551,
          0.9214678132091247,
          0.9364962777180622,
          0.9490624626776546,
          0.9573291134201205,
          0.9646641984155423,
          0.971674827819579,
          0.9786018551693939,
          0.9843684063856047,
          0.9884310681157692,
          0.9921334448027392,
          0.9957999920378999,
          0.997521796249851,
          0.9991938373342891,
          1.0000000000000004,
          1.0000000000000004,
          1.0000000000000004,
          1.0000000000000004,
          1.0000000000000004,
          1.0000000000000004,
          1.0000000000000004,
          1.0000000000000004,
          1.0000000000000004,
          1.0000000000000004,
          1.0000000000000004,
          1.0000000000000004,
          1.0000000000000004,
          1.0000000000000004,
          1.0000000000000004,
          1.0000000000000004,
          1.0000000000000004,
          1.0000000000000004,
          1.0000000000000004,
          1.0000000000000004,
          1.0000000000000004,
          1.0000000000000004,
          1.0000000000000004,
          1.0000000000000004,
          1.0000000000000004,
          1.0000000000000004,
          1.0000000000000004,
          1.0000000000000004,
          1.0000000000000004,
          1.0000000000000004,
          1.0000000000000004,
          1.0000000000000004,
          1.0000000000000004
         ],
         "yaxis": "y3"
        },
        {
         "line": {
          "color": "navy"
         },
         "name": "n4",
         "type": "scatter",
         "x": [
          1,
          2,
          3,
          4,
          5,
          6,
          7,
          8,
          9,
          10,
          11,
          12,
          13,
          14,
          15,
          16,
          17,
          18,
          19,
          20,
          21,
          22,
          23,
          24,
          25,
          26,
          27,
          28,
          29,
          30,
          31,
          32,
          33,
          34,
          35,
          36,
          37,
          38,
          39,
          40,
          41,
          42,
          43,
          44,
          45,
          46,
          47,
          48,
          49,
          50,
          51,
          52,
          53,
          54,
          55,
          56,
          57,
          58,
          59,
          60,
          61,
          62,
          63,
          64
         ],
         "xaxis": "x3",
         "y": [
          0.2228542691721761,
          0.3653724645717012,
          0.4879719705189396,
          0.5425867217333478,
          0.5778059415278793,
          0.6112788450733803,
          0.6419591163050306,
          0.6660759647568327,
          0.6880541284352969,
          0.7072654492803814,
          0.7241815063635543,
          0.7407770370465887,
          0.756591514892504,
          0.772339676931494,
          0.7861775753098883,
          0.7992786313891136,
          0.8119799505210397,
          0.8234802167053202,
          0.8344960090778972,
          0.8454252224803218,
          0.8556470672755442,
          0.8649202276105864,
          0.8739557563041466,
          0.882674442809064,
          0.8906323396400895,
          0.898400499579079,
          0.9059218173478468,
          0.9129052402382213,
          0.9193710314134295,
          0.9256802436000643,
          0.9308381396942474,
          0.9359720884137076,
          0.9402476158546359,
          0.9443757748357303,
          0.9483657758857306,
          0.9523355137725037,
          0.9558631462797754,
          0.9590813050213961,
          0.962273674282546,
          0.9654052540540143,
          0.9684263074806073,
          0.9713331503508291,
          0.974236309009555,
          0.9767470991439735,
          0.9789539418299847,
          0.9809526265664807,
          0.9829273639282538,
          0.9845981538416195,
          0.9862542069090019,
          0.9878918389189051,
          0.9893673656229911,
          0.9907949975776311,
          0.9921839453115647,
          0.9932578929626036,
          0.9943023669216757,
          0.9953321040347645,
          0.9963415779846261,
          0.9970968413412743,
          0.9978134204772162,
          0.9984784206522163,
          0.9991121050295017,
          0.99962789463892,
          0.9998452631171748,
          1.0000000000000002
         ],
         "yaxis": "y3"
        },
        {
         "line": {
          "color": "silver"
         },
         "name": "r4",
         "type": "scatter",
         "x": [
          1,
          2,
          3,
          4,
          5,
          6,
          7,
          8,
          9,
          10,
          11,
          12,
          13,
          14,
          15,
          16,
          17,
          18,
          19,
          20,
          21,
          22,
          23,
          24,
          25,
          26,
          27,
          28,
          29,
          30,
          31,
          32,
          33,
          34,
          35,
          36,
          37,
          38,
          39,
          40,
          41,
          42,
          43,
          44,
          45,
          46,
          47,
          48,
          49,
          50,
          51,
          52,
          53,
          54,
          55,
          56,
          57,
          58,
          59,
          60,
          61,
          62,
          63,
          64
         ],
         "xaxis": "x3",
         "y": [
          0.18845638270984832,
          0.27906299688710723,
          0.335715725387192,
          0.3875887398383087,
          0.4254649343669118,
          0.45843024464841586,
          0.488109901430395,
          0.5098105710382601,
          0.5309961576729767,
          0.551778635893925,
          0.5708143109885434,
          0.5888134215906147,
          0.6040451609394346,
          0.6189217809713634,
          0.6336672308051612,
          0.6479807787670643,
          0.6620831747027077,
          0.6758656433258365,
          0.6893249853633256,
          0.7017573607276428,
          0.7130092043087812,
          0.7241138813261628,
          0.7351737685197924,
          0.7453954461546338,
          0.7556075259700997,
          0.7658004101468148,
          0.7758909175835251,
          0.7859686279277349,
          0.7958575811575611,
          0.8055097881761265,
          0.8149988322653094,
          0.8243886988876129,
          0.8335578156642812,
          0.8422566392915531,
          0.8509394665531993,
          0.8589312508198139,
          0.8663343688314017,
          0.8736479071954854,
          0.8808846630045656,
          0.8881182195405206,
          0.8953293811645996,
          0.9023389885817944,
          0.9093070054483623,
          0.9161918412136764,
          0.9228463293139799,
          0.9291648937361432,
          0.9351827264845427,
          0.9408358420966756,
          0.946456964977557,
          0.9517485627265485,
          0.9568258091761551,
          0.9618806607138858,
          0.9669323129784912,
          0.971091368041181,
          0.9751832383682427,
          0.9790639566690448,
          0.9826215483842071,
          0.9860671655399893,
          0.989064884458251,
          0.9917426760639982,
          0.993972569432225,
          0.996032901324819,
          0.9980676390324119,
          1
         ],
         "yaxis": "y3"
        },
        {
         "line": {
          "color": "black"
         },
         "name": "r3",
         "type": "scatter",
         "x": [
          1,
          2,
          3,
          4,
          5,
          6,
          7,
          8,
          9,
          10,
          11,
          12,
          13,
          14,
          15,
          16,
          17,
          18,
          19,
          20,
          21,
          22,
          23,
          24,
          25,
          26,
          27,
          28,
          29,
          30,
          31,
          32,
          33,
          34,
          35,
          36,
          37,
          38,
          39,
          40,
          41,
          42,
          43,
          44,
          45,
          46,
          47,
          48,
          49,
          50,
          51,
          52,
          53,
          54,
          55,
          56,
          57,
          58,
          59,
          60,
          61,
          62,
          63,
          64
         ],
         "xaxis": "x4",
         "y": [
          0.1013647320750354,
          0.18077759209689584,
          0.25788206380939194,
          0.3072858758095156,
          0.353352809659469,
          0.3949629541992635,
          0.43115369671515136,
          0.4644566010897959,
          0.48679835818066197,
          0.5089075286800778,
          0.5292635609410481,
          0.5493009630160431,
          0.5682224872245429,
          0.5868374811275476,
          0.6053852534723297,
          0.6228816806465102,
          0.6399008347573101,
          0.6557920111211346,
          0.6711346595698627,
          0.6856330052473149,
          0.6995613121110392,
          0.7134291195723633,
          0.7266852108538616,
          0.7391453988860043,
          0.7508392611544092,
          0.7623933025817111,
          0.7731554740531507,
          0.7839001679194524,
          0.7941138114757955,
          0.8042427558687781,
          0.8143609448124451,
          0.8240542935081453,
          0.8334693449528038,
          0.8424945113597712,
          0.850917372605064,
          0.8590283258202038,
          0.867131212448357,
          0.8751588109313009,
          0.8829363452176566,
          0.8904745707567399,
          0.897821887070471,
          0.9048156179879511,
          0.9116170952489145,
          0.9183782395749445,
          0.9248825975485641,
          0.9312310015071071,
          0.9375646167228413,
          0.9433268486936833,
          0.9487449062864256,
          0.9541051533390964,
          0.9594237230256691,
          0.9644586177365425,
          0.9689651509997862,
          0.9729433228154002,
          0.9764791767779094,
          0.97968026738047,
          0.9828786691207017,
          0.9860152270273685,
          0.9891396850535554,
          0.9921901993656974,
          0.9943775888702611,
          0.9963969244792682,
          0.9982562727797055,
          1
         ],
         "yaxis": "y4"
        },
        {
         "line": {
          "color": "blue"
         },
         "name": "n3",
         "type": "scatter",
         "x": [
          1,
          2,
          3,
          4,
          5,
          6,
          7,
          8,
          9,
          10,
          11,
          12,
          13,
          14,
          15,
          16,
          17,
          18,
          19,
          20,
          21,
          22,
          23,
          24,
          25,
          26,
          27,
          28,
          29,
          30,
          31,
          32,
          33,
          34,
          35,
          36,
          37,
          38,
          39,
          40,
          41,
          42,
          43,
          44,
          45,
          46,
          47,
          48,
          49,
          50,
          51,
          52,
          53,
          54,
          55,
          56,
          57,
          58,
          59,
          60,
          61,
          62,
          63,
          64
         ],
         "xaxis": "x4",
         "y": [
          0.2069701452909853,
          0.34150234528518963,
          0.46689384618155927,
          0.5107513449460651,
          0.5468849490569127,
          0.5813103992193087,
          0.6129664626959072,
          0.6442740032440045,
          0.6678662643119571,
          0.6913700240519981,
          0.7129831448046197,
          0.73184019323051,
          0.7501544857250492,
          0.7666791717215545,
          0.7830581829659223,
          0.7985020562852782,
          0.8131235721328899,
          0.8271396762417794,
          0.8401031627868364,
          0.8515401972248177,
          0.8627916138334625,
          0.8726818330269726,
          0.8821820198195983,
          0.8916179844096688,
          0.9004681172008205,
          0.9082538844642577,
          0.9158689146526089,
          0.9232427199825818,
          0.9291339322706387,
          0.9348434427173198,
          0.9392606771369743,
          0.9435666974985453,
          0.9478406067588386,
          0.9518889551125964,
          0.955496363221981,
          0.9588742944368692,
          0.9620948029357379,
          0.9650537234388327,
          0.9677769014666942,
          0.9704992962969635,
          0.9731887968283631,
          0.9758641998031042,
          0.9784307383125382,
          0.9806456211031026,
          0.982552707239957,
          0.9843705088513077,
          0.9860629988479165,
          0.9876544563551395,
          0.9892161523538613,
          0.9906376559835905,
          0.991906436082853,
          0.9930232758492408,
          0.9939678121453583,
          0.9948027007785767,
          0.9955835487779376,
          0.9963330688736131,
          0.9970426458920895,
          0.9977271605876175,
          0.9983043772130227,
          0.9987641141996073,
          0.9992089704319413,
          0.9996412955028011,
          0.9998582412358231,
          1
         ],
         "yaxis": "y4"
        },
        {
         "line": {
          "color": "maroon"
         },
         "name": "s3",
         "type": "scatter",
         "x": [
          1,
          2,
          3,
          4,
          5,
          6,
          7,
          8,
          9,
          10,
          11,
          12,
          13,
          14,
          15,
          16,
          17,
          18,
          19,
          20,
          21,
          22,
          23,
          24,
          25,
          26,
          27,
          28,
          29,
          30,
          31,
          32,
          33,
          34,
          35,
          36,
          37,
          38,
          39,
          40,
          41,
          42,
          43,
          44,
          45,
          46,
          47,
          48,
          49,
          50,
          51,
          52,
          53,
          54,
          55,
          56,
          57,
          58,
          59,
          60,
          61,
          62,
          63,
          64
         ],
         "xaxis": "x4",
         "y": [
          0.14035246122952522,
          0.2294974228258539,
          0.3126597982537551,
          0.38567495743777586,
          0.44353353712268084,
          0.5013365536796248,
          0.5522957555847455,
          0.6011383495841014,
          0.6474823391729603,
          0.6933193152191749,
          0.7361385188780069,
          0.7705676902147255,
          0.7983787721069625,
          0.8247486853677107,
          0.8489412185514866,
          0.8673855725129206,
          0.8850668016387649,
          0.9000158875819013,
          0.9147861297069132,
          0.9273972234063149,
          0.9399501494561324,
          0.9507467597580572,
          0.9599372483923589,
          0.969041787813096,
          0.9759333520280107,
          0.9822206672263494,
          0.9866752673758489,
          0.9910144004000544,
          0.9942700524290201,
          0.9974449642876675,
          0.998945168742615,
          0.9999999999999999,
          0.9999999999999999,
          0.9999999999999999,
          0.9999999999999999,
          0.9999999999999999,
          0.9999999999999999,
          0.9999999999999999,
          0.9999999999999999,
          0.9999999999999999,
          0.9999999999999999,
          0.9999999999999999,
          0.9999999999999999,
          0.9999999999999999,
          0.9999999999999999,
          0.9999999999999999,
          0.9999999999999999,
          0.9999999999999999,
          0.9999999999999999,
          0.9999999999999999,
          0.9999999999999999,
          0.9999999999999999,
          0.9999999999999999,
          0.9999999999999999,
          0.9999999999999999,
          0.9999999999999999,
          0.9999999999999999,
          0.9999999999999999,
          0.9999999999999999,
          0.9999999999999999,
          0.9999999999999999,
          0.9999999999999999,
          0.9999999999999999,
          0.9999999999999999
         ],
         "yaxis": "y4"
        },
        {
         "line": {
          "color": "brown"
         },
         "name": "k2",
         "type": "scatter",
         "x": [
          1,
          2,
          3,
          4,
          5,
          6,
          7,
          8,
          9,
          10,
          11,
          12,
          13,
          14,
          15,
          16,
          17,
          18,
          19,
          20,
          21,
          22,
          23,
          24,
          25,
          26,
          27,
          28,
          29,
          30,
          31,
          32,
          33,
          34,
          35,
          36,
          37,
          38,
          39,
          40,
          41,
          42,
          43,
          44,
          45,
          46,
          47,
          48,
          49,
          50,
          51,
          52,
          53,
          54,
          55,
          56,
          57,
          58,
          59,
          60,
          61,
          62,
          63,
          64
         ],
         "xaxis": "x4",
         "y": [
          0,
          0,
          0,
          0,
          0,
          0,
          0,
          0,
          0,
          0,
          0,
          0,
          0,
          0,
          0,
          0,
          0,
          0,
          0,
          0,
          0,
          0,
          0,
          0,
          0,
          0,
          0,
          0,
          0,
          0,
          0,
          0,
          0,
          0,
          0,
          0,
          0,
          0,
          0,
          0,
          0,
          0,
          0,
          0,
          0,
          0,
          0,
          0,
          0,
          0,
          0,
          0,
          0,
          0,
          0,
          0,
          0,
          0,
          0,
          0,
          0,
          0,
          0,
          0
         ],
         "yaxis": "y4"
        },
        {
         "line": {
          "color": "blueviolet"
         },
         "name": "q2",
         "type": "scatter",
         "x": [
          1,
          2,
          3,
          4,
          5,
          6,
          7,
          8,
          9,
          10,
          11,
          12,
          13,
          14,
          15,
          16,
          17,
          18,
          19,
          20,
          21,
          22,
          23,
          24,
          25,
          26,
          27,
          28,
          29,
          30,
          31,
          32,
          33,
          34,
          35,
          36,
          37,
          38,
          39,
          40,
          41,
          42,
          43,
          44,
          45,
          46,
          47,
          48,
          49,
          50,
          51,
          52,
          53,
          54,
          55,
          56,
          57,
          58,
          59,
          60,
          61,
          62,
          63,
          64
         ],
         "xaxis": "x4",
         "y": [
          0.08826240707693318,
          0.14268932219533825,
          0.18652601845870878,
          0.2232616954422536,
          0.2586715422765741,
          0.2939872343686706,
          0.3272807891481186,
          0.3597663648605744,
          0.3885580091746133,
          0.41649131258279604,
          0.4442505392001227,
          0.4695376564227768,
          0.49432881901487874,
          0.5177120397639563,
          0.5389340807322174,
          0.5589244462934781,
          0.5785272446600028,
          0.5976329935733914,
          0.61672232014802,
          0.6356923110609926,
          0.654461949441093,
          0.6723590142217454,
          0.6899309166949495,
          0.7072772857158497,
          0.7239153045249017,
          0.7395690778309375,
          0.7549863694588292,
          0.7683848082418244,
          0.7815533342821795,
          0.7939675275621585,
          0.8057084049529774,
          0.816430002518092,
          0.8270508764054785,
          0.837323596711153,
          0.8471222588379553,
          0.8568092490611896,
          0.8661568442833838,
          0.875482543053898,
          0.8847206560176922,
          0.8931431261564062,
          0.9010794950678241,
          0.9090158639792421,
          0.916740932131948,
          0.9232244714743976,
          0.9296992522361751,
          0.9361324297397606,
          0.9423794874040661,
          0.9486046486166916,
          0.9547345602645091,
          0.9600181740548943,
          0.9635686836948072,
          0.9671016761733761,
          0.9705799275227449,
          0.9740351875978498,
          0.9774860683826186,
          0.9809292854092995,
          0.9843659335004763,
          0.9874905571552131,
          0.9899933215822376,
          0.9924807584930863,
          0.9947689376936468,
          0.9969585828616474,
          0.9988832809643199,
          1.0000000000000002
         ],
         "yaxis": "y4"
        },
        {
         "line": {
          "color": "red"
         },
         "name": "s4",
         "type": "scatter",
         "x": [
          1,
          2,
          3,
          4,
          5,
          6,
          7,
          8,
          9,
          10,
          11,
          12,
          13,
          14,
          15,
          16,
          17,
          18,
          19,
          20,
          21,
          22,
          23,
          24,
          25,
          26,
          27,
          28,
          29,
          30,
          31,
          32,
          33,
          34,
          35,
          36,
          37,
          38,
          39,
          40,
          41,
          42,
          43,
          44,
          45,
          46,
          47,
          48,
          49,
          50,
          51,
          52,
          53,
          54,
          55,
          56,
          57,
          58,
          59,
          60,
          61,
          62,
          63,
          64
         ],
         "xaxis": "x4",
         "y": [
          0.18571517538943022,
          0.2802994220494832,
          0.3458905341196057,
          0.4078423736232121,
          0.46525586743890474,
          0.522222894699679,
          0.5679168607348893,
          0.6122670413828009,
          0.6563233786203044,
          0.6914144218345829,
          0.724328392378316,
          0.7553661508179812,
          0.7836400269107936,
          0.811897237257941,
          0.8394474691310919,
          0.8653416521718537,
          0.8868071325882868,
          0.90684988461164,
          0.923964728265017,
          0.9381174549125795,
          0.9506939528780428,
          0.958263709987957,
          0.9657887327279283,
          0.9721471532713544,
          0.9784889080691156,
          0.9843859506009757,
          0.988461163988306,
          0.9919653563004852,
          0.9952476310519682,
          0.997404529398814,
          0.9991930270520138,
          1,
          1,
          1,
          1,
          1,
          1,
          1,
          1,
          1,
          1,
          1,
          1,
          1,
          1,
          1,
          1,
          1,
          1,
          1,
          1,
          1,
          1,
          1,
          1,
          1,
          1,
          1,
          1,
          1,
          1,
          1,
          1,
          1
         ],
         "yaxis": "y4"
        },
        {
         "line": {
          "color": "navy"
         },
         "name": "n4",
         "type": "scatter",
         "x": [
          1,
          2,
          3,
          4,
          5,
          6,
          7,
          8,
          9,
          10,
          11,
          12,
          13,
          14,
          15,
          16,
          17,
          18,
          19,
          20,
          21,
          22,
          23,
          24,
          25,
          26,
          27,
          28,
          29,
          30,
          31,
          32,
          33,
          34,
          35,
          36,
          37,
          38,
          39,
          40,
          41,
          42,
          43,
          44,
          45,
          46,
          47,
          48,
          49,
          50,
          51,
          52,
          53,
          54,
          55,
          56,
          57,
          58,
          59,
          60,
          61,
          62,
          63,
          64
         ],
         "xaxis": "x4",
         "y": [
          0.1990640850514527,
          0.3437124626292376,
          0.4739440664397831,
          0.5285076009767895,
          0.5651961778222246,
          0.60128052164374,
          0.6365134462042776,
          0.6624348813708012,
          0.6862075734308724,
          0.7063274022099743,
          0.7259964796156174,
          0.7444684001476656,
          0.7617342780263553,
          0.7771818022461636,
          0.791999243900922,
          0.805815015836883,
          0.8171702345765078,
          0.8275108588267702,
          0.8375469431705918,
          0.847136315131756,
          0.8562991696642711,
          0.8650912448411991,
          0.8736773314872455,
          0.8821495185926865,
          0.8903801740481918,
          0.8982473203315529,
          0.9057436872593269,
          0.9123538996052293,
          0.9182863692946228,
          0.9238504830229102,
          0.9290817839091455,
          0.9342177646124631,
          0.9389506540337808,
          0.9435987246482648,
          0.9481595530614342,
          0.952608097530319,
          0.9566470883319214,
          0.9599227098720209,
          0.9631910612286775,
          0.9662566552470937,
          0.9690944501842995,
          0.9718038052140143,
          0.9742764753827553,
          0.976703101056358,
          0.9790142115930349,
          0.9810215900214313,
          0.9828698322122446,
          0.9846106372477351,
          0.986319130356813,
          0.9879153395216062,
          0.989472774374704,
          0.990831490880363,
          0.9920181463778738,
          0.9931652197655289,
          0.9942476693003582,
          0.9951734059920855,
          0.9960983348856525,
          0.9969077486422936,
          0.997650115151628,
          0.9983714789087942,
          0.9990621463358682,
          0.9996122568830464,
          0.9998360169734553,
          1.0000000000000002
         ],
         "yaxis": "y4"
        },
        {
         "line": {
          "color": "silver"
         },
         "name": "r4",
         "type": "scatter",
         "x": [
          1,
          2,
          3,
          4,
          5,
          6,
          7,
          8,
          9,
          10,
          11,
          12,
          13,
          14,
          15,
          16,
          17,
          18,
          19,
          20,
          21,
          22,
          23,
          24,
          25,
          26,
          27,
          28,
          29,
          30,
          31,
          32,
          33,
          34,
          35,
          36,
          37,
          38,
          39,
          40,
          41,
          42,
          43,
          44,
          45,
          46,
          47,
          48,
          49,
          50,
          51,
          52,
          53,
          54,
          55,
          56,
          57,
          58,
          59,
          60,
          61,
          62,
          63,
          64
         ],
         "xaxis": "x4",
         "y": [
          0.12556018686882817,
          0.2095154838168238,
          0.26476067921783647,
          0.3143130892102834,
          0.3589336168070048,
          0.38995300304920694,
          0.4197037513637508,
          0.44832992978431757,
          0.47536296752175006,
          0.49783618205723557,
          0.5181078132430693,
          0.5381808263630514,
          0.5578342238509525,
          0.5745209388200408,
          0.5902019749909083,
          0.605533331468375,
          0.6207989481634822,
          0.6355582286625451,
          0.6500321705317929,
          0.6644319803060397,
          0.6785030911684896,
          0.692572803312166,
          0.7065921615799926,
          0.7204898313145158,
          0.7325216102050521,
          0.7438540297087867,
          0.7550731529918594,
          0.7661006518029484,
          0.7769337287045066,
          0.7876758888857806,
          0.7980851539989369,
          0.8084524575488852,
          0.8187428315662852,
          0.8288975298626458,
          0.8386144291828684,
          0.8479550731529918,
          0.856908272022827,
          0.8651635102246342,
          0.8733488124877612,
          0.8808501412705961,
          0.8879024813271044,
          0.8949436316334238,
          0.9017483984670043,
          0.9084062998293564,
          0.9150614037541612,
          0.9216311858337763,
          0.9281086524743336,
          0.9343469382046047,
          0.9404859149019499,
          0.9466067082552383,
          0.9524561501664476,
          0.9578789828517079,
          0.9632206898480993,
          0.9684658852491119,
          0.9729809494503037,
          0.9774344700254568,
          0.9815327160321147,
          0.9850099309032927,
          0.9882339776764485,
          0.9912943743530926,
          0.9936903796122752,
          0.9960500181833442,
          0.9980375975606346,
          1.0000000000000002
         ],
         "yaxis": "y4"
        },
        {
         "line": {
          "color": "black"
         },
         "name": "r3",
         "type": "scatter",
         "x": [
          1,
          2,
          3,
          4,
          5,
          6,
          7,
          8,
          9,
          10,
          11,
          12,
          13,
          14,
          15,
          16,
          17,
          18,
          19,
          20,
          21,
          22,
          23,
          24,
          25,
          26,
          27,
          28,
          29,
          30,
          31,
          32,
          33,
          34,
          35,
          36,
          37,
          38,
          39,
          40,
          41,
          42,
          43,
          44,
          45,
          46,
          47,
          48,
          49,
          50,
          51,
          52,
          53,
          54,
          55,
          56,
          57,
          58,
          59,
          60,
          61,
          62,
          63,
          64
         ],
         "xaxis": "x5",
         "y": [
          0.09884740001062305,
          0.16941023458259344,
          0.2225957832267919,
          0.27536502349271247,
          0.32046126968313193,
          0.3616198128334953,
          0.4001986795846678,
          0.435880614241479,
          0.46112325742643906,
          0.48364697623740494,
          0.5050681956190004,
          0.5253338003643417,
          0.5454027352896,
          0.5652620804795874,
          0.5836284576923023,
          0.6013445325072245,
          0.6181562132589913,
          0.6349291342651943,
          0.6514537057905625,
          0.6678490781640514,
          0.6840520873558532,
          0.6994497551676072,
          0.7146507531592782,
          0.728882757511854,
          0.7416304071639495,
          0.7538425981088116,
          0.7656700626902997,
          0.7773812480350963,
          0.7888713592755661,
          0.7998748203772903,
          0.8101518951362262,
          0.8199049955569848,
          0.8296322561473675,
          0.8393365479996383,
          0.8489360449842737,
          0.8584149560938217,
          0.8665214851011845,
          0.8741628971617819,
          0.8817023854470076,
          0.8886518642719844,
          0.8954620951221579,
          0.9022464861419556,
          0.9089748908626055,
          0.915589887438828,
          0.9221359778007148,
          0.9285413846416664,
          0.9348290766997945,
          0.9408770325538799,
          0.9467900470715579,
          0.9524475343777412,
          0.9578695921182777,
          0.9631681928914628,
          0.9682399773757931,
          0.9727102680308185,
          0.9762072584083528,
          0.9796697956787193,
          0.9829744228745665,
          0.98621875713287,
          0.989378394169386,
          0.9924203164230786,
          0.9945779422594636,
          0.9964987029840698,
          0.9983462508559445,
          1.0000000000000002
         ],
         "yaxis": "y5"
        },
        {
         "line": {
          "color": "blue"
         },
         "name": "n3",
         "type": "scatter",
         "x": [
          1,
          2,
          3,
          4,
          5,
          6,
          7,
          8,
          9,
          10,
          11,
          12,
          13,
          14,
          15,
          16,
          17,
          18,
          19,
          20,
          21,
          22,
          23,
          24,
          25,
          26,
          27,
          28,
          29,
          30,
          31,
          32,
          33,
          34,
          35,
          36,
          37,
          38,
          39,
          40,
          41,
          42,
          43,
          44,
          45,
          46,
          47,
          48,
          49,
          50,
          51,
          52,
          53,
          54,
          55,
          56,
          57,
          58,
          59,
          60,
          61,
          62,
          63,
          64
         ],
         "xaxis": "x5",
         "y": [
          0.1987124975163918,
          0.34254365631278005,
          0.45892575667262725,
          0.5078967702055323,
          0.5480910435569684,
          0.5841773185862198,
          0.6159030399364196,
          0.6466988983817913,
          0.6729999779234828,
          0.6975066781464556,
          0.7172589796233746,
          0.7360178378259046,
          0.7532233922776342,
          0.7700324524802966,
          0.7858083316775945,
          0.8003223171512461,
          0.8138163675298584,
          0.8266596021811599,
          0.8386754089674813,
          0.8505552244077974,
          0.8618407400048568,
          0.8726052497957921,
          0.883126034836744,
          0.892996004150385,
          0.9027538247566063,
          0.9113309932225091,
          0.9183698699693136,
          0.9242740137315937,
          0.9297604697882862,
          0.935150672229949,
          0.9402123760955471,
          0.9446471068724197,
          0.9489767534273792,
          0.9525920038854669,
          0.9561869439477227,
          0.9594507362518488,
          0.9626580126719209,
          0.9656860277722586,
          0.9684614875157295,
          0.971049738393271,
          0.9735417356557828,
          0.9759083383005496,
          0.9780347484380862,
          0.9801390820584143,
          0.9821577587919728,
          0.9841667218579595,
          0.9861553745281143,
          0.9878270084111529,
          0.9894068039826035,
          0.9907446409254475,
          0.9920427401373157,
          0.9932092633066205,
          0.9941029207232265,
          0.9948411594586836,
          0.9955670353445039,
          0.9962796653199989,
          0.9969755171424154,
          0.9976113208380244,
          0.99824359229088,
          0.9987151466984566,
          0.9991734551957081,
          0.9995946751440491,
          0.9998127911340705,
          0.9999999999999998
         ],
         "yaxis": "y5"
        },
        {
         "line": {
          "color": "maroon"
         },
         "name": "s3",
         "type": "scatter",
         "x": [
          1,
          2,
          3,
          4,
          5,
          6,
          7,
          8,
          9,
          10,
          11,
          12,
          13,
          14,
          15,
          16,
          17,
          18,
          19,
          20,
          21,
          22,
          23,
          24,
          25,
          26,
          27,
          28,
          29,
          30,
          31,
          32,
          33,
          34,
          35,
          36,
          37,
          38,
          39,
          40,
          41,
          42,
          43,
          44,
          45,
          46,
          47,
          48,
          49,
          50,
          51,
          52,
          53,
          54,
          55,
          56,
          57,
          58,
          59,
          60,
          61,
          62,
          63,
          64
         ],
         "xaxis": "x5",
         "y": [
          0.12742809114680612,
          0.21615177357950704,
          0.30469166024209376,
          0.3861727958416455,
          0.45440374665193645,
          0.5148457307719819,
          0.5716495521344153,
          0.6271389853678697,
          0.6695054006151694,
          0.7118449916149389,
          0.749099897471765,
          0.7845049237396577,
          0.8131164609478695,
          0.8360035050350105,
          0.8569035678236195,
          0.8745380268480912,
          0.8906395298007455,
          0.9049358602436833,
          0.9187543216843242,
          0.9309792241235425,
          0.9422444145955697,
          0.9517352307680079,
          0.9606289590602373,
          0.968986202401863,
          0.9766162105882259,
          0.9828245336554892,
          0.9873816752636724,
          0.990771465358968,
          0.9939486484553207,
          0.9966767737782052,
          0.9987144230998498,
          1,
          1,
          1,
          1,
          1,
          1,
          1,
          1,
          1,
          1,
          1,
          1,
          1,
          1,
          1,
          1,
          1,
          1,
          1,
          1,
          1,
          1,
          1,
          1,
          1,
          1,
          1,
          1,
          1,
          1,
          1,
          1,
          1
         ],
         "yaxis": "y5"
        },
        {
         "line": {
          "color": "brown"
         },
         "name": "k2",
         "type": "scatter",
         "x": [
          1,
          2,
          3,
          4,
          5,
          6,
          7,
          8,
          9,
          10,
          11,
          12,
          13,
          14,
          15,
          16,
          17,
          18,
          19,
          20,
          21,
          22,
          23,
          24,
          25,
          26,
          27,
          28,
          29,
          30,
          31,
          32,
          33,
          34,
          35,
          36,
          37,
          38,
          39,
          40,
          41,
          42,
          43,
          44,
          45,
          46,
          47,
          48,
          49,
          50,
          51,
          52,
          53,
          54,
          55,
          56,
          57,
          58,
          59,
          60,
          61,
          62,
          63,
          64
         ],
         "xaxis": "x5",
         "y": [
          0,
          0,
          0,
          0,
          0,
          0,
          0,
          0,
          0,
          0,
          0,
          0,
          0,
          0,
          0,
          0,
          0,
          0,
          0,
          0,
          0,
          0,
          0,
          0,
          0,
          0,
          0,
          0,
          0,
          0,
          0,
          0,
          0,
          0,
          0,
          0,
          0,
          0,
          0,
          0,
          0,
          0,
          0,
          0,
          0,
          0,
          0,
          0,
          0,
          0,
          0,
          0,
          0,
          0,
          0,
          0,
          0,
          0,
          0,
          0,
          0,
          0,
          0,
          0
         ],
         "yaxis": "y5"
        },
        {
         "line": {
          "color": "blueviolet"
         },
         "name": "q2",
         "type": "scatter",
         "x": [
          1,
          2,
          3,
          4,
          5,
          6,
          7,
          8,
          9,
          10,
          11,
          12,
          13,
          14,
          15,
          16,
          17,
          18,
          19,
          20,
          21,
          22,
          23,
          24,
          25,
          26,
          27,
          28,
          29,
          30,
          31,
          32,
          33,
          34,
          35,
          36,
          37,
          38,
          39,
          40,
          41,
          42,
          43,
          44,
          45,
          46,
          47,
          48,
          49,
          50,
          51,
          52,
          53,
          54,
          55,
          56,
          57,
          58,
          59,
          60,
          61,
          62,
          63,
          64
         ],
         "xaxis": "x5",
         "y": [
          0.07889692019514002,
          0.12917606597614495,
          0.16793351687122732,
          0.20512248656066318,
          0.24171672522573578,
          0.27451955361049263,
          0.30470459051915877,
          0.3341047774694439,
          0.36274326997254247,
          0.3912513603862827,
          0.41626418732077336,
          0.44092602545400045,
          0.4655756764760725,
          0.48881771615974384,
          0.5114467441523195,
          0.5335249147206897,
          0.5548706399086455,
          0.5760554952293554,
          0.5969844212158106,
          0.6175879513344278,
          0.6366169066918209,
          0.6555861452045546,
          0.6741093354490159,
          0.692316879514563,
          0.7104488634909493,
          0.727806965908994,
          0.7450882895267623,
          0.7603599585150737,
          0.7755255996363366,
          0.7895688078202255,
          0.8032585897806198,
          0.8155687907582698,
          0.8262690743523464,
          0.8369120785239945,
          0.8474783038953663,
          0.8571049029966887,
          0.8664853224526805,
          0.8758498986641707,
          0.8848610486521664,
          0.8929484156146142,
          0.9008310391096583,
          0.9087063503380095,
          0.91621361080948,
          0.9235526891470118,
          0.9303604094381863,
          0.9371669110182452,
          0.9438259485533289,
          0.9500279694201006,
          0.9558997195745722,
          0.9607038787918671,
          0.9642576404046607,
          0.9676944057503664,
          0.9711019220293001,
          0.9744948137748479,
          0.9778742996981252,
          0.9812367236657855,
          0.9845211501220539,
          0.9877141732446598,
          0.9901552516090033,
          0.9925439253953803,
          0.994799759670168,
          0.9970178139003752,
          0.9989324090628233,
          1
         ],
         "yaxis": "y5"
        },
        {
         "line": {
          "color": "red"
         },
         "name": "s4",
         "type": "scatter",
         "x": [
          1,
          2,
          3,
          4,
          5,
          6,
          7,
          8,
          9,
          10,
          11,
          12,
          13,
          14,
          15,
          16,
          17,
          18,
          19,
          20,
          21,
          22,
          23,
          24,
          25,
          26,
          27,
          28,
          29,
          30,
          31,
          32,
          33,
          34,
          35,
          36,
          37,
          38,
          39,
          40,
          41,
          42,
          43,
          44,
          45,
          46,
          47,
          48,
          49,
          50,
          51,
          52,
          53,
          54,
          55,
          56,
          57,
          58,
          59,
          60,
          61,
          62,
          63,
          64
         ],
         "xaxis": "x5",
         "y": [
          0.17817306318746726,
          0.2646193435233243,
          0.32969858578162947,
          0.3916361125660683,
          0.45357165531800075,
          0.510017380124756,
          0.5652260606637779,
          0.6099421852927638,
          0.6484691205180705,
          0.6862877561385965,
          0.7237085932415916,
          0.7572764392171801,
          0.7899673428249449,
          0.8199401218989572,
          0.8457871053759345,
          0.867785065790518,
          0.888663039855245,
          0.9063437455359269,
          0.9230334269796676,
          0.9374950399187341,
          0.950069837944225,
          0.9582509959843183,
          0.9656444931193754,
          0.9728425630525531,
          0.9789900877735982,
          0.9845056981413585,
          0.9884539228290717,
          0.9919438360078092,
          0.9947244575655129,
          0.9970189911591513,
          0.9990992492420997,
          1.0000000000000002,
          1.0000000000000002,
          1.0000000000000002,
          1.0000000000000002,
          1.0000000000000002,
          1.0000000000000002,
          1.0000000000000002,
          1.0000000000000002,
          1.0000000000000002,
          1.0000000000000002,
          1.0000000000000002,
          1.0000000000000002,
          1.0000000000000002,
          1.0000000000000002,
          1.0000000000000002,
          1.0000000000000002,
          1.0000000000000002,
          1.0000000000000002,
          1.0000000000000002,
          1.0000000000000002,
          1.0000000000000002,
          1.0000000000000002,
          1.0000000000000002,
          1.0000000000000002,
          1.0000000000000002,
          1.0000000000000002,
          1.0000000000000002,
          1.0000000000000002,
          1.0000000000000002,
          1.0000000000000002,
          1.0000000000000002,
          1.0000000000000002,
          1.0000000000000002
         ],
         "yaxis": "y5"
        },
        {
         "line": {
          "color": "navy"
         },
         "name": "n4",
         "type": "scatter",
         "x": [
          1,
          2,
          3,
          4,
          5,
          6,
          7,
          8,
          9,
          10,
          11,
          12,
          13,
          14,
          15,
          16,
          17,
          18,
          19,
          20,
          21,
          22,
          23,
          24,
          25,
          26,
          27,
          28,
          29,
          30,
          31,
          32,
          33,
          34,
          35,
          36,
          37,
          38,
          39,
          40,
          41,
          42,
          43,
          44,
          45,
          46,
          47,
          48,
          49,
          50,
          51,
          52,
          53,
          54,
          55,
          56,
          57,
          58,
          59,
          60,
          61,
          62,
          63,
          64
         ],
         "xaxis": "x5",
         "y": [
          0.17628683848337515,
          0.33083665805933743,
          0.44809303979225124,
          0.5001163730461698,
          0.540070813456756,
          0.5775658424034058,
          0.614974736969426,
          0.6460857421943008,
          0.6763757218335994,
          0.700277096135132,
          0.722571239547043,
          0.7408317282405311,
          0.7582244588653353,
          0.7742463699856503,
          0.7897184871870526,
          0.8044547968603101,
          0.8169305372036381,
          0.8279658174794147,
          0.8384210651707383,
          0.8487791826030541,
          0.858220976837182,
          0.8676343650521661,
          0.8759701571860812,
          0.8838862732952263,
          0.8912067793255493,
          0.8980599605247964,
          0.9049039784920617,
          0.9107684469604641,
          0.9161811680921599,
          0.9214546080977312,
          0.9267133869321315,
          0.9319217679906313,
          0.9370440146685015,
          0.9421021187224986,
          0.9467973587900133,
          0.9512314467460444,
          0.9555051781423927,
          0.9591017466952801,
          0.9624728997414134,
          0.9657570020837187,
          0.9689494721062053,
          0.9717708312334258,
          0.9745821108054662,
          0.9771588116387705,
          0.9794853562389695,
          0.9815296732941267,
          0.9834851069990596,
          0.9851225765542213,
          0.9866198486600603,
          0.9881143717963047,
          0.9894650321904336,
          0.9907368887895184,
          0.9919226110079735,
          0.9930212825226008,
          0.9940933806644806,
          0.9950665159009562,
          0.9959718432207658,
          0.9968139442399004,
          0.9976203086543057,
          0.9983964344031708,
          0.9991056685585682,
          0.9995867382376168,
          0.9998359781475239,
          0.9999999999999996
         ],
         "yaxis": "y5"
        },
        {
         "line": {
          "color": "silver"
         },
         "name": "r4",
         "type": "scatter",
         "x": [
          1,
          2,
          3,
          4,
          5,
          6,
          7,
          8,
          9,
          10,
          11,
          12,
          13,
          14,
          15,
          16,
          17,
          18,
          19,
          20,
          21,
          22,
          23,
          24,
          25,
          26,
          27,
          28,
          29,
          30,
          31,
          32,
          33,
          34,
          35,
          36,
          37,
          38,
          39,
          40,
          41,
          42,
          43,
          44,
          45,
          46,
          47,
          48,
          49,
          50,
          51,
          52,
          53,
          54,
          55,
          56,
          57,
          58,
          59,
          60,
          61,
          62,
          63,
          64
         ],
         "xaxis": "x5",
         "y": [
          0.09118867986200462,
          0.170345850184083,
          0.22502845189030496,
          0.2775641616126799,
          0.32463681124882254,
          0.3605114505858266,
          0.39108646106028233,
          0.41935857701919277,
          0.4459844948340876,
          0.4697102512977925,
          0.49188786835169207,
          0.5121681974724618,
          0.5315318260022048,
          0.549611776556831,
          0.5667809694740189,
          0.5839026187624988,
          0.6009752386838736,
          0.6180181438373058,
          0.6348991035054513,
          0.6513491990384302,
          0.6672763146556209,
          0.6831529151673091,
          0.6988096263962228,
          0.7120148692698786,
          0.7247818193163822,
          0.7374551678438669,
          0.7499814282700361,
          0.7623145427045789,
          0.774580798911251,
          0.7863225894637377,
          0.7978415192566555,
          0.8092831906529228,
          0.8200503368168948,
          0.8303791901537146,
          0.8404034671191237,
          0.8502464840000834,
          0.8596185218091541,
          0.8681526031622457,
          0.8759378723631859,
          0.8836755979354181,
          0.8910938897522681,
          0.8981452041850281,
          0.9047923977737697,
          0.9113593614890666,
          0.9178594669764928,
          0.924300142928034,
          0.9303872131410591,
          0.936165249767482,
          0.9419046571955797,
          0.9476321787165004,
          0.9531977547521343,
          0.9584097250492523,
          0.9636008950088104,
          0.9687088636181296,
          0.9733072239572345,
          0.9776797520599763,
          0.9818606199094888,
          0.9853194188979981,
          0.9887455316417707,
          0.9918581535837496,
          0.9940808182258501,
          0.9961578805050323,
          0.9980952833748846,
          1.0000000000000002
         ],
         "yaxis": "y5"
        },
        {
         "line": {
          "color": "black"
         },
         "name": "r3",
         "type": "scatter",
         "x": [
          1,
          2,
          3,
          4,
          5,
          6,
          7,
          8,
          9,
          10,
          11,
          12,
          13,
          14,
          15,
          16,
          17,
          18,
          19,
          20,
          21,
          22,
          23,
          24,
          25,
          26,
          27,
          28,
          29,
          30,
          31,
          32,
          33,
          34,
          35,
          36,
          37,
          38,
          39,
          40,
          41,
          42,
          43,
          44,
          45,
          46,
          47,
          48,
          49,
          50,
          51,
          52,
          53,
          54,
          55,
          56,
          57,
          58,
          59,
          60,
          61,
          62,
          63,
          64
         ],
         "xaxis": "x6",
         "y": [
          0.09054115520223427,
          0.16035043703229435,
          0.21739495725282398,
          0.2611358493955135,
          0.3022896030640063,
          0.34208749916707465,
          0.38096990170032646,
          0.41621640413826266,
          0.4427019807688407,
          0.4664961221894202,
          0.4875698570845006,
          0.5084552784288277,
          0.5288452902780957,
          0.5485892417917021,
          0.5681825424647058,
          0.5871761369068487,
          0.6057235730902835,
          0.6240508272759143,
          0.64154370757513,
          0.6587671546401909,
          0.6746521269291276,
          0.6898678618300023,
          0.7046606155245693,
          0.7193896323250352,
          0.7336377252881924,
          0.7473353632568396,
          0.7609142188319347,
          0.7741309329632732,
          0.7865509359183473,
          0.7980438567774047,
          0.8088095976173991,
          0.8190625461730342,
          0.8292285807821677,
          0.8390788280523455,
          0.848807395797421,
          0.8582462503874914,
          0.8668333483018463,
          0.8746961633286883,
          0.8821765569909233,
          0.8894831227601552,
          0.896560815136933,
          0.9034386054367571,
          0.9101164936596277,
          0.9166929822782464,
          0.9232607795022149,
          0.9298256795946334,
          0.9362862829512499,
          0.9424166133111606,
          0.9480138714658616,
          0.953301136544707,
          0.9583566310995483,
          0.9633976399966393,
          0.9682879980531276,
          0.972961071243362,
          0.9765564114969768,
          0.9799779238575885,
          0.9833443907187492,
          0.9865631038708573,
          0.9897557428390149,
          0.9927339940724687,
          0.9948489001040068,
          0.9967001671644903,
          0.998400783384371,
          0.9999999999999999
         ],
         "yaxis": "y6"
        },
        {
         "line": {
          "color": "blue"
         },
         "name": "n3",
         "type": "scatter",
         "x": [
          1,
          2,
          3,
          4,
          5,
          6,
          7,
          8,
          9,
          10,
          11,
          12,
          13,
          14,
          15,
          16,
          17,
          18,
          19,
          20,
          21,
          22,
          23,
          24,
          25,
          26,
          27,
          28,
          29,
          30,
          31,
          32,
          33,
          34,
          35,
          36,
          37,
          38,
          39,
          40,
          41,
          42,
          43,
          44,
          45,
          46,
          47,
          48,
          49,
          50,
          51,
          52,
          53,
          54,
          55,
          56,
          57,
          58,
          59,
          60,
          61,
          62,
          63,
          64
         ],
         "xaxis": "x6",
         "y": [
          0.197866468104344,
          0.34993570151827996,
          0.45923932141832763,
          0.5169123052287867,
          0.5567051824386315,
          0.5952158890381062,
          0.6268161709256893,
          0.6554152238289984,
          0.6796093083686802,
          0.7028840290929261,
          0.7239021295429205,
          0.7406140362540865,
          0.7572290678524689,
          0.7731431795171823,
          0.7890098033815115,
          0.8037006293083309,
          0.817208059249579,
          0.8306585038303661,
          0.843453616765853,
          0.8557301629211457,
          0.8665079940963167,
          0.8762847824393915,
          0.8859741932297595,
          0.8952039221124095,
          0.904211408089262,
          0.9121817605057263,
          0.9188338515835284,
          0.9250889446501196,
          0.9313421382046955,
          0.9368279289050645,
          0.9414760348066584,
          0.9460082704753151,
          0.9501321110606687,
          0.9534505585515084,
          0.9566683319055338,
          0.95981202429096,
          0.9627334737705887,
          0.9654136852242663,
          0.9679913230291143,
          0.9705043774254398,
          0.9729984367016118,
          0.9754924959777838,
          0.9778592879489264,
          0.9799468516538106,
          0.9820021236544336,
          0.9839928122465343,
          0.9859683047425122,
          0.9878317260295836,
          0.9896837502445628,
          0.9912793403374679,
          0.9926014007001607,
          0.9936309362124875,
          0.9945427019798619,
          0.9952816121538383,
          0.9959768335514612,
          0.9966359642207923,
          0.9972457075777239,
          0.9978060636222561,
          0.9983436255226039,
          0.9987995084062911,
          0.9992230995857171,
          0.999604901500805,
          0.999834742454664,
          1.0000000000000007
         ],
         "yaxis": "y6"
        },
        {
         "line": {
          "color": "maroon"
         },
         "name": "s3",
         "type": "scatter",
         "x": [
          1,
          2,
          3,
          4,
          5,
          6,
          7,
          8,
          9,
          10,
          11,
          12,
          13,
          14,
          15,
          16,
          17,
          18,
          19,
          20,
          21,
          22,
          23,
          24,
          25,
          26,
          27,
          28,
          29,
          30,
          31,
          32,
          33,
          34,
          35,
          36,
          37,
          38,
          39,
          40,
          41,
          42,
          43,
          44,
          45,
          46,
          47,
          48,
          49,
          50,
          51,
          52,
          53,
          54,
          55,
          56,
          57,
          58,
          59,
          60,
          61,
          62,
          63,
          64
         ],
         "xaxis": "x6",
         "y": [
          0.11494653472247937,
          0.2061174123197766,
          0.2948747829913109,
          0.3817697453401672,
          0.46113665720577757,
          0.524691613499084,
          0.5869984294778939,
          0.6409102493448897,
          0.6814846117150929,
          0.7196955670325409,
          0.7577954313272327,
          0.7895304334945967,
          0.8175754711021753,
          0.8376981940084908,
          0.8553769144141691,
          0.8729075134561723,
          0.8891442288213678,
          0.9051827229498804,
          0.9211362651198148,
          0.9329140917873238,
          0.9423982155732187,
          0.9517189702080014,
          0.9609721989269913,
          0.9691646172914264,
          0.9759978043186089,
          0.9824715792133447,
          0.9874314666411084,
          0.9905441935336311,
          0.9934543426787747,
          0.9960203274789089,
          0.9982704652535597,
          0.9999999999999999,
          0.9999999999999999,
          0.9999999999999999,
          0.9999999999999999,
          0.9999999999999999,
          0.9999999999999999,
          0.9999999999999999,
          0.9999999999999999,
          0.9999999999999999,
          0.9999999999999999,
          0.9999999999999999,
          0.9999999999999999,
          0.9999999999999999,
          0.9999999999999999,
          0.9999999999999999,
          0.9999999999999999,
          0.9999999999999999,
          0.9999999999999999,
          0.9999999999999999,
          0.9999999999999999,
          0.9999999999999999,
          0.9999999999999999,
          0.9999999999999999,
          0.9999999999999999,
          0.9999999999999999,
          0.9999999999999999,
          0.9999999999999999,
          0.9999999999999999,
          0.9999999999999999,
          0.9999999999999999,
          0.9999999999999999,
          0.9999999999999999,
          0.9999999999999999
         ],
         "yaxis": "y6"
        },
        {
         "line": {
          "color": "brown"
         },
         "name": "k2",
         "type": "scatter",
         "x": [
          1,
          2,
          3,
          4,
          5,
          6,
          7,
          8,
          9,
          10,
          11,
          12,
          13,
          14,
          15,
          16,
          17,
          18,
          19,
          20,
          21,
          22,
          23,
          24,
          25,
          26,
          27,
          28,
          29,
          30,
          31,
          32,
          33,
          34,
          35,
          36,
          37,
          38,
          39,
          40,
          41,
          42,
          43,
          44,
          45,
          46,
          47,
          48,
          49,
          50,
          51,
          52,
          53,
          54,
          55,
          56,
          57,
          58,
          59,
          60,
          61,
          62,
          63,
          64
         ],
         "xaxis": "x6",
         "y": [
          0,
          0,
          0,
          0,
          0,
          0,
          0,
          0,
          0,
          0,
          0,
          0,
          0,
          0,
          0,
          0,
          0,
          0,
          0,
          0,
          0,
          0,
          0,
          0,
          0,
          0,
          0,
          0,
          0,
          0,
          0,
          0,
          0,
          0,
          0,
          0,
          0,
          0,
          0,
          0,
          0,
          0,
          0,
          0,
          0,
          0,
          0,
          0,
          0,
          0,
          0,
          0,
          0,
          0,
          0,
          0,
          0,
          0,
          0,
          0,
          0,
          0,
          0,
          0
         ],
         "yaxis": "y6"
        },
        {
         "line": {
          "color": "blueviolet"
         },
         "name": "q2",
         "type": "scatter",
         "x": [
          1,
          2,
          3,
          4,
          5,
          6,
          7,
          8,
          9,
          10,
          11,
          12,
          13,
          14,
          15,
          16,
          17,
          18,
          19,
          20,
          21,
          22,
          23,
          24,
          25,
          26,
          27,
          28,
          29,
          30,
          31,
          32,
          33,
          34,
          35,
          36,
          37,
          38,
          39,
          40,
          41,
          42,
          43,
          44,
          45,
          46,
          47,
          48,
          49,
          50,
          51,
          52,
          53,
          54,
          55,
          56,
          57,
          58,
          59,
          60,
          61,
          62,
          63,
          64
         ],
         "xaxis": "x6",
         "y": [
          0.07709283691909528,
          0.1294084307829659,
          0.16780312624607213,
          0.20539782772794185,
          0.24209974595802414,
          0.2723314934307704,
          0.3021795447306979,
          0.33101443750893406,
          0.3593302119357095,
          0.38652499166150467,
          0.411836399976928,
          0.43682429975448456,
          0.4617996604414261,
          0.48496688426168577,
          0.5080764282651165,
          0.5303232828342357,
          0.5518478857839314,
          0.5733549340067661,
          0.59451841114675,
          0.615553989562461,
          0.6346184229334952,
          0.6535098168540425,
          0.6723410231396378,
          0.6901264692679429,
          0.7075257114053061,
          0.7244911010073906,
          0.7410803178910252,
          0.757596808049093,
          0.773925211847936,
          0.7895714891173232,
          0.8035325126080556,
          0.817338051375162,
          0.8290194681920888,
          0.8398055939391051,
          0.8496287175268901,
          0.8589452618538292,
          0.8681414309108646,
          0.877332584331654,
          0.8857262515893297,
          0.8937462539466787,
          0.9016534044884928,
          0.909410085942927,
          0.9170539155818264,
          0.9243817601372278,
          0.9316920499657683,
          0.9388142534350838,
          0.9454524480066607,
          0.9513382971413381,
          0.9570611380980205,
          0.9613896321783159,
          0.9650134293660486,
          0.9685945936456904,
          0.9719500542942624,
          0.9752854523978504,
          0.9785732019571013,
          0.9817506075189403,
          0.9848452550827204,
          0.9877768944685056,
          0.9900891027779102,
          0.9923912798148228,
          0.9946708864886283,
          0.9968602117100059,
          0.9988639583902817,
          1
         ],
         "yaxis": "y6"
        },
        {
         "line": {
          "color": "red"
         },
         "name": "s4",
         "type": "scatter",
         "x": [
          1,
          2,
          3,
          4,
          5,
          6,
          7,
          8,
          9,
          10,
          11,
          12,
          13,
          14,
          15,
          16,
          17,
          18,
          19,
          20,
          21,
          22,
          23,
          24,
          25,
          26,
          27,
          28,
          29,
          30,
          31,
          32,
          33,
          34,
          35,
          36,
          37,
          38,
          39,
          40,
          41,
          42,
          43,
          44,
          45,
          46,
          47,
          48,
          49,
          50,
          51,
          52,
          53,
          54,
          55,
          56,
          57,
          58,
          59,
          60,
          61,
          62,
          63,
          64
         ],
         "xaxis": "x6",
         "y": [
          0.16829861185150435,
          0.25533402989530246,
          0.3247222636842442,
          0.39211250186579094,
          0.45549182250463777,
          0.5094504978996524,
          0.558914216261168,
          0.6065803782757958,
          0.6458472823421539,
          0.6850310254387273,
          0.7238927863189542,
          0.7589931125658356,
          0.792280956137919,
          0.8234641874746783,
          0.8479518945774781,
          0.8697997739727485,
          0.8901614175746847,
          0.9088278567925451,
          0.9247030726912167,
          0.939205066422159,
          0.9517964901806083,
          0.9603727317312405,
          0.968458536793398,
          0.9746081838923596,
          0.9802418065121433,
          0.985176024052711,
          0.9893191462140433,
          0.991807578309913,
          0.9942832164104312,
          0.9966330468899928,
          0.9989658187090856,
          0.9999999999999998,
          0.9999999999999998,
          0.9999999999999998,
          0.9999999999999998,
          0.9999999999999998,
          0.9999999999999998,
          0.9999999999999998,
          0.9999999999999998,
          0.9999999999999998,
          0.9999999999999998,
          0.9999999999999998,
          0.9999999999999998,
          0.9999999999999998,
          0.9999999999999998,
          0.9999999999999998,
          0.9999999999999998,
          0.9999999999999998,
          0.9999999999999998,
          0.9999999999999998,
          0.9999999999999998,
          0.9999999999999998,
          0.9999999999999998,
          0.9999999999999998,
          0.9999999999999998,
          0.9999999999999998,
          0.9999999999999998,
          0.9999999999999998,
          0.9999999999999998,
          0.9999999999999998,
          0.9999999999999998,
          0.9999999999999998,
          0.9999999999999998,
          0.9999999999999998
         ],
         "yaxis": "y6"
        },
        {
         "line": {
          "color": "navy"
         },
         "name": "n4",
         "type": "scatter",
         "x": [
          1,
          2,
          3,
          4,
          5,
          6,
          7,
          8,
          9,
          10,
          11,
          12,
          13,
          14,
          15,
          16,
          17,
          18,
          19,
          20,
          21,
          22,
          23,
          24,
          25,
          26,
          27,
          28,
          29,
          30,
          31,
          32,
          33,
          34,
          35,
          36,
          37,
          38,
          39,
          40,
          41,
          42,
          43,
          44,
          45,
          46,
          47,
          48,
          49,
          50,
          51,
          52,
          53,
          54,
          55,
          56,
          57,
          58,
          59,
          60,
          61,
          62,
          63,
          64
         ],
         "xaxis": "x6",
         "y": [
          0.16020352170432708,
          0.31468569978778516,
          0.43131339156293574,
          0.48264224196425587,
          0.5224025316306321,
          0.5596610856195434,
          0.5957985788095908,
          0.6296329804286386,
          0.6626708388484935,
          0.6890295350351168,
          0.712689818211141,
          0.7325463617643531,
          0.7512916783853578,
          0.7673012133024681,
          0.7825456733936871,
          0.7970427596189967,
          0.8109458802982416,
          0.823061204019298,
          0.8346454989408927,
          0.8458403727428819,
          0.8568130011584296,
          0.8666940703750835,
          0.87543441105956,
          0.883675191317876,
          0.8900986730180335,
          0.8963058096517436,
          0.9024637769521702,
          0.9081792202530452,
          0.9138690955006128,
          0.9194881669082521,
          0.9250541354359453,
          0.9304863633771073,
          0.935835986838353,
          0.9409358300865185,
          0.9458055608549172,
          0.9499397183973946,
          0.9537945941268217,
          0.9575452308696877,
          0.961181794759336,
          0.964666917102471,
          0.9681304049389613,
          0.9715191553888607,
          0.9743591760793161,
          0.9769828517033241,
          0.9795455573540606,
          0.9819646885516092,
          0.9840652024694807,
          0.9857054914278185,
          0.987170737559667,
          0.9885396117982799,
          0.9898494828369525,
          0.9910275800624254,
          0.9921840427812535,
          0.993175296540249,
          0.9941626167525819,
          0.9950653657116671,
          0.995942546617445,
          0.99678629237659,
          0.9976162707224157,
          0.9984403487482473,
          0.9990244804276553,
          0.999565343093774,
          0.9998190568535169,
          1.0000000000000002
         ],
         "yaxis": "y6"
        },
        {
         "line": {
          "color": "silver"
         },
         "name": "r4",
         "type": "scatter",
         "x": [
          1,
          2,
          3,
          4,
          5,
          6,
          7,
          8,
          9,
          10,
          11,
          12,
          13,
          14,
          15,
          16,
          17,
          18,
          19,
          20,
          21,
          22,
          23,
          24,
          25,
          26,
          27,
          28,
          29,
          30,
          31,
          32,
          33,
          34,
          35,
          36,
          37,
          38,
          39,
          40,
          41,
          42,
          43,
          44,
          45,
          46,
          47,
          48,
          49,
          50,
          51,
          52,
          53,
          54,
          55,
          56,
          57,
          58,
          59,
          60,
          61,
          62,
          63,
          64
         ],
         "xaxis": "x6",
         "y": [
          0.07825999030486154,
          0.1548694278976122,
          0.21080680800949292,
          0.2656170539269772,
          0.3093611617511919,
          0.34802870474734654,
          0.37556765630436795,
          0.400804755970986,
          0.42602698579335085,
          0.45106780351582604,
          0.47507962801597625,
          0.4941160026289886,
          0.5127895530422215,
          0.5314006501095908,
          0.5497738296689081,
          0.5680191285676475,
          0.586228739840179,
          0.6043818457045481,
          0.622359487406729,
          0.639757205183033,
          0.6570657038938176,
          0.6739013415573487,
          0.6901719251392563,
          0.7044707673731827,
          0.7180528831141024,
          0.7316260769484701,
          0.745181426969734,
          0.758591052517316,
          0.771150122973612,
          0.7834861457661092,
          0.7956586002718207,
          0.8075425797990191,
          0.819277860883685,
          0.8300228103410844,
          0.8406279832625032,
          0.8508227484825323,
          0.8595364772149375,
          0.8680985335359597,
          0.8763275053457089,
          0.884235288519588,
          0.8917148201789734,
          0.8991646121498523,
          0.9061653348242831,
          0.9129876193676748,
          0.9195600905276119,
          0.9257727114566203,
          0.9318396079119469,
          0.9375853157314031,
          0.9431436635132685,
          0.9486306360427182,
          0.9539867539427394,
          0.9588878546086109,
          0.9637473197105735,
          0.9685413574978217,
          0.9732342803441477,
          0.9777874266544933,
          0.9821799786469037,
          0.9857071057037748,
          0.9891093260689188,
          0.9918156377230105,
          0.9942156305854852,
          0.9964728729431288,
          0.9983494472878891,
          1
         ],
         "yaxis": "y6"
        }
       ],
       "layout": {
        "annotations": [
         {
          "font": {
           "size": 16
          },
          "showarrow": false,
          "text": "All Games",
          "x": 0.14444444444444446,
          "xanchor": "center",
          "xref": "paper",
          "y": 1,
          "yanchor": "bottom",
          "yref": "paper"
         },
         {
          "font": {
           "size": 16
          },
          "showarrow": false,
          "text": "Elo 0-1250",
          "x": 0.5,
          "xanchor": "center",
          "xref": "paper",
          "y": 1,
          "yanchor": "bottom",
          "yref": "paper"
         },
         {
          "font": {
           "size": 16
          },
          "showarrow": false,
          "text": "Elo 1250-1500",
          "x": 0.8555555555555556,
          "xanchor": "center",
          "xref": "paper",
          "y": 1,
          "yanchor": "bottom",
          "yref": "paper"
         },
         {
          "font": {
           "size": 16
          },
          "showarrow": false,
          "text": "Elo 1500-1750",
          "x": 0.14444444444444446,
          "xanchor": "center",
          "xref": "paper",
          "y": 0.375,
          "yanchor": "bottom",
          "yref": "paper"
         },
         {
          "font": {
           "size": 16
          },
          "showarrow": false,
          "text": "Elo 1750-2000",
          "x": 0.5,
          "xanchor": "center",
          "xref": "paper",
          "y": 0.375,
          "yanchor": "bottom",
          "yref": "paper"
         },
         {
          "font": {
           "size": 16
          },
          "showarrow": false,
          "text": "Elo 2000+",
          "x": 0.8555555555555556,
          "xanchor": "center",
          "xref": "paper",
          "y": 0.375,
          "yanchor": "bottom",
          "yref": "paper"
         }
        ],
        "template": {
         "data": {
          "bar": [
           {
            "error_x": {
             "color": "#2a3f5f"
            },
            "error_y": {
             "color": "#2a3f5f"
            },
            "marker": {
             "line": {
              "color": "#E5ECF6",
              "width": 0.5
             }
            },
            "type": "bar"
           }
          ],
          "barpolar": [
           {
            "marker": {
             "line": {
              "color": "#E5ECF6",
              "width": 0.5
             }
            },
            "type": "barpolar"
           }
          ],
          "carpet": [
           {
            "aaxis": {
             "endlinecolor": "#2a3f5f",
             "gridcolor": "white",
             "linecolor": "white",
             "minorgridcolor": "white",
             "startlinecolor": "#2a3f5f"
            },
            "baxis": {
             "endlinecolor": "#2a3f5f",
             "gridcolor": "white",
             "linecolor": "white",
             "minorgridcolor": "white",
             "startlinecolor": "#2a3f5f"
            },
            "type": "carpet"
           }
          ],
          "choropleth": [
           {
            "colorbar": {
             "outlinewidth": 0,
             "ticks": ""
            },
            "type": "choropleth"
           }
          ],
          "contour": [
           {
            "colorbar": {
             "outlinewidth": 0,
             "ticks": ""
            },
            "colorscale": [
             [
              0,
              "#0d0887"
             ],
             [
              0.1111111111111111,
              "#46039f"
             ],
             [
              0.2222222222222222,
              "#7201a8"
             ],
             [
              0.3333333333333333,
              "#9c179e"
             ],
             [
              0.4444444444444444,
              "#bd3786"
             ],
             [
              0.5555555555555556,
              "#d8576b"
             ],
             [
              0.6666666666666666,
              "#ed7953"
             ],
             [
              0.7777777777777778,
              "#fb9f3a"
             ],
             [
              0.8888888888888888,
              "#fdca26"
             ],
             [
              1,
              "#f0f921"
             ]
            ],
            "type": "contour"
           }
          ],
          "contourcarpet": [
           {
            "colorbar": {
             "outlinewidth": 0,
             "ticks": ""
            },
            "type": "contourcarpet"
           }
          ],
          "heatmap": [
           {
            "colorbar": {
             "outlinewidth": 0,
             "ticks": ""
            },
            "colorscale": [
             [
              0,
              "#0d0887"
             ],
             [
              0.1111111111111111,
              "#46039f"
             ],
             [
              0.2222222222222222,
              "#7201a8"
             ],
             [
              0.3333333333333333,
              "#9c179e"
             ],
             [
              0.4444444444444444,
              "#bd3786"
             ],
             [
              0.5555555555555556,
              "#d8576b"
             ],
             [
              0.6666666666666666,
              "#ed7953"
             ],
             [
              0.7777777777777778,
              "#fb9f3a"
             ],
             [
              0.8888888888888888,
              "#fdca26"
             ],
             [
              1,
              "#f0f921"
             ]
            ],
            "type": "heatmap"
           }
          ],
          "heatmapgl": [
           {
            "colorbar": {
             "outlinewidth": 0,
             "ticks": ""
            },
            "colorscale": [
             [
              0,
              "#0d0887"
             ],
             [
              0.1111111111111111,
              "#46039f"
             ],
             [
              0.2222222222222222,
              "#7201a8"
             ],
             [
              0.3333333333333333,
              "#9c179e"
             ],
             [
              0.4444444444444444,
              "#bd3786"
             ],
             [
              0.5555555555555556,
              "#d8576b"
             ],
             [
              0.6666666666666666,
              "#ed7953"
             ],
             [
              0.7777777777777778,
              "#fb9f3a"
             ],
             [
              0.8888888888888888,
              "#fdca26"
             ],
             [
              1,
              "#f0f921"
             ]
            ],
            "type": "heatmapgl"
           }
          ],
          "histogram": [
           {
            "marker": {
             "colorbar": {
              "outlinewidth": 0,
              "ticks": ""
             }
            },
            "type": "histogram"
           }
          ],
          "histogram2d": [
           {
            "colorbar": {
             "outlinewidth": 0,
             "ticks": ""
            },
            "colorscale": [
             [
              0,
              "#0d0887"
             ],
             [
              0.1111111111111111,
              "#46039f"
             ],
             [
              0.2222222222222222,
              "#7201a8"
             ],
             [
              0.3333333333333333,
              "#9c179e"
             ],
             [
              0.4444444444444444,
              "#bd3786"
             ],
             [
              0.5555555555555556,
              "#d8576b"
             ],
             [
              0.6666666666666666,
              "#ed7953"
             ],
             [
              0.7777777777777778,
              "#fb9f3a"
             ],
             [
              0.8888888888888888,
              "#fdca26"
             ],
             [
              1,
              "#f0f921"
             ]
            ],
            "type": "histogram2d"
           }
          ],
          "histogram2dcontour": [
           {
            "colorbar": {
             "outlinewidth": 0,
             "ticks": ""
            },
            "colorscale": [
             [
              0,
              "#0d0887"
             ],
             [
              0.1111111111111111,
              "#46039f"
             ],
             [
              0.2222222222222222,
              "#7201a8"
             ],
             [
              0.3333333333333333,
              "#9c179e"
             ],
             [
              0.4444444444444444,
              "#bd3786"
             ],
             [
              0.5555555555555556,
              "#d8576b"
             ],
             [
              0.6666666666666666,
              "#ed7953"
             ],
             [
              0.7777777777777778,
              "#fb9f3a"
             ],
             [
              0.8888888888888888,
              "#fdca26"
             ],
             [
              1,
              "#f0f921"
             ]
            ],
            "type": "histogram2dcontour"
           }
          ],
          "mesh3d": [
           {
            "colorbar": {
             "outlinewidth": 0,
             "ticks": ""
            },
            "type": "mesh3d"
           }
          ],
          "parcoords": [
           {
            "line": {
             "colorbar": {
              "outlinewidth": 0,
              "ticks": ""
             }
            },
            "type": "parcoords"
           }
          ],
          "pie": [
           {
            "automargin": true,
            "type": "pie"
           }
          ],
          "scatter": [
           {
            "marker": {
             "colorbar": {
              "outlinewidth": 0,
              "ticks": ""
             }
            },
            "type": "scatter"
           }
          ],
          "scatter3d": [
           {
            "line": {
             "colorbar": {
              "outlinewidth": 0,
              "ticks": ""
             }
            },
            "marker": {
             "colorbar": {
              "outlinewidth": 0,
              "ticks": ""
             }
            },
            "type": "scatter3d"
           }
          ],
          "scattercarpet": [
           {
            "marker": {
             "colorbar": {
              "outlinewidth": 0,
              "ticks": ""
             }
            },
            "type": "scattercarpet"
           }
          ],
          "scattergeo": [
           {
            "marker": {
             "colorbar": {
              "outlinewidth": 0,
              "ticks": ""
             }
            },
            "type": "scattergeo"
           }
          ],
          "scattergl": [
           {
            "marker": {
             "colorbar": {
              "outlinewidth": 0,
              "ticks": ""
             }
            },
            "type": "scattergl"
           }
          ],
          "scattermapbox": [
           {
            "marker": {
             "colorbar": {
              "outlinewidth": 0,
              "ticks": ""
             }
            },
            "type": "scattermapbox"
           }
          ],
          "scatterpolar": [
           {
            "marker": {
             "colorbar": {
              "outlinewidth": 0,
              "ticks": ""
             }
            },
            "type": "scatterpolar"
           }
          ],
          "scatterpolargl": [
           {
            "marker": {
             "colorbar": {
              "outlinewidth": 0,
              "ticks": ""
             }
            },
            "type": "scatterpolargl"
           }
          ],
          "scatterternary": [
           {
            "marker": {
             "colorbar": {
              "outlinewidth": 0,
              "ticks": ""
             }
            },
            "type": "scatterternary"
           }
          ],
          "surface": [
           {
            "colorbar": {
             "outlinewidth": 0,
             "ticks": ""
            },
            "colorscale": [
             [
              0,
              "#0d0887"
             ],
             [
              0.1111111111111111,
              "#46039f"
             ],
             [
              0.2222222222222222,
              "#7201a8"
             ],
             [
              0.3333333333333333,
              "#9c179e"
             ],
             [
              0.4444444444444444,
              "#bd3786"
             ],
             [
              0.5555555555555556,
              "#d8576b"
             ],
             [
              0.6666666666666666,
              "#ed7953"
             ],
             [
              0.7777777777777778,
              "#fb9f3a"
             ],
             [
              0.8888888888888888,
              "#fdca26"
             ],
             [
              1,
              "#f0f921"
             ]
            ],
            "type": "surface"
           }
          ],
          "table": [
           {
            "cells": {
             "fill": {
              "color": "#EBF0F8"
             },
             "line": {
              "color": "white"
             }
            },
            "header": {
             "fill": {
              "color": "#C8D4E3"
             },
             "line": {
              "color": "white"
             }
            },
            "type": "table"
           }
          ]
         },
         "layout": {
          "annotationdefaults": {
           "arrowcolor": "#2a3f5f",
           "arrowhead": 0,
           "arrowwidth": 1
          },
          "autotypenumbers": "strict",
          "coloraxis": {
           "colorbar": {
            "outlinewidth": 0,
            "ticks": ""
           }
          },
          "colorscale": {
           "diverging": [
            [
             0,
             "#8e0152"
            ],
            [
             0.1,
             "#c51b7d"
            ],
            [
             0.2,
             "#de77ae"
            ],
            [
             0.3,
             "#f1b6da"
            ],
            [
             0.4,
             "#fde0ef"
            ],
            [
             0.5,
             "#f7f7f7"
            ],
            [
             0.6,
             "#e6f5d0"
            ],
            [
             0.7,
             "#b8e186"
            ],
            [
             0.8,
             "#7fbc41"
            ],
            [
             0.9,
             "#4d9221"
            ],
            [
             1,
             "#276419"
            ]
           ],
           "sequential": [
            [
             0,
             "#0d0887"
            ],
            [
             0.1111111111111111,
             "#46039f"
            ],
            [
             0.2222222222222222,
             "#7201a8"
            ],
            [
             0.3333333333333333,
             "#9c179e"
            ],
            [
             0.4444444444444444,
             "#bd3786"
            ],
            [
             0.5555555555555556,
             "#d8576b"
            ],
            [
             0.6666666666666666,
             "#ed7953"
            ],
            [
             0.7777777777777778,
             "#fb9f3a"
            ],
            [
             0.8888888888888888,
             "#fdca26"
            ],
            [
             1,
             "#f0f921"
            ]
           ],
           "sequentialminus": [
            [
             0,
             "#0d0887"
            ],
            [
             0.1111111111111111,
             "#46039f"
            ],
            [
             0.2222222222222222,
             "#7201a8"
            ],
            [
             0.3333333333333333,
             "#9c179e"
            ],
            [
             0.4444444444444444,
             "#bd3786"
            ],
            [
             0.5555555555555556,
             "#d8576b"
            ],
            [
             0.6666666666666666,
             "#ed7953"
            ],
            [
             0.7777777777777778,
             "#fb9f3a"
            ],
            [
             0.8888888888888888,
             "#fdca26"
            ],
            [
             1,
             "#f0f921"
            ]
           ]
          },
          "colorway": [
           "#636efa",
           "#EF553B",
           "#00cc96",
           "#ab63fa",
           "#FFA15A",
           "#19d3f3",
           "#FF6692",
           "#B6E880",
           "#FF97FF",
           "#FECB52"
          ],
          "font": {
           "color": "#2a3f5f"
          },
          "geo": {
           "bgcolor": "white",
           "lakecolor": "white",
           "landcolor": "#E5ECF6",
           "showlakes": true,
           "showland": true,
           "subunitcolor": "white"
          },
          "hoverlabel": {
           "align": "left"
          },
          "hovermode": "closest",
          "mapbox": {
           "style": "light"
          },
          "paper_bgcolor": "white",
          "plot_bgcolor": "#E5ECF6",
          "polar": {
           "angularaxis": {
            "gridcolor": "white",
            "linecolor": "white",
            "ticks": ""
           },
           "bgcolor": "#E5ECF6",
           "radialaxis": {
            "gridcolor": "white",
            "linecolor": "white",
            "ticks": ""
           }
          },
          "scene": {
           "xaxis": {
            "backgroundcolor": "#E5ECF6",
            "gridcolor": "white",
            "gridwidth": 2,
            "linecolor": "white",
            "showbackground": true,
            "ticks": "",
            "zerolinecolor": "white"
           },
           "yaxis": {
            "backgroundcolor": "#E5ECF6",
            "gridcolor": "white",
            "gridwidth": 2,
            "linecolor": "white",
            "showbackground": true,
            "ticks": "",
            "zerolinecolor": "white"
           },
           "zaxis": {
            "backgroundcolor": "#E5ECF6",
            "gridcolor": "white",
            "gridwidth": 2,
            "linecolor": "white",
            "showbackground": true,
            "ticks": "",
            "zerolinecolor": "white"
           }
          },
          "shapedefaults": {
           "line": {
            "color": "#2a3f5f"
           }
          },
          "ternary": {
           "aaxis": {
            "gridcolor": "white",
            "linecolor": "white",
            "ticks": ""
           },
           "baxis": {
            "gridcolor": "white",
            "linecolor": "white",
            "ticks": ""
           },
           "bgcolor": "#E5ECF6",
           "caxis": {
            "gridcolor": "white",
            "linecolor": "white",
            "ticks": ""
           }
          },
          "title": {
           "x": 0.05
          },
          "xaxis": {
           "automargin": true,
           "gridcolor": "white",
           "linecolor": "white",
           "ticks": "",
           "title": {
            "standoff": 15
           },
           "zerolinecolor": "white",
           "zerolinewidth": 2
          },
          "yaxis": {
           "automargin": true,
           "gridcolor": "white",
           "linecolor": "white",
           "ticks": "",
           "title": {
            "standoff": 15
           },
           "zerolinecolor": "white",
           "zerolinewidth": 2
          }
         }
        },
        "title": {
         "text": "Cumulative Sum of Capture Frequencies"
        },
        "xaxis": {
         "anchor": "y",
         "domain": [
          0,
          0.2888888888888889
         ]
        },
        "xaxis2": {
         "anchor": "y2",
         "domain": [
          0.35555555555555557,
          0.6444444444444445
         ]
        },
        "xaxis3": {
         "anchor": "y3",
         "domain": [
          0.7111111111111111,
          1
         ]
        },
        "xaxis4": {
         "anchor": "y4",
         "domain": [
          0,
          0.2888888888888889
         ]
        },
        "xaxis5": {
         "anchor": "y5",
         "domain": [
          0.35555555555555557,
          0.6444444444444445
         ]
        },
        "xaxis6": {
         "anchor": "y6",
         "domain": [
          0.7111111111111111,
          1
         ]
        },
        "yaxis": {
         "anchor": "x",
         "domain": [
          0.625,
          1
         ]
        },
        "yaxis2": {
         "anchor": "x2",
         "domain": [
          0.625,
          1
         ]
        },
        "yaxis3": {
         "anchor": "x3",
         "domain": [
          0.625,
          1
         ]
        },
        "yaxis4": {
         "anchor": "x4",
         "domain": [
          0,
          0.375
         ]
        },
        "yaxis5": {
         "anchor": "x5",
         "domain": [
          0,
          0.375
         ]
        },
        "yaxis6": {
         "anchor": "x6",
         "domain": [
          0,
          0.375
         ]
        }
       }
      },
      "text/html": [
       "<div>                            <div id=\"3eee26eb-fc62-4563-ad81-e41f6563eae4\" class=\"plotly-graph-div\" style=\"height:525px; width:100%;\"></div>            <script type=\"text/javascript\">                require([\"plotly\"], function(Plotly) {                    window.PLOTLYENV=window.PLOTLYENV || {};                                    if (document.getElementById(\"3eee26eb-fc62-4563-ad81-e41f6563eae4\")) {                    Plotly.newPlot(                        \"3eee26eb-fc62-4563-ad81-e41f6563eae4\",                        [{\"line\": {\"color\": \"black\"}, \"name\": \"r3\", \"type\": \"scatter\", \"x\": [1, 2, 3, 4, 5, 6, 7, 8, 9, 10, 11, 12, 13, 14, 15, 16, 17, 18, 19, 20, 21, 22, 23, 24, 25, 26, 27, 28, 29, 30, 31, 32, 33, 34, 35, 36, 37, 38, 39, 40, 41, 42, 43, 44, 45, 46, 47, 48, 49, 50, 51, 52, 53, 54, 55, 56, 57, 58, 59, 60, 61, 62, 63, 64], \"xaxis\": \"x\", \"y\": [0.09694534931506532, 0.1742820197175568, 0.24930491882573094, 0.3006118938222677, 0.3459370704245451, 0.3865003444711569, 0.42174203720288495, 0.45617479027104113, 0.4793440083099323, 0.5004765145727283, 0.5215075558949046, 0.5413566928174405, 0.5608875356111827, 0.5796275078403674, 0.5982868640893336, 0.6157884080706789, 0.6332482541312215, 0.649480791389472, 0.665356116459513, 0.6805489855590835, 0.6955324384341783, 0.7099270240054931, 0.7234227877283946, 0.7367517597680855, 0.7485147432265203, 0.760172091952255, 0.7715449681960692, 0.7824860393044601, 0.7933844858715862, 0.803706574511173, 0.8140143005335945, 0.8237966327539021, 0.8330897093701252, 0.8423809327454236, 0.8510114757311151, 0.8594617910368929, 0.8676049316594243, 0.8755525553644143, 0.8830146299471687, 0.8903367848401186, 0.8974550832313665, 0.9044603339262159, 0.9111204184988655, 0.9177415850120992, 0.9243219802249926, 0.9305446999394452, 0.9366446424426456, 0.9425953990514185, 0.948406235970387, 0.9539085082754156, 0.959232406141455, 0.9644872707830544, 0.9691254695070054, 0.9732192787093659, 0.9766426780072656, 0.9799715620180125, 0.9831373608273979, 0.9862915768810048, 0.9893874158454878, 0.9923873495921248, 0.9945542515431706, 0.9965084940981226, 0.9983283766860438, 1.0], \"yaxis\": \"y\"}, {\"line\": {\"color\": \"blue\"}, \"name\": \"n3\", \"type\": \"scatter\", \"x\": [1, 2, 3, 4, 5, 6, 7, 8, 9, 10, 11, 12, 13, 14, 15, 16, 17, 18, 19, 20, 21, 22, 23, 24, 25, 26, 27, 28, 29, 30, 31, 32, 33, 34, 35, 36, 37, 38, 39, 40, 41, 42, 43, 44, 45, 46, 47, 48, 49, 50, 51, 52, 53, 54, 55, 56, 57, 58, 59, 60, 61, 62, 63, 64], \"xaxis\": \"x\", \"y\": [0.20398354177663552, 0.3430132900042072, 0.46304850979871376, 0.510069613776341, 0.5470038065500337, 0.5809636787499428, 0.6135542642622871, 0.6443844180308386, 0.6680115881605246, 0.6898080208729733, 0.7115347058935126, 0.7308704400353985, 0.7482178069763317, 0.7645440677077115, 0.7805913376714539, 0.795892307331766, 0.8107463337823226, 0.8243683370029921, 0.837531958392433, 0.8493714895986664, 0.859951656479784, 0.8705072721733494, 0.880385498283091, 0.8897958568755044, 0.8991300509883529, 0.9072244101298201, 0.9148631773477354, 0.9219202488151264, 0.9277611995263855, 0.9332450420550685, 0.938070466372127, 0.9428855680307829, 0.9472283383198286, 0.9507670572165429, 0.9542801089626345, 0.9577820010780206, 0.961122078548177, 0.9641848391953016, 0.9669825586131706, 0.9697328496005413, 0.9724683540772272, 0.9751087227021487, 0.9776966410627542, 0.9799436327053068, 0.9820321575918413, 0.983945755267067, 0.9857703548874163, 0.9874267230748802, 0.9890766744746885, 0.9904682804236644, 0.9917639135485731, 0.9929942628338545, 0.9939534330929923, 0.9947354442146803, 0.9954786756196666, 0.9962174431723708, 0.9969425401774608, 0.9976620573671979, 0.9982457060530956, 0.9987113416442827, 0.9991722343924199, 0.9996169456760341, 0.9998351164563266, 1.0000000000000004], \"yaxis\": \"y\"}, {\"line\": {\"color\": \"maroon\"}, \"name\": \"s3\", \"type\": \"scatter\", \"x\": [1, 2, 3, 4, 5, 6, 7, 8, 9, 10, 11, 12, 13, 14, 15, 16, 17, 18, 19, 20, 21, 22, 23, 24, 25, 26, 27, 28, 29, 30, 31, 32, 33, 34, 35, 36, 37, 38, 39, 40, 41, 42, 43, 44, 45, 46, 47, 48, 49, 50, 51, 52, 53, 54, 55, 56, 57, 58, 59, 60, 61, 62, 63, 64], \"xaxis\": \"x\", \"y\": [0.13373260281974583, 0.2199572750653262, 0.3042625704983265, 0.3796874327157169, 0.4383749297123025, 0.49636625865997475, 0.5541940770484222, 0.606287168228026, 0.6508712554053656, 0.6938211731196128, 0.7352548736444068, 0.7703915453807328, 0.7981611927034347, 0.8231770600926266, 0.8475594800863483, 0.8667616733745519, 0.8840441778071234, 0.8998488463456323, 0.9148734072542518, 0.928127435886074, 0.9396942477359713, 0.9502731312833765, 0.9596019703646469, 0.9680801800862858, 0.9752234696316578, 0.9817773098518854, 0.9863880579875842, 0.9907329454430167, 0.9940037807136173, 0.997026853800965, 0.9987599409115275, 0.9999999999999999, 0.9999999999999999, 0.9999999999999999, 0.9999999999999999, 0.9999999999999999, 0.9999999999999999, 0.9999999999999999, 0.9999999999999999, 0.9999999999999999, 0.9999999999999999, 0.9999999999999999, 0.9999999999999999, 0.9999999999999999, 0.9999999999999999, 0.9999999999999999, 0.9999999999999999, 0.9999999999999999, 0.9999999999999999, 0.9999999999999999, 0.9999999999999999, 0.9999999999999999, 0.9999999999999999, 0.9999999999999999, 0.9999999999999999, 0.9999999999999999, 0.9999999999999999, 0.9999999999999999, 0.9999999999999999, 0.9999999999999999, 0.9999999999999999, 0.9999999999999999, 0.9999999999999999, 0.9999999999999999], \"yaxis\": \"y\"}, {\"line\": {\"color\": \"brown\"}, \"name\": \"k2\", \"type\": \"scatter\", \"x\": [1, 2, 3, 4, 5, 6, 7, 8, 9, 10, 11, 12, 13, 14, 15, 16, 17, 18, 19, 20, 21, 22, 23, 24, 25, 26, 27, 28, 29, 30, 31, 32, 33, 34, 35, 36, 37, 38, 39, 40, 41, 42, 43, 44, 45, 46, 47, 48, 49, 50, 51, 52, 53, 54, 55, 56, 57, 58, 59, 60, 61, 62, 63, 64], \"xaxis\": \"x\", \"y\": [0.0, 0.0, 0.0, 0.0, 0.0, 0.0, 0.0, 0.0, 0.0, 0.0, 0.0, 0.0, 0.0, 0.0, 0.0, 0.0, 0.0, 0.0, 0.0, 0.0, 0.0, 0.0, 0.0, 0.0, 0.0, 0.0, 0.0, 0.0, 0.0, 0.0, 0.0, 0.0, 0.0, 0.0, 0.0, 0.0, 0.0, 0.0, 0.0, 0.0, 0.0, 0.0, 0.0, 0.0, 0.0, 0.0, 0.0, 0.0, 0.0, 0.0, 0.0, 0.0, 0.0, 0.0, 0.0, 0.0, 0.0, 0.0, 0.0, 0.0, 0.0, 0.0, 0.0, 0.0], \"yaxis\": \"y\"}, {\"line\": {\"color\": \"blueviolet\"}, \"name\": \"q2\", \"type\": \"scatter\", \"x\": [1, 2, 3, 4, 5, 6, 7, 8, 9, 10, 11, 12, 13, 14, 15, 16, 17, 18, 19, 20, 21, 22, 23, 24, 25, 26, 27, 28, 29, 30, 31, 32, 33, 34, 35, 36, 37, 38, 39, 40, 41, 42, 43, 44, 45, 46, 47, 48, 49, 50, 51, 52, 53, 54, 55, 56, 57, 58, 59, 60, 61, 62, 63, 64], \"xaxis\": \"x\", \"y\": [0.08706516632652007, 0.14100111275524851, 0.1818748951177529, 0.21814513524123777, 0.2541286812951997, 0.29008508697724683, 0.3220789983597277, 0.3529838545367808, 0.3810603781533003, 0.40902222414201067, 0.4360089280355837, 0.4611592608491726, 0.48551067285569083, 0.5094484808845774, 0.531699381008391, 0.552063069637225, 0.5720613188921071, 0.591419666983814, 0.6106728939166959, 0.629141725875363, 0.6474568898127658, 0.6656948374807772, 0.6838395140115037, 0.7019547566177592, 0.7193502059801324, 0.7351967428495632, 0.7508104841345412, 0.7648688145276676, 0.7787440429750587, 0.791545888826156, 0.803665785050548, 0.8152119108771347, 0.8263880102246572, 0.8366161078489572, 0.8465571291449749, 0.856213749924026, 0.8658439948486809, 0.8753805863772917, 0.8847069355882522, 0.8927630389418465, 0.9008080567914193, 0.9086952017733748, 0.9163166769175723, 0.9229484841337767, 0.9295607961532536, 0.9360656934613492, 0.9425331294110271, 0.9486595905473524, 0.9547680855219876, 0.9598291914959657, 0.963441919030714, 0.9669705496384022, 0.9704605721113947, 0.9739475365143122, 0.9773924524536998, 0.9807957021883166, 0.9841794567262059, 0.9873185656581023, 0.9898701428768564, 0.9923154521605073, 0.9946502886627021, 0.9968543926691944, 0.998866602778486, 1.0], \"yaxis\": \"y\"}, {\"line\": {\"color\": \"red\"}, \"name\": \"s4\", \"type\": \"scatter\", \"x\": [1, 2, 3, 4, 5, 6, 7, 8, 9, 10, 11, 12, 13, 14, 15, 16, 17, 18, 19, 20, 21, 22, 23, 24, 25, 26, 27, 28, 29, 30, 31, 32, 33, 34, 35, 36, 37, 38, 39, 40, 41, 42, 43, 44, 45, 46, 47, 48, 49, 50, 51, 52, 53, 54, 55, 56, 57, 58, 59, 60, 61, 62, 63, 64], \"xaxis\": \"x\", \"y\": [0.17961756145775176, 0.2716395875656647, 0.3345165876110181, 0.3971846492853714, 0.45652908950725896, 0.5144976017440724, 0.5627032496485113, 0.6061902684138669, 0.6486935878127624, 0.6846397455205708, 0.7174321223978493, 0.7484866825247136, 0.778684532774079, 0.8086324702114248, 0.8362964735394253, 0.8632248136210301, 0.884860882389279, 0.9056458713558941, 0.9229614824615315, 0.936937520233085, 0.9501162767057173, 0.9581300641359474, 0.9653681522247399, 0.9722793831313542, 0.9786104034418529, 0.9845000883609127, 0.9882750542285778, 0.9918542185689283, 0.9950342730868296, 0.9971699485317228, 0.9991292149328376, 0.9999999999999997, 0.9999999999999997, 0.9999999999999997, 0.9999999999999997, 0.9999999999999997, 0.9999999999999997, 0.9999999999999997, 0.9999999999999997, 0.9999999999999997, 0.9999999999999997, 0.9999999999999997, 0.9999999999999997, 0.9999999999999997, 0.9999999999999997, 0.9999999999999997, 0.9999999999999997, 0.9999999999999997, 0.9999999999999997, 0.9999999999999997, 0.9999999999999997, 0.9999999999999997, 0.9999999999999997, 0.9999999999999997, 0.9999999999999997, 0.9999999999999997, 0.9999999999999997, 0.9999999999999997, 0.9999999999999997, 0.9999999999999997, 0.9999999999999997, 0.9999999999999997, 0.9999999999999997, 0.9999999999999997], \"yaxis\": \"y\"}, {\"line\": {\"color\": \"navy\"}, \"name\": \"n4\", \"type\": \"scatter\", \"x\": [1, 2, 3, 4, 5, 6, 7, 8, 9, 10, 11, 12, 13, 14, 15, 16, 17, 18, 19, 20, 21, 22, 23, 24, 25, 26, 27, 28, 29, 30, 31, 32, 33, 34, 35, 36, 37, 38, 39, 40, 41, 42, 43, 44, 45, 46, 47, 48, 49, 50, 51, 52, 53, 54, 55, 56, 57, 58, 59, 60, 61, 62, 63, 64], \"xaxis\": \"x\", \"y\": [0.19012620417689546, 0.33490921342748003, 0.46123926825655887, 0.5144636921556971, 0.5510471109715033, 0.5873969627040427, 0.6237185207726017, 0.6512843446826533, 0.6773168252314811, 0.698787962951468, 0.7180989660398079, 0.7368518910416774, 0.7544228337952226, 0.7706749453542525, 0.7861663038052379, 0.8008466734590707, 0.8124727709573045, 0.8226007478188616, 0.832398439460076, 0.8421594648224586, 0.8516326454604692, 0.8610708920847897, 0.8702842329515517, 0.878929679562707, 0.8871827681192768, 0.895252236570831, 0.9024292997635747, 0.9094761543598371, 0.915498662835666, 0.9212451637322576, 0.9266414583593774, 0.9319745253088267, 0.9368961792871324, 0.9417488313706288, 0.9464816684484938, 0.9511720650303882, 0.9555399715850774, 0.9589883340604035, 0.962267511973561, 0.9654150377359525, 0.9685449521360705, 0.9713382296769931, 0.9739253676660585, 0.9763678615157955, 0.9788037150158228, 0.9807972634830135, 0.9827125713079727, 0.9845577223946949, 0.9863621652505881, 0.9879850089774641, 0.9893999808873413, 0.9907589428909716, 0.9918932878479002, 0.9930033810928457, 0.9941039468795121, 0.9950592911051361, 0.995990383618777, 0.9967857820296547, 0.9975566400176923, 0.998326920584016, 0.9990723720166426, 0.999596093511137, 0.9998339912572579, 1.0], \"yaxis\": \"y\"}, {\"line\": {\"color\": \"silver\"}, \"name\": \"r4\", \"type\": \"scatter\", \"x\": [1, 2, 3, 4, 5, 6, 7, 8, 9, 10, 11, 12, 13, 14, 15, 16, 17, 18, 19, 20, 21, 22, 23, 24, 25, 26, 27, 28, 29, 30, 31, 32, 33, 34, 35, 36, 37, 38, 39, 40, 41, 42, 43, 44, 45, 46, 47, 48, 49, 50, 51, 52, 53, 54, 55, 56, 57, 58, 59, 60, 61, 62, 63, 64], \"xaxis\": \"x\", \"y\": [0.11959373511207225, 0.201868078461596, 0.2569058416753658, 0.3049905532054398, 0.35269422964290065, 0.38380298904056803, 0.41373796863721723, 0.44235346444774837, 0.4684857617490613, 0.49150363636886496, 0.5127236963567293, 0.5318190663250291, 0.5506340519798966, 0.5676910040250724, 0.584052986404476, 0.6001580696522562, 0.6161653778574036, 0.6315390654431364, 0.6466419545039305, 0.6615895537911313, 0.6764647803752067, 0.6912944744639385, 0.7059521036492136, 0.7192202727923687, 0.7316621469673917, 0.7436146666398262, 0.7552460623977314, 0.7665419555583671, 0.7777463044388908, 0.7889084758500435, 0.8000514756842094, 0.810994132538863, 0.8206810511008796, 0.8303607803215263, 0.8399259593696766, 0.8493919255069202, 0.8586537143492541, 0.8674386102140408, 0.8749941287045475, 0.8824327005754347, 0.8898631245261024, 0.8971171699684913, 0.9038976774593057, 0.9105430253323631, 0.9170661544021295, 0.9233352600768204, 0.9295890284899219, 0.9357325603353491, 0.9418564413143649, 0.9477162338203872, 0.9535146772800516, 0.958734139114714, 0.9639071098751834, 0.9690134594056236, 0.9734363422164835, 0.977779662982848, 0.9819446880832352, 0.9853994062562607, 0.9886997932345422, 0.9916555711164855, 0.9939470538558355, 0.9961513059198954, 0.9980981795629073, 1.0], \"yaxis\": \"y\"}, {\"line\": {\"color\": \"black\"}, \"name\": \"r3\", \"type\": \"scatter\", \"x\": [1, 2, 3, 4, 5, 6, 7, 8, 9, 10, 11, 12, 13, 14, 15, 16, 17, 18, 19, 20, 21, 22, 23, 24, 25, 26, 27, 28, 29, 30, 31, 32, 33, 34, 35, 36, 37, 38, 39, 40, 41, 42, 43, 44, 45, 46, 47, 48, 49, 50, 51, 52, 53, 54, 55, 56, 57, 58, 59, 60, 61, 62, 63, 64], \"xaxis\": \"x2\", \"y\": [0.23252893328438665, 0.3125181134918948, 0.3876577081360975, 0.4286569932569507, 0.46954035202967714, 0.505979867457542, 0.5417624669126881, 0.5665320632957861, 0.5878045481770582, 0.6065846165736036, 0.6224278841509362, 0.6376335568135711, 0.6520857082133817, 0.6664412543230868, 0.6802558108081999, 0.694070367293313, 0.7069768340514326, 0.71984465869351, 0.7323840253492281, 0.7440732654520161, 0.7553567633363603, 0.7660026663060069, 0.7762621481152308, 0.7860386034739262, 0.7956991324844948, 0.8052630562049576, 0.8148076588673995, 0.8237919508472283, 0.8325637111888247, 0.8411809030662518, 0.8497208107115944, 0.858106149892768, 0.8657766099271595, 0.8734470699615511, 0.8809629615317734, 0.8884788531019958, 0.895956102556176, 0.9033947098943138, 0.9106787487682826, 0.9178275402361034, 0.9248024421817339, 0.9310817860386035, 0.9369940297930714, 0.9427710261413915, 0.9477558591108449, 0.9522963077458122, 0.9564889773363989, 0.9604111521146897, 0.9640821531387058, 0.9676565488726162, 0.9710570550843364, 0.9741097822516761, 0.9771238673029735, 0.9799254207160384, 0.9824564793168074, 0.9849682168595552, 0.9873640280541762, 0.989721197132755, 0.9918658345731012, 0.9939331877813629, 0.9956334408872229, 0.9973143729350619, 0.9988020944026894, 0.9999999999999999], \"yaxis\": \"y2\"}, {\"line\": {\"color\": \"blue\"}, \"name\": \"n3\", \"type\": \"scatter\", \"x\": [1, 2, 3, 4, 5, 6, 7, 8, 9, 10, 11, 12, 13, 14, 15, 16, 17, 18, 19, 20, 21, 22, 23, 24, 25, 26, 27, 28, 29, 30, 31, 32, 33, 34, 35, 36, 37, 38, 39, 40, 41, 42, 43, 44, 45, 46, 47, 48, 49, 50, 51, 52, 53, 54, 55, 56, 57, 58, 59, 60, 61, 62, 63, 64], \"xaxis\": \"x2\", \"y\": [0.19366634390841259, 0.320419206014695, 0.43337700062653073, 0.4873269920829299, 0.5276527880617418, 0.5679330181693911, 0.5994873839494219, 0.6294241613031839, 0.6591672837045053, 0.6855157487042205, 0.7093125249188358, 0.7291678532778949, 0.7463347952383665, 0.7634675627954662, 0.7804978071424503, 0.7956484593039813, 0.8106510223842343, 0.8228398929202028, 0.8342655351141994, 0.845543088226918, 0.8551347041066242, 0.8646237967762147, 0.8738053198154583, 0.882679273224355, 0.8908583470980237, 0.8980121888705361, 0.9051660306430486, 0.9121148259953297, 0.9188357919917983, 0.9253061456968732, 0.9308879649142794, 0.9364014353249418, 0.9407871504243324, 0.9445349433274479, 0.9482599532949822, 0.951882440052401, 0.9554593609386571, 0.9590362818249133, 0.9625334624366351, 0.9656205502078944, 0.9686051147690381, 0.9714074158455318, 0.9741299766474911, 0.9768183630460786, 0.9791422224753661, 0.9813521672267473, 0.9832887167511536, 0.9851455260010255, 0.9867745058950848, 0.9882895711112378, 0.9897704619240191, 0.9912057868656378, 0.9924816312581878, 0.9934954718915534, 0.994509312524919, 0.9954889787549127, 0.9964116876459533, 0.9971635245201346, 0.9978925784587346, 0.9985532835905908, 0.9991342484479127, 0.9996240815629095, 0.9998177365153501, 1.0], \"yaxis\": \"y2\"}, {\"line\": {\"color\": \"maroon\"}, \"name\": \"s3\", \"type\": \"scatter\", \"x\": [1, 2, 3, 4, 5, 6, 7, 8, 9, 10, 11, 12, 13, 14, 15, 16, 17, 18, 19, 20, 21, 22, 23, 24, 25, 26, 27, 28, 29, 30, 31, 32, 33, 34, 35, 36, 37, 38, 39, 40, 41, 42, 43, 44, 45, 46, 47, 48, 49, 50, 51, 52, 53, 54, 55, 56, 57, 58, 59, 60, 61, 62, 63, 64], \"xaxis\": \"x2\", \"y\": [0.13140410828389587, 0.20631613714605113, 0.28117735235457764, 0.3513128977756323, 0.4146648204372515, 0.47405327811582976, 0.5253623648674399, 0.574651608887308, 0.6194565479744407, 0.663397654949885, 0.7008219108474447, 0.7363152479071127, 0.7660539386933269, 0.793899820881871, 0.8214789313888643, 0.847838514208768, 0.872889645447732, 0.8873334264916984, 0.9015231392675213, 0.915700148629937, 0.9277556879533532, 0.939506345354997, 0.9502026194438447, 0.9608226730522492, 0.9705026740685223, 0.9787980030234125, 0.9859373213582491, 0.9913743822965232, 0.9957951701622227, 0.9974212070783421, 0.9987550654860963, 1.0000000000000002, 1.0000000000000002, 1.0000000000000002, 1.0000000000000002, 1.0000000000000002, 1.0000000000000002, 1.0000000000000002, 1.0000000000000002, 1.0000000000000002, 1.0000000000000002, 1.0000000000000002, 1.0000000000000002, 1.0000000000000002, 1.0000000000000002, 1.0000000000000002, 1.0000000000000002, 1.0000000000000002, 1.0000000000000002, 1.0000000000000002, 1.0000000000000002, 1.0000000000000002, 1.0000000000000002, 1.0000000000000002, 1.0000000000000002, 1.0000000000000002, 1.0000000000000002, 1.0000000000000002, 1.0000000000000002, 1.0000000000000002, 1.0000000000000002, 1.0000000000000002, 1.0000000000000002, 1.0000000000000002], \"yaxis\": \"y2\"}, {\"line\": {\"color\": \"brown\"}, \"name\": \"k2\", \"type\": \"scatter\", \"x\": [1, 2, 3, 4, 5, 6, 7, 8, 9, 10, 11, 12, 13, 14, 15, 16, 17, 18, 19, 20, 21, 22, 23, 24, 25, 26, 27, 28, 29, 30, 31, 32, 33, 34, 35, 36, 37, 38, 39, 40, 41, 42, 43, 44, 45, 46, 47, 48, 49, 50, 51, 52, 53, 54, 55, 56, 57, 58, 59, 60, 61, 62, 63, 64], \"xaxis\": \"x2\", \"y\": [0.0, 0.0, 0.0, 0.0, 0.0, 0.0, 0.0, 0.0, 0.0, 0.0, 0.0, 0.0, 0.0, 0.0, 0.0, 0.0, 0.0, 0.0, 0.0, 0.0, 0.0, 0.0, 0.0, 0.0, 0.0, 0.0, 0.0, 0.0, 0.0, 0.0, 0.0, 0.0, 0.0, 0.0, 0.0, 0.0, 0.0, 0.0, 0.0, 0.0, 0.0, 0.0, 0.0, 0.0, 0.0, 0.0, 0.0, 0.0, 0.0, 0.0, 0.0, 0.0, 0.0, 0.0, 0.0, 0.0, 0.0, 0.0, 0.0, 0.0, 0.0, 0.0, 0.0, 0.0], \"yaxis\": \"y2\"}, {\"line\": {\"color\": \"blueviolet\"}, \"name\": \"q2\", \"type\": \"scatter\", \"x\": [1, 2, 3, 4, 5, 6, 7, 8, 9, 10, 11, 12, 13, 14, 15, 16, 17, 18, 19, 20, 21, 22, 23, 24, 25, 26, 27, 28, 29, 30, 31, 32, 33, 34, 35, 36, 37, 38, 39, 40, 41, 42, 43, 44, 45, 46, 47, 48, 49, 50, 51, 52, 53, 54, 55, 56, 57, 58, 59, 60, 61, 62, 63, 64], \"xaxis\": \"x2\", \"y\": [0.11657813810455689, 0.17536012241955182, 0.22772685137501286, 0.26736606683048125, 0.30360637405647184, 0.33834586466165406, 0.3723496608448714, 0.40499977929167336, 0.4325883201153568, 0.4601180053852831, 0.48725041566734834, 0.5140444065153097, 0.5403528390447743, 0.5642187660933153, 0.584111943263246, 0.6007239233112133, 0.6169533422597588, 0.6327119167782469, 0.648279210747024, 0.6637435074967261, 0.67895766814296, 0.6939952621279224, 0.7082088783602841, 0.721686800170681, 0.734679163662581, 0.7473919632741344, 0.7598840545590982, 0.7719053014140046, 0.7838235510498358, 0.795388667363124, 0.8066742197960655, 0.817665494460221, 0.8276709385989435, 0.8375439577417123, 0.8471079852272559, 0.8560540293983491, 0.8645439430278239, 0.8727101511116342, 0.880655650868855, 0.888409870076365, 0.8957079587422567, 0.902932477965952, 0.9098627194208613, 0.9162044053381987, 0.9225019495902181, 0.9286229271809661, 0.9347144769948353, 0.9407618851433868, 0.946603298853788, 0.9516943042537851, 0.9567117402115857, 0.9613024734046466, 0.9658343510439503, 0.9702190897988611, 0.9744419757809395, 0.978664861763018, 0.9826817533069463, 0.9864485087474065, 0.9897885614231271, 0.9926136280034723, 0.9952327001456673, 0.9970277945352617, 0.9986021805982666, 0.9999999999999999], \"yaxis\": \"y2\"}, {\"line\": {\"color\": \"red\"}, \"name\": \"s4\", \"type\": \"scatter\", \"x\": [1, 2, 3, 4, 5, 6, 7, 8, 9, 10, 11, 12, 13, 14, 15, 16, 17, 18, 19, 20, 21, 22, 23, 24, 25, 26, 27, 28, 29, 30, 31, 32, 33, 34, 35, 36, 37, 38, 39, 40, 41, 42, 43, 44, 45, 46, 47, 48, 49, 50, 51, 52, 53, 54, 55, 56, 57, 58, 59, 60, 61, 62, 63, 64], \"xaxis\": \"x2\", \"y\": [0.15252272902876865, 0.250225358642182, 0.3333505035155948, 0.4050403070028588, 0.4633760012362531, 0.5072758647333041, 0.5508666649496484, 0.5942771782522471, 0.6373142400906585, 0.6802869137455894, 0.7152239421021453, 0.748306590774461, 0.7813248512632961, 0.8084193988719189, 0.8331702166018491, 0.8571612537667086, 0.881139413294872, 0.902580678393901, 0.9169134880366754, 0.9279367450485486, 0.9389084915136373, 0.949197723233832, 0.9586885414788677, 0.9678445411698045, 0.976755865763515, 0.982872743194169, 0.9882040847863599, 0.992518093079558, 0.996265485358127, 0.9979009452185333, 0.9991500759780564, 0.9999999999999999, 0.9999999999999999, 0.9999999999999999, 0.9999999999999999, 0.9999999999999999, 0.9999999999999999, 0.9999999999999999, 0.9999999999999999, 0.9999999999999999, 0.9999999999999999, 0.9999999999999999, 0.9999999999999999, 0.9999999999999999, 0.9999999999999999, 0.9999999999999999, 0.9999999999999999, 0.9999999999999999, 0.9999999999999999, 0.9999999999999999, 0.9999999999999999, 0.9999999999999999, 0.9999999999999999, 0.9999999999999999, 0.9999999999999999, 0.9999999999999999, 0.9999999999999999, 0.9999999999999999, 0.9999999999999999, 0.9999999999999999, 0.9999999999999999, 0.9999999999999999, 0.9999999999999999, 0.9999999999999999], \"yaxis\": \"y2\"}, {\"line\": {\"color\": \"navy\"}, \"name\": \"n4\", \"type\": \"scatter\", \"x\": [1, 2, 3, 4, 5, 6, 7, 8, 9, 10, 11, 12, 13, 14, 15, 16, 17, 18, 19, 20, 21, 22, 23, 24, 25, 26, 27, 28, 29, 30, 31, 32, 33, 34, 35, 36, 37, 38, 39, 40, 41, 42, 43, 44, 45, 46, 47, 48, 49, 50, 51, 52, 53, 54, 55, 56, 57, 58, 59, 60, 61, 62, 63, 64], \"xaxis\": \"x2\", \"y\": [0.2080054861762795, 0.3489857792535913, 0.4530907865925552, 0.504656031184581, 0.5400394619697299, 0.5751221155465724, 0.6066796602420657, 0.6350008421761835, 0.6590750499290168, 0.6819220866719605, 0.7016169782718547, 0.7209268750451168, 0.7395750619601051, 0.7559373420919658, 0.7721913424288364, 0.7884212805890424, 0.8030510840010591, 0.8154791982482739, 0.8274982554921921, 0.8391804422628074, 0.8487571885752788, 0.8579609711494505, 0.8671527226352899, 0.8758872927645037, 0.8843932722154049, 0.8924420703096805, 0.9004788373156238, 0.9079742053466159, 0.9148078635193342, 0.9209076253037852, 0.9263577083182947, 0.9306889001179048, 0.9349599364758537, 0.9391948795688059, 0.9433335739551001, 0.9473399263697395, 0.9513342476960467, 0.9551721648740346, 0.958937895522029, 0.9622584759017302, 0.9655549941047669, 0.9687191703361487, 0.9718472533025339, 0.9748670564739287, 0.9777785798503333, 0.9801487042517867, 0.9822541447099306, 0.9840708390481003, 0.9857311292379509, 0.987367357251137, 0.9889674919993263, 0.9903510671575352, 0.991734642315744, 0.9930580620322916, 0.9942611708655167, 0.9952838133737579, 0.9962342693520058, 0.996968165740273, 0.9976539377752113, 0.9982915854568205, 0.9989172020500975, 0.9994586010250488, 0.9997954714983518, 1.0], \"yaxis\": \"y2\"}, {\"line\": {\"color\": \"silver\"}, \"name\": \"r4\", \"type\": \"scatter\", \"x\": [1, 2, 3, 4, 5, 6, 7, 8, 9, 10, 11, 12, 13, 14, 15, 16, 17, 18, 19, 20, 21, 22, 23, 24, 25, 26, 27, 28, 29, 30, 31, 32, 33, 34, 35, 36, 37, 38, 39, 40, 41, 42, 43, 44, 45, 46, 47, 48, 49, 50, 51, 52, 53, 54, 55, 56, 57, 58, 59, 60, 61, 62, 63, 64], \"xaxis\": \"x2\", \"y\": [0.2653143525426463, 0.3515546235431706, 0.39978626446747595, 0.44600153244344076, 0.480743638343348, 0.5134290438359479, 0.5368996249546316, 0.5564987700125015, 0.5755938218332862, 0.5938016695568011, 0.6098519982255917, 0.6239262814050085, 0.6373553252409564, 0.6503407670282694, 0.6632858813566156, 0.6758680485542604, 0.688389724563455, 0.7007702544662658, 0.7127475097794086, 0.7239182159132151, 0.7347461386458037, 0.7451304593297574, 0.7553736339073273, 0.7651933701657456, 0.7748517965882967, 0.7844295680929142, 0.7939670121385649, 0.8033633100778318, 0.8123966608863974, 0.8213695205065127, 0.830140742831794, 0.8387909827801748, 0.8474008952695888, 0.8554260596039841, 0.8633504052909624, 0.8711940960600071, 0.8789168044521513, 0.8864782030084283, 0.8934346896802031, 0.900391176351978, 0.9072468443763357, 0.9140016937532764, 0.9207162156712504, 0.9269266443521392, 0.9328144533612935, 0.9386820986409644, 0.9445094164616685, 0.9494495301851028, 0.953986369318869, 0.9583014074283178, 0.9624349719724159, 0.9663064080332298, 0.9701576803645602, 0.9739887889664072, 0.9776585877323869, 0.981146912933016, 0.9842117998144936, 0.9871355405895873, 0.9898979715288139, 0.9924789289026897, 0.9945356293099971, 0.9964310198814371, 0.9982860829939104, 0.9999999999999999], \"yaxis\": \"y2\"}, {\"line\": {\"color\": \"black\"}, \"name\": \"r3\", \"type\": \"scatter\", \"x\": [1, 2, 3, 4, 5, 6, 7, 8, 9, 10, 11, 12, 13, 14, 15, 16, 17, 18, 19, 20, 21, 22, 23, 24, 25, 26, 27, 28, 29, 30, 31, 32, 33, 34, 35, 36, 37, 38, 39, 40, 41, 42, 43, 44, 45, 46, 47, 48, 49, 50, 51, 52, 53, 54, 55, 56, 57, 58, 59, 60, 61, 62, 63, 64], \"xaxis\": \"x3\", \"y\": [0.13881145128283398, 0.23100978984385465, 0.3164739119194386, 0.3645291810856354, 0.4118742738602136, 0.4502082249639461, 0.4815151675611359, 0.5126289920167452, 0.5406778446769476, 0.5596594891090713, 0.5780991568212754, 0.596105866119291, 0.6124773008313424, 0.6281447887692456, 0.6438029322809433, 0.659423698087819, 0.6747174089775018, 0.6899176756051295, 0.7043579289013758, 0.7161973169037555, 0.7279868679663726, 0.7395116602865002, 0.7509274343008968, 0.7615894246013825, 0.7721112485087854, 0.7821783103408536, 0.7916224104258879, 0.8008048665771679, 0.809859615570306, 0.8187991166402427, 0.8275641884210101, 0.8363105713493664, 0.8449697396331379, 0.8535510376985302, 0.862010858223251, 0.8704675639392365, 0.8788027921145504, 0.8867642432416439, 0.8946384797241528, 0.9016779474656361, 0.9083280641152233, 0.9149034253551663, 0.9210271393285098, 0.927001342482565, 0.9328976754182411, 0.9385728569337202, 0.9441421349522034, 0.9494373098019918, 0.9541811635056552, 0.9586882917454456, 0.9630334499310071, 0.9672135232536048, 0.9711070341725668, 0.9744243054755225, 0.9776263288552769, 0.9807660560603279, 0.9837656168722962, 0.986718455553237, 0.9895685055459172, 0.9921506819873729, 0.9944213775553116, 0.9964522328506421, 0.9983024292393329, 1.0000000000000002], \"yaxis\": \"y3\"}, {\"line\": {\"color\": \"blue\"}, \"name\": \"n3\", \"type\": \"scatter\", \"x\": [1, 2, 3, 4, 5, 6, 7, 8, 9, 10, 11, 12, 13, 14, 15, 16, 17, 18, 19, 20, 21, 22, 23, 24, 25, 26, 27, 28, 29, 30, 31, 32, 33, 34, 35, 36, 37, 38, 39, 40, 41, 42, 43, 44, 45, 46, 47, 48, 49, 50, 51, 52, 53, 54, 55, 56, 57, 58, 59, 60, 61, 62, 63, 64], \"xaxis\": \"x3\", \"y\": [0.21518355412127588, 0.34443988803109454, 0.4708381621409596, 0.5121739440512062, 0.5533653074687539, 0.5845632677804126, 0.6151799882325673, 0.6443650043682136, 0.6718847504769376, 0.6967746536630592, 0.7165082817765258, 0.7352951664378555, 0.7536452297323801, 0.7712732005634105, 0.787221637812684, 0.8023338741597875, 0.8161552587943731, 0.8292081944122525, 0.8419009752705618, 0.8533385633034394, 0.8643143687485514, 0.873072191416906, 0.8817159056465849, 0.8902419455488795, 0.8982063579795675, 0.9061475921336496, 0.9133275090484427, 0.9202203719221924, 0.9270811417975646, 0.9319450139961133, 0.9367357854761355, 0.9410772549788723, 0.9451352363292743, 0.9490666286305206, 0.9526200367286538, 0.955975538003459, 0.9592632873928005, 0.9625118120063474, 0.9657425071763511, 0.9687913420222156, 0.971670797154421, 0.9743362989641094, 0.9769126535560826, 0.9794693957601583, 0.9816945103143331, 0.9834186175049476, 0.9850999340310589, 0.9867580722805641, 0.9883181485905824, 0.9898586125127035, 0.9912867509405031, 0.9923743469966302, 0.9933817105568135, 0.9943587640629735, 0.9953215540142991, 0.9961185301406742, 0.9969012427122148, 0.9976340328418348, 0.9981439549271666, 0.9986485281794354, 0.9991477525986413, 0.999616666963824, 0.9998324032306951, 0.9999999999999999], \"yaxis\": \"y3\"}, {\"line\": {\"color\": \"maroon\"}, \"name\": \"s3\", \"type\": \"scatter\", \"x\": [1, 2, 3, 4, 5, 6, 7, 8, 9, 10, 11, 12, 13, 14, 15, 16, 17, 18, 19, 20, 21, 22, 23, 24, 25, 26, 27, 28, 29, 30, 31, 32, 33, 34, 35, 36, 37, 38, 39, 40, 41, 42, 43, 44, 45, 46, 47, 48, 49, 50, 51, 52, 53, 54, 55, 56, 57, 58, 59, 60, 61, 62, 63, 64], \"xaxis\": \"x3\", \"y\": [0.14853811980200163, 0.2315153326817296, 0.3078375343419425, 0.37227157322970605, 0.4348569978898265, 0.4904491542589908, 0.5442890603336552, 0.5928623824704172, 0.6357148335558881, 0.6755839359356839, 0.7149338530430353, 0.7474930627801191, 0.7787326766164065, 0.8096733655988624, 0.8360043186774934, 0.8573951452243803, 0.8765047031499205, 0.8951698070164741, 0.9108043635162214, 0.9234732708082178, 0.9352709694801655, 0.9468897065619903, 0.957039385316103, 0.9658517686714951, 0.9732816245779159, 0.9796593436632846, 0.9857263382295387, 0.9905111025017255, 0.9951110053511479, 0.9976204008346294, 0.998886898241653, 0.9999999999999998, 0.9999999999999998, 0.9999999999999998, 0.9999999999999998, 0.9999999999999998, 0.9999999999999998, 0.9999999999999998, 0.9999999999999998, 0.9999999999999998, 0.9999999999999998, 0.9999999999999998, 0.9999999999999998, 0.9999999999999998, 0.9999999999999998, 0.9999999999999998, 0.9999999999999998, 0.9999999999999998, 0.9999999999999998, 0.9999999999999998, 0.9999999999999998, 0.9999999999999998, 0.9999999999999998, 0.9999999999999998, 0.9999999999999998, 0.9999999999999998, 0.9999999999999998, 0.9999999999999998, 0.9999999999999998, 0.9999999999999998, 0.9999999999999998, 0.9999999999999998, 0.9999999999999998, 0.9999999999999998], \"yaxis\": \"y3\"}, {\"line\": {\"color\": \"brown\"}, \"name\": \"k2\", \"type\": \"scatter\", \"x\": [1, 2, 3, 4, 5, 6, 7, 8, 9, 10, 11, 12, 13, 14, 15, 16, 17, 18, 19, 20, 21, 22, 23, 24, 25, 26, 27, 28, 29, 30, 31, 32, 33, 34, 35, 36, 37, 38, 39, 40, 41, 42, 43, 44, 45, 46, 47, 48, 49, 50, 51, 52, 53, 54, 55, 56, 57, 58, 59, 60, 61, 62, 63, 64], \"xaxis\": \"x3\", \"y\": [0.0, 0.0, 0.0, 0.0, 0.0, 0.0, 0.0, 0.0, 0.0, 0.0, 0.0, 0.0, 0.0, 0.0, 0.0, 0.0, 0.0, 0.0, 0.0, 0.0, 0.0, 0.0, 0.0, 0.0, 0.0, 0.0, 0.0, 0.0, 0.0, 0.0, 0.0, 0.0, 0.0, 0.0, 0.0, 0.0, 0.0, 0.0, 0.0, 0.0, 0.0, 0.0, 0.0, 0.0, 0.0, 0.0, 0.0, 0.0, 0.0, 0.0, 0.0, 0.0, 0.0, 0.0, 0.0, 0.0, 0.0, 0.0, 0.0, 0.0, 0.0, 0.0, 0.0, 0.0], \"yaxis\": \"y3\"}, {\"line\": {\"color\": \"blueviolet\"}, \"name\": \"q2\", \"type\": \"scatter\", \"x\": [1, 2, 3, 4, 5, 6, 7, 8, 9, 10, 11, 12, 13, 14, 15, 16, 17, 18, 19, 20, 21, 22, 23, 24, 25, 26, 27, 28, 29, 30, 31, 32, 33, 34, 35, 36, 37, 38, 39, 40, 41, 42, 43, 44, 45, 46, 47, 48, 49, 50, 51, 52, 53, 54, 55, 56, 57, 58, 59, 60, 61, 62, 63, 64], \"xaxis\": \"x3\", \"y\": [0.10531219305510083, 0.16615469059954163, 0.21199901777632263, 0.25725834408643566, 0.292803767116692, 0.3274993740731467, 0.36043997842959763, 0.39238872946478437, 0.42409433199160296, 0.45495493326656783, 0.48251497409625793, 0.5090253837413092, 0.5351361631646862, 0.5575804556747491, 0.5778941894728733, 0.596229031450417, 0.6128257227047743, 0.6292683396567994, 0.6456555861564238, 0.6617900545037844, 0.677587485314793, 0.6932476937002868, 0.7087971611809794, 0.7243369990177762, 0.7381218342545691, 0.7514011131868342, 0.764610577200855, 0.7766307801937483, 0.7884487606648305, 0.8000572963811797, 0.8112421277661152, 0.8224125146852069, 0.83286308572309, 0.8432173603220153, 0.852389596132735, 0.8615305356007935, 0.8701081409009496, 0.8782235232941087, 0.8863124241665544, 0.8943194730658861, 0.9021074475665891, 0.9096161623943148, 0.9167854322747145, 0.923010997053329, 0.9290824875296112, 0.9350697186218054, 0.9409775051518595, 0.9467552914893208, 0.952410299867111, 0.9576343816805656, 0.9618449434739904, 0.9657136529091155, 0.9695775475222926, 0.9732897752441115, 0.9769273732257382, 0.9804686747684072, 0.9838294204880305, 0.986761647054292, 0.9895060955645861, 0.9921590624578704, 0.9946988810353794, 0.9971640698726962, 0.9987746278142635, 1.0], \"yaxis\": \"y3\"}, {\"line\": {\"color\": \"red\"}, \"name\": \"s4\", \"type\": \"scatter\", \"x\": [1, 2, 3, 4, 5, 6, 7, 8, 9, 10, 11, 12, 13, 14, 15, 16, 17, 18, 19, 20, 21, 22, 23, 24, 25, 26, 27, 28, 29, 30, 31, 32, 33, 34, 35, 36, 37, 38, 39, 40, 41, 42, 43, 44, 45, 46, 47, 48, 49, 50, 51, 52, 53, 54, 55, 56, 57, 58, 59, 60, 61, 62, 63, 64], \"xaxis\": \"x3\", \"y\": [0.18343285958835942, 0.2846052788725666, 0.3622895019706199, 0.41933596082646607, 0.4718062024762133, 0.5234165372825352, 0.5729646880847169, 0.6160356702098015, 0.6533958358214899, 0.6902165691309369, 0.7230562522393409, 0.7548230423185638, 0.7861777937019787, 0.8163442016003823, 0.8434471913690833, 0.8664317847048053, 0.8859488833154188, 0.9051713842111551, 0.9214678132091247, 0.9364962777180622, 0.9490624626776546, 0.9573291134201205, 0.9646641984155423, 0.971674827819579, 0.9786018551693939, 0.9843684063856047, 0.9884310681157692, 0.9921334448027392, 0.9957999920378999, 0.997521796249851, 0.9991938373342891, 1.0000000000000004, 1.0000000000000004, 1.0000000000000004, 1.0000000000000004, 1.0000000000000004, 1.0000000000000004, 1.0000000000000004, 1.0000000000000004, 1.0000000000000004, 1.0000000000000004, 1.0000000000000004, 1.0000000000000004, 1.0000000000000004, 1.0000000000000004, 1.0000000000000004, 1.0000000000000004, 1.0000000000000004, 1.0000000000000004, 1.0000000000000004, 1.0000000000000004, 1.0000000000000004, 1.0000000000000004, 1.0000000000000004, 1.0000000000000004, 1.0000000000000004, 1.0000000000000004, 1.0000000000000004, 1.0000000000000004, 1.0000000000000004, 1.0000000000000004, 1.0000000000000004, 1.0000000000000004, 1.0000000000000004], \"yaxis\": \"y3\"}, {\"line\": {\"color\": \"navy\"}, \"name\": \"n4\", \"type\": \"scatter\", \"x\": [1, 2, 3, 4, 5, 6, 7, 8, 9, 10, 11, 12, 13, 14, 15, 16, 17, 18, 19, 20, 21, 22, 23, 24, 25, 26, 27, 28, 29, 30, 31, 32, 33, 34, 35, 36, 37, 38, 39, 40, 41, 42, 43, 44, 45, 46, 47, 48, 49, 50, 51, 52, 53, 54, 55, 56, 57, 58, 59, 60, 61, 62, 63, 64], \"xaxis\": \"x3\", \"y\": [0.2228542691721761, 0.3653724645717012, 0.4879719705189396, 0.5425867217333478, 0.5778059415278793, 0.6112788450733803, 0.6419591163050306, 0.6660759647568327, 0.6880541284352969, 0.7072654492803814, 0.7241815063635543, 0.7407770370465887, 0.756591514892504, 0.772339676931494, 0.7861775753098883, 0.7992786313891136, 0.8119799505210397, 0.8234802167053202, 0.8344960090778972, 0.8454252224803218, 0.8556470672755442, 0.8649202276105864, 0.8739557563041466, 0.882674442809064, 0.8906323396400895, 0.898400499579079, 0.9059218173478468, 0.9129052402382213, 0.9193710314134295, 0.9256802436000643, 0.9308381396942474, 0.9359720884137076, 0.9402476158546359, 0.9443757748357303, 0.9483657758857306, 0.9523355137725037, 0.9558631462797754, 0.9590813050213961, 0.962273674282546, 0.9654052540540143, 0.9684263074806073, 0.9713331503508291, 0.974236309009555, 0.9767470991439735, 0.9789539418299847, 0.9809526265664807, 0.9829273639282538, 0.9845981538416195, 0.9862542069090019, 0.9878918389189051, 0.9893673656229911, 0.9907949975776311, 0.9921839453115647, 0.9932578929626036, 0.9943023669216757, 0.9953321040347645, 0.9963415779846261, 0.9970968413412743, 0.9978134204772162, 0.9984784206522163, 0.9991121050295017, 0.99962789463892, 0.9998452631171748, 1.0000000000000002], \"yaxis\": \"y3\"}, {\"line\": {\"color\": \"silver\"}, \"name\": \"r4\", \"type\": \"scatter\", \"x\": [1, 2, 3, 4, 5, 6, 7, 8, 9, 10, 11, 12, 13, 14, 15, 16, 17, 18, 19, 20, 21, 22, 23, 24, 25, 26, 27, 28, 29, 30, 31, 32, 33, 34, 35, 36, 37, 38, 39, 40, 41, 42, 43, 44, 45, 46, 47, 48, 49, 50, 51, 52, 53, 54, 55, 56, 57, 58, 59, 60, 61, 62, 63, 64], \"xaxis\": \"x3\", \"y\": [0.18845638270984832, 0.27906299688710723, 0.335715725387192, 0.3875887398383087, 0.4254649343669118, 0.45843024464841586, 0.488109901430395, 0.5098105710382601, 0.5309961576729767, 0.551778635893925, 0.5708143109885434, 0.5888134215906147, 0.6040451609394346, 0.6189217809713634, 0.6336672308051612, 0.6479807787670643, 0.6620831747027077, 0.6758656433258365, 0.6893249853633256, 0.7017573607276428, 0.7130092043087812, 0.7241138813261628, 0.7351737685197924, 0.7453954461546338, 0.7556075259700997, 0.7658004101468148, 0.7758909175835251, 0.7859686279277349, 0.7958575811575611, 0.8055097881761265, 0.8149988322653094, 0.8243886988876129, 0.8335578156642812, 0.8422566392915531, 0.8509394665531993, 0.8589312508198139, 0.8663343688314017, 0.8736479071954854, 0.8808846630045656, 0.8881182195405206, 0.8953293811645996, 0.9023389885817944, 0.9093070054483623, 0.9161918412136764, 0.9228463293139799, 0.9291648937361432, 0.9351827264845427, 0.9408358420966756, 0.946456964977557, 0.9517485627265485, 0.9568258091761551, 0.9618806607138858, 0.9669323129784912, 0.971091368041181, 0.9751832383682427, 0.9790639566690448, 0.9826215483842071, 0.9860671655399893, 0.989064884458251, 0.9917426760639982, 0.993972569432225, 0.996032901324819, 0.9980676390324119, 1.0], \"yaxis\": \"y3\"}, {\"line\": {\"color\": \"black\"}, \"name\": \"r3\", \"type\": \"scatter\", \"x\": [1, 2, 3, 4, 5, 6, 7, 8, 9, 10, 11, 12, 13, 14, 15, 16, 17, 18, 19, 20, 21, 22, 23, 24, 25, 26, 27, 28, 29, 30, 31, 32, 33, 34, 35, 36, 37, 38, 39, 40, 41, 42, 43, 44, 45, 46, 47, 48, 49, 50, 51, 52, 53, 54, 55, 56, 57, 58, 59, 60, 61, 62, 63, 64], \"xaxis\": \"x4\", \"y\": [0.1013647320750354, 0.18077759209689584, 0.25788206380939194, 0.3072858758095156, 0.353352809659469, 0.3949629541992635, 0.43115369671515136, 0.4644566010897959, 0.48679835818066197, 0.5089075286800778, 0.5292635609410481, 0.5493009630160431, 0.5682224872245429, 0.5868374811275476, 0.6053852534723297, 0.6228816806465102, 0.6399008347573101, 0.6557920111211346, 0.6711346595698627, 0.6856330052473149, 0.6995613121110392, 0.7134291195723633, 0.7266852108538616, 0.7391453988860043, 0.7508392611544092, 0.7623933025817111, 0.7731554740531507, 0.7839001679194524, 0.7941138114757955, 0.8042427558687781, 0.8143609448124451, 0.8240542935081453, 0.8334693449528038, 0.8424945113597712, 0.850917372605064, 0.8590283258202038, 0.867131212448357, 0.8751588109313009, 0.8829363452176566, 0.8904745707567399, 0.897821887070471, 0.9048156179879511, 0.9116170952489145, 0.9183782395749445, 0.9248825975485641, 0.9312310015071071, 0.9375646167228413, 0.9433268486936833, 0.9487449062864256, 0.9541051533390964, 0.9594237230256691, 0.9644586177365425, 0.9689651509997862, 0.9729433228154002, 0.9764791767779094, 0.97968026738047, 0.9828786691207017, 0.9860152270273685, 0.9891396850535554, 0.9921901993656974, 0.9943775888702611, 0.9963969244792682, 0.9982562727797055, 1.0], \"yaxis\": \"y4\"}, {\"line\": {\"color\": \"blue\"}, \"name\": \"n3\", \"type\": \"scatter\", \"x\": [1, 2, 3, 4, 5, 6, 7, 8, 9, 10, 11, 12, 13, 14, 15, 16, 17, 18, 19, 20, 21, 22, 23, 24, 25, 26, 27, 28, 29, 30, 31, 32, 33, 34, 35, 36, 37, 38, 39, 40, 41, 42, 43, 44, 45, 46, 47, 48, 49, 50, 51, 52, 53, 54, 55, 56, 57, 58, 59, 60, 61, 62, 63, 64], \"xaxis\": \"x4\", \"y\": [0.2069701452909853, 0.34150234528518963, 0.46689384618155927, 0.5107513449460651, 0.5468849490569127, 0.5813103992193087, 0.6129664626959072, 0.6442740032440045, 0.6678662643119571, 0.6913700240519981, 0.7129831448046197, 0.73184019323051, 0.7501544857250492, 0.7666791717215545, 0.7830581829659223, 0.7985020562852782, 0.8131235721328899, 0.8271396762417794, 0.8401031627868364, 0.8515401972248177, 0.8627916138334625, 0.8726818330269726, 0.8821820198195983, 0.8916179844096688, 0.9004681172008205, 0.9082538844642577, 0.9158689146526089, 0.9232427199825818, 0.9291339322706387, 0.9348434427173198, 0.9392606771369743, 0.9435666974985453, 0.9478406067588386, 0.9518889551125964, 0.955496363221981, 0.9588742944368692, 0.9620948029357379, 0.9650537234388327, 0.9677769014666942, 0.9704992962969635, 0.9731887968283631, 0.9758641998031042, 0.9784307383125382, 0.9806456211031026, 0.982552707239957, 0.9843705088513077, 0.9860629988479165, 0.9876544563551395, 0.9892161523538613, 0.9906376559835905, 0.991906436082853, 0.9930232758492408, 0.9939678121453583, 0.9948027007785767, 0.9955835487779376, 0.9963330688736131, 0.9970426458920895, 0.9977271605876175, 0.9983043772130227, 0.9987641141996073, 0.9992089704319413, 0.9996412955028011, 0.9998582412358231, 1.0], \"yaxis\": \"y4\"}, {\"line\": {\"color\": \"maroon\"}, \"name\": \"s3\", \"type\": \"scatter\", \"x\": [1, 2, 3, 4, 5, 6, 7, 8, 9, 10, 11, 12, 13, 14, 15, 16, 17, 18, 19, 20, 21, 22, 23, 24, 25, 26, 27, 28, 29, 30, 31, 32, 33, 34, 35, 36, 37, 38, 39, 40, 41, 42, 43, 44, 45, 46, 47, 48, 49, 50, 51, 52, 53, 54, 55, 56, 57, 58, 59, 60, 61, 62, 63, 64], \"xaxis\": \"x4\", \"y\": [0.14035246122952522, 0.2294974228258539, 0.3126597982537551, 0.38567495743777586, 0.44353353712268084, 0.5013365536796248, 0.5522957555847455, 0.6011383495841014, 0.6474823391729603, 0.6933193152191749, 0.7361385188780069, 0.7705676902147255, 0.7983787721069625, 0.8247486853677107, 0.8489412185514866, 0.8673855725129206, 0.8850668016387649, 0.9000158875819013, 0.9147861297069132, 0.9273972234063149, 0.9399501494561324, 0.9507467597580572, 0.9599372483923589, 0.969041787813096, 0.9759333520280107, 0.9822206672263494, 0.9866752673758489, 0.9910144004000544, 0.9942700524290201, 0.9974449642876675, 0.998945168742615, 0.9999999999999999, 0.9999999999999999, 0.9999999999999999, 0.9999999999999999, 0.9999999999999999, 0.9999999999999999, 0.9999999999999999, 0.9999999999999999, 0.9999999999999999, 0.9999999999999999, 0.9999999999999999, 0.9999999999999999, 0.9999999999999999, 0.9999999999999999, 0.9999999999999999, 0.9999999999999999, 0.9999999999999999, 0.9999999999999999, 0.9999999999999999, 0.9999999999999999, 0.9999999999999999, 0.9999999999999999, 0.9999999999999999, 0.9999999999999999, 0.9999999999999999, 0.9999999999999999, 0.9999999999999999, 0.9999999999999999, 0.9999999999999999, 0.9999999999999999, 0.9999999999999999, 0.9999999999999999, 0.9999999999999999], \"yaxis\": \"y4\"}, {\"line\": {\"color\": \"brown\"}, \"name\": \"k2\", \"type\": \"scatter\", \"x\": [1, 2, 3, 4, 5, 6, 7, 8, 9, 10, 11, 12, 13, 14, 15, 16, 17, 18, 19, 20, 21, 22, 23, 24, 25, 26, 27, 28, 29, 30, 31, 32, 33, 34, 35, 36, 37, 38, 39, 40, 41, 42, 43, 44, 45, 46, 47, 48, 49, 50, 51, 52, 53, 54, 55, 56, 57, 58, 59, 60, 61, 62, 63, 64], \"xaxis\": \"x4\", \"y\": [0.0, 0.0, 0.0, 0.0, 0.0, 0.0, 0.0, 0.0, 0.0, 0.0, 0.0, 0.0, 0.0, 0.0, 0.0, 0.0, 0.0, 0.0, 0.0, 0.0, 0.0, 0.0, 0.0, 0.0, 0.0, 0.0, 0.0, 0.0, 0.0, 0.0, 0.0, 0.0, 0.0, 0.0, 0.0, 0.0, 0.0, 0.0, 0.0, 0.0, 0.0, 0.0, 0.0, 0.0, 0.0, 0.0, 0.0, 0.0, 0.0, 0.0, 0.0, 0.0, 0.0, 0.0, 0.0, 0.0, 0.0, 0.0, 0.0, 0.0, 0.0, 0.0, 0.0, 0.0], \"yaxis\": \"y4\"}, {\"line\": {\"color\": \"blueviolet\"}, \"name\": \"q2\", \"type\": \"scatter\", \"x\": [1, 2, 3, 4, 5, 6, 7, 8, 9, 10, 11, 12, 13, 14, 15, 16, 17, 18, 19, 20, 21, 22, 23, 24, 25, 26, 27, 28, 29, 30, 31, 32, 33, 34, 35, 36, 37, 38, 39, 40, 41, 42, 43, 44, 45, 46, 47, 48, 49, 50, 51, 52, 53, 54, 55, 56, 57, 58, 59, 60, 61, 62, 63, 64], \"xaxis\": \"x4\", \"y\": [0.08826240707693318, 0.14268932219533825, 0.18652601845870878, 0.2232616954422536, 0.2586715422765741, 0.2939872343686706, 0.3272807891481186, 0.3597663648605744, 0.3885580091746133, 0.41649131258279604, 0.4442505392001227, 0.4695376564227768, 0.49432881901487874, 0.5177120397639563, 0.5389340807322174, 0.5589244462934781, 0.5785272446600028, 0.5976329935733914, 0.61672232014802, 0.6356923110609926, 0.654461949441093, 0.6723590142217454, 0.6899309166949495, 0.7072772857158497, 0.7239153045249017, 0.7395690778309375, 0.7549863694588292, 0.7683848082418244, 0.7815533342821795, 0.7939675275621585, 0.8057084049529774, 0.816430002518092, 0.8270508764054785, 0.837323596711153, 0.8471222588379553, 0.8568092490611896, 0.8661568442833838, 0.875482543053898, 0.8847206560176922, 0.8931431261564062, 0.9010794950678241, 0.9090158639792421, 0.916740932131948, 0.9232244714743976, 0.9296992522361751, 0.9361324297397606, 0.9423794874040661, 0.9486046486166916, 0.9547345602645091, 0.9600181740548943, 0.9635686836948072, 0.9671016761733761, 0.9705799275227449, 0.9740351875978498, 0.9774860683826186, 0.9809292854092995, 0.9843659335004763, 0.9874905571552131, 0.9899933215822376, 0.9924807584930863, 0.9947689376936468, 0.9969585828616474, 0.9988832809643199, 1.0000000000000002], \"yaxis\": \"y4\"}, {\"line\": {\"color\": \"red\"}, \"name\": \"s4\", \"type\": \"scatter\", \"x\": [1, 2, 3, 4, 5, 6, 7, 8, 9, 10, 11, 12, 13, 14, 15, 16, 17, 18, 19, 20, 21, 22, 23, 24, 25, 26, 27, 28, 29, 30, 31, 32, 33, 34, 35, 36, 37, 38, 39, 40, 41, 42, 43, 44, 45, 46, 47, 48, 49, 50, 51, 52, 53, 54, 55, 56, 57, 58, 59, 60, 61, 62, 63, 64], \"xaxis\": \"x4\", \"y\": [0.18571517538943022, 0.2802994220494832, 0.3458905341196057, 0.4078423736232121, 0.46525586743890474, 0.522222894699679, 0.5679168607348893, 0.6122670413828009, 0.6563233786203044, 0.6914144218345829, 0.724328392378316, 0.7553661508179812, 0.7836400269107936, 0.811897237257941, 0.8394474691310919, 0.8653416521718537, 0.8868071325882868, 0.90684988461164, 0.923964728265017, 0.9381174549125795, 0.9506939528780428, 0.958263709987957, 0.9657887327279283, 0.9721471532713544, 0.9784889080691156, 0.9843859506009757, 0.988461163988306, 0.9919653563004852, 0.9952476310519682, 0.997404529398814, 0.9991930270520138, 1.0, 1.0, 1.0, 1.0, 1.0, 1.0, 1.0, 1.0, 1.0, 1.0, 1.0, 1.0, 1.0, 1.0, 1.0, 1.0, 1.0, 1.0, 1.0, 1.0, 1.0, 1.0, 1.0, 1.0, 1.0, 1.0, 1.0, 1.0, 1.0, 1.0, 1.0, 1.0, 1.0], \"yaxis\": \"y4\"}, {\"line\": {\"color\": \"navy\"}, \"name\": \"n4\", \"type\": \"scatter\", \"x\": [1, 2, 3, 4, 5, 6, 7, 8, 9, 10, 11, 12, 13, 14, 15, 16, 17, 18, 19, 20, 21, 22, 23, 24, 25, 26, 27, 28, 29, 30, 31, 32, 33, 34, 35, 36, 37, 38, 39, 40, 41, 42, 43, 44, 45, 46, 47, 48, 49, 50, 51, 52, 53, 54, 55, 56, 57, 58, 59, 60, 61, 62, 63, 64], \"xaxis\": \"x4\", \"y\": [0.1990640850514527, 0.3437124626292376, 0.4739440664397831, 0.5285076009767895, 0.5651961778222246, 0.60128052164374, 0.6365134462042776, 0.6624348813708012, 0.6862075734308724, 0.7063274022099743, 0.7259964796156174, 0.7444684001476656, 0.7617342780263553, 0.7771818022461636, 0.791999243900922, 0.805815015836883, 0.8171702345765078, 0.8275108588267702, 0.8375469431705918, 0.847136315131756, 0.8562991696642711, 0.8650912448411991, 0.8736773314872455, 0.8821495185926865, 0.8903801740481918, 0.8982473203315529, 0.9057436872593269, 0.9123538996052293, 0.9182863692946228, 0.9238504830229102, 0.9290817839091455, 0.9342177646124631, 0.9389506540337808, 0.9435987246482648, 0.9481595530614342, 0.952608097530319, 0.9566470883319214, 0.9599227098720209, 0.9631910612286775, 0.9662566552470937, 0.9690944501842995, 0.9718038052140143, 0.9742764753827553, 0.976703101056358, 0.9790142115930349, 0.9810215900214313, 0.9828698322122446, 0.9846106372477351, 0.986319130356813, 0.9879153395216062, 0.989472774374704, 0.990831490880363, 0.9920181463778738, 0.9931652197655289, 0.9942476693003582, 0.9951734059920855, 0.9960983348856525, 0.9969077486422936, 0.997650115151628, 0.9983714789087942, 0.9990621463358682, 0.9996122568830464, 0.9998360169734553, 1.0000000000000002], \"yaxis\": \"y4\"}, {\"line\": {\"color\": \"silver\"}, \"name\": \"r4\", \"type\": \"scatter\", \"x\": [1, 2, 3, 4, 5, 6, 7, 8, 9, 10, 11, 12, 13, 14, 15, 16, 17, 18, 19, 20, 21, 22, 23, 24, 25, 26, 27, 28, 29, 30, 31, 32, 33, 34, 35, 36, 37, 38, 39, 40, 41, 42, 43, 44, 45, 46, 47, 48, 49, 50, 51, 52, 53, 54, 55, 56, 57, 58, 59, 60, 61, 62, 63, 64], \"xaxis\": \"x4\", \"y\": [0.12556018686882817, 0.2095154838168238, 0.26476067921783647, 0.3143130892102834, 0.3589336168070048, 0.38995300304920694, 0.4197037513637508, 0.44832992978431757, 0.47536296752175006, 0.49783618205723557, 0.5181078132430693, 0.5381808263630514, 0.5578342238509525, 0.5745209388200408, 0.5902019749909083, 0.605533331468375, 0.6207989481634822, 0.6355582286625451, 0.6500321705317929, 0.6644319803060397, 0.6785030911684896, 0.692572803312166, 0.7065921615799926, 0.7204898313145158, 0.7325216102050521, 0.7438540297087867, 0.7550731529918594, 0.7661006518029484, 0.7769337287045066, 0.7876758888857806, 0.7980851539989369, 0.8084524575488852, 0.8187428315662852, 0.8288975298626458, 0.8386144291828684, 0.8479550731529918, 0.856908272022827, 0.8651635102246342, 0.8733488124877612, 0.8808501412705961, 0.8879024813271044, 0.8949436316334238, 0.9017483984670043, 0.9084062998293564, 0.9150614037541612, 0.9216311858337763, 0.9281086524743336, 0.9343469382046047, 0.9404859149019499, 0.9466067082552383, 0.9524561501664476, 0.9578789828517079, 0.9632206898480993, 0.9684658852491119, 0.9729809494503037, 0.9774344700254568, 0.9815327160321147, 0.9850099309032927, 0.9882339776764485, 0.9912943743530926, 0.9936903796122752, 0.9960500181833442, 0.9980375975606346, 1.0000000000000002], \"yaxis\": \"y4\"}, {\"line\": {\"color\": \"black\"}, \"name\": \"r3\", \"type\": \"scatter\", \"x\": [1, 2, 3, 4, 5, 6, 7, 8, 9, 10, 11, 12, 13, 14, 15, 16, 17, 18, 19, 20, 21, 22, 23, 24, 25, 26, 27, 28, 29, 30, 31, 32, 33, 34, 35, 36, 37, 38, 39, 40, 41, 42, 43, 44, 45, 46, 47, 48, 49, 50, 51, 52, 53, 54, 55, 56, 57, 58, 59, 60, 61, 62, 63, 64], \"xaxis\": \"x5\", \"y\": [0.09884740001062305, 0.16941023458259344, 0.2225957832267919, 0.27536502349271247, 0.32046126968313193, 0.3616198128334953, 0.4001986795846678, 0.435880614241479, 0.46112325742643906, 0.48364697623740494, 0.5050681956190004, 0.5253338003643417, 0.5454027352896, 0.5652620804795874, 0.5836284576923023, 0.6013445325072245, 0.6181562132589913, 0.6349291342651943, 0.6514537057905625, 0.6678490781640514, 0.6840520873558532, 0.6994497551676072, 0.7146507531592782, 0.728882757511854, 0.7416304071639495, 0.7538425981088116, 0.7656700626902997, 0.7773812480350963, 0.7888713592755661, 0.7998748203772903, 0.8101518951362262, 0.8199049955569848, 0.8296322561473675, 0.8393365479996383, 0.8489360449842737, 0.8584149560938217, 0.8665214851011845, 0.8741628971617819, 0.8817023854470076, 0.8886518642719844, 0.8954620951221579, 0.9022464861419556, 0.9089748908626055, 0.915589887438828, 0.9221359778007148, 0.9285413846416664, 0.9348290766997945, 0.9408770325538799, 0.9467900470715579, 0.9524475343777412, 0.9578695921182777, 0.9631681928914628, 0.9682399773757931, 0.9727102680308185, 0.9762072584083528, 0.9796697956787193, 0.9829744228745665, 0.98621875713287, 0.989378394169386, 0.9924203164230786, 0.9945779422594636, 0.9964987029840698, 0.9983462508559445, 1.0000000000000002], \"yaxis\": \"y5\"}, {\"line\": {\"color\": \"blue\"}, \"name\": \"n3\", \"type\": \"scatter\", \"x\": [1, 2, 3, 4, 5, 6, 7, 8, 9, 10, 11, 12, 13, 14, 15, 16, 17, 18, 19, 20, 21, 22, 23, 24, 25, 26, 27, 28, 29, 30, 31, 32, 33, 34, 35, 36, 37, 38, 39, 40, 41, 42, 43, 44, 45, 46, 47, 48, 49, 50, 51, 52, 53, 54, 55, 56, 57, 58, 59, 60, 61, 62, 63, 64], \"xaxis\": \"x5\", \"y\": [0.1987124975163918, 0.34254365631278005, 0.45892575667262725, 0.5078967702055323, 0.5480910435569684, 0.5841773185862198, 0.6159030399364196, 0.6466988983817913, 0.6729999779234828, 0.6975066781464556, 0.7172589796233746, 0.7360178378259046, 0.7532233922776342, 0.7700324524802966, 0.7858083316775945, 0.8003223171512461, 0.8138163675298584, 0.8266596021811599, 0.8386754089674813, 0.8505552244077974, 0.8618407400048568, 0.8726052497957921, 0.883126034836744, 0.892996004150385, 0.9027538247566063, 0.9113309932225091, 0.9183698699693136, 0.9242740137315937, 0.9297604697882862, 0.935150672229949, 0.9402123760955471, 0.9446471068724197, 0.9489767534273792, 0.9525920038854669, 0.9561869439477227, 0.9594507362518488, 0.9626580126719209, 0.9656860277722586, 0.9684614875157295, 0.971049738393271, 0.9735417356557828, 0.9759083383005496, 0.9780347484380862, 0.9801390820584143, 0.9821577587919728, 0.9841667218579595, 0.9861553745281143, 0.9878270084111529, 0.9894068039826035, 0.9907446409254475, 0.9920427401373157, 0.9932092633066205, 0.9941029207232265, 0.9948411594586836, 0.9955670353445039, 0.9962796653199989, 0.9969755171424154, 0.9976113208380244, 0.99824359229088, 0.9987151466984566, 0.9991734551957081, 0.9995946751440491, 0.9998127911340705, 0.9999999999999998], \"yaxis\": \"y5\"}, {\"line\": {\"color\": \"maroon\"}, \"name\": \"s3\", \"type\": \"scatter\", \"x\": [1, 2, 3, 4, 5, 6, 7, 8, 9, 10, 11, 12, 13, 14, 15, 16, 17, 18, 19, 20, 21, 22, 23, 24, 25, 26, 27, 28, 29, 30, 31, 32, 33, 34, 35, 36, 37, 38, 39, 40, 41, 42, 43, 44, 45, 46, 47, 48, 49, 50, 51, 52, 53, 54, 55, 56, 57, 58, 59, 60, 61, 62, 63, 64], \"xaxis\": \"x5\", \"y\": [0.12742809114680612, 0.21615177357950704, 0.30469166024209376, 0.3861727958416455, 0.45440374665193645, 0.5148457307719819, 0.5716495521344153, 0.6271389853678697, 0.6695054006151694, 0.7118449916149389, 0.749099897471765, 0.7845049237396577, 0.8131164609478695, 0.8360035050350105, 0.8569035678236195, 0.8745380268480912, 0.8906395298007455, 0.9049358602436833, 0.9187543216843242, 0.9309792241235425, 0.9422444145955697, 0.9517352307680079, 0.9606289590602373, 0.968986202401863, 0.9766162105882259, 0.9828245336554892, 0.9873816752636724, 0.990771465358968, 0.9939486484553207, 0.9966767737782052, 0.9987144230998498, 1.0, 1.0, 1.0, 1.0, 1.0, 1.0, 1.0, 1.0, 1.0, 1.0, 1.0, 1.0, 1.0, 1.0, 1.0, 1.0, 1.0, 1.0, 1.0, 1.0, 1.0, 1.0, 1.0, 1.0, 1.0, 1.0, 1.0, 1.0, 1.0, 1.0, 1.0, 1.0, 1.0], \"yaxis\": \"y5\"}, {\"line\": {\"color\": \"brown\"}, \"name\": \"k2\", \"type\": \"scatter\", \"x\": [1, 2, 3, 4, 5, 6, 7, 8, 9, 10, 11, 12, 13, 14, 15, 16, 17, 18, 19, 20, 21, 22, 23, 24, 25, 26, 27, 28, 29, 30, 31, 32, 33, 34, 35, 36, 37, 38, 39, 40, 41, 42, 43, 44, 45, 46, 47, 48, 49, 50, 51, 52, 53, 54, 55, 56, 57, 58, 59, 60, 61, 62, 63, 64], \"xaxis\": \"x5\", \"y\": [0.0, 0.0, 0.0, 0.0, 0.0, 0.0, 0.0, 0.0, 0.0, 0.0, 0.0, 0.0, 0.0, 0.0, 0.0, 0.0, 0.0, 0.0, 0.0, 0.0, 0.0, 0.0, 0.0, 0.0, 0.0, 0.0, 0.0, 0.0, 0.0, 0.0, 0.0, 0.0, 0.0, 0.0, 0.0, 0.0, 0.0, 0.0, 0.0, 0.0, 0.0, 0.0, 0.0, 0.0, 0.0, 0.0, 0.0, 0.0, 0.0, 0.0, 0.0, 0.0, 0.0, 0.0, 0.0, 0.0, 0.0, 0.0, 0.0, 0.0, 0.0, 0.0, 0.0, 0.0], \"yaxis\": \"y5\"}, {\"line\": {\"color\": \"blueviolet\"}, \"name\": \"q2\", \"type\": \"scatter\", \"x\": [1, 2, 3, 4, 5, 6, 7, 8, 9, 10, 11, 12, 13, 14, 15, 16, 17, 18, 19, 20, 21, 22, 23, 24, 25, 26, 27, 28, 29, 30, 31, 32, 33, 34, 35, 36, 37, 38, 39, 40, 41, 42, 43, 44, 45, 46, 47, 48, 49, 50, 51, 52, 53, 54, 55, 56, 57, 58, 59, 60, 61, 62, 63, 64], \"xaxis\": \"x5\", \"y\": [0.07889692019514002, 0.12917606597614495, 0.16793351687122732, 0.20512248656066318, 0.24171672522573578, 0.27451955361049263, 0.30470459051915877, 0.3341047774694439, 0.36274326997254247, 0.3912513603862827, 0.41626418732077336, 0.44092602545400045, 0.4655756764760725, 0.48881771615974384, 0.5114467441523195, 0.5335249147206897, 0.5548706399086455, 0.5760554952293554, 0.5969844212158106, 0.6175879513344278, 0.6366169066918209, 0.6555861452045546, 0.6741093354490159, 0.692316879514563, 0.7104488634909493, 0.727806965908994, 0.7450882895267623, 0.7603599585150737, 0.7755255996363366, 0.7895688078202255, 0.8032585897806198, 0.8155687907582698, 0.8262690743523464, 0.8369120785239945, 0.8474783038953663, 0.8571049029966887, 0.8664853224526805, 0.8758498986641707, 0.8848610486521664, 0.8929484156146142, 0.9008310391096583, 0.9087063503380095, 0.91621361080948, 0.9235526891470118, 0.9303604094381863, 0.9371669110182452, 0.9438259485533289, 0.9500279694201006, 0.9558997195745722, 0.9607038787918671, 0.9642576404046607, 0.9676944057503664, 0.9711019220293001, 0.9744948137748479, 0.9778742996981252, 0.9812367236657855, 0.9845211501220539, 0.9877141732446598, 0.9901552516090033, 0.9925439253953803, 0.994799759670168, 0.9970178139003752, 0.9989324090628233, 1.0], \"yaxis\": \"y5\"}, {\"line\": {\"color\": \"red\"}, \"name\": \"s4\", \"type\": \"scatter\", \"x\": [1, 2, 3, 4, 5, 6, 7, 8, 9, 10, 11, 12, 13, 14, 15, 16, 17, 18, 19, 20, 21, 22, 23, 24, 25, 26, 27, 28, 29, 30, 31, 32, 33, 34, 35, 36, 37, 38, 39, 40, 41, 42, 43, 44, 45, 46, 47, 48, 49, 50, 51, 52, 53, 54, 55, 56, 57, 58, 59, 60, 61, 62, 63, 64], \"xaxis\": \"x5\", \"y\": [0.17817306318746726, 0.2646193435233243, 0.32969858578162947, 0.3916361125660683, 0.45357165531800075, 0.510017380124756, 0.5652260606637779, 0.6099421852927638, 0.6484691205180705, 0.6862877561385965, 0.7237085932415916, 0.7572764392171801, 0.7899673428249449, 0.8199401218989572, 0.8457871053759345, 0.867785065790518, 0.888663039855245, 0.9063437455359269, 0.9230334269796676, 0.9374950399187341, 0.950069837944225, 0.9582509959843183, 0.9656444931193754, 0.9728425630525531, 0.9789900877735982, 0.9845056981413585, 0.9884539228290717, 0.9919438360078092, 0.9947244575655129, 0.9970189911591513, 0.9990992492420997, 1.0000000000000002, 1.0000000000000002, 1.0000000000000002, 1.0000000000000002, 1.0000000000000002, 1.0000000000000002, 1.0000000000000002, 1.0000000000000002, 1.0000000000000002, 1.0000000000000002, 1.0000000000000002, 1.0000000000000002, 1.0000000000000002, 1.0000000000000002, 1.0000000000000002, 1.0000000000000002, 1.0000000000000002, 1.0000000000000002, 1.0000000000000002, 1.0000000000000002, 1.0000000000000002, 1.0000000000000002, 1.0000000000000002, 1.0000000000000002, 1.0000000000000002, 1.0000000000000002, 1.0000000000000002, 1.0000000000000002, 1.0000000000000002, 1.0000000000000002, 1.0000000000000002, 1.0000000000000002, 1.0000000000000002], \"yaxis\": \"y5\"}, {\"line\": {\"color\": \"navy\"}, \"name\": \"n4\", \"type\": \"scatter\", \"x\": [1, 2, 3, 4, 5, 6, 7, 8, 9, 10, 11, 12, 13, 14, 15, 16, 17, 18, 19, 20, 21, 22, 23, 24, 25, 26, 27, 28, 29, 30, 31, 32, 33, 34, 35, 36, 37, 38, 39, 40, 41, 42, 43, 44, 45, 46, 47, 48, 49, 50, 51, 52, 53, 54, 55, 56, 57, 58, 59, 60, 61, 62, 63, 64], \"xaxis\": \"x5\", \"y\": [0.17628683848337515, 0.33083665805933743, 0.44809303979225124, 0.5001163730461698, 0.540070813456756, 0.5775658424034058, 0.614974736969426, 0.6460857421943008, 0.6763757218335994, 0.700277096135132, 0.722571239547043, 0.7408317282405311, 0.7582244588653353, 0.7742463699856503, 0.7897184871870526, 0.8044547968603101, 0.8169305372036381, 0.8279658174794147, 0.8384210651707383, 0.8487791826030541, 0.858220976837182, 0.8676343650521661, 0.8759701571860812, 0.8838862732952263, 0.8912067793255493, 0.8980599605247964, 0.9049039784920617, 0.9107684469604641, 0.9161811680921599, 0.9214546080977312, 0.9267133869321315, 0.9319217679906313, 0.9370440146685015, 0.9421021187224986, 0.9467973587900133, 0.9512314467460444, 0.9555051781423927, 0.9591017466952801, 0.9624728997414134, 0.9657570020837187, 0.9689494721062053, 0.9717708312334258, 0.9745821108054662, 0.9771588116387705, 0.9794853562389695, 0.9815296732941267, 0.9834851069990596, 0.9851225765542213, 0.9866198486600603, 0.9881143717963047, 0.9894650321904336, 0.9907368887895184, 0.9919226110079735, 0.9930212825226008, 0.9940933806644806, 0.9950665159009562, 0.9959718432207658, 0.9968139442399004, 0.9976203086543057, 0.9983964344031708, 0.9991056685585682, 0.9995867382376168, 0.9998359781475239, 0.9999999999999996], \"yaxis\": \"y5\"}, {\"line\": {\"color\": \"silver\"}, \"name\": \"r4\", \"type\": \"scatter\", \"x\": [1, 2, 3, 4, 5, 6, 7, 8, 9, 10, 11, 12, 13, 14, 15, 16, 17, 18, 19, 20, 21, 22, 23, 24, 25, 26, 27, 28, 29, 30, 31, 32, 33, 34, 35, 36, 37, 38, 39, 40, 41, 42, 43, 44, 45, 46, 47, 48, 49, 50, 51, 52, 53, 54, 55, 56, 57, 58, 59, 60, 61, 62, 63, 64], \"xaxis\": \"x5\", \"y\": [0.09118867986200462, 0.170345850184083, 0.22502845189030496, 0.2775641616126799, 0.32463681124882254, 0.3605114505858266, 0.39108646106028233, 0.41935857701919277, 0.4459844948340876, 0.4697102512977925, 0.49188786835169207, 0.5121681974724618, 0.5315318260022048, 0.549611776556831, 0.5667809694740189, 0.5839026187624988, 0.6009752386838736, 0.6180181438373058, 0.6348991035054513, 0.6513491990384302, 0.6672763146556209, 0.6831529151673091, 0.6988096263962228, 0.7120148692698786, 0.7247818193163822, 0.7374551678438669, 0.7499814282700361, 0.7623145427045789, 0.774580798911251, 0.7863225894637377, 0.7978415192566555, 0.8092831906529228, 0.8200503368168948, 0.8303791901537146, 0.8404034671191237, 0.8502464840000834, 0.8596185218091541, 0.8681526031622457, 0.8759378723631859, 0.8836755979354181, 0.8910938897522681, 0.8981452041850281, 0.9047923977737697, 0.9113593614890666, 0.9178594669764928, 0.924300142928034, 0.9303872131410591, 0.936165249767482, 0.9419046571955797, 0.9476321787165004, 0.9531977547521343, 0.9584097250492523, 0.9636008950088104, 0.9687088636181296, 0.9733072239572345, 0.9776797520599763, 0.9818606199094888, 0.9853194188979981, 0.9887455316417707, 0.9918581535837496, 0.9940808182258501, 0.9961578805050323, 0.9980952833748846, 1.0000000000000002], \"yaxis\": \"y5\"}, {\"line\": {\"color\": \"black\"}, \"name\": \"r3\", \"type\": \"scatter\", \"x\": [1, 2, 3, 4, 5, 6, 7, 8, 9, 10, 11, 12, 13, 14, 15, 16, 17, 18, 19, 20, 21, 22, 23, 24, 25, 26, 27, 28, 29, 30, 31, 32, 33, 34, 35, 36, 37, 38, 39, 40, 41, 42, 43, 44, 45, 46, 47, 48, 49, 50, 51, 52, 53, 54, 55, 56, 57, 58, 59, 60, 61, 62, 63, 64], \"xaxis\": \"x6\", \"y\": [0.09054115520223427, 0.16035043703229435, 0.21739495725282398, 0.2611358493955135, 0.3022896030640063, 0.34208749916707465, 0.38096990170032646, 0.41621640413826266, 0.4427019807688407, 0.4664961221894202, 0.4875698570845006, 0.5084552784288277, 0.5288452902780957, 0.5485892417917021, 0.5681825424647058, 0.5871761369068487, 0.6057235730902835, 0.6240508272759143, 0.64154370757513, 0.6587671546401909, 0.6746521269291276, 0.6898678618300023, 0.7046606155245693, 0.7193896323250352, 0.7336377252881924, 0.7473353632568396, 0.7609142188319347, 0.7741309329632732, 0.7865509359183473, 0.7980438567774047, 0.8088095976173991, 0.8190625461730342, 0.8292285807821677, 0.8390788280523455, 0.848807395797421, 0.8582462503874914, 0.8668333483018463, 0.8746961633286883, 0.8821765569909233, 0.8894831227601552, 0.896560815136933, 0.9034386054367571, 0.9101164936596277, 0.9166929822782464, 0.9232607795022149, 0.9298256795946334, 0.9362862829512499, 0.9424166133111606, 0.9480138714658616, 0.953301136544707, 0.9583566310995483, 0.9633976399966393, 0.9682879980531276, 0.972961071243362, 0.9765564114969768, 0.9799779238575885, 0.9833443907187492, 0.9865631038708573, 0.9897557428390149, 0.9927339940724687, 0.9948489001040068, 0.9967001671644903, 0.998400783384371, 0.9999999999999999], \"yaxis\": \"y6\"}, {\"line\": {\"color\": \"blue\"}, \"name\": \"n3\", \"type\": \"scatter\", \"x\": [1, 2, 3, 4, 5, 6, 7, 8, 9, 10, 11, 12, 13, 14, 15, 16, 17, 18, 19, 20, 21, 22, 23, 24, 25, 26, 27, 28, 29, 30, 31, 32, 33, 34, 35, 36, 37, 38, 39, 40, 41, 42, 43, 44, 45, 46, 47, 48, 49, 50, 51, 52, 53, 54, 55, 56, 57, 58, 59, 60, 61, 62, 63, 64], \"xaxis\": \"x6\", \"y\": [0.197866468104344, 0.34993570151827996, 0.45923932141832763, 0.5169123052287867, 0.5567051824386315, 0.5952158890381062, 0.6268161709256893, 0.6554152238289984, 0.6796093083686802, 0.7028840290929261, 0.7239021295429205, 0.7406140362540865, 0.7572290678524689, 0.7731431795171823, 0.7890098033815115, 0.8037006293083309, 0.817208059249579, 0.8306585038303661, 0.843453616765853, 0.8557301629211457, 0.8665079940963167, 0.8762847824393915, 0.8859741932297595, 0.8952039221124095, 0.904211408089262, 0.9121817605057263, 0.9188338515835284, 0.9250889446501196, 0.9313421382046955, 0.9368279289050645, 0.9414760348066584, 0.9460082704753151, 0.9501321110606687, 0.9534505585515084, 0.9566683319055338, 0.95981202429096, 0.9627334737705887, 0.9654136852242663, 0.9679913230291143, 0.9705043774254398, 0.9729984367016118, 0.9754924959777838, 0.9778592879489264, 0.9799468516538106, 0.9820021236544336, 0.9839928122465343, 0.9859683047425122, 0.9878317260295836, 0.9896837502445628, 0.9912793403374679, 0.9926014007001607, 0.9936309362124875, 0.9945427019798619, 0.9952816121538383, 0.9959768335514612, 0.9966359642207923, 0.9972457075777239, 0.9978060636222561, 0.9983436255226039, 0.9987995084062911, 0.9992230995857171, 0.999604901500805, 0.999834742454664, 1.0000000000000007], \"yaxis\": \"y6\"}, {\"line\": {\"color\": \"maroon\"}, \"name\": \"s3\", \"type\": \"scatter\", \"x\": [1, 2, 3, 4, 5, 6, 7, 8, 9, 10, 11, 12, 13, 14, 15, 16, 17, 18, 19, 20, 21, 22, 23, 24, 25, 26, 27, 28, 29, 30, 31, 32, 33, 34, 35, 36, 37, 38, 39, 40, 41, 42, 43, 44, 45, 46, 47, 48, 49, 50, 51, 52, 53, 54, 55, 56, 57, 58, 59, 60, 61, 62, 63, 64], \"xaxis\": \"x6\", \"y\": [0.11494653472247937, 0.2061174123197766, 0.2948747829913109, 0.3817697453401672, 0.46113665720577757, 0.524691613499084, 0.5869984294778939, 0.6409102493448897, 0.6814846117150929, 0.7196955670325409, 0.7577954313272327, 0.7895304334945967, 0.8175754711021753, 0.8376981940084908, 0.8553769144141691, 0.8729075134561723, 0.8891442288213678, 0.9051827229498804, 0.9211362651198148, 0.9329140917873238, 0.9423982155732187, 0.9517189702080014, 0.9609721989269913, 0.9691646172914264, 0.9759978043186089, 0.9824715792133447, 0.9874314666411084, 0.9905441935336311, 0.9934543426787747, 0.9960203274789089, 0.9982704652535597, 0.9999999999999999, 0.9999999999999999, 0.9999999999999999, 0.9999999999999999, 0.9999999999999999, 0.9999999999999999, 0.9999999999999999, 0.9999999999999999, 0.9999999999999999, 0.9999999999999999, 0.9999999999999999, 0.9999999999999999, 0.9999999999999999, 0.9999999999999999, 0.9999999999999999, 0.9999999999999999, 0.9999999999999999, 0.9999999999999999, 0.9999999999999999, 0.9999999999999999, 0.9999999999999999, 0.9999999999999999, 0.9999999999999999, 0.9999999999999999, 0.9999999999999999, 0.9999999999999999, 0.9999999999999999, 0.9999999999999999, 0.9999999999999999, 0.9999999999999999, 0.9999999999999999, 0.9999999999999999, 0.9999999999999999], \"yaxis\": \"y6\"}, {\"line\": {\"color\": \"brown\"}, \"name\": \"k2\", \"type\": \"scatter\", \"x\": [1, 2, 3, 4, 5, 6, 7, 8, 9, 10, 11, 12, 13, 14, 15, 16, 17, 18, 19, 20, 21, 22, 23, 24, 25, 26, 27, 28, 29, 30, 31, 32, 33, 34, 35, 36, 37, 38, 39, 40, 41, 42, 43, 44, 45, 46, 47, 48, 49, 50, 51, 52, 53, 54, 55, 56, 57, 58, 59, 60, 61, 62, 63, 64], \"xaxis\": \"x6\", \"y\": [0.0, 0.0, 0.0, 0.0, 0.0, 0.0, 0.0, 0.0, 0.0, 0.0, 0.0, 0.0, 0.0, 0.0, 0.0, 0.0, 0.0, 0.0, 0.0, 0.0, 0.0, 0.0, 0.0, 0.0, 0.0, 0.0, 0.0, 0.0, 0.0, 0.0, 0.0, 0.0, 0.0, 0.0, 0.0, 0.0, 0.0, 0.0, 0.0, 0.0, 0.0, 0.0, 0.0, 0.0, 0.0, 0.0, 0.0, 0.0, 0.0, 0.0, 0.0, 0.0, 0.0, 0.0, 0.0, 0.0, 0.0, 0.0, 0.0, 0.0, 0.0, 0.0, 0.0, 0.0], \"yaxis\": \"y6\"}, {\"line\": {\"color\": \"blueviolet\"}, \"name\": \"q2\", \"type\": \"scatter\", \"x\": [1, 2, 3, 4, 5, 6, 7, 8, 9, 10, 11, 12, 13, 14, 15, 16, 17, 18, 19, 20, 21, 22, 23, 24, 25, 26, 27, 28, 29, 30, 31, 32, 33, 34, 35, 36, 37, 38, 39, 40, 41, 42, 43, 44, 45, 46, 47, 48, 49, 50, 51, 52, 53, 54, 55, 56, 57, 58, 59, 60, 61, 62, 63, 64], \"xaxis\": \"x6\", \"y\": [0.07709283691909528, 0.1294084307829659, 0.16780312624607213, 0.20539782772794185, 0.24209974595802414, 0.2723314934307704, 0.3021795447306979, 0.33101443750893406, 0.3593302119357095, 0.38652499166150467, 0.411836399976928, 0.43682429975448456, 0.4617996604414261, 0.48496688426168577, 0.5080764282651165, 0.5303232828342357, 0.5518478857839314, 0.5733549340067661, 0.59451841114675, 0.615553989562461, 0.6346184229334952, 0.6535098168540425, 0.6723410231396378, 0.6901264692679429, 0.7075257114053061, 0.7244911010073906, 0.7410803178910252, 0.757596808049093, 0.773925211847936, 0.7895714891173232, 0.8035325126080556, 0.817338051375162, 0.8290194681920888, 0.8398055939391051, 0.8496287175268901, 0.8589452618538292, 0.8681414309108646, 0.877332584331654, 0.8857262515893297, 0.8937462539466787, 0.9016534044884928, 0.909410085942927, 0.9170539155818264, 0.9243817601372278, 0.9316920499657683, 0.9388142534350838, 0.9454524480066607, 0.9513382971413381, 0.9570611380980205, 0.9613896321783159, 0.9650134293660486, 0.9685945936456904, 0.9719500542942624, 0.9752854523978504, 0.9785732019571013, 0.9817506075189403, 0.9848452550827204, 0.9877768944685056, 0.9900891027779102, 0.9923912798148228, 0.9946708864886283, 0.9968602117100059, 0.9988639583902817, 1.0], \"yaxis\": \"y6\"}, {\"line\": {\"color\": \"red\"}, \"name\": \"s4\", \"type\": \"scatter\", \"x\": [1, 2, 3, 4, 5, 6, 7, 8, 9, 10, 11, 12, 13, 14, 15, 16, 17, 18, 19, 20, 21, 22, 23, 24, 25, 26, 27, 28, 29, 30, 31, 32, 33, 34, 35, 36, 37, 38, 39, 40, 41, 42, 43, 44, 45, 46, 47, 48, 49, 50, 51, 52, 53, 54, 55, 56, 57, 58, 59, 60, 61, 62, 63, 64], \"xaxis\": \"x6\", \"y\": [0.16829861185150435, 0.25533402989530246, 0.3247222636842442, 0.39211250186579094, 0.45549182250463777, 0.5094504978996524, 0.558914216261168, 0.6065803782757958, 0.6458472823421539, 0.6850310254387273, 0.7238927863189542, 0.7589931125658356, 0.792280956137919, 0.8234641874746783, 0.8479518945774781, 0.8697997739727485, 0.8901614175746847, 0.9088278567925451, 0.9247030726912167, 0.939205066422159, 0.9517964901806083, 0.9603727317312405, 0.968458536793398, 0.9746081838923596, 0.9802418065121433, 0.985176024052711, 0.9893191462140433, 0.991807578309913, 0.9942832164104312, 0.9966330468899928, 0.9989658187090856, 0.9999999999999998, 0.9999999999999998, 0.9999999999999998, 0.9999999999999998, 0.9999999999999998, 0.9999999999999998, 0.9999999999999998, 0.9999999999999998, 0.9999999999999998, 0.9999999999999998, 0.9999999999999998, 0.9999999999999998, 0.9999999999999998, 0.9999999999999998, 0.9999999999999998, 0.9999999999999998, 0.9999999999999998, 0.9999999999999998, 0.9999999999999998, 0.9999999999999998, 0.9999999999999998, 0.9999999999999998, 0.9999999999999998, 0.9999999999999998, 0.9999999999999998, 0.9999999999999998, 0.9999999999999998, 0.9999999999999998, 0.9999999999999998, 0.9999999999999998, 0.9999999999999998, 0.9999999999999998, 0.9999999999999998], \"yaxis\": \"y6\"}, {\"line\": {\"color\": \"navy\"}, \"name\": \"n4\", \"type\": \"scatter\", \"x\": [1, 2, 3, 4, 5, 6, 7, 8, 9, 10, 11, 12, 13, 14, 15, 16, 17, 18, 19, 20, 21, 22, 23, 24, 25, 26, 27, 28, 29, 30, 31, 32, 33, 34, 35, 36, 37, 38, 39, 40, 41, 42, 43, 44, 45, 46, 47, 48, 49, 50, 51, 52, 53, 54, 55, 56, 57, 58, 59, 60, 61, 62, 63, 64], \"xaxis\": \"x6\", \"y\": [0.16020352170432708, 0.31468569978778516, 0.43131339156293574, 0.48264224196425587, 0.5224025316306321, 0.5596610856195434, 0.5957985788095908, 0.6296329804286386, 0.6626708388484935, 0.6890295350351168, 0.712689818211141, 0.7325463617643531, 0.7512916783853578, 0.7673012133024681, 0.7825456733936871, 0.7970427596189967, 0.8109458802982416, 0.823061204019298, 0.8346454989408927, 0.8458403727428819, 0.8568130011584296, 0.8666940703750835, 0.87543441105956, 0.883675191317876, 0.8900986730180335, 0.8963058096517436, 0.9024637769521702, 0.9081792202530452, 0.9138690955006128, 0.9194881669082521, 0.9250541354359453, 0.9304863633771073, 0.935835986838353, 0.9409358300865185, 0.9458055608549172, 0.9499397183973946, 0.9537945941268217, 0.9575452308696877, 0.961181794759336, 0.964666917102471, 0.9681304049389613, 0.9715191553888607, 0.9743591760793161, 0.9769828517033241, 0.9795455573540606, 0.9819646885516092, 0.9840652024694807, 0.9857054914278185, 0.987170737559667, 0.9885396117982799, 0.9898494828369525, 0.9910275800624254, 0.9921840427812535, 0.993175296540249, 0.9941626167525819, 0.9950653657116671, 0.995942546617445, 0.99678629237659, 0.9976162707224157, 0.9984403487482473, 0.9990244804276553, 0.999565343093774, 0.9998190568535169, 1.0000000000000002], \"yaxis\": \"y6\"}, {\"line\": {\"color\": \"silver\"}, \"name\": \"r4\", \"type\": \"scatter\", \"x\": [1, 2, 3, 4, 5, 6, 7, 8, 9, 10, 11, 12, 13, 14, 15, 16, 17, 18, 19, 20, 21, 22, 23, 24, 25, 26, 27, 28, 29, 30, 31, 32, 33, 34, 35, 36, 37, 38, 39, 40, 41, 42, 43, 44, 45, 46, 47, 48, 49, 50, 51, 52, 53, 54, 55, 56, 57, 58, 59, 60, 61, 62, 63, 64], \"xaxis\": \"x6\", \"y\": [0.07825999030486154, 0.1548694278976122, 0.21080680800949292, 0.2656170539269772, 0.3093611617511919, 0.34802870474734654, 0.37556765630436795, 0.400804755970986, 0.42602698579335085, 0.45106780351582604, 0.47507962801597625, 0.4941160026289886, 0.5127895530422215, 0.5314006501095908, 0.5497738296689081, 0.5680191285676475, 0.586228739840179, 0.6043818457045481, 0.622359487406729, 0.639757205183033, 0.6570657038938176, 0.6739013415573487, 0.6901719251392563, 0.7044707673731827, 0.7180528831141024, 0.7316260769484701, 0.745181426969734, 0.758591052517316, 0.771150122973612, 0.7834861457661092, 0.7956586002718207, 0.8075425797990191, 0.819277860883685, 0.8300228103410844, 0.8406279832625032, 0.8508227484825323, 0.8595364772149375, 0.8680985335359597, 0.8763275053457089, 0.884235288519588, 0.8917148201789734, 0.8991646121498523, 0.9061653348242831, 0.9129876193676748, 0.9195600905276119, 0.9257727114566203, 0.9318396079119469, 0.9375853157314031, 0.9431436635132685, 0.9486306360427182, 0.9539867539427394, 0.9588878546086109, 0.9637473197105735, 0.9685413574978217, 0.9732342803441477, 0.9777874266544933, 0.9821799786469037, 0.9857071057037748, 0.9891093260689188, 0.9918156377230105, 0.9942156305854852, 0.9964728729431288, 0.9983494472878891, 1.0], \"yaxis\": \"y6\"}],                        {\"annotations\": [{\"font\": {\"size\": 16}, \"showarrow\": false, \"text\": \"All Games\", \"x\": 0.14444444444444446, \"xanchor\": \"center\", \"xref\": \"paper\", \"y\": 1.0, \"yanchor\": \"bottom\", \"yref\": \"paper\"}, {\"font\": {\"size\": 16}, \"showarrow\": false, \"text\": \"Elo 0-1250\", \"x\": 0.5, \"xanchor\": \"center\", \"xref\": \"paper\", \"y\": 1.0, \"yanchor\": \"bottom\", \"yref\": \"paper\"}, {\"font\": {\"size\": 16}, \"showarrow\": false, \"text\": \"Elo 1250-1500\", \"x\": 0.8555555555555556, \"xanchor\": \"center\", \"xref\": \"paper\", \"y\": 1.0, \"yanchor\": \"bottom\", \"yref\": \"paper\"}, {\"font\": {\"size\": 16}, \"showarrow\": false, \"text\": \"Elo 1500-1750\", \"x\": 0.14444444444444446, \"xanchor\": \"center\", \"xref\": \"paper\", \"y\": 0.375, \"yanchor\": \"bottom\", \"yref\": \"paper\"}, {\"font\": {\"size\": 16}, \"showarrow\": false, \"text\": \"Elo 1750-2000\", \"x\": 0.5, \"xanchor\": \"center\", \"xref\": \"paper\", \"y\": 0.375, \"yanchor\": \"bottom\", \"yref\": \"paper\"}, {\"font\": {\"size\": 16}, \"showarrow\": false, \"text\": \"Elo 2000+\", \"x\": 0.8555555555555556, \"xanchor\": \"center\", \"xref\": \"paper\", \"y\": 0.375, \"yanchor\": \"bottom\", \"yref\": \"paper\"}], \"template\": {\"data\": {\"bar\": [{\"error_x\": {\"color\": \"#2a3f5f\"}, \"error_y\": {\"color\": \"#2a3f5f\"}, \"marker\": {\"line\": {\"color\": \"#E5ECF6\", \"width\": 0.5}}, \"type\": \"bar\"}], \"barpolar\": [{\"marker\": {\"line\": {\"color\": \"#E5ECF6\", \"width\": 0.5}}, \"type\": \"barpolar\"}], \"carpet\": [{\"aaxis\": {\"endlinecolor\": \"#2a3f5f\", \"gridcolor\": \"white\", \"linecolor\": \"white\", \"minorgridcolor\": \"white\", \"startlinecolor\": \"#2a3f5f\"}, \"baxis\": {\"endlinecolor\": \"#2a3f5f\", \"gridcolor\": \"white\", \"linecolor\": \"white\", \"minorgridcolor\": \"white\", \"startlinecolor\": \"#2a3f5f\"}, \"type\": \"carpet\"}], \"choropleth\": [{\"colorbar\": {\"outlinewidth\": 0, \"ticks\": \"\"}, \"type\": \"choropleth\"}], \"contour\": [{\"colorbar\": {\"outlinewidth\": 0, \"ticks\": \"\"}, \"colorscale\": [[0.0, \"#0d0887\"], [0.1111111111111111, \"#46039f\"], [0.2222222222222222, \"#7201a8\"], [0.3333333333333333, \"#9c179e\"], [0.4444444444444444, \"#bd3786\"], [0.5555555555555556, \"#d8576b\"], [0.6666666666666666, \"#ed7953\"], [0.7777777777777778, \"#fb9f3a\"], [0.8888888888888888, \"#fdca26\"], [1.0, \"#f0f921\"]], \"type\": \"contour\"}], \"contourcarpet\": [{\"colorbar\": {\"outlinewidth\": 0, \"ticks\": \"\"}, \"type\": \"contourcarpet\"}], \"heatmap\": [{\"colorbar\": {\"outlinewidth\": 0, \"ticks\": \"\"}, \"colorscale\": [[0.0, \"#0d0887\"], [0.1111111111111111, \"#46039f\"], [0.2222222222222222, \"#7201a8\"], [0.3333333333333333, \"#9c179e\"], [0.4444444444444444, \"#bd3786\"], [0.5555555555555556, \"#d8576b\"], [0.6666666666666666, \"#ed7953\"], [0.7777777777777778, \"#fb9f3a\"], [0.8888888888888888, \"#fdca26\"], [1.0, \"#f0f921\"]], \"type\": \"heatmap\"}], \"heatmapgl\": [{\"colorbar\": {\"outlinewidth\": 0, \"ticks\": \"\"}, \"colorscale\": [[0.0, \"#0d0887\"], [0.1111111111111111, \"#46039f\"], [0.2222222222222222, \"#7201a8\"], [0.3333333333333333, \"#9c179e\"], [0.4444444444444444, \"#bd3786\"], [0.5555555555555556, \"#d8576b\"], [0.6666666666666666, \"#ed7953\"], [0.7777777777777778, \"#fb9f3a\"], [0.8888888888888888, \"#fdca26\"], [1.0, \"#f0f921\"]], \"type\": \"heatmapgl\"}], \"histogram\": [{\"marker\": {\"colorbar\": {\"outlinewidth\": 0, \"ticks\": \"\"}}, \"type\": \"histogram\"}], \"histogram2d\": [{\"colorbar\": {\"outlinewidth\": 0, \"ticks\": \"\"}, \"colorscale\": [[0.0, \"#0d0887\"], [0.1111111111111111, \"#46039f\"], [0.2222222222222222, \"#7201a8\"], [0.3333333333333333, \"#9c179e\"], [0.4444444444444444, \"#bd3786\"], [0.5555555555555556, \"#d8576b\"], [0.6666666666666666, \"#ed7953\"], [0.7777777777777778, \"#fb9f3a\"], [0.8888888888888888, \"#fdca26\"], [1.0, \"#f0f921\"]], \"type\": \"histogram2d\"}], \"histogram2dcontour\": [{\"colorbar\": {\"outlinewidth\": 0, \"ticks\": \"\"}, \"colorscale\": [[0.0, \"#0d0887\"], [0.1111111111111111, \"#46039f\"], [0.2222222222222222, \"#7201a8\"], [0.3333333333333333, \"#9c179e\"], [0.4444444444444444, \"#bd3786\"], [0.5555555555555556, \"#d8576b\"], [0.6666666666666666, \"#ed7953\"], [0.7777777777777778, \"#fb9f3a\"], [0.8888888888888888, \"#fdca26\"], [1.0, \"#f0f921\"]], \"type\": \"histogram2dcontour\"}], \"mesh3d\": [{\"colorbar\": {\"outlinewidth\": 0, \"ticks\": \"\"}, \"type\": \"mesh3d\"}], \"parcoords\": [{\"line\": {\"colorbar\": {\"outlinewidth\": 0, \"ticks\": \"\"}}, \"type\": \"parcoords\"}], \"pie\": [{\"automargin\": true, \"type\": \"pie\"}], \"scatter\": [{\"marker\": {\"colorbar\": {\"outlinewidth\": 0, \"ticks\": \"\"}}, \"type\": \"scatter\"}], \"scatter3d\": [{\"line\": {\"colorbar\": {\"outlinewidth\": 0, \"ticks\": \"\"}}, \"marker\": {\"colorbar\": {\"outlinewidth\": 0, \"ticks\": \"\"}}, \"type\": \"scatter3d\"}], \"scattercarpet\": [{\"marker\": {\"colorbar\": {\"outlinewidth\": 0, \"ticks\": \"\"}}, \"type\": \"scattercarpet\"}], \"scattergeo\": [{\"marker\": {\"colorbar\": {\"outlinewidth\": 0, \"ticks\": \"\"}}, \"type\": \"scattergeo\"}], \"scattergl\": [{\"marker\": {\"colorbar\": {\"outlinewidth\": 0, \"ticks\": \"\"}}, \"type\": \"scattergl\"}], \"scattermapbox\": [{\"marker\": {\"colorbar\": {\"outlinewidth\": 0, \"ticks\": \"\"}}, \"type\": \"scattermapbox\"}], \"scatterpolar\": [{\"marker\": {\"colorbar\": {\"outlinewidth\": 0, \"ticks\": \"\"}}, \"type\": \"scatterpolar\"}], \"scatterpolargl\": [{\"marker\": {\"colorbar\": {\"outlinewidth\": 0, \"ticks\": \"\"}}, \"type\": \"scatterpolargl\"}], \"scatterternary\": [{\"marker\": {\"colorbar\": {\"outlinewidth\": 0, \"ticks\": \"\"}}, \"type\": \"scatterternary\"}], \"surface\": [{\"colorbar\": {\"outlinewidth\": 0, \"ticks\": \"\"}, \"colorscale\": [[0.0, \"#0d0887\"], [0.1111111111111111, \"#46039f\"], [0.2222222222222222, \"#7201a8\"], [0.3333333333333333, \"#9c179e\"], [0.4444444444444444, \"#bd3786\"], [0.5555555555555556, \"#d8576b\"], [0.6666666666666666, \"#ed7953\"], [0.7777777777777778, \"#fb9f3a\"], [0.8888888888888888, \"#fdca26\"], [1.0, \"#f0f921\"]], \"type\": \"surface\"}], \"table\": [{\"cells\": {\"fill\": {\"color\": \"#EBF0F8\"}, \"line\": {\"color\": \"white\"}}, \"header\": {\"fill\": {\"color\": \"#C8D4E3\"}, \"line\": {\"color\": \"white\"}}, \"type\": \"table\"}]}, \"layout\": {\"annotationdefaults\": {\"arrowcolor\": \"#2a3f5f\", \"arrowhead\": 0, \"arrowwidth\": 1}, \"autotypenumbers\": \"strict\", \"coloraxis\": {\"colorbar\": {\"outlinewidth\": 0, \"ticks\": \"\"}}, \"colorscale\": {\"diverging\": [[0, \"#8e0152\"], [0.1, \"#c51b7d\"], [0.2, \"#de77ae\"], [0.3, \"#f1b6da\"], [0.4, \"#fde0ef\"], [0.5, \"#f7f7f7\"], [0.6, \"#e6f5d0\"], [0.7, \"#b8e186\"], [0.8, \"#7fbc41\"], [0.9, \"#4d9221\"], [1, \"#276419\"]], \"sequential\": [[0.0, \"#0d0887\"], [0.1111111111111111, \"#46039f\"], [0.2222222222222222, \"#7201a8\"], [0.3333333333333333, \"#9c179e\"], [0.4444444444444444, \"#bd3786\"], [0.5555555555555556, \"#d8576b\"], [0.6666666666666666, \"#ed7953\"], [0.7777777777777778, \"#fb9f3a\"], [0.8888888888888888, \"#fdca26\"], [1.0, \"#f0f921\"]], \"sequentialminus\": [[0.0, \"#0d0887\"], [0.1111111111111111, \"#46039f\"], [0.2222222222222222, \"#7201a8\"], [0.3333333333333333, \"#9c179e\"], [0.4444444444444444, \"#bd3786\"], [0.5555555555555556, \"#d8576b\"], [0.6666666666666666, \"#ed7953\"], [0.7777777777777778, \"#fb9f3a\"], [0.8888888888888888, \"#fdca26\"], [1.0, \"#f0f921\"]]}, \"colorway\": [\"#636efa\", \"#EF553B\", \"#00cc96\", \"#ab63fa\", \"#FFA15A\", \"#19d3f3\", \"#FF6692\", \"#B6E880\", \"#FF97FF\", \"#FECB52\"], \"font\": {\"color\": \"#2a3f5f\"}, \"geo\": {\"bgcolor\": \"white\", \"lakecolor\": \"white\", \"landcolor\": \"#E5ECF6\", \"showlakes\": true, \"showland\": true, \"subunitcolor\": \"white\"}, \"hoverlabel\": {\"align\": \"left\"}, \"hovermode\": \"closest\", \"mapbox\": {\"style\": \"light\"}, \"paper_bgcolor\": \"white\", \"plot_bgcolor\": \"#E5ECF6\", \"polar\": {\"angularaxis\": {\"gridcolor\": \"white\", \"linecolor\": \"white\", \"ticks\": \"\"}, \"bgcolor\": \"#E5ECF6\", \"radialaxis\": {\"gridcolor\": \"white\", \"linecolor\": \"white\", \"ticks\": \"\"}}, \"scene\": {\"xaxis\": {\"backgroundcolor\": \"#E5ECF6\", \"gridcolor\": \"white\", \"gridwidth\": 2, \"linecolor\": \"white\", \"showbackground\": true, \"ticks\": \"\", \"zerolinecolor\": \"white\"}, \"yaxis\": {\"backgroundcolor\": \"#E5ECF6\", \"gridcolor\": \"white\", \"gridwidth\": 2, \"linecolor\": \"white\", \"showbackground\": true, \"ticks\": \"\", \"zerolinecolor\": \"white\"}, \"zaxis\": {\"backgroundcolor\": \"#E5ECF6\", \"gridcolor\": \"white\", \"gridwidth\": 2, \"linecolor\": \"white\", \"showbackground\": true, \"ticks\": \"\", \"zerolinecolor\": \"white\"}}, \"shapedefaults\": {\"line\": {\"color\": \"#2a3f5f\"}}, \"ternary\": {\"aaxis\": {\"gridcolor\": \"white\", \"linecolor\": \"white\", \"ticks\": \"\"}, \"baxis\": {\"gridcolor\": \"white\", \"linecolor\": \"white\", \"ticks\": \"\"}, \"bgcolor\": \"#E5ECF6\", \"caxis\": {\"gridcolor\": \"white\", \"linecolor\": \"white\", \"ticks\": \"\"}}, \"title\": {\"x\": 0.05}, \"xaxis\": {\"automargin\": true, \"gridcolor\": \"white\", \"linecolor\": \"white\", \"ticks\": \"\", \"title\": {\"standoff\": 15}, \"zerolinecolor\": \"white\", \"zerolinewidth\": 2}, \"yaxis\": {\"automargin\": true, \"gridcolor\": \"white\", \"linecolor\": \"white\", \"ticks\": \"\", \"title\": {\"standoff\": 15}, \"zerolinecolor\": \"white\", \"zerolinewidth\": 2}}}, \"title\": {\"text\": \"Cumulative Sum of Capture Frequencies\"}, \"xaxis\": {\"anchor\": \"y\", \"domain\": [0.0, 0.2888888888888889]}, \"xaxis2\": {\"anchor\": \"y2\", \"domain\": [0.35555555555555557, 0.6444444444444445]}, \"xaxis3\": {\"anchor\": \"y3\", \"domain\": [0.7111111111111111, 1.0]}, \"xaxis4\": {\"anchor\": \"y4\", \"domain\": [0.0, 0.2888888888888889]}, \"xaxis5\": {\"anchor\": \"y5\", \"domain\": [0.35555555555555557, 0.6444444444444445]}, \"xaxis6\": {\"anchor\": \"y6\", \"domain\": [0.7111111111111111, 1.0]}, \"yaxis\": {\"anchor\": \"x\", \"domain\": [0.625, 1.0]}, \"yaxis2\": {\"anchor\": \"x2\", \"domain\": [0.625, 1.0]}, \"yaxis3\": {\"anchor\": \"x3\", \"domain\": [0.625, 1.0]}, \"yaxis4\": {\"anchor\": \"x4\", \"domain\": [0.0, 0.375]}, \"yaxis5\": {\"anchor\": \"x5\", \"domain\": [0.0, 0.375]}, \"yaxis6\": {\"anchor\": \"x6\", \"domain\": [0.0, 0.375]}},                        {\"responsive\": true}                    ).then(function(){\n",
       "                            \n",
       "var gd = document.getElementById('3eee26eb-fc62-4563-ad81-e41f6563eae4');\n",
       "var x = new MutationObserver(function (mutations, observer) {{\n",
       "        var display = window.getComputedStyle(gd).display;\n",
       "        if (!display || display === 'none') {{\n",
       "            console.log([gd, 'removed!']);\n",
       "            Plotly.purge(gd);\n",
       "            observer.disconnect();\n",
       "        }}\n",
       "}});\n",
       "\n",
       "// Listen for the removal of the full notebook cells\n",
       "var notebookContainer = gd.closest('#notebook-container');\n",
       "if (notebookContainer) {{\n",
       "    x.observe(notebookContainer, {childList: true});\n",
       "}}\n",
       "\n",
       "// Listen for the clearing of the current output cell\n",
       "var outputEl = gd.closest('.output');\n",
       "if (outputEl) {{\n",
       "    x.observe(outputEl, {childList: true});\n",
       "}}\n",
       "\n",
       "                        })                };                });            </script>        </div>"
      ]
     },
     "metadata": {},
     "output_type": "display_data"
    }
   ],
   "source": [
    "pieces = ([rooks[2]] + [knights[2]] + [bishops[2]] + [kings[1]] + \n",
    "                  [queens[1]] + [bishops[3]] + [knights[3]] + [rooks[3]]\n",
    "                 )\n",
    "\n",
    "color_list = ['black', 'blue', 'maroon', 'brown', 'blueviolet', 'red', 'navy', 'silver']\n",
    "\n",
    "\n",
    "new_fig = make_subplots(rows=2, cols=3, subplot_titles=('All Games', 'Elo 0-1250', 'Elo 1250-1500', 'Elo 1500-1750', 'Elo 1750-2000', 'Elo 2000+'))\n",
    "fig_index = 0\n",
    "\n",
    "for figure in b_death_list:\n",
    "    scatter_data = []\n",
    "    \n",
    "    data = []\n",
    "    for entry in figure.data[8:]:\n",
    "        data.append(entry['z'].reshape(64))\n",
    "\n",
    "    \n",
    "    for entry in data:\n",
    "        entry.sort()\n",
    "        scatter_data.append(entry[::-1].cumsum())\n",
    "    \n",
    "    index = 0\n",
    "    for entry in scatter_data:\n",
    "        new_fig.append_trace(go.Scatter(x=list(range(1,65)), y=entry, name=pieces[index], line_color=color_list[index]), row=(fig_index//3)+1, col=(fig_index%3)+1)\n",
    "        index+=1\n",
    "    fig_index += 1\n",
    "\n",
    "new_fig.update_layout(title_text='Cumulative Sum of Capture Frequencies')"
   ]
  },
  {
   "cell_type": "code",
   "execution_count": 17,
   "id": "38d3d5bd",
   "metadata": {},
   "outputs": [
    {
     "data": {
      "application/vnd.plotly.v1+json": {
       "config": {
        "plotlyServerURL": "https://plot.ly"
       },
       "data": [
        {
         "line": {
          "color": "black"
         },
         "name": "r3",
         "showlegend": true,
         "type": "scatter",
         "x": [
          1,
          2,
          3,
          4,
          5,
          6,
          7,
          8,
          9,
          10,
          11,
          12,
          13,
          14,
          15,
          16,
          17,
          18,
          19,
          20,
          21,
          22,
          23,
          24,
          25,
          26,
          27,
          28,
          29,
          30,
          31,
          32,
          33,
          34,
          35,
          36,
          37,
          38,
          39,
          40,
          41,
          42,
          43,
          44,
          45,
          46,
          47,
          48,
          49,
          50,
          51,
          52,
          53,
          54,
          55,
          56,
          57,
          58,
          59,
          60,
          61,
          62,
          63,
          64
         ],
         "xaxis": "x",
         "y": [
          0.09694534931506532,
          0.1742820197175568,
          0.24930491882573094,
          0.3006118938222677,
          0.3459370704245451,
          0.3865003444711569,
          0.42174203720288495,
          0.45617479027104113,
          0.4793440083099323,
          0.5004765145727283,
          0.5215075558949046,
          0.5413566928174405,
          0.5608875356111827,
          0.5796275078403674,
          0.5982868640893336,
          0.6157884080706789,
          0.6332482541312215,
          0.649480791389472,
          0.665356116459513,
          0.6805489855590835,
          0.6955324384341783,
          0.7099270240054931,
          0.7234227877283946,
          0.7367517597680855,
          0.7485147432265203,
          0.760172091952255,
          0.7715449681960692,
          0.7824860393044601,
          0.7933844858715862,
          0.803706574511173,
          0.8140143005335945,
          0.8237966327539021,
          0.8330897093701252,
          0.8423809327454236,
          0.8510114757311151,
          0.8594617910368929,
          0.8676049316594243,
          0.8755525553644143,
          0.8830146299471687,
          0.8903367848401186,
          0.8974550832313665,
          0.9044603339262159,
          0.9111204184988655,
          0.9177415850120992,
          0.9243219802249926,
          0.9305446999394452,
          0.9366446424426456,
          0.9425953990514185,
          0.948406235970387,
          0.9539085082754156,
          0.959232406141455,
          0.9644872707830544,
          0.9691254695070054,
          0.9732192787093659,
          0.9766426780072656,
          0.9799715620180125,
          0.9831373608273979,
          0.9862915768810048,
          0.9893874158454878,
          0.9923873495921248,
          0.9945542515431706,
          0.9965084940981226,
          0.9983283766860438,
          1
         ],
         "yaxis": "y"
        },
        {
         "line": {
          "color": "blue"
         },
         "name": "n3",
         "showlegend": true,
         "type": "scatter",
         "x": [
          1,
          2,
          3,
          4,
          5,
          6,
          7,
          8,
          9,
          10,
          11,
          12,
          13,
          14,
          15,
          16,
          17,
          18,
          19,
          20,
          21,
          22,
          23,
          24,
          25,
          26,
          27,
          28,
          29,
          30,
          31,
          32,
          33,
          34,
          35,
          36,
          37,
          38,
          39,
          40,
          41,
          42,
          43,
          44,
          45,
          46,
          47,
          48,
          49,
          50,
          51,
          52,
          53,
          54,
          55,
          56,
          57,
          58,
          59,
          60,
          61,
          62,
          63,
          64
         ],
         "xaxis": "x",
         "y": [
          0.20398354177663552,
          0.3430132900042072,
          0.46304850979871376,
          0.510069613776341,
          0.5470038065500337,
          0.5809636787499428,
          0.6135542642622871,
          0.6443844180308386,
          0.6680115881605246,
          0.6898080208729733,
          0.7115347058935126,
          0.7308704400353985,
          0.7482178069763317,
          0.7645440677077115,
          0.7805913376714539,
          0.795892307331766,
          0.8107463337823226,
          0.8243683370029921,
          0.837531958392433,
          0.8493714895986664,
          0.859951656479784,
          0.8705072721733494,
          0.880385498283091,
          0.8897958568755044,
          0.8991300509883529,
          0.9072244101298201,
          0.9148631773477354,
          0.9219202488151264,
          0.9277611995263855,
          0.9332450420550685,
          0.938070466372127,
          0.9428855680307829,
          0.9472283383198286,
          0.9507670572165429,
          0.9542801089626345,
          0.9577820010780206,
          0.961122078548177,
          0.9641848391953016,
          0.9669825586131706,
          0.9697328496005413,
          0.9724683540772272,
          0.9751087227021487,
          0.9776966410627542,
          0.9799436327053068,
          0.9820321575918413,
          0.983945755267067,
          0.9857703548874163,
          0.9874267230748802,
          0.9890766744746885,
          0.9904682804236644,
          0.9917639135485731,
          0.9929942628338545,
          0.9939534330929923,
          0.9947354442146803,
          0.9954786756196666,
          0.9962174431723708,
          0.9969425401774608,
          0.9976620573671979,
          0.9982457060530956,
          0.9987113416442827,
          0.9991722343924199,
          0.9996169456760341,
          0.9998351164563266,
          1.0000000000000004
         ],
         "yaxis": "y"
        },
        {
         "line": {
          "color": "maroon"
         },
         "name": "s3",
         "showlegend": true,
         "type": "scatter",
         "x": [
          1,
          2,
          3,
          4,
          5,
          6,
          7,
          8,
          9,
          10,
          11,
          12,
          13,
          14,
          15,
          16,
          17,
          18,
          19,
          20,
          21,
          22,
          23,
          24,
          25,
          26,
          27,
          28,
          29,
          30,
          31,
          32,
          33,
          34,
          35,
          36,
          37,
          38,
          39,
          40,
          41,
          42,
          43,
          44,
          45,
          46,
          47,
          48,
          49,
          50,
          51,
          52,
          53,
          54,
          55,
          56,
          57,
          58,
          59,
          60,
          61,
          62,
          63,
          64
         ],
         "xaxis": "x",
         "y": [
          0.13373260281974583,
          0.2199572750653262,
          0.3042625704983265,
          0.3796874327157169,
          0.4383749297123025,
          0.49636625865997475,
          0.5541940770484222,
          0.606287168228026,
          0.6508712554053656,
          0.6938211731196128,
          0.7352548736444068,
          0.7703915453807328,
          0.7981611927034347,
          0.8231770600926266,
          0.8475594800863483,
          0.8667616733745519,
          0.8840441778071234,
          0.8998488463456323,
          0.9148734072542518,
          0.928127435886074,
          0.9396942477359713,
          0.9502731312833765,
          0.9596019703646469,
          0.9680801800862858,
          0.9752234696316578,
          0.9817773098518854,
          0.9863880579875842,
          0.9907329454430167,
          0.9940037807136173,
          0.997026853800965,
          0.9987599409115275,
          0.9999999999999999,
          0.9999999999999999,
          0.9999999999999999,
          0.9999999999999999,
          0.9999999999999999,
          0.9999999999999999,
          0.9999999999999999,
          0.9999999999999999,
          0.9999999999999999,
          0.9999999999999999,
          0.9999999999999999,
          0.9999999999999999,
          0.9999999999999999,
          0.9999999999999999,
          0.9999999999999999,
          0.9999999999999999,
          0.9999999999999999,
          0.9999999999999999,
          0.9999999999999999,
          0.9999999999999999,
          0.9999999999999999,
          0.9999999999999999,
          0.9999999999999999,
          0.9999999999999999,
          0.9999999999999999,
          0.9999999999999999,
          0.9999999999999999,
          0.9999999999999999,
          0.9999999999999999,
          0.9999999999999999,
          0.9999999999999999,
          0.9999999999999999,
          0.9999999999999999
         ],
         "yaxis": "y"
        },
        {
         "line": {
          "color": "brown"
         },
         "name": "k2",
         "showlegend": true,
         "type": "scatter",
         "x": [
          1,
          2,
          3,
          4,
          5,
          6,
          7,
          8,
          9,
          10,
          11,
          12,
          13,
          14,
          15,
          16,
          17,
          18,
          19,
          20,
          21,
          22,
          23,
          24,
          25,
          26,
          27,
          28,
          29,
          30,
          31,
          32,
          33,
          34,
          35,
          36,
          37,
          38,
          39,
          40,
          41,
          42,
          43,
          44,
          45,
          46,
          47,
          48,
          49,
          50,
          51,
          52,
          53,
          54,
          55,
          56,
          57,
          58,
          59,
          60,
          61,
          62,
          63,
          64
         ],
         "xaxis": "x",
         "y": [
          0,
          0,
          0,
          0,
          0,
          0,
          0,
          0,
          0,
          0,
          0,
          0,
          0,
          0,
          0,
          0,
          0,
          0,
          0,
          0,
          0,
          0,
          0,
          0,
          0,
          0,
          0,
          0,
          0,
          0,
          0,
          0,
          0,
          0,
          0,
          0,
          0,
          0,
          0,
          0,
          0,
          0,
          0,
          0,
          0,
          0,
          0,
          0,
          0,
          0,
          0,
          0,
          0,
          0,
          0,
          0,
          0,
          0,
          0,
          0,
          0,
          0,
          0,
          0
         ],
         "yaxis": "y"
        },
        {
         "line": {
          "color": "blueviolet"
         },
         "name": "q2",
         "showlegend": true,
         "type": "scatter",
         "x": [
          1,
          2,
          3,
          4,
          5,
          6,
          7,
          8,
          9,
          10,
          11,
          12,
          13,
          14,
          15,
          16,
          17,
          18,
          19,
          20,
          21,
          22,
          23,
          24,
          25,
          26,
          27,
          28,
          29,
          30,
          31,
          32,
          33,
          34,
          35,
          36,
          37,
          38,
          39,
          40,
          41,
          42,
          43,
          44,
          45,
          46,
          47,
          48,
          49,
          50,
          51,
          52,
          53,
          54,
          55,
          56,
          57,
          58,
          59,
          60,
          61,
          62,
          63,
          64
         ],
         "xaxis": "x",
         "y": [
          0.08706516632652007,
          0.14100111275524851,
          0.1818748951177529,
          0.21814513524123777,
          0.2541286812951997,
          0.29008508697724683,
          0.3220789983597277,
          0.3529838545367808,
          0.3810603781533003,
          0.40902222414201067,
          0.4360089280355837,
          0.4611592608491726,
          0.48551067285569083,
          0.5094484808845774,
          0.531699381008391,
          0.552063069637225,
          0.5720613188921071,
          0.591419666983814,
          0.6106728939166959,
          0.629141725875363,
          0.6474568898127658,
          0.6656948374807772,
          0.6838395140115037,
          0.7019547566177592,
          0.7193502059801324,
          0.7351967428495632,
          0.7508104841345412,
          0.7648688145276676,
          0.7787440429750587,
          0.791545888826156,
          0.803665785050548,
          0.8152119108771347,
          0.8263880102246572,
          0.8366161078489572,
          0.8465571291449749,
          0.856213749924026,
          0.8658439948486809,
          0.8753805863772917,
          0.8847069355882522,
          0.8927630389418465,
          0.9008080567914193,
          0.9086952017733748,
          0.9163166769175723,
          0.9229484841337767,
          0.9295607961532536,
          0.9360656934613492,
          0.9425331294110271,
          0.9486595905473524,
          0.9547680855219876,
          0.9598291914959657,
          0.963441919030714,
          0.9669705496384022,
          0.9704605721113947,
          0.9739475365143122,
          0.9773924524536998,
          0.9807957021883166,
          0.9841794567262059,
          0.9873185656581023,
          0.9898701428768564,
          0.9923154521605073,
          0.9946502886627021,
          0.9968543926691944,
          0.998866602778486,
          1
         ],
         "yaxis": "y"
        },
        {
         "line": {
          "color": "red"
         },
         "name": "s4",
         "showlegend": true,
         "type": "scatter",
         "x": [
          1,
          2,
          3,
          4,
          5,
          6,
          7,
          8,
          9,
          10,
          11,
          12,
          13,
          14,
          15,
          16,
          17,
          18,
          19,
          20,
          21,
          22,
          23,
          24,
          25,
          26,
          27,
          28,
          29,
          30,
          31,
          32,
          33,
          34,
          35,
          36,
          37,
          38,
          39,
          40,
          41,
          42,
          43,
          44,
          45,
          46,
          47,
          48,
          49,
          50,
          51,
          52,
          53,
          54,
          55,
          56,
          57,
          58,
          59,
          60,
          61,
          62,
          63,
          64
         ],
         "xaxis": "x",
         "y": [
          0.17961756145775176,
          0.2716395875656647,
          0.3345165876110181,
          0.3971846492853714,
          0.45652908950725896,
          0.5144976017440724,
          0.5627032496485113,
          0.6061902684138669,
          0.6486935878127624,
          0.6846397455205708,
          0.7174321223978493,
          0.7484866825247136,
          0.778684532774079,
          0.8086324702114248,
          0.8362964735394253,
          0.8632248136210301,
          0.884860882389279,
          0.9056458713558941,
          0.9229614824615315,
          0.936937520233085,
          0.9501162767057173,
          0.9581300641359474,
          0.9653681522247399,
          0.9722793831313542,
          0.9786104034418529,
          0.9845000883609127,
          0.9882750542285778,
          0.9918542185689283,
          0.9950342730868296,
          0.9971699485317228,
          0.9991292149328376,
          0.9999999999999997,
          0.9999999999999997,
          0.9999999999999997,
          0.9999999999999997,
          0.9999999999999997,
          0.9999999999999997,
          0.9999999999999997,
          0.9999999999999997,
          0.9999999999999997,
          0.9999999999999997,
          0.9999999999999997,
          0.9999999999999997,
          0.9999999999999997,
          0.9999999999999997,
          0.9999999999999997,
          0.9999999999999997,
          0.9999999999999997,
          0.9999999999999997,
          0.9999999999999997,
          0.9999999999999997,
          0.9999999999999997,
          0.9999999999999997,
          0.9999999999999997,
          0.9999999999999997,
          0.9999999999999997,
          0.9999999999999997,
          0.9999999999999997,
          0.9999999999999997,
          0.9999999999999997,
          0.9999999999999997,
          0.9999999999999997,
          0.9999999999999997,
          0.9999999999999997
         ],
         "yaxis": "y"
        },
        {
         "line": {
          "color": "navy"
         },
         "name": "n4",
         "showlegend": true,
         "type": "scatter",
         "x": [
          1,
          2,
          3,
          4,
          5,
          6,
          7,
          8,
          9,
          10,
          11,
          12,
          13,
          14,
          15,
          16,
          17,
          18,
          19,
          20,
          21,
          22,
          23,
          24,
          25,
          26,
          27,
          28,
          29,
          30,
          31,
          32,
          33,
          34,
          35,
          36,
          37,
          38,
          39,
          40,
          41,
          42,
          43,
          44,
          45,
          46,
          47,
          48,
          49,
          50,
          51,
          52,
          53,
          54,
          55,
          56,
          57,
          58,
          59,
          60,
          61,
          62,
          63,
          64
         ],
         "xaxis": "x",
         "y": [
          0.19012620417689546,
          0.33490921342748003,
          0.46123926825655887,
          0.5144636921556971,
          0.5510471109715033,
          0.5873969627040427,
          0.6237185207726017,
          0.6512843446826533,
          0.6773168252314811,
          0.698787962951468,
          0.7180989660398079,
          0.7368518910416774,
          0.7544228337952226,
          0.7706749453542525,
          0.7861663038052379,
          0.8008466734590707,
          0.8124727709573045,
          0.8226007478188616,
          0.832398439460076,
          0.8421594648224586,
          0.8516326454604692,
          0.8610708920847897,
          0.8702842329515517,
          0.878929679562707,
          0.8871827681192768,
          0.895252236570831,
          0.9024292997635747,
          0.9094761543598371,
          0.915498662835666,
          0.9212451637322576,
          0.9266414583593774,
          0.9319745253088267,
          0.9368961792871324,
          0.9417488313706288,
          0.9464816684484938,
          0.9511720650303882,
          0.9555399715850774,
          0.9589883340604035,
          0.962267511973561,
          0.9654150377359525,
          0.9685449521360705,
          0.9713382296769931,
          0.9739253676660585,
          0.9763678615157955,
          0.9788037150158228,
          0.9807972634830135,
          0.9827125713079727,
          0.9845577223946949,
          0.9863621652505881,
          0.9879850089774641,
          0.9893999808873413,
          0.9907589428909716,
          0.9918932878479002,
          0.9930033810928457,
          0.9941039468795121,
          0.9950592911051361,
          0.995990383618777,
          0.9967857820296547,
          0.9975566400176923,
          0.998326920584016,
          0.9990723720166426,
          0.999596093511137,
          0.9998339912572579,
          1
         ],
         "yaxis": "y"
        },
        {
         "line": {
          "color": "silver"
         },
         "name": "r4",
         "showlegend": true,
         "type": "scatter",
         "x": [
          1,
          2,
          3,
          4,
          5,
          6,
          7,
          8,
          9,
          10,
          11,
          12,
          13,
          14,
          15,
          16,
          17,
          18,
          19,
          20,
          21,
          22,
          23,
          24,
          25,
          26,
          27,
          28,
          29,
          30,
          31,
          32,
          33,
          34,
          35,
          36,
          37,
          38,
          39,
          40,
          41,
          42,
          43,
          44,
          45,
          46,
          47,
          48,
          49,
          50,
          51,
          52,
          53,
          54,
          55,
          56,
          57,
          58,
          59,
          60,
          61,
          62,
          63,
          64
         ],
         "xaxis": "x",
         "y": [
          0.11959373511207225,
          0.201868078461596,
          0.2569058416753658,
          0.3049905532054398,
          0.35269422964290065,
          0.38380298904056803,
          0.41373796863721723,
          0.44235346444774837,
          0.4684857617490613,
          0.49150363636886496,
          0.5127236963567293,
          0.5318190663250291,
          0.5506340519798966,
          0.5676910040250724,
          0.584052986404476,
          0.6001580696522562,
          0.6161653778574036,
          0.6315390654431364,
          0.6466419545039305,
          0.6615895537911313,
          0.6764647803752067,
          0.6912944744639385,
          0.7059521036492136,
          0.7192202727923687,
          0.7316621469673917,
          0.7436146666398262,
          0.7552460623977314,
          0.7665419555583671,
          0.7777463044388908,
          0.7889084758500435,
          0.8000514756842094,
          0.810994132538863,
          0.8206810511008796,
          0.8303607803215263,
          0.8399259593696766,
          0.8493919255069202,
          0.8586537143492541,
          0.8674386102140408,
          0.8749941287045475,
          0.8824327005754347,
          0.8898631245261024,
          0.8971171699684913,
          0.9038976774593057,
          0.9105430253323631,
          0.9170661544021295,
          0.9233352600768204,
          0.9295890284899219,
          0.9357325603353491,
          0.9418564413143649,
          0.9477162338203872,
          0.9535146772800516,
          0.958734139114714,
          0.9639071098751834,
          0.9690134594056236,
          0.9734363422164835,
          0.977779662982848,
          0.9819446880832352,
          0.9853994062562607,
          0.9886997932345422,
          0.9916555711164855,
          0.9939470538558355,
          0.9961513059198954,
          0.9980981795629073,
          1
         ],
         "yaxis": "y"
        },
        {
         "line": {
          "color": "black"
         },
         "name": "r3",
         "showlegend": false,
         "type": "scatter",
         "x": [
          1,
          2,
          3,
          4,
          5,
          6,
          7,
          8,
          9,
          10,
          11,
          12,
          13,
          14,
          15,
          16,
          17,
          18,
          19,
          20,
          21,
          22,
          23,
          24,
          25,
          26,
          27,
          28,
          29,
          30,
          31,
          32,
          33,
          34,
          35,
          36,
          37,
          38,
          39,
          40,
          41,
          42,
          43,
          44,
          45,
          46,
          47,
          48,
          49,
          50,
          51,
          52,
          53,
          54,
          55,
          56,
          57,
          58,
          59,
          60,
          61,
          62,
          63,
          64
         ],
         "xaxis": "x2",
         "y": [
          0.23252893328438665,
          0.3125181134918948,
          0.3876577081360975,
          0.4286569932569507,
          0.46954035202967714,
          0.505979867457542,
          0.5417624669126881,
          0.5665320632957861,
          0.5878045481770582,
          0.6065846165736036,
          0.6224278841509362,
          0.6376335568135711,
          0.6520857082133817,
          0.6664412543230868,
          0.6802558108081999,
          0.694070367293313,
          0.7069768340514326,
          0.71984465869351,
          0.7323840253492281,
          0.7440732654520161,
          0.7553567633363603,
          0.7660026663060069,
          0.7762621481152308,
          0.7860386034739262,
          0.7956991324844948,
          0.8052630562049576,
          0.8148076588673995,
          0.8237919508472283,
          0.8325637111888247,
          0.8411809030662518,
          0.8497208107115944,
          0.858106149892768,
          0.8657766099271595,
          0.8734470699615511,
          0.8809629615317734,
          0.8884788531019958,
          0.895956102556176,
          0.9033947098943138,
          0.9106787487682826,
          0.9178275402361034,
          0.9248024421817339,
          0.9310817860386035,
          0.9369940297930714,
          0.9427710261413915,
          0.9477558591108449,
          0.9522963077458122,
          0.9564889773363989,
          0.9604111521146897,
          0.9640821531387058,
          0.9676565488726162,
          0.9710570550843364,
          0.9741097822516761,
          0.9771238673029735,
          0.9799254207160384,
          0.9824564793168074,
          0.9849682168595552,
          0.9873640280541762,
          0.989721197132755,
          0.9918658345731012,
          0.9939331877813629,
          0.9956334408872229,
          0.9973143729350619,
          0.9988020944026894,
          0.9999999999999999
         ],
         "yaxis": "y2"
        },
        {
         "line": {
          "color": "blue"
         },
         "name": "n3",
         "showlegend": false,
         "type": "scatter",
         "x": [
          1,
          2,
          3,
          4,
          5,
          6,
          7,
          8,
          9,
          10,
          11,
          12,
          13,
          14,
          15,
          16,
          17,
          18,
          19,
          20,
          21,
          22,
          23,
          24,
          25,
          26,
          27,
          28,
          29,
          30,
          31,
          32,
          33,
          34,
          35,
          36,
          37,
          38,
          39,
          40,
          41,
          42,
          43,
          44,
          45,
          46,
          47,
          48,
          49,
          50,
          51,
          52,
          53,
          54,
          55,
          56,
          57,
          58,
          59,
          60,
          61,
          62,
          63,
          64
         ],
         "xaxis": "x2",
         "y": [
          0.19366634390841259,
          0.320419206014695,
          0.43337700062653073,
          0.4873269920829299,
          0.5276527880617418,
          0.5679330181693911,
          0.5994873839494219,
          0.6294241613031839,
          0.6591672837045053,
          0.6855157487042205,
          0.7093125249188358,
          0.7291678532778949,
          0.7463347952383665,
          0.7634675627954662,
          0.7804978071424503,
          0.7956484593039813,
          0.8106510223842343,
          0.8228398929202028,
          0.8342655351141994,
          0.845543088226918,
          0.8551347041066242,
          0.8646237967762147,
          0.8738053198154583,
          0.882679273224355,
          0.8908583470980237,
          0.8980121888705361,
          0.9051660306430486,
          0.9121148259953297,
          0.9188357919917983,
          0.9253061456968732,
          0.9308879649142794,
          0.9364014353249418,
          0.9407871504243324,
          0.9445349433274479,
          0.9482599532949822,
          0.951882440052401,
          0.9554593609386571,
          0.9590362818249133,
          0.9625334624366351,
          0.9656205502078944,
          0.9686051147690381,
          0.9714074158455318,
          0.9741299766474911,
          0.9768183630460786,
          0.9791422224753661,
          0.9813521672267473,
          0.9832887167511536,
          0.9851455260010255,
          0.9867745058950848,
          0.9882895711112378,
          0.9897704619240191,
          0.9912057868656378,
          0.9924816312581878,
          0.9934954718915534,
          0.994509312524919,
          0.9954889787549127,
          0.9964116876459533,
          0.9971635245201346,
          0.9978925784587346,
          0.9985532835905908,
          0.9991342484479127,
          0.9996240815629095,
          0.9998177365153501,
          1
         ],
         "yaxis": "y2"
        },
        {
         "line": {
          "color": "maroon"
         },
         "name": "s3",
         "showlegend": false,
         "type": "scatter",
         "x": [
          1,
          2,
          3,
          4,
          5,
          6,
          7,
          8,
          9,
          10,
          11,
          12,
          13,
          14,
          15,
          16,
          17,
          18,
          19,
          20,
          21,
          22,
          23,
          24,
          25,
          26,
          27,
          28,
          29,
          30,
          31,
          32,
          33,
          34,
          35,
          36,
          37,
          38,
          39,
          40,
          41,
          42,
          43,
          44,
          45,
          46,
          47,
          48,
          49,
          50,
          51,
          52,
          53,
          54,
          55,
          56,
          57,
          58,
          59,
          60,
          61,
          62,
          63,
          64
         ],
         "xaxis": "x2",
         "y": [
          0.13140410828389587,
          0.20631613714605113,
          0.28117735235457764,
          0.3513128977756323,
          0.4146648204372515,
          0.47405327811582976,
          0.5253623648674399,
          0.574651608887308,
          0.6194565479744407,
          0.663397654949885,
          0.7008219108474447,
          0.7363152479071127,
          0.7660539386933269,
          0.793899820881871,
          0.8214789313888643,
          0.847838514208768,
          0.872889645447732,
          0.8873334264916984,
          0.9015231392675213,
          0.915700148629937,
          0.9277556879533532,
          0.939506345354997,
          0.9502026194438447,
          0.9608226730522492,
          0.9705026740685223,
          0.9787980030234125,
          0.9859373213582491,
          0.9913743822965232,
          0.9957951701622227,
          0.9974212070783421,
          0.9987550654860963,
          1.0000000000000002,
          1.0000000000000002,
          1.0000000000000002,
          1.0000000000000002,
          1.0000000000000002,
          1.0000000000000002,
          1.0000000000000002,
          1.0000000000000002,
          1.0000000000000002,
          1.0000000000000002,
          1.0000000000000002,
          1.0000000000000002,
          1.0000000000000002,
          1.0000000000000002,
          1.0000000000000002,
          1.0000000000000002,
          1.0000000000000002,
          1.0000000000000002,
          1.0000000000000002,
          1.0000000000000002,
          1.0000000000000002,
          1.0000000000000002,
          1.0000000000000002,
          1.0000000000000002,
          1.0000000000000002,
          1.0000000000000002,
          1.0000000000000002,
          1.0000000000000002,
          1.0000000000000002,
          1.0000000000000002,
          1.0000000000000002,
          1.0000000000000002,
          1.0000000000000002
         ],
         "yaxis": "y2"
        },
        {
         "line": {
          "color": "brown"
         },
         "name": "k2",
         "showlegend": false,
         "type": "scatter",
         "x": [
          1,
          2,
          3,
          4,
          5,
          6,
          7,
          8,
          9,
          10,
          11,
          12,
          13,
          14,
          15,
          16,
          17,
          18,
          19,
          20,
          21,
          22,
          23,
          24,
          25,
          26,
          27,
          28,
          29,
          30,
          31,
          32,
          33,
          34,
          35,
          36,
          37,
          38,
          39,
          40,
          41,
          42,
          43,
          44,
          45,
          46,
          47,
          48,
          49,
          50,
          51,
          52,
          53,
          54,
          55,
          56,
          57,
          58,
          59,
          60,
          61,
          62,
          63,
          64
         ],
         "xaxis": "x2",
         "y": [
          0,
          0,
          0,
          0,
          0,
          0,
          0,
          0,
          0,
          0,
          0,
          0,
          0,
          0,
          0,
          0,
          0,
          0,
          0,
          0,
          0,
          0,
          0,
          0,
          0,
          0,
          0,
          0,
          0,
          0,
          0,
          0,
          0,
          0,
          0,
          0,
          0,
          0,
          0,
          0,
          0,
          0,
          0,
          0,
          0,
          0,
          0,
          0,
          0,
          0,
          0,
          0,
          0,
          0,
          0,
          0,
          0,
          0,
          0,
          0,
          0,
          0,
          0,
          0
         ],
         "yaxis": "y2"
        },
        {
         "line": {
          "color": "blueviolet"
         },
         "name": "q2",
         "showlegend": false,
         "type": "scatter",
         "x": [
          1,
          2,
          3,
          4,
          5,
          6,
          7,
          8,
          9,
          10,
          11,
          12,
          13,
          14,
          15,
          16,
          17,
          18,
          19,
          20,
          21,
          22,
          23,
          24,
          25,
          26,
          27,
          28,
          29,
          30,
          31,
          32,
          33,
          34,
          35,
          36,
          37,
          38,
          39,
          40,
          41,
          42,
          43,
          44,
          45,
          46,
          47,
          48,
          49,
          50,
          51,
          52,
          53,
          54,
          55,
          56,
          57,
          58,
          59,
          60,
          61,
          62,
          63,
          64
         ],
         "xaxis": "x2",
         "y": [
          0.11657813810455689,
          0.17536012241955182,
          0.22772685137501286,
          0.26736606683048125,
          0.30360637405647184,
          0.33834586466165406,
          0.3723496608448714,
          0.40499977929167336,
          0.4325883201153568,
          0.4601180053852831,
          0.48725041566734834,
          0.5140444065153097,
          0.5403528390447743,
          0.5642187660933153,
          0.584111943263246,
          0.6007239233112133,
          0.6169533422597588,
          0.6327119167782469,
          0.648279210747024,
          0.6637435074967261,
          0.67895766814296,
          0.6939952621279224,
          0.7082088783602841,
          0.721686800170681,
          0.734679163662581,
          0.7473919632741344,
          0.7598840545590982,
          0.7719053014140046,
          0.7838235510498358,
          0.795388667363124,
          0.8066742197960655,
          0.817665494460221,
          0.8276709385989435,
          0.8375439577417123,
          0.8471079852272559,
          0.8560540293983491,
          0.8645439430278239,
          0.8727101511116342,
          0.880655650868855,
          0.888409870076365,
          0.8957079587422567,
          0.902932477965952,
          0.9098627194208613,
          0.9162044053381987,
          0.9225019495902181,
          0.9286229271809661,
          0.9347144769948353,
          0.9407618851433868,
          0.946603298853788,
          0.9516943042537851,
          0.9567117402115857,
          0.9613024734046466,
          0.9658343510439503,
          0.9702190897988611,
          0.9744419757809395,
          0.978664861763018,
          0.9826817533069463,
          0.9864485087474065,
          0.9897885614231271,
          0.9926136280034723,
          0.9952327001456673,
          0.9970277945352617,
          0.9986021805982666,
          0.9999999999999999
         ],
         "yaxis": "y2"
        },
        {
         "line": {
          "color": "red"
         },
         "name": "s4",
         "showlegend": false,
         "type": "scatter",
         "x": [
          1,
          2,
          3,
          4,
          5,
          6,
          7,
          8,
          9,
          10,
          11,
          12,
          13,
          14,
          15,
          16,
          17,
          18,
          19,
          20,
          21,
          22,
          23,
          24,
          25,
          26,
          27,
          28,
          29,
          30,
          31,
          32,
          33,
          34,
          35,
          36,
          37,
          38,
          39,
          40,
          41,
          42,
          43,
          44,
          45,
          46,
          47,
          48,
          49,
          50,
          51,
          52,
          53,
          54,
          55,
          56,
          57,
          58,
          59,
          60,
          61,
          62,
          63,
          64
         ],
         "xaxis": "x2",
         "y": [
          0.15252272902876865,
          0.250225358642182,
          0.3333505035155948,
          0.4050403070028588,
          0.4633760012362531,
          0.5072758647333041,
          0.5508666649496484,
          0.5942771782522471,
          0.6373142400906585,
          0.6802869137455894,
          0.7152239421021453,
          0.748306590774461,
          0.7813248512632961,
          0.8084193988719189,
          0.8331702166018491,
          0.8571612537667086,
          0.881139413294872,
          0.902580678393901,
          0.9169134880366754,
          0.9279367450485486,
          0.9389084915136373,
          0.949197723233832,
          0.9586885414788677,
          0.9678445411698045,
          0.976755865763515,
          0.982872743194169,
          0.9882040847863599,
          0.992518093079558,
          0.996265485358127,
          0.9979009452185333,
          0.9991500759780564,
          0.9999999999999999,
          0.9999999999999999,
          0.9999999999999999,
          0.9999999999999999,
          0.9999999999999999,
          0.9999999999999999,
          0.9999999999999999,
          0.9999999999999999,
          0.9999999999999999,
          0.9999999999999999,
          0.9999999999999999,
          0.9999999999999999,
          0.9999999999999999,
          0.9999999999999999,
          0.9999999999999999,
          0.9999999999999999,
          0.9999999999999999,
          0.9999999999999999,
          0.9999999999999999,
          0.9999999999999999,
          0.9999999999999999,
          0.9999999999999999,
          0.9999999999999999,
          0.9999999999999999,
          0.9999999999999999,
          0.9999999999999999,
          0.9999999999999999,
          0.9999999999999999,
          0.9999999999999999,
          0.9999999999999999,
          0.9999999999999999,
          0.9999999999999999,
          0.9999999999999999
         ],
         "yaxis": "y2"
        },
        {
         "line": {
          "color": "navy"
         },
         "name": "n4",
         "showlegend": false,
         "type": "scatter",
         "x": [
          1,
          2,
          3,
          4,
          5,
          6,
          7,
          8,
          9,
          10,
          11,
          12,
          13,
          14,
          15,
          16,
          17,
          18,
          19,
          20,
          21,
          22,
          23,
          24,
          25,
          26,
          27,
          28,
          29,
          30,
          31,
          32,
          33,
          34,
          35,
          36,
          37,
          38,
          39,
          40,
          41,
          42,
          43,
          44,
          45,
          46,
          47,
          48,
          49,
          50,
          51,
          52,
          53,
          54,
          55,
          56,
          57,
          58,
          59,
          60,
          61,
          62,
          63,
          64
         ],
         "xaxis": "x2",
         "y": [
          0.2080054861762795,
          0.3489857792535913,
          0.4530907865925552,
          0.504656031184581,
          0.5400394619697299,
          0.5751221155465724,
          0.6066796602420657,
          0.6350008421761835,
          0.6590750499290168,
          0.6819220866719605,
          0.7016169782718547,
          0.7209268750451168,
          0.7395750619601051,
          0.7559373420919658,
          0.7721913424288364,
          0.7884212805890424,
          0.8030510840010591,
          0.8154791982482739,
          0.8274982554921921,
          0.8391804422628074,
          0.8487571885752788,
          0.8579609711494505,
          0.8671527226352899,
          0.8758872927645037,
          0.8843932722154049,
          0.8924420703096805,
          0.9004788373156238,
          0.9079742053466159,
          0.9148078635193342,
          0.9209076253037852,
          0.9263577083182947,
          0.9306889001179048,
          0.9349599364758537,
          0.9391948795688059,
          0.9433335739551001,
          0.9473399263697395,
          0.9513342476960467,
          0.9551721648740346,
          0.958937895522029,
          0.9622584759017302,
          0.9655549941047669,
          0.9687191703361487,
          0.9718472533025339,
          0.9748670564739287,
          0.9777785798503333,
          0.9801487042517867,
          0.9822541447099306,
          0.9840708390481003,
          0.9857311292379509,
          0.987367357251137,
          0.9889674919993263,
          0.9903510671575352,
          0.991734642315744,
          0.9930580620322916,
          0.9942611708655167,
          0.9952838133737579,
          0.9962342693520058,
          0.996968165740273,
          0.9976539377752113,
          0.9982915854568205,
          0.9989172020500975,
          0.9994586010250488,
          0.9997954714983518,
          1
         ],
         "yaxis": "y2"
        },
        {
         "line": {
          "color": "silver"
         },
         "name": "r4",
         "showlegend": false,
         "type": "scatter",
         "x": [
          1,
          2,
          3,
          4,
          5,
          6,
          7,
          8,
          9,
          10,
          11,
          12,
          13,
          14,
          15,
          16,
          17,
          18,
          19,
          20,
          21,
          22,
          23,
          24,
          25,
          26,
          27,
          28,
          29,
          30,
          31,
          32,
          33,
          34,
          35,
          36,
          37,
          38,
          39,
          40,
          41,
          42,
          43,
          44,
          45,
          46,
          47,
          48,
          49,
          50,
          51,
          52,
          53,
          54,
          55,
          56,
          57,
          58,
          59,
          60,
          61,
          62,
          63,
          64
         ],
         "xaxis": "x2",
         "y": [
          0.2653143525426463,
          0.3515546235431706,
          0.39978626446747595,
          0.44600153244344076,
          0.480743638343348,
          0.5134290438359479,
          0.5368996249546316,
          0.5564987700125015,
          0.5755938218332862,
          0.5938016695568011,
          0.6098519982255917,
          0.6239262814050085,
          0.6373553252409564,
          0.6503407670282694,
          0.6632858813566156,
          0.6758680485542604,
          0.688389724563455,
          0.7007702544662658,
          0.7127475097794086,
          0.7239182159132151,
          0.7347461386458037,
          0.7451304593297574,
          0.7553736339073273,
          0.7651933701657456,
          0.7748517965882967,
          0.7844295680929142,
          0.7939670121385649,
          0.8033633100778318,
          0.8123966608863974,
          0.8213695205065127,
          0.830140742831794,
          0.8387909827801748,
          0.8474008952695888,
          0.8554260596039841,
          0.8633504052909624,
          0.8711940960600071,
          0.8789168044521513,
          0.8864782030084283,
          0.8934346896802031,
          0.900391176351978,
          0.9072468443763357,
          0.9140016937532764,
          0.9207162156712504,
          0.9269266443521392,
          0.9328144533612935,
          0.9386820986409644,
          0.9445094164616685,
          0.9494495301851028,
          0.953986369318869,
          0.9583014074283178,
          0.9624349719724159,
          0.9663064080332298,
          0.9701576803645602,
          0.9739887889664072,
          0.9776585877323869,
          0.981146912933016,
          0.9842117998144936,
          0.9871355405895873,
          0.9898979715288139,
          0.9924789289026897,
          0.9945356293099971,
          0.9964310198814371,
          0.9982860829939104,
          0.9999999999999999
         ],
         "yaxis": "y2"
        },
        {
         "line": {
          "color": "black"
         },
         "name": "r3",
         "showlegend": false,
         "type": "scatter",
         "x": [
          1,
          2,
          3,
          4,
          5,
          6,
          7,
          8,
          9,
          10,
          11,
          12,
          13,
          14,
          15,
          16,
          17,
          18,
          19,
          20,
          21,
          22,
          23,
          24,
          25,
          26,
          27,
          28,
          29,
          30,
          31,
          32,
          33,
          34,
          35,
          36,
          37,
          38,
          39,
          40,
          41,
          42,
          43,
          44,
          45,
          46,
          47,
          48,
          49,
          50,
          51,
          52,
          53,
          54,
          55,
          56,
          57,
          58,
          59,
          60,
          61,
          62,
          63,
          64
         ],
         "xaxis": "x3",
         "y": [
          0.13881145128283398,
          0.23100978984385465,
          0.3164739119194386,
          0.3645291810856354,
          0.4118742738602136,
          0.4502082249639461,
          0.4815151675611359,
          0.5126289920167452,
          0.5406778446769476,
          0.5596594891090713,
          0.5780991568212754,
          0.596105866119291,
          0.6124773008313424,
          0.6281447887692456,
          0.6438029322809433,
          0.659423698087819,
          0.6747174089775018,
          0.6899176756051295,
          0.7043579289013758,
          0.7161973169037555,
          0.7279868679663726,
          0.7395116602865002,
          0.7509274343008968,
          0.7615894246013825,
          0.7721112485087854,
          0.7821783103408536,
          0.7916224104258879,
          0.8008048665771679,
          0.809859615570306,
          0.8187991166402427,
          0.8275641884210101,
          0.8363105713493664,
          0.8449697396331379,
          0.8535510376985302,
          0.862010858223251,
          0.8704675639392365,
          0.8788027921145504,
          0.8867642432416439,
          0.8946384797241528,
          0.9016779474656361,
          0.9083280641152233,
          0.9149034253551663,
          0.9210271393285098,
          0.927001342482565,
          0.9328976754182411,
          0.9385728569337202,
          0.9441421349522034,
          0.9494373098019918,
          0.9541811635056552,
          0.9586882917454456,
          0.9630334499310071,
          0.9672135232536048,
          0.9711070341725668,
          0.9744243054755225,
          0.9776263288552769,
          0.9807660560603279,
          0.9837656168722962,
          0.986718455553237,
          0.9895685055459172,
          0.9921506819873729,
          0.9944213775553116,
          0.9964522328506421,
          0.9983024292393329,
          1.0000000000000002
         ],
         "yaxis": "y3"
        },
        {
         "line": {
          "color": "blue"
         },
         "name": "n3",
         "showlegend": false,
         "type": "scatter",
         "x": [
          1,
          2,
          3,
          4,
          5,
          6,
          7,
          8,
          9,
          10,
          11,
          12,
          13,
          14,
          15,
          16,
          17,
          18,
          19,
          20,
          21,
          22,
          23,
          24,
          25,
          26,
          27,
          28,
          29,
          30,
          31,
          32,
          33,
          34,
          35,
          36,
          37,
          38,
          39,
          40,
          41,
          42,
          43,
          44,
          45,
          46,
          47,
          48,
          49,
          50,
          51,
          52,
          53,
          54,
          55,
          56,
          57,
          58,
          59,
          60,
          61,
          62,
          63,
          64
         ],
         "xaxis": "x3",
         "y": [
          0.21518355412127588,
          0.34443988803109454,
          0.4708381621409596,
          0.5121739440512062,
          0.5533653074687539,
          0.5845632677804126,
          0.6151799882325673,
          0.6443650043682136,
          0.6718847504769376,
          0.6967746536630592,
          0.7165082817765258,
          0.7352951664378555,
          0.7536452297323801,
          0.7712732005634105,
          0.787221637812684,
          0.8023338741597875,
          0.8161552587943731,
          0.8292081944122525,
          0.8419009752705618,
          0.8533385633034394,
          0.8643143687485514,
          0.873072191416906,
          0.8817159056465849,
          0.8902419455488795,
          0.8982063579795675,
          0.9061475921336496,
          0.9133275090484427,
          0.9202203719221924,
          0.9270811417975646,
          0.9319450139961133,
          0.9367357854761355,
          0.9410772549788723,
          0.9451352363292743,
          0.9490666286305206,
          0.9526200367286538,
          0.955975538003459,
          0.9592632873928005,
          0.9625118120063474,
          0.9657425071763511,
          0.9687913420222156,
          0.971670797154421,
          0.9743362989641094,
          0.9769126535560826,
          0.9794693957601583,
          0.9816945103143331,
          0.9834186175049476,
          0.9850999340310589,
          0.9867580722805641,
          0.9883181485905824,
          0.9898586125127035,
          0.9912867509405031,
          0.9923743469966302,
          0.9933817105568135,
          0.9943587640629735,
          0.9953215540142991,
          0.9961185301406742,
          0.9969012427122148,
          0.9976340328418348,
          0.9981439549271666,
          0.9986485281794354,
          0.9991477525986413,
          0.999616666963824,
          0.9998324032306951,
          0.9999999999999999
         ],
         "yaxis": "y3"
        },
        {
         "line": {
          "color": "maroon"
         },
         "name": "s3",
         "showlegend": false,
         "type": "scatter",
         "x": [
          1,
          2,
          3,
          4,
          5,
          6,
          7,
          8,
          9,
          10,
          11,
          12,
          13,
          14,
          15,
          16,
          17,
          18,
          19,
          20,
          21,
          22,
          23,
          24,
          25,
          26,
          27,
          28,
          29,
          30,
          31,
          32,
          33,
          34,
          35,
          36,
          37,
          38,
          39,
          40,
          41,
          42,
          43,
          44,
          45,
          46,
          47,
          48,
          49,
          50,
          51,
          52,
          53,
          54,
          55,
          56,
          57,
          58,
          59,
          60,
          61,
          62,
          63,
          64
         ],
         "xaxis": "x3",
         "y": [
          0.14853811980200163,
          0.2315153326817296,
          0.3078375343419425,
          0.37227157322970605,
          0.4348569978898265,
          0.4904491542589908,
          0.5442890603336552,
          0.5928623824704172,
          0.6357148335558881,
          0.6755839359356839,
          0.7149338530430353,
          0.7474930627801191,
          0.7787326766164065,
          0.8096733655988624,
          0.8360043186774934,
          0.8573951452243803,
          0.8765047031499205,
          0.8951698070164741,
          0.9108043635162214,
          0.9234732708082178,
          0.9352709694801655,
          0.9468897065619903,
          0.957039385316103,
          0.9658517686714951,
          0.9732816245779159,
          0.9796593436632846,
          0.9857263382295387,
          0.9905111025017255,
          0.9951110053511479,
          0.9976204008346294,
          0.998886898241653,
          0.9999999999999998,
          0.9999999999999998,
          0.9999999999999998,
          0.9999999999999998,
          0.9999999999999998,
          0.9999999999999998,
          0.9999999999999998,
          0.9999999999999998,
          0.9999999999999998,
          0.9999999999999998,
          0.9999999999999998,
          0.9999999999999998,
          0.9999999999999998,
          0.9999999999999998,
          0.9999999999999998,
          0.9999999999999998,
          0.9999999999999998,
          0.9999999999999998,
          0.9999999999999998,
          0.9999999999999998,
          0.9999999999999998,
          0.9999999999999998,
          0.9999999999999998,
          0.9999999999999998,
          0.9999999999999998,
          0.9999999999999998,
          0.9999999999999998,
          0.9999999999999998,
          0.9999999999999998,
          0.9999999999999998,
          0.9999999999999998,
          0.9999999999999998,
          0.9999999999999998
         ],
         "yaxis": "y3"
        },
        {
         "line": {
          "color": "brown"
         },
         "name": "k2",
         "showlegend": false,
         "type": "scatter",
         "x": [
          1,
          2,
          3,
          4,
          5,
          6,
          7,
          8,
          9,
          10,
          11,
          12,
          13,
          14,
          15,
          16,
          17,
          18,
          19,
          20,
          21,
          22,
          23,
          24,
          25,
          26,
          27,
          28,
          29,
          30,
          31,
          32,
          33,
          34,
          35,
          36,
          37,
          38,
          39,
          40,
          41,
          42,
          43,
          44,
          45,
          46,
          47,
          48,
          49,
          50,
          51,
          52,
          53,
          54,
          55,
          56,
          57,
          58,
          59,
          60,
          61,
          62,
          63,
          64
         ],
         "xaxis": "x3",
         "y": [
          0,
          0,
          0,
          0,
          0,
          0,
          0,
          0,
          0,
          0,
          0,
          0,
          0,
          0,
          0,
          0,
          0,
          0,
          0,
          0,
          0,
          0,
          0,
          0,
          0,
          0,
          0,
          0,
          0,
          0,
          0,
          0,
          0,
          0,
          0,
          0,
          0,
          0,
          0,
          0,
          0,
          0,
          0,
          0,
          0,
          0,
          0,
          0,
          0,
          0,
          0,
          0,
          0,
          0,
          0,
          0,
          0,
          0,
          0,
          0,
          0,
          0,
          0,
          0
         ],
         "yaxis": "y3"
        },
        {
         "line": {
          "color": "blueviolet"
         },
         "name": "q2",
         "showlegend": false,
         "type": "scatter",
         "x": [
          1,
          2,
          3,
          4,
          5,
          6,
          7,
          8,
          9,
          10,
          11,
          12,
          13,
          14,
          15,
          16,
          17,
          18,
          19,
          20,
          21,
          22,
          23,
          24,
          25,
          26,
          27,
          28,
          29,
          30,
          31,
          32,
          33,
          34,
          35,
          36,
          37,
          38,
          39,
          40,
          41,
          42,
          43,
          44,
          45,
          46,
          47,
          48,
          49,
          50,
          51,
          52,
          53,
          54,
          55,
          56,
          57,
          58,
          59,
          60,
          61,
          62,
          63,
          64
         ],
         "xaxis": "x3",
         "y": [
          0.10531219305510083,
          0.16615469059954163,
          0.21199901777632263,
          0.25725834408643566,
          0.292803767116692,
          0.3274993740731467,
          0.36043997842959763,
          0.39238872946478437,
          0.42409433199160296,
          0.45495493326656783,
          0.48251497409625793,
          0.5090253837413092,
          0.5351361631646862,
          0.5575804556747491,
          0.5778941894728733,
          0.596229031450417,
          0.6128257227047743,
          0.6292683396567994,
          0.6456555861564238,
          0.6617900545037844,
          0.677587485314793,
          0.6932476937002868,
          0.7087971611809794,
          0.7243369990177762,
          0.7381218342545691,
          0.7514011131868342,
          0.764610577200855,
          0.7766307801937483,
          0.7884487606648305,
          0.8000572963811797,
          0.8112421277661152,
          0.8224125146852069,
          0.83286308572309,
          0.8432173603220153,
          0.852389596132735,
          0.8615305356007935,
          0.8701081409009496,
          0.8782235232941087,
          0.8863124241665544,
          0.8943194730658861,
          0.9021074475665891,
          0.9096161623943148,
          0.9167854322747145,
          0.923010997053329,
          0.9290824875296112,
          0.9350697186218054,
          0.9409775051518595,
          0.9467552914893208,
          0.952410299867111,
          0.9576343816805656,
          0.9618449434739904,
          0.9657136529091155,
          0.9695775475222926,
          0.9732897752441115,
          0.9769273732257382,
          0.9804686747684072,
          0.9838294204880305,
          0.986761647054292,
          0.9895060955645861,
          0.9921590624578704,
          0.9946988810353794,
          0.9971640698726962,
          0.9987746278142635,
          1
         ],
         "yaxis": "y3"
        },
        {
         "line": {
          "color": "red"
         },
         "name": "s4",
         "showlegend": false,
         "type": "scatter",
         "x": [
          1,
          2,
          3,
          4,
          5,
          6,
          7,
          8,
          9,
          10,
          11,
          12,
          13,
          14,
          15,
          16,
          17,
          18,
          19,
          20,
          21,
          22,
          23,
          24,
          25,
          26,
          27,
          28,
          29,
          30,
          31,
          32,
          33,
          34,
          35,
          36,
          37,
          38,
          39,
          40,
          41,
          42,
          43,
          44,
          45,
          46,
          47,
          48,
          49,
          50,
          51,
          52,
          53,
          54,
          55,
          56,
          57,
          58,
          59,
          60,
          61,
          62,
          63,
          64
         ],
         "xaxis": "x3",
         "y": [
          0.18343285958835942,
          0.2846052788725666,
          0.3622895019706199,
          0.41933596082646607,
          0.4718062024762133,
          0.5234165372825352,
          0.5729646880847169,
          0.6160356702098015,
          0.6533958358214899,
          0.6902165691309369,
          0.7230562522393409,
          0.7548230423185638,
          0.7861777937019787,
          0.8163442016003823,
          0.8434471913690833,
          0.8664317847048053,
          0.8859488833154188,
          0.9051713842111551,
          0.9214678132091247,
          0.9364962777180622,
          0.9490624626776546,
          0.9573291134201205,
          0.9646641984155423,
          0.971674827819579,
          0.9786018551693939,
          0.9843684063856047,
          0.9884310681157692,
          0.9921334448027392,
          0.9957999920378999,
          0.997521796249851,
          0.9991938373342891,
          1.0000000000000004,
          1.0000000000000004,
          1.0000000000000004,
          1.0000000000000004,
          1.0000000000000004,
          1.0000000000000004,
          1.0000000000000004,
          1.0000000000000004,
          1.0000000000000004,
          1.0000000000000004,
          1.0000000000000004,
          1.0000000000000004,
          1.0000000000000004,
          1.0000000000000004,
          1.0000000000000004,
          1.0000000000000004,
          1.0000000000000004,
          1.0000000000000004,
          1.0000000000000004,
          1.0000000000000004,
          1.0000000000000004,
          1.0000000000000004,
          1.0000000000000004,
          1.0000000000000004,
          1.0000000000000004,
          1.0000000000000004,
          1.0000000000000004,
          1.0000000000000004,
          1.0000000000000004,
          1.0000000000000004,
          1.0000000000000004,
          1.0000000000000004,
          1.0000000000000004
         ],
         "yaxis": "y3"
        },
        {
         "line": {
          "color": "navy"
         },
         "name": "n4",
         "showlegend": false,
         "type": "scatter",
         "x": [
          1,
          2,
          3,
          4,
          5,
          6,
          7,
          8,
          9,
          10,
          11,
          12,
          13,
          14,
          15,
          16,
          17,
          18,
          19,
          20,
          21,
          22,
          23,
          24,
          25,
          26,
          27,
          28,
          29,
          30,
          31,
          32,
          33,
          34,
          35,
          36,
          37,
          38,
          39,
          40,
          41,
          42,
          43,
          44,
          45,
          46,
          47,
          48,
          49,
          50,
          51,
          52,
          53,
          54,
          55,
          56,
          57,
          58,
          59,
          60,
          61,
          62,
          63,
          64
         ],
         "xaxis": "x3",
         "y": [
          0.2228542691721761,
          0.3653724645717012,
          0.4879719705189396,
          0.5425867217333478,
          0.5778059415278793,
          0.6112788450733803,
          0.6419591163050306,
          0.6660759647568327,
          0.6880541284352969,
          0.7072654492803814,
          0.7241815063635543,
          0.7407770370465887,
          0.756591514892504,
          0.772339676931494,
          0.7861775753098883,
          0.7992786313891136,
          0.8119799505210397,
          0.8234802167053202,
          0.8344960090778972,
          0.8454252224803218,
          0.8556470672755442,
          0.8649202276105864,
          0.8739557563041466,
          0.882674442809064,
          0.8906323396400895,
          0.898400499579079,
          0.9059218173478468,
          0.9129052402382213,
          0.9193710314134295,
          0.9256802436000643,
          0.9308381396942474,
          0.9359720884137076,
          0.9402476158546359,
          0.9443757748357303,
          0.9483657758857306,
          0.9523355137725037,
          0.9558631462797754,
          0.9590813050213961,
          0.962273674282546,
          0.9654052540540143,
          0.9684263074806073,
          0.9713331503508291,
          0.974236309009555,
          0.9767470991439735,
          0.9789539418299847,
          0.9809526265664807,
          0.9829273639282538,
          0.9845981538416195,
          0.9862542069090019,
          0.9878918389189051,
          0.9893673656229911,
          0.9907949975776311,
          0.9921839453115647,
          0.9932578929626036,
          0.9943023669216757,
          0.9953321040347645,
          0.9963415779846261,
          0.9970968413412743,
          0.9978134204772162,
          0.9984784206522163,
          0.9991121050295017,
          0.99962789463892,
          0.9998452631171748,
          1.0000000000000002
         ],
         "yaxis": "y3"
        },
        {
         "line": {
          "color": "silver"
         },
         "name": "r4",
         "showlegend": false,
         "type": "scatter",
         "x": [
          1,
          2,
          3,
          4,
          5,
          6,
          7,
          8,
          9,
          10,
          11,
          12,
          13,
          14,
          15,
          16,
          17,
          18,
          19,
          20,
          21,
          22,
          23,
          24,
          25,
          26,
          27,
          28,
          29,
          30,
          31,
          32,
          33,
          34,
          35,
          36,
          37,
          38,
          39,
          40,
          41,
          42,
          43,
          44,
          45,
          46,
          47,
          48,
          49,
          50,
          51,
          52,
          53,
          54,
          55,
          56,
          57,
          58,
          59,
          60,
          61,
          62,
          63,
          64
         ],
         "xaxis": "x3",
         "y": [
          0.18845638270984832,
          0.27906299688710723,
          0.335715725387192,
          0.3875887398383087,
          0.4254649343669118,
          0.45843024464841586,
          0.488109901430395,
          0.5098105710382601,
          0.5309961576729767,
          0.551778635893925,
          0.5708143109885434,
          0.5888134215906147,
          0.6040451609394346,
          0.6189217809713634,
          0.6336672308051612,
          0.6479807787670643,
          0.6620831747027077,
          0.6758656433258365,
          0.6893249853633256,
          0.7017573607276428,
          0.7130092043087812,
          0.7241138813261628,
          0.7351737685197924,
          0.7453954461546338,
          0.7556075259700997,
          0.7658004101468148,
          0.7758909175835251,
          0.7859686279277349,
          0.7958575811575611,
          0.8055097881761265,
          0.8149988322653094,
          0.8243886988876129,
          0.8335578156642812,
          0.8422566392915531,
          0.8509394665531993,
          0.8589312508198139,
          0.8663343688314017,
          0.8736479071954854,
          0.8808846630045656,
          0.8881182195405206,
          0.8953293811645996,
          0.9023389885817944,
          0.9093070054483623,
          0.9161918412136764,
          0.9228463293139799,
          0.9291648937361432,
          0.9351827264845427,
          0.9408358420966756,
          0.946456964977557,
          0.9517485627265485,
          0.9568258091761551,
          0.9618806607138858,
          0.9669323129784912,
          0.971091368041181,
          0.9751832383682427,
          0.9790639566690448,
          0.9826215483842071,
          0.9860671655399893,
          0.989064884458251,
          0.9917426760639982,
          0.993972569432225,
          0.996032901324819,
          0.9980676390324119,
          1
         ],
         "yaxis": "y3"
        },
        {
         "line": {
          "color": "black"
         },
         "name": "r3",
         "showlegend": false,
         "type": "scatter",
         "x": [
          1,
          2,
          3,
          4,
          5,
          6,
          7,
          8,
          9,
          10,
          11,
          12,
          13,
          14,
          15,
          16,
          17,
          18,
          19,
          20,
          21,
          22,
          23,
          24,
          25,
          26,
          27,
          28,
          29,
          30,
          31,
          32,
          33,
          34,
          35,
          36,
          37,
          38,
          39,
          40,
          41,
          42,
          43,
          44,
          45,
          46,
          47,
          48,
          49,
          50,
          51,
          52,
          53,
          54,
          55,
          56,
          57,
          58,
          59,
          60,
          61,
          62,
          63,
          64
         ],
         "xaxis": "x4",
         "y": [
          0.1013647320750354,
          0.18077759209689584,
          0.25788206380939194,
          0.3072858758095156,
          0.353352809659469,
          0.3949629541992635,
          0.43115369671515136,
          0.4644566010897959,
          0.48679835818066197,
          0.5089075286800778,
          0.5292635609410481,
          0.5493009630160431,
          0.5682224872245429,
          0.5868374811275476,
          0.6053852534723297,
          0.6228816806465102,
          0.6399008347573101,
          0.6557920111211346,
          0.6711346595698627,
          0.6856330052473149,
          0.6995613121110392,
          0.7134291195723633,
          0.7266852108538616,
          0.7391453988860043,
          0.7508392611544092,
          0.7623933025817111,
          0.7731554740531507,
          0.7839001679194524,
          0.7941138114757955,
          0.8042427558687781,
          0.8143609448124451,
          0.8240542935081453,
          0.8334693449528038,
          0.8424945113597712,
          0.850917372605064,
          0.8590283258202038,
          0.867131212448357,
          0.8751588109313009,
          0.8829363452176566,
          0.8904745707567399,
          0.897821887070471,
          0.9048156179879511,
          0.9116170952489145,
          0.9183782395749445,
          0.9248825975485641,
          0.9312310015071071,
          0.9375646167228413,
          0.9433268486936833,
          0.9487449062864256,
          0.9541051533390964,
          0.9594237230256691,
          0.9644586177365425,
          0.9689651509997862,
          0.9729433228154002,
          0.9764791767779094,
          0.97968026738047,
          0.9828786691207017,
          0.9860152270273685,
          0.9891396850535554,
          0.9921901993656974,
          0.9943775888702611,
          0.9963969244792682,
          0.9982562727797055,
          1
         ],
         "yaxis": "y4"
        },
        {
         "line": {
          "color": "blue"
         },
         "name": "n3",
         "showlegend": false,
         "type": "scatter",
         "x": [
          1,
          2,
          3,
          4,
          5,
          6,
          7,
          8,
          9,
          10,
          11,
          12,
          13,
          14,
          15,
          16,
          17,
          18,
          19,
          20,
          21,
          22,
          23,
          24,
          25,
          26,
          27,
          28,
          29,
          30,
          31,
          32,
          33,
          34,
          35,
          36,
          37,
          38,
          39,
          40,
          41,
          42,
          43,
          44,
          45,
          46,
          47,
          48,
          49,
          50,
          51,
          52,
          53,
          54,
          55,
          56,
          57,
          58,
          59,
          60,
          61,
          62,
          63,
          64
         ],
         "xaxis": "x4",
         "y": [
          0.2069701452909853,
          0.34150234528518963,
          0.46689384618155927,
          0.5107513449460651,
          0.5468849490569127,
          0.5813103992193087,
          0.6129664626959072,
          0.6442740032440045,
          0.6678662643119571,
          0.6913700240519981,
          0.7129831448046197,
          0.73184019323051,
          0.7501544857250492,
          0.7666791717215545,
          0.7830581829659223,
          0.7985020562852782,
          0.8131235721328899,
          0.8271396762417794,
          0.8401031627868364,
          0.8515401972248177,
          0.8627916138334625,
          0.8726818330269726,
          0.8821820198195983,
          0.8916179844096688,
          0.9004681172008205,
          0.9082538844642577,
          0.9158689146526089,
          0.9232427199825818,
          0.9291339322706387,
          0.9348434427173198,
          0.9392606771369743,
          0.9435666974985453,
          0.9478406067588386,
          0.9518889551125964,
          0.955496363221981,
          0.9588742944368692,
          0.9620948029357379,
          0.9650537234388327,
          0.9677769014666942,
          0.9704992962969635,
          0.9731887968283631,
          0.9758641998031042,
          0.9784307383125382,
          0.9806456211031026,
          0.982552707239957,
          0.9843705088513077,
          0.9860629988479165,
          0.9876544563551395,
          0.9892161523538613,
          0.9906376559835905,
          0.991906436082853,
          0.9930232758492408,
          0.9939678121453583,
          0.9948027007785767,
          0.9955835487779376,
          0.9963330688736131,
          0.9970426458920895,
          0.9977271605876175,
          0.9983043772130227,
          0.9987641141996073,
          0.9992089704319413,
          0.9996412955028011,
          0.9998582412358231,
          1
         ],
         "yaxis": "y4"
        },
        {
         "line": {
          "color": "maroon"
         },
         "name": "s3",
         "showlegend": false,
         "type": "scatter",
         "x": [
          1,
          2,
          3,
          4,
          5,
          6,
          7,
          8,
          9,
          10,
          11,
          12,
          13,
          14,
          15,
          16,
          17,
          18,
          19,
          20,
          21,
          22,
          23,
          24,
          25,
          26,
          27,
          28,
          29,
          30,
          31,
          32,
          33,
          34,
          35,
          36,
          37,
          38,
          39,
          40,
          41,
          42,
          43,
          44,
          45,
          46,
          47,
          48,
          49,
          50,
          51,
          52,
          53,
          54,
          55,
          56,
          57,
          58,
          59,
          60,
          61,
          62,
          63,
          64
         ],
         "xaxis": "x4",
         "y": [
          0.14035246122952522,
          0.2294974228258539,
          0.3126597982537551,
          0.38567495743777586,
          0.44353353712268084,
          0.5013365536796248,
          0.5522957555847455,
          0.6011383495841014,
          0.6474823391729603,
          0.6933193152191749,
          0.7361385188780069,
          0.7705676902147255,
          0.7983787721069625,
          0.8247486853677107,
          0.8489412185514866,
          0.8673855725129206,
          0.8850668016387649,
          0.9000158875819013,
          0.9147861297069132,
          0.9273972234063149,
          0.9399501494561324,
          0.9507467597580572,
          0.9599372483923589,
          0.969041787813096,
          0.9759333520280107,
          0.9822206672263494,
          0.9866752673758489,
          0.9910144004000544,
          0.9942700524290201,
          0.9974449642876675,
          0.998945168742615,
          0.9999999999999999,
          0.9999999999999999,
          0.9999999999999999,
          0.9999999999999999,
          0.9999999999999999,
          0.9999999999999999,
          0.9999999999999999,
          0.9999999999999999,
          0.9999999999999999,
          0.9999999999999999,
          0.9999999999999999,
          0.9999999999999999,
          0.9999999999999999,
          0.9999999999999999,
          0.9999999999999999,
          0.9999999999999999,
          0.9999999999999999,
          0.9999999999999999,
          0.9999999999999999,
          0.9999999999999999,
          0.9999999999999999,
          0.9999999999999999,
          0.9999999999999999,
          0.9999999999999999,
          0.9999999999999999,
          0.9999999999999999,
          0.9999999999999999,
          0.9999999999999999,
          0.9999999999999999,
          0.9999999999999999,
          0.9999999999999999,
          0.9999999999999999,
          0.9999999999999999
         ],
         "yaxis": "y4"
        },
        {
         "line": {
          "color": "brown"
         },
         "name": "k2",
         "showlegend": false,
         "type": "scatter",
         "x": [
          1,
          2,
          3,
          4,
          5,
          6,
          7,
          8,
          9,
          10,
          11,
          12,
          13,
          14,
          15,
          16,
          17,
          18,
          19,
          20,
          21,
          22,
          23,
          24,
          25,
          26,
          27,
          28,
          29,
          30,
          31,
          32,
          33,
          34,
          35,
          36,
          37,
          38,
          39,
          40,
          41,
          42,
          43,
          44,
          45,
          46,
          47,
          48,
          49,
          50,
          51,
          52,
          53,
          54,
          55,
          56,
          57,
          58,
          59,
          60,
          61,
          62,
          63,
          64
         ],
         "xaxis": "x4",
         "y": [
          0,
          0,
          0,
          0,
          0,
          0,
          0,
          0,
          0,
          0,
          0,
          0,
          0,
          0,
          0,
          0,
          0,
          0,
          0,
          0,
          0,
          0,
          0,
          0,
          0,
          0,
          0,
          0,
          0,
          0,
          0,
          0,
          0,
          0,
          0,
          0,
          0,
          0,
          0,
          0,
          0,
          0,
          0,
          0,
          0,
          0,
          0,
          0,
          0,
          0,
          0,
          0,
          0,
          0,
          0,
          0,
          0,
          0,
          0,
          0,
          0,
          0,
          0,
          0
         ],
         "yaxis": "y4"
        },
        {
         "line": {
          "color": "blueviolet"
         },
         "name": "q2",
         "showlegend": false,
         "type": "scatter",
         "x": [
          1,
          2,
          3,
          4,
          5,
          6,
          7,
          8,
          9,
          10,
          11,
          12,
          13,
          14,
          15,
          16,
          17,
          18,
          19,
          20,
          21,
          22,
          23,
          24,
          25,
          26,
          27,
          28,
          29,
          30,
          31,
          32,
          33,
          34,
          35,
          36,
          37,
          38,
          39,
          40,
          41,
          42,
          43,
          44,
          45,
          46,
          47,
          48,
          49,
          50,
          51,
          52,
          53,
          54,
          55,
          56,
          57,
          58,
          59,
          60,
          61,
          62,
          63,
          64
         ],
         "xaxis": "x4",
         "y": [
          0.08826240707693318,
          0.14268932219533825,
          0.18652601845870878,
          0.2232616954422536,
          0.2586715422765741,
          0.2939872343686706,
          0.3272807891481186,
          0.3597663648605744,
          0.3885580091746133,
          0.41649131258279604,
          0.4442505392001227,
          0.4695376564227768,
          0.49432881901487874,
          0.5177120397639563,
          0.5389340807322174,
          0.5589244462934781,
          0.5785272446600028,
          0.5976329935733914,
          0.61672232014802,
          0.6356923110609926,
          0.654461949441093,
          0.6723590142217454,
          0.6899309166949495,
          0.7072772857158497,
          0.7239153045249017,
          0.7395690778309375,
          0.7549863694588292,
          0.7683848082418244,
          0.7815533342821795,
          0.7939675275621585,
          0.8057084049529774,
          0.816430002518092,
          0.8270508764054785,
          0.837323596711153,
          0.8471222588379553,
          0.8568092490611896,
          0.8661568442833838,
          0.875482543053898,
          0.8847206560176922,
          0.8931431261564062,
          0.9010794950678241,
          0.9090158639792421,
          0.916740932131948,
          0.9232244714743976,
          0.9296992522361751,
          0.9361324297397606,
          0.9423794874040661,
          0.9486046486166916,
          0.9547345602645091,
          0.9600181740548943,
          0.9635686836948072,
          0.9671016761733761,
          0.9705799275227449,
          0.9740351875978498,
          0.9774860683826186,
          0.9809292854092995,
          0.9843659335004763,
          0.9874905571552131,
          0.9899933215822376,
          0.9924807584930863,
          0.9947689376936468,
          0.9969585828616474,
          0.9988832809643199,
          1.0000000000000002
         ],
         "yaxis": "y4"
        },
        {
         "line": {
          "color": "red"
         },
         "name": "s4",
         "showlegend": false,
         "type": "scatter",
         "x": [
          1,
          2,
          3,
          4,
          5,
          6,
          7,
          8,
          9,
          10,
          11,
          12,
          13,
          14,
          15,
          16,
          17,
          18,
          19,
          20,
          21,
          22,
          23,
          24,
          25,
          26,
          27,
          28,
          29,
          30,
          31,
          32,
          33,
          34,
          35,
          36,
          37,
          38,
          39,
          40,
          41,
          42,
          43,
          44,
          45,
          46,
          47,
          48,
          49,
          50,
          51,
          52,
          53,
          54,
          55,
          56,
          57,
          58,
          59,
          60,
          61,
          62,
          63,
          64
         ],
         "xaxis": "x4",
         "y": [
          0.18571517538943022,
          0.2802994220494832,
          0.3458905341196057,
          0.4078423736232121,
          0.46525586743890474,
          0.522222894699679,
          0.5679168607348893,
          0.6122670413828009,
          0.6563233786203044,
          0.6914144218345829,
          0.724328392378316,
          0.7553661508179812,
          0.7836400269107936,
          0.811897237257941,
          0.8394474691310919,
          0.8653416521718537,
          0.8868071325882868,
          0.90684988461164,
          0.923964728265017,
          0.9381174549125795,
          0.9506939528780428,
          0.958263709987957,
          0.9657887327279283,
          0.9721471532713544,
          0.9784889080691156,
          0.9843859506009757,
          0.988461163988306,
          0.9919653563004852,
          0.9952476310519682,
          0.997404529398814,
          0.9991930270520138,
          1,
          1,
          1,
          1,
          1,
          1,
          1,
          1,
          1,
          1,
          1,
          1,
          1,
          1,
          1,
          1,
          1,
          1,
          1,
          1,
          1,
          1,
          1,
          1,
          1,
          1,
          1,
          1,
          1,
          1,
          1,
          1,
          1
         ],
         "yaxis": "y4"
        },
        {
         "line": {
          "color": "navy"
         },
         "name": "n4",
         "showlegend": false,
         "type": "scatter",
         "x": [
          1,
          2,
          3,
          4,
          5,
          6,
          7,
          8,
          9,
          10,
          11,
          12,
          13,
          14,
          15,
          16,
          17,
          18,
          19,
          20,
          21,
          22,
          23,
          24,
          25,
          26,
          27,
          28,
          29,
          30,
          31,
          32,
          33,
          34,
          35,
          36,
          37,
          38,
          39,
          40,
          41,
          42,
          43,
          44,
          45,
          46,
          47,
          48,
          49,
          50,
          51,
          52,
          53,
          54,
          55,
          56,
          57,
          58,
          59,
          60,
          61,
          62,
          63,
          64
         ],
         "xaxis": "x4",
         "y": [
          0.1990640850514527,
          0.3437124626292376,
          0.4739440664397831,
          0.5285076009767895,
          0.5651961778222246,
          0.60128052164374,
          0.6365134462042776,
          0.6624348813708012,
          0.6862075734308724,
          0.7063274022099743,
          0.7259964796156174,
          0.7444684001476656,
          0.7617342780263553,
          0.7771818022461636,
          0.791999243900922,
          0.805815015836883,
          0.8171702345765078,
          0.8275108588267702,
          0.8375469431705918,
          0.847136315131756,
          0.8562991696642711,
          0.8650912448411991,
          0.8736773314872455,
          0.8821495185926865,
          0.8903801740481918,
          0.8982473203315529,
          0.9057436872593269,
          0.9123538996052293,
          0.9182863692946228,
          0.9238504830229102,
          0.9290817839091455,
          0.9342177646124631,
          0.9389506540337808,
          0.9435987246482648,
          0.9481595530614342,
          0.952608097530319,
          0.9566470883319214,
          0.9599227098720209,
          0.9631910612286775,
          0.9662566552470937,
          0.9690944501842995,
          0.9718038052140143,
          0.9742764753827553,
          0.976703101056358,
          0.9790142115930349,
          0.9810215900214313,
          0.9828698322122446,
          0.9846106372477351,
          0.986319130356813,
          0.9879153395216062,
          0.989472774374704,
          0.990831490880363,
          0.9920181463778738,
          0.9931652197655289,
          0.9942476693003582,
          0.9951734059920855,
          0.9960983348856525,
          0.9969077486422936,
          0.997650115151628,
          0.9983714789087942,
          0.9990621463358682,
          0.9996122568830464,
          0.9998360169734553,
          1.0000000000000002
         ],
         "yaxis": "y4"
        },
        {
         "line": {
          "color": "silver"
         },
         "name": "r4",
         "showlegend": false,
         "type": "scatter",
         "x": [
          1,
          2,
          3,
          4,
          5,
          6,
          7,
          8,
          9,
          10,
          11,
          12,
          13,
          14,
          15,
          16,
          17,
          18,
          19,
          20,
          21,
          22,
          23,
          24,
          25,
          26,
          27,
          28,
          29,
          30,
          31,
          32,
          33,
          34,
          35,
          36,
          37,
          38,
          39,
          40,
          41,
          42,
          43,
          44,
          45,
          46,
          47,
          48,
          49,
          50,
          51,
          52,
          53,
          54,
          55,
          56,
          57,
          58,
          59,
          60,
          61,
          62,
          63,
          64
         ],
         "xaxis": "x4",
         "y": [
          0.12556018686882817,
          0.2095154838168238,
          0.26476067921783647,
          0.3143130892102834,
          0.3589336168070048,
          0.38995300304920694,
          0.4197037513637508,
          0.44832992978431757,
          0.47536296752175006,
          0.49783618205723557,
          0.5181078132430693,
          0.5381808263630514,
          0.5578342238509525,
          0.5745209388200408,
          0.5902019749909083,
          0.605533331468375,
          0.6207989481634822,
          0.6355582286625451,
          0.6500321705317929,
          0.6644319803060397,
          0.6785030911684896,
          0.692572803312166,
          0.7065921615799926,
          0.7204898313145158,
          0.7325216102050521,
          0.7438540297087867,
          0.7550731529918594,
          0.7661006518029484,
          0.7769337287045066,
          0.7876758888857806,
          0.7980851539989369,
          0.8084524575488852,
          0.8187428315662852,
          0.8288975298626458,
          0.8386144291828684,
          0.8479550731529918,
          0.856908272022827,
          0.8651635102246342,
          0.8733488124877612,
          0.8808501412705961,
          0.8879024813271044,
          0.8949436316334238,
          0.9017483984670043,
          0.9084062998293564,
          0.9150614037541612,
          0.9216311858337763,
          0.9281086524743336,
          0.9343469382046047,
          0.9404859149019499,
          0.9466067082552383,
          0.9524561501664476,
          0.9578789828517079,
          0.9632206898480993,
          0.9684658852491119,
          0.9729809494503037,
          0.9774344700254568,
          0.9815327160321147,
          0.9850099309032927,
          0.9882339776764485,
          0.9912943743530926,
          0.9936903796122752,
          0.9960500181833442,
          0.9980375975606346,
          1.0000000000000002
         ],
         "yaxis": "y4"
        },
        {
         "line": {
          "color": "black"
         },
         "name": "r3",
         "showlegend": false,
         "type": "scatter",
         "x": [
          1,
          2,
          3,
          4,
          5,
          6,
          7,
          8,
          9,
          10,
          11,
          12,
          13,
          14,
          15,
          16,
          17,
          18,
          19,
          20,
          21,
          22,
          23,
          24,
          25,
          26,
          27,
          28,
          29,
          30,
          31,
          32,
          33,
          34,
          35,
          36,
          37,
          38,
          39,
          40,
          41,
          42,
          43,
          44,
          45,
          46,
          47,
          48,
          49,
          50,
          51,
          52,
          53,
          54,
          55,
          56,
          57,
          58,
          59,
          60,
          61,
          62,
          63,
          64
         ],
         "xaxis": "x5",
         "y": [
          0.09884740001062305,
          0.16941023458259344,
          0.2225957832267919,
          0.27536502349271247,
          0.32046126968313193,
          0.3616198128334953,
          0.4001986795846678,
          0.435880614241479,
          0.46112325742643906,
          0.48364697623740494,
          0.5050681956190004,
          0.5253338003643417,
          0.5454027352896,
          0.5652620804795874,
          0.5836284576923023,
          0.6013445325072245,
          0.6181562132589913,
          0.6349291342651943,
          0.6514537057905625,
          0.6678490781640514,
          0.6840520873558532,
          0.6994497551676072,
          0.7146507531592782,
          0.728882757511854,
          0.7416304071639495,
          0.7538425981088116,
          0.7656700626902997,
          0.7773812480350963,
          0.7888713592755661,
          0.7998748203772903,
          0.8101518951362262,
          0.8199049955569848,
          0.8296322561473675,
          0.8393365479996383,
          0.8489360449842737,
          0.8584149560938217,
          0.8665214851011845,
          0.8741628971617819,
          0.8817023854470076,
          0.8886518642719844,
          0.8954620951221579,
          0.9022464861419556,
          0.9089748908626055,
          0.915589887438828,
          0.9221359778007148,
          0.9285413846416664,
          0.9348290766997945,
          0.9408770325538799,
          0.9467900470715579,
          0.9524475343777412,
          0.9578695921182777,
          0.9631681928914628,
          0.9682399773757931,
          0.9727102680308185,
          0.9762072584083528,
          0.9796697956787193,
          0.9829744228745665,
          0.98621875713287,
          0.989378394169386,
          0.9924203164230786,
          0.9945779422594636,
          0.9964987029840698,
          0.9983462508559445,
          1.0000000000000002
         ],
         "yaxis": "y5"
        },
        {
         "line": {
          "color": "blue"
         },
         "name": "n3",
         "showlegend": false,
         "type": "scatter",
         "x": [
          1,
          2,
          3,
          4,
          5,
          6,
          7,
          8,
          9,
          10,
          11,
          12,
          13,
          14,
          15,
          16,
          17,
          18,
          19,
          20,
          21,
          22,
          23,
          24,
          25,
          26,
          27,
          28,
          29,
          30,
          31,
          32,
          33,
          34,
          35,
          36,
          37,
          38,
          39,
          40,
          41,
          42,
          43,
          44,
          45,
          46,
          47,
          48,
          49,
          50,
          51,
          52,
          53,
          54,
          55,
          56,
          57,
          58,
          59,
          60,
          61,
          62,
          63,
          64
         ],
         "xaxis": "x5",
         "y": [
          0.1987124975163918,
          0.34254365631278005,
          0.45892575667262725,
          0.5078967702055323,
          0.5480910435569684,
          0.5841773185862198,
          0.6159030399364196,
          0.6466988983817913,
          0.6729999779234828,
          0.6975066781464556,
          0.7172589796233746,
          0.7360178378259046,
          0.7532233922776342,
          0.7700324524802966,
          0.7858083316775945,
          0.8003223171512461,
          0.8138163675298584,
          0.8266596021811599,
          0.8386754089674813,
          0.8505552244077974,
          0.8618407400048568,
          0.8726052497957921,
          0.883126034836744,
          0.892996004150385,
          0.9027538247566063,
          0.9113309932225091,
          0.9183698699693136,
          0.9242740137315937,
          0.9297604697882862,
          0.935150672229949,
          0.9402123760955471,
          0.9446471068724197,
          0.9489767534273792,
          0.9525920038854669,
          0.9561869439477227,
          0.9594507362518488,
          0.9626580126719209,
          0.9656860277722586,
          0.9684614875157295,
          0.971049738393271,
          0.9735417356557828,
          0.9759083383005496,
          0.9780347484380862,
          0.9801390820584143,
          0.9821577587919728,
          0.9841667218579595,
          0.9861553745281143,
          0.9878270084111529,
          0.9894068039826035,
          0.9907446409254475,
          0.9920427401373157,
          0.9932092633066205,
          0.9941029207232265,
          0.9948411594586836,
          0.9955670353445039,
          0.9962796653199989,
          0.9969755171424154,
          0.9976113208380244,
          0.99824359229088,
          0.9987151466984566,
          0.9991734551957081,
          0.9995946751440491,
          0.9998127911340705,
          0.9999999999999998
         ],
         "yaxis": "y5"
        },
        {
         "line": {
          "color": "maroon"
         },
         "name": "s3",
         "showlegend": false,
         "type": "scatter",
         "x": [
          1,
          2,
          3,
          4,
          5,
          6,
          7,
          8,
          9,
          10,
          11,
          12,
          13,
          14,
          15,
          16,
          17,
          18,
          19,
          20,
          21,
          22,
          23,
          24,
          25,
          26,
          27,
          28,
          29,
          30,
          31,
          32,
          33,
          34,
          35,
          36,
          37,
          38,
          39,
          40,
          41,
          42,
          43,
          44,
          45,
          46,
          47,
          48,
          49,
          50,
          51,
          52,
          53,
          54,
          55,
          56,
          57,
          58,
          59,
          60,
          61,
          62,
          63,
          64
         ],
         "xaxis": "x5",
         "y": [
          0.12742809114680612,
          0.21615177357950704,
          0.30469166024209376,
          0.3861727958416455,
          0.45440374665193645,
          0.5148457307719819,
          0.5716495521344153,
          0.6271389853678697,
          0.6695054006151694,
          0.7118449916149389,
          0.749099897471765,
          0.7845049237396577,
          0.8131164609478695,
          0.8360035050350105,
          0.8569035678236195,
          0.8745380268480912,
          0.8906395298007455,
          0.9049358602436833,
          0.9187543216843242,
          0.9309792241235425,
          0.9422444145955697,
          0.9517352307680079,
          0.9606289590602373,
          0.968986202401863,
          0.9766162105882259,
          0.9828245336554892,
          0.9873816752636724,
          0.990771465358968,
          0.9939486484553207,
          0.9966767737782052,
          0.9987144230998498,
          1,
          1,
          1,
          1,
          1,
          1,
          1,
          1,
          1,
          1,
          1,
          1,
          1,
          1,
          1,
          1,
          1,
          1,
          1,
          1,
          1,
          1,
          1,
          1,
          1,
          1,
          1,
          1,
          1,
          1,
          1,
          1,
          1
         ],
         "yaxis": "y5"
        },
        {
         "line": {
          "color": "brown"
         },
         "name": "k2",
         "showlegend": false,
         "type": "scatter",
         "x": [
          1,
          2,
          3,
          4,
          5,
          6,
          7,
          8,
          9,
          10,
          11,
          12,
          13,
          14,
          15,
          16,
          17,
          18,
          19,
          20,
          21,
          22,
          23,
          24,
          25,
          26,
          27,
          28,
          29,
          30,
          31,
          32,
          33,
          34,
          35,
          36,
          37,
          38,
          39,
          40,
          41,
          42,
          43,
          44,
          45,
          46,
          47,
          48,
          49,
          50,
          51,
          52,
          53,
          54,
          55,
          56,
          57,
          58,
          59,
          60,
          61,
          62,
          63,
          64
         ],
         "xaxis": "x5",
         "y": [
          0,
          0,
          0,
          0,
          0,
          0,
          0,
          0,
          0,
          0,
          0,
          0,
          0,
          0,
          0,
          0,
          0,
          0,
          0,
          0,
          0,
          0,
          0,
          0,
          0,
          0,
          0,
          0,
          0,
          0,
          0,
          0,
          0,
          0,
          0,
          0,
          0,
          0,
          0,
          0,
          0,
          0,
          0,
          0,
          0,
          0,
          0,
          0,
          0,
          0,
          0,
          0,
          0,
          0,
          0,
          0,
          0,
          0,
          0,
          0,
          0,
          0,
          0,
          0
         ],
         "yaxis": "y5"
        },
        {
         "line": {
          "color": "blueviolet"
         },
         "name": "q2",
         "showlegend": false,
         "type": "scatter",
         "x": [
          1,
          2,
          3,
          4,
          5,
          6,
          7,
          8,
          9,
          10,
          11,
          12,
          13,
          14,
          15,
          16,
          17,
          18,
          19,
          20,
          21,
          22,
          23,
          24,
          25,
          26,
          27,
          28,
          29,
          30,
          31,
          32,
          33,
          34,
          35,
          36,
          37,
          38,
          39,
          40,
          41,
          42,
          43,
          44,
          45,
          46,
          47,
          48,
          49,
          50,
          51,
          52,
          53,
          54,
          55,
          56,
          57,
          58,
          59,
          60,
          61,
          62,
          63,
          64
         ],
         "xaxis": "x5",
         "y": [
          0.07889692019514002,
          0.12917606597614495,
          0.16793351687122732,
          0.20512248656066318,
          0.24171672522573578,
          0.27451955361049263,
          0.30470459051915877,
          0.3341047774694439,
          0.36274326997254247,
          0.3912513603862827,
          0.41626418732077336,
          0.44092602545400045,
          0.4655756764760725,
          0.48881771615974384,
          0.5114467441523195,
          0.5335249147206897,
          0.5548706399086455,
          0.5760554952293554,
          0.5969844212158106,
          0.6175879513344278,
          0.6366169066918209,
          0.6555861452045546,
          0.6741093354490159,
          0.692316879514563,
          0.7104488634909493,
          0.727806965908994,
          0.7450882895267623,
          0.7603599585150737,
          0.7755255996363366,
          0.7895688078202255,
          0.8032585897806198,
          0.8155687907582698,
          0.8262690743523464,
          0.8369120785239945,
          0.8474783038953663,
          0.8571049029966887,
          0.8664853224526805,
          0.8758498986641707,
          0.8848610486521664,
          0.8929484156146142,
          0.9008310391096583,
          0.9087063503380095,
          0.91621361080948,
          0.9235526891470118,
          0.9303604094381863,
          0.9371669110182452,
          0.9438259485533289,
          0.9500279694201006,
          0.9558997195745722,
          0.9607038787918671,
          0.9642576404046607,
          0.9676944057503664,
          0.9711019220293001,
          0.9744948137748479,
          0.9778742996981252,
          0.9812367236657855,
          0.9845211501220539,
          0.9877141732446598,
          0.9901552516090033,
          0.9925439253953803,
          0.994799759670168,
          0.9970178139003752,
          0.9989324090628233,
          1
         ],
         "yaxis": "y5"
        },
        {
         "line": {
          "color": "red"
         },
         "name": "s4",
         "showlegend": false,
         "type": "scatter",
         "x": [
          1,
          2,
          3,
          4,
          5,
          6,
          7,
          8,
          9,
          10,
          11,
          12,
          13,
          14,
          15,
          16,
          17,
          18,
          19,
          20,
          21,
          22,
          23,
          24,
          25,
          26,
          27,
          28,
          29,
          30,
          31,
          32,
          33,
          34,
          35,
          36,
          37,
          38,
          39,
          40,
          41,
          42,
          43,
          44,
          45,
          46,
          47,
          48,
          49,
          50,
          51,
          52,
          53,
          54,
          55,
          56,
          57,
          58,
          59,
          60,
          61,
          62,
          63,
          64
         ],
         "xaxis": "x5",
         "y": [
          0.17817306318746726,
          0.2646193435233243,
          0.32969858578162947,
          0.3916361125660683,
          0.45357165531800075,
          0.510017380124756,
          0.5652260606637779,
          0.6099421852927638,
          0.6484691205180705,
          0.6862877561385965,
          0.7237085932415916,
          0.7572764392171801,
          0.7899673428249449,
          0.8199401218989572,
          0.8457871053759345,
          0.867785065790518,
          0.888663039855245,
          0.9063437455359269,
          0.9230334269796676,
          0.9374950399187341,
          0.950069837944225,
          0.9582509959843183,
          0.9656444931193754,
          0.9728425630525531,
          0.9789900877735982,
          0.9845056981413585,
          0.9884539228290717,
          0.9919438360078092,
          0.9947244575655129,
          0.9970189911591513,
          0.9990992492420997,
          1.0000000000000002,
          1.0000000000000002,
          1.0000000000000002,
          1.0000000000000002,
          1.0000000000000002,
          1.0000000000000002,
          1.0000000000000002,
          1.0000000000000002,
          1.0000000000000002,
          1.0000000000000002,
          1.0000000000000002,
          1.0000000000000002,
          1.0000000000000002,
          1.0000000000000002,
          1.0000000000000002,
          1.0000000000000002,
          1.0000000000000002,
          1.0000000000000002,
          1.0000000000000002,
          1.0000000000000002,
          1.0000000000000002,
          1.0000000000000002,
          1.0000000000000002,
          1.0000000000000002,
          1.0000000000000002,
          1.0000000000000002,
          1.0000000000000002,
          1.0000000000000002,
          1.0000000000000002,
          1.0000000000000002,
          1.0000000000000002,
          1.0000000000000002,
          1.0000000000000002
         ],
         "yaxis": "y5"
        },
        {
         "line": {
          "color": "navy"
         },
         "name": "n4",
         "showlegend": false,
         "type": "scatter",
         "x": [
          1,
          2,
          3,
          4,
          5,
          6,
          7,
          8,
          9,
          10,
          11,
          12,
          13,
          14,
          15,
          16,
          17,
          18,
          19,
          20,
          21,
          22,
          23,
          24,
          25,
          26,
          27,
          28,
          29,
          30,
          31,
          32,
          33,
          34,
          35,
          36,
          37,
          38,
          39,
          40,
          41,
          42,
          43,
          44,
          45,
          46,
          47,
          48,
          49,
          50,
          51,
          52,
          53,
          54,
          55,
          56,
          57,
          58,
          59,
          60,
          61,
          62,
          63,
          64
         ],
         "xaxis": "x5",
         "y": [
          0.17628683848337515,
          0.33083665805933743,
          0.44809303979225124,
          0.5001163730461698,
          0.540070813456756,
          0.5775658424034058,
          0.614974736969426,
          0.6460857421943008,
          0.6763757218335994,
          0.700277096135132,
          0.722571239547043,
          0.7408317282405311,
          0.7582244588653353,
          0.7742463699856503,
          0.7897184871870526,
          0.8044547968603101,
          0.8169305372036381,
          0.8279658174794147,
          0.8384210651707383,
          0.8487791826030541,
          0.858220976837182,
          0.8676343650521661,
          0.8759701571860812,
          0.8838862732952263,
          0.8912067793255493,
          0.8980599605247964,
          0.9049039784920617,
          0.9107684469604641,
          0.9161811680921599,
          0.9214546080977312,
          0.9267133869321315,
          0.9319217679906313,
          0.9370440146685015,
          0.9421021187224986,
          0.9467973587900133,
          0.9512314467460444,
          0.9555051781423927,
          0.9591017466952801,
          0.9624728997414134,
          0.9657570020837187,
          0.9689494721062053,
          0.9717708312334258,
          0.9745821108054662,
          0.9771588116387705,
          0.9794853562389695,
          0.9815296732941267,
          0.9834851069990596,
          0.9851225765542213,
          0.9866198486600603,
          0.9881143717963047,
          0.9894650321904336,
          0.9907368887895184,
          0.9919226110079735,
          0.9930212825226008,
          0.9940933806644806,
          0.9950665159009562,
          0.9959718432207658,
          0.9968139442399004,
          0.9976203086543057,
          0.9983964344031708,
          0.9991056685585682,
          0.9995867382376168,
          0.9998359781475239,
          0.9999999999999996
         ],
         "yaxis": "y5"
        },
        {
         "line": {
          "color": "silver"
         },
         "name": "r4",
         "showlegend": false,
         "type": "scatter",
         "x": [
          1,
          2,
          3,
          4,
          5,
          6,
          7,
          8,
          9,
          10,
          11,
          12,
          13,
          14,
          15,
          16,
          17,
          18,
          19,
          20,
          21,
          22,
          23,
          24,
          25,
          26,
          27,
          28,
          29,
          30,
          31,
          32,
          33,
          34,
          35,
          36,
          37,
          38,
          39,
          40,
          41,
          42,
          43,
          44,
          45,
          46,
          47,
          48,
          49,
          50,
          51,
          52,
          53,
          54,
          55,
          56,
          57,
          58,
          59,
          60,
          61,
          62,
          63,
          64
         ],
         "xaxis": "x5",
         "y": [
          0.09118867986200462,
          0.170345850184083,
          0.22502845189030496,
          0.2775641616126799,
          0.32463681124882254,
          0.3605114505858266,
          0.39108646106028233,
          0.41935857701919277,
          0.4459844948340876,
          0.4697102512977925,
          0.49188786835169207,
          0.5121681974724618,
          0.5315318260022048,
          0.549611776556831,
          0.5667809694740189,
          0.5839026187624988,
          0.6009752386838736,
          0.6180181438373058,
          0.6348991035054513,
          0.6513491990384302,
          0.6672763146556209,
          0.6831529151673091,
          0.6988096263962228,
          0.7120148692698786,
          0.7247818193163822,
          0.7374551678438669,
          0.7499814282700361,
          0.7623145427045789,
          0.774580798911251,
          0.7863225894637377,
          0.7978415192566555,
          0.8092831906529228,
          0.8200503368168948,
          0.8303791901537146,
          0.8404034671191237,
          0.8502464840000834,
          0.8596185218091541,
          0.8681526031622457,
          0.8759378723631859,
          0.8836755979354181,
          0.8910938897522681,
          0.8981452041850281,
          0.9047923977737697,
          0.9113593614890666,
          0.9178594669764928,
          0.924300142928034,
          0.9303872131410591,
          0.936165249767482,
          0.9419046571955797,
          0.9476321787165004,
          0.9531977547521343,
          0.9584097250492523,
          0.9636008950088104,
          0.9687088636181296,
          0.9733072239572345,
          0.9776797520599763,
          0.9818606199094888,
          0.9853194188979981,
          0.9887455316417707,
          0.9918581535837496,
          0.9940808182258501,
          0.9961578805050323,
          0.9980952833748846,
          1.0000000000000002
         ],
         "yaxis": "y5"
        },
        {
         "line": {
          "color": "black"
         },
         "name": "r3",
         "showlegend": false,
         "type": "scatter",
         "x": [
          1,
          2,
          3,
          4,
          5,
          6,
          7,
          8,
          9,
          10,
          11,
          12,
          13,
          14,
          15,
          16,
          17,
          18,
          19,
          20,
          21,
          22,
          23,
          24,
          25,
          26,
          27,
          28,
          29,
          30,
          31,
          32,
          33,
          34,
          35,
          36,
          37,
          38,
          39,
          40,
          41,
          42,
          43,
          44,
          45,
          46,
          47,
          48,
          49,
          50,
          51,
          52,
          53,
          54,
          55,
          56,
          57,
          58,
          59,
          60,
          61,
          62,
          63,
          64
         ],
         "xaxis": "x6",
         "y": [
          0.09054115520223427,
          0.16035043703229435,
          0.21739495725282398,
          0.2611358493955135,
          0.3022896030640063,
          0.34208749916707465,
          0.38096990170032646,
          0.41621640413826266,
          0.4427019807688407,
          0.4664961221894202,
          0.4875698570845006,
          0.5084552784288277,
          0.5288452902780957,
          0.5485892417917021,
          0.5681825424647058,
          0.5871761369068487,
          0.6057235730902835,
          0.6240508272759143,
          0.64154370757513,
          0.6587671546401909,
          0.6746521269291276,
          0.6898678618300023,
          0.7046606155245693,
          0.7193896323250352,
          0.7336377252881924,
          0.7473353632568396,
          0.7609142188319347,
          0.7741309329632732,
          0.7865509359183473,
          0.7980438567774047,
          0.8088095976173991,
          0.8190625461730342,
          0.8292285807821677,
          0.8390788280523455,
          0.848807395797421,
          0.8582462503874914,
          0.8668333483018463,
          0.8746961633286883,
          0.8821765569909233,
          0.8894831227601552,
          0.896560815136933,
          0.9034386054367571,
          0.9101164936596277,
          0.9166929822782464,
          0.9232607795022149,
          0.9298256795946334,
          0.9362862829512499,
          0.9424166133111606,
          0.9480138714658616,
          0.953301136544707,
          0.9583566310995483,
          0.9633976399966393,
          0.9682879980531276,
          0.972961071243362,
          0.9765564114969768,
          0.9799779238575885,
          0.9833443907187492,
          0.9865631038708573,
          0.9897557428390149,
          0.9927339940724687,
          0.9948489001040068,
          0.9967001671644903,
          0.998400783384371,
          0.9999999999999999
         ],
         "yaxis": "y6"
        },
        {
         "line": {
          "color": "blue"
         },
         "name": "n3",
         "showlegend": false,
         "type": "scatter",
         "x": [
          1,
          2,
          3,
          4,
          5,
          6,
          7,
          8,
          9,
          10,
          11,
          12,
          13,
          14,
          15,
          16,
          17,
          18,
          19,
          20,
          21,
          22,
          23,
          24,
          25,
          26,
          27,
          28,
          29,
          30,
          31,
          32,
          33,
          34,
          35,
          36,
          37,
          38,
          39,
          40,
          41,
          42,
          43,
          44,
          45,
          46,
          47,
          48,
          49,
          50,
          51,
          52,
          53,
          54,
          55,
          56,
          57,
          58,
          59,
          60,
          61,
          62,
          63,
          64
         ],
         "xaxis": "x6",
         "y": [
          0.197866468104344,
          0.34993570151827996,
          0.45923932141832763,
          0.5169123052287867,
          0.5567051824386315,
          0.5952158890381062,
          0.6268161709256893,
          0.6554152238289984,
          0.6796093083686802,
          0.7028840290929261,
          0.7239021295429205,
          0.7406140362540865,
          0.7572290678524689,
          0.7731431795171823,
          0.7890098033815115,
          0.8037006293083309,
          0.817208059249579,
          0.8306585038303661,
          0.843453616765853,
          0.8557301629211457,
          0.8665079940963167,
          0.8762847824393915,
          0.8859741932297595,
          0.8952039221124095,
          0.904211408089262,
          0.9121817605057263,
          0.9188338515835284,
          0.9250889446501196,
          0.9313421382046955,
          0.9368279289050645,
          0.9414760348066584,
          0.9460082704753151,
          0.9501321110606687,
          0.9534505585515084,
          0.9566683319055338,
          0.95981202429096,
          0.9627334737705887,
          0.9654136852242663,
          0.9679913230291143,
          0.9705043774254398,
          0.9729984367016118,
          0.9754924959777838,
          0.9778592879489264,
          0.9799468516538106,
          0.9820021236544336,
          0.9839928122465343,
          0.9859683047425122,
          0.9878317260295836,
          0.9896837502445628,
          0.9912793403374679,
          0.9926014007001607,
          0.9936309362124875,
          0.9945427019798619,
          0.9952816121538383,
          0.9959768335514612,
          0.9966359642207923,
          0.9972457075777239,
          0.9978060636222561,
          0.9983436255226039,
          0.9987995084062911,
          0.9992230995857171,
          0.999604901500805,
          0.999834742454664,
          1.0000000000000007
         ],
         "yaxis": "y6"
        },
        {
         "line": {
          "color": "maroon"
         },
         "name": "s3",
         "showlegend": false,
         "type": "scatter",
         "x": [
          1,
          2,
          3,
          4,
          5,
          6,
          7,
          8,
          9,
          10,
          11,
          12,
          13,
          14,
          15,
          16,
          17,
          18,
          19,
          20,
          21,
          22,
          23,
          24,
          25,
          26,
          27,
          28,
          29,
          30,
          31,
          32,
          33,
          34,
          35,
          36,
          37,
          38,
          39,
          40,
          41,
          42,
          43,
          44,
          45,
          46,
          47,
          48,
          49,
          50,
          51,
          52,
          53,
          54,
          55,
          56,
          57,
          58,
          59,
          60,
          61,
          62,
          63,
          64
         ],
         "xaxis": "x6",
         "y": [
          0.11494653472247937,
          0.2061174123197766,
          0.2948747829913109,
          0.3817697453401672,
          0.46113665720577757,
          0.524691613499084,
          0.5869984294778939,
          0.6409102493448897,
          0.6814846117150929,
          0.7196955670325409,
          0.7577954313272327,
          0.7895304334945967,
          0.8175754711021753,
          0.8376981940084908,
          0.8553769144141691,
          0.8729075134561723,
          0.8891442288213678,
          0.9051827229498804,
          0.9211362651198148,
          0.9329140917873238,
          0.9423982155732187,
          0.9517189702080014,
          0.9609721989269913,
          0.9691646172914264,
          0.9759978043186089,
          0.9824715792133447,
          0.9874314666411084,
          0.9905441935336311,
          0.9934543426787747,
          0.9960203274789089,
          0.9982704652535597,
          0.9999999999999999,
          0.9999999999999999,
          0.9999999999999999,
          0.9999999999999999,
          0.9999999999999999,
          0.9999999999999999,
          0.9999999999999999,
          0.9999999999999999,
          0.9999999999999999,
          0.9999999999999999,
          0.9999999999999999,
          0.9999999999999999,
          0.9999999999999999,
          0.9999999999999999,
          0.9999999999999999,
          0.9999999999999999,
          0.9999999999999999,
          0.9999999999999999,
          0.9999999999999999,
          0.9999999999999999,
          0.9999999999999999,
          0.9999999999999999,
          0.9999999999999999,
          0.9999999999999999,
          0.9999999999999999,
          0.9999999999999999,
          0.9999999999999999,
          0.9999999999999999,
          0.9999999999999999,
          0.9999999999999999,
          0.9999999999999999,
          0.9999999999999999,
          0.9999999999999999
         ],
         "yaxis": "y6"
        },
        {
         "line": {
          "color": "brown"
         },
         "name": "k2",
         "showlegend": false,
         "type": "scatter",
         "x": [
          1,
          2,
          3,
          4,
          5,
          6,
          7,
          8,
          9,
          10,
          11,
          12,
          13,
          14,
          15,
          16,
          17,
          18,
          19,
          20,
          21,
          22,
          23,
          24,
          25,
          26,
          27,
          28,
          29,
          30,
          31,
          32,
          33,
          34,
          35,
          36,
          37,
          38,
          39,
          40,
          41,
          42,
          43,
          44,
          45,
          46,
          47,
          48,
          49,
          50,
          51,
          52,
          53,
          54,
          55,
          56,
          57,
          58,
          59,
          60,
          61,
          62,
          63,
          64
         ],
         "xaxis": "x6",
         "y": [
          0,
          0,
          0,
          0,
          0,
          0,
          0,
          0,
          0,
          0,
          0,
          0,
          0,
          0,
          0,
          0,
          0,
          0,
          0,
          0,
          0,
          0,
          0,
          0,
          0,
          0,
          0,
          0,
          0,
          0,
          0,
          0,
          0,
          0,
          0,
          0,
          0,
          0,
          0,
          0,
          0,
          0,
          0,
          0,
          0,
          0,
          0,
          0,
          0,
          0,
          0,
          0,
          0,
          0,
          0,
          0,
          0,
          0,
          0,
          0,
          0,
          0,
          0,
          0
         ],
         "yaxis": "y6"
        },
        {
         "line": {
          "color": "blueviolet"
         },
         "name": "q2",
         "showlegend": false,
         "type": "scatter",
         "x": [
          1,
          2,
          3,
          4,
          5,
          6,
          7,
          8,
          9,
          10,
          11,
          12,
          13,
          14,
          15,
          16,
          17,
          18,
          19,
          20,
          21,
          22,
          23,
          24,
          25,
          26,
          27,
          28,
          29,
          30,
          31,
          32,
          33,
          34,
          35,
          36,
          37,
          38,
          39,
          40,
          41,
          42,
          43,
          44,
          45,
          46,
          47,
          48,
          49,
          50,
          51,
          52,
          53,
          54,
          55,
          56,
          57,
          58,
          59,
          60,
          61,
          62,
          63,
          64
         ],
         "xaxis": "x6",
         "y": [
          0.07709283691909528,
          0.1294084307829659,
          0.16780312624607213,
          0.20539782772794185,
          0.24209974595802414,
          0.2723314934307704,
          0.3021795447306979,
          0.33101443750893406,
          0.3593302119357095,
          0.38652499166150467,
          0.411836399976928,
          0.43682429975448456,
          0.4617996604414261,
          0.48496688426168577,
          0.5080764282651165,
          0.5303232828342357,
          0.5518478857839314,
          0.5733549340067661,
          0.59451841114675,
          0.615553989562461,
          0.6346184229334952,
          0.6535098168540425,
          0.6723410231396378,
          0.6901264692679429,
          0.7075257114053061,
          0.7244911010073906,
          0.7410803178910252,
          0.757596808049093,
          0.773925211847936,
          0.7895714891173232,
          0.8035325126080556,
          0.817338051375162,
          0.8290194681920888,
          0.8398055939391051,
          0.8496287175268901,
          0.8589452618538292,
          0.8681414309108646,
          0.877332584331654,
          0.8857262515893297,
          0.8937462539466787,
          0.9016534044884928,
          0.909410085942927,
          0.9170539155818264,
          0.9243817601372278,
          0.9316920499657683,
          0.9388142534350838,
          0.9454524480066607,
          0.9513382971413381,
          0.9570611380980205,
          0.9613896321783159,
          0.9650134293660486,
          0.9685945936456904,
          0.9719500542942624,
          0.9752854523978504,
          0.9785732019571013,
          0.9817506075189403,
          0.9848452550827204,
          0.9877768944685056,
          0.9900891027779102,
          0.9923912798148228,
          0.9946708864886283,
          0.9968602117100059,
          0.9988639583902817,
          1
         ],
         "yaxis": "y6"
        },
        {
         "line": {
          "color": "red"
         },
         "name": "s4",
         "showlegend": false,
         "type": "scatter",
         "x": [
          1,
          2,
          3,
          4,
          5,
          6,
          7,
          8,
          9,
          10,
          11,
          12,
          13,
          14,
          15,
          16,
          17,
          18,
          19,
          20,
          21,
          22,
          23,
          24,
          25,
          26,
          27,
          28,
          29,
          30,
          31,
          32,
          33,
          34,
          35,
          36,
          37,
          38,
          39,
          40,
          41,
          42,
          43,
          44,
          45,
          46,
          47,
          48,
          49,
          50,
          51,
          52,
          53,
          54,
          55,
          56,
          57,
          58,
          59,
          60,
          61,
          62,
          63,
          64
         ],
         "xaxis": "x6",
         "y": [
          0.16829861185150435,
          0.25533402989530246,
          0.3247222636842442,
          0.39211250186579094,
          0.45549182250463777,
          0.5094504978996524,
          0.558914216261168,
          0.6065803782757958,
          0.6458472823421539,
          0.6850310254387273,
          0.7238927863189542,
          0.7589931125658356,
          0.792280956137919,
          0.8234641874746783,
          0.8479518945774781,
          0.8697997739727485,
          0.8901614175746847,
          0.9088278567925451,
          0.9247030726912167,
          0.939205066422159,
          0.9517964901806083,
          0.9603727317312405,
          0.968458536793398,
          0.9746081838923596,
          0.9802418065121433,
          0.985176024052711,
          0.9893191462140433,
          0.991807578309913,
          0.9942832164104312,
          0.9966330468899928,
          0.9989658187090856,
          0.9999999999999998,
          0.9999999999999998,
          0.9999999999999998,
          0.9999999999999998,
          0.9999999999999998,
          0.9999999999999998,
          0.9999999999999998,
          0.9999999999999998,
          0.9999999999999998,
          0.9999999999999998,
          0.9999999999999998,
          0.9999999999999998,
          0.9999999999999998,
          0.9999999999999998,
          0.9999999999999998,
          0.9999999999999998,
          0.9999999999999998,
          0.9999999999999998,
          0.9999999999999998,
          0.9999999999999998,
          0.9999999999999998,
          0.9999999999999998,
          0.9999999999999998,
          0.9999999999999998,
          0.9999999999999998,
          0.9999999999999998,
          0.9999999999999998,
          0.9999999999999998,
          0.9999999999999998,
          0.9999999999999998,
          0.9999999999999998,
          0.9999999999999998,
          0.9999999999999998
         ],
         "yaxis": "y6"
        },
        {
         "line": {
          "color": "navy"
         },
         "name": "n4",
         "showlegend": false,
         "type": "scatter",
         "x": [
          1,
          2,
          3,
          4,
          5,
          6,
          7,
          8,
          9,
          10,
          11,
          12,
          13,
          14,
          15,
          16,
          17,
          18,
          19,
          20,
          21,
          22,
          23,
          24,
          25,
          26,
          27,
          28,
          29,
          30,
          31,
          32,
          33,
          34,
          35,
          36,
          37,
          38,
          39,
          40,
          41,
          42,
          43,
          44,
          45,
          46,
          47,
          48,
          49,
          50,
          51,
          52,
          53,
          54,
          55,
          56,
          57,
          58,
          59,
          60,
          61,
          62,
          63,
          64
         ],
         "xaxis": "x6",
         "y": [
          0.16020352170432708,
          0.31468569978778516,
          0.43131339156293574,
          0.48264224196425587,
          0.5224025316306321,
          0.5596610856195434,
          0.5957985788095908,
          0.6296329804286386,
          0.6626708388484935,
          0.6890295350351168,
          0.712689818211141,
          0.7325463617643531,
          0.7512916783853578,
          0.7673012133024681,
          0.7825456733936871,
          0.7970427596189967,
          0.8109458802982416,
          0.823061204019298,
          0.8346454989408927,
          0.8458403727428819,
          0.8568130011584296,
          0.8666940703750835,
          0.87543441105956,
          0.883675191317876,
          0.8900986730180335,
          0.8963058096517436,
          0.9024637769521702,
          0.9081792202530452,
          0.9138690955006128,
          0.9194881669082521,
          0.9250541354359453,
          0.9304863633771073,
          0.935835986838353,
          0.9409358300865185,
          0.9458055608549172,
          0.9499397183973946,
          0.9537945941268217,
          0.9575452308696877,
          0.961181794759336,
          0.964666917102471,
          0.9681304049389613,
          0.9715191553888607,
          0.9743591760793161,
          0.9769828517033241,
          0.9795455573540606,
          0.9819646885516092,
          0.9840652024694807,
          0.9857054914278185,
          0.987170737559667,
          0.9885396117982799,
          0.9898494828369525,
          0.9910275800624254,
          0.9921840427812535,
          0.993175296540249,
          0.9941626167525819,
          0.9950653657116671,
          0.995942546617445,
          0.99678629237659,
          0.9976162707224157,
          0.9984403487482473,
          0.9990244804276553,
          0.999565343093774,
          0.9998190568535169,
          1.0000000000000002
         ],
         "yaxis": "y6"
        },
        {
         "line": {
          "color": "silver"
         },
         "name": "r4",
         "showlegend": false,
         "type": "scatter",
         "x": [
          1,
          2,
          3,
          4,
          5,
          6,
          7,
          8,
          9,
          10,
          11,
          12,
          13,
          14,
          15,
          16,
          17,
          18,
          19,
          20,
          21,
          22,
          23,
          24,
          25,
          26,
          27,
          28,
          29,
          30,
          31,
          32,
          33,
          34,
          35,
          36,
          37,
          38,
          39,
          40,
          41,
          42,
          43,
          44,
          45,
          46,
          47,
          48,
          49,
          50,
          51,
          52,
          53,
          54,
          55,
          56,
          57,
          58,
          59,
          60,
          61,
          62,
          63,
          64
         ],
         "xaxis": "x6",
         "y": [
          0.07825999030486154,
          0.1548694278976122,
          0.21080680800949292,
          0.2656170539269772,
          0.3093611617511919,
          0.34802870474734654,
          0.37556765630436795,
          0.400804755970986,
          0.42602698579335085,
          0.45106780351582604,
          0.47507962801597625,
          0.4941160026289886,
          0.5127895530422215,
          0.5314006501095908,
          0.5497738296689081,
          0.5680191285676475,
          0.586228739840179,
          0.6043818457045481,
          0.622359487406729,
          0.639757205183033,
          0.6570657038938176,
          0.6739013415573487,
          0.6901719251392563,
          0.7044707673731827,
          0.7180528831141024,
          0.7316260769484701,
          0.745181426969734,
          0.758591052517316,
          0.771150122973612,
          0.7834861457661092,
          0.7956586002718207,
          0.8075425797990191,
          0.819277860883685,
          0.8300228103410844,
          0.8406279832625032,
          0.8508227484825323,
          0.8595364772149375,
          0.8680985335359597,
          0.8763275053457089,
          0.884235288519588,
          0.8917148201789734,
          0.8991646121498523,
          0.9061653348242831,
          0.9129876193676748,
          0.9195600905276119,
          0.9257727114566203,
          0.9318396079119469,
          0.9375853157314031,
          0.9431436635132685,
          0.9486306360427182,
          0.9539867539427394,
          0.9588878546086109,
          0.9637473197105735,
          0.9685413574978217,
          0.9732342803441477,
          0.9777874266544933,
          0.9821799786469037,
          0.9857071057037748,
          0.9891093260689188,
          0.9918156377230105,
          0.9942156305854852,
          0.9964728729431288,
          0.9983494472878891,
          1
         ],
         "yaxis": "y6"
        }
       ],
       "layout": {
        "annotations": [
         {
          "font": {
           "size": 16
          },
          "showarrow": false,
          "text": "All Games",
          "x": 0.14444444444444446,
          "xanchor": "center",
          "xref": "paper",
          "y": 1,
          "yanchor": "bottom",
          "yref": "paper"
         },
         {
          "font": {
           "size": 16
          },
          "showarrow": false,
          "text": "Elo 0-1250",
          "x": 0.5,
          "xanchor": "center",
          "xref": "paper",
          "y": 1,
          "yanchor": "bottom",
          "yref": "paper"
         },
         {
          "font": {
           "size": 16
          },
          "showarrow": false,
          "text": "Elo 1250-1500",
          "x": 0.8555555555555556,
          "xanchor": "center",
          "xref": "paper",
          "y": 1,
          "yanchor": "bottom",
          "yref": "paper"
         },
         {
          "font": {
           "size": 16
          },
          "showarrow": false,
          "text": "Elo 1500-1750",
          "x": 0.14444444444444446,
          "xanchor": "center",
          "xref": "paper",
          "y": 0.375,
          "yanchor": "bottom",
          "yref": "paper"
         },
         {
          "font": {
           "size": 16
          },
          "showarrow": false,
          "text": "Elo 1750-2000",
          "x": 0.5,
          "xanchor": "center",
          "xref": "paper",
          "y": 0.375,
          "yanchor": "bottom",
          "yref": "paper"
         },
         {
          "font": {
           "size": 16
          },
          "showarrow": false,
          "text": "Elo 2000+",
          "x": 0.8555555555555556,
          "xanchor": "center",
          "xref": "paper",
          "y": 0.375,
          "yanchor": "bottom",
          "yref": "paper"
         }
        ],
        "template": {
         "data": {
          "bar": [
           {
            "error_x": {
             "color": "#2a3f5f"
            },
            "error_y": {
             "color": "#2a3f5f"
            },
            "marker": {
             "line": {
              "color": "#E5ECF6",
              "width": 0.5
             }
            },
            "type": "bar"
           }
          ],
          "barpolar": [
           {
            "marker": {
             "line": {
              "color": "#E5ECF6",
              "width": 0.5
             }
            },
            "type": "barpolar"
           }
          ],
          "carpet": [
           {
            "aaxis": {
             "endlinecolor": "#2a3f5f",
             "gridcolor": "white",
             "linecolor": "white",
             "minorgridcolor": "white",
             "startlinecolor": "#2a3f5f"
            },
            "baxis": {
             "endlinecolor": "#2a3f5f",
             "gridcolor": "white",
             "linecolor": "white",
             "minorgridcolor": "white",
             "startlinecolor": "#2a3f5f"
            },
            "type": "carpet"
           }
          ],
          "choropleth": [
           {
            "colorbar": {
             "outlinewidth": 0,
             "ticks": ""
            },
            "type": "choropleth"
           }
          ],
          "contour": [
           {
            "colorbar": {
             "outlinewidth": 0,
             "ticks": ""
            },
            "colorscale": [
             [
              0,
              "#0d0887"
             ],
             [
              0.1111111111111111,
              "#46039f"
             ],
             [
              0.2222222222222222,
              "#7201a8"
             ],
             [
              0.3333333333333333,
              "#9c179e"
             ],
             [
              0.4444444444444444,
              "#bd3786"
             ],
             [
              0.5555555555555556,
              "#d8576b"
             ],
             [
              0.6666666666666666,
              "#ed7953"
             ],
             [
              0.7777777777777778,
              "#fb9f3a"
             ],
             [
              0.8888888888888888,
              "#fdca26"
             ],
             [
              1,
              "#f0f921"
             ]
            ],
            "type": "contour"
           }
          ],
          "contourcarpet": [
           {
            "colorbar": {
             "outlinewidth": 0,
             "ticks": ""
            },
            "type": "contourcarpet"
           }
          ],
          "heatmap": [
           {
            "colorbar": {
             "outlinewidth": 0,
             "ticks": ""
            },
            "colorscale": [
             [
              0,
              "#0d0887"
             ],
             [
              0.1111111111111111,
              "#46039f"
             ],
             [
              0.2222222222222222,
              "#7201a8"
             ],
             [
              0.3333333333333333,
              "#9c179e"
             ],
             [
              0.4444444444444444,
              "#bd3786"
             ],
             [
              0.5555555555555556,
              "#d8576b"
             ],
             [
              0.6666666666666666,
              "#ed7953"
             ],
             [
              0.7777777777777778,
              "#fb9f3a"
             ],
             [
              0.8888888888888888,
              "#fdca26"
             ],
             [
              1,
              "#f0f921"
             ]
            ],
            "type": "heatmap"
           }
          ],
          "heatmapgl": [
           {
            "colorbar": {
             "outlinewidth": 0,
             "ticks": ""
            },
            "colorscale": [
             [
              0,
              "#0d0887"
             ],
             [
              0.1111111111111111,
              "#46039f"
             ],
             [
              0.2222222222222222,
              "#7201a8"
             ],
             [
              0.3333333333333333,
              "#9c179e"
             ],
             [
              0.4444444444444444,
              "#bd3786"
             ],
             [
              0.5555555555555556,
              "#d8576b"
             ],
             [
              0.6666666666666666,
              "#ed7953"
             ],
             [
              0.7777777777777778,
              "#fb9f3a"
             ],
             [
              0.8888888888888888,
              "#fdca26"
             ],
             [
              1,
              "#f0f921"
             ]
            ],
            "type": "heatmapgl"
           }
          ],
          "histogram": [
           {
            "marker": {
             "colorbar": {
              "outlinewidth": 0,
              "ticks": ""
             }
            },
            "type": "histogram"
           }
          ],
          "histogram2d": [
           {
            "colorbar": {
             "outlinewidth": 0,
             "ticks": ""
            },
            "colorscale": [
             [
              0,
              "#0d0887"
             ],
             [
              0.1111111111111111,
              "#46039f"
             ],
             [
              0.2222222222222222,
              "#7201a8"
             ],
             [
              0.3333333333333333,
              "#9c179e"
             ],
             [
              0.4444444444444444,
              "#bd3786"
             ],
             [
              0.5555555555555556,
              "#d8576b"
             ],
             [
              0.6666666666666666,
              "#ed7953"
             ],
             [
              0.7777777777777778,
              "#fb9f3a"
             ],
             [
              0.8888888888888888,
              "#fdca26"
             ],
             [
              1,
              "#f0f921"
             ]
            ],
            "type": "histogram2d"
           }
          ],
          "histogram2dcontour": [
           {
            "colorbar": {
             "outlinewidth": 0,
             "ticks": ""
            },
            "colorscale": [
             [
              0,
              "#0d0887"
             ],
             [
              0.1111111111111111,
              "#46039f"
             ],
             [
              0.2222222222222222,
              "#7201a8"
             ],
             [
              0.3333333333333333,
              "#9c179e"
             ],
             [
              0.4444444444444444,
              "#bd3786"
             ],
             [
              0.5555555555555556,
              "#d8576b"
             ],
             [
              0.6666666666666666,
              "#ed7953"
             ],
             [
              0.7777777777777778,
              "#fb9f3a"
             ],
             [
              0.8888888888888888,
              "#fdca26"
             ],
             [
              1,
              "#f0f921"
             ]
            ],
            "type": "histogram2dcontour"
           }
          ],
          "mesh3d": [
           {
            "colorbar": {
             "outlinewidth": 0,
             "ticks": ""
            },
            "type": "mesh3d"
           }
          ],
          "parcoords": [
           {
            "line": {
             "colorbar": {
              "outlinewidth": 0,
              "ticks": ""
             }
            },
            "type": "parcoords"
           }
          ],
          "pie": [
           {
            "automargin": true,
            "type": "pie"
           }
          ],
          "scatter": [
           {
            "marker": {
             "colorbar": {
              "outlinewidth": 0,
              "ticks": ""
             }
            },
            "type": "scatter"
           }
          ],
          "scatter3d": [
           {
            "line": {
             "colorbar": {
              "outlinewidth": 0,
              "ticks": ""
             }
            },
            "marker": {
             "colorbar": {
              "outlinewidth": 0,
              "ticks": ""
             }
            },
            "type": "scatter3d"
           }
          ],
          "scattercarpet": [
           {
            "marker": {
             "colorbar": {
              "outlinewidth": 0,
              "ticks": ""
             }
            },
            "type": "scattercarpet"
           }
          ],
          "scattergeo": [
           {
            "marker": {
             "colorbar": {
              "outlinewidth": 0,
              "ticks": ""
             }
            },
            "type": "scattergeo"
           }
          ],
          "scattergl": [
           {
            "marker": {
             "colorbar": {
              "outlinewidth": 0,
              "ticks": ""
             }
            },
            "type": "scattergl"
           }
          ],
          "scattermapbox": [
           {
            "marker": {
             "colorbar": {
              "outlinewidth": 0,
              "ticks": ""
             }
            },
            "type": "scattermapbox"
           }
          ],
          "scatterpolar": [
           {
            "marker": {
             "colorbar": {
              "outlinewidth": 0,
              "ticks": ""
             }
            },
            "type": "scatterpolar"
           }
          ],
          "scatterpolargl": [
           {
            "marker": {
             "colorbar": {
              "outlinewidth": 0,
              "ticks": ""
             }
            },
            "type": "scatterpolargl"
           }
          ],
          "scatterternary": [
           {
            "marker": {
             "colorbar": {
              "outlinewidth": 0,
              "ticks": ""
             }
            },
            "type": "scatterternary"
           }
          ],
          "surface": [
           {
            "colorbar": {
             "outlinewidth": 0,
             "ticks": ""
            },
            "colorscale": [
             [
              0,
              "#0d0887"
             ],
             [
              0.1111111111111111,
              "#46039f"
             ],
             [
              0.2222222222222222,
              "#7201a8"
             ],
             [
              0.3333333333333333,
              "#9c179e"
             ],
             [
              0.4444444444444444,
              "#bd3786"
             ],
             [
              0.5555555555555556,
              "#d8576b"
             ],
             [
              0.6666666666666666,
              "#ed7953"
             ],
             [
              0.7777777777777778,
              "#fb9f3a"
             ],
             [
              0.8888888888888888,
              "#fdca26"
             ],
             [
              1,
              "#f0f921"
             ]
            ],
            "type": "surface"
           }
          ],
          "table": [
           {
            "cells": {
             "fill": {
              "color": "#EBF0F8"
             },
             "line": {
              "color": "white"
             }
            },
            "header": {
             "fill": {
              "color": "#C8D4E3"
             },
             "line": {
              "color": "white"
             }
            },
            "type": "table"
           }
          ]
         },
         "layout": {
          "annotationdefaults": {
           "arrowcolor": "#2a3f5f",
           "arrowhead": 0,
           "arrowwidth": 1
          },
          "autotypenumbers": "strict",
          "coloraxis": {
           "colorbar": {
            "outlinewidth": 0,
            "ticks": ""
           }
          },
          "colorscale": {
           "diverging": [
            [
             0,
             "#8e0152"
            ],
            [
             0.1,
             "#c51b7d"
            ],
            [
             0.2,
             "#de77ae"
            ],
            [
             0.3,
             "#f1b6da"
            ],
            [
             0.4,
             "#fde0ef"
            ],
            [
             0.5,
             "#f7f7f7"
            ],
            [
             0.6,
             "#e6f5d0"
            ],
            [
             0.7,
             "#b8e186"
            ],
            [
             0.8,
             "#7fbc41"
            ],
            [
             0.9,
             "#4d9221"
            ],
            [
             1,
             "#276419"
            ]
           ],
           "sequential": [
            [
             0,
             "#0d0887"
            ],
            [
             0.1111111111111111,
             "#46039f"
            ],
            [
             0.2222222222222222,
             "#7201a8"
            ],
            [
             0.3333333333333333,
             "#9c179e"
            ],
            [
             0.4444444444444444,
             "#bd3786"
            ],
            [
             0.5555555555555556,
             "#d8576b"
            ],
            [
             0.6666666666666666,
             "#ed7953"
            ],
            [
             0.7777777777777778,
             "#fb9f3a"
            ],
            [
             0.8888888888888888,
             "#fdca26"
            ],
            [
             1,
             "#f0f921"
            ]
           ],
           "sequentialminus": [
            [
             0,
             "#0d0887"
            ],
            [
             0.1111111111111111,
             "#46039f"
            ],
            [
             0.2222222222222222,
             "#7201a8"
            ],
            [
             0.3333333333333333,
             "#9c179e"
            ],
            [
             0.4444444444444444,
             "#bd3786"
            ],
            [
             0.5555555555555556,
             "#d8576b"
            ],
            [
             0.6666666666666666,
             "#ed7953"
            ],
            [
             0.7777777777777778,
             "#fb9f3a"
            ],
            [
             0.8888888888888888,
             "#fdca26"
            ],
            [
             1,
             "#f0f921"
            ]
           ]
          },
          "colorway": [
           "#636efa",
           "#EF553B",
           "#00cc96",
           "#ab63fa",
           "#FFA15A",
           "#19d3f3",
           "#FF6692",
           "#B6E880",
           "#FF97FF",
           "#FECB52"
          ],
          "font": {
           "color": "#2a3f5f"
          },
          "geo": {
           "bgcolor": "white",
           "lakecolor": "white",
           "landcolor": "#E5ECF6",
           "showlakes": true,
           "showland": true,
           "subunitcolor": "white"
          },
          "hoverlabel": {
           "align": "left"
          },
          "hovermode": "closest",
          "mapbox": {
           "style": "light"
          },
          "paper_bgcolor": "white",
          "plot_bgcolor": "#E5ECF6",
          "polar": {
           "angularaxis": {
            "gridcolor": "white",
            "linecolor": "white",
            "ticks": ""
           },
           "bgcolor": "#E5ECF6",
           "radialaxis": {
            "gridcolor": "white",
            "linecolor": "white",
            "ticks": ""
           }
          },
          "scene": {
           "xaxis": {
            "backgroundcolor": "#E5ECF6",
            "gridcolor": "white",
            "gridwidth": 2,
            "linecolor": "white",
            "showbackground": true,
            "ticks": "",
            "zerolinecolor": "white"
           },
           "yaxis": {
            "backgroundcolor": "#E5ECF6",
            "gridcolor": "white",
            "gridwidth": 2,
            "linecolor": "white",
            "showbackground": true,
            "ticks": "",
            "zerolinecolor": "white"
           },
           "zaxis": {
            "backgroundcolor": "#E5ECF6",
            "gridcolor": "white",
            "gridwidth": 2,
            "linecolor": "white",
            "showbackground": true,
            "ticks": "",
            "zerolinecolor": "white"
           }
          },
          "shapedefaults": {
           "line": {
            "color": "#2a3f5f"
           }
          },
          "ternary": {
           "aaxis": {
            "gridcolor": "white",
            "linecolor": "white",
            "ticks": ""
           },
           "baxis": {
            "gridcolor": "white",
            "linecolor": "white",
            "ticks": ""
           },
           "bgcolor": "#E5ECF6",
           "caxis": {
            "gridcolor": "white",
            "linecolor": "white",
            "ticks": ""
           }
          },
          "title": {
           "x": 0.05
          },
          "xaxis": {
           "automargin": true,
           "gridcolor": "white",
           "linecolor": "white",
           "ticks": "",
           "title": {
            "standoff": 15
           },
           "zerolinecolor": "white",
           "zerolinewidth": 2
          },
          "yaxis": {
           "automargin": true,
           "gridcolor": "white",
           "linecolor": "white",
           "ticks": "",
           "title": {
            "standoff": 15
           },
           "zerolinecolor": "white",
           "zerolinewidth": 2
          }
         }
        },
        "title": {
         "text": "Cumulative Sum of Capture Frequencies"
        },
        "xaxis": {
         "anchor": "y",
         "domain": [
          0,
          0.2888888888888889
         ]
        },
        "xaxis2": {
         "anchor": "y2",
         "domain": [
          0.35555555555555557,
          0.6444444444444445
         ]
        },
        "xaxis3": {
         "anchor": "y3",
         "domain": [
          0.7111111111111111,
          1
         ]
        },
        "xaxis4": {
         "anchor": "y4",
         "domain": [
          0,
          0.2888888888888889
         ]
        },
        "xaxis5": {
         "anchor": "y5",
         "domain": [
          0.35555555555555557,
          0.6444444444444445
         ]
        },
        "xaxis6": {
         "anchor": "y6",
         "domain": [
          0.7111111111111111,
          1
         ]
        },
        "yaxis": {
         "anchor": "x",
         "domain": [
          0.625,
          1
         ]
        },
        "yaxis2": {
         "anchor": "x2",
         "domain": [
          0.625,
          1
         ]
        },
        "yaxis3": {
         "anchor": "x3",
         "domain": [
          0.625,
          1
         ]
        },
        "yaxis4": {
         "anchor": "x4",
         "domain": [
          0,
          0.375
         ]
        },
        "yaxis5": {
         "anchor": "x5",
         "domain": [
          0,
          0.375
         ]
        },
        "yaxis6": {
         "anchor": "x6",
         "domain": [
          0,
          0.375
         ]
        }
       }
      },
      "text/html": [
       "<div>                            <div id=\"2e0f0e45-ef5a-41b9-8b8e-7f293a2b0697\" class=\"plotly-graph-div\" style=\"height:525px; width:100%;\"></div>            <script type=\"text/javascript\">                require([\"plotly\"], function(Plotly) {                    window.PLOTLYENV=window.PLOTLYENV || {};                                    if (document.getElementById(\"2e0f0e45-ef5a-41b9-8b8e-7f293a2b0697\")) {                    Plotly.newPlot(                        \"2e0f0e45-ef5a-41b9-8b8e-7f293a2b0697\",                        [{\"line\": {\"color\": \"black\"}, \"name\": \"r3\", \"showlegend\": true, \"type\": \"scatter\", \"x\": [1, 2, 3, 4, 5, 6, 7, 8, 9, 10, 11, 12, 13, 14, 15, 16, 17, 18, 19, 20, 21, 22, 23, 24, 25, 26, 27, 28, 29, 30, 31, 32, 33, 34, 35, 36, 37, 38, 39, 40, 41, 42, 43, 44, 45, 46, 47, 48, 49, 50, 51, 52, 53, 54, 55, 56, 57, 58, 59, 60, 61, 62, 63, 64], \"xaxis\": \"x\", \"y\": [0.09694534931506532, 0.1742820197175568, 0.24930491882573094, 0.3006118938222677, 0.3459370704245451, 0.3865003444711569, 0.42174203720288495, 0.45617479027104113, 0.4793440083099323, 0.5004765145727283, 0.5215075558949046, 0.5413566928174405, 0.5608875356111827, 0.5796275078403674, 0.5982868640893336, 0.6157884080706789, 0.6332482541312215, 0.649480791389472, 0.665356116459513, 0.6805489855590835, 0.6955324384341783, 0.7099270240054931, 0.7234227877283946, 0.7367517597680855, 0.7485147432265203, 0.760172091952255, 0.7715449681960692, 0.7824860393044601, 0.7933844858715862, 0.803706574511173, 0.8140143005335945, 0.8237966327539021, 0.8330897093701252, 0.8423809327454236, 0.8510114757311151, 0.8594617910368929, 0.8676049316594243, 0.8755525553644143, 0.8830146299471687, 0.8903367848401186, 0.8974550832313665, 0.9044603339262159, 0.9111204184988655, 0.9177415850120992, 0.9243219802249926, 0.9305446999394452, 0.9366446424426456, 0.9425953990514185, 0.948406235970387, 0.9539085082754156, 0.959232406141455, 0.9644872707830544, 0.9691254695070054, 0.9732192787093659, 0.9766426780072656, 0.9799715620180125, 0.9831373608273979, 0.9862915768810048, 0.9893874158454878, 0.9923873495921248, 0.9945542515431706, 0.9965084940981226, 0.9983283766860438, 1.0], \"yaxis\": \"y\"}, {\"line\": {\"color\": \"blue\"}, \"name\": \"n3\", \"showlegend\": true, \"type\": \"scatter\", \"x\": [1, 2, 3, 4, 5, 6, 7, 8, 9, 10, 11, 12, 13, 14, 15, 16, 17, 18, 19, 20, 21, 22, 23, 24, 25, 26, 27, 28, 29, 30, 31, 32, 33, 34, 35, 36, 37, 38, 39, 40, 41, 42, 43, 44, 45, 46, 47, 48, 49, 50, 51, 52, 53, 54, 55, 56, 57, 58, 59, 60, 61, 62, 63, 64], \"xaxis\": \"x\", \"y\": [0.20398354177663552, 0.3430132900042072, 0.46304850979871376, 0.510069613776341, 0.5470038065500337, 0.5809636787499428, 0.6135542642622871, 0.6443844180308386, 0.6680115881605246, 0.6898080208729733, 0.7115347058935126, 0.7308704400353985, 0.7482178069763317, 0.7645440677077115, 0.7805913376714539, 0.795892307331766, 0.8107463337823226, 0.8243683370029921, 0.837531958392433, 0.8493714895986664, 0.859951656479784, 0.8705072721733494, 0.880385498283091, 0.8897958568755044, 0.8991300509883529, 0.9072244101298201, 0.9148631773477354, 0.9219202488151264, 0.9277611995263855, 0.9332450420550685, 0.938070466372127, 0.9428855680307829, 0.9472283383198286, 0.9507670572165429, 0.9542801089626345, 0.9577820010780206, 0.961122078548177, 0.9641848391953016, 0.9669825586131706, 0.9697328496005413, 0.9724683540772272, 0.9751087227021487, 0.9776966410627542, 0.9799436327053068, 0.9820321575918413, 0.983945755267067, 0.9857703548874163, 0.9874267230748802, 0.9890766744746885, 0.9904682804236644, 0.9917639135485731, 0.9929942628338545, 0.9939534330929923, 0.9947354442146803, 0.9954786756196666, 0.9962174431723708, 0.9969425401774608, 0.9976620573671979, 0.9982457060530956, 0.9987113416442827, 0.9991722343924199, 0.9996169456760341, 0.9998351164563266, 1.0000000000000004], \"yaxis\": \"y\"}, {\"line\": {\"color\": \"maroon\"}, \"name\": \"s3\", \"showlegend\": true, \"type\": \"scatter\", \"x\": [1, 2, 3, 4, 5, 6, 7, 8, 9, 10, 11, 12, 13, 14, 15, 16, 17, 18, 19, 20, 21, 22, 23, 24, 25, 26, 27, 28, 29, 30, 31, 32, 33, 34, 35, 36, 37, 38, 39, 40, 41, 42, 43, 44, 45, 46, 47, 48, 49, 50, 51, 52, 53, 54, 55, 56, 57, 58, 59, 60, 61, 62, 63, 64], \"xaxis\": \"x\", \"y\": [0.13373260281974583, 0.2199572750653262, 0.3042625704983265, 0.3796874327157169, 0.4383749297123025, 0.49636625865997475, 0.5541940770484222, 0.606287168228026, 0.6508712554053656, 0.6938211731196128, 0.7352548736444068, 0.7703915453807328, 0.7981611927034347, 0.8231770600926266, 0.8475594800863483, 0.8667616733745519, 0.8840441778071234, 0.8998488463456323, 0.9148734072542518, 0.928127435886074, 0.9396942477359713, 0.9502731312833765, 0.9596019703646469, 0.9680801800862858, 0.9752234696316578, 0.9817773098518854, 0.9863880579875842, 0.9907329454430167, 0.9940037807136173, 0.997026853800965, 0.9987599409115275, 0.9999999999999999, 0.9999999999999999, 0.9999999999999999, 0.9999999999999999, 0.9999999999999999, 0.9999999999999999, 0.9999999999999999, 0.9999999999999999, 0.9999999999999999, 0.9999999999999999, 0.9999999999999999, 0.9999999999999999, 0.9999999999999999, 0.9999999999999999, 0.9999999999999999, 0.9999999999999999, 0.9999999999999999, 0.9999999999999999, 0.9999999999999999, 0.9999999999999999, 0.9999999999999999, 0.9999999999999999, 0.9999999999999999, 0.9999999999999999, 0.9999999999999999, 0.9999999999999999, 0.9999999999999999, 0.9999999999999999, 0.9999999999999999, 0.9999999999999999, 0.9999999999999999, 0.9999999999999999, 0.9999999999999999], \"yaxis\": \"y\"}, {\"line\": {\"color\": \"brown\"}, \"name\": \"k2\", \"showlegend\": true, \"type\": \"scatter\", \"x\": [1, 2, 3, 4, 5, 6, 7, 8, 9, 10, 11, 12, 13, 14, 15, 16, 17, 18, 19, 20, 21, 22, 23, 24, 25, 26, 27, 28, 29, 30, 31, 32, 33, 34, 35, 36, 37, 38, 39, 40, 41, 42, 43, 44, 45, 46, 47, 48, 49, 50, 51, 52, 53, 54, 55, 56, 57, 58, 59, 60, 61, 62, 63, 64], \"xaxis\": \"x\", \"y\": [0.0, 0.0, 0.0, 0.0, 0.0, 0.0, 0.0, 0.0, 0.0, 0.0, 0.0, 0.0, 0.0, 0.0, 0.0, 0.0, 0.0, 0.0, 0.0, 0.0, 0.0, 0.0, 0.0, 0.0, 0.0, 0.0, 0.0, 0.0, 0.0, 0.0, 0.0, 0.0, 0.0, 0.0, 0.0, 0.0, 0.0, 0.0, 0.0, 0.0, 0.0, 0.0, 0.0, 0.0, 0.0, 0.0, 0.0, 0.0, 0.0, 0.0, 0.0, 0.0, 0.0, 0.0, 0.0, 0.0, 0.0, 0.0, 0.0, 0.0, 0.0, 0.0, 0.0, 0.0], \"yaxis\": \"y\"}, {\"line\": {\"color\": \"blueviolet\"}, \"name\": \"q2\", \"showlegend\": true, \"type\": \"scatter\", \"x\": [1, 2, 3, 4, 5, 6, 7, 8, 9, 10, 11, 12, 13, 14, 15, 16, 17, 18, 19, 20, 21, 22, 23, 24, 25, 26, 27, 28, 29, 30, 31, 32, 33, 34, 35, 36, 37, 38, 39, 40, 41, 42, 43, 44, 45, 46, 47, 48, 49, 50, 51, 52, 53, 54, 55, 56, 57, 58, 59, 60, 61, 62, 63, 64], \"xaxis\": \"x\", \"y\": [0.08706516632652007, 0.14100111275524851, 0.1818748951177529, 0.21814513524123777, 0.2541286812951997, 0.29008508697724683, 0.3220789983597277, 0.3529838545367808, 0.3810603781533003, 0.40902222414201067, 0.4360089280355837, 0.4611592608491726, 0.48551067285569083, 0.5094484808845774, 0.531699381008391, 0.552063069637225, 0.5720613188921071, 0.591419666983814, 0.6106728939166959, 0.629141725875363, 0.6474568898127658, 0.6656948374807772, 0.6838395140115037, 0.7019547566177592, 0.7193502059801324, 0.7351967428495632, 0.7508104841345412, 0.7648688145276676, 0.7787440429750587, 0.791545888826156, 0.803665785050548, 0.8152119108771347, 0.8263880102246572, 0.8366161078489572, 0.8465571291449749, 0.856213749924026, 0.8658439948486809, 0.8753805863772917, 0.8847069355882522, 0.8927630389418465, 0.9008080567914193, 0.9086952017733748, 0.9163166769175723, 0.9229484841337767, 0.9295607961532536, 0.9360656934613492, 0.9425331294110271, 0.9486595905473524, 0.9547680855219876, 0.9598291914959657, 0.963441919030714, 0.9669705496384022, 0.9704605721113947, 0.9739475365143122, 0.9773924524536998, 0.9807957021883166, 0.9841794567262059, 0.9873185656581023, 0.9898701428768564, 0.9923154521605073, 0.9946502886627021, 0.9968543926691944, 0.998866602778486, 1.0], \"yaxis\": \"y\"}, {\"line\": {\"color\": \"red\"}, \"name\": \"s4\", \"showlegend\": true, \"type\": \"scatter\", \"x\": [1, 2, 3, 4, 5, 6, 7, 8, 9, 10, 11, 12, 13, 14, 15, 16, 17, 18, 19, 20, 21, 22, 23, 24, 25, 26, 27, 28, 29, 30, 31, 32, 33, 34, 35, 36, 37, 38, 39, 40, 41, 42, 43, 44, 45, 46, 47, 48, 49, 50, 51, 52, 53, 54, 55, 56, 57, 58, 59, 60, 61, 62, 63, 64], \"xaxis\": \"x\", \"y\": [0.17961756145775176, 0.2716395875656647, 0.3345165876110181, 0.3971846492853714, 0.45652908950725896, 0.5144976017440724, 0.5627032496485113, 0.6061902684138669, 0.6486935878127624, 0.6846397455205708, 0.7174321223978493, 0.7484866825247136, 0.778684532774079, 0.8086324702114248, 0.8362964735394253, 0.8632248136210301, 0.884860882389279, 0.9056458713558941, 0.9229614824615315, 0.936937520233085, 0.9501162767057173, 0.9581300641359474, 0.9653681522247399, 0.9722793831313542, 0.9786104034418529, 0.9845000883609127, 0.9882750542285778, 0.9918542185689283, 0.9950342730868296, 0.9971699485317228, 0.9991292149328376, 0.9999999999999997, 0.9999999999999997, 0.9999999999999997, 0.9999999999999997, 0.9999999999999997, 0.9999999999999997, 0.9999999999999997, 0.9999999999999997, 0.9999999999999997, 0.9999999999999997, 0.9999999999999997, 0.9999999999999997, 0.9999999999999997, 0.9999999999999997, 0.9999999999999997, 0.9999999999999997, 0.9999999999999997, 0.9999999999999997, 0.9999999999999997, 0.9999999999999997, 0.9999999999999997, 0.9999999999999997, 0.9999999999999997, 0.9999999999999997, 0.9999999999999997, 0.9999999999999997, 0.9999999999999997, 0.9999999999999997, 0.9999999999999997, 0.9999999999999997, 0.9999999999999997, 0.9999999999999997, 0.9999999999999997], \"yaxis\": \"y\"}, {\"line\": {\"color\": \"navy\"}, \"name\": \"n4\", \"showlegend\": true, \"type\": \"scatter\", \"x\": [1, 2, 3, 4, 5, 6, 7, 8, 9, 10, 11, 12, 13, 14, 15, 16, 17, 18, 19, 20, 21, 22, 23, 24, 25, 26, 27, 28, 29, 30, 31, 32, 33, 34, 35, 36, 37, 38, 39, 40, 41, 42, 43, 44, 45, 46, 47, 48, 49, 50, 51, 52, 53, 54, 55, 56, 57, 58, 59, 60, 61, 62, 63, 64], \"xaxis\": \"x\", \"y\": [0.19012620417689546, 0.33490921342748003, 0.46123926825655887, 0.5144636921556971, 0.5510471109715033, 0.5873969627040427, 0.6237185207726017, 0.6512843446826533, 0.6773168252314811, 0.698787962951468, 0.7180989660398079, 0.7368518910416774, 0.7544228337952226, 0.7706749453542525, 0.7861663038052379, 0.8008466734590707, 0.8124727709573045, 0.8226007478188616, 0.832398439460076, 0.8421594648224586, 0.8516326454604692, 0.8610708920847897, 0.8702842329515517, 0.878929679562707, 0.8871827681192768, 0.895252236570831, 0.9024292997635747, 0.9094761543598371, 0.915498662835666, 0.9212451637322576, 0.9266414583593774, 0.9319745253088267, 0.9368961792871324, 0.9417488313706288, 0.9464816684484938, 0.9511720650303882, 0.9555399715850774, 0.9589883340604035, 0.962267511973561, 0.9654150377359525, 0.9685449521360705, 0.9713382296769931, 0.9739253676660585, 0.9763678615157955, 0.9788037150158228, 0.9807972634830135, 0.9827125713079727, 0.9845577223946949, 0.9863621652505881, 0.9879850089774641, 0.9893999808873413, 0.9907589428909716, 0.9918932878479002, 0.9930033810928457, 0.9941039468795121, 0.9950592911051361, 0.995990383618777, 0.9967857820296547, 0.9975566400176923, 0.998326920584016, 0.9990723720166426, 0.999596093511137, 0.9998339912572579, 1.0], \"yaxis\": \"y\"}, {\"line\": {\"color\": \"silver\"}, \"name\": \"r4\", \"showlegend\": true, \"type\": \"scatter\", \"x\": [1, 2, 3, 4, 5, 6, 7, 8, 9, 10, 11, 12, 13, 14, 15, 16, 17, 18, 19, 20, 21, 22, 23, 24, 25, 26, 27, 28, 29, 30, 31, 32, 33, 34, 35, 36, 37, 38, 39, 40, 41, 42, 43, 44, 45, 46, 47, 48, 49, 50, 51, 52, 53, 54, 55, 56, 57, 58, 59, 60, 61, 62, 63, 64], \"xaxis\": \"x\", \"y\": [0.11959373511207225, 0.201868078461596, 0.2569058416753658, 0.3049905532054398, 0.35269422964290065, 0.38380298904056803, 0.41373796863721723, 0.44235346444774837, 0.4684857617490613, 0.49150363636886496, 0.5127236963567293, 0.5318190663250291, 0.5506340519798966, 0.5676910040250724, 0.584052986404476, 0.6001580696522562, 0.6161653778574036, 0.6315390654431364, 0.6466419545039305, 0.6615895537911313, 0.6764647803752067, 0.6912944744639385, 0.7059521036492136, 0.7192202727923687, 0.7316621469673917, 0.7436146666398262, 0.7552460623977314, 0.7665419555583671, 0.7777463044388908, 0.7889084758500435, 0.8000514756842094, 0.810994132538863, 0.8206810511008796, 0.8303607803215263, 0.8399259593696766, 0.8493919255069202, 0.8586537143492541, 0.8674386102140408, 0.8749941287045475, 0.8824327005754347, 0.8898631245261024, 0.8971171699684913, 0.9038976774593057, 0.9105430253323631, 0.9170661544021295, 0.9233352600768204, 0.9295890284899219, 0.9357325603353491, 0.9418564413143649, 0.9477162338203872, 0.9535146772800516, 0.958734139114714, 0.9639071098751834, 0.9690134594056236, 0.9734363422164835, 0.977779662982848, 0.9819446880832352, 0.9853994062562607, 0.9886997932345422, 0.9916555711164855, 0.9939470538558355, 0.9961513059198954, 0.9980981795629073, 1.0], \"yaxis\": \"y\"}, {\"line\": {\"color\": \"black\"}, \"name\": \"r3\", \"showlegend\": false, \"type\": \"scatter\", \"x\": [1, 2, 3, 4, 5, 6, 7, 8, 9, 10, 11, 12, 13, 14, 15, 16, 17, 18, 19, 20, 21, 22, 23, 24, 25, 26, 27, 28, 29, 30, 31, 32, 33, 34, 35, 36, 37, 38, 39, 40, 41, 42, 43, 44, 45, 46, 47, 48, 49, 50, 51, 52, 53, 54, 55, 56, 57, 58, 59, 60, 61, 62, 63, 64], \"xaxis\": \"x2\", \"y\": [0.23252893328438665, 0.3125181134918948, 0.3876577081360975, 0.4286569932569507, 0.46954035202967714, 0.505979867457542, 0.5417624669126881, 0.5665320632957861, 0.5878045481770582, 0.6065846165736036, 0.6224278841509362, 0.6376335568135711, 0.6520857082133817, 0.6664412543230868, 0.6802558108081999, 0.694070367293313, 0.7069768340514326, 0.71984465869351, 0.7323840253492281, 0.7440732654520161, 0.7553567633363603, 0.7660026663060069, 0.7762621481152308, 0.7860386034739262, 0.7956991324844948, 0.8052630562049576, 0.8148076588673995, 0.8237919508472283, 0.8325637111888247, 0.8411809030662518, 0.8497208107115944, 0.858106149892768, 0.8657766099271595, 0.8734470699615511, 0.8809629615317734, 0.8884788531019958, 0.895956102556176, 0.9033947098943138, 0.9106787487682826, 0.9178275402361034, 0.9248024421817339, 0.9310817860386035, 0.9369940297930714, 0.9427710261413915, 0.9477558591108449, 0.9522963077458122, 0.9564889773363989, 0.9604111521146897, 0.9640821531387058, 0.9676565488726162, 0.9710570550843364, 0.9741097822516761, 0.9771238673029735, 0.9799254207160384, 0.9824564793168074, 0.9849682168595552, 0.9873640280541762, 0.989721197132755, 0.9918658345731012, 0.9939331877813629, 0.9956334408872229, 0.9973143729350619, 0.9988020944026894, 0.9999999999999999], \"yaxis\": \"y2\"}, {\"line\": {\"color\": \"blue\"}, \"name\": \"n3\", \"showlegend\": false, \"type\": \"scatter\", \"x\": [1, 2, 3, 4, 5, 6, 7, 8, 9, 10, 11, 12, 13, 14, 15, 16, 17, 18, 19, 20, 21, 22, 23, 24, 25, 26, 27, 28, 29, 30, 31, 32, 33, 34, 35, 36, 37, 38, 39, 40, 41, 42, 43, 44, 45, 46, 47, 48, 49, 50, 51, 52, 53, 54, 55, 56, 57, 58, 59, 60, 61, 62, 63, 64], \"xaxis\": \"x2\", \"y\": [0.19366634390841259, 0.320419206014695, 0.43337700062653073, 0.4873269920829299, 0.5276527880617418, 0.5679330181693911, 0.5994873839494219, 0.6294241613031839, 0.6591672837045053, 0.6855157487042205, 0.7093125249188358, 0.7291678532778949, 0.7463347952383665, 0.7634675627954662, 0.7804978071424503, 0.7956484593039813, 0.8106510223842343, 0.8228398929202028, 0.8342655351141994, 0.845543088226918, 0.8551347041066242, 0.8646237967762147, 0.8738053198154583, 0.882679273224355, 0.8908583470980237, 0.8980121888705361, 0.9051660306430486, 0.9121148259953297, 0.9188357919917983, 0.9253061456968732, 0.9308879649142794, 0.9364014353249418, 0.9407871504243324, 0.9445349433274479, 0.9482599532949822, 0.951882440052401, 0.9554593609386571, 0.9590362818249133, 0.9625334624366351, 0.9656205502078944, 0.9686051147690381, 0.9714074158455318, 0.9741299766474911, 0.9768183630460786, 0.9791422224753661, 0.9813521672267473, 0.9832887167511536, 0.9851455260010255, 0.9867745058950848, 0.9882895711112378, 0.9897704619240191, 0.9912057868656378, 0.9924816312581878, 0.9934954718915534, 0.994509312524919, 0.9954889787549127, 0.9964116876459533, 0.9971635245201346, 0.9978925784587346, 0.9985532835905908, 0.9991342484479127, 0.9996240815629095, 0.9998177365153501, 1.0], \"yaxis\": \"y2\"}, {\"line\": {\"color\": \"maroon\"}, \"name\": \"s3\", \"showlegend\": false, \"type\": \"scatter\", \"x\": [1, 2, 3, 4, 5, 6, 7, 8, 9, 10, 11, 12, 13, 14, 15, 16, 17, 18, 19, 20, 21, 22, 23, 24, 25, 26, 27, 28, 29, 30, 31, 32, 33, 34, 35, 36, 37, 38, 39, 40, 41, 42, 43, 44, 45, 46, 47, 48, 49, 50, 51, 52, 53, 54, 55, 56, 57, 58, 59, 60, 61, 62, 63, 64], \"xaxis\": \"x2\", \"y\": [0.13140410828389587, 0.20631613714605113, 0.28117735235457764, 0.3513128977756323, 0.4146648204372515, 0.47405327811582976, 0.5253623648674399, 0.574651608887308, 0.6194565479744407, 0.663397654949885, 0.7008219108474447, 0.7363152479071127, 0.7660539386933269, 0.793899820881871, 0.8214789313888643, 0.847838514208768, 0.872889645447732, 0.8873334264916984, 0.9015231392675213, 0.915700148629937, 0.9277556879533532, 0.939506345354997, 0.9502026194438447, 0.9608226730522492, 0.9705026740685223, 0.9787980030234125, 0.9859373213582491, 0.9913743822965232, 0.9957951701622227, 0.9974212070783421, 0.9987550654860963, 1.0000000000000002, 1.0000000000000002, 1.0000000000000002, 1.0000000000000002, 1.0000000000000002, 1.0000000000000002, 1.0000000000000002, 1.0000000000000002, 1.0000000000000002, 1.0000000000000002, 1.0000000000000002, 1.0000000000000002, 1.0000000000000002, 1.0000000000000002, 1.0000000000000002, 1.0000000000000002, 1.0000000000000002, 1.0000000000000002, 1.0000000000000002, 1.0000000000000002, 1.0000000000000002, 1.0000000000000002, 1.0000000000000002, 1.0000000000000002, 1.0000000000000002, 1.0000000000000002, 1.0000000000000002, 1.0000000000000002, 1.0000000000000002, 1.0000000000000002, 1.0000000000000002, 1.0000000000000002, 1.0000000000000002], \"yaxis\": \"y2\"}, {\"line\": {\"color\": \"brown\"}, \"name\": \"k2\", \"showlegend\": false, \"type\": \"scatter\", \"x\": [1, 2, 3, 4, 5, 6, 7, 8, 9, 10, 11, 12, 13, 14, 15, 16, 17, 18, 19, 20, 21, 22, 23, 24, 25, 26, 27, 28, 29, 30, 31, 32, 33, 34, 35, 36, 37, 38, 39, 40, 41, 42, 43, 44, 45, 46, 47, 48, 49, 50, 51, 52, 53, 54, 55, 56, 57, 58, 59, 60, 61, 62, 63, 64], \"xaxis\": \"x2\", \"y\": [0.0, 0.0, 0.0, 0.0, 0.0, 0.0, 0.0, 0.0, 0.0, 0.0, 0.0, 0.0, 0.0, 0.0, 0.0, 0.0, 0.0, 0.0, 0.0, 0.0, 0.0, 0.0, 0.0, 0.0, 0.0, 0.0, 0.0, 0.0, 0.0, 0.0, 0.0, 0.0, 0.0, 0.0, 0.0, 0.0, 0.0, 0.0, 0.0, 0.0, 0.0, 0.0, 0.0, 0.0, 0.0, 0.0, 0.0, 0.0, 0.0, 0.0, 0.0, 0.0, 0.0, 0.0, 0.0, 0.0, 0.0, 0.0, 0.0, 0.0, 0.0, 0.0, 0.0, 0.0], \"yaxis\": \"y2\"}, {\"line\": {\"color\": \"blueviolet\"}, \"name\": \"q2\", \"showlegend\": false, \"type\": \"scatter\", \"x\": [1, 2, 3, 4, 5, 6, 7, 8, 9, 10, 11, 12, 13, 14, 15, 16, 17, 18, 19, 20, 21, 22, 23, 24, 25, 26, 27, 28, 29, 30, 31, 32, 33, 34, 35, 36, 37, 38, 39, 40, 41, 42, 43, 44, 45, 46, 47, 48, 49, 50, 51, 52, 53, 54, 55, 56, 57, 58, 59, 60, 61, 62, 63, 64], \"xaxis\": \"x2\", \"y\": [0.11657813810455689, 0.17536012241955182, 0.22772685137501286, 0.26736606683048125, 0.30360637405647184, 0.33834586466165406, 0.3723496608448714, 0.40499977929167336, 0.4325883201153568, 0.4601180053852831, 0.48725041566734834, 0.5140444065153097, 0.5403528390447743, 0.5642187660933153, 0.584111943263246, 0.6007239233112133, 0.6169533422597588, 0.6327119167782469, 0.648279210747024, 0.6637435074967261, 0.67895766814296, 0.6939952621279224, 0.7082088783602841, 0.721686800170681, 0.734679163662581, 0.7473919632741344, 0.7598840545590982, 0.7719053014140046, 0.7838235510498358, 0.795388667363124, 0.8066742197960655, 0.817665494460221, 0.8276709385989435, 0.8375439577417123, 0.8471079852272559, 0.8560540293983491, 0.8645439430278239, 0.8727101511116342, 0.880655650868855, 0.888409870076365, 0.8957079587422567, 0.902932477965952, 0.9098627194208613, 0.9162044053381987, 0.9225019495902181, 0.9286229271809661, 0.9347144769948353, 0.9407618851433868, 0.946603298853788, 0.9516943042537851, 0.9567117402115857, 0.9613024734046466, 0.9658343510439503, 0.9702190897988611, 0.9744419757809395, 0.978664861763018, 0.9826817533069463, 0.9864485087474065, 0.9897885614231271, 0.9926136280034723, 0.9952327001456673, 0.9970277945352617, 0.9986021805982666, 0.9999999999999999], \"yaxis\": \"y2\"}, {\"line\": {\"color\": \"red\"}, \"name\": \"s4\", \"showlegend\": false, \"type\": \"scatter\", \"x\": [1, 2, 3, 4, 5, 6, 7, 8, 9, 10, 11, 12, 13, 14, 15, 16, 17, 18, 19, 20, 21, 22, 23, 24, 25, 26, 27, 28, 29, 30, 31, 32, 33, 34, 35, 36, 37, 38, 39, 40, 41, 42, 43, 44, 45, 46, 47, 48, 49, 50, 51, 52, 53, 54, 55, 56, 57, 58, 59, 60, 61, 62, 63, 64], \"xaxis\": \"x2\", \"y\": [0.15252272902876865, 0.250225358642182, 0.3333505035155948, 0.4050403070028588, 0.4633760012362531, 0.5072758647333041, 0.5508666649496484, 0.5942771782522471, 0.6373142400906585, 0.6802869137455894, 0.7152239421021453, 0.748306590774461, 0.7813248512632961, 0.8084193988719189, 0.8331702166018491, 0.8571612537667086, 0.881139413294872, 0.902580678393901, 0.9169134880366754, 0.9279367450485486, 0.9389084915136373, 0.949197723233832, 0.9586885414788677, 0.9678445411698045, 0.976755865763515, 0.982872743194169, 0.9882040847863599, 0.992518093079558, 0.996265485358127, 0.9979009452185333, 0.9991500759780564, 0.9999999999999999, 0.9999999999999999, 0.9999999999999999, 0.9999999999999999, 0.9999999999999999, 0.9999999999999999, 0.9999999999999999, 0.9999999999999999, 0.9999999999999999, 0.9999999999999999, 0.9999999999999999, 0.9999999999999999, 0.9999999999999999, 0.9999999999999999, 0.9999999999999999, 0.9999999999999999, 0.9999999999999999, 0.9999999999999999, 0.9999999999999999, 0.9999999999999999, 0.9999999999999999, 0.9999999999999999, 0.9999999999999999, 0.9999999999999999, 0.9999999999999999, 0.9999999999999999, 0.9999999999999999, 0.9999999999999999, 0.9999999999999999, 0.9999999999999999, 0.9999999999999999, 0.9999999999999999, 0.9999999999999999], \"yaxis\": \"y2\"}, {\"line\": {\"color\": \"navy\"}, \"name\": \"n4\", \"showlegend\": false, \"type\": \"scatter\", \"x\": [1, 2, 3, 4, 5, 6, 7, 8, 9, 10, 11, 12, 13, 14, 15, 16, 17, 18, 19, 20, 21, 22, 23, 24, 25, 26, 27, 28, 29, 30, 31, 32, 33, 34, 35, 36, 37, 38, 39, 40, 41, 42, 43, 44, 45, 46, 47, 48, 49, 50, 51, 52, 53, 54, 55, 56, 57, 58, 59, 60, 61, 62, 63, 64], \"xaxis\": \"x2\", \"y\": [0.2080054861762795, 0.3489857792535913, 0.4530907865925552, 0.504656031184581, 0.5400394619697299, 0.5751221155465724, 0.6066796602420657, 0.6350008421761835, 0.6590750499290168, 0.6819220866719605, 0.7016169782718547, 0.7209268750451168, 0.7395750619601051, 0.7559373420919658, 0.7721913424288364, 0.7884212805890424, 0.8030510840010591, 0.8154791982482739, 0.8274982554921921, 0.8391804422628074, 0.8487571885752788, 0.8579609711494505, 0.8671527226352899, 0.8758872927645037, 0.8843932722154049, 0.8924420703096805, 0.9004788373156238, 0.9079742053466159, 0.9148078635193342, 0.9209076253037852, 0.9263577083182947, 0.9306889001179048, 0.9349599364758537, 0.9391948795688059, 0.9433335739551001, 0.9473399263697395, 0.9513342476960467, 0.9551721648740346, 0.958937895522029, 0.9622584759017302, 0.9655549941047669, 0.9687191703361487, 0.9718472533025339, 0.9748670564739287, 0.9777785798503333, 0.9801487042517867, 0.9822541447099306, 0.9840708390481003, 0.9857311292379509, 0.987367357251137, 0.9889674919993263, 0.9903510671575352, 0.991734642315744, 0.9930580620322916, 0.9942611708655167, 0.9952838133737579, 0.9962342693520058, 0.996968165740273, 0.9976539377752113, 0.9982915854568205, 0.9989172020500975, 0.9994586010250488, 0.9997954714983518, 1.0], \"yaxis\": \"y2\"}, {\"line\": {\"color\": \"silver\"}, \"name\": \"r4\", \"showlegend\": false, \"type\": \"scatter\", \"x\": [1, 2, 3, 4, 5, 6, 7, 8, 9, 10, 11, 12, 13, 14, 15, 16, 17, 18, 19, 20, 21, 22, 23, 24, 25, 26, 27, 28, 29, 30, 31, 32, 33, 34, 35, 36, 37, 38, 39, 40, 41, 42, 43, 44, 45, 46, 47, 48, 49, 50, 51, 52, 53, 54, 55, 56, 57, 58, 59, 60, 61, 62, 63, 64], \"xaxis\": \"x2\", \"y\": [0.2653143525426463, 0.3515546235431706, 0.39978626446747595, 0.44600153244344076, 0.480743638343348, 0.5134290438359479, 0.5368996249546316, 0.5564987700125015, 0.5755938218332862, 0.5938016695568011, 0.6098519982255917, 0.6239262814050085, 0.6373553252409564, 0.6503407670282694, 0.6632858813566156, 0.6758680485542604, 0.688389724563455, 0.7007702544662658, 0.7127475097794086, 0.7239182159132151, 0.7347461386458037, 0.7451304593297574, 0.7553736339073273, 0.7651933701657456, 0.7748517965882967, 0.7844295680929142, 0.7939670121385649, 0.8033633100778318, 0.8123966608863974, 0.8213695205065127, 0.830140742831794, 0.8387909827801748, 0.8474008952695888, 0.8554260596039841, 0.8633504052909624, 0.8711940960600071, 0.8789168044521513, 0.8864782030084283, 0.8934346896802031, 0.900391176351978, 0.9072468443763357, 0.9140016937532764, 0.9207162156712504, 0.9269266443521392, 0.9328144533612935, 0.9386820986409644, 0.9445094164616685, 0.9494495301851028, 0.953986369318869, 0.9583014074283178, 0.9624349719724159, 0.9663064080332298, 0.9701576803645602, 0.9739887889664072, 0.9776585877323869, 0.981146912933016, 0.9842117998144936, 0.9871355405895873, 0.9898979715288139, 0.9924789289026897, 0.9945356293099971, 0.9964310198814371, 0.9982860829939104, 0.9999999999999999], \"yaxis\": \"y2\"}, {\"line\": {\"color\": \"black\"}, \"name\": \"r3\", \"showlegend\": false, \"type\": \"scatter\", \"x\": [1, 2, 3, 4, 5, 6, 7, 8, 9, 10, 11, 12, 13, 14, 15, 16, 17, 18, 19, 20, 21, 22, 23, 24, 25, 26, 27, 28, 29, 30, 31, 32, 33, 34, 35, 36, 37, 38, 39, 40, 41, 42, 43, 44, 45, 46, 47, 48, 49, 50, 51, 52, 53, 54, 55, 56, 57, 58, 59, 60, 61, 62, 63, 64], \"xaxis\": \"x3\", \"y\": [0.13881145128283398, 0.23100978984385465, 0.3164739119194386, 0.3645291810856354, 0.4118742738602136, 0.4502082249639461, 0.4815151675611359, 0.5126289920167452, 0.5406778446769476, 0.5596594891090713, 0.5780991568212754, 0.596105866119291, 0.6124773008313424, 0.6281447887692456, 0.6438029322809433, 0.659423698087819, 0.6747174089775018, 0.6899176756051295, 0.7043579289013758, 0.7161973169037555, 0.7279868679663726, 0.7395116602865002, 0.7509274343008968, 0.7615894246013825, 0.7721112485087854, 0.7821783103408536, 0.7916224104258879, 0.8008048665771679, 0.809859615570306, 0.8187991166402427, 0.8275641884210101, 0.8363105713493664, 0.8449697396331379, 0.8535510376985302, 0.862010858223251, 0.8704675639392365, 0.8788027921145504, 0.8867642432416439, 0.8946384797241528, 0.9016779474656361, 0.9083280641152233, 0.9149034253551663, 0.9210271393285098, 0.927001342482565, 0.9328976754182411, 0.9385728569337202, 0.9441421349522034, 0.9494373098019918, 0.9541811635056552, 0.9586882917454456, 0.9630334499310071, 0.9672135232536048, 0.9711070341725668, 0.9744243054755225, 0.9776263288552769, 0.9807660560603279, 0.9837656168722962, 0.986718455553237, 0.9895685055459172, 0.9921506819873729, 0.9944213775553116, 0.9964522328506421, 0.9983024292393329, 1.0000000000000002], \"yaxis\": \"y3\"}, {\"line\": {\"color\": \"blue\"}, \"name\": \"n3\", \"showlegend\": false, \"type\": \"scatter\", \"x\": [1, 2, 3, 4, 5, 6, 7, 8, 9, 10, 11, 12, 13, 14, 15, 16, 17, 18, 19, 20, 21, 22, 23, 24, 25, 26, 27, 28, 29, 30, 31, 32, 33, 34, 35, 36, 37, 38, 39, 40, 41, 42, 43, 44, 45, 46, 47, 48, 49, 50, 51, 52, 53, 54, 55, 56, 57, 58, 59, 60, 61, 62, 63, 64], \"xaxis\": \"x3\", \"y\": [0.21518355412127588, 0.34443988803109454, 0.4708381621409596, 0.5121739440512062, 0.5533653074687539, 0.5845632677804126, 0.6151799882325673, 0.6443650043682136, 0.6718847504769376, 0.6967746536630592, 0.7165082817765258, 0.7352951664378555, 0.7536452297323801, 0.7712732005634105, 0.787221637812684, 0.8023338741597875, 0.8161552587943731, 0.8292081944122525, 0.8419009752705618, 0.8533385633034394, 0.8643143687485514, 0.873072191416906, 0.8817159056465849, 0.8902419455488795, 0.8982063579795675, 0.9061475921336496, 0.9133275090484427, 0.9202203719221924, 0.9270811417975646, 0.9319450139961133, 0.9367357854761355, 0.9410772549788723, 0.9451352363292743, 0.9490666286305206, 0.9526200367286538, 0.955975538003459, 0.9592632873928005, 0.9625118120063474, 0.9657425071763511, 0.9687913420222156, 0.971670797154421, 0.9743362989641094, 0.9769126535560826, 0.9794693957601583, 0.9816945103143331, 0.9834186175049476, 0.9850999340310589, 0.9867580722805641, 0.9883181485905824, 0.9898586125127035, 0.9912867509405031, 0.9923743469966302, 0.9933817105568135, 0.9943587640629735, 0.9953215540142991, 0.9961185301406742, 0.9969012427122148, 0.9976340328418348, 0.9981439549271666, 0.9986485281794354, 0.9991477525986413, 0.999616666963824, 0.9998324032306951, 0.9999999999999999], \"yaxis\": \"y3\"}, {\"line\": {\"color\": \"maroon\"}, \"name\": \"s3\", \"showlegend\": false, \"type\": \"scatter\", \"x\": [1, 2, 3, 4, 5, 6, 7, 8, 9, 10, 11, 12, 13, 14, 15, 16, 17, 18, 19, 20, 21, 22, 23, 24, 25, 26, 27, 28, 29, 30, 31, 32, 33, 34, 35, 36, 37, 38, 39, 40, 41, 42, 43, 44, 45, 46, 47, 48, 49, 50, 51, 52, 53, 54, 55, 56, 57, 58, 59, 60, 61, 62, 63, 64], \"xaxis\": \"x3\", \"y\": [0.14853811980200163, 0.2315153326817296, 0.3078375343419425, 0.37227157322970605, 0.4348569978898265, 0.4904491542589908, 0.5442890603336552, 0.5928623824704172, 0.6357148335558881, 0.6755839359356839, 0.7149338530430353, 0.7474930627801191, 0.7787326766164065, 0.8096733655988624, 0.8360043186774934, 0.8573951452243803, 0.8765047031499205, 0.8951698070164741, 0.9108043635162214, 0.9234732708082178, 0.9352709694801655, 0.9468897065619903, 0.957039385316103, 0.9658517686714951, 0.9732816245779159, 0.9796593436632846, 0.9857263382295387, 0.9905111025017255, 0.9951110053511479, 0.9976204008346294, 0.998886898241653, 0.9999999999999998, 0.9999999999999998, 0.9999999999999998, 0.9999999999999998, 0.9999999999999998, 0.9999999999999998, 0.9999999999999998, 0.9999999999999998, 0.9999999999999998, 0.9999999999999998, 0.9999999999999998, 0.9999999999999998, 0.9999999999999998, 0.9999999999999998, 0.9999999999999998, 0.9999999999999998, 0.9999999999999998, 0.9999999999999998, 0.9999999999999998, 0.9999999999999998, 0.9999999999999998, 0.9999999999999998, 0.9999999999999998, 0.9999999999999998, 0.9999999999999998, 0.9999999999999998, 0.9999999999999998, 0.9999999999999998, 0.9999999999999998, 0.9999999999999998, 0.9999999999999998, 0.9999999999999998, 0.9999999999999998], \"yaxis\": \"y3\"}, {\"line\": {\"color\": \"brown\"}, \"name\": \"k2\", \"showlegend\": false, \"type\": \"scatter\", \"x\": [1, 2, 3, 4, 5, 6, 7, 8, 9, 10, 11, 12, 13, 14, 15, 16, 17, 18, 19, 20, 21, 22, 23, 24, 25, 26, 27, 28, 29, 30, 31, 32, 33, 34, 35, 36, 37, 38, 39, 40, 41, 42, 43, 44, 45, 46, 47, 48, 49, 50, 51, 52, 53, 54, 55, 56, 57, 58, 59, 60, 61, 62, 63, 64], \"xaxis\": \"x3\", \"y\": [0.0, 0.0, 0.0, 0.0, 0.0, 0.0, 0.0, 0.0, 0.0, 0.0, 0.0, 0.0, 0.0, 0.0, 0.0, 0.0, 0.0, 0.0, 0.0, 0.0, 0.0, 0.0, 0.0, 0.0, 0.0, 0.0, 0.0, 0.0, 0.0, 0.0, 0.0, 0.0, 0.0, 0.0, 0.0, 0.0, 0.0, 0.0, 0.0, 0.0, 0.0, 0.0, 0.0, 0.0, 0.0, 0.0, 0.0, 0.0, 0.0, 0.0, 0.0, 0.0, 0.0, 0.0, 0.0, 0.0, 0.0, 0.0, 0.0, 0.0, 0.0, 0.0, 0.0, 0.0], \"yaxis\": \"y3\"}, {\"line\": {\"color\": \"blueviolet\"}, \"name\": \"q2\", \"showlegend\": false, \"type\": \"scatter\", \"x\": [1, 2, 3, 4, 5, 6, 7, 8, 9, 10, 11, 12, 13, 14, 15, 16, 17, 18, 19, 20, 21, 22, 23, 24, 25, 26, 27, 28, 29, 30, 31, 32, 33, 34, 35, 36, 37, 38, 39, 40, 41, 42, 43, 44, 45, 46, 47, 48, 49, 50, 51, 52, 53, 54, 55, 56, 57, 58, 59, 60, 61, 62, 63, 64], \"xaxis\": \"x3\", \"y\": [0.10531219305510083, 0.16615469059954163, 0.21199901777632263, 0.25725834408643566, 0.292803767116692, 0.3274993740731467, 0.36043997842959763, 0.39238872946478437, 0.42409433199160296, 0.45495493326656783, 0.48251497409625793, 0.5090253837413092, 0.5351361631646862, 0.5575804556747491, 0.5778941894728733, 0.596229031450417, 0.6128257227047743, 0.6292683396567994, 0.6456555861564238, 0.6617900545037844, 0.677587485314793, 0.6932476937002868, 0.7087971611809794, 0.7243369990177762, 0.7381218342545691, 0.7514011131868342, 0.764610577200855, 0.7766307801937483, 0.7884487606648305, 0.8000572963811797, 0.8112421277661152, 0.8224125146852069, 0.83286308572309, 0.8432173603220153, 0.852389596132735, 0.8615305356007935, 0.8701081409009496, 0.8782235232941087, 0.8863124241665544, 0.8943194730658861, 0.9021074475665891, 0.9096161623943148, 0.9167854322747145, 0.923010997053329, 0.9290824875296112, 0.9350697186218054, 0.9409775051518595, 0.9467552914893208, 0.952410299867111, 0.9576343816805656, 0.9618449434739904, 0.9657136529091155, 0.9695775475222926, 0.9732897752441115, 0.9769273732257382, 0.9804686747684072, 0.9838294204880305, 0.986761647054292, 0.9895060955645861, 0.9921590624578704, 0.9946988810353794, 0.9971640698726962, 0.9987746278142635, 1.0], \"yaxis\": \"y3\"}, {\"line\": {\"color\": \"red\"}, \"name\": \"s4\", \"showlegend\": false, \"type\": \"scatter\", \"x\": [1, 2, 3, 4, 5, 6, 7, 8, 9, 10, 11, 12, 13, 14, 15, 16, 17, 18, 19, 20, 21, 22, 23, 24, 25, 26, 27, 28, 29, 30, 31, 32, 33, 34, 35, 36, 37, 38, 39, 40, 41, 42, 43, 44, 45, 46, 47, 48, 49, 50, 51, 52, 53, 54, 55, 56, 57, 58, 59, 60, 61, 62, 63, 64], \"xaxis\": \"x3\", \"y\": [0.18343285958835942, 0.2846052788725666, 0.3622895019706199, 0.41933596082646607, 0.4718062024762133, 0.5234165372825352, 0.5729646880847169, 0.6160356702098015, 0.6533958358214899, 0.6902165691309369, 0.7230562522393409, 0.7548230423185638, 0.7861777937019787, 0.8163442016003823, 0.8434471913690833, 0.8664317847048053, 0.8859488833154188, 0.9051713842111551, 0.9214678132091247, 0.9364962777180622, 0.9490624626776546, 0.9573291134201205, 0.9646641984155423, 0.971674827819579, 0.9786018551693939, 0.9843684063856047, 0.9884310681157692, 0.9921334448027392, 0.9957999920378999, 0.997521796249851, 0.9991938373342891, 1.0000000000000004, 1.0000000000000004, 1.0000000000000004, 1.0000000000000004, 1.0000000000000004, 1.0000000000000004, 1.0000000000000004, 1.0000000000000004, 1.0000000000000004, 1.0000000000000004, 1.0000000000000004, 1.0000000000000004, 1.0000000000000004, 1.0000000000000004, 1.0000000000000004, 1.0000000000000004, 1.0000000000000004, 1.0000000000000004, 1.0000000000000004, 1.0000000000000004, 1.0000000000000004, 1.0000000000000004, 1.0000000000000004, 1.0000000000000004, 1.0000000000000004, 1.0000000000000004, 1.0000000000000004, 1.0000000000000004, 1.0000000000000004, 1.0000000000000004, 1.0000000000000004, 1.0000000000000004, 1.0000000000000004], \"yaxis\": \"y3\"}, {\"line\": {\"color\": \"navy\"}, \"name\": \"n4\", \"showlegend\": false, \"type\": \"scatter\", \"x\": [1, 2, 3, 4, 5, 6, 7, 8, 9, 10, 11, 12, 13, 14, 15, 16, 17, 18, 19, 20, 21, 22, 23, 24, 25, 26, 27, 28, 29, 30, 31, 32, 33, 34, 35, 36, 37, 38, 39, 40, 41, 42, 43, 44, 45, 46, 47, 48, 49, 50, 51, 52, 53, 54, 55, 56, 57, 58, 59, 60, 61, 62, 63, 64], \"xaxis\": \"x3\", \"y\": [0.2228542691721761, 0.3653724645717012, 0.4879719705189396, 0.5425867217333478, 0.5778059415278793, 0.6112788450733803, 0.6419591163050306, 0.6660759647568327, 0.6880541284352969, 0.7072654492803814, 0.7241815063635543, 0.7407770370465887, 0.756591514892504, 0.772339676931494, 0.7861775753098883, 0.7992786313891136, 0.8119799505210397, 0.8234802167053202, 0.8344960090778972, 0.8454252224803218, 0.8556470672755442, 0.8649202276105864, 0.8739557563041466, 0.882674442809064, 0.8906323396400895, 0.898400499579079, 0.9059218173478468, 0.9129052402382213, 0.9193710314134295, 0.9256802436000643, 0.9308381396942474, 0.9359720884137076, 0.9402476158546359, 0.9443757748357303, 0.9483657758857306, 0.9523355137725037, 0.9558631462797754, 0.9590813050213961, 0.962273674282546, 0.9654052540540143, 0.9684263074806073, 0.9713331503508291, 0.974236309009555, 0.9767470991439735, 0.9789539418299847, 0.9809526265664807, 0.9829273639282538, 0.9845981538416195, 0.9862542069090019, 0.9878918389189051, 0.9893673656229911, 0.9907949975776311, 0.9921839453115647, 0.9932578929626036, 0.9943023669216757, 0.9953321040347645, 0.9963415779846261, 0.9970968413412743, 0.9978134204772162, 0.9984784206522163, 0.9991121050295017, 0.99962789463892, 0.9998452631171748, 1.0000000000000002], \"yaxis\": \"y3\"}, {\"line\": {\"color\": \"silver\"}, \"name\": \"r4\", \"showlegend\": false, \"type\": \"scatter\", \"x\": [1, 2, 3, 4, 5, 6, 7, 8, 9, 10, 11, 12, 13, 14, 15, 16, 17, 18, 19, 20, 21, 22, 23, 24, 25, 26, 27, 28, 29, 30, 31, 32, 33, 34, 35, 36, 37, 38, 39, 40, 41, 42, 43, 44, 45, 46, 47, 48, 49, 50, 51, 52, 53, 54, 55, 56, 57, 58, 59, 60, 61, 62, 63, 64], \"xaxis\": \"x3\", \"y\": [0.18845638270984832, 0.27906299688710723, 0.335715725387192, 0.3875887398383087, 0.4254649343669118, 0.45843024464841586, 0.488109901430395, 0.5098105710382601, 0.5309961576729767, 0.551778635893925, 0.5708143109885434, 0.5888134215906147, 0.6040451609394346, 0.6189217809713634, 0.6336672308051612, 0.6479807787670643, 0.6620831747027077, 0.6758656433258365, 0.6893249853633256, 0.7017573607276428, 0.7130092043087812, 0.7241138813261628, 0.7351737685197924, 0.7453954461546338, 0.7556075259700997, 0.7658004101468148, 0.7758909175835251, 0.7859686279277349, 0.7958575811575611, 0.8055097881761265, 0.8149988322653094, 0.8243886988876129, 0.8335578156642812, 0.8422566392915531, 0.8509394665531993, 0.8589312508198139, 0.8663343688314017, 0.8736479071954854, 0.8808846630045656, 0.8881182195405206, 0.8953293811645996, 0.9023389885817944, 0.9093070054483623, 0.9161918412136764, 0.9228463293139799, 0.9291648937361432, 0.9351827264845427, 0.9408358420966756, 0.946456964977557, 0.9517485627265485, 0.9568258091761551, 0.9618806607138858, 0.9669323129784912, 0.971091368041181, 0.9751832383682427, 0.9790639566690448, 0.9826215483842071, 0.9860671655399893, 0.989064884458251, 0.9917426760639982, 0.993972569432225, 0.996032901324819, 0.9980676390324119, 1.0], \"yaxis\": \"y3\"}, {\"line\": {\"color\": \"black\"}, \"name\": \"r3\", \"showlegend\": false, \"type\": \"scatter\", \"x\": [1, 2, 3, 4, 5, 6, 7, 8, 9, 10, 11, 12, 13, 14, 15, 16, 17, 18, 19, 20, 21, 22, 23, 24, 25, 26, 27, 28, 29, 30, 31, 32, 33, 34, 35, 36, 37, 38, 39, 40, 41, 42, 43, 44, 45, 46, 47, 48, 49, 50, 51, 52, 53, 54, 55, 56, 57, 58, 59, 60, 61, 62, 63, 64], \"xaxis\": \"x4\", \"y\": [0.1013647320750354, 0.18077759209689584, 0.25788206380939194, 0.3072858758095156, 0.353352809659469, 0.3949629541992635, 0.43115369671515136, 0.4644566010897959, 0.48679835818066197, 0.5089075286800778, 0.5292635609410481, 0.5493009630160431, 0.5682224872245429, 0.5868374811275476, 0.6053852534723297, 0.6228816806465102, 0.6399008347573101, 0.6557920111211346, 0.6711346595698627, 0.6856330052473149, 0.6995613121110392, 0.7134291195723633, 0.7266852108538616, 0.7391453988860043, 0.7508392611544092, 0.7623933025817111, 0.7731554740531507, 0.7839001679194524, 0.7941138114757955, 0.8042427558687781, 0.8143609448124451, 0.8240542935081453, 0.8334693449528038, 0.8424945113597712, 0.850917372605064, 0.8590283258202038, 0.867131212448357, 0.8751588109313009, 0.8829363452176566, 0.8904745707567399, 0.897821887070471, 0.9048156179879511, 0.9116170952489145, 0.9183782395749445, 0.9248825975485641, 0.9312310015071071, 0.9375646167228413, 0.9433268486936833, 0.9487449062864256, 0.9541051533390964, 0.9594237230256691, 0.9644586177365425, 0.9689651509997862, 0.9729433228154002, 0.9764791767779094, 0.97968026738047, 0.9828786691207017, 0.9860152270273685, 0.9891396850535554, 0.9921901993656974, 0.9943775888702611, 0.9963969244792682, 0.9982562727797055, 1.0], \"yaxis\": \"y4\"}, {\"line\": {\"color\": \"blue\"}, \"name\": \"n3\", \"showlegend\": false, \"type\": \"scatter\", \"x\": [1, 2, 3, 4, 5, 6, 7, 8, 9, 10, 11, 12, 13, 14, 15, 16, 17, 18, 19, 20, 21, 22, 23, 24, 25, 26, 27, 28, 29, 30, 31, 32, 33, 34, 35, 36, 37, 38, 39, 40, 41, 42, 43, 44, 45, 46, 47, 48, 49, 50, 51, 52, 53, 54, 55, 56, 57, 58, 59, 60, 61, 62, 63, 64], \"xaxis\": \"x4\", \"y\": [0.2069701452909853, 0.34150234528518963, 0.46689384618155927, 0.5107513449460651, 0.5468849490569127, 0.5813103992193087, 0.6129664626959072, 0.6442740032440045, 0.6678662643119571, 0.6913700240519981, 0.7129831448046197, 0.73184019323051, 0.7501544857250492, 0.7666791717215545, 0.7830581829659223, 0.7985020562852782, 0.8131235721328899, 0.8271396762417794, 0.8401031627868364, 0.8515401972248177, 0.8627916138334625, 0.8726818330269726, 0.8821820198195983, 0.8916179844096688, 0.9004681172008205, 0.9082538844642577, 0.9158689146526089, 0.9232427199825818, 0.9291339322706387, 0.9348434427173198, 0.9392606771369743, 0.9435666974985453, 0.9478406067588386, 0.9518889551125964, 0.955496363221981, 0.9588742944368692, 0.9620948029357379, 0.9650537234388327, 0.9677769014666942, 0.9704992962969635, 0.9731887968283631, 0.9758641998031042, 0.9784307383125382, 0.9806456211031026, 0.982552707239957, 0.9843705088513077, 0.9860629988479165, 0.9876544563551395, 0.9892161523538613, 0.9906376559835905, 0.991906436082853, 0.9930232758492408, 0.9939678121453583, 0.9948027007785767, 0.9955835487779376, 0.9963330688736131, 0.9970426458920895, 0.9977271605876175, 0.9983043772130227, 0.9987641141996073, 0.9992089704319413, 0.9996412955028011, 0.9998582412358231, 1.0], \"yaxis\": \"y4\"}, {\"line\": {\"color\": \"maroon\"}, \"name\": \"s3\", \"showlegend\": false, \"type\": \"scatter\", \"x\": [1, 2, 3, 4, 5, 6, 7, 8, 9, 10, 11, 12, 13, 14, 15, 16, 17, 18, 19, 20, 21, 22, 23, 24, 25, 26, 27, 28, 29, 30, 31, 32, 33, 34, 35, 36, 37, 38, 39, 40, 41, 42, 43, 44, 45, 46, 47, 48, 49, 50, 51, 52, 53, 54, 55, 56, 57, 58, 59, 60, 61, 62, 63, 64], \"xaxis\": \"x4\", \"y\": [0.14035246122952522, 0.2294974228258539, 0.3126597982537551, 0.38567495743777586, 0.44353353712268084, 0.5013365536796248, 0.5522957555847455, 0.6011383495841014, 0.6474823391729603, 0.6933193152191749, 0.7361385188780069, 0.7705676902147255, 0.7983787721069625, 0.8247486853677107, 0.8489412185514866, 0.8673855725129206, 0.8850668016387649, 0.9000158875819013, 0.9147861297069132, 0.9273972234063149, 0.9399501494561324, 0.9507467597580572, 0.9599372483923589, 0.969041787813096, 0.9759333520280107, 0.9822206672263494, 0.9866752673758489, 0.9910144004000544, 0.9942700524290201, 0.9974449642876675, 0.998945168742615, 0.9999999999999999, 0.9999999999999999, 0.9999999999999999, 0.9999999999999999, 0.9999999999999999, 0.9999999999999999, 0.9999999999999999, 0.9999999999999999, 0.9999999999999999, 0.9999999999999999, 0.9999999999999999, 0.9999999999999999, 0.9999999999999999, 0.9999999999999999, 0.9999999999999999, 0.9999999999999999, 0.9999999999999999, 0.9999999999999999, 0.9999999999999999, 0.9999999999999999, 0.9999999999999999, 0.9999999999999999, 0.9999999999999999, 0.9999999999999999, 0.9999999999999999, 0.9999999999999999, 0.9999999999999999, 0.9999999999999999, 0.9999999999999999, 0.9999999999999999, 0.9999999999999999, 0.9999999999999999, 0.9999999999999999], \"yaxis\": \"y4\"}, {\"line\": {\"color\": \"brown\"}, \"name\": \"k2\", \"showlegend\": false, \"type\": \"scatter\", \"x\": [1, 2, 3, 4, 5, 6, 7, 8, 9, 10, 11, 12, 13, 14, 15, 16, 17, 18, 19, 20, 21, 22, 23, 24, 25, 26, 27, 28, 29, 30, 31, 32, 33, 34, 35, 36, 37, 38, 39, 40, 41, 42, 43, 44, 45, 46, 47, 48, 49, 50, 51, 52, 53, 54, 55, 56, 57, 58, 59, 60, 61, 62, 63, 64], \"xaxis\": \"x4\", \"y\": [0.0, 0.0, 0.0, 0.0, 0.0, 0.0, 0.0, 0.0, 0.0, 0.0, 0.0, 0.0, 0.0, 0.0, 0.0, 0.0, 0.0, 0.0, 0.0, 0.0, 0.0, 0.0, 0.0, 0.0, 0.0, 0.0, 0.0, 0.0, 0.0, 0.0, 0.0, 0.0, 0.0, 0.0, 0.0, 0.0, 0.0, 0.0, 0.0, 0.0, 0.0, 0.0, 0.0, 0.0, 0.0, 0.0, 0.0, 0.0, 0.0, 0.0, 0.0, 0.0, 0.0, 0.0, 0.0, 0.0, 0.0, 0.0, 0.0, 0.0, 0.0, 0.0, 0.0, 0.0], \"yaxis\": \"y4\"}, {\"line\": {\"color\": \"blueviolet\"}, \"name\": \"q2\", \"showlegend\": false, \"type\": \"scatter\", \"x\": [1, 2, 3, 4, 5, 6, 7, 8, 9, 10, 11, 12, 13, 14, 15, 16, 17, 18, 19, 20, 21, 22, 23, 24, 25, 26, 27, 28, 29, 30, 31, 32, 33, 34, 35, 36, 37, 38, 39, 40, 41, 42, 43, 44, 45, 46, 47, 48, 49, 50, 51, 52, 53, 54, 55, 56, 57, 58, 59, 60, 61, 62, 63, 64], \"xaxis\": \"x4\", \"y\": [0.08826240707693318, 0.14268932219533825, 0.18652601845870878, 0.2232616954422536, 0.2586715422765741, 0.2939872343686706, 0.3272807891481186, 0.3597663648605744, 0.3885580091746133, 0.41649131258279604, 0.4442505392001227, 0.4695376564227768, 0.49432881901487874, 0.5177120397639563, 0.5389340807322174, 0.5589244462934781, 0.5785272446600028, 0.5976329935733914, 0.61672232014802, 0.6356923110609926, 0.654461949441093, 0.6723590142217454, 0.6899309166949495, 0.7072772857158497, 0.7239153045249017, 0.7395690778309375, 0.7549863694588292, 0.7683848082418244, 0.7815533342821795, 0.7939675275621585, 0.8057084049529774, 0.816430002518092, 0.8270508764054785, 0.837323596711153, 0.8471222588379553, 0.8568092490611896, 0.8661568442833838, 0.875482543053898, 0.8847206560176922, 0.8931431261564062, 0.9010794950678241, 0.9090158639792421, 0.916740932131948, 0.9232244714743976, 0.9296992522361751, 0.9361324297397606, 0.9423794874040661, 0.9486046486166916, 0.9547345602645091, 0.9600181740548943, 0.9635686836948072, 0.9671016761733761, 0.9705799275227449, 0.9740351875978498, 0.9774860683826186, 0.9809292854092995, 0.9843659335004763, 0.9874905571552131, 0.9899933215822376, 0.9924807584930863, 0.9947689376936468, 0.9969585828616474, 0.9988832809643199, 1.0000000000000002], \"yaxis\": \"y4\"}, {\"line\": {\"color\": \"red\"}, \"name\": \"s4\", \"showlegend\": false, \"type\": \"scatter\", \"x\": [1, 2, 3, 4, 5, 6, 7, 8, 9, 10, 11, 12, 13, 14, 15, 16, 17, 18, 19, 20, 21, 22, 23, 24, 25, 26, 27, 28, 29, 30, 31, 32, 33, 34, 35, 36, 37, 38, 39, 40, 41, 42, 43, 44, 45, 46, 47, 48, 49, 50, 51, 52, 53, 54, 55, 56, 57, 58, 59, 60, 61, 62, 63, 64], \"xaxis\": \"x4\", \"y\": [0.18571517538943022, 0.2802994220494832, 0.3458905341196057, 0.4078423736232121, 0.46525586743890474, 0.522222894699679, 0.5679168607348893, 0.6122670413828009, 0.6563233786203044, 0.6914144218345829, 0.724328392378316, 0.7553661508179812, 0.7836400269107936, 0.811897237257941, 0.8394474691310919, 0.8653416521718537, 0.8868071325882868, 0.90684988461164, 0.923964728265017, 0.9381174549125795, 0.9506939528780428, 0.958263709987957, 0.9657887327279283, 0.9721471532713544, 0.9784889080691156, 0.9843859506009757, 0.988461163988306, 0.9919653563004852, 0.9952476310519682, 0.997404529398814, 0.9991930270520138, 1.0, 1.0, 1.0, 1.0, 1.0, 1.0, 1.0, 1.0, 1.0, 1.0, 1.0, 1.0, 1.0, 1.0, 1.0, 1.0, 1.0, 1.0, 1.0, 1.0, 1.0, 1.0, 1.0, 1.0, 1.0, 1.0, 1.0, 1.0, 1.0, 1.0, 1.0, 1.0, 1.0], \"yaxis\": \"y4\"}, {\"line\": {\"color\": \"navy\"}, \"name\": \"n4\", \"showlegend\": false, \"type\": \"scatter\", \"x\": [1, 2, 3, 4, 5, 6, 7, 8, 9, 10, 11, 12, 13, 14, 15, 16, 17, 18, 19, 20, 21, 22, 23, 24, 25, 26, 27, 28, 29, 30, 31, 32, 33, 34, 35, 36, 37, 38, 39, 40, 41, 42, 43, 44, 45, 46, 47, 48, 49, 50, 51, 52, 53, 54, 55, 56, 57, 58, 59, 60, 61, 62, 63, 64], \"xaxis\": \"x4\", \"y\": [0.1990640850514527, 0.3437124626292376, 0.4739440664397831, 0.5285076009767895, 0.5651961778222246, 0.60128052164374, 0.6365134462042776, 0.6624348813708012, 0.6862075734308724, 0.7063274022099743, 0.7259964796156174, 0.7444684001476656, 0.7617342780263553, 0.7771818022461636, 0.791999243900922, 0.805815015836883, 0.8171702345765078, 0.8275108588267702, 0.8375469431705918, 0.847136315131756, 0.8562991696642711, 0.8650912448411991, 0.8736773314872455, 0.8821495185926865, 0.8903801740481918, 0.8982473203315529, 0.9057436872593269, 0.9123538996052293, 0.9182863692946228, 0.9238504830229102, 0.9290817839091455, 0.9342177646124631, 0.9389506540337808, 0.9435987246482648, 0.9481595530614342, 0.952608097530319, 0.9566470883319214, 0.9599227098720209, 0.9631910612286775, 0.9662566552470937, 0.9690944501842995, 0.9718038052140143, 0.9742764753827553, 0.976703101056358, 0.9790142115930349, 0.9810215900214313, 0.9828698322122446, 0.9846106372477351, 0.986319130356813, 0.9879153395216062, 0.989472774374704, 0.990831490880363, 0.9920181463778738, 0.9931652197655289, 0.9942476693003582, 0.9951734059920855, 0.9960983348856525, 0.9969077486422936, 0.997650115151628, 0.9983714789087942, 0.9990621463358682, 0.9996122568830464, 0.9998360169734553, 1.0000000000000002], \"yaxis\": \"y4\"}, {\"line\": {\"color\": \"silver\"}, \"name\": \"r4\", \"showlegend\": false, \"type\": \"scatter\", \"x\": [1, 2, 3, 4, 5, 6, 7, 8, 9, 10, 11, 12, 13, 14, 15, 16, 17, 18, 19, 20, 21, 22, 23, 24, 25, 26, 27, 28, 29, 30, 31, 32, 33, 34, 35, 36, 37, 38, 39, 40, 41, 42, 43, 44, 45, 46, 47, 48, 49, 50, 51, 52, 53, 54, 55, 56, 57, 58, 59, 60, 61, 62, 63, 64], \"xaxis\": \"x4\", \"y\": [0.12556018686882817, 0.2095154838168238, 0.26476067921783647, 0.3143130892102834, 0.3589336168070048, 0.38995300304920694, 0.4197037513637508, 0.44832992978431757, 0.47536296752175006, 0.49783618205723557, 0.5181078132430693, 0.5381808263630514, 0.5578342238509525, 0.5745209388200408, 0.5902019749909083, 0.605533331468375, 0.6207989481634822, 0.6355582286625451, 0.6500321705317929, 0.6644319803060397, 0.6785030911684896, 0.692572803312166, 0.7065921615799926, 0.7204898313145158, 0.7325216102050521, 0.7438540297087867, 0.7550731529918594, 0.7661006518029484, 0.7769337287045066, 0.7876758888857806, 0.7980851539989369, 0.8084524575488852, 0.8187428315662852, 0.8288975298626458, 0.8386144291828684, 0.8479550731529918, 0.856908272022827, 0.8651635102246342, 0.8733488124877612, 0.8808501412705961, 0.8879024813271044, 0.8949436316334238, 0.9017483984670043, 0.9084062998293564, 0.9150614037541612, 0.9216311858337763, 0.9281086524743336, 0.9343469382046047, 0.9404859149019499, 0.9466067082552383, 0.9524561501664476, 0.9578789828517079, 0.9632206898480993, 0.9684658852491119, 0.9729809494503037, 0.9774344700254568, 0.9815327160321147, 0.9850099309032927, 0.9882339776764485, 0.9912943743530926, 0.9936903796122752, 0.9960500181833442, 0.9980375975606346, 1.0000000000000002], \"yaxis\": \"y4\"}, {\"line\": {\"color\": \"black\"}, \"name\": \"r3\", \"showlegend\": false, \"type\": \"scatter\", \"x\": [1, 2, 3, 4, 5, 6, 7, 8, 9, 10, 11, 12, 13, 14, 15, 16, 17, 18, 19, 20, 21, 22, 23, 24, 25, 26, 27, 28, 29, 30, 31, 32, 33, 34, 35, 36, 37, 38, 39, 40, 41, 42, 43, 44, 45, 46, 47, 48, 49, 50, 51, 52, 53, 54, 55, 56, 57, 58, 59, 60, 61, 62, 63, 64], \"xaxis\": \"x5\", \"y\": [0.09884740001062305, 0.16941023458259344, 0.2225957832267919, 0.27536502349271247, 0.32046126968313193, 0.3616198128334953, 0.4001986795846678, 0.435880614241479, 0.46112325742643906, 0.48364697623740494, 0.5050681956190004, 0.5253338003643417, 0.5454027352896, 0.5652620804795874, 0.5836284576923023, 0.6013445325072245, 0.6181562132589913, 0.6349291342651943, 0.6514537057905625, 0.6678490781640514, 0.6840520873558532, 0.6994497551676072, 0.7146507531592782, 0.728882757511854, 0.7416304071639495, 0.7538425981088116, 0.7656700626902997, 0.7773812480350963, 0.7888713592755661, 0.7998748203772903, 0.8101518951362262, 0.8199049955569848, 0.8296322561473675, 0.8393365479996383, 0.8489360449842737, 0.8584149560938217, 0.8665214851011845, 0.8741628971617819, 0.8817023854470076, 0.8886518642719844, 0.8954620951221579, 0.9022464861419556, 0.9089748908626055, 0.915589887438828, 0.9221359778007148, 0.9285413846416664, 0.9348290766997945, 0.9408770325538799, 0.9467900470715579, 0.9524475343777412, 0.9578695921182777, 0.9631681928914628, 0.9682399773757931, 0.9727102680308185, 0.9762072584083528, 0.9796697956787193, 0.9829744228745665, 0.98621875713287, 0.989378394169386, 0.9924203164230786, 0.9945779422594636, 0.9964987029840698, 0.9983462508559445, 1.0000000000000002], \"yaxis\": \"y5\"}, {\"line\": {\"color\": \"blue\"}, \"name\": \"n3\", \"showlegend\": false, \"type\": \"scatter\", \"x\": [1, 2, 3, 4, 5, 6, 7, 8, 9, 10, 11, 12, 13, 14, 15, 16, 17, 18, 19, 20, 21, 22, 23, 24, 25, 26, 27, 28, 29, 30, 31, 32, 33, 34, 35, 36, 37, 38, 39, 40, 41, 42, 43, 44, 45, 46, 47, 48, 49, 50, 51, 52, 53, 54, 55, 56, 57, 58, 59, 60, 61, 62, 63, 64], \"xaxis\": \"x5\", \"y\": [0.1987124975163918, 0.34254365631278005, 0.45892575667262725, 0.5078967702055323, 0.5480910435569684, 0.5841773185862198, 0.6159030399364196, 0.6466988983817913, 0.6729999779234828, 0.6975066781464556, 0.7172589796233746, 0.7360178378259046, 0.7532233922776342, 0.7700324524802966, 0.7858083316775945, 0.8003223171512461, 0.8138163675298584, 0.8266596021811599, 0.8386754089674813, 0.8505552244077974, 0.8618407400048568, 0.8726052497957921, 0.883126034836744, 0.892996004150385, 0.9027538247566063, 0.9113309932225091, 0.9183698699693136, 0.9242740137315937, 0.9297604697882862, 0.935150672229949, 0.9402123760955471, 0.9446471068724197, 0.9489767534273792, 0.9525920038854669, 0.9561869439477227, 0.9594507362518488, 0.9626580126719209, 0.9656860277722586, 0.9684614875157295, 0.971049738393271, 0.9735417356557828, 0.9759083383005496, 0.9780347484380862, 0.9801390820584143, 0.9821577587919728, 0.9841667218579595, 0.9861553745281143, 0.9878270084111529, 0.9894068039826035, 0.9907446409254475, 0.9920427401373157, 0.9932092633066205, 0.9941029207232265, 0.9948411594586836, 0.9955670353445039, 0.9962796653199989, 0.9969755171424154, 0.9976113208380244, 0.99824359229088, 0.9987151466984566, 0.9991734551957081, 0.9995946751440491, 0.9998127911340705, 0.9999999999999998], \"yaxis\": \"y5\"}, {\"line\": {\"color\": \"maroon\"}, \"name\": \"s3\", \"showlegend\": false, \"type\": \"scatter\", \"x\": [1, 2, 3, 4, 5, 6, 7, 8, 9, 10, 11, 12, 13, 14, 15, 16, 17, 18, 19, 20, 21, 22, 23, 24, 25, 26, 27, 28, 29, 30, 31, 32, 33, 34, 35, 36, 37, 38, 39, 40, 41, 42, 43, 44, 45, 46, 47, 48, 49, 50, 51, 52, 53, 54, 55, 56, 57, 58, 59, 60, 61, 62, 63, 64], \"xaxis\": \"x5\", \"y\": [0.12742809114680612, 0.21615177357950704, 0.30469166024209376, 0.3861727958416455, 0.45440374665193645, 0.5148457307719819, 0.5716495521344153, 0.6271389853678697, 0.6695054006151694, 0.7118449916149389, 0.749099897471765, 0.7845049237396577, 0.8131164609478695, 0.8360035050350105, 0.8569035678236195, 0.8745380268480912, 0.8906395298007455, 0.9049358602436833, 0.9187543216843242, 0.9309792241235425, 0.9422444145955697, 0.9517352307680079, 0.9606289590602373, 0.968986202401863, 0.9766162105882259, 0.9828245336554892, 0.9873816752636724, 0.990771465358968, 0.9939486484553207, 0.9966767737782052, 0.9987144230998498, 1.0, 1.0, 1.0, 1.0, 1.0, 1.0, 1.0, 1.0, 1.0, 1.0, 1.0, 1.0, 1.0, 1.0, 1.0, 1.0, 1.0, 1.0, 1.0, 1.0, 1.0, 1.0, 1.0, 1.0, 1.0, 1.0, 1.0, 1.0, 1.0, 1.0, 1.0, 1.0, 1.0], \"yaxis\": \"y5\"}, {\"line\": {\"color\": \"brown\"}, \"name\": \"k2\", \"showlegend\": false, \"type\": \"scatter\", \"x\": [1, 2, 3, 4, 5, 6, 7, 8, 9, 10, 11, 12, 13, 14, 15, 16, 17, 18, 19, 20, 21, 22, 23, 24, 25, 26, 27, 28, 29, 30, 31, 32, 33, 34, 35, 36, 37, 38, 39, 40, 41, 42, 43, 44, 45, 46, 47, 48, 49, 50, 51, 52, 53, 54, 55, 56, 57, 58, 59, 60, 61, 62, 63, 64], \"xaxis\": \"x5\", \"y\": [0.0, 0.0, 0.0, 0.0, 0.0, 0.0, 0.0, 0.0, 0.0, 0.0, 0.0, 0.0, 0.0, 0.0, 0.0, 0.0, 0.0, 0.0, 0.0, 0.0, 0.0, 0.0, 0.0, 0.0, 0.0, 0.0, 0.0, 0.0, 0.0, 0.0, 0.0, 0.0, 0.0, 0.0, 0.0, 0.0, 0.0, 0.0, 0.0, 0.0, 0.0, 0.0, 0.0, 0.0, 0.0, 0.0, 0.0, 0.0, 0.0, 0.0, 0.0, 0.0, 0.0, 0.0, 0.0, 0.0, 0.0, 0.0, 0.0, 0.0, 0.0, 0.0, 0.0, 0.0], \"yaxis\": \"y5\"}, {\"line\": {\"color\": \"blueviolet\"}, \"name\": \"q2\", \"showlegend\": false, \"type\": \"scatter\", \"x\": [1, 2, 3, 4, 5, 6, 7, 8, 9, 10, 11, 12, 13, 14, 15, 16, 17, 18, 19, 20, 21, 22, 23, 24, 25, 26, 27, 28, 29, 30, 31, 32, 33, 34, 35, 36, 37, 38, 39, 40, 41, 42, 43, 44, 45, 46, 47, 48, 49, 50, 51, 52, 53, 54, 55, 56, 57, 58, 59, 60, 61, 62, 63, 64], \"xaxis\": \"x5\", \"y\": [0.07889692019514002, 0.12917606597614495, 0.16793351687122732, 0.20512248656066318, 0.24171672522573578, 0.27451955361049263, 0.30470459051915877, 0.3341047774694439, 0.36274326997254247, 0.3912513603862827, 0.41626418732077336, 0.44092602545400045, 0.4655756764760725, 0.48881771615974384, 0.5114467441523195, 0.5335249147206897, 0.5548706399086455, 0.5760554952293554, 0.5969844212158106, 0.6175879513344278, 0.6366169066918209, 0.6555861452045546, 0.6741093354490159, 0.692316879514563, 0.7104488634909493, 0.727806965908994, 0.7450882895267623, 0.7603599585150737, 0.7755255996363366, 0.7895688078202255, 0.8032585897806198, 0.8155687907582698, 0.8262690743523464, 0.8369120785239945, 0.8474783038953663, 0.8571049029966887, 0.8664853224526805, 0.8758498986641707, 0.8848610486521664, 0.8929484156146142, 0.9008310391096583, 0.9087063503380095, 0.91621361080948, 0.9235526891470118, 0.9303604094381863, 0.9371669110182452, 0.9438259485533289, 0.9500279694201006, 0.9558997195745722, 0.9607038787918671, 0.9642576404046607, 0.9676944057503664, 0.9711019220293001, 0.9744948137748479, 0.9778742996981252, 0.9812367236657855, 0.9845211501220539, 0.9877141732446598, 0.9901552516090033, 0.9925439253953803, 0.994799759670168, 0.9970178139003752, 0.9989324090628233, 1.0], \"yaxis\": \"y5\"}, {\"line\": {\"color\": \"red\"}, \"name\": \"s4\", \"showlegend\": false, \"type\": \"scatter\", \"x\": [1, 2, 3, 4, 5, 6, 7, 8, 9, 10, 11, 12, 13, 14, 15, 16, 17, 18, 19, 20, 21, 22, 23, 24, 25, 26, 27, 28, 29, 30, 31, 32, 33, 34, 35, 36, 37, 38, 39, 40, 41, 42, 43, 44, 45, 46, 47, 48, 49, 50, 51, 52, 53, 54, 55, 56, 57, 58, 59, 60, 61, 62, 63, 64], \"xaxis\": \"x5\", \"y\": [0.17817306318746726, 0.2646193435233243, 0.32969858578162947, 0.3916361125660683, 0.45357165531800075, 0.510017380124756, 0.5652260606637779, 0.6099421852927638, 0.6484691205180705, 0.6862877561385965, 0.7237085932415916, 0.7572764392171801, 0.7899673428249449, 0.8199401218989572, 0.8457871053759345, 0.867785065790518, 0.888663039855245, 0.9063437455359269, 0.9230334269796676, 0.9374950399187341, 0.950069837944225, 0.9582509959843183, 0.9656444931193754, 0.9728425630525531, 0.9789900877735982, 0.9845056981413585, 0.9884539228290717, 0.9919438360078092, 0.9947244575655129, 0.9970189911591513, 0.9990992492420997, 1.0000000000000002, 1.0000000000000002, 1.0000000000000002, 1.0000000000000002, 1.0000000000000002, 1.0000000000000002, 1.0000000000000002, 1.0000000000000002, 1.0000000000000002, 1.0000000000000002, 1.0000000000000002, 1.0000000000000002, 1.0000000000000002, 1.0000000000000002, 1.0000000000000002, 1.0000000000000002, 1.0000000000000002, 1.0000000000000002, 1.0000000000000002, 1.0000000000000002, 1.0000000000000002, 1.0000000000000002, 1.0000000000000002, 1.0000000000000002, 1.0000000000000002, 1.0000000000000002, 1.0000000000000002, 1.0000000000000002, 1.0000000000000002, 1.0000000000000002, 1.0000000000000002, 1.0000000000000002, 1.0000000000000002], \"yaxis\": \"y5\"}, {\"line\": {\"color\": \"navy\"}, \"name\": \"n4\", \"showlegend\": false, \"type\": \"scatter\", \"x\": [1, 2, 3, 4, 5, 6, 7, 8, 9, 10, 11, 12, 13, 14, 15, 16, 17, 18, 19, 20, 21, 22, 23, 24, 25, 26, 27, 28, 29, 30, 31, 32, 33, 34, 35, 36, 37, 38, 39, 40, 41, 42, 43, 44, 45, 46, 47, 48, 49, 50, 51, 52, 53, 54, 55, 56, 57, 58, 59, 60, 61, 62, 63, 64], \"xaxis\": \"x5\", \"y\": [0.17628683848337515, 0.33083665805933743, 0.44809303979225124, 0.5001163730461698, 0.540070813456756, 0.5775658424034058, 0.614974736969426, 0.6460857421943008, 0.6763757218335994, 0.700277096135132, 0.722571239547043, 0.7408317282405311, 0.7582244588653353, 0.7742463699856503, 0.7897184871870526, 0.8044547968603101, 0.8169305372036381, 0.8279658174794147, 0.8384210651707383, 0.8487791826030541, 0.858220976837182, 0.8676343650521661, 0.8759701571860812, 0.8838862732952263, 0.8912067793255493, 0.8980599605247964, 0.9049039784920617, 0.9107684469604641, 0.9161811680921599, 0.9214546080977312, 0.9267133869321315, 0.9319217679906313, 0.9370440146685015, 0.9421021187224986, 0.9467973587900133, 0.9512314467460444, 0.9555051781423927, 0.9591017466952801, 0.9624728997414134, 0.9657570020837187, 0.9689494721062053, 0.9717708312334258, 0.9745821108054662, 0.9771588116387705, 0.9794853562389695, 0.9815296732941267, 0.9834851069990596, 0.9851225765542213, 0.9866198486600603, 0.9881143717963047, 0.9894650321904336, 0.9907368887895184, 0.9919226110079735, 0.9930212825226008, 0.9940933806644806, 0.9950665159009562, 0.9959718432207658, 0.9968139442399004, 0.9976203086543057, 0.9983964344031708, 0.9991056685585682, 0.9995867382376168, 0.9998359781475239, 0.9999999999999996], \"yaxis\": \"y5\"}, {\"line\": {\"color\": \"silver\"}, \"name\": \"r4\", \"showlegend\": false, \"type\": \"scatter\", \"x\": [1, 2, 3, 4, 5, 6, 7, 8, 9, 10, 11, 12, 13, 14, 15, 16, 17, 18, 19, 20, 21, 22, 23, 24, 25, 26, 27, 28, 29, 30, 31, 32, 33, 34, 35, 36, 37, 38, 39, 40, 41, 42, 43, 44, 45, 46, 47, 48, 49, 50, 51, 52, 53, 54, 55, 56, 57, 58, 59, 60, 61, 62, 63, 64], \"xaxis\": \"x5\", \"y\": [0.09118867986200462, 0.170345850184083, 0.22502845189030496, 0.2775641616126799, 0.32463681124882254, 0.3605114505858266, 0.39108646106028233, 0.41935857701919277, 0.4459844948340876, 0.4697102512977925, 0.49188786835169207, 0.5121681974724618, 0.5315318260022048, 0.549611776556831, 0.5667809694740189, 0.5839026187624988, 0.6009752386838736, 0.6180181438373058, 0.6348991035054513, 0.6513491990384302, 0.6672763146556209, 0.6831529151673091, 0.6988096263962228, 0.7120148692698786, 0.7247818193163822, 0.7374551678438669, 0.7499814282700361, 0.7623145427045789, 0.774580798911251, 0.7863225894637377, 0.7978415192566555, 0.8092831906529228, 0.8200503368168948, 0.8303791901537146, 0.8404034671191237, 0.8502464840000834, 0.8596185218091541, 0.8681526031622457, 0.8759378723631859, 0.8836755979354181, 0.8910938897522681, 0.8981452041850281, 0.9047923977737697, 0.9113593614890666, 0.9178594669764928, 0.924300142928034, 0.9303872131410591, 0.936165249767482, 0.9419046571955797, 0.9476321787165004, 0.9531977547521343, 0.9584097250492523, 0.9636008950088104, 0.9687088636181296, 0.9733072239572345, 0.9776797520599763, 0.9818606199094888, 0.9853194188979981, 0.9887455316417707, 0.9918581535837496, 0.9940808182258501, 0.9961578805050323, 0.9980952833748846, 1.0000000000000002], \"yaxis\": \"y5\"}, {\"line\": {\"color\": \"black\"}, \"name\": \"r3\", \"showlegend\": false, \"type\": \"scatter\", \"x\": [1, 2, 3, 4, 5, 6, 7, 8, 9, 10, 11, 12, 13, 14, 15, 16, 17, 18, 19, 20, 21, 22, 23, 24, 25, 26, 27, 28, 29, 30, 31, 32, 33, 34, 35, 36, 37, 38, 39, 40, 41, 42, 43, 44, 45, 46, 47, 48, 49, 50, 51, 52, 53, 54, 55, 56, 57, 58, 59, 60, 61, 62, 63, 64], \"xaxis\": \"x6\", \"y\": [0.09054115520223427, 0.16035043703229435, 0.21739495725282398, 0.2611358493955135, 0.3022896030640063, 0.34208749916707465, 0.38096990170032646, 0.41621640413826266, 0.4427019807688407, 0.4664961221894202, 0.4875698570845006, 0.5084552784288277, 0.5288452902780957, 0.5485892417917021, 0.5681825424647058, 0.5871761369068487, 0.6057235730902835, 0.6240508272759143, 0.64154370757513, 0.6587671546401909, 0.6746521269291276, 0.6898678618300023, 0.7046606155245693, 0.7193896323250352, 0.7336377252881924, 0.7473353632568396, 0.7609142188319347, 0.7741309329632732, 0.7865509359183473, 0.7980438567774047, 0.8088095976173991, 0.8190625461730342, 0.8292285807821677, 0.8390788280523455, 0.848807395797421, 0.8582462503874914, 0.8668333483018463, 0.8746961633286883, 0.8821765569909233, 0.8894831227601552, 0.896560815136933, 0.9034386054367571, 0.9101164936596277, 0.9166929822782464, 0.9232607795022149, 0.9298256795946334, 0.9362862829512499, 0.9424166133111606, 0.9480138714658616, 0.953301136544707, 0.9583566310995483, 0.9633976399966393, 0.9682879980531276, 0.972961071243362, 0.9765564114969768, 0.9799779238575885, 0.9833443907187492, 0.9865631038708573, 0.9897557428390149, 0.9927339940724687, 0.9948489001040068, 0.9967001671644903, 0.998400783384371, 0.9999999999999999], \"yaxis\": \"y6\"}, {\"line\": {\"color\": \"blue\"}, \"name\": \"n3\", \"showlegend\": false, \"type\": \"scatter\", \"x\": [1, 2, 3, 4, 5, 6, 7, 8, 9, 10, 11, 12, 13, 14, 15, 16, 17, 18, 19, 20, 21, 22, 23, 24, 25, 26, 27, 28, 29, 30, 31, 32, 33, 34, 35, 36, 37, 38, 39, 40, 41, 42, 43, 44, 45, 46, 47, 48, 49, 50, 51, 52, 53, 54, 55, 56, 57, 58, 59, 60, 61, 62, 63, 64], \"xaxis\": \"x6\", \"y\": [0.197866468104344, 0.34993570151827996, 0.45923932141832763, 0.5169123052287867, 0.5567051824386315, 0.5952158890381062, 0.6268161709256893, 0.6554152238289984, 0.6796093083686802, 0.7028840290929261, 0.7239021295429205, 0.7406140362540865, 0.7572290678524689, 0.7731431795171823, 0.7890098033815115, 0.8037006293083309, 0.817208059249579, 0.8306585038303661, 0.843453616765853, 0.8557301629211457, 0.8665079940963167, 0.8762847824393915, 0.8859741932297595, 0.8952039221124095, 0.904211408089262, 0.9121817605057263, 0.9188338515835284, 0.9250889446501196, 0.9313421382046955, 0.9368279289050645, 0.9414760348066584, 0.9460082704753151, 0.9501321110606687, 0.9534505585515084, 0.9566683319055338, 0.95981202429096, 0.9627334737705887, 0.9654136852242663, 0.9679913230291143, 0.9705043774254398, 0.9729984367016118, 0.9754924959777838, 0.9778592879489264, 0.9799468516538106, 0.9820021236544336, 0.9839928122465343, 0.9859683047425122, 0.9878317260295836, 0.9896837502445628, 0.9912793403374679, 0.9926014007001607, 0.9936309362124875, 0.9945427019798619, 0.9952816121538383, 0.9959768335514612, 0.9966359642207923, 0.9972457075777239, 0.9978060636222561, 0.9983436255226039, 0.9987995084062911, 0.9992230995857171, 0.999604901500805, 0.999834742454664, 1.0000000000000007], \"yaxis\": \"y6\"}, {\"line\": {\"color\": \"maroon\"}, \"name\": \"s3\", \"showlegend\": false, \"type\": \"scatter\", \"x\": [1, 2, 3, 4, 5, 6, 7, 8, 9, 10, 11, 12, 13, 14, 15, 16, 17, 18, 19, 20, 21, 22, 23, 24, 25, 26, 27, 28, 29, 30, 31, 32, 33, 34, 35, 36, 37, 38, 39, 40, 41, 42, 43, 44, 45, 46, 47, 48, 49, 50, 51, 52, 53, 54, 55, 56, 57, 58, 59, 60, 61, 62, 63, 64], \"xaxis\": \"x6\", \"y\": [0.11494653472247937, 0.2061174123197766, 0.2948747829913109, 0.3817697453401672, 0.46113665720577757, 0.524691613499084, 0.5869984294778939, 0.6409102493448897, 0.6814846117150929, 0.7196955670325409, 0.7577954313272327, 0.7895304334945967, 0.8175754711021753, 0.8376981940084908, 0.8553769144141691, 0.8729075134561723, 0.8891442288213678, 0.9051827229498804, 0.9211362651198148, 0.9329140917873238, 0.9423982155732187, 0.9517189702080014, 0.9609721989269913, 0.9691646172914264, 0.9759978043186089, 0.9824715792133447, 0.9874314666411084, 0.9905441935336311, 0.9934543426787747, 0.9960203274789089, 0.9982704652535597, 0.9999999999999999, 0.9999999999999999, 0.9999999999999999, 0.9999999999999999, 0.9999999999999999, 0.9999999999999999, 0.9999999999999999, 0.9999999999999999, 0.9999999999999999, 0.9999999999999999, 0.9999999999999999, 0.9999999999999999, 0.9999999999999999, 0.9999999999999999, 0.9999999999999999, 0.9999999999999999, 0.9999999999999999, 0.9999999999999999, 0.9999999999999999, 0.9999999999999999, 0.9999999999999999, 0.9999999999999999, 0.9999999999999999, 0.9999999999999999, 0.9999999999999999, 0.9999999999999999, 0.9999999999999999, 0.9999999999999999, 0.9999999999999999, 0.9999999999999999, 0.9999999999999999, 0.9999999999999999, 0.9999999999999999], \"yaxis\": \"y6\"}, {\"line\": {\"color\": \"brown\"}, \"name\": \"k2\", \"showlegend\": false, \"type\": \"scatter\", \"x\": [1, 2, 3, 4, 5, 6, 7, 8, 9, 10, 11, 12, 13, 14, 15, 16, 17, 18, 19, 20, 21, 22, 23, 24, 25, 26, 27, 28, 29, 30, 31, 32, 33, 34, 35, 36, 37, 38, 39, 40, 41, 42, 43, 44, 45, 46, 47, 48, 49, 50, 51, 52, 53, 54, 55, 56, 57, 58, 59, 60, 61, 62, 63, 64], \"xaxis\": \"x6\", \"y\": [0.0, 0.0, 0.0, 0.0, 0.0, 0.0, 0.0, 0.0, 0.0, 0.0, 0.0, 0.0, 0.0, 0.0, 0.0, 0.0, 0.0, 0.0, 0.0, 0.0, 0.0, 0.0, 0.0, 0.0, 0.0, 0.0, 0.0, 0.0, 0.0, 0.0, 0.0, 0.0, 0.0, 0.0, 0.0, 0.0, 0.0, 0.0, 0.0, 0.0, 0.0, 0.0, 0.0, 0.0, 0.0, 0.0, 0.0, 0.0, 0.0, 0.0, 0.0, 0.0, 0.0, 0.0, 0.0, 0.0, 0.0, 0.0, 0.0, 0.0, 0.0, 0.0, 0.0, 0.0], \"yaxis\": \"y6\"}, {\"line\": {\"color\": \"blueviolet\"}, \"name\": \"q2\", \"showlegend\": false, \"type\": \"scatter\", \"x\": [1, 2, 3, 4, 5, 6, 7, 8, 9, 10, 11, 12, 13, 14, 15, 16, 17, 18, 19, 20, 21, 22, 23, 24, 25, 26, 27, 28, 29, 30, 31, 32, 33, 34, 35, 36, 37, 38, 39, 40, 41, 42, 43, 44, 45, 46, 47, 48, 49, 50, 51, 52, 53, 54, 55, 56, 57, 58, 59, 60, 61, 62, 63, 64], \"xaxis\": \"x6\", \"y\": [0.07709283691909528, 0.1294084307829659, 0.16780312624607213, 0.20539782772794185, 0.24209974595802414, 0.2723314934307704, 0.3021795447306979, 0.33101443750893406, 0.3593302119357095, 0.38652499166150467, 0.411836399976928, 0.43682429975448456, 0.4617996604414261, 0.48496688426168577, 0.5080764282651165, 0.5303232828342357, 0.5518478857839314, 0.5733549340067661, 0.59451841114675, 0.615553989562461, 0.6346184229334952, 0.6535098168540425, 0.6723410231396378, 0.6901264692679429, 0.7075257114053061, 0.7244911010073906, 0.7410803178910252, 0.757596808049093, 0.773925211847936, 0.7895714891173232, 0.8035325126080556, 0.817338051375162, 0.8290194681920888, 0.8398055939391051, 0.8496287175268901, 0.8589452618538292, 0.8681414309108646, 0.877332584331654, 0.8857262515893297, 0.8937462539466787, 0.9016534044884928, 0.909410085942927, 0.9170539155818264, 0.9243817601372278, 0.9316920499657683, 0.9388142534350838, 0.9454524480066607, 0.9513382971413381, 0.9570611380980205, 0.9613896321783159, 0.9650134293660486, 0.9685945936456904, 0.9719500542942624, 0.9752854523978504, 0.9785732019571013, 0.9817506075189403, 0.9848452550827204, 0.9877768944685056, 0.9900891027779102, 0.9923912798148228, 0.9946708864886283, 0.9968602117100059, 0.9988639583902817, 1.0], \"yaxis\": \"y6\"}, {\"line\": {\"color\": \"red\"}, \"name\": \"s4\", \"showlegend\": false, \"type\": \"scatter\", \"x\": [1, 2, 3, 4, 5, 6, 7, 8, 9, 10, 11, 12, 13, 14, 15, 16, 17, 18, 19, 20, 21, 22, 23, 24, 25, 26, 27, 28, 29, 30, 31, 32, 33, 34, 35, 36, 37, 38, 39, 40, 41, 42, 43, 44, 45, 46, 47, 48, 49, 50, 51, 52, 53, 54, 55, 56, 57, 58, 59, 60, 61, 62, 63, 64], \"xaxis\": \"x6\", \"y\": [0.16829861185150435, 0.25533402989530246, 0.3247222636842442, 0.39211250186579094, 0.45549182250463777, 0.5094504978996524, 0.558914216261168, 0.6065803782757958, 0.6458472823421539, 0.6850310254387273, 0.7238927863189542, 0.7589931125658356, 0.792280956137919, 0.8234641874746783, 0.8479518945774781, 0.8697997739727485, 0.8901614175746847, 0.9088278567925451, 0.9247030726912167, 0.939205066422159, 0.9517964901806083, 0.9603727317312405, 0.968458536793398, 0.9746081838923596, 0.9802418065121433, 0.985176024052711, 0.9893191462140433, 0.991807578309913, 0.9942832164104312, 0.9966330468899928, 0.9989658187090856, 0.9999999999999998, 0.9999999999999998, 0.9999999999999998, 0.9999999999999998, 0.9999999999999998, 0.9999999999999998, 0.9999999999999998, 0.9999999999999998, 0.9999999999999998, 0.9999999999999998, 0.9999999999999998, 0.9999999999999998, 0.9999999999999998, 0.9999999999999998, 0.9999999999999998, 0.9999999999999998, 0.9999999999999998, 0.9999999999999998, 0.9999999999999998, 0.9999999999999998, 0.9999999999999998, 0.9999999999999998, 0.9999999999999998, 0.9999999999999998, 0.9999999999999998, 0.9999999999999998, 0.9999999999999998, 0.9999999999999998, 0.9999999999999998, 0.9999999999999998, 0.9999999999999998, 0.9999999999999998, 0.9999999999999998], \"yaxis\": \"y6\"}, {\"line\": {\"color\": \"navy\"}, \"name\": \"n4\", \"showlegend\": false, \"type\": \"scatter\", \"x\": [1, 2, 3, 4, 5, 6, 7, 8, 9, 10, 11, 12, 13, 14, 15, 16, 17, 18, 19, 20, 21, 22, 23, 24, 25, 26, 27, 28, 29, 30, 31, 32, 33, 34, 35, 36, 37, 38, 39, 40, 41, 42, 43, 44, 45, 46, 47, 48, 49, 50, 51, 52, 53, 54, 55, 56, 57, 58, 59, 60, 61, 62, 63, 64], \"xaxis\": \"x6\", \"y\": [0.16020352170432708, 0.31468569978778516, 0.43131339156293574, 0.48264224196425587, 0.5224025316306321, 0.5596610856195434, 0.5957985788095908, 0.6296329804286386, 0.6626708388484935, 0.6890295350351168, 0.712689818211141, 0.7325463617643531, 0.7512916783853578, 0.7673012133024681, 0.7825456733936871, 0.7970427596189967, 0.8109458802982416, 0.823061204019298, 0.8346454989408927, 0.8458403727428819, 0.8568130011584296, 0.8666940703750835, 0.87543441105956, 0.883675191317876, 0.8900986730180335, 0.8963058096517436, 0.9024637769521702, 0.9081792202530452, 0.9138690955006128, 0.9194881669082521, 0.9250541354359453, 0.9304863633771073, 0.935835986838353, 0.9409358300865185, 0.9458055608549172, 0.9499397183973946, 0.9537945941268217, 0.9575452308696877, 0.961181794759336, 0.964666917102471, 0.9681304049389613, 0.9715191553888607, 0.9743591760793161, 0.9769828517033241, 0.9795455573540606, 0.9819646885516092, 0.9840652024694807, 0.9857054914278185, 0.987170737559667, 0.9885396117982799, 0.9898494828369525, 0.9910275800624254, 0.9921840427812535, 0.993175296540249, 0.9941626167525819, 0.9950653657116671, 0.995942546617445, 0.99678629237659, 0.9976162707224157, 0.9984403487482473, 0.9990244804276553, 0.999565343093774, 0.9998190568535169, 1.0000000000000002], \"yaxis\": \"y6\"}, {\"line\": {\"color\": \"silver\"}, \"name\": \"r4\", \"showlegend\": false, \"type\": \"scatter\", \"x\": [1, 2, 3, 4, 5, 6, 7, 8, 9, 10, 11, 12, 13, 14, 15, 16, 17, 18, 19, 20, 21, 22, 23, 24, 25, 26, 27, 28, 29, 30, 31, 32, 33, 34, 35, 36, 37, 38, 39, 40, 41, 42, 43, 44, 45, 46, 47, 48, 49, 50, 51, 52, 53, 54, 55, 56, 57, 58, 59, 60, 61, 62, 63, 64], \"xaxis\": \"x6\", \"y\": [0.07825999030486154, 0.1548694278976122, 0.21080680800949292, 0.2656170539269772, 0.3093611617511919, 0.34802870474734654, 0.37556765630436795, 0.400804755970986, 0.42602698579335085, 0.45106780351582604, 0.47507962801597625, 0.4941160026289886, 0.5127895530422215, 0.5314006501095908, 0.5497738296689081, 0.5680191285676475, 0.586228739840179, 0.6043818457045481, 0.622359487406729, 0.639757205183033, 0.6570657038938176, 0.6739013415573487, 0.6901719251392563, 0.7044707673731827, 0.7180528831141024, 0.7316260769484701, 0.745181426969734, 0.758591052517316, 0.771150122973612, 0.7834861457661092, 0.7956586002718207, 0.8075425797990191, 0.819277860883685, 0.8300228103410844, 0.8406279832625032, 0.8508227484825323, 0.8595364772149375, 0.8680985335359597, 0.8763275053457089, 0.884235288519588, 0.8917148201789734, 0.8991646121498523, 0.9061653348242831, 0.9129876193676748, 0.9195600905276119, 0.9257727114566203, 0.9318396079119469, 0.9375853157314031, 0.9431436635132685, 0.9486306360427182, 0.9539867539427394, 0.9588878546086109, 0.9637473197105735, 0.9685413574978217, 0.9732342803441477, 0.9777874266544933, 0.9821799786469037, 0.9857071057037748, 0.9891093260689188, 0.9918156377230105, 0.9942156305854852, 0.9964728729431288, 0.9983494472878891, 1.0], \"yaxis\": \"y6\"}],                        {\"annotations\": [{\"font\": {\"size\": 16}, \"showarrow\": false, \"text\": \"All Games\", \"x\": 0.14444444444444446, \"xanchor\": \"center\", \"xref\": \"paper\", \"y\": 1.0, \"yanchor\": \"bottom\", \"yref\": \"paper\"}, {\"font\": {\"size\": 16}, \"showarrow\": false, \"text\": \"Elo 0-1250\", \"x\": 0.5, \"xanchor\": \"center\", \"xref\": \"paper\", \"y\": 1.0, \"yanchor\": \"bottom\", \"yref\": \"paper\"}, {\"font\": {\"size\": 16}, \"showarrow\": false, \"text\": \"Elo 1250-1500\", \"x\": 0.8555555555555556, \"xanchor\": \"center\", \"xref\": \"paper\", \"y\": 1.0, \"yanchor\": \"bottom\", \"yref\": \"paper\"}, {\"font\": {\"size\": 16}, \"showarrow\": false, \"text\": \"Elo 1500-1750\", \"x\": 0.14444444444444446, \"xanchor\": \"center\", \"xref\": \"paper\", \"y\": 0.375, \"yanchor\": \"bottom\", \"yref\": \"paper\"}, {\"font\": {\"size\": 16}, \"showarrow\": false, \"text\": \"Elo 1750-2000\", \"x\": 0.5, \"xanchor\": \"center\", \"xref\": \"paper\", \"y\": 0.375, \"yanchor\": \"bottom\", \"yref\": \"paper\"}, {\"font\": {\"size\": 16}, \"showarrow\": false, \"text\": \"Elo 2000+\", \"x\": 0.8555555555555556, \"xanchor\": \"center\", \"xref\": \"paper\", \"y\": 0.375, \"yanchor\": \"bottom\", \"yref\": \"paper\"}], \"template\": {\"data\": {\"bar\": [{\"error_x\": {\"color\": \"#2a3f5f\"}, \"error_y\": {\"color\": \"#2a3f5f\"}, \"marker\": {\"line\": {\"color\": \"#E5ECF6\", \"width\": 0.5}}, \"type\": \"bar\"}], \"barpolar\": [{\"marker\": {\"line\": {\"color\": \"#E5ECF6\", \"width\": 0.5}}, \"type\": \"barpolar\"}], \"carpet\": [{\"aaxis\": {\"endlinecolor\": \"#2a3f5f\", \"gridcolor\": \"white\", \"linecolor\": \"white\", \"minorgridcolor\": \"white\", \"startlinecolor\": \"#2a3f5f\"}, \"baxis\": {\"endlinecolor\": \"#2a3f5f\", \"gridcolor\": \"white\", \"linecolor\": \"white\", \"minorgridcolor\": \"white\", \"startlinecolor\": \"#2a3f5f\"}, \"type\": \"carpet\"}], \"choropleth\": [{\"colorbar\": {\"outlinewidth\": 0, \"ticks\": \"\"}, \"type\": \"choropleth\"}], \"contour\": [{\"colorbar\": {\"outlinewidth\": 0, \"ticks\": \"\"}, \"colorscale\": [[0.0, \"#0d0887\"], [0.1111111111111111, \"#46039f\"], [0.2222222222222222, \"#7201a8\"], [0.3333333333333333, \"#9c179e\"], [0.4444444444444444, \"#bd3786\"], [0.5555555555555556, \"#d8576b\"], [0.6666666666666666, \"#ed7953\"], [0.7777777777777778, \"#fb9f3a\"], [0.8888888888888888, \"#fdca26\"], [1.0, \"#f0f921\"]], \"type\": \"contour\"}], \"contourcarpet\": [{\"colorbar\": {\"outlinewidth\": 0, \"ticks\": \"\"}, \"type\": \"contourcarpet\"}], \"heatmap\": [{\"colorbar\": {\"outlinewidth\": 0, \"ticks\": \"\"}, \"colorscale\": [[0.0, \"#0d0887\"], [0.1111111111111111, \"#46039f\"], [0.2222222222222222, \"#7201a8\"], [0.3333333333333333, \"#9c179e\"], [0.4444444444444444, \"#bd3786\"], [0.5555555555555556, \"#d8576b\"], [0.6666666666666666, \"#ed7953\"], [0.7777777777777778, \"#fb9f3a\"], [0.8888888888888888, \"#fdca26\"], [1.0, \"#f0f921\"]], \"type\": \"heatmap\"}], \"heatmapgl\": [{\"colorbar\": {\"outlinewidth\": 0, \"ticks\": \"\"}, \"colorscale\": [[0.0, \"#0d0887\"], [0.1111111111111111, \"#46039f\"], [0.2222222222222222, \"#7201a8\"], [0.3333333333333333, \"#9c179e\"], [0.4444444444444444, \"#bd3786\"], [0.5555555555555556, \"#d8576b\"], [0.6666666666666666, \"#ed7953\"], [0.7777777777777778, \"#fb9f3a\"], [0.8888888888888888, \"#fdca26\"], [1.0, \"#f0f921\"]], \"type\": \"heatmapgl\"}], \"histogram\": [{\"marker\": {\"colorbar\": {\"outlinewidth\": 0, \"ticks\": \"\"}}, \"type\": \"histogram\"}], \"histogram2d\": [{\"colorbar\": {\"outlinewidth\": 0, \"ticks\": \"\"}, \"colorscale\": [[0.0, \"#0d0887\"], [0.1111111111111111, \"#46039f\"], [0.2222222222222222, \"#7201a8\"], [0.3333333333333333, \"#9c179e\"], [0.4444444444444444, \"#bd3786\"], [0.5555555555555556, \"#d8576b\"], [0.6666666666666666, \"#ed7953\"], [0.7777777777777778, \"#fb9f3a\"], [0.8888888888888888, \"#fdca26\"], [1.0, \"#f0f921\"]], \"type\": \"histogram2d\"}], \"histogram2dcontour\": [{\"colorbar\": {\"outlinewidth\": 0, \"ticks\": \"\"}, \"colorscale\": [[0.0, \"#0d0887\"], [0.1111111111111111, \"#46039f\"], [0.2222222222222222, \"#7201a8\"], [0.3333333333333333, \"#9c179e\"], [0.4444444444444444, \"#bd3786\"], [0.5555555555555556, \"#d8576b\"], [0.6666666666666666, \"#ed7953\"], [0.7777777777777778, \"#fb9f3a\"], [0.8888888888888888, \"#fdca26\"], [1.0, \"#f0f921\"]], \"type\": \"histogram2dcontour\"}], \"mesh3d\": [{\"colorbar\": {\"outlinewidth\": 0, \"ticks\": \"\"}, \"type\": \"mesh3d\"}], \"parcoords\": [{\"line\": {\"colorbar\": {\"outlinewidth\": 0, \"ticks\": \"\"}}, \"type\": \"parcoords\"}], \"pie\": [{\"automargin\": true, \"type\": \"pie\"}], \"scatter\": [{\"marker\": {\"colorbar\": {\"outlinewidth\": 0, \"ticks\": \"\"}}, \"type\": \"scatter\"}], \"scatter3d\": [{\"line\": {\"colorbar\": {\"outlinewidth\": 0, \"ticks\": \"\"}}, \"marker\": {\"colorbar\": {\"outlinewidth\": 0, \"ticks\": \"\"}}, \"type\": \"scatter3d\"}], \"scattercarpet\": [{\"marker\": {\"colorbar\": {\"outlinewidth\": 0, \"ticks\": \"\"}}, \"type\": \"scattercarpet\"}], \"scattergeo\": [{\"marker\": {\"colorbar\": {\"outlinewidth\": 0, \"ticks\": \"\"}}, \"type\": \"scattergeo\"}], \"scattergl\": [{\"marker\": {\"colorbar\": {\"outlinewidth\": 0, \"ticks\": \"\"}}, \"type\": \"scattergl\"}], \"scattermapbox\": [{\"marker\": {\"colorbar\": {\"outlinewidth\": 0, \"ticks\": \"\"}}, \"type\": \"scattermapbox\"}], \"scatterpolar\": [{\"marker\": {\"colorbar\": {\"outlinewidth\": 0, \"ticks\": \"\"}}, \"type\": \"scatterpolar\"}], \"scatterpolargl\": [{\"marker\": {\"colorbar\": {\"outlinewidth\": 0, \"ticks\": \"\"}}, \"type\": \"scatterpolargl\"}], \"scatterternary\": [{\"marker\": {\"colorbar\": {\"outlinewidth\": 0, \"ticks\": \"\"}}, \"type\": \"scatterternary\"}], \"surface\": [{\"colorbar\": {\"outlinewidth\": 0, \"ticks\": \"\"}, \"colorscale\": [[0.0, \"#0d0887\"], [0.1111111111111111, \"#46039f\"], [0.2222222222222222, \"#7201a8\"], [0.3333333333333333, \"#9c179e\"], [0.4444444444444444, \"#bd3786\"], [0.5555555555555556, \"#d8576b\"], [0.6666666666666666, \"#ed7953\"], [0.7777777777777778, \"#fb9f3a\"], [0.8888888888888888, \"#fdca26\"], [1.0, \"#f0f921\"]], \"type\": \"surface\"}], \"table\": [{\"cells\": {\"fill\": {\"color\": \"#EBF0F8\"}, \"line\": {\"color\": \"white\"}}, \"header\": {\"fill\": {\"color\": \"#C8D4E3\"}, \"line\": {\"color\": \"white\"}}, \"type\": \"table\"}]}, \"layout\": {\"annotationdefaults\": {\"arrowcolor\": \"#2a3f5f\", \"arrowhead\": 0, \"arrowwidth\": 1}, \"autotypenumbers\": \"strict\", \"coloraxis\": {\"colorbar\": {\"outlinewidth\": 0, \"ticks\": \"\"}}, \"colorscale\": {\"diverging\": [[0, \"#8e0152\"], [0.1, \"#c51b7d\"], [0.2, \"#de77ae\"], [0.3, \"#f1b6da\"], [0.4, \"#fde0ef\"], [0.5, \"#f7f7f7\"], [0.6, \"#e6f5d0\"], [0.7, \"#b8e186\"], [0.8, \"#7fbc41\"], [0.9, \"#4d9221\"], [1, \"#276419\"]], \"sequential\": [[0.0, \"#0d0887\"], [0.1111111111111111, \"#46039f\"], [0.2222222222222222, \"#7201a8\"], [0.3333333333333333, \"#9c179e\"], [0.4444444444444444, \"#bd3786\"], [0.5555555555555556, \"#d8576b\"], [0.6666666666666666, \"#ed7953\"], [0.7777777777777778, \"#fb9f3a\"], [0.8888888888888888, \"#fdca26\"], [1.0, \"#f0f921\"]], \"sequentialminus\": [[0.0, \"#0d0887\"], [0.1111111111111111, \"#46039f\"], [0.2222222222222222, \"#7201a8\"], [0.3333333333333333, \"#9c179e\"], [0.4444444444444444, \"#bd3786\"], [0.5555555555555556, \"#d8576b\"], [0.6666666666666666, \"#ed7953\"], [0.7777777777777778, \"#fb9f3a\"], [0.8888888888888888, \"#fdca26\"], [1.0, \"#f0f921\"]]}, \"colorway\": [\"#636efa\", \"#EF553B\", \"#00cc96\", \"#ab63fa\", \"#FFA15A\", \"#19d3f3\", \"#FF6692\", \"#B6E880\", \"#FF97FF\", \"#FECB52\"], \"font\": {\"color\": \"#2a3f5f\"}, \"geo\": {\"bgcolor\": \"white\", \"lakecolor\": \"white\", \"landcolor\": \"#E5ECF6\", \"showlakes\": true, \"showland\": true, \"subunitcolor\": \"white\"}, \"hoverlabel\": {\"align\": \"left\"}, \"hovermode\": \"closest\", \"mapbox\": {\"style\": \"light\"}, \"paper_bgcolor\": \"white\", \"plot_bgcolor\": \"#E5ECF6\", \"polar\": {\"angularaxis\": {\"gridcolor\": \"white\", \"linecolor\": \"white\", \"ticks\": \"\"}, \"bgcolor\": \"#E5ECF6\", \"radialaxis\": {\"gridcolor\": \"white\", \"linecolor\": \"white\", \"ticks\": \"\"}}, \"scene\": {\"xaxis\": {\"backgroundcolor\": \"#E5ECF6\", \"gridcolor\": \"white\", \"gridwidth\": 2, \"linecolor\": \"white\", \"showbackground\": true, \"ticks\": \"\", \"zerolinecolor\": \"white\"}, \"yaxis\": {\"backgroundcolor\": \"#E5ECF6\", \"gridcolor\": \"white\", \"gridwidth\": 2, \"linecolor\": \"white\", \"showbackground\": true, \"ticks\": \"\", \"zerolinecolor\": \"white\"}, \"zaxis\": {\"backgroundcolor\": \"#E5ECF6\", \"gridcolor\": \"white\", \"gridwidth\": 2, \"linecolor\": \"white\", \"showbackground\": true, \"ticks\": \"\", \"zerolinecolor\": \"white\"}}, \"shapedefaults\": {\"line\": {\"color\": \"#2a3f5f\"}}, \"ternary\": {\"aaxis\": {\"gridcolor\": \"white\", \"linecolor\": \"white\", \"ticks\": \"\"}, \"baxis\": {\"gridcolor\": \"white\", \"linecolor\": \"white\", \"ticks\": \"\"}, \"bgcolor\": \"#E5ECF6\", \"caxis\": {\"gridcolor\": \"white\", \"linecolor\": \"white\", \"ticks\": \"\"}}, \"title\": {\"x\": 0.05}, \"xaxis\": {\"automargin\": true, \"gridcolor\": \"white\", \"linecolor\": \"white\", \"ticks\": \"\", \"title\": {\"standoff\": 15}, \"zerolinecolor\": \"white\", \"zerolinewidth\": 2}, \"yaxis\": {\"automargin\": true, \"gridcolor\": \"white\", \"linecolor\": \"white\", \"ticks\": \"\", \"title\": {\"standoff\": 15}, \"zerolinecolor\": \"white\", \"zerolinewidth\": 2}}}, \"title\": {\"text\": \"Cumulative Sum of Capture Frequencies\"}, \"xaxis\": {\"anchor\": \"y\", \"domain\": [0.0, 0.2888888888888889]}, \"xaxis2\": {\"anchor\": \"y2\", \"domain\": [0.35555555555555557, 0.6444444444444445]}, \"xaxis3\": {\"anchor\": \"y3\", \"domain\": [0.7111111111111111, 1.0]}, \"xaxis4\": {\"anchor\": \"y4\", \"domain\": [0.0, 0.2888888888888889]}, \"xaxis5\": {\"anchor\": \"y5\", \"domain\": [0.35555555555555557, 0.6444444444444445]}, \"xaxis6\": {\"anchor\": \"y6\", \"domain\": [0.7111111111111111, 1.0]}, \"yaxis\": {\"anchor\": \"x\", \"domain\": [0.625, 1.0]}, \"yaxis2\": {\"anchor\": \"x2\", \"domain\": [0.625, 1.0]}, \"yaxis3\": {\"anchor\": \"x3\", \"domain\": [0.625, 1.0]}, \"yaxis4\": {\"anchor\": \"x4\", \"domain\": [0.0, 0.375]}, \"yaxis5\": {\"anchor\": \"x5\", \"domain\": [0.0, 0.375]}, \"yaxis6\": {\"anchor\": \"x6\", \"domain\": [0.0, 0.375]}},                        {\"responsive\": true}                    ).then(function(){\n",
       "                            \n",
       "var gd = document.getElementById('2e0f0e45-ef5a-41b9-8b8e-7f293a2b0697');\n",
       "var x = new MutationObserver(function (mutations, observer) {{\n",
       "        var display = window.getComputedStyle(gd).display;\n",
       "        if (!display || display === 'none') {{\n",
       "            console.log([gd, 'removed!']);\n",
       "            Plotly.purge(gd);\n",
       "            observer.disconnect();\n",
       "        }}\n",
       "}});\n",
       "\n",
       "// Listen for the removal of the full notebook cells\n",
       "var notebookContainer = gd.closest('#notebook-container');\n",
       "if (notebookContainer) {{\n",
       "    x.observe(notebookContainer, {childList: true});\n",
       "}}\n",
       "\n",
       "// Listen for the clearing of the current output cell\n",
       "var outputEl = gd.closest('.output');\n",
       "if (outputEl) {{\n",
       "    x.observe(outputEl, {childList: true});\n",
       "}}\n",
       "\n",
       "                        })                };                });            </script>        </div>"
      ]
     },
     "metadata": {},
     "output_type": "display_data"
    }
   ],
   "source": [
    "new_fig.update_traces(showlegend=False)\n",
    "new_fig.update_traces(showlegend=True,\n",
    "                         row=1, col=1)"
   ]
  },
  {
   "cell_type": "code",
   "execution_count": 19,
   "id": "2ae0c091",
   "metadata": {},
   "outputs": [
    {
     "data": {
      "text/plain": [
       "([1.0, 1.0, 1.0, 1.0, 1.0, 1.0, 1.0, 1.0],\n",
       " [1.0, 1.0, 1.0, 1.0, 1.0, 1.0, 1.0, 1.0],\n",
       " [1.0, 1.0, 1.0, 1.0, 1.0, 1.0, 1.0, 1.0],\n",
       " [1.0, 1.0, 1.0, 1.0, 1.0, 1.0, 1.0, 1.0],\n",
       " [1.0, 1.0, 1.0, 1.0, 1.0, 1.0, 1.0, 1.0],\n",
       " [1.0, 1.0, 1.0, 1.0, 1.0, 1.0, 1.0, 1.0],\n",
       " [1.0, 1.0, 1.0, 1.0, 1.0, 1.0, 1.0, 1.0],\n",
       " [1.0, 1.0, 1.0, 1.0, 1.0, 1.0, 1.0, 1.0])"
      ]
     },
     "execution_count": 19,
     "metadata": {},
     "output_type": "execute_result"
    }
   ],
   "source": [
    "overall['z']"
   ]
  },
  {
   "cell_type": "code",
   "execution_count": null,
   "id": "15e89fa0",
   "metadata": {},
   "outputs": [],
   "source": []
  }
 ],
 "metadata": {
  "kernelspec": {
   "display_name": "Python 3 (ipykernel)",
   "language": "python",
   "name": "python3"
  },
  "language_info": {
   "codemirror_mode": {
    "name": "ipython",
    "version": 3
   },
   "file_extension": ".py",
   "mimetype": "text/x-python",
   "name": "python",
   "nbconvert_exporter": "python",
   "pygments_lexer": "ipython3",
   "version": "3.8.8"
  }
 },
 "nbformat": 4,
 "nbformat_minor": 5
}
