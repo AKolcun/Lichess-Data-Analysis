{
 "cells": [
  {
   "cell_type": "code",
   "execution_count": 1,
   "id": "26858a82",
   "metadata": {},
   "outputs": [],
   "source": [
    "import numpy as np\n",
    "import sqlite3 as sql\n",
    "import pandas as pd\n",
    "import json\n",
    "import matplotlib.pyplot as plt\n"
   ]
  },
  {
   "cell_type": "code",
   "execution_count": null,
   "id": "1a08c6c2",
   "metadata": {},
   "outputs": [],
   "source": [
    "conn = sql.connect(r'C:\\Users\\ajk51\\Desktop\\Lichess Analysis\\Lichess-Data-Analysis\\lichess game data.db')\n",
    "cur = conn.cursor()"
   ]
  },
  {
   "cell_type": "code",
   "execution_count": null,
   "id": "27e9b43c",
   "metadata": {},
   "outputs": [],
   "source": [
    "#Don't need to run. Leaving it in to show where data came from\n",
    "\n",
    "win_rate = [['Elo Difference', 'Wins', 'Game count','Win Pct']]\n",
    "\n",
    "win_rate.extend(cur.execute('''SELECT ROUND((white_elo - black_elo)/10)*10    AS bucket,\n",
    "       COUNT(CASE WHEN winner='white' THEN 1 END) as wins,\n",
    "\t   COUNT(game_id) AS games_count\n",
    "FROM   games_metadata\n",
    "GROUP  BY bucket;''').fetchall())\n",
    "\n",
    "index=1\n",
    "for entry in win_rate[1:]:\n",
    "    win_rate[index] = list(entry)+[entry[1]/entry[2]]\n",
    "    index +=1\n",
    "    \n",
    "save  = json.dumps(win_rate)\n",
    "with open('win rate by elo diff.txt', 'w') as new_file:\n",
    "    new_file.write(save)"
   ]
  },
  {
   "cell_type": "markdown",
   "id": "2c6f0025",
   "metadata": {},
   "source": [
    "# Start Here"
   ]
  },
  {
   "cell_type": "code",
   "execution_count": 2,
   "id": "cb9f0f4d",
   "metadata": {},
   "outputs": [],
   "source": [
    "with open('win rate by elo diff.txt', 'r') as file:\n",
    "    data = file.read()\n",
    "\n",
    "data = json.loads(data)\n",
    "data[0]\n",
    "data  = data[100:201]"
   ]
  },
  {
   "cell_type": "code",
   "execution_count": 106,
   "id": "07cb4397",
   "metadata": {
    "scrolled": true
   },
   "outputs": [],
   "source": [
    "check = np.array(data)\n",
    "\n",
    "a = np.ones(len(check))\n",
    "b = np.array(check[:, 0])\n",
    "\n",
    "X = np.column_stack((a,b))\n",
    "y = check[:,3]\n",
    "theta = np.array([1,1])\n"
   ]
  },
  {
   "cell_type": "code",
   "execution_count": 110,
   "id": "0fa6c334",
   "metadata": {
    "scrolled": true
   },
   "outputs": [
    {
     "data": {
      "text/plain": [
       "[<matplotlib.lines.Line2D at 0x2a52add7ee0>]"
      ]
     },
     "execution_count": 110,
     "metadata": {},
     "output_type": "execute_result"
    },
    {
     "data": {
      "image/png": "[encoded data removed]",
      "text/plain": [
       "<Figure size 432x288 with 1 Axes>"
      ]
     },
     "metadata": {
      "needs_background": "light"
     },
     "output_type": "display_data"
    }
   ],
   "source": [
    "plt.scatter(b, y)\n",
    "#plt.plot(b, y_test) #This is used after best fint line is found"
   ]
  },
  {
   "cell_type": "code",
   "execution_count": 6,
   "id": "2e917adb",
   "metadata": {},
   "outputs": [],
   "source": [
    "def find_cost(x_array, y_vector, theta_array):\n",
    "    \"\"\"Calculates the cost of the fit line using sum of squares\"\"\"\n",
    "\n",
    "    m  = len(y_vector)\n",
    "    y_theo = np.matmul(x_array,  theta_array)\n",
    "    sq_diff = sum((y_theo - y_vector)**2)\n",
    "    cost = sq_diff / (2*m)\n",
    "    \n",
    "    #print(F'Cost function  = {cost}')\n",
    "    return cost"
   ]
  },
  {
   "cell_type": "code",
   "execution_count": 95,
   "id": "275e0f1e",
   "metadata": {},
   "outputs": [],
   "source": [
    "def gradient_descent(x_array, y_vector, theta_array, alpha=0.000022, iterations=1500):\n",
    "    '''Iteratively solves the cost function and adjusts theta values until cost function is \n",
    "    minimized'''\n",
    "    m = len(y_vector)\n",
    "    j_history = []\n",
    "    \n",
    "    j_history.append(find_cost(x_array, y_vector, theta_array))\n",
    "    for i in range(iterations):\n",
    "    \n",
    "        new_theta = np.array([0.0,0.0])\n",
    "\n",
    "        new_theta[0] = theta_array[0] - sum((np.matmul(x_array,  theta_array) - y_vector)*(alpha/m))\n",
    "        new_theta[1] = theta_array[1] - sum((np.matmul(x_array,  theta_array) - y_vector)*x_array[:,1])*(alpha/m)\n",
    "        \n",
    "        theta_array = new_theta\n",
    "\n",
    "        j_history.append(find_cost(x_array, y_vector, theta_array))\n",
    "        \n",
    "    return new_theta, j_history\n",
    "    \n",
    "    \n",
    "    \n",
    "    "
   ]
  },
  {
   "cell_type": "code",
   "execution_count": 107,
   "id": "5d7bb567",
   "metadata": {
    "scrolled": true
   },
   "outputs": [],
   "source": [
    "final_theta, final_j = gradient_descent(X, y, theta)"
   ]
  },
  {
   "cell_type": "code",
   "execution_count": 109,
   "id": "caf7e9f0",
   "metadata": {},
   "outputs": [],
   "source": [
    "y_test = []\n",
    "\n",
    "for x in range(len(b)):\n",
    "    y_test.append(b[x]*final_theta[1]+final_theta[0])"
   ]
  }
 ],
 "metadata": {
  "kernelspec": {
   "display_name": "Python 3 (ipykernel)",
   "language": "python",
   "name": "python3"
  },
  "language_info": {
   "codemirror_mode": {
    "name": "ipython",
    "version": 3
   },
   "file_extension": ".py",
   "mimetype": "text/x-python",
   "name": "python",
   "nbconvert_exporter": "python",
   "pygments_lexer": "ipython3",
   "version": "3.8.8"
  }
 },
 "nbformat": 4,
 "nbformat_minor": 5
}
